{
  "nbformat": 4,
  "nbformat_minor": 0,
  "metadata": {
    "colab": {
      "name": "Copy of LS_DS_411A_Decision_Trees.ipynb",
      "version": "0.3.2",
      "provenance": [],
      "collapsed_sections": [],
      "include_colab_link": true
    },
    "language_info": {
      "codemirror_mode": {
        "name": "ipython",
        "version": 3
      },
      "file_extension": ".py",
      "mimetype": "text/x-python",
      "name": "python",
      "nbconvert_exporter": "python",
      "pygments_lexer": "ipython3",
      "version": "3.7.1"
    },
    "kernelspec": {
      "display_name": "Python 3",
      "language": "python",
      "name": "python3"
    }
  },
  "cells": [
    {
      "cell_type": "markdown",
      "metadata": {
        "id": "view-in-github",
        "colab_type": "text"
      },
      "source": [
        "<a href=\"https://colab.research.google.com/github/danhorsley/DS-Unit-2-Sprint-2-Regression/blob/master/Copy_of_LS_DS_411A_Decision_Trees.ipynb\" target=\"_parent\"><img src=\"https://colab.research.google.com/assets/colab-badge.svg\" alt=\"Open In Colab\"/></a>"
      ]
    },
    {
      "cell_type": "markdown",
      "metadata": {
        "colab_type": "text",
        "id": "A0-sUApS7MIs"
      },
      "source": [
        "_Lambda School Data Science — Tree Ensembles_ \n",
        "\n",
        "# Decision Trees Assignment"
      ]
    },
    {
      "cell_type": "markdown",
      "metadata": {
        "id": "p4kgU0L67TT3",
        "colab_type": "text"
      },
      "source": [
        "## Part 1: House Price Regression\n",
        "\n",
        "Apply decision trees to the Ames housing dataset you've worked with this week!\n",
        "\n",
        "- Try multiple features\n",
        "- Try features you've engineered\n",
        "- Try different `max_depth` paramaters\n",
        "- What's the best Test Root Mean Squared Error you can get? *Share with your cohort on Slack!*\n",
        "- What's a cool visualization you can make? *Share with your cohort on Slack!*"
      ]
    },
    {
      "cell_type": "code",
      "metadata": {
        "id": "Zi1F3DLS7ruw",
        "colab_type": "code",
        "colab": {
          "base_uri": "https://localhost:8080/",
          "height": 262
        },
        "outputId": "1e3df306-7feb-4bc2-8089-e03a1c095f9a"
      },
      "source": [
        "#copying my code from last night for clean data set\n",
        "\n",
        "import pandas as pd\n",
        "import numpy as np\n",
        "df = pd.read_csv('https://raw.githubusercontent.com/ryanleeallred/datasets/master/Ames%20Housing%20Data/train.csv')\n",
        "#dropping ids and mapping quality to an order of numbers\n",
        "df=df.drop(['Id','MasVnrArea'],axis=1)\n",
        "qual_dict={'NA':-1,'Po':0,'Fa':1,'TA':2,'Gd':3,'Ex':4}\n",
        "cat_quals=['ExterQual','ExterCond','KitchenQual','BsmtQual','BsmtCond','GarageQual','GarageCond','HeatingQC','FireplaceQu']#,'Fence']\n",
        "for col in cat_quals:\n",
        "  df[col]=df[col].map(qual_dict)\n",
        "#new build category and renovated category using YrSold, 'YearBuilt', 'YearRemodAdd\n",
        "df['new_build']=np.where((df['YrSold']==df['YearBuilt']),1,0)\n",
        "df['reno']=np.where((df['YearBuilt']!=df['YearRemodAdd']),1,0)\n",
        "df['SF_per_room']=(df['1stFlrSF']+df['2ndFlrSF'])/df['TotRmsAbvGrd']\n",
        "df['bth_per_SF']=(df['BsmtFullBath']+0.5*df['BsmtHalfBath']+ df['FullBath']+0.5*df['HalfBath'])/df['GrLivArea']\n",
        "df['rel_lot_size']=df['LotArea']/df['GrLivArea'] \n",
        "df['fireplace_per_SF']=df['Fireplaces']/df['GrLivArea']\n",
        "#make a dictionary of urban density and use it to make new column\n",
        "density_dict=df.groupby('Neighborhood', as_index=False)['LotArea'].mean().set_index('Neighborhood').to_dict()['LotArea']\n",
        "df['urban_density']=df['Neighborhood'].map(density_dict)\n",
        "#same for area age\n",
        "age_dict=df.groupby('Neighborhood', as_index=False)['YearBuilt'].mean().set_index('Neighborhood').to_dict()['YearBuilt']\n",
        "df['area_age']=df['Neighborhood'].map(age_dict)\n",
        "#now an area quality dictionary\n",
        "area_qual_dict=df.groupby('Neighborhood', as_index=False)['OverallQual'].mean().set_index('Neighborhood').to_dict()['OverallQual']\n",
        "df['area_qual']=df['Neighborhood'].map(area_qual_dict)\n",
        "#noise polution list and check\n",
        "noise_high_list=['Artery','RRAn','RRAe']\n",
        "df['noisy']=np.where(df['Condition1'].isin(noise_high_list),1,0)\n",
        "df['ln_price'] = np.log(df['SalePrice'])\n",
        "df_coded=df.copy()\n",
        "for col in df_coded.columns:\n",
        "  if df_coded[col].dtype=='O':\n",
        "    df_coded[col] = pd.Categorical(df_coded[col])\n",
        "    df_coded[col] = df_coded[col].cat.codes\n",
        "    \n",
        "df_coded['LotFrontage']=df_coded['LotFrontage'].fillna(df_coded['LotFrontage'].mean())\n",
        "df_coded['FireplaceQu']=df_coded['FireplaceQu'].fillna(0)\n",
        "df_coded['GarageQual']=df_coded['GarageQual'].fillna(0)\n",
        "df_coded['GarageCond']=df_coded['GarageCond'].fillna(0)\n",
        "df_coded['BsmtQual']=df_coded['BsmtQual'].fillna(0)\n",
        "df_coded['BsmtCond']=df_coded['BsmtCond'].fillna(0)\n",
        "df_coded['GarageYrBlt']=np.where(df_coded['GarageYrBlt'].isna()==True,df_coded['YearBuilt'],df_coded['GarageYrBlt'])\n",
        "corr_list=[]\n",
        "for col in df_coded.columns:\n",
        "  aaa=(col,df_coded['ln_price'].corr(df_coded[col]))\n",
        "  corr_list.append(aaa)\n",
        "  \n",
        "corr_list.sort(key=lambda x: x[1])\n",
        "lin_feats=[corr_list[-12:-2][i][0] for i in range(0,len(corr_list[-12:-2]))]\n",
        "additional_features=[corr_list[-22:-12][i][0] for i in range(0,len(corr_list[-22:-12]))]\n",
        "even_more_feats=[corr_list[-32:-22][i][0] for i in range(0,len(corr_list[-22:-12]))]\n",
        "poly_feats=[]\n",
        "for ft in (lin_feats+additional_features+even_more_feats):\n",
        "  name = f'{ft} **2'\n",
        "  df_coded[name]=df_coded[ft]**2\n",
        "  poly_feats.append(name)\n",
        "ft_list=['SalePrice','ln_price','FullBath', 'YearBuilt', 'Functional', 'ScreenPorch', 'HeatingQC **2', 'SaleCondition', 'OverallCond', 'BldgType', 'GrLivArea **2', 'BsmtCond', '2ndFlrSF', 'BsmtFinSF2', 'CentralAir', 'WoodDeckSF', 'OverallQual', 'FullBath **2', 'BsmtFinSF1', 'LowQualFinSF', '2ndFlrSF **2', 'Fireplaces', 'GarageQual', 'KitchenQual **2', '1stFlrSF', 'bth_per_SF', 'area_qual **2', 'GarageCars **2', 'KitchenQual', 'rel_lot_size']\n",
        "\n",
        "dff=df_coded[ft_list].copy()\n",
        "dff.head()"
      ],
      "execution_count": 1,
      "outputs": [
        {
          "output_type": "execute_result",
          "data": {
            "text/html": [
              "<div>\n",
              "<style scoped>\n",
              "    .dataframe tbody tr th:only-of-type {\n",
              "        vertical-align: middle;\n",
              "    }\n",
              "\n",
              "    .dataframe tbody tr th {\n",
              "        vertical-align: top;\n",
              "    }\n",
              "\n",
              "    .dataframe thead th {\n",
              "        text-align: right;\n",
              "    }\n",
              "</style>\n",
              "<table border=\"1\" class=\"dataframe\">\n",
              "  <thead>\n",
              "    <tr style=\"text-align: right;\">\n",
              "      <th></th>\n",
              "      <th>SalePrice</th>\n",
              "      <th>ln_price</th>\n",
              "      <th>FullBath</th>\n",
              "      <th>YearBuilt</th>\n",
              "      <th>Functional</th>\n",
              "      <th>ScreenPorch</th>\n",
              "      <th>HeatingQC **2</th>\n",
              "      <th>SaleCondition</th>\n",
              "      <th>OverallCond</th>\n",
              "      <th>BldgType</th>\n",
              "      <th>...</th>\n",
              "      <th>2ndFlrSF **2</th>\n",
              "      <th>Fireplaces</th>\n",
              "      <th>GarageQual</th>\n",
              "      <th>KitchenQual **2</th>\n",
              "      <th>1stFlrSF</th>\n",
              "      <th>bth_per_SF</th>\n",
              "      <th>area_qual **2</th>\n",
              "      <th>GarageCars **2</th>\n",
              "      <th>KitchenQual</th>\n",
              "      <th>rel_lot_size</th>\n",
              "    </tr>\n",
              "  </thead>\n",
              "  <tbody>\n",
              "    <tr>\n",
              "      <th>0</th>\n",
              "      <td>208500</td>\n",
              "      <td>12.247694</td>\n",
              "      <td>2</td>\n",
              "      <td>2003</td>\n",
              "      <td>6</td>\n",
              "      <td>0</td>\n",
              "      <td>16</td>\n",
              "      <td>4</td>\n",
              "      <td>5</td>\n",
              "      <td>0</td>\n",
              "      <td>...</td>\n",
              "      <td>729316</td>\n",
              "      <td>0</td>\n",
              "      <td>2.0</td>\n",
              "      <td>9</td>\n",
              "      <td>856</td>\n",
              "      <td>0.002047</td>\n",
              "      <td>44.089600</td>\n",
              "      <td>4</td>\n",
              "      <td>3</td>\n",
              "      <td>4.941520</td>\n",
              "    </tr>\n",
              "    <tr>\n",
              "      <th>1</th>\n",
              "      <td>181500</td>\n",
              "      <td>12.109011</td>\n",
              "      <td>2</td>\n",
              "      <td>1976</td>\n",
              "      <td>6</td>\n",
              "      <td>0</td>\n",
              "      <td>16</td>\n",
              "      <td>4</td>\n",
              "      <td>8</td>\n",
              "      <td>0</td>\n",
              "      <td>...</td>\n",
              "      <td>0</td>\n",
              "      <td>1</td>\n",
              "      <td>2.0</td>\n",
              "      <td>4</td>\n",
              "      <td>1262</td>\n",
              "      <td>0.001981</td>\n",
              "      <td>45.256198</td>\n",
              "      <td>4</td>\n",
              "      <td>2</td>\n",
              "      <td>7.606973</td>\n",
              "    </tr>\n",
              "    <tr>\n",
              "      <th>2</th>\n",
              "      <td>223500</td>\n",
              "      <td>12.317167</td>\n",
              "      <td>2</td>\n",
              "      <td>2001</td>\n",
              "      <td>6</td>\n",
              "      <td>0</td>\n",
              "      <td>16</td>\n",
              "      <td>4</td>\n",
              "      <td>5</td>\n",
              "      <td>0</td>\n",
              "      <td>...</td>\n",
              "      <td>749956</td>\n",
              "      <td>1</td>\n",
              "      <td>2.0</td>\n",
              "      <td>9</td>\n",
              "      <td>920</td>\n",
              "      <td>0.001960</td>\n",
              "      <td>44.089600</td>\n",
              "      <td>4</td>\n",
              "      <td>3</td>\n",
              "      <td>6.298992</td>\n",
              "    </tr>\n",
              "    <tr>\n",
              "      <th>3</th>\n",
              "      <td>140000</td>\n",
              "      <td>11.849398</td>\n",
              "      <td>1</td>\n",
              "      <td>1915</td>\n",
              "      <td>6</td>\n",
              "      <td>0</td>\n",
              "      <td>9</td>\n",
              "      <td>0</td>\n",
              "      <td>5</td>\n",
              "      <td>0</td>\n",
              "      <td>...</td>\n",
              "      <td>571536</td>\n",
              "      <td>1</td>\n",
              "      <td>2.0</td>\n",
              "      <td>9</td>\n",
              "      <td>961</td>\n",
              "      <td>0.001165</td>\n",
              "      <td>39.369473</td>\n",
              "      <td>9</td>\n",
              "      <td>3</td>\n",
              "      <td>5.562027</td>\n",
              "    </tr>\n",
              "    <tr>\n",
              "      <th>4</th>\n",
              "      <td>250000</td>\n",
              "      <td>12.429216</td>\n",
              "      <td>2</td>\n",
              "      <td>2000</td>\n",
              "      <td>6</td>\n",
              "      <td>0</td>\n",
              "      <td>16</td>\n",
              "      <td>4</td>\n",
              "      <td>5</td>\n",
              "      <td>0</td>\n",
              "      <td>...</td>\n",
              "      <td>1108809</td>\n",
              "      <td>1</td>\n",
              "      <td>2.0</td>\n",
              "      <td>9</td>\n",
              "      <td>1145</td>\n",
              "      <td>0.001592</td>\n",
              "      <td>62.834622</td>\n",
              "      <td>9</td>\n",
              "      <td>3</td>\n",
              "      <td>6.487716</td>\n",
              "    </tr>\n",
              "  </tbody>\n",
              "</table>\n",
              "<p>5 rows × 30 columns</p>\n",
              "</div>"
            ],
            "text/plain": [
              "   SalePrice   ln_price  FullBath  YearBuilt  Functional  ScreenPorch  \\\n",
              "0     208500  12.247694         2       2003           6            0   \n",
              "1     181500  12.109011         2       1976           6            0   \n",
              "2     223500  12.317167         2       2001           6            0   \n",
              "3     140000  11.849398         1       1915           6            0   \n",
              "4     250000  12.429216         2       2000           6            0   \n",
              "\n",
              "   HeatingQC **2  SaleCondition  OverallCond  BldgType  ...  2ndFlrSF **2  \\\n",
              "0             16              4            5         0  ...        729316   \n",
              "1             16              4            8         0  ...             0   \n",
              "2             16              4            5         0  ...        749956   \n",
              "3              9              0            5         0  ...        571536   \n",
              "4             16              4            5         0  ...       1108809   \n",
              "\n",
              "   Fireplaces  GarageQual  KitchenQual **2  1stFlrSF  bth_per_SF  \\\n",
              "0           0         2.0                9       856    0.002047   \n",
              "1           1         2.0                4      1262    0.001981   \n",
              "2           1         2.0                9       920    0.001960   \n",
              "3           1         2.0                9       961    0.001165   \n",
              "4           1         2.0                9      1145    0.001592   \n",
              "\n",
              "   area_qual **2  GarageCars **2  KitchenQual  rel_lot_size  \n",
              "0      44.089600               4            3      4.941520  \n",
              "1      45.256198               4            2      7.606973  \n",
              "2      44.089600               4            3      6.298992  \n",
              "3      39.369473               9            3      5.562027  \n",
              "4      62.834622               9            3      6.487716  \n",
              "\n",
              "[5 rows x 30 columns]"
            ]
          },
          "metadata": {
            "tags": []
          },
          "execution_count": 1
        }
      ]
    },
    {
      "cell_type": "code",
      "metadata": {
        "id": "BJqrEaSM7-5B",
        "colab_type": "code",
        "colab": {}
      },
      "source": [
        "from sklearn.impute import SimpleImputer\n",
        "from sklearn.linear_model import LinearRegression\n",
        "from sklearn.metrics import r2_score\n",
        "from sklearn.model_selection import train_test_split\n",
        "from sklearn.tree import DecisionTreeClassifier, DecisionTreeRegressor, export_graphviz"
      ],
      "execution_count": 0,
      "outputs": []
    },
    {
      "cell_type": "code",
      "metadata": {
        "id": "1OeL9RFt8V9t",
        "colab_type": "code",
        "colab": {
          "base_uri": "https://localhost:8080/",
          "height": 134
        },
        "outputId": "9bbdea5e-6461-4132-8995-d9a990dcbb65"
      },
      "source": [
        "X = dff.copy().drop(['SalePrice','ln_price'],axis=1)\n",
        "y = dff['SalePrice']\n",
        "X_train, X_test, y_train, y_test = train_test_split(X, y, train_size=0.80, test_size=0.20, random_state=42)\n",
        "depth_range=[5,10,15,20,25,30,100]\n",
        "for depth in depth_range:\n",
        "  tree = DecisionTreeRegressor(max_depth=depth)\n",
        "  tree.fit(X_train, y_train)\n",
        "  y_pred=tree.predict(X_test)\n",
        "  print('Accuracy at max depth ',depth,'was ', tree.score(X_test, y_test))"
      ],
      "execution_count": 17,
      "outputs": [
        {
          "output_type": "stream",
          "text": [
            "Accuracy at max depth  5 was  0.7714936913646108\n",
            "Accuracy at max depth  10 was  0.7285219171863486\n",
            "Accuracy at max depth  15 was  0.735503947617907\n",
            "Accuracy at max depth  20 was  0.7952084626808907\n",
            "Accuracy at max depth  25 was  0.7450088796044672\n",
            "Accuracy at max depth  30 was  0.7857643248193276\n",
            "Accuracy at max depth  100 was  0.7911874668931284\n"
          ],
          "name": "stdout"
        }
      ]
    },
    {
      "cell_type": "code",
      "metadata": {
        "id": "v6TZjzXy_geR",
        "colab_type": "code",
        "colab": {
          "base_uri": "https://localhost:8080/",
          "height": 100
        },
        "outputId": "b3d8314c-adad-44fe-adfd-2cb0e6139d8a"
      },
      "source": [
        "#let's try on teh whole data set, not stripped down.  accuracy goes down on the test data after 15 max depth\n",
        "#depth 6,7,8 are teh best after a number of re runs\n",
        "X = df_coded.copy().drop(['SalePrice','ln_price'],axis=1)\n",
        "y = df_coded['SalePrice']\n",
        "X_train, X_test, y_train, y_test = train_test_split(X, y, train_size=0.80, test_size=0.20, random_state=42)\n",
        "depth_range=range(5,10)\n",
        "for depth in depth_range:\n",
        "  tree = DecisionTreeRegressor(max_depth=depth)\n",
        "  tree.fit(X_train, y_train)\n",
        "  y_pred=tree.predict(X_test)\n",
        "  print('Accuracy at max depth ',depth,'was ', tree.score(X_test, y_test))"
      ],
      "execution_count": 26,
      "outputs": [
        {
          "output_type": "stream",
          "text": [
            "Accuracy at max depth  5 was  0.8122097434094453\n",
            "Accuracy at max depth  6 was  0.8078509439144425\n",
            "Accuracy at max depth  7 was  0.7976966727576911\n",
            "Accuracy at max depth  8 was  0.8163227290873929\n",
            "Accuracy at max depth  9 was  0.7590649121188948\n"
          ],
          "name": "stdout"
        }
      ]
    },
    {
      "cell_type": "code",
      "metadata": {
        "id": "zgPAcWU7AteB",
        "colab_type": "code",
        "colab": {
          "base_uri": "https://localhost:8080/",
          "height": 422
        },
        "outputId": "c334f67d-9104-4a2a-d38c-3b3eb6f089f7"
      },
      "source": [
        "X = df_coded.copy().drop(['SalePrice','ln_price'],axis=1)\n",
        "y = df_coded['SalePrice']\n",
        "#y = df_coded['ln_price']\n",
        "X_train, X_test, y_train, y_test = train_test_split(X, y, train_size=0.80, test_size=0.20, random_state=42)\n",
        "tree = DecisionTreeRegressor(max_depth=8)\n",
        "tree.fit(X_train, y_train)\n",
        "y_pred=tree.predict(X_test)\n",
        "print('Accuracy at max depth ',8,'was ', tree.score(X_test, y_test))\n",
        "importances=pd.DataFrame(X.columns)\n",
        "importances.columns=['feature']\n",
        "importances['importance']=tree.feature_importances_\n",
        "importances=importances.sort_values(by='importance',ascending=False)\n",
        "importances[:12]\n",
        "#tree.feature_importances_"
      ],
      "execution_count": 63,
      "outputs": [
        {
          "output_type": "stream",
          "text": [
            "Accuracy at max depth  8 was  0.793659438265949\n"
          ],
          "name": "stdout"
        },
        {
          "output_type": "execute_result",
          "data": {
            "text/html": [
              "<div>\n",
              "<style scoped>\n",
              "    .dataframe tbody tr th:only-of-type {\n",
              "        vertical-align: middle;\n",
              "    }\n",
              "\n",
              "    .dataframe tbody tr th {\n",
              "        vertical-align: top;\n",
              "    }\n",
              "\n",
              "    .dataframe thead th {\n",
              "        text-align: right;\n",
              "    }\n",
              "</style>\n",
              "<table border=\"1\" class=\"dataframe\">\n",
              "  <thead>\n",
              "    <tr style=\"text-align: right;\">\n",
              "      <th></th>\n",
              "      <th>feature</th>\n",
              "      <th>importance</th>\n",
              "    </tr>\n",
              "  </thead>\n",
              "  <tbody>\n",
              "    <tr>\n",
              "      <th>97</th>\n",
              "      <td>OverallQual **2</td>\n",
              "      <td>0.539445</td>\n",
              "    </tr>\n",
              "    <tr>\n",
              "      <th>86</th>\n",
              "      <td>area_qual</td>\n",
              "      <td>0.122590</td>\n",
              "    </tr>\n",
              "    <tr>\n",
              "      <th>95</th>\n",
              "      <td>GrLivArea **2</td>\n",
              "      <td>0.065037</td>\n",
              "    </tr>\n",
              "    <tr>\n",
              "      <th>88</th>\n",
              "      <td>1stFlrSF **2</td>\n",
              "      <td>0.038882</td>\n",
              "    </tr>\n",
              "    <tr>\n",
              "      <th>44</th>\n",
              "      <td>GrLivArea</td>\n",
              "      <td>0.030228</td>\n",
              "    </tr>\n",
              "    <tr>\n",
              "      <th>109</th>\n",
              "      <td>2ndFlrSF **2</td>\n",
              "      <td>0.030034</td>\n",
              "    </tr>\n",
              "    <tr>\n",
              "      <th>36</th>\n",
              "      <td>TotalBsmtSF</td>\n",
              "      <td>0.020041</td>\n",
              "    </tr>\n",
              "    <tr>\n",
              "      <th>32</th>\n",
              "      <td>BsmtFinSF1</td>\n",
              "      <td>0.013771</td>\n",
              "    </tr>\n",
              "    <tr>\n",
              "      <th>11</th>\n",
              "      <td>Neighborhood</td>\n",
              "      <td>0.013155</td>\n",
              "    </tr>\n",
              "    <tr>\n",
              "      <th>106</th>\n",
              "      <td>YearBuilt **2</td>\n",
              "      <td>0.009877</td>\n",
              "    </tr>\n",
              "    <tr>\n",
              "      <th>102</th>\n",
              "      <td>YearRemodAdd **2</td>\n",
              "      <td>0.007431</td>\n",
              "    </tr>\n",
              "    <tr>\n",
              "      <th>74</th>\n",
              "      <td>MoSold</td>\n",
              "      <td>0.006863</td>\n",
              "    </tr>\n",
              "  </tbody>\n",
              "</table>\n",
              "</div>"
            ],
            "text/plain": [
              "              feature  importance\n",
              "97    OverallQual **2    0.539445\n",
              "86          area_qual    0.122590\n",
              "95      GrLivArea **2    0.065037\n",
              "88       1stFlrSF **2    0.038882\n",
              "44          GrLivArea    0.030228\n",
              "109      2ndFlrSF **2    0.030034\n",
              "36        TotalBsmtSF    0.020041\n",
              "32         BsmtFinSF1    0.013771\n",
              "11       Neighborhood    0.013155\n",
              "106     YearBuilt **2    0.009877\n",
              "102  YearRemodAdd **2    0.007431\n",
              "74             MoSold    0.006863"
            ]
          },
          "metadata": {
            "tags": []
          },
          "execution_count": 63
        }
      ]
    },
    {
      "cell_type": "code",
      "metadata": {
        "id": "_wrbifOeCeqm",
        "colab_type": "code",
        "colab": {
          "base_uri": "https://localhost:8080/",
          "height": 84
        },
        "outputId": "0df8ccf5-9d9f-420b-dc38-590882c9995a"
      },
      "source": [
        "from sklearn.metrics import mean_absolute_error, mean_squared_error, r2_score\n",
        "feats=list(importances['feature'][:5])\n",
        "X = df_coded[feats]\n",
        "y = df_coded['SalePrice']\n",
        "#y = df_coded['ln_price']\n",
        "X_train, X_test, y_train, y_test = train_test_split(X, y, train_size=0.80, test_size=0.20, random_state=42)\n",
        "depth_range=range(5,9)\n",
        "for depth in depth_range:\n",
        "  tree = DecisionTreeRegressor(max_depth=depth)\n",
        "  tree.fit(X_train, y_train)\n",
        "  y_pred=tree.predict(X_test)\n",
        "  print('Accuracy at max depth ',depth,'was ', tree.score(X_test, y_test), 'and rmse of ',(np.sqrt(mean_squared_error(y_test, y_pred))))\n",
        " # print('rmse = (np.sqrt(mean_squared_error(y_test, y_pred))))"
      ],
      "execution_count": 99,
      "outputs": [
        {
          "output_type": "stream",
          "text": [
            "Accuracy at max depth  5 was  0.8538894395754 and rmse of  33477.091581731045\n",
            "Accuracy at max depth  6 was  0.8599895360974187 and rmse of  32770.80912263834\n",
            "Accuracy at max depth  7 was  0.8579818677385268 and rmse of  33004.92996176398\n",
            "Accuracy at max depth  8 was  0.84053235203154 and rmse of  34973.83135161158\n"
          ],
          "name": "stdout"
        }
      ]
    },
    {
      "cell_type": "markdown",
      "metadata": {
        "colab_type": "text",
        "id": "kWm7mMlH9sl2"
      },
      "source": [
        "## Part 2 / Stretch: \"Play Tennis\" Classification"
      ]
    },
    {
      "cell_type": "markdown",
      "metadata": {
        "colab_type": "text",
        "id": "2f5-S87kg6gJ"
      },
      "source": [
        "We'll reproduce the \"Play Tennis\" example from Ross Quinlan's 1986 paper, [Induction of Decison Trees](https://link.springer.com/content/pdf/10.1007%2FBF00116251.pdf).\n",
        "\n",
        "[According to Wikipedia](https://en.wikipedia.org/wiki/Ross_Quinlan), \"John Ross Quinlan is a computer science researcher in data mining and decision theory. He has contributed extensively to the development of decision tree algorithms, including inventing the canonical C4.5 and ID3 algorithms.\""
      ]
    },
    {
      "cell_type": "markdown",
      "metadata": {
        "colab_type": "text",
        "id": "Qfv6Zwdoje7_"
      },
      "source": [
        "#### \"Table 1 shows a small training set\""
      ]
    },
    {
      "cell_type": "code",
      "metadata": {
        "colab_type": "code",
        "id": "oUE-G0pgg58u",
        "outputId": "e8a1c419-a61f-47ff-c12b-fef4638c2d75",
        "colab": {
          "base_uri": "https://localhost:8080/",
          "height": 494
        }
      },
      "source": [
        "import pandas as pd\n",
        "\n",
        "columns = 'No. Outlook Temperature Humidity Windy PlayTennis'.split()\n",
        "\n",
        "raw = \"\"\"1 sunny hot high false N\n",
        "2 sunny hot high true N\n",
        "3 overcast hot high false P\n",
        "4 rain mild high false P\n",
        "5 rain cool normal false P\n",
        "6 rain cool normal true N\n",
        "7 overcast cool normal true P\n",
        "8 sunny mild high false N\n",
        "9 sunny cool normal false P\n",
        "10 rain mild normal false P\n",
        "11 sunny mild normal true P\n",
        "12 overcast mild high true P\n",
        "13 overcast hot normal false P\n",
        "14 rain mild high true N\"\"\"\n",
        "\n",
        "data = [row.split() for row in raw.split('\\n')]\n",
        "tennis = pd.DataFrame(data=data, columns=columns).set_index('No.')\n",
        "tennis['PlayTennis'] = (tennis['PlayTennis'] == 'P').astype(int)\n",
        "\n",
        "tennis"
      ],
      "execution_count": 44,
      "outputs": [
        {
          "output_type": "execute_result",
          "data": {
            "text/html": [
              "<div>\n",
              "<style scoped>\n",
              "    .dataframe tbody tr th:only-of-type {\n",
              "        vertical-align: middle;\n",
              "    }\n",
              "\n",
              "    .dataframe tbody tr th {\n",
              "        vertical-align: top;\n",
              "    }\n",
              "\n",
              "    .dataframe thead th {\n",
              "        text-align: right;\n",
              "    }\n",
              "</style>\n",
              "<table border=\"1\" class=\"dataframe\">\n",
              "  <thead>\n",
              "    <tr style=\"text-align: right;\">\n",
              "      <th></th>\n",
              "      <th>Outlook</th>\n",
              "      <th>Temperature</th>\n",
              "      <th>Humidity</th>\n",
              "      <th>Windy</th>\n",
              "      <th>PlayTennis</th>\n",
              "    </tr>\n",
              "    <tr>\n",
              "      <th>No.</th>\n",
              "      <th></th>\n",
              "      <th></th>\n",
              "      <th></th>\n",
              "      <th></th>\n",
              "      <th></th>\n",
              "    </tr>\n",
              "  </thead>\n",
              "  <tbody>\n",
              "    <tr>\n",
              "      <th>1</th>\n",
              "      <td>sunny</td>\n",
              "      <td>hot</td>\n",
              "      <td>high</td>\n",
              "      <td>false</td>\n",
              "      <td>0</td>\n",
              "    </tr>\n",
              "    <tr>\n",
              "      <th>2</th>\n",
              "      <td>sunny</td>\n",
              "      <td>hot</td>\n",
              "      <td>high</td>\n",
              "      <td>true</td>\n",
              "      <td>0</td>\n",
              "    </tr>\n",
              "    <tr>\n",
              "      <th>3</th>\n",
              "      <td>overcast</td>\n",
              "      <td>hot</td>\n",
              "      <td>high</td>\n",
              "      <td>false</td>\n",
              "      <td>1</td>\n",
              "    </tr>\n",
              "    <tr>\n",
              "      <th>4</th>\n",
              "      <td>rain</td>\n",
              "      <td>mild</td>\n",
              "      <td>high</td>\n",
              "      <td>false</td>\n",
              "      <td>1</td>\n",
              "    </tr>\n",
              "    <tr>\n",
              "      <th>5</th>\n",
              "      <td>rain</td>\n",
              "      <td>cool</td>\n",
              "      <td>normal</td>\n",
              "      <td>false</td>\n",
              "      <td>1</td>\n",
              "    </tr>\n",
              "    <tr>\n",
              "      <th>6</th>\n",
              "      <td>rain</td>\n",
              "      <td>cool</td>\n",
              "      <td>normal</td>\n",
              "      <td>true</td>\n",
              "      <td>0</td>\n",
              "    </tr>\n",
              "    <tr>\n",
              "      <th>7</th>\n",
              "      <td>overcast</td>\n",
              "      <td>cool</td>\n",
              "      <td>normal</td>\n",
              "      <td>true</td>\n",
              "      <td>1</td>\n",
              "    </tr>\n",
              "    <tr>\n",
              "      <th>8</th>\n",
              "      <td>sunny</td>\n",
              "      <td>mild</td>\n",
              "      <td>high</td>\n",
              "      <td>false</td>\n",
              "      <td>0</td>\n",
              "    </tr>\n",
              "    <tr>\n",
              "      <th>9</th>\n",
              "      <td>sunny</td>\n",
              "      <td>cool</td>\n",
              "      <td>normal</td>\n",
              "      <td>false</td>\n",
              "      <td>1</td>\n",
              "    </tr>\n",
              "    <tr>\n",
              "      <th>10</th>\n",
              "      <td>rain</td>\n",
              "      <td>mild</td>\n",
              "      <td>normal</td>\n",
              "      <td>false</td>\n",
              "      <td>1</td>\n",
              "    </tr>\n",
              "    <tr>\n",
              "      <th>11</th>\n",
              "      <td>sunny</td>\n",
              "      <td>mild</td>\n",
              "      <td>normal</td>\n",
              "      <td>true</td>\n",
              "      <td>1</td>\n",
              "    </tr>\n",
              "    <tr>\n",
              "      <th>12</th>\n",
              "      <td>overcast</td>\n",
              "      <td>mild</td>\n",
              "      <td>high</td>\n",
              "      <td>true</td>\n",
              "      <td>1</td>\n",
              "    </tr>\n",
              "    <tr>\n",
              "      <th>13</th>\n",
              "      <td>overcast</td>\n",
              "      <td>hot</td>\n",
              "      <td>normal</td>\n",
              "      <td>false</td>\n",
              "      <td>1</td>\n",
              "    </tr>\n",
              "    <tr>\n",
              "      <th>14</th>\n",
              "      <td>rain</td>\n",
              "      <td>mild</td>\n",
              "      <td>high</td>\n",
              "      <td>true</td>\n",
              "      <td>0</td>\n",
              "    </tr>\n",
              "  </tbody>\n",
              "</table>\n",
              "</div>"
            ],
            "text/plain": [
              "      Outlook Temperature Humidity  Windy  PlayTennis\n",
              "No.                                                  \n",
              "1       sunny         hot     high  false           0\n",
              "2       sunny         hot     high   true           0\n",
              "3    overcast         hot     high  false           1\n",
              "4        rain        mild     high  false           1\n",
              "5        rain        cool   normal  false           1\n",
              "6        rain        cool   normal   true           0\n",
              "7    overcast        cool   normal   true           1\n",
              "8       sunny        mild     high  false           0\n",
              "9       sunny        cool   normal  false           1\n",
              "10       rain        mild   normal  false           1\n",
              "11      sunny        mild   normal   true           1\n",
              "12   overcast        mild     high   true           1\n",
              "13   overcast         hot   normal  false           1\n",
              "14       rain        mild     high   true           0"
            ]
          },
          "metadata": {
            "tags": []
          },
          "execution_count": 44
        }
      ]
    },
    {
      "cell_type": "markdown",
      "metadata": {
        "colab_type": "text",
        "id": "BvFu9kvJj9kk"
      },
      "source": [
        "#### \"A decision tree that correctly classifies each object in the training set is given in Figure 2.\"\n",
        "\n",
        "<img src=\"https://i.imgur.com/RD7d0u0.png\" height=\"300\">"
      ]
    },
    {
      "cell_type": "markdown",
      "metadata": {
        "colab_type": "text",
        "id": "kHkkeALqjNiS"
      },
      "source": [
        "In this dataset, the tennis player decided to play on 64% of the days, and decided not to on 36% of the days."
      ]
    },
    {
      "cell_type": "code",
      "metadata": {
        "colab_type": "code",
        "id": "qeLDinBihMDQ",
        "outputId": "011cde6b-df21-42ad-d41a-6bcf87925f0f",
        "colab": {
          "base_uri": "https://localhost:8080/",
          "height": 67
        }
      },
      "source": [
        "tennis['PlayTennis'].value_counts(normalize=True) * 100"
      ],
      "execution_count": 65,
      "outputs": [
        {
          "output_type": "execute_result",
          "data": {
            "text/plain": [
              "1    64.285714\n",
              "0    35.714286\n",
              "Name: PlayTennis, dtype: float64"
            ]
          },
          "metadata": {
            "tags": []
          },
          "execution_count": 65
        }
      ]
    },
    {
      "cell_type": "markdown",
      "metadata": {
        "colab_type": "text",
        "id": "Ype2-apnlaG2"
      },
      "source": [
        "The tennis player played on 100% of the overcast days, 40% of the sunny days, and 60% of the  rainy days"
      ]
    },
    {
      "cell_type": "code",
      "metadata": {
        "colab_type": "code",
        "id": "LfBMB0Soh58T",
        "outputId": "9d460e03-bebe-4394-b3f3-1d65f6f88303",
        "colab": {
          "base_uri": "https://localhost:8080/",
          "height": 100
        }
      },
      "source": [
        "tennis.groupby('Outlook')['PlayTennis'].mean() * 100"
      ],
      "execution_count": 66,
      "outputs": [
        {
          "output_type": "execute_result",
          "data": {
            "text/plain": [
              "Outlook\n",
              "overcast    100.0\n",
              "rain         60.0\n",
              "sunny        40.0\n",
              "Name: PlayTennis, dtype: float64"
            ]
          },
          "metadata": {
            "tags": []
          },
          "execution_count": 66
        }
      ]
    },
    {
      "cell_type": "markdown",
      "metadata": {
        "colab_type": "text",
        "id": "jx3-MFvalrQC"
      },
      "source": [
        "On sunny days, the tennis player's decision depends on the humidity. (The Outlook and Humidity features interact.)"
      ]
    },
    {
      "cell_type": "code",
      "metadata": {
        "colab_type": "code",
        "id": "FmVN7hwEiHE5",
        "outputId": "018044a2-16cb-43b6-cae3-57fb50ec7a03",
        "colab": {
          "base_uri": "https://localhost:8080/",
          "height": 84
        }
      },
      "source": [
        "sunny = tennis[tennis['Outlook']=='sunny']\n",
        "sunny.groupby('Humidity')['PlayTennis'].mean() * 100"
      ],
      "execution_count": 67,
      "outputs": [
        {
          "output_type": "execute_result",
          "data": {
            "text/plain": [
              "Humidity\n",
              "high        0\n",
              "normal    100\n",
              "Name: PlayTennis, dtype: int64"
            ]
          },
          "metadata": {
            "tags": []
          },
          "execution_count": 67
        }
      ]
    },
    {
      "cell_type": "markdown",
      "metadata": {
        "colab_type": "text",
        "id": "y0it0HsFl47M"
      },
      "source": [
        "On rainy days, the tennis player's decision depends on the wind. (The Outlook and Windy features interact.)"
      ]
    },
    {
      "cell_type": "code",
      "metadata": {
        "colab_type": "code",
        "id": "CeOd7rGeivJp",
        "outputId": "38009df2-45aa-472f-c5fd-e7400c0869b8",
        "colab": {
          "base_uri": "https://localhost:8080/",
          "height": 84
        }
      },
      "source": [
        "rainy = tennis[tennis['Outlook']=='rain']\n",
        "rainy.groupby('Windy')['PlayTennis'].mean() * 100"
      ],
      "execution_count": 68,
      "outputs": [
        {
          "output_type": "execute_result",
          "data": {
            "text/plain": [
              "Windy\n",
              "false    100\n",
              "true       0\n",
              "Name: PlayTennis, dtype: int64"
            ]
          },
          "metadata": {
            "tags": []
          },
          "execution_count": 68
        }
      ]
    },
    {
      "cell_type": "markdown",
      "metadata": {
        "id": "r2iuk7Kr7TVN",
        "colab_type": "text"
      },
      "source": [
        "#### Before modeling, we will [\"encode\" categorical variables, using pandas](https://pandas.pydata.org/pandas-docs/stable/user_guide/reshaping.html?highlight=get_dummies#computing-indicator-dummy-variables)"
      ]
    },
    {
      "cell_type": "code",
      "metadata": {
        "colab_type": "code",
        "id": "VCyn34nEi0nz",
        "outputId": "06d47492-0187-49ae-9f87-f4d59d642485",
        "colab": {
          "base_uri": "https://localhost:8080/",
          "height": 284
        }
      },
      "source": [
        "y = tennis['PlayTennis']\n",
        "X = pd.get_dummies(tennis.drop(columns='PlayTennis'))\n",
        "y"
      ],
      "execution_count": 75,
      "outputs": [
        {
          "output_type": "execute_result",
          "data": {
            "text/plain": [
              "No.\n",
              "1     0\n",
              "2     0\n",
              "3     1\n",
              "4     1\n",
              "5     1\n",
              "6     0\n",
              "7     1\n",
              "8     0\n",
              "9     1\n",
              "10    1\n",
              "11    1\n",
              "12    1\n",
              "13    1\n",
              "14    0\n",
              "Name: PlayTennis, dtype: int64"
            ]
          },
          "metadata": {
            "tags": []
          },
          "execution_count": 75
        }
      ]
    },
    {
      "cell_type": "markdown",
      "metadata": {
        "colab_type": "text",
        "id": "UvOkHk8o-h_r"
      },
      "source": [
        "## Train a Decision Tree Classifier\n",
        "Get a score of 100% (accuracy)\n",
        "\n",
        "https://scikit-learn.org/stable/modules/generated/sklearn.tree.DecisionTreeClassifier.html"
      ]
    },
    {
      "cell_type": "code",
      "metadata": {
        "id": "byCxBT127TVd",
        "colab_type": "code",
        "colab": {
          "base_uri": "https://localhost:8080/",
          "height": 134
        },
        "outputId": "da6b3eef-38f2-4290-dc21-cda1d314a171"
      },
      "source": [
        "y = tennis['PlayTennis']\n",
        "X = pd.get_dummies(tennis.drop(columns='PlayTennis'))\n",
        "X_train, X_test, y_train, y_test = train_test_split(X, y, train_size=0.80, test_size=0.20, random_state=52)\n",
        "depth_range=[1,2,3,4,5,6,7]\n",
        "for depth in depth_range:\n",
        "  clf = DecisionTreeClassifier(max_depth=depth)\n",
        "  clf.fit(X_train, y_train)\n",
        "  y_pred=clf.predict(X_test)\n",
        "  print('Accuracy at max depth ',depth,'was ', clf.score(X_test, y_test))"
      ],
      "execution_count": 89,
      "outputs": [
        {
          "output_type": "stream",
          "text": [
            "Accuracy at max depth  1 was  0.3333333333333333\n",
            "Accuracy at max depth  2 was  1.0\n",
            "Accuracy at max depth  3 was  0.6666666666666666\n",
            "Accuracy at max depth  4 was  1.0\n",
            "Accuracy at max depth  5 was  1.0\n",
            "Accuracy at max depth  6 was  1.0\n",
            "Accuracy at max depth  7 was  1.0\n"
          ],
          "name": "stdout"
        }
      ]
    },
    {
      "cell_type": "markdown",
      "metadata": {
        "colab_type": "text",
        "id": "9uNPrbfS-vzL"
      },
      "source": [
        "## Compare to Logistic Regression\n",
        "https://scikit-learn.org/stable/modules/generated/sklearn.linear_model.LogisticRegression.html"
      ]
    },
    {
      "cell_type": "code",
      "metadata": {
        "id": "97LYjC_N7TVo",
        "colab_type": "code",
        "colab": {
          "base_uri": "https://localhost:8080/",
          "height": 33
        },
        "outputId": "fcb5bc88-e967-4412-c1f6-6b15a3982723"
      },
      "source": [
        "from sklearn.linear_model import LogisticRegression\n",
        "X_train, X_test, y_train, y_test = train_test_split(X, y, train_size=0.70, test_size=0.30, random_state=42)\n",
        "logistic = LogisticRegression(solver='lbfgs')\n",
        "logistic.fit(X_train, y_train)\n",
        "print('Accuracy', tree.score(X_test, y_test))"
      ],
      "execution_count": 91,
      "outputs": [
        {
          "output_type": "stream",
          "text": [
            "Accuracy 1.0\n"
          ],
          "name": "stdout"
        }
      ]
    },
    {
      "cell_type": "markdown",
      "metadata": {
        "colab_type": "text",
        "id": "EwF0phe6-oR8"
      },
      "source": [
        "## Visualize the tree\n",
        "https://scikit-learn.org/stable/modules/generated/sklearn.tree.export_graphviz.html"
      ]
    },
    {
      "cell_type": "code",
      "metadata": {
        "id": "KVy3fiV37TVt",
        "colab_type": "code",
        "colab": {}
      },
      "source": [
        ""
      ],
      "execution_count": 0,
      "outputs": []
    }
  ]
}