{
  "nbformat": 4,
  "nbformat_minor": 0,
  "metadata": {
    "colab": {
      "name": "Copy of LS_DS_411A_Decision_Trees.ipynb",
      "version": "0.3.2",
      "provenance": [],
      "collapsed_sections": [],
      "include_colab_link": true
    },
    "language_info": {
      "codemirror_mode": {
        "name": "ipython",
        "version": 3
      },
      "file_extension": ".py",
      "mimetype": "text/x-python",
      "name": "python",
      "nbconvert_exporter": "python",
      "pygments_lexer": "ipython3",
      "version": "3.7.1"
    },
    "kernelspec": {
      "display_name": "Python 3",
      "language": "python",
      "name": "python3"
    }
  },
  "cells": [
    {
      "cell_type": "markdown",
      "metadata": {
        "id": "view-in-github",
        "colab_type": "text"
      },
      "source": [
        "<a href=\"https://colab.research.google.com/github/bkrant/DS-Unit-2-Sprint-2-Regression/blob/master/Copy_of_LS_DS_411A_Decision_Trees.ipynb\" target=\"_parent\"><img src=\"https://colab.research.google.com/assets/colab-badge.svg\" alt=\"Open In Colab\"/></a>"
      ]
    },
    {
      "cell_type": "markdown",
      "metadata": {
        "colab_type": "text",
        "id": "A0-sUApS7MIs"
      },
      "source": [
        "_Lambda School Data Science — Tree Ensembles_ \n",
        "\n",
        "# Decision Trees Assignment"
      ]
    },
    {
      "cell_type": "markdown",
      "metadata": {
        "id": "Qr-Dv6JkniUl",
        "colab_type": "text"
      },
      "source": [
        "## Part 1: House Price Regression\n",
        "\n",
        "Apply decision trees to the Ames housing dataset you've worked with this week!\n",
        "\n",
        "- Try multiple features\n",
        "- Try features you've engineered\n",
        "- Try different `max_depth` paramaters\n",
        "- What's the best Test Root Mean Squared Error you can get? *Share with your cohort on Slack!*\n",
        "- What's a cool visualization you can make? *Share with your cohort on Slack!*"
      ]
    },
    {
      "cell_type": "code",
      "metadata": {
        "id": "MrrQvLsXnp5s",
        "colab_type": "code",
        "colab": {}
      },
      "source": [
        "!pip install graphviz\n",
        "!apt-get install graphviz"
      ],
      "execution_count": 0,
      "outputs": []
    },
    {
      "cell_type": "code",
      "metadata": {
        "id": "qeQLtT_Pnpvn",
        "colab_type": "code",
        "colab": {}
      },
      "source": [
        "import graphviz\n",
        "from IPython.display import display\n",
        "from ipywidgets import interact\n",
        "import matplotlib.pyplot as plt\n",
        "from mpl_toolkits import mplot3d\n",
        "import numpy as np\n",
        "import pandas as pd\n",
        "import seaborn as sns\n",
        "from sklearn.impute import SimpleImputer\n",
        "from sklearn.linear_model import LinearRegression\n",
        "from sklearn.metrics import mean_absolute_error, mean_squared_error, r2_score\n",
        "from sklearn.model_selection import train_test_split\n",
        "from sklearn.tree import DecisionTreeClassifier, DecisionTreeRegressor, export_graphviz"
      ],
      "execution_count": 0,
      "outputs": []
    },
    {
      "cell_type": "code",
      "metadata": {
        "id": "tWRyzrJT67tY",
        "colab_type": "code",
        "outputId": "42fd559c-032e-4eae-f3d1-fed719ede216",
        "colab": {
          "base_uri": "https://localhost:8080/",
          "height": 173
        }
      },
      "source": [
        "df = pd.read_csv('https://raw.githubusercontent.com/ryanleeallred/datasets/master/Ames%20Housing%20Data/train.csv')\n",
        "df = df.drop(columns=['Id'])\n",
        "df['Ln_SalePrice'] = np.log(df['SalePrice'])\n",
        "print(df.shape)\n",
        "df.head(2)"
      ],
      "execution_count": 0,
      "outputs": [
        {
          "output_type": "stream",
          "text": [
            "(1460, 81)\n"
          ],
          "name": "stdout"
        },
        {
          "output_type": "execute_result",
          "data": {
            "text/html": [
              "<div>\n",
              "<style scoped>\n",
              "    .dataframe tbody tr th:only-of-type {\n",
              "        vertical-align: middle;\n",
              "    }\n",
              "\n",
              "    .dataframe tbody tr th {\n",
              "        vertical-align: top;\n",
              "    }\n",
              "\n",
              "    .dataframe thead th {\n",
              "        text-align: right;\n",
              "    }\n",
              "</style>\n",
              "<table border=\"1\" class=\"dataframe\">\n",
              "  <thead>\n",
              "    <tr style=\"text-align: right;\">\n",
              "      <th></th>\n",
              "      <th>MSSubClass</th>\n",
              "      <th>MSZoning</th>\n",
              "      <th>LotFrontage</th>\n",
              "      <th>LotArea</th>\n",
              "      <th>Street</th>\n",
              "      <th>Alley</th>\n",
              "      <th>LotShape</th>\n",
              "      <th>LandContour</th>\n",
              "      <th>Utilities</th>\n",
              "      <th>LotConfig</th>\n",
              "      <th>...</th>\n",
              "      <th>PoolQC</th>\n",
              "      <th>Fence</th>\n",
              "      <th>MiscFeature</th>\n",
              "      <th>MiscVal</th>\n",
              "      <th>MoSold</th>\n",
              "      <th>YrSold</th>\n",
              "      <th>SaleType</th>\n",
              "      <th>SaleCondition</th>\n",
              "      <th>SalePrice</th>\n",
              "      <th>Ln_SalePrice</th>\n",
              "    </tr>\n",
              "  </thead>\n",
              "  <tbody>\n",
              "    <tr>\n",
              "      <th>0</th>\n",
              "      <td>60</td>\n",
              "      <td>RL</td>\n",
              "      <td>65.0</td>\n",
              "      <td>8450</td>\n",
              "      <td>Pave</td>\n",
              "      <td>NaN</td>\n",
              "      <td>Reg</td>\n",
              "      <td>Lvl</td>\n",
              "      <td>AllPub</td>\n",
              "      <td>Inside</td>\n",
              "      <td>...</td>\n",
              "      <td>NaN</td>\n",
              "      <td>NaN</td>\n",
              "      <td>NaN</td>\n",
              "      <td>0</td>\n",
              "      <td>2</td>\n",
              "      <td>2008</td>\n",
              "      <td>WD</td>\n",
              "      <td>Normal</td>\n",
              "      <td>208500</td>\n",
              "      <td>12.247694</td>\n",
              "    </tr>\n",
              "    <tr>\n",
              "      <th>1</th>\n",
              "      <td>20</td>\n",
              "      <td>RL</td>\n",
              "      <td>80.0</td>\n",
              "      <td>9600</td>\n",
              "      <td>Pave</td>\n",
              "      <td>NaN</td>\n",
              "      <td>Reg</td>\n",
              "      <td>Lvl</td>\n",
              "      <td>AllPub</td>\n",
              "      <td>FR2</td>\n",
              "      <td>...</td>\n",
              "      <td>NaN</td>\n",
              "      <td>NaN</td>\n",
              "      <td>NaN</td>\n",
              "      <td>0</td>\n",
              "      <td>5</td>\n",
              "      <td>2007</td>\n",
              "      <td>WD</td>\n",
              "      <td>Normal</td>\n",
              "      <td>181500</td>\n",
              "      <td>12.109011</td>\n",
              "    </tr>\n",
              "  </tbody>\n",
              "</table>\n",
              "<p>2 rows × 81 columns</p>\n",
              "</div>"
            ],
            "text/plain": [
              "   MSSubClass MSZoning  LotFrontage  LotArea Street Alley LotShape  \\\n",
              "0          60       RL         65.0     8450   Pave   NaN      Reg   \n",
              "1          20       RL         80.0     9600   Pave   NaN      Reg   \n",
              "\n",
              "  LandContour Utilities LotConfig  ... PoolQC Fence MiscFeature MiscVal  \\\n",
              "0         Lvl    AllPub    Inside  ...    NaN   NaN         NaN       0   \n",
              "1         Lvl    AllPub       FR2  ...    NaN   NaN         NaN       0   \n",
              "\n",
              "  MoSold YrSold  SaleType  SaleCondition  SalePrice  Ln_SalePrice  \n",
              "0      2   2008        WD         Normal     208500     12.247694  \n",
              "1      5   2007        WD         Normal     181500     12.109011  \n",
              "\n",
              "[2 rows x 81 columns]"
            ]
          },
          "metadata": {
            "tags": []
          },
          "execution_count": 3
        }
      ]
    },
    {
      "cell_type": "code",
      "metadata": {
        "id": "NILRWv-P7BaP",
        "colab_type": "code",
        "colab": {}
      },
      "source": [
        "df.LotFrontage = df.LotFrontage.fillna(np.mean(df.LotFrontage))\n",
        "df.MasVnrArea  = df.MasVnrArea.fillna(np.mean(df.MasVnrArea))\n",
        "df.GarageYrBlt = df.GarageYrBlt.fillna(np.mean(df.GarageYrBlt))"
      ],
      "execution_count": 0,
      "outputs": []
    },
    {
      "cell_type": "code",
      "metadata": {
        "id": "JWeq2Ru1BhAb",
        "colab_type": "code",
        "colab": {}
      },
      "source": [
        "def run_decisiontree_model(X, y, max_depth=1):\n",
        "    # Split into test and train data\n",
        "    X_train, X_test, y_train, y_test = train_test_split(X, y, train_size=0.80, test_size=0.20, random_state=42)\n",
        "\n",
        "    # Fit model using train data\n",
        "    model = DecisionTreeRegressor(max_depth=max_depth)\n",
        "    model.fit(X_train, y_train)\n",
        "\n",
        "    # Make predictions using test features\n",
        "    y_pred = model.predict(X_test)\n",
        "\n",
        "    # Compare predictions to test target\n",
        "    rmse = (np.sqrt(mean_squared_error(y_test, y_pred)))\n",
        "    r2 = r2_score(y_test, y_pred)\n",
        "\n",
        "    #print('Decision tree Test Root Mean Squared Error', rmse)\n",
        "    #print('Decision Tree Test R^2 Score', r2)\n",
        "    return rmse\n",
        "    \n",
        "def run_linear_model(X, y):\n",
        "    # Split into test and train data\n",
        "    X_train, X_test, y_train, y_test = train_test_split(X, y, train_size=0.80, test_size=0.20, random_state=42)\n",
        "\n",
        "    # Fit model using train data\n",
        "    model = LinearRegression()\n",
        "    model.fit(X_train, y_train)\n",
        "\n",
        "    # Make predictions using test features\n",
        "    y_pred = model.predict(X_test)\n",
        "\n",
        "    # Compare predictions to test target\n",
        "    rmse = (np.sqrt(mean_squared_error(y_test, y_pred)))\n",
        "    r2 = r2_score(y_test, y_pred)\n",
        "\n",
        "    print('OLS Test Root Mean Squared Error', rmse)\n",
        "    print('OLS Test R^2 Score', r2)"
      ],
      "execution_count": 0,
      "outputs": []
    },
    {
      "cell_type": "code",
      "metadata": {
        "id": "-QxUazh08w2W",
        "colab_type": "code",
        "outputId": "62785bed-e893-4079-9d5c-3705506a796d",
        "colab": {
          "base_uri": "https://localhost:8080/",
          "height": 50
        }
      },
      "source": [
        "target = 'Ln_SalePrice'\n",
        "features = ['LotFrontage', 'LotArea', 'OverallQual', 'YearBuilt', 'YearRemodAdd', 'MasVnrArea', \n",
        "            'BsmtFinSF1', 'TotalBsmtSF', '1stFlrSF', 'GrLivArea', 'FullBath', 'TotRmsAbvGrd', 'GarageCars']\n",
        "run_linear_model(df[features], df[target])"
      ],
      "execution_count": 0,
      "outputs": [
        {
          "output_type": "stream",
          "text": [
            "OLS Test Root Mean Squared Error 0.16547362585654327\n",
            "OLS Test R^2 Score 0.8532715040625406\n"
          ],
          "name": "stdout"
        }
      ]
    },
    {
      "cell_type": "code",
      "metadata": {
        "id": "CdVHnwl3_nho",
        "colab_type": "code",
        "colab": {}
      },
      "source": [
        "df['BsmtFinSF1_squared'] = df['BsmtFinSF1']**2"
      ],
      "execution_count": 0,
      "outputs": []
    },
    {
      "cell_type": "code",
      "metadata": {
        "id": "eWgciDrn_wZR",
        "colab_type": "code",
        "outputId": "d90fc848-fe5a-41b7-eac7-27eee990d735",
        "colab": {
          "base_uri": "https://localhost:8080/",
          "height": 50
        }
      },
      "source": [
        "target = 'Ln_SalePrice'\n",
        "features = ['LotFrontage', 'LotArea', 'OverallQual', 'YearBuilt', 'YearRemodAdd', 'MasVnrArea', \n",
        "            'BsmtFinSF1_squared', 'BsmtFinSF1', 'TotalBsmtSF', '1stFlrSF', 'GrLivArea', 'FullBath', 'TotRmsAbvGrd', 'GarageCars']\n",
        "run_linear_model(df[features], df[target])"
      ],
      "execution_count": 0,
      "outputs": [
        {
          "output_type": "stream",
          "text": [
            "OLS Test Root Mean Squared Error 0.1543475340020802\n",
            "OLS Test R^2 Score 0.8723395739161997\n"
          ],
          "name": "stdout"
        }
      ]
    },
    {
      "cell_type": "code",
      "metadata": {
        "id": "q1xb0CRt-lJ_",
        "colab_type": "code",
        "outputId": "f5d60004-7cc0-489a-8d29-ab8391f2e093",
        "colab": {
          "base_uri": "https://localhost:8080/",
          "height": 50
        }
      },
      "source": [
        "rmse = np.array([])\n",
        "for md in range(1,11):\n",
        "  rmse = np.append(rmse, run_decisiontree_model(df[features], df[target], max_depth=md) )\n",
        "rmse"
      ],
      "execution_count": 0,
      "outputs": [
        {
          "output_type": "execute_result",
          "data": {
            "text/plain": [
              "array([0.30746526, 0.26460593, 0.23329948, 0.21311657, 0.19725402,\n",
              "       0.19751337, 0.21716459, 0.21322608, 0.21846632, 0.21879964])"
            ]
          },
          "metadata": {
            "tags": []
          },
          "execution_count": 90
        }
      ]
    },
    {
      "cell_type": "code",
      "metadata": {
        "id": "H5klRTG7IzJW",
        "colab_type": "code",
        "outputId": "2f87a9d3-5cf3-424a-bec5-a20ad08e1c1f",
        "colab": {
          "base_uri": "https://localhost:8080/",
          "height": 33
        }
      },
      "source": [
        "rmse.argmin()+1"
      ],
      "execution_count": 0,
      "outputs": [
        {
          "output_type": "execute_result",
          "data": {
            "text/plain": [
              "5"
            ]
          },
          "metadata": {
            "tags": []
          },
          "execution_count": 91
        }
      ]
    },
    {
      "cell_type": "code",
      "metadata": {
        "id": "MEfWuYJQOi0A",
        "colab_type": "code",
        "outputId": "95412c0b-3dd0-4c38-a8fd-446ae519ef84",
        "colab": {
          "base_uri": "https://localhost:8080/",
          "height": 100
        }
      },
      "source": [
        "tree = DecisionTreeRegressor(max_depth=rmse.argmin()+1)\n",
        "tree.fit(df[features], df[target])"
      ],
      "execution_count": 0,
      "outputs": [
        {
          "output_type": "execute_result",
          "data": {
            "text/plain": [
              "DecisionTreeRegressor(criterion='mse', max_depth=5, max_features=None,\n",
              "           max_leaf_nodes=None, min_impurity_decrease=0.0,\n",
              "           min_impurity_split=None, min_samples_leaf=1,\n",
              "           min_samples_split=2, min_weight_fraction_leaf=0.0,\n",
              "           presort=False, random_state=None, splitter='best')"
            ]
          },
          "metadata": {
            "tags": []
          },
          "execution_count": 96
        }
      ]
    },
    {
      "cell_type": "code",
      "metadata": {
        "id": "Pe9V3hvOD_cy",
        "colab_type": "code",
        "colab": {}
      },
      "source": [
        "def viztree(decision_tree, feature_names):\n",
        "    \"\"\"Visualize a decision tree\"\"\"\n",
        "    dot_data = export_graphviz(decision_tree, out_file=None, feature_names=feature_names, \n",
        "                               filled=True, rounded=True)   \n",
        "    return graphviz.Source(dot_data)\n",
        "\n",
        "\n",
        "def viz3D(fitted_model, df, feature1, feature2, target='', num=100):\n",
        "    \"\"\"\n",
        "    Visualize model predictions in 3D, for regression or binary classification\n",
        "    \n",
        "    Parameters\n",
        "    ----------\n",
        "    fitted_model : scikit-learn model, already fitted\n",
        "    df : pandas dataframe, which was used to fit model\n",
        "    feature1 : string, name of feature 1\n",
        "    feature2 : string, name of feature 2\n",
        "    target : string, name of target\n",
        "    num : int, number of grid points for each feature\n",
        "    \n",
        "    References\n",
        "    ----------\n",
        "    https://jakevdp.github.io/PythonDataScienceHandbook/04.12-three-dimensional-plotting.html\n",
        "    https://scikit-learn.org/stable/auto_examples/tree/plot_iris.html  \n",
        "    \"\"\"\n",
        "    x1 = np.linspace(df[feature1].min(), df[feature1].max(), num)\n",
        "    x2 = np.linspace(df[feature2].min(), df[feature2].max(), num)\n",
        "    X1, X2 = np.meshgrid(x1, x2)\n",
        "    X = np.c_[X1.flatten(), X2.flatten()]\n",
        "    if hasattr(fitted_model, 'predict_proba'):\n",
        "        predicted = fitted_model.predict_proba(X)[:,1]\n",
        "    else:\n",
        "        predicted = fitted_model.predict(X)\n",
        "    Z = predicted.reshape(num, num)\n",
        "    \n",
        "    fig = plt.figure()\n",
        "    ax = plt.axes(projection='3d')\n",
        "    ax.plot_surface(X1, X2, Z, cmap='viridis')\n",
        "    ax.set_xlabel(feature1)\n",
        "    ax.set_ylabel(feature2)\n",
        "    ax.set_zlabel(target)\n",
        "    return fig"
      ],
      "execution_count": 0,
      "outputs": []
    },
    {
      "cell_type": "code",
      "metadata": {
        "id": "YZ_3DluYIqfY",
        "colab_type": "code",
        "outputId": "9aa86557-6c6d-4898-9426-b802fa0743a2",
        "colab": {
          "base_uri": "https://localhost:8080/",
          "height": 816
        }
      },
      "source": [
        "viztree(tree, feature_names=features)"
      ],
      "execution_count": 0,
      "outputs": [
        {
          "output_type": "execute_result",
          "data": {
            "text/plain": [
              "<graphviz.files.Source at 0x7f835290cd68>"
            ],
            "image/svg+xml": "<?xml version=\"1.0\" encoding=\"UTF-8\" standalone=\"no\"?>\n<!DOCTYPE svg PUBLIC \"-//W3C//DTD SVG 1.1//EN\"\n \"http://www.w3.org/Graphics/SVG/1.1/DTD/svg11.dtd\">\n<!-- Generated by graphviz version 2.40.1 (20161225.0304)\n -->\n<!-- Title: Tree Pages: 1 -->\n<svg width=\"4166pt\" height=\"581pt\"\n viewBox=\"0.00 0.00 4165.50 581.00\" xmlns=\"http://www.w3.org/2000/svg\" xmlns:xlink=\"http://www.w3.org/1999/xlink\">\n<g id=\"graph0\" class=\"graph\" transform=\"scale(1 1) rotate(0) translate(4 577)\">\n<title>Tree</title>\n<polygon fill=\"#ffffff\" stroke=\"transparent\" points=\"-4,4 -4,-577 4161.5,-577 4161.5,4 -4,4\"/>\n<!-- 0 -->\n<g id=\"node1\" class=\"node\">\n<title>0</title>\n<path fill=\"#e58139\" fill-opacity=\"0.407843\" stroke=\"#000000\" d=\"M2243.5,-573C2243.5,-573 2130.5,-573 2130.5,-573 2124.5,-573 2118.5,-567 2118.5,-561 2118.5,-561 2118.5,-517 2118.5,-517 2118.5,-511 2124.5,-505 2130.5,-505 2130.5,-505 2243.5,-505 2243.5,-505 2249.5,-505 2255.5,-511 2255.5,-517 2255.5,-517 2255.5,-561 2255.5,-561 2255.5,-567 2249.5,-573 2243.5,-573\"/>\n<text text-anchor=\"middle\" x=\"2187\" y=\"-557.8\" font-family=\"Helvetica,sans-Serif\" font-size=\"14.00\" fill=\"#000000\">OverallQual &lt;= 6.5</text>\n<text text-anchor=\"middle\" x=\"2187\" y=\"-542.8\" font-family=\"Helvetica,sans-Serif\" font-size=\"14.00\" fill=\"#000000\">mse = 0.159</text>\n<text text-anchor=\"middle\" x=\"2187\" y=\"-527.8\" font-family=\"Helvetica,sans-Serif\" font-size=\"14.00\" fill=\"#000000\">samples = 1460</text>\n<text text-anchor=\"middle\" x=\"2187\" y=\"-512.8\" font-family=\"Helvetica,sans-Serif\" font-size=\"14.00\" fill=\"#000000\">value = 12.024</text>\n</g>\n<!-- 1 -->\n<g id=\"node2\" class=\"node\">\n<title>1</title>\n<path fill=\"#e58139\" fill-opacity=\"0.305882\" stroke=\"#000000\" d=\"M1601.5,-469C1601.5,-469 1474.5,-469 1474.5,-469 1468.5,-469 1462.5,-463 1462.5,-457 1462.5,-457 1462.5,-413 1462.5,-413 1462.5,-407 1468.5,-401 1474.5,-401 1474.5,-401 1601.5,-401 1601.5,-401 1607.5,-401 1613.5,-407 1613.5,-413 1613.5,-413 1613.5,-457 1613.5,-457 1613.5,-463 1607.5,-469 1601.5,-469\"/>\n<text text-anchor=\"middle\" x=\"1538\" y=\"-453.8\" font-family=\"Helvetica,sans-Serif\" font-size=\"14.00\" fill=\"#000000\">GrLivArea &lt;= 1378.5</text>\n<text text-anchor=\"middle\" x=\"1538\" y=\"-438.8\" font-family=\"Helvetica,sans-Serif\" font-size=\"14.00\" fill=\"#000000\">mse = 0.082</text>\n<text text-anchor=\"middle\" x=\"1538\" y=\"-423.8\" font-family=\"Helvetica,sans-Serif\" font-size=\"14.00\" fill=\"#000000\">samples = 912</text>\n<text text-anchor=\"middle\" x=\"1538\" y=\"-408.8\" font-family=\"Helvetica,sans-Serif\" font-size=\"14.00\" fill=\"#000000\">value = 11.814</text>\n</g>\n<!-- 0&#45;&gt;1 -->\n<g id=\"edge1\" class=\"edge\">\n<title>0&#45;&gt;1</title>\n<path fill=\"none\" stroke=\"#000000\" d=\"M2118.4664,-528.0177C1999.2212,-508.9091 1753.8796,-469.594 1623.6263,-448.7213\"/>\n<polygon fill=\"#000000\" stroke=\"#000000\" points=\"1624.1127,-445.2547 1613.6848,-447.1282 1623.005,-452.1665 1624.1127,-445.2547\"/>\n<text text-anchor=\"middle\" x=\"1628.3427\" y=\"-463.6803\" font-family=\"Helvetica,sans-Serif\" font-size=\"14.00\" fill=\"#000000\">True</text>\n</g>\n<!-- 32 -->\n<g id=\"node33\" class=\"node\">\n<title>32</title>\n<path fill=\"#e58139\" fill-opacity=\"0.576471\" stroke=\"#000000\" d=\"M2621.5,-469C2621.5,-469 2508.5,-469 2508.5,-469 2502.5,-469 2496.5,-463 2496.5,-457 2496.5,-457 2496.5,-413 2496.5,-413 2496.5,-407 2502.5,-401 2508.5,-401 2508.5,-401 2621.5,-401 2621.5,-401 2627.5,-401 2633.5,-407 2633.5,-413 2633.5,-413 2633.5,-457 2633.5,-457 2633.5,-463 2627.5,-469 2621.5,-469\"/>\n<text text-anchor=\"middle\" x=\"2565\" y=\"-453.8\" font-family=\"Helvetica,sans-Serif\" font-size=\"14.00\" fill=\"#000000\">OverallQual &lt;= 7.5</text>\n<text text-anchor=\"middle\" x=\"2565\" y=\"-438.8\" font-family=\"Helvetica,sans-Serif\" font-size=\"14.00\" fill=\"#000000\">mse = 0.092</text>\n<text text-anchor=\"middle\" x=\"2565\" y=\"-423.8\" font-family=\"Helvetica,sans-Serif\" font-size=\"14.00\" fill=\"#000000\">samples = 548</text>\n<text text-anchor=\"middle\" x=\"2565\" y=\"-408.8\" font-family=\"Helvetica,sans-Serif\" font-size=\"14.00\" fill=\"#000000\">value = 12.374</text>\n</g>\n<!-- 0&#45;&gt;32 -->\n<g id=\"edge32\" class=\"edge\">\n<title>0&#45;&gt;32</title>\n<path fill=\"none\" stroke=\"#000000\" d=\"M2255.8915,-520.0457C2320.9414,-502.1484 2418.4033,-475.3335 2486.4451,-456.613\"/>\n<polygon fill=\"#000000\" stroke=\"#000000\" points=\"2487.55,-459.9391 2496.2632,-453.9117 2485.693,-453.1899 2487.55,-459.9391\"/>\n<text text-anchor=\"middle\" x=\"2483.9083\" y=\"-471.9455\" font-family=\"Helvetica,sans-Serif\" font-size=\"14.00\" fill=\"#000000\">False</text>\n</g>\n<!-- 2 -->\n<g id=\"node3\" class=\"node\">\n<title>2</title>\n<path fill=\"#e58139\" fill-opacity=\"0.250980\" stroke=\"#000000\" d=\"M836,-365C836,-365 700,-365 700,-365 694,-365 688,-359 688,-353 688,-353 688,-309 688,-309 688,-303 694,-297 700,-297 700,-297 836,-297 836,-297 842,-297 848,-303 848,-309 848,-309 848,-353 848,-353 848,-359 842,-365 836,-365\"/>\n<text text-anchor=\"middle\" x=\"768\" y=\"-349.8\" font-family=\"Helvetica,sans-Serif\" font-size=\"14.00\" fill=\"#000000\">TotalBsmtSF &lt;= 799.5</text>\n<text text-anchor=\"middle\" x=\"768\" y=\"-334.8\" font-family=\"Helvetica,sans-Serif\" font-size=\"14.00\" fill=\"#000000\">mse = 0.07</text>\n<text text-anchor=\"middle\" x=\"768\" y=\"-319.8\" font-family=\"Helvetica,sans-Serif\" font-size=\"14.00\" fill=\"#000000\">samples = 564</text>\n<text text-anchor=\"middle\" x=\"768\" y=\"-304.8\" font-family=\"Helvetica,sans-Serif\" font-size=\"14.00\" fill=\"#000000\">value = 11.704</text>\n</g>\n<!-- 1&#45;&gt;2 -->\n<g id=\"edge2\" class=\"edge\">\n<title>1&#45;&gt;2</title>\n<path fill=\"none\" stroke=\"#000000\" d=\"M1462.415,-424.7911C1319.8081,-405.5299 1011.6463,-363.9081 858.3694,-343.2057\"/>\n<polygon fill=\"#000000\" stroke=\"#000000\" points=\"858.4316,-339.6824 848.0531,-341.8124 857.4946,-346.6194 858.4316,-339.6824\"/>\n</g>\n<!-- 17 -->\n<g id=\"node18\" class=\"node\">\n<title>17</title>\n<path fill=\"#e58139\" fill-opacity=\"0.392157\" stroke=\"#000000\" d=\"M1596,-365C1596,-365 1480,-365 1480,-365 1474,-365 1468,-359 1468,-353 1468,-353 1468,-309 1468,-309 1468,-303 1474,-297 1480,-297 1480,-297 1596,-297 1596,-297 1602,-297 1608,-303 1608,-309 1608,-309 1608,-353 1608,-353 1608,-359 1602,-365 1596,-365\"/>\n<text text-anchor=\"middle\" x=\"1538\" y=\"-349.8\" font-family=\"Helvetica,sans-Serif\" font-size=\"14.00\" fill=\"#000000\">GarageCars &lt;= 1.5</text>\n<text text-anchor=\"middle\" x=\"1538\" y=\"-334.8\" font-family=\"Helvetica,sans-Serif\" font-size=\"14.00\" fill=\"#000000\">mse = 0.051</text>\n<text text-anchor=\"middle\" x=\"1538\" y=\"-319.8\" font-family=\"Helvetica,sans-Serif\" font-size=\"14.00\" fill=\"#000000\">samples = 348</text>\n<text text-anchor=\"middle\" x=\"1538\" y=\"-304.8\" font-family=\"Helvetica,sans-Serif\" font-size=\"14.00\" fill=\"#000000\">value = 11.992</text>\n</g>\n<!-- 1&#45;&gt;17 -->\n<g id=\"edge17\" class=\"edge\">\n<title>1&#45;&gt;17</title>\n<path fill=\"none\" stroke=\"#000000\" d=\"M1538,-400.9465C1538,-392.776 1538,-383.9318 1538,-375.3697\"/>\n<polygon fill=\"#000000\" stroke=\"#000000\" points=\"1541.5001,-375.13 1538,-365.13 1534.5001,-375.13 1541.5001,-375.13\"/>\n</g>\n<!-- 3 -->\n<g id=\"node4\" class=\"node\">\n<title>3</title>\n<path fill=\"#e58139\" fill-opacity=\"0.160784\" stroke=\"#000000\" d=\"M448.5,-261C448.5,-261 335.5,-261 335.5,-261 329.5,-261 323.5,-255 323.5,-249 323.5,-249 323.5,-205 323.5,-205 323.5,-199 329.5,-193 335.5,-193 335.5,-193 448.5,-193 448.5,-193 454.5,-193 460.5,-199 460.5,-205 460.5,-205 460.5,-249 460.5,-249 460.5,-255 454.5,-261 448.5,-261\"/>\n<text text-anchor=\"middle\" x=\"392\" y=\"-245.8\" font-family=\"Helvetica,sans-Serif\" font-size=\"14.00\" fill=\"#000000\">OverallQual &lt;= 4.5</text>\n<text text-anchor=\"middle\" x=\"392\" y=\"-230.8\" font-family=\"Helvetica,sans-Serif\" font-size=\"14.00\" fill=\"#000000\">mse = 0.085</text>\n<text text-anchor=\"middle\" x=\"392\" y=\"-215.8\" font-family=\"Helvetica,sans-Serif\" font-size=\"14.00\" fill=\"#000000\">samples = 184</text>\n<text text-anchor=\"middle\" x=\"392\" y=\"-200.8\" font-family=\"Helvetica,sans-Serif\" font-size=\"14.00\" fill=\"#000000\">value = 11.51</text>\n</g>\n<!-- 2&#45;&gt;3 -->\n<g id=\"edge3\" class=\"edge\">\n<title>2&#45;&gt;3</title>\n<path fill=\"none\" stroke=\"#000000\" d=\"M687.7998,-308.817C623.7207,-291.093 534.4052,-266.3887 470.7192,-248.7734\"/>\n<polygon fill=\"#000000\" stroke=\"#000000\" points=\"471.297,-245.3019 460.7258,-246.0093 469.4309,-252.0485 471.297,-245.3019\"/>\n</g>\n<!-- 10 -->\n<g id=\"node11\" class=\"node\">\n<title>10</title>\n<path fill=\"#e58139\" fill-opacity=\"0.298039\" stroke=\"#000000\" d=\"M827.5,-261C827.5,-261 708.5,-261 708.5,-261 702.5,-261 696.5,-255 696.5,-249 696.5,-249 696.5,-205 696.5,-205 696.5,-199 702.5,-193 708.5,-193 708.5,-193 827.5,-193 827.5,-193 833.5,-193 839.5,-199 839.5,-205 839.5,-205 839.5,-249 839.5,-249 839.5,-255 833.5,-261 827.5,-261\"/>\n<text text-anchor=\"middle\" x=\"768\" y=\"-245.8\" font-family=\"Helvetica,sans-Serif\" font-size=\"14.00\" fill=\"#000000\">YearBuilt &lt;= 1947.5</text>\n<text text-anchor=\"middle\" x=\"768\" y=\"-230.8\" font-family=\"Helvetica,sans-Serif\" font-size=\"14.00\" fill=\"#000000\">mse = 0.035</text>\n<text text-anchor=\"middle\" x=\"768\" y=\"-215.8\" font-family=\"Helvetica,sans-Serif\" font-size=\"14.00\" fill=\"#000000\">samples = 380</text>\n<text text-anchor=\"middle\" x=\"768\" y=\"-200.8\" font-family=\"Helvetica,sans-Serif\" font-size=\"14.00\" fill=\"#000000\">value = 11.798</text>\n</g>\n<!-- 2&#45;&gt;10 -->\n<g id=\"edge10\" class=\"edge\">\n<title>2&#45;&gt;10</title>\n<path fill=\"none\" stroke=\"#000000\" d=\"M768,-296.9465C768,-288.776 768,-279.9318 768,-271.3697\"/>\n<polygon fill=\"#000000\" stroke=\"#000000\" points=\"771.5001,-271.13 768,-261.13 764.5001,-271.13 771.5001,-271.13\"/>\n</g>\n<!-- 4 -->\n<g id=\"node5\" class=\"node\">\n<title>4</title>\n<path fill=\"#e58139\" fill-opacity=\"0.070588\" stroke=\"#000000\" d=\"M238.5,-157C238.5,-157 119.5,-157 119.5,-157 113.5,-157 107.5,-151 107.5,-145 107.5,-145 107.5,-101 107.5,-101 107.5,-95 113.5,-89 119.5,-89 119.5,-89 238.5,-89 238.5,-89 244.5,-89 250.5,-95 250.5,-101 250.5,-101 250.5,-145 250.5,-145 250.5,-151 244.5,-157 238.5,-157\"/>\n<text text-anchor=\"middle\" x=\"179\" y=\"-141.8\" font-family=\"Helvetica,sans-Serif\" font-size=\"14.00\" fill=\"#000000\">GrLivArea &lt;= 978.0</text>\n<text text-anchor=\"middle\" x=\"179\" y=\"-126.8\" font-family=\"Helvetica,sans-Serif\" font-size=\"14.00\" fill=\"#000000\">mse = 0.103</text>\n<text text-anchor=\"middle\" x=\"179\" y=\"-111.8\" font-family=\"Helvetica,sans-Serif\" font-size=\"14.00\" fill=\"#000000\">samples = 68</text>\n<text text-anchor=\"middle\" x=\"179\" y=\"-96.8\" font-family=\"Helvetica,sans-Serif\" font-size=\"14.00\" fill=\"#000000\">value = 11.327</text>\n</g>\n<!-- 3&#45;&gt;4 -->\n<g id=\"edge4\" class=\"edge\">\n<title>3&#45;&gt;4</title>\n<path fill=\"none\" stroke=\"#000000\" d=\"M323.433,-193.5213C302.5761,-183.3376 279.4865,-172.0638 258,-161.5728\"/>\n<polygon fill=\"#000000\" stroke=\"#000000\" points=\"259.4226,-158.3725 248.9009,-157.13 256.3513,-164.6627 259.4226,-158.3725\"/>\n</g>\n<!-- 7 -->\n<g id=\"node8\" class=\"node\">\n<title>7</title>\n<path fill=\"#e58139\" fill-opacity=\"0.211765\" stroke=\"#000000\" d=\"M455.5,-157C455.5,-157 328.5,-157 328.5,-157 322.5,-157 316.5,-151 316.5,-145 316.5,-145 316.5,-101 316.5,-101 316.5,-95 322.5,-89 328.5,-89 328.5,-89 455.5,-89 455.5,-89 461.5,-89 467.5,-95 467.5,-101 467.5,-101 467.5,-145 467.5,-145 467.5,-151 461.5,-157 455.5,-157\"/>\n<text text-anchor=\"middle\" x=\"392\" y=\"-141.8\" font-family=\"Helvetica,sans-Serif\" font-size=\"14.00\" fill=\"#000000\">GrLivArea &lt;= 1193.0</text>\n<text text-anchor=\"middle\" x=\"392\" y=\"-126.8\" font-family=\"Helvetica,sans-Serif\" font-size=\"14.00\" fill=\"#000000\">mse = 0.043</text>\n<text text-anchor=\"middle\" x=\"392\" y=\"-111.8\" font-family=\"Helvetica,sans-Serif\" font-size=\"14.00\" fill=\"#000000\">samples = 116</text>\n<text text-anchor=\"middle\" x=\"392\" y=\"-96.8\" font-family=\"Helvetica,sans-Serif\" font-size=\"14.00\" fill=\"#000000\">value = 11.617</text>\n</g>\n<!-- 3&#45;&gt;7 -->\n<g id=\"edge7\" class=\"edge\">\n<title>3&#45;&gt;7</title>\n<path fill=\"none\" stroke=\"#000000\" d=\"M392,-192.9465C392,-184.776 392,-175.9318 392,-167.3697\"/>\n<polygon fill=\"#000000\" stroke=\"#000000\" points=\"395.5001,-167.13 392,-157.13 388.5001,-167.13 395.5001,-167.13\"/>\n</g>\n<!-- 5 -->\n<g id=\"node6\" class=\"node\">\n<title>5</title>\n<path fill=\"transparent\" stroke=\"#000000\" d=\"M92,-53C92,-53 12,-53 12,-53 6,-53 0,-47 0,-41 0,-41 0,-12 0,-12 0,-6 6,0 12,0 12,0 92,0 92,0 98,0 104,-6 104,-12 104,-12 104,-41 104,-41 104,-47 98,-53 92,-53\"/>\n<text text-anchor=\"middle\" x=\"52\" y=\"-37.8\" font-family=\"Helvetica,sans-Serif\" font-size=\"14.00\" fill=\"#000000\">mse = 0.103</text>\n<text text-anchor=\"middle\" x=\"52\" y=\"-22.8\" font-family=\"Helvetica,sans-Serif\" font-size=\"14.00\" fill=\"#000000\">samples = 34</text>\n<text text-anchor=\"middle\" x=\"52\" y=\"-7.8\" font-family=\"Helvetica,sans-Serif\" font-size=\"14.00\" fill=\"#000000\">value = 11.18</text>\n</g>\n<!-- 4&#45;&gt;5 -->\n<g id=\"edge5\" class=\"edge\">\n<title>4&#45;&gt;5</title>\n<path fill=\"none\" stroke=\"#000000\" d=\"M134.2246,-88.9777C121.5708,-79.3629 107.8277,-68.9203 95.2647,-59.3743\"/>\n<polygon fill=\"#000000\" stroke=\"#000000\" points=\"97.2824,-56.5118 87.2027,-53.2485 93.0474,-62.0853 97.2824,-56.5118\"/>\n</g>\n<!-- 6 -->\n<g id=\"node7\" class=\"node\">\n<title>6</title>\n<path fill=\"#e58139\" fill-opacity=\"0.141176\" stroke=\"#000000\" d=\"M223.5,-53C223.5,-53 134.5,-53 134.5,-53 128.5,-53 122.5,-47 122.5,-41 122.5,-41 122.5,-12 122.5,-12 122.5,-6 128.5,0 134.5,0 134.5,0 223.5,0 223.5,0 229.5,0 235.5,-6 235.5,-12 235.5,-12 235.5,-41 235.5,-41 235.5,-47 229.5,-53 223.5,-53\"/>\n<text text-anchor=\"middle\" x=\"179\" y=\"-37.8\" font-family=\"Helvetica,sans-Serif\" font-size=\"14.00\" fill=\"#000000\">mse = 0.061</text>\n<text text-anchor=\"middle\" x=\"179\" y=\"-22.8\" font-family=\"Helvetica,sans-Serif\" font-size=\"14.00\" fill=\"#000000\">samples = 34</text>\n<text text-anchor=\"middle\" x=\"179\" y=\"-7.8\" font-family=\"Helvetica,sans-Serif\" font-size=\"14.00\" fill=\"#000000\">value = 11.474</text>\n</g>\n<!-- 4&#45;&gt;6 -->\n<g id=\"edge6\" class=\"edge\">\n<title>4&#45;&gt;6</title>\n<path fill=\"none\" stroke=\"#000000\" d=\"M179,-88.9777C179,-80.7364 179,-71.887 179,-63.5153\"/>\n<polygon fill=\"#000000\" stroke=\"#000000\" points=\"182.5001,-63.2484 179,-53.2485 175.5001,-63.2485 182.5001,-63.2484\"/>\n</g>\n<!-- 8 -->\n<g id=\"node9\" class=\"node\">\n<title>8</title>\n<path fill=\"#e58139\" fill-opacity=\"0.168627\" stroke=\"#000000\" d=\"M354.5,-53C354.5,-53 265.5,-53 265.5,-53 259.5,-53 253.5,-47 253.5,-41 253.5,-41 253.5,-12 253.5,-12 253.5,-6 259.5,0 265.5,0 265.5,0 354.5,0 354.5,0 360.5,0 366.5,-6 366.5,-12 366.5,-12 366.5,-41 366.5,-41 366.5,-47 360.5,-53 354.5,-53\"/>\n<text text-anchor=\"middle\" x=\"310\" y=\"-37.8\" font-family=\"Helvetica,sans-Serif\" font-size=\"14.00\" fill=\"#000000\">mse = 0.041</text>\n<text text-anchor=\"middle\" x=\"310\" y=\"-22.8\" font-family=\"Helvetica,sans-Serif\" font-size=\"14.00\" fill=\"#000000\">samples = 68</text>\n<text text-anchor=\"middle\" x=\"310\" y=\"-7.8\" font-family=\"Helvetica,sans-Serif\" font-size=\"14.00\" fill=\"#000000\">value = 11.532</text>\n</g>\n<!-- 7&#45;&gt;8 -->\n<g id=\"edge8\" class=\"edge\">\n<title>7&#45;&gt;8</title>\n<path fill=\"none\" stroke=\"#000000\" d=\"M363.0899,-88.9777C355.3866,-79.9123 347.0581,-70.111 339.3324,-61.0192\"/>\n<polygon fill=\"#000000\" stroke=\"#000000\" points=\"341.8718,-58.6025 332.7293,-53.2485 336.5375,-63.1352 341.8718,-58.6025\"/>\n</g>\n<!-- 9 -->\n<g id=\"node10\" class=\"node\">\n<title>9</title>\n<path fill=\"#e58139\" fill-opacity=\"0.270588\" stroke=\"#000000\" d=\"M485.5,-53C485.5,-53 396.5,-53 396.5,-53 390.5,-53 384.5,-47 384.5,-41 384.5,-41 384.5,-12 384.5,-12 384.5,-6 390.5,0 396.5,0 396.5,0 485.5,0 485.5,0 491.5,0 497.5,-6 497.5,-12 497.5,-12 497.5,-41 497.5,-41 497.5,-47 491.5,-53 485.5,-53\"/>\n<text text-anchor=\"middle\" x=\"441\" y=\"-37.8\" font-family=\"Helvetica,sans-Serif\" font-size=\"14.00\" fill=\"#000000\">mse = 0.021</text>\n<text text-anchor=\"middle\" x=\"441\" y=\"-22.8\" font-family=\"Helvetica,sans-Serif\" font-size=\"14.00\" fill=\"#000000\">samples = 48</text>\n<text text-anchor=\"middle\" x=\"441\" y=\"-7.8\" font-family=\"Helvetica,sans-Serif\" font-size=\"14.00\" fill=\"#000000\">value = 11.739</text>\n</g>\n<!-- 7&#45;&gt;9 -->\n<g id=\"edge9\" class=\"edge\">\n<title>7&#45;&gt;9</title>\n<path fill=\"none\" stroke=\"#000000\" d=\"M409.2756,-88.9777C413.6462,-80.3702 418.3538,-71.0992 422.77,-62.402\"/>\n<polygon fill=\"#000000\" stroke=\"#000000\" points=\"426.0111,-63.7495 427.4179,-53.2485 419.7696,-60.5802 426.0111,-63.7495\"/>\n</g>\n<!-- 11 -->\n<g id=\"node12\" class=\"node\">\n<title>11</title>\n<path fill=\"#e58139\" fill-opacity=\"0.188235\" stroke=\"#000000\" d=\"M746.5,-157C746.5,-157 633.5,-157 633.5,-157 627.5,-157 621.5,-151 621.5,-145 621.5,-145 621.5,-101 621.5,-101 621.5,-95 627.5,-89 633.5,-89 633.5,-89 746.5,-89 746.5,-89 752.5,-89 758.5,-95 758.5,-101 758.5,-101 758.5,-145 758.5,-145 758.5,-151 752.5,-157 746.5,-157\"/>\n<text text-anchor=\"middle\" x=\"690\" y=\"-141.8\" font-family=\"Helvetica,sans-Serif\" font-size=\"14.00\" fill=\"#000000\">OverallQual &lt;= 3.5</text>\n<text text-anchor=\"middle\" x=\"690\" y=\"-126.8\" font-family=\"Helvetica,sans-Serif\" font-size=\"14.00\" fill=\"#000000\">mse = 0.037</text>\n<text text-anchor=\"middle\" x=\"690\" y=\"-111.8\" font-family=\"Helvetica,sans-Serif\" font-size=\"14.00\" fill=\"#000000\">samples = 49</text>\n<text text-anchor=\"middle\" x=\"690\" y=\"-96.8\" font-family=\"Helvetica,sans-Serif\" font-size=\"14.00\" fill=\"#000000\">value = 11.573</text>\n</g>\n<!-- 10&#45;&gt;11 -->\n<g id=\"edge11\" class=\"edge\">\n<title>10&#45;&gt;11</title>\n<path fill=\"none\" stroke=\"#000000\" d=\"M742.4599,-192.9465C735.8607,-184.1475 728.6754,-174.5672 721.7995,-165.3993\"/>\n<polygon fill=\"#000000\" stroke=\"#000000\" points=\"724.3975,-163.03 715.5975,-157.13 718.7975,-167.23 724.3975,-163.03\"/>\n</g>\n<!-- 14 -->\n<g id=\"node15\" class=\"node\">\n<title>14</title>\n<path fill=\"#e58139\" fill-opacity=\"0.313725\" stroke=\"#000000\" d=\"M905,-157C905,-157 789,-157 789,-157 783,-157 777,-151 777,-145 777,-145 777,-101 777,-101 777,-95 783,-89 789,-89 789,-89 905,-89 905,-89 911,-89 917,-95 917,-101 917,-101 917,-145 917,-145 917,-151 911,-157 905,-157\"/>\n<text text-anchor=\"middle\" x=\"847\" y=\"-141.8\" font-family=\"Helvetica,sans-Serif\" font-size=\"14.00\" fill=\"#000000\">1stFlrSF &lt;= 1067.5</text>\n<text text-anchor=\"middle\" x=\"847\" y=\"-126.8\" font-family=\"Helvetica,sans-Serif\" font-size=\"14.00\" fill=\"#000000\">mse = 0.027</text>\n<text text-anchor=\"middle\" x=\"847\" y=\"-111.8\" font-family=\"Helvetica,sans-Serif\" font-size=\"14.00\" fill=\"#000000\">samples = 331</text>\n<text text-anchor=\"middle\" x=\"847\" y=\"-96.8\" font-family=\"Helvetica,sans-Serif\" font-size=\"14.00\" fill=\"#000000\">value = 11.831</text>\n</g>\n<!-- 10&#45;&gt;14 -->\n<g id=\"edge14\" class=\"edge\">\n<title>10&#45;&gt;14</title>\n<path fill=\"none\" stroke=\"#000000\" d=\"M793.8676,-192.9465C800.6196,-184.0578 807.9774,-174.3716 815.0059,-165.1188\"/>\n<polygon fill=\"#000000\" stroke=\"#000000\" points=\"817.8125,-167.2102 821.0743,-157.13 812.2383,-162.976 817.8125,-167.2102\"/>\n</g>\n<!-- 12 -->\n<g id=\"node13\" class=\"node\">\n<title>12</title>\n<path fill=\"#e58139\" fill-opacity=\"0.011765\" stroke=\"#000000\" d=\"M616.5,-53C616.5,-53 527.5,-53 527.5,-53 521.5,-53 515.5,-47 515.5,-41 515.5,-41 515.5,-12 515.5,-12 515.5,-6 521.5,0 527.5,0 527.5,0 616.5,0 616.5,0 622.5,0 628.5,-6 628.5,-12 628.5,-12 628.5,-41 628.5,-41 628.5,-47 622.5,-53 616.5,-53\"/>\n<text text-anchor=\"middle\" x=\"572\" y=\"-37.8\" font-family=\"Helvetica,sans-Serif\" font-size=\"14.00\" fill=\"#000000\">mse = 0.029</text>\n<text text-anchor=\"middle\" x=\"572\" y=\"-22.8\" font-family=\"Helvetica,sans-Serif\" font-size=\"14.00\" fill=\"#000000\">samples = 4</text>\n<text text-anchor=\"middle\" x=\"572\" y=\"-7.8\" font-family=\"Helvetica,sans-Serif\" font-size=\"14.00\" fill=\"#000000\">value = 11.203</text>\n</g>\n<!-- 11&#45;&gt;12 -->\n<g id=\"edge12\" class=\"edge\">\n<title>11&#45;&gt;12</title>\n<path fill=\"none\" stroke=\"#000000\" d=\"M648.3976,-88.9777C636.7526,-79.4545 624.1146,-69.1191 612.5325,-59.6473\"/>\n<polygon fill=\"#000000\" stroke=\"#000000\" points=\"614.6648,-56.8697 604.708,-53.2485 610.2333,-62.2885 614.6648,-56.8697\"/>\n</g>\n<!-- 13 -->\n<g id=\"node14\" class=\"node\">\n<title>13</title>\n<path fill=\"#e58139\" fill-opacity=\"0.203922\" stroke=\"#000000\" d=\"M747.5,-53C747.5,-53 658.5,-53 658.5,-53 652.5,-53 646.5,-47 646.5,-41 646.5,-41 646.5,-12 646.5,-12 646.5,-6 652.5,0 658.5,0 658.5,0 747.5,0 747.5,0 753.5,0 759.5,-6 759.5,-12 759.5,-12 759.5,-41 759.5,-41 759.5,-47 753.5,-53 747.5,-53\"/>\n<text text-anchor=\"middle\" x=\"703\" y=\"-37.8\" font-family=\"Helvetica,sans-Serif\" font-size=\"14.00\" fill=\"#000000\">mse = 0.024</text>\n<text text-anchor=\"middle\" x=\"703\" y=\"-22.8\" font-family=\"Helvetica,sans-Serif\" font-size=\"14.00\" fill=\"#000000\">samples = 45</text>\n<text text-anchor=\"middle\" x=\"703\" y=\"-7.8\" font-family=\"Helvetica,sans-Serif\" font-size=\"14.00\" fill=\"#000000\">value = 11.606</text>\n</g>\n<!-- 11&#45;&gt;13 -->\n<g id=\"edge13\" class=\"edge\">\n<title>11&#45;&gt;13</title>\n<path fill=\"none\" stroke=\"#000000\" d=\"M694.5833,-88.9777C695.7059,-80.6449 696.9122,-71.6903 698.051,-63.2364\"/>\n<polygon fill=\"#000000\" stroke=\"#000000\" points=\"701.5301,-63.6263 699.3966,-53.2485 694.5927,-62.6916 701.5301,-63.6263\"/>\n</g>\n<!-- 15 -->\n<g id=\"node16\" class=\"node\">\n<title>15</title>\n<path fill=\"#e58139\" fill-opacity=\"0.278431\" stroke=\"#000000\" d=\"M878.5,-53C878.5,-53 789.5,-53 789.5,-53 783.5,-53 777.5,-47 777.5,-41 777.5,-41 777.5,-12 777.5,-12 777.5,-6 783.5,0 789.5,0 789.5,0 878.5,0 878.5,0 884.5,0 890.5,-6 890.5,-12 890.5,-12 890.5,-41 890.5,-41 890.5,-47 884.5,-53 878.5,-53\"/>\n<text text-anchor=\"middle\" x=\"834\" y=\"-37.8\" font-family=\"Helvetica,sans-Serif\" font-size=\"14.00\" fill=\"#000000\">mse = 0.018</text>\n<text text-anchor=\"middle\" x=\"834\" y=\"-22.8\" font-family=\"Helvetica,sans-Serif\" font-size=\"14.00\" fill=\"#000000\">samples = 180</text>\n<text text-anchor=\"middle\" x=\"834\" y=\"-7.8\" font-family=\"Helvetica,sans-Serif\" font-size=\"14.00\" fill=\"#000000\">value = 11.762</text>\n</g>\n<!-- 14&#45;&gt;15 -->\n<g id=\"edge15\" class=\"edge\">\n<title>14&#45;&gt;15</title>\n<path fill=\"none\" stroke=\"#000000\" d=\"M842.4167,-88.9777C841.2941,-80.6449 840.0878,-71.6903 838.949,-63.2364\"/>\n<polygon fill=\"#000000\" stroke=\"#000000\" points=\"842.4073,-62.6916 837.6034,-53.2485 835.4699,-63.6263 842.4073,-62.6916\"/>\n</g>\n<!-- 16 -->\n<g id=\"node17\" class=\"node\">\n<title>16</title>\n<path fill=\"#e58139\" fill-opacity=\"0.352941\" stroke=\"#000000\" d=\"M1009.5,-53C1009.5,-53 920.5,-53 920.5,-53 914.5,-53 908.5,-47 908.5,-41 908.5,-41 908.5,-12 908.5,-12 908.5,-6 914.5,0 920.5,0 920.5,0 1009.5,0 1009.5,0 1015.5,0 1021.5,-6 1021.5,-12 1021.5,-12 1021.5,-41 1021.5,-41 1021.5,-47 1015.5,-53 1009.5,-53\"/>\n<text text-anchor=\"middle\" x=\"965\" y=\"-37.8\" font-family=\"Helvetica,sans-Serif\" font-size=\"14.00\" fill=\"#000000\">mse = 0.024</text>\n<text text-anchor=\"middle\" x=\"965\" y=\"-22.8\" font-family=\"Helvetica,sans-Serif\" font-size=\"14.00\" fill=\"#000000\">samples = 151</text>\n<text text-anchor=\"middle\" x=\"965\" y=\"-7.8\" font-family=\"Helvetica,sans-Serif\" font-size=\"14.00\" fill=\"#000000\">value = 11.914</text>\n</g>\n<!-- 14&#45;&gt;16 -->\n<g id=\"edge16\" class=\"edge\">\n<title>14&#45;&gt;16</title>\n<path fill=\"none\" stroke=\"#000000\" d=\"M888.6024,-88.9777C900.2474,-79.4545 912.8854,-69.1191 924.4675,-59.6473\"/>\n<polygon fill=\"#000000\" stroke=\"#000000\" points=\"926.7667,-62.2885 932.292,-53.2485 922.3352,-56.8697 926.7667,-62.2885\"/>\n</g>\n<!-- 18 -->\n<g id=\"node19\" class=\"node\">\n<title>18</title>\n<path fill=\"#e58139\" fill-opacity=\"0.313725\" stroke=\"#000000\" d=\"M1532,-261C1532,-261 1320,-261 1320,-261 1314,-261 1308,-255 1308,-249 1308,-249 1308,-205 1308,-205 1308,-199 1314,-193 1320,-193 1320,-193 1532,-193 1532,-193 1538,-193 1544,-199 1544,-205 1544,-205 1544,-249 1544,-249 1544,-255 1538,-261 1532,-261\"/>\n<text text-anchor=\"middle\" x=\"1426\" y=\"-245.8\" font-family=\"Helvetica,sans-Serif\" font-size=\"14.00\" fill=\"#000000\">BsmtFinSF1_squared &lt;= 20396.5</text>\n<text text-anchor=\"middle\" x=\"1426\" y=\"-230.8\" font-family=\"Helvetica,sans-Serif\" font-size=\"14.00\" fill=\"#000000\">mse = 0.042</text>\n<text text-anchor=\"middle\" x=\"1426\" y=\"-215.8\" font-family=\"Helvetica,sans-Serif\" font-size=\"14.00\" fill=\"#000000\">samples = 101</text>\n<text text-anchor=\"middle\" x=\"1426\" y=\"-200.8\" font-family=\"Helvetica,sans-Serif\" font-size=\"14.00\" fill=\"#000000\">value = 11.834</text>\n</g>\n<!-- 17&#45;&gt;18 -->\n<g id=\"edge18\" class=\"edge\">\n<title>17&#45;&gt;18</title>\n<path fill=\"none\" stroke=\"#000000\" d=\"M1501.327,-296.9465C1491.3677,-287.6986 1480.4789,-277.5876 1470.1532,-267.9994\"/>\n<polygon fill=\"#000000\" stroke=\"#000000\" points=\"1472.4649,-265.3698 1462.7554,-261.13 1467.7018,-270.4993 1472.4649,-265.3698\"/>\n</g>\n<!-- 25 -->\n<g id=\"node26\" class=\"node\">\n<title>25</title>\n<path fill=\"#e58139\" fill-opacity=\"0.423529\" stroke=\"#000000\" d=\"M1706.5,-261C1706.5,-261 1593.5,-261 1593.5,-261 1587.5,-261 1581.5,-255 1581.5,-249 1581.5,-249 1581.5,-205 1581.5,-205 1581.5,-199 1587.5,-193 1593.5,-193 1593.5,-193 1706.5,-193 1706.5,-193 1712.5,-193 1718.5,-199 1718.5,-205 1718.5,-205 1718.5,-249 1718.5,-249 1718.5,-255 1712.5,-261 1706.5,-261\"/>\n<text text-anchor=\"middle\" x=\"1650\" y=\"-245.8\" font-family=\"Helvetica,sans-Serif\" font-size=\"14.00\" fill=\"#000000\">OverallQual &lt;= 5.5</text>\n<text text-anchor=\"middle\" x=\"1650\" y=\"-230.8\" font-family=\"Helvetica,sans-Serif\" font-size=\"14.00\" fill=\"#000000\">mse = 0.04</text>\n<text text-anchor=\"middle\" x=\"1650\" y=\"-215.8\" font-family=\"Helvetica,sans-Serif\" font-size=\"14.00\" fill=\"#000000\">samples = 247</text>\n<text text-anchor=\"middle\" x=\"1650\" y=\"-200.8\" font-family=\"Helvetica,sans-Serif\" font-size=\"14.00\" fill=\"#000000\">value = 12.056</text>\n</g>\n<!-- 17&#45;&gt;25 -->\n<g id=\"edge25\" class=\"edge\">\n<title>17&#45;&gt;25</title>\n<path fill=\"none\" stroke=\"#000000\" d=\"M1574.673,-296.9465C1584.6323,-287.6986 1595.5211,-277.5876 1605.8468,-267.9994\"/>\n<polygon fill=\"#000000\" stroke=\"#000000\" points=\"1608.2982,-270.4993 1613.2446,-261.13 1603.5351,-265.3698 1608.2982,-270.4993\"/>\n</g>\n<!-- 19 -->\n<g id=\"node20\" class=\"node\">\n<title>19</title>\n<path fill=\"#e58139\" fill-opacity=\"0.262745\" stroke=\"#000000\" d=\"M1305,-157C1305,-157 1141,-157 1141,-157 1135,-157 1129,-151 1129,-145 1129,-145 1129,-101 1129,-101 1129,-95 1135,-89 1141,-89 1141,-89 1305,-89 1305,-89 1311,-89 1317,-95 1317,-101 1317,-101 1317,-145 1317,-145 1317,-151 1311,-157 1305,-157\"/>\n<text text-anchor=\"middle\" x=\"1223\" y=\"-141.8\" font-family=\"Helvetica,sans-Serif\" font-size=\"14.00\" fill=\"#000000\">YearRemodAdd &lt;= 1966.5</text>\n<text text-anchor=\"middle\" x=\"1223\" y=\"-126.8\" font-family=\"Helvetica,sans-Serif\" font-size=\"14.00\" fill=\"#000000\">mse = 0.031</text>\n<text text-anchor=\"middle\" x=\"1223\" y=\"-111.8\" font-family=\"Helvetica,sans-Serif\" font-size=\"14.00\" fill=\"#000000\">samples = 55</text>\n<text text-anchor=\"middle\" x=\"1223\" y=\"-96.8\" font-family=\"Helvetica,sans-Serif\" font-size=\"14.00\" fill=\"#000000\">value = 11.729</text>\n</g>\n<!-- 18&#45;&gt;19 -->\n<g id=\"edge19\" class=\"edge\">\n<title>18&#45;&gt;19</title>\n<path fill=\"none\" stroke=\"#000000\" d=\"M1359.5302,-192.9465C1340.077,-182.9803 1318.6671,-172.0117 1298.6866,-161.7754\"/>\n<polygon fill=\"#000000\" stroke=\"#000000\" points=\"1300.115,-158.5747 1289.6191,-157.13 1296.9233,-164.8047 1300.115,-158.5747\"/>\n</g>\n<!-- 22 -->\n<g id=\"node23\" class=\"node\">\n<title>22</title>\n<path fill=\"#e58139\" fill-opacity=\"0.376471\" stroke=\"#000000\" d=\"M1489.5,-157C1489.5,-157 1362.5,-157 1362.5,-157 1356.5,-157 1350.5,-151 1350.5,-145 1350.5,-145 1350.5,-101 1350.5,-101 1350.5,-95 1356.5,-89 1362.5,-89 1362.5,-89 1489.5,-89 1489.5,-89 1495.5,-89 1501.5,-95 1501.5,-101 1501.5,-101 1501.5,-145 1501.5,-145 1501.5,-151 1495.5,-157 1489.5,-157\"/>\n<text text-anchor=\"middle\" x=\"1426\" y=\"-141.8\" font-family=\"Helvetica,sans-Serif\" font-size=\"14.00\" fill=\"#000000\">GrLivArea &lt;= 1956.0</text>\n<text text-anchor=\"middle\" x=\"1426\" y=\"-126.8\" font-family=\"Helvetica,sans-Serif\" font-size=\"14.00\" fill=\"#000000\">mse = 0.025</text>\n<text text-anchor=\"middle\" x=\"1426\" y=\"-111.8\" font-family=\"Helvetica,sans-Serif\" font-size=\"14.00\" fill=\"#000000\">samples = 46</text>\n<text text-anchor=\"middle\" x=\"1426\" y=\"-96.8\" font-family=\"Helvetica,sans-Serif\" font-size=\"14.00\" fill=\"#000000\">value = 11.96</text>\n</g>\n<!-- 18&#45;&gt;22 -->\n<g id=\"edge22\" class=\"edge\">\n<title>18&#45;&gt;22</title>\n<path fill=\"none\" stroke=\"#000000\" d=\"M1426,-192.9465C1426,-184.776 1426,-175.9318 1426,-167.3697\"/>\n<polygon fill=\"#000000\" stroke=\"#000000\" points=\"1429.5001,-167.13 1426,-157.13 1422.5001,-167.13 1429.5001,-167.13\"/>\n</g>\n<!-- 20 -->\n<g id=\"node21\" class=\"node\">\n<title>20</title>\n<path fill=\"#e58139\" fill-opacity=\"0.231373\" stroke=\"#000000\" d=\"M1140.5,-53C1140.5,-53 1051.5,-53 1051.5,-53 1045.5,-53 1039.5,-47 1039.5,-41 1039.5,-41 1039.5,-12 1039.5,-12 1039.5,-6 1045.5,0 1051.5,0 1051.5,0 1140.5,0 1140.5,0 1146.5,0 1152.5,-6 1152.5,-12 1152.5,-12 1152.5,-41 1152.5,-41 1152.5,-47 1146.5,-53 1140.5,-53\"/>\n<text text-anchor=\"middle\" x=\"1096\" y=\"-37.8\" font-family=\"Helvetica,sans-Serif\" font-size=\"14.00\" fill=\"#000000\">mse = 0.027</text>\n<text text-anchor=\"middle\" x=\"1096\" y=\"-22.8\" font-family=\"Helvetica,sans-Serif\" font-size=\"14.00\" fill=\"#000000\">samples = 30</text>\n<text text-anchor=\"middle\" x=\"1096\" y=\"-7.8\" font-family=\"Helvetica,sans-Serif\" font-size=\"14.00\" fill=\"#000000\">value = 11.661</text>\n</g>\n<!-- 19&#45;&gt;20 -->\n<g id=\"edge20\" class=\"edge\">\n<title>19&#45;&gt;20</title>\n<path fill=\"none\" stroke=\"#000000\" d=\"M1178.2246,-88.9777C1165.5708,-79.3629 1151.8277,-68.9203 1139.2647,-59.3743\"/>\n<polygon fill=\"#000000\" stroke=\"#000000\" points=\"1141.2824,-56.5118 1131.2027,-53.2485 1137.0474,-62.0853 1141.2824,-56.5118\"/>\n</g>\n<!-- 21 -->\n<g id=\"node22\" class=\"node\">\n<title>21</title>\n<path fill=\"#e58139\" fill-opacity=\"0.301961\" stroke=\"#000000\" d=\"M1263,-53C1263,-53 1183,-53 1183,-53 1177,-53 1171,-47 1171,-41 1171,-41 1171,-12 1171,-12 1171,-6 1177,0 1183,0 1183,0 1263,0 1263,0 1269,0 1275,-6 1275,-12 1275,-12 1275,-41 1275,-41 1275,-47 1269,-53 1263,-53\"/>\n<text text-anchor=\"middle\" x=\"1223\" y=\"-37.8\" font-family=\"Helvetica,sans-Serif\" font-size=\"14.00\" fill=\"#000000\">mse = 0.025</text>\n<text text-anchor=\"middle\" x=\"1223\" y=\"-22.8\" font-family=\"Helvetica,sans-Serif\" font-size=\"14.00\" fill=\"#000000\">samples = 25</text>\n<text text-anchor=\"middle\" x=\"1223\" y=\"-7.8\" font-family=\"Helvetica,sans-Serif\" font-size=\"14.00\" fill=\"#000000\">value = 11.81</text>\n</g>\n<!-- 19&#45;&gt;21 -->\n<g id=\"edge21\" class=\"edge\">\n<title>19&#45;&gt;21</title>\n<path fill=\"none\" stroke=\"#000000\" d=\"M1223,-88.9777C1223,-80.7364 1223,-71.887 1223,-63.5153\"/>\n<polygon fill=\"#000000\" stroke=\"#000000\" points=\"1226.5001,-63.2484 1223,-53.2485 1219.5001,-63.2485 1226.5001,-63.2484\"/>\n</g>\n<!-- 23 -->\n<g id=\"node24\" class=\"node\">\n<title>23</title>\n<path fill=\"#e58139\" fill-opacity=\"0.356863\" stroke=\"#000000\" d=\"M1394.5,-53C1394.5,-53 1305.5,-53 1305.5,-53 1299.5,-53 1293.5,-47 1293.5,-41 1293.5,-41 1293.5,-12 1293.5,-12 1293.5,-6 1299.5,0 1305.5,0 1305.5,0 1394.5,0 1394.5,0 1400.5,0 1406.5,-6 1406.5,-12 1406.5,-12 1406.5,-41 1406.5,-41 1406.5,-47 1400.5,-53 1394.5,-53\"/>\n<text text-anchor=\"middle\" x=\"1350\" y=\"-37.8\" font-family=\"Helvetica,sans-Serif\" font-size=\"14.00\" fill=\"#000000\">mse = 0.013</text>\n<text text-anchor=\"middle\" x=\"1350\" y=\"-22.8\" font-family=\"Helvetica,sans-Serif\" font-size=\"14.00\" fill=\"#000000\">samples = 38</text>\n<text text-anchor=\"middle\" x=\"1350\" y=\"-7.8\" font-family=\"Helvetica,sans-Serif\" font-size=\"14.00\" fill=\"#000000\">value = 11.921</text>\n</g>\n<!-- 22&#45;&gt;23 -->\n<g id=\"edge23\" class=\"edge\">\n<title>22&#45;&gt;23</title>\n<path fill=\"none\" stroke=\"#000000\" d=\"M1399.2052,-88.9777C1392.1378,-80.0039 1384.5024,-70.3089 1377.4033,-61.295\"/>\n<polygon fill=\"#000000\" stroke=\"#000000\" points=\"1380.003,-58.9391 1371.0662,-53.2485 1374.5037,-63.2701 1380.003,-58.9391\"/>\n</g>\n<!-- 24 -->\n<g id=\"node25\" class=\"node\">\n<title>24</title>\n<path fill=\"#e58139\" fill-opacity=\"0.466667\" stroke=\"#000000\" d=\"M1525.5,-53C1525.5,-53 1436.5,-53 1436.5,-53 1430.5,-53 1424.5,-47 1424.5,-41 1424.5,-41 1424.5,-12 1424.5,-12 1424.5,-6 1430.5,0 1436.5,0 1436.5,0 1525.5,0 1525.5,0 1531.5,0 1537.5,-6 1537.5,-12 1537.5,-12 1537.5,-41 1537.5,-41 1537.5,-47 1531.5,-53 1525.5,-53\"/>\n<text text-anchor=\"middle\" x=\"1481\" y=\"-37.8\" font-family=\"Helvetica,sans-Serif\" font-size=\"14.00\" fill=\"#000000\">mse = 0.04</text>\n<text text-anchor=\"middle\" x=\"1481\" y=\"-22.8\" font-family=\"Helvetica,sans-Serif\" font-size=\"14.00\" fill=\"#000000\">samples = 8</text>\n<text text-anchor=\"middle\" x=\"1481\" y=\"-7.8\" font-family=\"Helvetica,sans-Serif\" font-size=\"14.00\" fill=\"#000000\">value = 12.148</text>\n</g>\n<!-- 22&#45;&gt;24 -->\n<g id=\"edge24\" class=\"edge\">\n<title>22&#45;&gt;24</title>\n<path fill=\"none\" stroke=\"#000000\" d=\"M1445.3909,-88.9777C1450.349,-80.2786 1455.6933,-70.9018 1460.6958,-62.1247\"/>\n<polygon fill=\"#000000\" stroke=\"#000000\" points=\"1463.8438,-63.6696 1465.7548,-53.2485 1457.7622,-60.2033 1463.8438,-63.6696\"/>\n</g>\n<!-- 26 -->\n<g id=\"node27\" class=\"node\">\n<title>26</title>\n<path fill=\"#e58139\" fill-opacity=\"0.360784\" stroke=\"#000000\" d=\"M1760,-157C1760,-157 1540,-157 1540,-157 1534,-157 1528,-151 1528,-145 1528,-145 1528,-101 1528,-101 1528,-95 1534,-89 1540,-89 1540,-89 1760,-89 1760,-89 1766,-89 1772,-95 1772,-101 1772,-101 1772,-145 1772,-145 1772,-151 1766,-157 1760,-157\"/>\n<text text-anchor=\"middle\" x=\"1650\" y=\"-141.8\" font-family=\"Helvetica,sans-Serif\" font-size=\"14.00\" fill=\"#000000\">BsmtFinSF1_squared &lt;= 194924.5</text>\n<text text-anchor=\"middle\" x=\"1650\" y=\"-126.8\" font-family=\"Helvetica,sans-Serif\" font-size=\"14.00\" fill=\"#000000\">mse = 0.045</text>\n<text text-anchor=\"middle\" x=\"1650\" y=\"-111.8\" font-family=\"Helvetica,sans-Serif\" font-size=\"14.00\" fill=\"#000000\">samples = 78</text>\n<text text-anchor=\"middle\" x=\"1650\" y=\"-96.8\" font-family=\"Helvetica,sans-Serif\" font-size=\"14.00\" fill=\"#000000\">value = 11.928</text>\n</g>\n<!-- 25&#45;&gt;26 -->\n<g id=\"edge26\" class=\"edge\">\n<title>25&#45;&gt;26</title>\n<path fill=\"none\" stroke=\"#000000\" d=\"M1650,-192.9465C1650,-184.776 1650,-175.9318 1650,-167.3697\"/>\n<polygon fill=\"#000000\" stroke=\"#000000\" points=\"1653.5001,-167.13 1650,-157.13 1646.5001,-167.13 1653.5001,-167.13\"/>\n</g>\n<!-- 29 -->\n<g id=\"node30\" class=\"node\">\n<title>29</title>\n<path fill=\"#e58139\" fill-opacity=\"0.450980\" stroke=\"#000000\" d=\"M1937.5,-157C1937.5,-157 1810.5,-157 1810.5,-157 1804.5,-157 1798.5,-151 1798.5,-145 1798.5,-145 1798.5,-101 1798.5,-101 1798.5,-95 1804.5,-89 1810.5,-89 1810.5,-89 1937.5,-89 1937.5,-89 1943.5,-89 1949.5,-95 1949.5,-101 1949.5,-101 1949.5,-145 1949.5,-145 1949.5,-151 1943.5,-157 1937.5,-157\"/>\n<text text-anchor=\"middle\" x=\"1874\" y=\"-141.8\" font-family=\"Helvetica,sans-Serif\" font-size=\"14.00\" fill=\"#000000\">GrLivArea &lt;= 1923.0</text>\n<text text-anchor=\"middle\" x=\"1874\" y=\"-126.8\" font-family=\"Helvetica,sans-Serif\" font-size=\"14.00\" fill=\"#000000\">mse = 0.027</text>\n<text text-anchor=\"middle\" x=\"1874\" y=\"-111.8\" font-family=\"Helvetica,sans-Serif\" font-size=\"14.00\" fill=\"#000000\">samples = 169</text>\n<text text-anchor=\"middle\" x=\"1874\" y=\"-96.8\" font-family=\"Helvetica,sans-Serif\" font-size=\"14.00\" fill=\"#000000\">value = 12.116</text>\n</g>\n<!-- 25&#45;&gt;29 -->\n<g id=\"edge29\" class=\"edge\">\n<title>25&#45;&gt;29</title>\n<path fill=\"none\" stroke=\"#000000\" d=\"M1718.7297,-195.0898C1741.7651,-184.3948 1767.6862,-172.36 1791.6547,-161.2318\"/>\n<polygon fill=\"#000000\" stroke=\"#000000\" points=\"1793.139,-164.4015 1800.7352,-157.0158 1790.1912,-158.0524 1793.139,-164.4015\"/>\n</g>\n<!-- 27 -->\n<g id=\"node28\" class=\"node\">\n<title>27</title>\n<path fill=\"#e58139\" fill-opacity=\"0.317647\" stroke=\"#000000\" d=\"M1656.5,-53C1656.5,-53 1567.5,-53 1567.5,-53 1561.5,-53 1555.5,-47 1555.5,-41 1555.5,-41 1555.5,-12 1555.5,-12 1555.5,-6 1561.5,0 1567.5,0 1567.5,0 1656.5,0 1656.5,0 1662.5,0 1668.5,-6 1668.5,-12 1668.5,-12 1668.5,-41 1668.5,-41 1668.5,-47 1662.5,-53 1656.5,-53\"/>\n<text text-anchor=\"middle\" x=\"1612\" y=\"-37.8\" font-family=\"Helvetica,sans-Serif\" font-size=\"14.00\" fill=\"#000000\">mse = 0.037</text>\n<text text-anchor=\"middle\" x=\"1612\" y=\"-22.8\" font-family=\"Helvetica,sans-Serif\" font-size=\"14.00\" fill=\"#000000\">samples = 43</text>\n<text text-anchor=\"middle\" x=\"1612\" y=\"-7.8\" font-family=\"Helvetica,sans-Serif\" font-size=\"14.00\" fill=\"#000000\">value = 11.836</text>\n</g>\n<!-- 26&#45;&gt;27 -->\n<g id=\"edge27\" class=\"edge\">\n<title>26&#45;&gt;27</title>\n<path fill=\"none\" stroke=\"#000000\" d=\"M1636.6026,-88.9777C1633.2492,-80.4617 1629.64,-71.2963 1626.247,-62.6798\"/>\n<polygon fill=\"#000000\" stroke=\"#000000\" points=\"1629.4537,-61.2707 1622.5331,-53.2485 1622.9405,-63.8355 1629.4537,-61.2707\"/>\n</g>\n<!-- 28 -->\n<g id=\"node29\" class=\"node\">\n<title>28</title>\n<path fill=\"#e58139\" fill-opacity=\"0.415686\" stroke=\"#000000\" d=\"M1787.5,-53C1787.5,-53 1698.5,-53 1698.5,-53 1692.5,-53 1686.5,-47 1686.5,-41 1686.5,-41 1686.5,-12 1686.5,-12 1686.5,-6 1692.5,0 1698.5,0 1698.5,0 1787.5,0 1787.5,0 1793.5,0 1799.5,-6 1799.5,-12 1799.5,-12 1799.5,-41 1799.5,-41 1799.5,-47 1793.5,-53 1787.5,-53\"/>\n<text text-anchor=\"middle\" x=\"1743\" y=\"-37.8\" font-family=\"Helvetica,sans-Serif\" font-size=\"14.00\" fill=\"#000000\">mse = 0.031</text>\n<text text-anchor=\"middle\" x=\"1743\" y=\"-22.8\" font-family=\"Helvetica,sans-Serif\" font-size=\"14.00\" fill=\"#000000\">samples = 35</text>\n<text text-anchor=\"middle\" x=\"1743\" y=\"-7.8\" font-family=\"Helvetica,sans-Serif\" font-size=\"14.00\" fill=\"#000000\">value = 12.041</text>\n</g>\n<!-- 26&#45;&gt;28 -->\n<g id=\"edge28\" class=\"edge\">\n<title>26&#45;&gt;28</title>\n<path fill=\"none\" stroke=\"#000000\" d=\"M1682.7883,-88.9777C1691.7014,-79.7292 1701.3527,-69.7147 1710.2629,-60.4691\"/>\n<polygon fill=\"#000000\" stroke=\"#000000\" points=\"1712.8025,-62.8777 1717.2217,-53.2485 1707.7622,-58.0202 1712.8025,-62.8777\"/>\n</g>\n<!-- 30 -->\n<g id=\"node31\" class=\"node\">\n<title>30</title>\n<path fill=\"#e58139\" fill-opacity=\"0.435294\" stroke=\"#000000\" d=\"M1918.5,-53C1918.5,-53 1829.5,-53 1829.5,-53 1823.5,-53 1817.5,-47 1817.5,-41 1817.5,-41 1817.5,-12 1817.5,-12 1817.5,-6 1823.5,0 1829.5,0 1829.5,0 1918.5,0 1918.5,0 1924.5,0 1930.5,-6 1930.5,-12 1930.5,-12 1930.5,-41 1930.5,-41 1930.5,-47 1924.5,-53 1918.5,-53\"/>\n<text text-anchor=\"middle\" x=\"1874\" y=\"-37.8\" font-family=\"Helvetica,sans-Serif\" font-size=\"14.00\" fill=\"#000000\">mse = 0.017</text>\n<text text-anchor=\"middle\" x=\"1874\" y=\"-22.8\" font-family=\"Helvetica,sans-Serif\" font-size=\"14.00\" fill=\"#000000\">samples = 133</text>\n<text text-anchor=\"middle\" x=\"1874\" y=\"-7.8\" font-family=\"Helvetica,sans-Serif\" font-size=\"14.00\" fill=\"#000000\">value = 12.082</text>\n</g>\n<!-- 29&#45;&gt;30 -->\n<g id=\"edge30\" class=\"edge\">\n<title>29&#45;&gt;30</title>\n<path fill=\"none\" stroke=\"#000000\" d=\"M1874,-88.9777C1874,-80.7364 1874,-71.887 1874,-63.5153\"/>\n<polygon fill=\"#000000\" stroke=\"#000000\" points=\"1877.5001,-63.2484 1874,-53.2485 1870.5001,-63.2485 1877.5001,-63.2484\"/>\n</g>\n<!-- 31 -->\n<g id=\"node32\" class=\"node\">\n<title>31</title>\n<path fill=\"#e58139\" fill-opacity=\"0.509804\" stroke=\"#000000\" d=\"M2049.5,-53C2049.5,-53 1960.5,-53 1960.5,-53 1954.5,-53 1948.5,-47 1948.5,-41 1948.5,-41 1948.5,-12 1948.5,-12 1948.5,-6 1954.5,0 1960.5,0 1960.5,0 2049.5,0 2049.5,0 2055.5,0 2061.5,-6 2061.5,-12 2061.5,-12 2061.5,-41 2061.5,-41 2061.5,-47 2055.5,-53 2049.5,-53\"/>\n<text text-anchor=\"middle\" x=\"2005\" y=\"-37.8\" font-family=\"Helvetica,sans-Serif\" font-size=\"14.00\" fill=\"#000000\">mse = 0.043</text>\n<text text-anchor=\"middle\" x=\"2005\" y=\"-22.8\" font-family=\"Helvetica,sans-Serif\" font-size=\"14.00\" fill=\"#000000\">samples = 36</text>\n<text text-anchor=\"middle\" x=\"2005\" y=\"-7.8\" font-family=\"Helvetica,sans-Serif\" font-size=\"14.00\" fill=\"#000000\">value = 12.238</text>\n</g>\n<!-- 29&#45;&gt;31 -->\n<g id=\"edge31\" class=\"edge\">\n<title>29&#45;&gt;31</title>\n<path fill=\"none\" stroke=\"#000000\" d=\"M1920.1857,-88.9777C1933.2379,-79.3629 1947.4139,-68.9203 1960.3727,-59.3743\"/>\n<polygon fill=\"#000000\" stroke=\"#000000\" points=\"1962.7131,-61.9974 1968.6886,-53.2485 1958.5614,-56.3615 1962.7131,-61.9974\"/>\n</g>\n<!-- 33 -->\n<g id=\"node34\" class=\"node\">\n<title>33</title>\n<path fill=\"#e58139\" fill-opacity=\"0.501961\" stroke=\"#000000\" d=\"M2628.5,-365C2628.5,-365 2501.5,-365 2501.5,-365 2495.5,-365 2489.5,-359 2489.5,-353 2489.5,-353 2489.5,-309 2489.5,-309 2489.5,-303 2495.5,-297 2501.5,-297 2501.5,-297 2628.5,-297 2628.5,-297 2634.5,-297 2640.5,-303 2640.5,-309 2640.5,-309 2640.5,-353 2640.5,-353 2640.5,-359 2634.5,-365 2628.5,-365\"/>\n<text text-anchor=\"middle\" x=\"2565\" y=\"-349.8\" font-family=\"Helvetica,sans-Serif\" font-size=\"14.00\" fill=\"#000000\">GrLivArea &lt;= 1822.0</text>\n<text text-anchor=\"middle\" x=\"2565\" y=\"-334.8\" font-family=\"Helvetica,sans-Serif\" font-size=\"14.00\" fill=\"#000000\">mse = 0.044</text>\n<text text-anchor=\"middle\" x=\"2565\" y=\"-319.8\" font-family=\"Helvetica,sans-Serif\" font-size=\"14.00\" fill=\"#000000\">samples = 319</text>\n<text text-anchor=\"middle\" x=\"2565\" y=\"-304.8\" font-family=\"Helvetica,sans-Serif\" font-size=\"14.00\" fill=\"#000000\">value = 12.222</text>\n</g>\n<!-- 32&#45;&gt;33 -->\n<g id=\"edge33\" class=\"edge\">\n<title>32&#45;&gt;33</title>\n<path fill=\"none\" stroke=\"#000000\" d=\"M2565,-400.9465C2565,-392.776 2565,-383.9318 2565,-375.3697\"/>\n<polygon fill=\"#000000\" stroke=\"#000000\" points=\"2568.5001,-375.13 2565,-365.13 2561.5001,-375.13 2568.5001,-375.13\"/>\n</g>\n<!-- 48 -->\n<g id=\"node49\" class=\"node\">\n<title>48</title>\n<path fill=\"#e58139\" fill-opacity=\"0.678431\" stroke=\"#000000\" d=\"M3437.5,-365C3437.5,-365 3324.5,-365 3324.5,-365 3318.5,-365 3312.5,-359 3312.5,-353 3312.5,-353 3312.5,-309 3312.5,-309 3312.5,-303 3318.5,-297 3324.5,-297 3324.5,-297 3437.5,-297 3437.5,-297 3443.5,-297 3449.5,-303 3449.5,-309 3449.5,-309 3449.5,-353 3449.5,-353 3449.5,-359 3443.5,-365 3437.5,-365\"/>\n<text text-anchor=\"middle\" x=\"3381\" y=\"-349.8\" font-family=\"Helvetica,sans-Serif\" font-size=\"14.00\" fill=\"#000000\">OverallQual &lt;= 8.5</text>\n<text text-anchor=\"middle\" x=\"3381\" y=\"-334.8\" font-family=\"Helvetica,sans-Serif\" font-size=\"14.00\" fill=\"#000000\">mse = 0.081</text>\n<text text-anchor=\"middle\" x=\"3381\" y=\"-319.8\" font-family=\"Helvetica,sans-Serif\" font-size=\"14.00\" fill=\"#000000\">samples = 229</text>\n<text text-anchor=\"middle\" x=\"3381\" y=\"-304.8\" font-family=\"Helvetica,sans-Serif\" font-size=\"14.00\" fill=\"#000000\">value = 12.586</text>\n</g>\n<!-- 32&#45;&gt;48 -->\n<g id=\"edge48\" class=\"edge\">\n<title>32&#45;&gt;48</title>\n<path fill=\"none\" stroke=\"#000000\" d=\"M2633.5179,-426.2673C2783.9577,-407.0936 3142.4278,-361.4063 3302.0198,-341.0661\"/>\n<polygon fill=\"#000000\" stroke=\"#000000\" points=\"3302.7627,-344.4998 3312.24,-339.7635 3301.8777,-337.556 3302.7627,-344.4998\"/>\n</g>\n<!-- 34 -->\n<g id=\"node35\" class=\"node\">\n<title>34</title>\n<path fill=\"#e58139\" fill-opacity=\"0.466667\" stroke=\"#000000\" d=\"M2563,-261C2563,-261 2419,-261 2419,-261 2413,-261 2407,-255 2407,-249 2407,-249 2407,-205 2407,-205 2407,-199 2413,-193 2419,-193 2419,-193 2563,-193 2563,-193 2569,-193 2575,-199 2575,-205 2575,-205 2575,-249 2575,-249 2575,-255 2569,-261 2563,-261\"/>\n<text text-anchor=\"middle\" x=\"2491\" y=\"-245.8\" font-family=\"Helvetica,sans-Serif\" font-size=\"14.00\" fill=\"#000000\">TotalBsmtSF &lt;= 1469.0</text>\n<text text-anchor=\"middle\" x=\"2491\" y=\"-230.8\" font-family=\"Helvetica,sans-Serif\" font-size=\"14.00\" fill=\"#000000\">mse = 0.032</text>\n<text text-anchor=\"middle\" x=\"2491\" y=\"-215.8\" font-family=\"Helvetica,sans-Serif\" font-size=\"14.00\" fill=\"#000000\">samples = 215</text>\n<text text-anchor=\"middle\" x=\"2491\" y=\"-200.8\" font-family=\"Helvetica,sans-Serif\" font-size=\"14.00\" fill=\"#000000\">value = 12.148</text>\n</g>\n<!-- 33&#45;&gt;34 -->\n<g id=\"edge34\" class=\"edge\">\n<title>33&#45;&gt;34</title>\n<path fill=\"none\" stroke=\"#000000\" d=\"M2540.7696,-296.9465C2534.5088,-288.1475 2527.692,-278.5672 2521.1687,-269.3993\"/>\n<polygon fill=\"#000000\" stroke=\"#000000\" points=\"2523.9342,-267.2488 2515.2848,-261.13 2518.2306,-271.3071 2523.9342,-267.2488\"/>\n</g>\n<!-- 41 -->\n<g id=\"node42\" class=\"node\">\n<title>41</title>\n<path fill=\"#e58139\" fill-opacity=\"0.576471\" stroke=\"#000000\" d=\"M2760,-261C2760,-261 2624,-261 2624,-261 2618,-261 2612,-255 2612,-249 2612,-249 2612,-205 2612,-205 2612,-199 2618,-193 2624,-193 2624,-193 2760,-193 2760,-193 2766,-193 2772,-199 2772,-205 2772,-205 2772,-249 2772,-249 2772,-255 2766,-261 2760,-261\"/>\n<text text-anchor=\"middle\" x=\"2692\" y=\"-245.8\" font-family=\"Helvetica,sans-Serif\" font-size=\"14.00\" fill=\"#000000\">TotalBsmtSF &lt;= 968.5</text>\n<text text-anchor=\"middle\" x=\"2692\" y=\"-230.8\" font-family=\"Helvetica,sans-Serif\" font-size=\"14.00\" fill=\"#000000\">mse = 0.036</text>\n<text text-anchor=\"middle\" x=\"2692\" y=\"-215.8\" font-family=\"Helvetica,sans-Serif\" font-size=\"14.00\" fill=\"#000000\">samples = 104</text>\n<text text-anchor=\"middle\" x=\"2692\" y=\"-200.8\" font-family=\"Helvetica,sans-Serif\" font-size=\"14.00\" fill=\"#000000\">value = 12.375</text>\n</g>\n<!-- 33&#45;&gt;41 -->\n<g id=\"edge41\" class=\"edge\">\n<title>33&#45;&gt;41</title>\n<path fill=\"none\" stroke=\"#000000\" d=\"M2606.5845,-296.9465C2617.9873,-287.6088 2630.4647,-277.3911 2642.2743,-267.7203\"/>\n<polygon fill=\"#000000\" stroke=\"#000000\" points=\"2644.8026,-270.1736 2650.322,-261.13 2640.3676,-264.7578 2644.8026,-270.1736\"/>\n</g>\n<!-- 35 -->\n<g id=\"node36\" class=\"node\">\n<title>35</title>\n<path fill=\"#e58139\" fill-opacity=\"0.447059\" stroke=\"#000000\" d=\"M2349,-157C2349,-157 2185,-157 2185,-157 2179,-157 2173,-151 2173,-145 2173,-145 2173,-101 2173,-101 2173,-95 2179,-89 2185,-89 2185,-89 2349,-89 2349,-89 2355,-89 2361,-95 2361,-101 2361,-101 2361,-145 2361,-145 2361,-151 2355,-157 2349,-157\"/>\n<text text-anchor=\"middle\" x=\"2267\" y=\"-141.8\" font-family=\"Helvetica,sans-Serif\" font-size=\"14.00\" fill=\"#000000\">YearRemodAdd &lt;= 1978.5</text>\n<text text-anchor=\"middle\" x=\"2267\" y=\"-126.8\" font-family=\"Helvetica,sans-Serif\" font-size=\"14.00\" fill=\"#000000\">mse = 0.025</text>\n<text text-anchor=\"middle\" x=\"2267\" y=\"-111.8\" font-family=\"Helvetica,sans-Serif\" font-size=\"14.00\" fill=\"#000000\">samples = 178</text>\n<text text-anchor=\"middle\" x=\"2267\" y=\"-96.8\" font-family=\"Helvetica,sans-Serif\" font-size=\"14.00\" fill=\"#000000\">value = 12.105</text>\n</g>\n<!-- 34&#45;&gt;35 -->\n<g id=\"edge35\" class=\"edge\">\n<title>34&#45;&gt;35</title>\n<path fill=\"none\" stroke=\"#000000\" d=\"M2417.654,-192.9465C2395.8983,-182.8457 2371.9248,-171.7151 2349.6233,-161.3608\"/>\n<polygon fill=\"#000000\" stroke=\"#000000\" points=\"2351.0548,-158.1666 2340.5108,-157.13 2348.107,-164.5157 2351.0548,-158.1666\"/>\n</g>\n<!-- 38 -->\n<g id=\"node39\" class=\"node\">\n<title>38</title>\n<path fill=\"#e58139\" fill-opacity=\"0.564706\" stroke=\"#000000\" d=\"M2554.5,-157C2554.5,-157 2427.5,-157 2427.5,-157 2421.5,-157 2415.5,-151 2415.5,-145 2415.5,-145 2415.5,-101 2415.5,-101 2415.5,-95 2421.5,-89 2427.5,-89 2427.5,-89 2554.5,-89 2554.5,-89 2560.5,-89 2566.5,-95 2566.5,-101 2566.5,-101 2566.5,-145 2566.5,-145 2566.5,-151 2560.5,-157 2554.5,-157\"/>\n<text text-anchor=\"middle\" x=\"2491\" y=\"-141.8\" font-family=\"Helvetica,sans-Serif\" font-size=\"14.00\" fill=\"#000000\">GrLivArea &lt;= 1715.0</text>\n<text text-anchor=\"middle\" x=\"2491\" y=\"-126.8\" font-family=\"Helvetica,sans-Serif\" font-size=\"14.00\" fill=\"#000000\">mse = 0.013</text>\n<text text-anchor=\"middle\" x=\"2491\" y=\"-111.8\" font-family=\"Helvetica,sans-Serif\" font-size=\"14.00\" fill=\"#000000\">samples = 37</text>\n<text text-anchor=\"middle\" x=\"2491\" y=\"-96.8\" font-family=\"Helvetica,sans-Serif\" font-size=\"14.00\" fill=\"#000000\">value = 12.35</text>\n</g>\n<!-- 34&#45;&gt;38 -->\n<g id=\"edge38\" class=\"edge\">\n<title>34&#45;&gt;38</title>\n<path fill=\"none\" stroke=\"#000000\" d=\"M2491,-192.9465C2491,-184.776 2491,-175.9318 2491,-167.3697\"/>\n<polygon fill=\"#000000\" stroke=\"#000000\" points=\"2494.5001,-167.13 2491,-157.13 2487.5001,-167.13 2494.5001,-167.13\"/>\n</g>\n<!-- 36 -->\n<g id=\"node37\" class=\"node\">\n<title>36</title>\n<path fill=\"#e58139\" fill-opacity=\"0.360784\" stroke=\"#000000\" d=\"M2180.5,-53C2180.5,-53 2091.5,-53 2091.5,-53 2085.5,-53 2079.5,-47 2079.5,-41 2079.5,-41 2079.5,-12 2079.5,-12 2079.5,-6 2085.5,0 2091.5,0 2091.5,0 2180.5,0 2180.5,0 2186.5,0 2192.5,-6 2192.5,-12 2192.5,-12 2192.5,-41 2192.5,-41 2192.5,-47 2186.5,-53 2180.5,-53\"/>\n<text text-anchor=\"middle\" x=\"2136\" y=\"-37.8\" font-family=\"Helvetica,sans-Serif\" font-size=\"14.00\" fill=\"#000000\">mse = 0.031</text>\n<text text-anchor=\"middle\" x=\"2136\" y=\"-22.8\" font-family=\"Helvetica,sans-Serif\" font-size=\"14.00\" fill=\"#000000\">samples = 23</text>\n<text text-anchor=\"middle\" x=\"2136\" y=\"-7.8\" font-family=\"Helvetica,sans-Serif\" font-size=\"14.00\" fill=\"#000000\">value = 11.932</text>\n</g>\n<!-- 35&#45;&gt;36 -->\n<g id=\"edge36\" class=\"edge\">\n<title>35&#45;&gt;36</title>\n<path fill=\"none\" stroke=\"#000000\" d=\"M2220.8143,-88.9777C2207.7621,-79.3629 2193.5861,-68.9203 2180.6273,-59.3743\"/>\n<polygon fill=\"#000000\" stroke=\"#000000\" points=\"2182.4386,-56.3615 2172.3114,-53.2485 2178.2869,-61.9974 2182.4386,-56.3615\"/>\n</g>\n<!-- 37 -->\n<g id=\"node38\" class=\"node\">\n<title>37</title>\n<path fill=\"#e58139\" fill-opacity=\"0.458824\" stroke=\"#000000\" d=\"M2311.5,-53C2311.5,-53 2222.5,-53 2222.5,-53 2216.5,-53 2210.5,-47 2210.5,-41 2210.5,-41 2210.5,-12 2210.5,-12 2210.5,-6 2216.5,0 2222.5,0 2222.5,0 2311.5,0 2311.5,0 2317.5,0 2323.5,-6 2323.5,-12 2323.5,-12 2323.5,-41 2323.5,-41 2323.5,-47 2317.5,-53 2311.5,-53\"/>\n<text text-anchor=\"middle\" x=\"2267\" y=\"-37.8\" font-family=\"Helvetica,sans-Serif\" font-size=\"14.00\" fill=\"#000000\">mse = 0.019</text>\n<text text-anchor=\"middle\" x=\"2267\" y=\"-22.8\" font-family=\"Helvetica,sans-Serif\" font-size=\"14.00\" fill=\"#000000\">samples = 155</text>\n<text text-anchor=\"middle\" x=\"2267\" y=\"-7.8\" font-family=\"Helvetica,sans-Serif\" font-size=\"14.00\" fill=\"#000000\">value = 12.131</text>\n</g>\n<!-- 35&#45;&gt;37 -->\n<g id=\"edge37\" class=\"edge\">\n<title>35&#45;&gt;37</title>\n<path fill=\"none\" stroke=\"#000000\" d=\"M2267,-88.9777C2267,-80.7364 2267,-71.887 2267,-63.5153\"/>\n<polygon fill=\"#000000\" stroke=\"#000000\" points=\"2270.5001,-63.2484 2267,-53.2485 2263.5001,-63.2485 2270.5001,-63.2484\"/>\n</g>\n<!-- 39 -->\n<g id=\"node40\" class=\"node\">\n<title>39</title>\n<path fill=\"#e58139\" fill-opacity=\"0.552941\" stroke=\"#000000\" d=\"M2442.5,-53C2442.5,-53 2353.5,-53 2353.5,-53 2347.5,-53 2341.5,-47 2341.5,-41 2341.5,-41 2341.5,-12 2341.5,-12 2341.5,-6 2347.5,0 2353.5,0 2353.5,0 2442.5,0 2442.5,0 2448.5,0 2454.5,-6 2454.5,-12 2454.5,-12 2454.5,-41 2454.5,-41 2454.5,-47 2448.5,-53 2442.5,-53\"/>\n<text text-anchor=\"middle\" x=\"2398\" y=\"-37.8\" font-family=\"Helvetica,sans-Serif\" font-size=\"14.00\" fill=\"#000000\">mse = 0.009</text>\n<text text-anchor=\"middle\" x=\"2398\" y=\"-22.8\" font-family=\"Helvetica,sans-Serif\" font-size=\"14.00\" fill=\"#000000\">samples = 33</text>\n<text text-anchor=\"middle\" x=\"2398\" y=\"-7.8\" font-family=\"Helvetica,sans-Serif\" font-size=\"14.00\" fill=\"#000000\">value = 12.327</text>\n</g>\n<!-- 38&#45;&gt;39 -->\n<g id=\"edge39\" class=\"edge\">\n<title>38&#45;&gt;39</title>\n<path fill=\"none\" stroke=\"#000000\" d=\"M2458.2117,-88.9777C2449.2986,-79.7292 2439.6473,-69.7147 2430.7371,-60.4691\"/>\n<polygon fill=\"#000000\" stroke=\"#000000\" points=\"2433.2378,-58.0202 2423.7783,-53.2485 2428.1975,-62.8777 2433.2378,-58.0202\"/>\n</g>\n<!-- 40 -->\n<g id=\"node41\" class=\"node\">\n<title>40</title>\n<path fill=\"#e58139\" fill-opacity=\"0.654902\" stroke=\"#000000\" d=\"M2573.5,-53C2573.5,-53 2484.5,-53 2484.5,-53 2478.5,-53 2472.5,-47 2472.5,-41 2472.5,-41 2472.5,-12 2472.5,-12 2472.5,-6 2478.5,0 2484.5,0 2484.5,0 2573.5,0 2573.5,0 2579.5,0 2585.5,-6 2585.5,-12 2585.5,-12 2585.5,-41 2585.5,-41 2585.5,-47 2579.5,-53 2573.5,-53\"/>\n<text text-anchor=\"middle\" x=\"2529\" y=\"-37.8\" font-family=\"Helvetica,sans-Serif\" font-size=\"14.00\" fill=\"#000000\">mse = 0.006</text>\n<text text-anchor=\"middle\" x=\"2529\" y=\"-22.8\" font-family=\"Helvetica,sans-Serif\" font-size=\"14.00\" fill=\"#000000\">samples = 4</text>\n<text text-anchor=\"middle\" x=\"2529\" y=\"-7.8\" font-family=\"Helvetica,sans-Serif\" font-size=\"14.00\" fill=\"#000000\">value = 12.541</text>\n</g>\n<!-- 38&#45;&gt;40 -->\n<g id=\"edge40\" class=\"edge\">\n<title>38&#45;&gt;40</title>\n<path fill=\"none\" stroke=\"#000000\" d=\"M2504.3974,-88.9777C2507.7508,-80.4617 2511.36,-71.2963 2514.753,-62.6798\"/>\n<polygon fill=\"#000000\" stroke=\"#000000\" points=\"2518.0595,-63.8355 2518.4669,-53.2485 2511.5463,-61.2707 2518.0595,-63.8355\"/>\n</g>\n<!-- 42 -->\n<g id=\"node43\" class=\"node\">\n<title>42</title>\n<path fill=\"#e58139\" fill-opacity=\"0.517647\" stroke=\"#000000\" d=\"M2751.5,-157C2751.5,-157 2632.5,-157 2632.5,-157 2626.5,-157 2620.5,-151 2620.5,-145 2620.5,-145 2620.5,-101 2620.5,-101 2620.5,-95 2626.5,-89 2632.5,-89 2632.5,-89 2751.5,-89 2751.5,-89 2757.5,-89 2763.5,-95 2763.5,-101 2763.5,-101 2763.5,-145 2763.5,-145 2763.5,-151 2757.5,-157 2751.5,-157\"/>\n<text text-anchor=\"middle\" x=\"2692\" y=\"-141.8\" font-family=\"Helvetica,sans-Serif\" font-size=\"14.00\" fill=\"#000000\">YearBuilt &lt;= 1917.5</text>\n<text text-anchor=\"middle\" x=\"2692\" y=\"-126.8\" font-family=\"Helvetica,sans-Serif\" font-size=\"14.00\" fill=\"#000000\">mse = 0.027</text>\n<text text-anchor=\"middle\" x=\"2692\" y=\"-111.8\" font-family=\"Helvetica,sans-Serif\" font-size=\"14.00\" fill=\"#000000\">samples = 41</text>\n<text text-anchor=\"middle\" x=\"2692\" y=\"-96.8\" font-family=\"Helvetica,sans-Serif\" font-size=\"14.00\" fill=\"#000000\">value = 12.259</text>\n</g>\n<!-- 41&#45;&gt;42 -->\n<g id=\"edge42\" class=\"edge\">\n<title>41&#45;&gt;42</title>\n<path fill=\"none\" stroke=\"#000000\" d=\"M2692,-192.9465C2692,-184.776 2692,-175.9318 2692,-167.3697\"/>\n<polygon fill=\"#000000\" stroke=\"#000000\" points=\"2695.5001,-167.13 2692,-157.13 2688.5001,-167.13 2695.5001,-167.13\"/>\n</g>\n<!-- 45 -->\n<g id=\"node46\" class=\"node\">\n<title>45</title>\n<path fill=\"#e58139\" fill-opacity=\"0.611765\" stroke=\"#000000\" d=\"M3032,-157C3032,-157 2812,-157 2812,-157 2806,-157 2800,-151 2800,-145 2800,-145 2800,-101 2800,-101 2800,-95 2806,-89 2812,-89 2812,-89 3032,-89 3032,-89 3038,-89 3044,-95 3044,-101 3044,-101 3044,-145 3044,-145 3044,-151 3038,-157 3032,-157\"/>\n<text text-anchor=\"middle\" x=\"2922\" y=\"-141.8\" font-family=\"Helvetica,sans-Serif\" font-size=\"14.00\" fill=\"#000000\">BsmtFinSF1_squared &lt;= 897133.0</text>\n<text text-anchor=\"middle\" x=\"2922\" y=\"-126.8\" font-family=\"Helvetica,sans-Serif\" font-size=\"14.00\" fill=\"#000000\">mse = 0.027</text>\n<text text-anchor=\"middle\" x=\"2922\" y=\"-111.8\" font-family=\"Helvetica,sans-Serif\" font-size=\"14.00\" fill=\"#000000\">samples = 63</text>\n<text text-anchor=\"middle\" x=\"2922\" y=\"-96.8\" font-family=\"Helvetica,sans-Serif\" font-size=\"14.00\" fill=\"#000000\">value = 12.451</text>\n</g>\n<!-- 41&#45;&gt;45 -->\n<g id=\"edge45\" class=\"edge\">\n<title>41&#45;&gt;45</title>\n<path fill=\"none\" stroke=\"#000000\" d=\"M2767.3106,-192.9465C2789.649,-182.8457 2814.2648,-171.7151 2837.1636,-161.3608\"/>\n<polygon fill=\"#000000\" stroke=\"#000000\" points=\"2838.8505,-164.4393 2846.5202,-157.13 2835.9663,-158.061 2838.8505,-164.4393\"/>\n</g>\n<!-- 43 -->\n<g id=\"node44\" class=\"node\">\n<title>43</title>\n<path fill=\"#e58139\" fill-opacity=\"0.356863\" stroke=\"#000000\" d=\"M2704.5,-53C2704.5,-53 2615.5,-53 2615.5,-53 2609.5,-53 2603.5,-47 2603.5,-41 2603.5,-41 2603.5,-12 2603.5,-12 2603.5,-6 2609.5,0 2615.5,0 2615.5,0 2704.5,0 2704.5,0 2710.5,0 2716.5,-6 2716.5,-12 2716.5,-12 2716.5,-41 2716.5,-41 2716.5,-47 2710.5,-53 2704.5,-53\"/>\n<text text-anchor=\"middle\" x=\"2660\" y=\"-37.8\" font-family=\"Helvetica,sans-Serif\" font-size=\"14.00\" fill=\"#000000\">mse = 0.015</text>\n<text text-anchor=\"middle\" x=\"2660\" y=\"-22.8\" font-family=\"Helvetica,sans-Serif\" font-size=\"14.00\" fill=\"#000000\">samples = 4</text>\n<text text-anchor=\"middle\" x=\"2660\" y=\"-7.8\" font-family=\"Helvetica,sans-Serif\" font-size=\"14.00\" fill=\"#000000\">value = 11.918</text>\n</g>\n<!-- 42&#45;&gt;43 -->\n<g id=\"edge43\" class=\"edge\">\n<title>42&#45;&gt;43</title>\n<path fill=\"none\" stroke=\"#000000\" d=\"M2680.718,-88.9777C2677.9244,-80.5533 2674.9201,-71.4934 2672.0897,-62.9579\"/>\n<polygon fill=\"#000000\" stroke=\"#000000\" points=\"2675.3397,-61.6386 2668.87,-53.2485 2668.6954,-63.8419 2675.3397,-61.6386\"/>\n</g>\n<!-- 44 -->\n<g id=\"node45\" class=\"node\">\n<title>44</title>\n<path fill=\"#e58139\" fill-opacity=\"0.537255\" stroke=\"#000000\" d=\"M2835.5,-53C2835.5,-53 2746.5,-53 2746.5,-53 2740.5,-53 2734.5,-47 2734.5,-41 2734.5,-41 2734.5,-12 2734.5,-12 2734.5,-6 2740.5,0 2746.5,0 2746.5,0 2835.5,0 2835.5,0 2841.5,0 2847.5,-6 2847.5,-12 2847.5,-12 2847.5,-41 2847.5,-41 2847.5,-47 2841.5,-53 2835.5,-53\"/>\n<text text-anchor=\"middle\" x=\"2791\" y=\"-37.8\" font-family=\"Helvetica,sans-Serif\" font-size=\"14.00\" fill=\"#000000\">mse = 0.015</text>\n<text text-anchor=\"middle\" x=\"2791\" y=\"-22.8\" font-family=\"Helvetica,sans-Serif\" font-size=\"14.00\" fill=\"#000000\">samples = 37</text>\n<text text-anchor=\"middle\" x=\"2791\" y=\"-7.8\" font-family=\"Helvetica,sans-Serif\" font-size=\"14.00\" fill=\"#000000\">value = 12.296</text>\n</g>\n<!-- 42&#45;&gt;44 -->\n<g id=\"edge44\" class=\"edge\">\n<title>42&#45;&gt;44</title>\n<path fill=\"none\" stroke=\"#000000\" d=\"M2726.9037,-88.9777C2736.3918,-79.7292 2746.6657,-69.7147 2756.1509,-60.4691\"/>\n<polygon fill=\"#000000\" stroke=\"#000000\" points=\"2758.8407,-62.7349 2763.5586,-53.2485 2753.9546,-57.7223 2758.8407,-62.7349\"/>\n</g>\n<!-- 46 -->\n<g id=\"node47\" class=\"node\">\n<title>46</title>\n<path fill=\"#e58139\" fill-opacity=\"0.588235\" stroke=\"#000000\" d=\"M2966.5,-53C2966.5,-53 2877.5,-53 2877.5,-53 2871.5,-53 2865.5,-47 2865.5,-41 2865.5,-41 2865.5,-12 2865.5,-12 2865.5,-6 2871.5,0 2877.5,0 2877.5,0 2966.5,0 2966.5,0 2972.5,0 2978.5,-6 2978.5,-12 2978.5,-12 2978.5,-41 2978.5,-41 2978.5,-47 2972.5,-53 2966.5,-53\"/>\n<text text-anchor=\"middle\" x=\"2922\" y=\"-37.8\" font-family=\"Helvetica,sans-Serif\" font-size=\"14.00\" fill=\"#000000\">mse = 0.019</text>\n<text text-anchor=\"middle\" x=\"2922\" y=\"-22.8\" font-family=\"Helvetica,sans-Serif\" font-size=\"14.00\" fill=\"#000000\">samples = 45</text>\n<text text-anchor=\"middle\" x=\"2922\" y=\"-7.8\" font-family=\"Helvetica,sans-Serif\" font-size=\"14.00\" fill=\"#000000\">value = 12.401</text>\n</g>\n<!-- 45&#45;&gt;46 -->\n<g id=\"edge46\" class=\"edge\">\n<title>45&#45;&gt;46</title>\n<path fill=\"none\" stroke=\"#000000\" d=\"M2922,-88.9777C2922,-80.7364 2922,-71.887 2922,-63.5153\"/>\n<polygon fill=\"#000000\" stroke=\"#000000\" points=\"2925.5001,-63.2484 2922,-53.2485 2918.5001,-63.2485 2925.5001,-63.2484\"/>\n</g>\n<!-- 47 -->\n<g id=\"node48\" class=\"node\">\n<title>47</title>\n<path fill=\"#e58139\" fill-opacity=\"0.670588\" stroke=\"#000000\" d=\"M3097.5,-53C3097.5,-53 3008.5,-53 3008.5,-53 3002.5,-53 2996.5,-47 2996.5,-41 2996.5,-41 2996.5,-12 2996.5,-12 2996.5,-6 3002.5,0 3008.5,0 3008.5,0 3097.5,0 3097.5,0 3103.5,0 3109.5,-6 3109.5,-12 3109.5,-12 3109.5,-41 3109.5,-41 3109.5,-47 3103.5,-53 3097.5,-53\"/>\n<text text-anchor=\"middle\" x=\"3053\" y=\"-37.8\" font-family=\"Helvetica,sans-Serif\" font-size=\"14.00\" fill=\"#000000\">mse = 0.025</text>\n<text text-anchor=\"middle\" x=\"3053\" y=\"-22.8\" font-family=\"Helvetica,sans-Serif\" font-size=\"14.00\" fill=\"#000000\">samples = 18</text>\n<text text-anchor=\"middle\" x=\"3053\" y=\"-7.8\" font-family=\"Helvetica,sans-Serif\" font-size=\"14.00\" fill=\"#000000\">value = 12.575</text>\n</g>\n<!-- 45&#45;&gt;47 -->\n<g id=\"edge47\" class=\"edge\">\n<title>45&#45;&gt;47</title>\n<path fill=\"none\" stroke=\"#000000\" d=\"M2968.1857,-88.9777C2981.2379,-79.3629 2995.4139,-68.9203 3008.3727,-59.3743\"/>\n<polygon fill=\"#000000\" stroke=\"#000000\" points=\"3010.7131,-61.9974 3016.6886,-53.2485 3006.5614,-56.3615 3010.7131,-61.9974\"/>\n</g>\n<!-- 49 -->\n<g id=\"node50\" class=\"node\">\n<title>49</title>\n<path fill=\"#e58139\" fill-opacity=\"0.635294\" stroke=\"#000000\" d=\"M3444.5,-261C3444.5,-261 3317.5,-261 3317.5,-261 3311.5,-261 3305.5,-255 3305.5,-249 3305.5,-249 3305.5,-205 3305.5,-205 3305.5,-199 3311.5,-193 3317.5,-193 3317.5,-193 3444.5,-193 3444.5,-193 3450.5,-193 3456.5,-199 3456.5,-205 3456.5,-205 3456.5,-249 3456.5,-249 3456.5,-255 3450.5,-261 3444.5,-261\"/>\n<text text-anchor=\"middle\" x=\"3381\" y=\"-245.8\" font-family=\"Helvetica,sans-Serif\" font-size=\"14.00\" fill=\"#000000\">GrLivArea &lt;= 1921.5</text>\n<text text-anchor=\"middle\" x=\"3381\" y=\"-230.8\" font-family=\"Helvetica,sans-Serif\" font-size=\"14.00\" fill=\"#000000\">mse = 0.053</text>\n<text text-anchor=\"middle\" x=\"3381\" y=\"-215.8\" font-family=\"Helvetica,sans-Serif\" font-size=\"14.00\" fill=\"#000000\">samples = 168</text>\n<text text-anchor=\"middle\" x=\"3381\" y=\"-200.8\" font-family=\"Helvetica,sans-Serif\" font-size=\"14.00\" fill=\"#000000\">value = 12.497</text>\n</g>\n<!-- 48&#45;&gt;49 -->\n<g id=\"edge49\" class=\"edge\">\n<title>48&#45;&gt;49</title>\n<path fill=\"none\" stroke=\"#000000\" d=\"M3381,-296.9465C3381,-288.776 3381,-279.9318 3381,-271.3697\"/>\n<polygon fill=\"#000000\" stroke=\"#000000\" points=\"3384.5001,-271.13 3381,-261.13 3377.5001,-271.13 3384.5001,-271.13\"/>\n</g>\n<!-- 56 -->\n<g id=\"node57\" class=\"node\">\n<title>56</title>\n<path fill=\"#e58139\" fill-opacity=\"0.796078\" stroke=\"#000000\" d=\"M3825,-261C3825,-261 3681,-261 3681,-261 3675,-261 3669,-255 3669,-249 3669,-249 3669,-205 3669,-205 3669,-199 3675,-193 3681,-193 3681,-193 3825,-193 3825,-193 3831,-193 3837,-199 3837,-205 3837,-205 3837,-249 3837,-249 3837,-255 3831,-261 3825,-261\"/>\n<text text-anchor=\"middle\" x=\"3753\" y=\"-245.8\" font-family=\"Helvetica,sans-Serif\" font-size=\"14.00\" fill=\"#000000\">TotalBsmtSF &lt;= 3116.0</text>\n<text text-anchor=\"middle\" x=\"3753\" y=\"-230.8\" font-family=\"Helvetica,sans-Serif\" font-size=\"14.00\" fill=\"#000000\">mse = 0.077</text>\n<text text-anchor=\"middle\" x=\"3753\" y=\"-215.8\" font-family=\"Helvetica,sans-Serif\" font-size=\"14.00\" fill=\"#000000\">samples = 61</text>\n<text text-anchor=\"middle\" x=\"3753\" y=\"-200.8\" font-family=\"Helvetica,sans-Serif\" font-size=\"14.00\" fill=\"#000000\">value = 12.831</text>\n</g>\n<!-- 48&#45;&gt;56 -->\n<g id=\"edge56\" class=\"edge\">\n<title>48&#45;&gt;56</title>\n<path fill=\"none\" stroke=\"#000000\" d=\"M3449.6641,-311.8036C3508.4714,-295.3628 3593.7278,-271.5277 3658.8895,-253.3105\"/>\n<polygon fill=\"#000000\" stroke=\"#000000\" points=\"3660.0712,-256.6144 3668.7595,-250.5511 3658.1864,-249.8729 3660.0712,-256.6144\"/>\n</g>\n<!-- 50 -->\n<g id=\"node51\" class=\"node\">\n<title>50</title>\n<path fill=\"#e58139\" fill-opacity=\"0.584314\" stroke=\"#000000\" d=\"M3367,-157C3367,-157 3223,-157 3223,-157 3217,-157 3211,-151 3211,-145 3211,-145 3211,-101 3211,-101 3211,-95 3217,-89 3223,-89 3223,-89 3367,-89 3367,-89 3373,-89 3379,-95 3379,-101 3379,-101 3379,-145 3379,-145 3379,-151 3373,-157 3367,-157\"/>\n<text text-anchor=\"middle\" x=\"3295\" y=\"-141.8\" font-family=\"Helvetica,sans-Serif\" font-size=\"14.00\" fill=\"#000000\">TotalBsmtSF &lt;= 1394.5</text>\n<text text-anchor=\"middle\" x=\"3295\" y=\"-126.8\" font-family=\"Helvetica,sans-Serif\" font-size=\"14.00\" fill=\"#000000\">mse = 0.038</text>\n<text text-anchor=\"middle\" x=\"3295\" y=\"-111.8\" font-family=\"Helvetica,sans-Serif\" font-size=\"14.00\" fill=\"#000000\">samples = 94</text>\n<text text-anchor=\"middle\" x=\"3295\" y=\"-96.8\" font-family=\"Helvetica,sans-Serif\" font-size=\"14.00\" fill=\"#000000\">value = 12.397</text>\n</g>\n<!-- 49&#45;&gt;50 -->\n<g id=\"edge50\" class=\"edge\">\n<title>49&#45;&gt;50</title>\n<path fill=\"none\" stroke=\"#000000\" d=\"M3352.8404,-192.9465C3345.4158,-183.968 3337.3185,-174.1758 3329.5972,-164.8385\"/>\n<polygon fill=\"#000000\" stroke=\"#000000\" points=\"3332.2928,-162.606 3323.2229,-157.13 3326.8983,-167.0669 3332.2928,-162.606\"/>\n</g>\n<!-- 53 -->\n<g id=\"node54\" class=\"node\">\n<title>53</title>\n<path fill=\"#e58139\" fill-opacity=\"0.694118\" stroke=\"#000000\" d=\"M3525,-157C3525,-157 3409,-157 3409,-157 3403,-157 3397,-151 3397,-145 3397,-145 3397,-101 3397,-101 3397,-95 3403,-89 3409,-89 3409,-89 3525,-89 3525,-89 3531,-89 3537,-95 3537,-101 3537,-101 3537,-145 3537,-145 3537,-151 3531,-157 3525,-157\"/>\n<text text-anchor=\"middle\" x=\"3467\" y=\"-141.8\" font-family=\"Helvetica,sans-Serif\" font-size=\"14.00\" fill=\"#000000\">1stFlrSF &lt;= 1460.0</text>\n<text text-anchor=\"middle\" x=\"3467\" y=\"-126.8\" font-family=\"Helvetica,sans-Serif\" font-size=\"14.00\" fill=\"#000000\">mse = 0.044</text>\n<text text-anchor=\"middle\" x=\"3467\" y=\"-111.8\" font-family=\"Helvetica,sans-Serif\" font-size=\"14.00\" fill=\"#000000\">samples = 74</text>\n<text text-anchor=\"middle\" x=\"3467\" y=\"-96.8\" font-family=\"Helvetica,sans-Serif\" font-size=\"14.00\" fill=\"#000000\">value = 12.625</text>\n</g>\n<!-- 49&#45;&gt;53 -->\n<g id=\"edge53\" class=\"edge\">\n<title>49&#45;&gt;53</title>\n<path fill=\"none\" stroke=\"#000000\" d=\"M3409.1596,-192.9465C3416.5842,-183.968 3424.6815,-174.1758 3432.4028,-164.8385\"/>\n<polygon fill=\"#000000\" stroke=\"#000000\" points=\"3435.1017,-167.0669 3438.7771,-157.13 3429.7072,-162.606 3435.1017,-167.0669\"/>\n</g>\n<!-- 51 -->\n<g id=\"node52\" class=\"node\">\n<title>51</title>\n<path fill=\"#e58139\" fill-opacity=\"0.505882\" stroke=\"#000000\" d=\"M3228.5,-53C3228.5,-53 3139.5,-53 3139.5,-53 3133.5,-53 3127.5,-47 3127.5,-41 3127.5,-41 3127.5,-12 3127.5,-12 3127.5,-6 3133.5,0 3139.5,0 3139.5,0 3228.5,0 3228.5,0 3234.5,0 3240.5,-6 3240.5,-12 3240.5,-12 3240.5,-41 3240.5,-41 3240.5,-47 3234.5,-53 3228.5,-53\"/>\n<text text-anchor=\"middle\" x=\"3184\" y=\"-37.8\" font-family=\"Helvetica,sans-Serif\" font-size=\"14.00\" fill=\"#000000\">mse = 0.02</text>\n<text text-anchor=\"middle\" x=\"3184\" y=\"-22.8\" font-family=\"Helvetica,sans-Serif\" font-size=\"14.00\" fill=\"#000000\">samples = 33</text>\n<text text-anchor=\"middle\" x=\"3184\" y=\"-7.8\" font-family=\"Helvetica,sans-Serif\" font-size=\"14.00\" fill=\"#000000\">value = 12.231</text>\n</g>\n<!-- 50&#45;&gt;51 -->\n<g id=\"edge51\" class=\"edge\">\n<title>50&#45;&gt;51</title>\n<path fill=\"none\" stroke=\"#000000\" d=\"M3255.8656,-88.9777C3245.0167,-79.546 3233.2516,-69.3178 3222.4426,-59.9208\"/>\n<polygon fill=\"#000000\" stroke=\"#000000\" points=\"3224.6108,-57.1681 3214.7677,-53.2485 3220.0181,-62.4508 3224.6108,-57.1681\"/>\n</g>\n<!-- 52 -->\n<g id=\"node53\" class=\"node\">\n<title>52</title>\n<path fill=\"#e58139\" fill-opacity=\"0.627451\" stroke=\"#000000\" d=\"M3359.5,-53C3359.5,-53 3270.5,-53 3270.5,-53 3264.5,-53 3258.5,-47 3258.5,-41 3258.5,-41 3258.5,-12 3258.5,-12 3258.5,-6 3264.5,0 3270.5,0 3270.5,0 3359.5,0 3359.5,0 3365.5,0 3371.5,-6 3371.5,-12 3371.5,-12 3371.5,-41 3371.5,-41 3371.5,-47 3365.5,-53 3359.5,-53\"/>\n<text text-anchor=\"middle\" x=\"3315\" y=\"-37.8\" font-family=\"Helvetica,sans-Serif\" font-size=\"14.00\" fill=\"#000000\">mse = 0.024</text>\n<text text-anchor=\"middle\" x=\"3315\" y=\"-22.8\" font-family=\"Helvetica,sans-Serif\" font-size=\"14.00\" fill=\"#000000\">samples = 61</text>\n<text text-anchor=\"middle\" x=\"3315\" y=\"-7.8\" font-family=\"Helvetica,sans-Serif\" font-size=\"14.00\" fill=\"#000000\">value = 12.487</text>\n</g>\n<!-- 50&#45;&gt;52 -->\n<g id=\"edge52\" class=\"edge\">\n<title>50&#45;&gt;52</title>\n<path fill=\"none\" stroke=\"#000000\" d=\"M3302.0513,-88.9777C3303.7783,-80.6449 3305.6341,-71.6903 3307.3862,-63.2364\"/>\n<polygon fill=\"#000000\" stroke=\"#000000\" points=\"3310.854,-63.7507 3309.4563,-53.2485 3303.9996,-62.3301 3310.854,-63.7507\"/>\n</g>\n<!-- 54 -->\n<g id=\"node55\" class=\"node\">\n<title>54</title>\n<path fill=\"#e58139\" fill-opacity=\"0.650980\" stroke=\"#000000\" d=\"M3490.5,-53C3490.5,-53 3401.5,-53 3401.5,-53 3395.5,-53 3389.5,-47 3389.5,-41 3389.5,-41 3389.5,-12 3389.5,-12 3389.5,-6 3395.5,0 3401.5,0 3401.5,0 3490.5,0 3490.5,0 3496.5,0 3502.5,-6 3502.5,-12 3502.5,-12 3502.5,-41 3502.5,-41 3502.5,-47 3496.5,-53 3490.5,-53\"/>\n<text text-anchor=\"middle\" x=\"3446\" y=\"-37.8\" font-family=\"Helvetica,sans-Serif\" font-size=\"14.00\" fill=\"#000000\">mse = 0.031</text>\n<text text-anchor=\"middle\" x=\"3446\" y=\"-22.8\" font-family=\"Helvetica,sans-Serif\" font-size=\"14.00\" fill=\"#000000\">samples = 43</text>\n<text text-anchor=\"middle\" x=\"3446\" y=\"-7.8\" font-family=\"Helvetica,sans-Serif\" font-size=\"14.00\" fill=\"#000000\">value = 12.528</text>\n</g>\n<!-- 53&#45;&gt;54 -->\n<g id=\"edge54\" class=\"edge\">\n<title>53&#45;&gt;54</title>\n<path fill=\"none\" stroke=\"#000000\" d=\"M3459.5962,-88.9777C3457.7828,-80.6449 3455.8341,-71.6903 3453.9945,-63.2364\"/>\n<polygon fill=\"#000000\" stroke=\"#000000\" points=\"3457.3673,-62.2755 3451.8209,-53.2485 3450.5274,-63.7641 3457.3673,-62.2755\"/>\n</g>\n<!-- 55 -->\n<g id=\"node56\" class=\"node\">\n<title>55</title>\n<path fill=\"#e58139\" fill-opacity=\"0.760784\" stroke=\"#000000\" d=\"M3621.5,-53C3621.5,-53 3532.5,-53 3532.5,-53 3526.5,-53 3520.5,-47 3520.5,-41 3520.5,-41 3520.5,-12 3520.5,-12 3520.5,-6 3526.5,0 3532.5,0 3532.5,0 3621.5,0 3621.5,0 3627.5,0 3633.5,-6 3633.5,-12 3633.5,-12 3633.5,-41 3633.5,-41 3633.5,-47 3627.5,-53 3621.5,-53\"/>\n<text text-anchor=\"middle\" x=\"3577\" y=\"-37.8\" font-family=\"Helvetica,sans-Serif\" font-size=\"14.00\" fill=\"#000000\">mse = 0.03</text>\n<text text-anchor=\"middle\" x=\"3577\" y=\"-22.8\" font-family=\"Helvetica,sans-Serif\" font-size=\"14.00\" fill=\"#000000\">samples = 31</text>\n<text text-anchor=\"middle\" x=\"3577\" y=\"-7.8\" font-family=\"Helvetica,sans-Serif\" font-size=\"14.00\" fill=\"#000000\">value = 12.758</text>\n</g>\n<!-- 53&#45;&gt;55 -->\n<g id=\"edge55\" class=\"edge\">\n<title>53&#45;&gt;55</title>\n<path fill=\"none\" stroke=\"#000000\" d=\"M3505.7819,-88.9777C3516.533,-79.546 3528.1922,-69.3178 3538.9038,-59.9208\"/>\n<polygon fill=\"#000000\" stroke=\"#000000\" points=\"3541.3004,-62.4743 3546.5095,-53.2485 3536.684,-57.2122 3541.3004,-62.4743\"/>\n</g>\n<!-- 57 -->\n<g id=\"node58\" class=\"node\">\n<title>57</title>\n<path fill=\"#e58139\" fill-opacity=\"0.807843\" stroke=\"#000000\" d=\"M3816.5,-157C3816.5,-157 3689.5,-157 3689.5,-157 3683.5,-157 3677.5,-151 3677.5,-145 3677.5,-145 3677.5,-101 3677.5,-101 3677.5,-95 3683.5,-89 3689.5,-89 3689.5,-89 3816.5,-89 3816.5,-89 3822.5,-89 3828.5,-95 3828.5,-101 3828.5,-101 3828.5,-145 3828.5,-145 3828.5,-151 3822.5,-157 3816.5,-157\"/>\n<text text-anchor=\"middle\" x=\"3753\" y=\"-141.8\" font-family=\"Helvetica,sans-Serif\" font-size=\"14.00\" fill=\"#000000\">GrLivArea &lt;= 2798.5</text>\n<text text-anchor=\"middle\" x=\"3753\" y=\"-126.8\" font-family=\"Helvetica,sans-Serif\" font-size=\"14.00\" fill=\"#000000\">mse = 0.059</text>\n<text text-anchor=\"middle\" x=\"3753\" y=\"-111.8\" font-family=\"Helvetica,sans-Serif\" font-size=\"14.00\" fill=\"#000000\">samples = 59</text>\n<text text-anchor=\"middle\" x=\"3753\" y=\"-96.8\" font-family=\"Helvetica,sans-Serif\" font-size=\"14.00\" fill=\"#000000\">value = 12.857</text>\n</g>\n<!-- 56&#45;&gt;57 -->\n<g id=\"edge57\" class=\"edge\">\n<title>56&#45;&gt;57</title>\n<path fill=\"none\" stroke=\"#000000\" d=\"M3753,-192.9465C3753,-184.776 3753,-175.9318 3753,-167.3697\"/>\n<polygon fill=\"#000000\" stroke=\"#000000\" points=\"3756.5001,-167.13 3753,-157.13 3749.5001,-167.13 3756.5001,-167.13\"/>\n</g>\n<!-- 60 -->\n<g id=\"node61\" class=\"node\">\n<title>60</title>\n<path fill=\"#e58139\" fill-opacity=\"0.419608\" stroke=\"#000000\" d=\"M4036,-157C4036,-157 3904,-157 3904,-157 3898,-157 3892,-151 3892,-145 3892,-145 3892,-101 3892,-101 3892,-95 3898,-89 3904,-89 3904,-89 4036,-89 4036,-89 4042,-89 4048,-95 4048,-101 4048,-101 4048,-145 4048,-145 4048,-151 4042,-157 4036,-157\"/>\n<text text-anchor=\"middle\" x=\"3970\" y=\"-141.8\" font-family=\"Helvetica,sans-Serif\" font-size=\"14.00\" fill=\"#000000\">LotFrontage &lt;= 221.5</text>\n<text text-anchor=\"middle\" x=\"3970\" y=\"-126.8\" font-family=\"Helvetica,sans-Serif\" font-size=\"14.00\" fill=\"#000000\">mse = 0.005</text>\n<text text-anchor=\"middle\" x=\"3970\" y=\"-111.8\" font-family=\"Helvetica,sans-Serif\" font-size=\"14.00\" fill=\"#000000\">samples = 2</text>\n<text text-anchor=\"middle\" x=\"3970\" y=\"-96.8\" font-family=\"Helvetica,sans-Serif\" font-size=\"14.00\" fill=\"#000000\">value = 12.055</text>\n</g>\n<!-- 56&#45;&gt;60 -->\n<g id=\"edge60\" class=\"edge\">\n<title>56&#45;&gt;60</title>\n<path fill=\"none\" stroke=\"#000000\" d=\"M3824.0539,-192.9465C3845.0361,-182.8906 3868.1477,-171.814 3889.6705,-161.4989\"/>\n<polygon fill=\"#000000\" stroke=\"#000000\" points=\"3891.2813,-164.6082 3898.7865,-157.13 3888.2559,-158.2957 3891.2813,-164.6082\"/>\n</g>\n<!-- 58 -->\n<g id=\"node59\" class=\"node\">\n<title>58</title>\n<path fill=\"#e58139\" fill-opacity=\"0.776471\" stroke=\"#000000\" d=\"M3752.5,-53C3752.5,-53 3663.5,-53 3663.5,-53 3657.5,-53 3651.5,-47 3651.5,-41 3651.5,-41 3651.5,-12 3651.5,-12 3651.5,-6 3657.5,0 3663.5,0 3663.5,0 3752.5,0 3752.5,0 3758.5,0 3764.5,-6 3764.5,-12 3764.5,-12 3764.5,-41 3764.5,-41 3764.5,-47 3758.5,-53 3752.5,-53\"/>\n<text text-anchor=\"middle\" x=\"3708\" y=\"-37.8\" font-family=\"Helvetica,sans-Serif\" font-size=\"14.00\" fill=\"#000000\">mse = 0.033</text>\n<text text-anchor=\"middle\" x=\"3708\" y=\"-22.8\" font-family=\"Helvetica,sans-Serif\" font-size=\"14.00\" fill=\"#000000\">samples = 51</text>\n<text text-anchor=\"middle\" x=\"3708\" y=\"-7.8\" font-family=\"Helvetica,sans-Serif\" font-size=\"14.00\" fill=\"#000000\">value = 12.795</text>\n</g>\n<!-- 57&#45;&gt;58 -->\n<g id=\"edge58\" class=\"edge\">\n<title>57&#45;&gt;58</title>\n<path fill=\"none\" stroke=\"#000000\" d=\"M3737.1347,-88.9777C3733.1208,-80.3702 3728.7975,-71.0992 3724.7419,-62.402\"/>\n<polygon fill=\"#000000\" stroke=\"#000000\" points=\"3727.8718,-60.8323 3720.4734,-53.2485 3721.5277,-63.7907 3727.8718,-60.8323\"/>\n</g>\n<!-- 59 -->\n<g id=\"node60\" class=\"node\">\n<title>59</title>\n<path fill=\"#e58139\" stroke=\"#000000\" d=\"M3883.5,-53C3883.5,-53 3794.5,-53 3794.5,-53 3788.5,-53 3782.5,-47 3782.5,-41 3782.5,-41 3782.5,-12 3782.5,-12 3782.5,-6 3788.5,0 3794.5,0 3794.5,0 3883.5,0 3883.5,0 3889.5,0 3895.5,-6 3895.5,-12 3895.5,-12 3895.5,-41 3895.5,-41 3895.5,-47 3889.5,-53 3883.5,-53\"/>\n<text text-anchor=\"middle\" x=\"3839\" y=\"-37.8\" font-family=\"Helvetica,sans-Serif\" font-size=\"14.00\" fill=\"#000000\">mse = 0.036</text>\n<text text-anchor=\"middle\" x=\"3839\" y=\"-22.8\" font-family=\"Helvetica,sans-Serif\" font-size=\"14.00\" fill=\"#000000\">samples = 8</text>\n<text text-anchor=\"middle\" x=\"3839\" y=\"-7.8\" font-family=\"Helvetica,sans-Serif\" font-size=\"14.00\" fill=\"#000000\">value = 13.258</text>\n</g>\n<!-- 57&#45;&gt;59 -->\n<g id=\"edge59\" class=\"edge\">\n<title>57&#45;&gt;59</title>\n<path fill=\"none\" stroke=\"#000000\" d=\"M3783.3204,-88.9777C3791.481,-79.8207 3800.3108,-69.9129 3808.4821,-60.744\"/>\n<polygon fill=\"#000000\" stroke=\"#000000\" points=\"3811.1217,-63.0427 3815.162,-53.2485 3805.8958,-58.3854 3811.1217,-63.0427\"/>\n</g>\n<!-- 61 -->\n<g id=\"node62\" class=\"node\">\n<title>61</title>\n<path fill=\"#e58139\" fill-opacity=\"0.454902\" stroke=\"#000000\" d=\"M4014.5,-53C4014.5,-53 3925.5,-53 3925.5,-53 3919.5,-53 3913.5,-47 3913.5,-41 3913.5,-41 3913.5,-12 3913.5,-12 3913.5,-6 3919.5,0 3925.5,0 3925.5,0 4014.5,0 4014.5,0 4020.5,0 4026.5,-6 4026.5,-12 4026.5,-12 4026.5,-41 4026.5,-41 4026.5,-47 4020.5,-53 4014.5,-53\"/>\n<text text-anchor=\"middle\" x=\"3970\" y=\"-37.8\" font-family=\"Helvetica,sans-Serif\" font-size=\"14.00\" fill=\"#000000\">mse = 0.0</text>\n<text text-anchor=\"middle\" x=\"3970\" y=\"-22.8\" font-family=\"Helvetica,sans-Serif\" font-size=\"14.00\" fill=\"#000000\">samples = 1</text>\n<text text-anchor=\"middle\" x=\"3970\" y=\"-7.8\" font-family=\"Helvetica,sans-Serif\" font-size=\"14.00\" fill=\"#000000\">value = 12.127</text>\n</g>\n<!-- 60&#45;&gt;61 -->\n<g id=\"edge61\" class=\"edge\">\n<title>60&#45;&gt;61</title>\n<path fill=\"none\" stroke=\"#000000\" d=\"M3970,-88.9777C3970,-80.7364 3970,-71.887 3970,-63.5153\"/>\n<polygon fill=\"#000000\" stroke=\"#000000\" points=\"3973.5001,-63.2484 3970,-53.2485 3966.5001,-63.2485 3973.5001,-63.2484\"/>\n</g>\n<!-- 62 -->\n<g id=\"node63\" class=\"node\">\n<title>62</title>\n<path fill=\"#e58139\" fill-opacity=\"0.388235\" stroke=\"#000000\" d=\"M4145.5,-53C4145.5,-53 4056.5,-53 4056.5,-53 4050.5,-53 4044.5,-47 4044.5,-41 4044.5,-41 4044.5,-12 4044.5,-12 4044.5,-6 4050.5,0 4056.5,0 4056.5,0 4145.5,0 4145.5,0 4151.5,0 4157.5,-6 4157.5,-12 4157.5,-12 4157.5,-41 4157.5,-41 4157.5,-47 4151.5,-53 4145.5,-53\"/>\n<text text-anchor=\"middle\" x=\"4101\" y=\"-37.8\" font-family=\"Helvetica,sans-Serif\" font-size=\"14.00\" fill=\"#000000\">mse = 0.0</text>\n<text text-anchor=\"middle\" x=\"4101\" y=\"-22.8\" font-family=\"Helvetica,sans-Serif\" font-size=\"14.00\" fill=\"#000000\">samples = 1</text>\n<text text-anchor=\"middle\" x=\"4101\" y=\"-7.8\" font-family=\"Helvetica,sans-Serif\" font-size=\"14.00\" fill=\"#000000\">value = 11.983</text>\n</g>\n<!-- 60&#45;&gt;62 -->\n<g id=\"edge62\" class=\"edge\">\n<title>60&#45;&gt;62</title>\n<path fill=\"none\" stroke=\"#000000\" d=\"M4016.1857,-88.9777C4029.2379,-79.3629 4043.4139,-68.9203 4056.3727,-59.3743\"/>\n<polygon fill=\"#000000\" stroke=\"#000000\" points=\"4058.7131,-61.9974 4064.6886,-53.2485 4054.5614,-56.3615 4058.7131,-61.9974\"/>\n</g>\n</g>\n</svg>\n"
          },
          "metadata": {
            "tags": []
          },
          "execution_count": 97
        }
      ]
    },
    {
      "cell_type": "markdown",
      "metadata": {
        "colab_type": "text",
        "id": "kWm7mMlH9sl2"
      },
      "source": [
        "## Part 2 / Stretch: \"Play Tennis\" Classification"
      ]
    },
    {
      "cell_type": "markdown",
      "metadata": {
        "colab_type": "text",
        "id": "2f5-S87kg6gJ"
      },
      "source": [
        "We'll reproduce the \"Play Tennis\" example from Ross Quinlan's 1986 paper, [Induction of Decison Trees](https://link.springer.com/content/pdf/10.1007%2FBF00116251.pdf).\n",
        "\n",
        "[According to Wikipedia](https://en.wikipedia.org/wiki/Ross_Quinlan), \"John Ross Quinlan is a computer science researcher in data mining and decision theory. He has contributed extensively to the development of decision tree algorithms, including inventing the canonical C4.5 and ID3 algorithms.\""
      ]
    },
    {
      "cell_type": "markdown",
      "metadata": {
        "colab_type": "text",
        "id": "Qfv6Zwdoje7_"
      },
      "source": [
        "#### \"Table 1 shows a small training set\""
      ]
    },
    {
      "cell_type": "code",
      "metadata": {
        "colab_type": "code",
        "id": "oUE-G0pgg58u",
        "outputId": "e29c29d4-6368-4302-fc36-53049f2be639",
        "colab": {}
      },
      "source": [
        "import pandas as pd\n",
        "\n",
        "columns = 'No. Outlook Temperature Humidity Windy PlayTennis'.split()\n",
        "\n",
        "raw = \"\"\"1 sunny hot high false N\n",
        "2 sunny hot high true N\n",
        "3 overcast hot high false P\n",
        "4 rain mild high false P\n",
        "5 rain cool normal false P\n",
        "6 rain cool normal true N\n",
        "7 overcast cool normal true P\n",
        "8 sunny mild high false N\n",
        "9 sunny cool normal false P\n",
        "10 rain mild normal false P\n",
        "11 sunny mild normal true P\n",
        "12 overcast mild high true P\n",
        "13 overcast hot normal false P\n",
        "14 rain mild high true N\"\"\"\n",
        "\n",
        "data = [row.split() for row in raw.split('\\n')]\n",
        "tennis = pd.DataFrame(data=data, columns=columns).set_index('No.')\n",
        "tennis['PlayTennis'] = (tennis['PlayTennis'] == 'P').astype(int)\n",
        "\n",
        "tennis"
      ],
      "execution_count": 0,
      "outputs": [
        {
          "output_type": "execute_result",
          "data": {
            "text/html": [
              "<div>\n",
              "<style scoped>\n",
              "    .dataframe tbody tr th:only-of-type {\n",
              "        vertical-align: middle;\n",
              "    }\n",
              "\n",
              "    .dataframe tbody tr th {\n",
              "        vertical-align: top;\n",
              "    }\n",
              "\n",
              "    .dataframe thead th {\n",
              "        text-align: right;\n",
              "    }\n",
              "</style>\n",
              "<table border=\"1\" class=\"dataframe\">\n",
              "  <thead>\n",
              "    <tr style=\"text-align: right;\">\n",
              "      <th></th>\n",
              "      <th>Outlook</th>\n",
              "      <th>Temperature</th>\n",
              "      <th>Humidity</th>\n",
              "      <th>Windy</th>\n",
              "      <th>PlayTennis</th>\n",
              "    </tr>\n",
              "    <tr>\n",
              "      <th>No.</th>\n",
              "      <th></th>\n",
              "      <th></th>\n",
              "      <th></th>\n",
              "      <th></th>\n",
              "      <th></th>\n",
              "    </tr>\n",
              "  </thead>\n",
              "  <tbody>\n",
              "    <tr>\n",
              "      <th>1</th>\n",
              "      <td>sunny</td>\n",
              "      <td>hot</td>\n",
              "      <td>high</td>\n",
              "      <td>false</td>\n",
              "      <td>0</td>\n",
              "    </tr>\n",
              "    <tr>\n",
              "      <th>2</th>\n",
              "      <td>sunny</td>\n",
              "      <td>hot</td>\n",
              "      <td>high</td>\n",
              "      <td>true</td>\n",
              "      <td>0</td>\n",
              "    </tr>\n",
              "    <tr>\n",
              "      <th>3</th>\n",
              "      <td>overcast</td>\n",
              "      <td>hot</td>\n",
              "      <td>high</td>\n",
              "      <td>false</td>\n",
              "      <td>1</td>\n",
              "    </tr>\n",
              "    <tr>\n",
              "      <th>4</th>\n",
              "      <td>rain</td>\n",
              "      <td>mild</td>\n",
              "      <td>high</td>\n",
              "      <td>false</td>\n",
              "      <td>1</td>\n",
              "    </tr>\n",
              "    <tr>\n",
              "      <th>5</th>\n",
              "      <td>rain</td>\n",
              "      <td>cool</td>\n",
              "      <td>normal</td>\n",
              "      <td>false</td>\n",
              "      <td>1</td>\n",
              "    </tr>\n",
              "    <tr>\n",
              "      <th>6</th>\n",
              "      <td>rain</td>\n",
              "      <td>cool</td>\n",
              "      <td>normal</td>\n",
              "      <td>true</td>\n",
              "      <td>0</td>\n",
              "    </tr>\n",
              "    <tr>\n",
              "      <th>7</th>\n",
              "      <td>overcast</td>\n",
              "      <td>cool</td>\n",
              "      <td>normal</td>\n",
              "      <td>true</td>\n",
              "      <td>1</td>\n",
              "    </tr>\n",
              "    <tr>\n",
              "      <th>8</th>\n",
              "      <td>sunny</td>\n",
              "      <td>mild</td>\n",
              "      <td>high</td>\n",
              "      <td>false</td>\n",
              "      <td>0</td>\n",
              "    </tr>\n",
              "    <tr>\n",
              "      <th>9</th>\n",
              "      <td>sunny</td>\n",
              "      <td>cool</td>\n",
              "      <td>normal</td>\n",
              "      <td>false</td>\n",
              "      <td>1</td>\n",
              "    </tr>\n",
              "    <tr>\n",
              "      <th>10</th>\n",
              "      <td>rain</td>\n",
              "      <td>mild</td>\n",
              "      <td>normal</td>\n",
              "      <td>false</td>\n",
              "      <td>1</td>\n",
              "    </tr>\n",
              "    <tr>\n",
              "      <th>11</th>\n",
              "      <td>sunny</td>\n",
              "      <td>mild</td>\n",
              "      <td>normal</td>\n",
              "      <td>true</td>\n",
              "      <td>1</td>\n",
              "    </tr>\n",
              "    <tr>\n",
              "      <th>12</th>\n",
              "      <td>overcast</td>\n",
              "      <td>mild</td>\n",
              "      <td>high</td>\n",
              "      <td>true</td>\n",
              "      <td>1</td>\n",
              "    </tr>\n",
              "    <tr>\n",
              "      <th>13</th>\n",
              "      <td>overcast</td>\n",
              "      <td>hot</td>\n",
              "      <td>normal</td>\n",
              "      <td>false</td>\n",
              "      <td>1</td>\n",
              "    </tr>\n",
              "    <tr>\n",
              "      <th>14</th>\n",
              "      <td>rain</td>\n",
              "      <td>mild</td>\n",
              "      <td>high</td>\n",
              "      <td>true</td>\n",
              "      <td>0</td>\n",
              "    </tr>\n",
              "  </tbody>\n",
              "</table>\n",
              "</div>"
            ],
            "text/plain": [
              "      Outlook Temperature Humidity  Windy  PlayTennis\n",
              "No.                                                  \n",
              "1       sunny         hot     high  false           0\n",
              "2       sunny         hot     high   true           0\n",
              "3    overcast         hot     high  false           1\n",
              "4        rain        mild     high  false           1\n",
              "5        rain        cool   normal  false           1\n",
              "6        rain        cool   normal   true           0\n",
              "7    overcast        cool   normal   true           1\n",
              "8       sunny        mild     high  false           0\n",
              "9       sunny        cool   normal  false           1\n",
              "10       rain        mild   normal  false           1\n",
              "11      sunny        mild   normal   true           1\n",
              "12   overcast        mild     high   true           1\n",
              "13   overcast         hot   normal  false           1\n",
              "14       rain        mild     high   true           0"
            ]
          },
          "metadata": {
            "tags": []
          },
          "execution_count": 32
        }
      ]
    },
    {
      "cell_type": "markdown",
      "metadata": {
        "colab_type": "text",
        "id": "BvFu9kvJj9kk"
      },
      "source": [
        "#### \"A decision tree that correctly classifies each object in the training set is given in Figure 2.\"\n",
        "\n",
        "<img src=\"https://i.imgur.com/RD7d0u0.png\" height=\"300\">"
      ]
    },
    {
      "cell_type": "markdown",
      "metadata": {
        "colab_type": "text",
        "id": "kHkkeALqjNiS"
      },
      "source": [
        "In this dataset, the tennis player decided to play on 64% of the days, and decided not to on 36% of the days."
      ]
    },
    {
      "cell_type": "code",
      "metadata": {
        "colab_type": "code",
        "id": "qeLDinBihMDQ",
        "outputId": "e8033e9e-45e6-4f6d-870c-b4e3baf61714",
        "colab": {}
      },
      "source": [
        "tennis['PlayTennis'].value_counts(normalize=True) * 100"
      ],
      "execution_count": 0,
      "outputs": [
        {
          "output_type": "execute_result",
          "data": {
            "text/plain": [
              "1    64.285714\n",
              "0    35.714286\n",
              "Name: PlayTennis, dtype: float64"
            ]
          },
          "metadata": {
            "tags": []
          },
          "execution_count": 39
        }
      ]
    },
    {
      "cell_type": "markdown",
      "metadata": {
        "colab_type": "text",
        "id": "Ype2-apnlaG2"
      },
      "source": [
        "The tennis player played on 100% of the overcast days, 40% of the sunny days, and 60% of the  rainy days"
      ]
    },
    {
      "cell_type": "code",
      "metadata": {
        "colab_type": "code",
        "id": "LfBMB0Soh58T",
        "outputId": "9ef7ee28-a7b9-4a68-c95a-f7093efcbb91",
        "colab": {}
      },
      "source": [
        "tennis.groupby('Outlook')['PlayTennis'].mean() * 100"
      ],
      "execution_count": 0,
      "outputs": [
        {
          "output_type": "execute_result",
          "data": {
            "text/plain": [
              "Outlook\n",
              "overcast    100.0\n",
              "rain         60.0\n",
              "sunny        40.0\n",
              "Name: PlayTennis, dtype: float64"
            ]
          },
          "metadata": {
            "tags": []
          },
          "execution_count": 38
        }
      ]
    },
    {
      "cell_type": "markdown",
      "metadata": {
        "colab_type": "text",
        "id": "jx3-MFvalrQC"
      },
      "source": [
        "On sunny days, the tennis player's decision depends on the humidity. (The Outlook and Humidity features interact.)"
      ]
    },
    {
      "cell_type": "code",
      "metadata": {
        "colab_type": "code",
        "id": "FmVN7hwEiHE5",
        "outputId": "2ff97688-79cb-4f63-8b65-df3b2cb5cb96",
        "colab": {}
      },
      "source": [
        "sunny = tennis[tennis['Outlook']=='sunny']\n",
        "sunny.groupby('Humidity')['PlayTennis'].mean() * 100"
      ],
      "execution_count": 0,
      "outputs": [
        {
          "output_type": "execute_result",
          "data": {
            "text/plain": [
              "Humidity\n",
              "high        0\n",
              "normal    100\n",
              "Name: PlayTennis, dtype: int64"
            ]
          },
          "metadata": {
            "tags": []
          },
          "execution_count": 40
        }
      ]
    },
    {
      "cell_type": "markdown",
      "metadata": {
        "colab_type": "text",
        "id": "y0it0HsFl47M"
      },
      "source": [
        "On rainy days, the tennis player's decision depends on the wind. (The Outlook and Windy features interact.)"
      ]
    },
    {
      "cell_type": "code",
      "metadata": {
        "colab_type": "code",
        "id": "CeOd7rGeivJp",
        "outputId": "0bf5e7fa-c144-40e5-9736-e3706aa3db6d",
        "colab": {}
      },
      "source": [
        "rainy = tennis[tennis['Outlook']=='rain']\n",
        "rainy.groupby('Windy')['PlayTennis'].mean() * 100"
      ],
      "execution_count": 0,
      "outputs": [
        {
          "output_type": "execute_result",
          "data": {
            "text/plain": [
              "Windy\n",
              "false    100\n",
              "true       0\n",
              "Name: PlayTennis, dtype: int64"
            ]
          },
          "metadata": {
            "tags": []
          },
          "execution_count": 41
        }
      ]
    },
    {
      "cell_type": "markdown",
      "metadata": {
        "id": "1rwNpLm6niXx",
        "colab_type": "text"
      },
      "source": [
        "#### Before modeling, we will [\"encode\" categorical variables, using pandas](https://pandas.pydata.org/pandas-docs/stable/user_guide/reshaping.html?highlight=get_dummies#computing-indicator-dummy-variables)"
      ]
    },
    {
      "cell_type": "code",
      "metadata": {
        "colab_type": "code",
        "id": "VCyn34nEi0nz",
        "outputId": "39ae1151-f2e3-41f4-b038-19bb9aae114a",
        "colab": {}
      },
      "source": [
        "y = tennis['PlayTennis']\n",
        "X = pd.get_dummies(tennis.drop(columns='PlayTennis'))\n",
        "X"
      ],
      "execution_count": 0,
      "outputs": [
        {
          "output_type": "stream",
          "text": [
            "(14, 10) (14,)\n"
          ],
          "name": "stdout"
        },
        {
          "output_type": "execute_result",
          "data": {
            "text/html": [
              "<div>\n",
              "<style scoped>\n",
              "    .dataframe tbody tr th:only-of-type {\n",
              "        vertical-align: middle;\n",
              "    }\n",
              "\n",
              "    .dataframe tbody tr th {\n",
              "        vertical-align: top;\n",
              "    }\n",
              "\n",
              "    .dataframe thead th {\n",
              "        text-align: right;\n",
              "    }\n",
              "</style>\n",
              "<table border=\"1\" class=\"dataframe\">\n",
              "  <thead>\n",
              "    <tr style=\"text-align: right;\">\n",
              "      <th></th>\n",
              "      <th>Outlook_overcast</th>\n",
              "      <th>Outlook_rain</th>\n",
              "      <th>Outlook_sunny</th>\n",
              "      <th>Temperature_cool</th>\n",
              "      <th>Temperature_hot</th>\n",
              "      <th>Temperature_mild</th>\n",
              "      <th>Humidity_high</th>\n",
              "      <th>Humidity_normal</th>\n",
              "      <th>Windy_false</th>\n",
              "      <th>Windy_true</th>\n",
              "    </tr>\n",
              "    <tr>\n",
              "      <th>No.</th>\n",
              "      <th></th>\n",
              "      <th></th>\n",
              "      <th></th>\n",
              "      <th></th>\n",
              "      <th></th>\n",
              "      <th></th>\n",
              "      <th></th>\n",
              "      <th></th>\n",
              "      <th></th>\n",
              "      <th></th>\n",
              "    </tr>\n",
              "  </thead>\n",
              "  <tbody>\n",
              "    <tr>\n",
              "      <th>1</th>\n",
              "      <td>0</td>\n",
              "      <td>0</td>\n",
              "      <td>1</td>\n",
              "      <td>0</td>\n",
              "      <td>1</td>\n",
              "      <td>0</td>\n",
              "      <td>1</td>\n",
              "      <td>0</td>\n",
              "      <td>1</td>\n",
              "      <td>0</td>\n",
              "    </tr>\n",
              "    <tr>\n",
              "      <th>2</th>\n",
              "      <td>0</td>\n",
              "      <td>0</td>\n",
              "      <td>1</td>\n",
              "      <td>0</td>\n",
              "      <td>1</td>\n",
              "      <td>0</td>\n",
              "      <td>1</td>\n",
              "      <td>0</td>\n",
              "      <td>0</td>\n",
              "      <td>1</td>\n",
              "    </tr>\n",
              "    <tr>\n",
              "      <th>3</th>\n",
              "      <td>1</td>\n",
              "      <td>0</td>\n",
              "      <td>0</td>\n",
              "      <td>0</td>\n",
              "      <td>1</td>\n",
              "      <td>0</td>\n",
              "      <td>1</td>\n",
              "      <td>0</td>\n",
              "      <td>1</td>\n",
              "      <td>0</td>\n",
              "    </tr>\n",
              "    <tr>\n",
              "      <th>4</th>\n",
              "      <td>0</td>\n",
              "      <td>1</td>\n",
              "      <td>0</td>\n",
              "      <td>0</td>\n",
              "      <td>0</td>\n",
              "      <td>1</td>\n",
              "      <td>1</td>\n",
              "      <td>0</td>\n",
              "      <td>1</td>\n",
              "      <td>0</td>\n",
              "    </tr>\n",
              "    <tr>\n",
              "      <th>5</th>\n",
              "      <td>0</td>\n",
              "      <td>1</td>\n",
              "      <td>0</td>\n",
              "      <td>1</td>\n",
              "      <td>0</td>\n",
              "      <td>0</td>\n",
              "      <td>0</td>\n",
              "      <td>1</td>\n",
              "      <td>1</td>\n",
              "      <td>0</td>\n",
              "    </tr>\n",
              "    <tr>\n",
              "      <th>6</th>\n",
              "      <td>0</td>\n",
              "      <td>1</td>\n",
              "      <td>0</td>\n",
              "      <td>1</td>\n",
              "      <td>0</td>\n",
              "      <td>0</td>\n",
              "      <td>0</td>\n",
              "      <td>1</td>\n",
              "      <td>0</td>\n",
              "      <td>1</td>\n",
              "    </tr>\n",
              "    <tr>\n",
              "      <th>7</th>\n",
              "      <td>1</td>\n",
              "      <td>0</td>\n",
              "      <td>0</td>\n",
              "      <td>1</td>\n",
              "      <td>0</td>\n",
              "      <td>0</td>\n",
              "      <td>0</td>\n",
              "      <td>1</td>\n",
              "      <td>0</td>\n",
              "      <td>1</td>\n",
              "    </tr>\n",
              "    <tr>\n",
              "      <th>8</th>\n",
              "      <td>0</td>\n",
              "      <td>0</td>\n",
              "      <td>1</td>\n",
              "      <td>0</td>\n",
              "      <td>0</td>\n",
              "      <td>1</td>\n",
              "      <td>1</td>\n",
              "      <td>0</td>\n",
              "      <td>1</td>\n",
              "      <td>0</td>\n",
              "    </tr>\n",
              "    <tr>\n",
              "      <th>9</th>\n",
              "      <td>0</td>\n",
              "      <td>0</td>\n",
              "      <td>1</td>\n",
              "      <td>1</td>\n",
              "      <td>0</td>\n",
              "      <td>0</td>\n",
              "      <td>0</td>\n",
              "      <td>1</td>\n",
              "      <td>1</td>\n",
              "      <td>0</td>\n",
              "    </tr>\n",
              "    <tr>\n",
              "      <th>10</th>\n",
              "      <td>0</td>\n",
              "      <td>1</td>\n",
              "      <td>0</td>\n",
              "      <td>0</td>\n",
              "      <td>0</td>\n",
              "      <td>1</td>\n",
              "      <td>0</td>\n",
              "      <td>1</td>\n",
              "      <td>1</td>\n",
              "      <td>0</td>\n",
              "    </tr>\n",
              "    <tr>\n",
              "      <th>11</th>\n",
              "      <td>0</td>\n",
              "      <td>0</td>\n",
              "      <td>1</td>\n",
              "      <td>0</td>\n",
              "      <td>0</td>\n",
              "      <td>1</td>\n",
              "      <td>0</td>\n",
              "      <td>1</td>\n",
              "      <td>0</td>\n",
              "      <td>1</td>\n",
              "    </tr>\n",
              "    <tr>\n",
              "      <th>12</th>\n",
              "      <td>1</td>\n",
              "      <td>0</td>\n",
              "      <td>0</td>\n",
              "      <td>0</td>\n",
              "      <td>0</td>\n",
              "      <td>1</td>\n",
              "      <td>1</td>\n",
              "      <td>0</td>\n",
              "      <td>0</td>\n",
              "      <td>1</td>\n",
              "    </tr>\n",
              "    <tr>\n",
              "      <th>13</th>\n",
              "      <td>1</td>\n",
              "      <td>0</td>\n",
              "      <td>0</td>\n",
              "      <td>0</td>\n",
              "      <td>1</td>\n",
              "      <td>0</td>\n",
              "      <td>0</td>\n",
              "      <td>1</td>\n",
              "      <td>1</td>\n",
              "      <td>0</td>\n",
              "    </tr>\n",
              "    <tr>\n",
              "      <th>14</th>\n",
              "      <td>0</td>\n",
              "      <td>1</td>\n",
              "      <td>0</td>\n",
              "      <td>0</td>\n",
              "      <td>0</td>\n",
              "      <td>1</td>\n",
              "      <td>1</td>\n",
              "      <td>0</td>\n",
              "      <td>0</td>\n",
              "      <td>1</td>\n",
              "    </tr>\n",
              "  </tbody>\n",
              "</table>\n",
              "</div>"
            ],
            "text/plain": [
              "     Outlook_overcast  Outlook_rain  Outlook_sunny  Temperature_cool  \\\n",
              "No.                                                                    \n",
              "1                   0             0              1                 0   \n",
              "2                   0             0              1                 0   \n",
              "3                   1             0              0                 0   \n",
              "4                   0             1              0                 0   \n",
              "5                   0             1              0                 1   \n",
              "6                   0             1              0                 1   \n",
              "7                   1             0              0                 1   \n",
              "8                   0             0              1                 0   \n",
              "9                   0             0              1                 1   \n",
              "10                  0             1              0                 0   \n",
              "11                  0             0              1                 0   \n",
              "12                  1             0              0                 0   \n",
              "13                  1             0              0                 0   \n",
              "14                  0             1              0                 0   \n",
              "\n",
              "     Temperature_hot  Temperature_mild  Humidity_high  Humidity_normal  \\\n",
              "No.                                                                      \n",
              "1                  1                 0              1                0   \n",
              "2                  1                 0              1                0   \n",
              "3                  1                 0              1                0   \n",
              "4                  0                 1              1                0   \n",
              "5                  0                 0              0                1   \n",
              "6                  0                 0              0                1   \n",
              "7                  0                 0              0                1   \n",
              "8                  0                 1              1                0   \n",
              "9                  0                 0              0                1   \n",
              "10                 0                 1              0                1   \n",
              "11                 0                 1              0                1   \n",
              "12                 0                 1              1                0   \n",
              "13                 1                 0              0                1   \n",
              "14                 0                 1              1                0   \n",
              "\n",
              "     Windy_false  Windy_true  \n",
              "No.                           \n",
              "1              1           0  \n",
              "2              0           1  \n",
              "3              1           0  \n",
              "4              1           0  \n",
              "5              1           0  \n",
              "6              0           1  \n",
              "7              0           1  \n",
              "8              1           0  \n",
              "9              1           0  \n",
              "10             1           0  \n",
              "11             0           1  \n",
              "12             0           1  \n",
              "13             1           0  \n",
              "14             0           1  "
            ]
          },
          "metadata": {
            "tags": []
          },
          "execution_count": 45
        }
      ]
    },
    {
      "cell_type": "markdown",
      "metadata": {
        "colab_type": "text",
        "id": "UvOkHk8o-h_r"
      },
      "source": [
        "## Train a Decision Tree Classifier\n",
        "Get a score of 100% (accuracy)\n",
        "\n",
        "https://scikit-learn.org/stable/modules/generated/sklearn.tree.DecisionTreeClassifier.html"
      ]
    },
    {
      "cell_type": "code",
      "metadata": {
        "id": "w3zRPYHHniYN",
        "colab_type": "code",
        "colab": {}
      },
      "source": [
        ""
      ],
      "execution_count": 0,
      "outputs": []
    },
    {
      "cell_type": "markdown",
      "metadata": {
        "colab_type": "text",
        "id": "9uNPrbfS-vzL"
      },
      "source": [
        "## Compare to Logistic Regression\n",
        "https://scikit-learn.org/stable/modules/generated/sklearn.linear_model.LogisticRegression.html"
      ]
    },
    {
      "cell_type": "code",
      "metadata": {
        "id": "r81UkFSPniYg",
        "colab_type": "code",
        "colab": {}
      },
      "source": [
        ""
      ],
      "execution_count": 0,
      "outputs": []
    },
    {
      "cell_type": "markdown",
      "metadata": {
        "colab_type": "text",
        "id": "EwF0phe6-oR8"
      },
      "source": [
        "## Visualize the tree\n",
        "https://scikit-learn.org/stable/modules/generated/sklearn.tree.export_graphviz.html"
      ]
    },
    {
      "cell_type": "code",
      "metadata": {
        "id": "RSSAvluGniY-",
        "colab_type": "code",
        "colab": {}
      },
      "source": [
        ""
      ],
      "execution_count": 0,
      "outputs": []
    }
  ]
}