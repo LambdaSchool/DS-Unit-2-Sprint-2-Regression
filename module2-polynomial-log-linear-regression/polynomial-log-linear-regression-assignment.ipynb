{
  "nbformat": 4,
  "nbformat_minor": 0,
  "metadata": {
    "colab": {
      "name": "Polynomial/Log-linear Regression Assignment.ipynb",
      "version": "0.3.2",
      "provenance": []
    },
    "language_info": {
      "codemirror_mode": {
        "name": "ipython",
        "version": 3
      },
      "file_extension": ".py",
      "mimetype": "text/x-python",
      "name": "python",
      "nbconvert_exporter": "python",
      "pygments_lexer": "ipython3",
      "version": "3.7.1"
    },
    "kernelspec": {
      "display_name": "Python 3",
      "language": "python",
      "name": "python3"
    }
  },
  "cells": [
    {
      "metadata": {
        "colab_type": "code",
        "id": "XYZSkixpo2qD",
        "colab": {}
      },
      "cell_type": "code",
      "source": [
        "import matplotlib.pyplot as plt\n",
        "import numpy as np\n",
        "import pandas as pd\n",
        "import seaborn as sns\n",
        "from sklearn.linear_model import LinearRegression\n",
        "from sklearn.model_selection import train_test_split\n",
        "from sklearn.metrics import mean_absolute_error, mean_squared_error, r2_score\n",
        "import statsmodels.api as sm\n",
        "\n",
        "pd.set_option('display.max_rows', 500)"
      ],
      "execution_count": 0,
      "outputs": []
    },
    {
      "metadata": {
        "colab_type": "text",
        "id": "Dc4kEVNWo4yZ"
      },
      "cell_type": "markdown",
      "source": [
        "# Intermediate Linear Regression Practice\n",
        "\n",
        "## Use a Linear Regression model to get the lowest RMSE possible on the following dataset:\n",
        "\n",
        "[Dataset Folder](https://github.com/ryanleeallred/datasets/tree/master/Ames%20Housing%20Data)\n",
        "\n",
        "[Raw CSV](https://raw.githubusercontent.com/ryanleeallred/datasets/master/Ames%20Housing%20Data/train.csv)\n",
        "\n",
        "## Your model must include (at least):\n",
        "- A log-transformed y variable\n",
        "- Two polynomial features\n",
        "- One interaction feature\n",
        "- 10 other engineered features\n",
        "\n",
        "What is the lowest Root-Mean-Squared Error that you are able to obtain? Share your best RMSEs in Slack!\n",
        "\n",
        "Notes:\n",
        "\n",
        "There may be some data cleaning that you need to do on some features of this dataset. Linear Regression will only accept numeric values and will not accept\n",
        "\n",
        "Note* There may not be a clear candidate for an interaction term in this dataset. Include one anyway, sometimes it's a good practice for predictive modeling feature engineering in general. "
      ]
    },
    {
      "metadata": {
        "id": "qZ3rCJZmsvcF",
        "colab_type": "code",
        "colab": {}
      },
      "cell_type": "code",
      "source": [
        "url = 'https://raw.githubusercontent.com/ryanleeallred/datasets/master/Ames%20Housing%20Data/train.csv'\n",
        "\n",
        "df = pd.read_csv(url)"
      ],
      "execution_count": 0,
      "outputs": []
    },
    {
      "metadata": {
        "id": "SXYcmNif6bQJ",
        "colab_type": "code",
        "colab": {}
      },
      "cell_type": "code",
      "source": [
        "#columns to drop bc of NaNs:\n",
        "drop_cols = ['Alley', 'Fence', 'MiscFeature']\n",
        "df = df.drop(columns = drop_cols)"
      ],
      "execution_count": 0,
      "outputs": []
    },
    {
      "metadata": {
        "id": "P4nREMuH-KFB",
        "colab_type": "code",
        "colab": {}
      },
      "cell_type": "code",
      "source": [
        "#Fill Nans for garage yr blt w/ YearBlt value:\n",
        "\n",
        "nums = df[df.GarageYrBlt.isna() == True].index\n",
        "for i in nums:\n",
        "  df.at[i, 'GarageYrBlt'] = df.at[i, 'YearBuilt']\n",
        "  \n",
        "#drop 8 rows of masonry veneer area Nans:\n",
        "df.dropna(subset=['MasVnrArea'], inplace=True)\n",
        "\n",
        "#Fill NaNs for LotFrontage as 0:\n",
        "df['LotFrontage'] = df['LotFrontage'].fillna(0)"
      ],
      "execution_count": 0,
      "outputs": []
    },
    {
      "metadata": {
        "id": "iXw-688q0cCl",
        "colab_type": "code",
        "colab": {
          "base_uri": "https://localhost:8080/",
          "height": 181
        },
        "outputId": "0466a6ec-51e3-45c8-8f0b-c4dc9aae9795"
      },
      "cell_type": "code",
      "source": [
        "numeric_columns = df.select_dtypes(include='number').drop(columns='Id').columns\n",
        "numeric_columns"
      ],
      "execution_count": 6,
      "outputs": [
        {
          "output_type": "execute_result",
          "data": {
            "text/plain": [
              "Index(['MSSubClass', 'LotFrontage', 'LotArea', 'OverallQual', 'OverallCond',\n",
              "       'YearBuilt', 'YearRemodAdd', 'MasVnrArea', 'BsmtFinSF1', 'BsmtFinSF2',\n",
              "       'BsmtUnfSF', 'TotalBsmtSF', '1stFlrSF', '2ndFlrSF', 'LowQualFinSF',\n",
              "       'GrLivArea', 'BsmtFullBath', 'BsmtHalfBath', 'FullBath', 'HalfBath',\n",
              "       'BedroomAbvGr', 'KitchenAbvGr', 'TotRmsAbvGrd', 'Fireplaces',\n",
              "       'GarageYrBlt', 'GarageCars', 'GarageArea', 'WoodDeckSF', 'OpenPorchSF',\n",
              "       'EnclosedPorch', '3SsnPorch', 'ScreenPorch', 'PoolArea', 'MiscVal',\n",
              "       'MoSold', 'YrSold', 'SalePrice'],\n",
              "      dtype='object')"
            ]
          },
          "metadata": {
            "tags": []
          },
          "execution_count": 6
        }
      ]
    },
    {
      "metadata": {
        "id": "-U8e3fe_BDjM",
        "colab_type": "code",
        "colab": {}
      },
      "cell_type": "code",
      "source": [
        "def run_linear_model(X, y):\n",
        "    # Split into test and train data\n",
        "    X_train, X_test, y_train, y_test = train_test_split(X, y, train_size=0.80, test_size=0.20, random_state=42)\n",
        "\n",
        "    # Fit model using train data\n",
        "    model = LinearRegression()\n",
        "    model.fit(X_train, y_train)\n",
        "\n",
        "    # Make predictions using test features\n",
        "    y_pred = model.predict(X_test)\n",
        "\n",
        "    # Compare predictions to test target\n",
        "    rmse = (np.sqrt(mean_squared_error(y_test, y_pred)))\n",
        "    r2 = r2_score(y_test, y_pred)\n",
        "\n",
        "    print('Root Mean Squared Error', rmse)\n",
        "    print('R^2 Score', r2)\n",
        "    print('Intercept', model.intercept_)\n",
        "    coefficients = pd.Series(model.coef_, X_train.columns)\n",
        "    print(coefficients.to_string())"
      ],
      "execution_count": 0,
      "outputs": []
    },
    {
      "metadata": {
        "id": "-45lbmpDAAlz",
        "colab_type": "code",
        "colab": {
          "base_uri": "https://localhost:8080/",
          "height": 726
        },
        "outputId": "bf782a8c-1af2-441d-ace8-affcac1602aa"
      },
      "cell_type": "code",
      "source": [
        "#Pre-feature engineering baseline regression:\n",
        "\n",
        "target= 'SalePrice'\n",
        "\n",
        "X = df[numeric_columns].drop(columns=target)\n",
        "y = df[target]\n",
        "\n",
        "run_linear_model(X, y)"
      ],
      "execution_count": 8,
      "outputs": [
        {
          "output_type": "stream",
          "text": [
            "Root Mean Squared Error 30491.521649630755\n",
            "R^2 Score 0.8477464959400496\n",
            "Intercept 220589.42269341327\n",
            "MSSubClass        -173.645775\n",
            "LotFrontage          1.754565\n",
            "LotArea              0.381321\n",
            "OverallQual      17393.481114\n",
            "OverallCond       3663.422892\n",
            "YearBuilt          313.271387\n",
            "YearRemodAdd       228.352471\n",
            "MasVnrArea          39.528342\n",
            "BsmtFinSF1           8.775940\n",
            "BsmtFinSF2          -2.772518\n",
            "BsmtUnfSF           -1.446343\n",
            "TotalBsmtSF          4.557080\n",
            "1stFlrSF            13.099720\n",
            "2ndFlrSF            13.393311\n",
            "LowQualFinSF         7.322930\n",
            "GrLivArea           33.815960\n",
            "BsmtFullBath     10711.209239\n",
            "BsmtHalfBath      2428.199879\n",
            "FullBath          5700.736127\n",
            "HalfBath         -3383.169793\n",
            "BedroomAbvGr     -9849.144139\n",
            "KitchenAbvGr    -12219.141455\n",
            "TotRmsAbvGrd      4587.806384\n",
            "Fireplaces        4654.336873\n",
            "GarageYrBlt        -29.930401\n",
            "GarageCars       12190.843114\n",
            "GarageArea          -4.618454\n",
            "WoodDeckSF          25.632564\n",
            "OpenPorchSF        -13.474969\n",
            "EnclosedPorch        9.782653\n",
            "3SsnPorch           30.874942\n",
            "ScreenPorch         37.623401\n",
            "PoolArea           -25.653473\n",
            "MiscVal             -0.623324\n",
            "MoSold             -48.685553\n",
            "YrSold            -637.725691\n"
          ],
          "name": "stdout"
        }
      ]
    },
    {
      "metadata": {
        "id": "6FZx0gEhCRig",
        "colab_type": "text"
      },
      "cell_type": "markdown",
      "source": [
        "#Engineer Some Features"
      ]
    },
    {
      "metadata": {
        "id": "etx968zBCaJi",
        "colab_type": "text"
      },
      "cell_type": "markdown",
      "source": [
        "###A log-transformed y variable"
      ]
    },
    {
      "metadata": {
        "id": "2JDwBQ_SCbdi",
        "colab_type": "code",
        "colab": {}
      },
      "cell_type": "code",
      "source": [
        "df['ln_price'] = np.log(df['SalePrice'])"
      ],
      "execution_count": 0,
      "outputs": []
    },
    {
      "metadata": {
        "id": "eTi8cpgRDCq4",
        "colab_type": "text"
      },
      "cell_type": "markdown",
      "source": [
        "###Two polynomial features"
      ]
    },
    {
      "metadata": {
        "id": "gn-kTYEO1uuS",
        "colab_type": "text"
      },
      "cell_type": "markdown",
      "source": [
        "Find Curved Data:"
      ]
    },
    {
      "metadata": {
        "id": "Oj19oP8T1s23",
        "colab_type": "code",
        "colab": {}
      },
      "cell_type": "code",
      "source": [
        "for feature in df[numeric_columns]:\n",
        "    sns.scatterplot(x=feature, y=target, data=df, alpha=0.1)\n",
        "    plt.show()"
      ],
      "execution_count": 0,
      "outputs": []
    },
    {
      "metadata": {
        "id": "-yU2FhdW2ENW",
        "colab_type": "code",
        "colab": {}
      },
      "cell_type": "code",
      "source": [
        "#candidates for curved data after visual inspection, add squared column:\n",
        "#-OverallQual\n",
        "#-GarageCars\n",
        "\n",
        "df['quality_squared'] = df['OverallQual']**2\n",
        "df['garage_cars_squared'] = df['GarageCars']**2"
      ],
      "execution_count": 0,
      "outputs": []
    },
    {
      "metadata": {
        "id": "TuPCB84bImRD",
        "colab_type": "text"
      },
      "cell_type": "markdown",
      "source": [
        "Check if squaring the Quality feature increased predictive accuracy:"
      ]
    },
    {
      "metadata": {
        "id": "sFpj6M6zHQxX",
        "colab_type": "code",
        "colab": {
          "base_uri": "https://localhost:8080/",
          "height": 90
        },
        "outputId": "2ea4b1ed-bc10-4975-b79d-ac5830248285"
      },
      "cell_type": "code",
      "source": [
        "X = df[['OverallQual']]\n",
        "y = df['SalePrice']\n",
        "\n",
        "run_linear_model(X, y)"
      ],
      "execution_count": 16,
      "outputs": [
        {
          "output_type": "stream",
          "text": [
            "Root Mean Squared Error 45297.668507270086\n",
            "R^2 Score 0.663983348884778\n",
            "Intercept -93666.48660666705\n",
            "OverallQual    45137.190503\n"
          ],
          "name": "stdout"
        }
      ]
    },
    {
      "metadata": {
        "id": "ka2FUdbNHf5B",
        "colab_type": "code",
        "colab": {
          "base_uri": "https://localhost:8080/",
          "height": 90
        },
        "outputId": "510feebf-ea6b-4b75-ddb1-bd786ac4bf54"
      },
      "cell_type": "code",
      "source": [
        "X = df[['quality_squared']]\n",
        "y = df['SalePrice']\n",
        "\n",
        "run_linear_model(X, y)"
      ],
      "execution_count": 17,
      "outputs": [
        {
          "output_type": "stream",
          "text": [
            "Root Mean Squared Error 42824.467576919145\n",
            "R^2 Score 0.6996739216639173\n",
            "Intercept 36248.37116356945\n",
            "quality_squared    3717.658598\n"
          ],
          "name": "stdout"
        }
      ]
    },
    {
      "metadata": {
        "id": "y30noPoUIzM5",
        "colab_type": "text"
      },
      "cell_type": "markdown",
      "source": [
        "Check if squaring the basement square footage increased predictive accuracy:"
      ]
    },
    {
      "metadata": {
        "id": "l9S61VVNHvTK",
        "colab_type": "code",
        "colab": {
          "base_uri": "https://localhost:8080/",
          "height": 90
        },
        "outputId": "427189a7-f938-43f9-b843-86491623e235"
      },
      "cell_type": "code",
      "source": [
        "X = df[['GarageCars']]\n",
        "y = df['SalePrice']\n",
        "\n",
        "run_linear_model(X, y)"
      ],
      "execution_count": 18,
      "outputs": [
        {
          "output_type": "stream",
          "text": [
            "Root Mean Squared Error 56530.779742080194\n",
            "R^2 Score 0.4766658778405879\n",
            "Intercept 63191.699386551816\n",
            "GarageCars    66547.861117\n"
          ],
          "name": "stdout"
        }
      ]
    },
    {
      "metadata": {
        "id": "_A0-Kn0iIiNV",
        "colab_type": "code",
        "colab": {
          "base_uri": "https://localhost:8080/",
          "height": 90
        },
        "outputId": "3c903da3-653f-4631-fed8-d39e339bb609"
      },
      "cell_type": "code",
      "source": [
        "X = df[['garage_cars_squared']]\n",
        "y = df['SalePrice']\n",
        "\n",
        "run_linear_model(X, y)"
      ],
      "execution_count": 19,
      "outputs": [
        {
          "output_type": "stream",
          "text": [
            "Root Mean Squared Error 53022.91689699418\n",
            "R^2 Score 0.5395989222623487\n",
            "Intercept 107204.01645159317\n",
            "garage_cars_squared    19976.136255\n"
          ],
          "name": "stdout"
        }
      ]
    },
    {
      "metadata": {
        "id": "sRUWDxnKEdzX",
        "colab_type": "text"
      },
      "cell_type": "markdown",
      "source": [
        "###One interaction feature"
      ]
    },
    {
      "metadata": {
        "id": "Dd-DAYl_DM2B",
        "colab_type": "code",
        "colab": {}
      },
      "cell_type": "code",
      "source": [
        ""
      ],
      "execution_count": 0,
      "outputs": []
    },
    {
      "metadata": {
        "id": "oRe4wkctEmDO",
        "colab_type": "text"
      },
      "cell_type": "markdown",
      "source": [
        "###10 other engineered features\n"
      ]
    },
    {
      "metadata": {
        "id": "sAq1yY8vEh50",
        "colab_type": "code",
        "colab": {}
      },
      "cell_type": "code",
      "source": [
        "#age:\n",
        "\n",
        "df['age'] = 2010 - df['YearBuilt']"
      ],
      "execution_count": 0,
      "outputs": []
    },
    {
      "metadata": {
        "id": "EIdJD0IEZtpF",
        "colab_type": "code",
        "colab": {}
      },
      "cell_type": "code",
      "source": [
        "#renovation_age:\n",
        "\n",
        "df['renovation_age'] = 2010 - df['YearRemodAdd']"
      ],
      "execution_count": 0,
      "outputs": []
    },
    {
      "metadata": {
        "id": "7TdzEPKlUweP",
        "colab_type": "code",
        "colab": {}
      },
      "cell_type": "code",
      "source": [
        "#yard size (ignores deck, pool, etc):\n",
        "\n",
        "df['yard_size'] = df['LotArea'] - df['1stFlrSF']"
      ],
      "execution_count": 0,
      "outputs": []
    },
    {
      "metadata": {
        "id": "XOZks7_GXH0a",
        "colab_type": "code",
        "colab": {}
      },
      "cell_type": "code",
      "source": [
        "#kitchen Quality:\n",
        "\n",
        "kitchen_map = {'Ex':5, 'Gd':4, 'TA':3, 'Fa':2, 'Po':1}\t\n",
        "df['KitchenQual'] = df['KitchenQual'].replace(kitchen_map)"
      ],
      "execution_count": 0,
      "outputs": []
    },
    {
      "metadata": {
        "id": "QXjyySVbY31X",
        "colab_type": "code",
        "colab": {}
      },
      "cell_type": "code",
      "source": [
        "#fireplace quality:\n",
        "\n",
        "fireplace_map = {'Ex':5, 'Gd':4, 'TA':3, 'Fa':2, 'Po':1, np.NaN: 0}\n",
        "df['FireplaceQu'] = df['FireplaceQu'].replace(fireplace_map)"
      ],
      "execution_count": 0,
      "outputs": []
    },
    {
      "metadata": {
        "id": "wB3D774dajI0",
        "colab_type": "code",
        "colab": {}
      },
      "cell_type": "code",
      "source": [
        "#garage type:\n",
        "\n",
        "garage_map = {'Ex':5, 'Gd':4, 'TA':3, 'Fa':2, 'Po':1, np.NaN: 0}\n",
        "df['GarageType'] = df['GarageType'].replace(garage_map) "
      ],
      "execution_count": 0,
      "outputs": []
    },
    {
      "metadata": {
        "id": "oKv4hJqfZ7gp",
        "colab_type": "code",
        "colab": {}
      },
      "cell_type": "code",
      "source": [
        "#garage quality:\n",
        "\n",
        "df['GarageQual'] = df['GarageQual'].replace(garage_map) "
      ],
      "execution_count": 0,
      "outputs": []
    },
    {
      "metadata": {
        "id": "zBQqzoiGa4Od",
        "colab_type": "code",
        "colab": {}
      },
      "cell_type": "code",
      "source": [
        "#garage condition:\n",
        "\n",
        "df['GarageCond'] = df['GarageCond'].replace(garage_map) "
      ],
      "execution_count": 0,
      "outputs": []
    },
    {
      "metadata": {
        "id": "9AKBOz-ubq73",
        "colab_type": "code",
        "colab": {}
      },
      "cell_type": "code",
      "source": [
        "#garage finish:\n",
        "\n",
        "finish_map = {'Fin':3, 'RFn': 2, 'Unf':1, np.NaN:0}\n",
        "df['GarageFinish'] = df['GarageFinish'].replace(finish_map)"
      ],
      "execution_count": 0,
      "outputs": []
    },
    {
      "metadata": {
        "id": "V8CSYf06cJKo",
        "colab_type": "code",
        "colab": {}
      },
      "cell_type": "code",
      "source": [
        "#Pool Qulaity:\n",
        "  \n",
        "pool_map = {'Ex':5, 'Gd':4, 'TA':3, 'Fa':2, 'Po':1, np.NaN: 0}\n",
        "df['PoolQC'] =  df['PoolQC'].replace(pool_map)"
      ],
      "execution_count": 0,
      "outputs": []
    },
    {
      "metadata": {
        "id": "IGYivpFactVt",
        "colab_type": "code",
        "colab": {}
      },
      "cell_type": "code",
      "source": [
        "#sale type:\n",
        "\n",
        "sale_map = {'Normal': 3,\n",
        "            'Partial': 3,\n",
        "            'Abnorml': 1,\n",
        "            'Family': 1,\n",
        "            'AdjLand': 2,\t\n",
        "            'Alloca': 2}\n",
        "\n",
        "df['sale_type'] = df['SaleCondition'].replace(sale_map)"
      ],
      "execution_count": 0,
      "outputs": []
    },
    {
      "metadata": {
        "id": "TkoCHCxje-Rq",
        "colab_type": "code",
        "colab": {}
      },
      "cell_type": "code",
      "source": [
        "#Lot shape:\n",
        "\n",
        "shape_map = {'Reg': 4, 'IR1': 3, 'IR2': 2, 'IR3': 1}\n",
        "df[\"LotShape\"] = df[\"LotShape\"].replace(shape_map)"
      ],
      "execution_count": 0,
      "outputs": []
    },
    {
      "metadata": {
        "id": "aw_YVo8zfiiY",
        "colab_type": "code",
        "colab": {}
      },
      "cell_type": "code",
      "source": [
        "#Street:\n",
        "  \n",
        "street_map = {'Grvl':1, 'Pave':2}\n",
        "df['Street'] = df['Street'].replace(street_map)"
      ],
      "execution_count": 0,
      "outputs": []
    },
    {
      "metadata": {
        "id": "a4643ArEgZzU",
        "colab_type": "code",
        "colab": {
          "base_uri": "https://localhost:8080/",
          "height": 235
        },
        "outputId": "8c291f10-b27f-4250-fe81-4c15b3c53e7e"
      },
      "cell_type": "code",
      "source": [
        "numeric_columns = df.select_dtypes(include='number').drop(columns=['Id', 'SalePrice', 'ln_price']).columns\n",
        "numeric_columns"
      ],
      "execution_count": 33,
      "outputs": [
        {
          "output_type": "execute_result",
          "data": {
            "text/plain": [
              "Index(['MSSubClass', 'LotFrontage', 'LotArea', 'Street', 'LotShape',\n",
              "       'OverallQual', 'OverallCond', 'YearBuilt', 'YearRemodAdd', 'MasVnrArea',\n",
              "       'BsmtFinSF1', 'BsmtFinSF2', 'BsmtUnfSF', 'TotalBsmtSF', '1stFlrSF',\n",
              "       '2ndFlrSF', 'LowQualFinSF', 'GrLivArea', 'BsmtFullBath', 'BsmtHalfBath',\n",
              "       'FullBath', 'HalfBath', 'BedroomAbvGr', 'KitchenAbvGr', 'TotRmsAbvGrd',\n",
              "       'Fireplaces', 'FireplaceQu', 'GarageYrBlt', 'GarageFinish',\n",
              "       'GarageCars', 'GarageArea', 'GarageQual', 'GarageCond', 'WoodDeckSF',\n",
              "       'OpenPorchSF', 'EnclosedPorch', '3SsnPorch', 'ScreenPorch', 'PoolArea',\n",
              "       'PoolQC', 'MiscVal', 'MoSold', 'YrSold', 'quality_squared',\n",
              "       'garage_cars_squared', 'age', 'renovation_age', 'yard_size',\n",
              "       'sale_type'],\n",
              "      dtype='object')"
            ]
          },
          "metadata": {
            "tags": []
          },
          "execution_count": 33
        }
      ]
    },
    {
      "metadata": {
        "id": "pgzHlI6Khysk",
        "colab_type": "code",
        "colab": {
          "base_uri": "https://localhost:8080/",
          "height": 963
        },
        "outputId": "42292453-46c4-4a38-b7b5-19177502b51b"
      },
      "cell_type": "code",
      "source": [
        "target= 'ln_price'\n",
        "\n",
        "X = df[numeric_columns]\n",
        "y = df[target]\n",
        "\n",
        "run_linear_model(X, y)"
      ],
      "execution_count": 34,
      "outputs": [
        {
          "output_type": "stream",
          "text": [
            "Root Mean Squared Error 0.13286096811671713\n",
            "R^2 Score 0.8935465390400429\n",
            "Intercept 20.257464810352282\n",
            "MSSubClass            -0.000661\n",
            "LotFrontage           -0.000229\n",
            "LotArea                0.000017\n",
            "Street                 0.053682\n",
            "LotShape               0.002715\n",
            "OverallQual            0.076487\n",
            "OverallCond            0.043711\n",
            "YearBuilt              0.001409\n",
            "YearRemodAdd           0.000619\n",
            "MasVnrArea            -0.000003\n",
            "BsmtFinSF1             0.000026\n",
            "BsmtFinSF2             0.000012\n",
            "BsmtUnfSF             -0.000001\n",
            "TotalBsmtSF            0.000037\n",
            "1stFlrSF               0.000032\n",
            "2ndFlrSF               0.000013\n",
            "LowQualFinSF           0.000108\n",
            "GrLivArea              0.000153\n",
            "BsmtFullBath           0.068229\n",
            "BsmtHalfBath           0.027902\n",
            "FullBath               0.043489\n",
            "HalfBath               0.017464\n",
            "BedroomAbvGr           0.003495\n",
            "KitchenAbvGr          -0.036630\n",
            "TotRmsAbvGrd           0.010563\n",
            "Fireplaces             0.008024\n",
            "FireplaceQu            0.013724\n",
            "GarageYrBlt           -0.000304\n",
            "GarageFinish           0.015257\n",
            "GarageCars            -0.027839\n",
            "GarageArea             0.000003\n",
            "GarageQual             0.040628\n",
            "GarageCond            -0.009810\n",
            "WoodDeckSF             0.000099\n",
            "OpenPorchSF           -0.000038\n",
            "EnclosedPorch          0.000227\n",
            "3SsnPorch              0.000269\n",
            "ScreenPorch            0.000315\n",
            "PoolArea               0.000475\n",
            "PoolQC                -0.123637\n",
            "MiscVal               -0.000006\n",
            "MoSold                 0.001035\n",
            "YrSold                -0.006565\n",
            "quality_squared        0.000626\n",
            "garage_cars_squared    0.024526\n",
            "age                   -0.001409\n",
            "renovation_age        -0.000619\n",
            "yard_size             -0.000015\n",
            "sale_type              0.034417\n"
          ],
          "name": "stdout"
        }
      ]
    },
    {
      "metadata": {
        "id": "0fZ_OIOCiqZT",
        "colab_type": "code",
        "colab": {}
      },
      "cell_type": "code",
      "source": [
        "from sklearn.decomposition import PCA # You don't necessarily have to use this\n",
        "from sklearn.cluster import KMeans # You don't necessarily have to use this\n",
        "from sklearn.preprocessing import StandardScaler # You don't necessarily have to use this\n",
        "import seaborn as sns\n",
        "%matplotlib inline\n"
      ],
      "execution_count": 0,
      "outputs": []
    },
    {
      "metadata": {
        "id": "00wQB2KljesI",
        "colab_type": "code",
        "colab": {}
      },
      "cell_type": "code",
      "source": [
        "X = df[numeric_columns].values\n",
        "scaled_X = StandardScaler().fit_transform(X)\n",
        "\n",
        "covar_matrix = PCA(n_components = 30) #we have 30 features\n",
        "\n",
        "covar_matrix.fit(scaled_X)\n",
        "                \n",
        "variance = covar_matrix.explained_variance_ratio_ #calculate variance ratios\n",
        "\n",
        "cumulative_var = np.cumsum(np.round(covar_matrix.explained_variance_ratio_, decimals=3)*100)"
      ],
      "execution_count": 0,
      "outputs": []
    },
    {
      "metadata": {
        "id": "57vsZCG1jpRa",
        "colab_type": "code",
        "colab": {
          "base_uri": "https://localhost:8080/",
          "height": 514
        },
        "outputId": "2039e02e-a9df-45cb-ccee-ca7270d73f2c"
      },
      "cell_type": "code",
      "source": [
        "#plot it:\n",
        "\n",
        "y_vals = [num for num in cumulative_var]\n",
        "x_vals = [num for num in range(1,31)]\n",
        "\n",
        "fig, ax = plt.subplots(figsize=(10,8))\n",
        "ax.grid(True)\n",
        "ax.set_title('Principal Components Cumulative Variance')\n",
        "ax.set_ylabel('Cumulative Variance % Explained')\n",
        "ax.set_xlabel('Principal Components')\n",
        "sns.barplot(x=x_vals, y=y_vals, ax=ax, color='#769ddb')\n",
        "plt.show()\n"
      ],
      "execution_count": 39,
      "outputs": [
        {
          "output_type": "display_data",
          "data": {
            "image/png": "[encoded data removed]",
            "text/plain": [
              "<Figure size 720x576 with 1 Axes>"
            ]
          },
          "metadata": {
            "tags": []
          }
        }
      ]
    },
    {
      "metadata": {
        "id": "6Bj9ydnqj29T",
        "colab_type": "code",
        "colab": {}
      },
      "cell_type": "code",
      "source": [
        "pca = PCA(20)\n",
        "\n",
        "principal_components = pca.fit_transform(scaled_X)\n",
        "\n",
        "pc_df = pd.DataFrame(data = principal_components)"
      ],
      "execution_count": 0,
      "outputs": []
    },
    {
      "metadata": {
        "id": "50iSl6wqmupx",
        "colab_type": "code",
        "colab": {
          "base_uri": "https://localhost:8080/",
          "height": 926
        },
        "outputId": "38c14c52-6010-4a78-ad62-a4686ca499a6"
      },
      "cell_type": "code",
      "source": [
        "df[numeric_columns].isna().sum()"
      ],
      "execution_count": 43,
      "outputs": [
        {
          "output_type": "execute_result",
          "data": {
            "text/plain": [
              "MSSubClass             0\n",
              "LotFrontage            0\n",
              "LotArea                0\n",
              "Street                 0\n",
              "LotShape               0\n",
              "OverallQual            0\n",
              "OverallCond            0\n",
              "YearBuilt              0\n",
              "YearRemodAdd           0\n",
              "MasVnrArea             0\n",
              "BsmtFinSF1             0\n",
              "BsmtFinSF2             0\n",
              "BsmtUnfSF              0\n",
              "TotalBsmtSF            0\n",
              "1stFlrSF               0\n",
              "2ndFlrSF               0\n",
              "LowQualFinSF           0\n",
              "GrLivArea              0\n",
              "BsmtFullBath           0\n",
              "BsmtHalfBath           0\n",
              "FullBath               0\n",
              "HalfBath               0\n",
              "BedroomAbvGr           0\n",
              "KitchenAbvGr           0\n",
              "TotRmsAbvGrd           0\n",
              "Fireplaces             0\n",
              "FireplaceQu            0\n",
              "GarageYrBlt            0\n",
              "GarageFinish           0\n",
              "GarageCars             0\n",
              "GarageArea             0\n",
              "GarageQual             0\n",
              "GarageCond             0\n",
              "WoodDeckSF             0\n",
              "OpenPorchSF            0\n",
              "EnclosedPorch          0\n",
              "3SsnPorch              0\n",
              "ScreenPorch            0\n",
              "PoolArea               0\n",
              "PoolQC                 0\n",
              "MiscVal                0\n",
              "MoSold                 0\n",
              "YrSold                 0\n",
              "quality_squared        0\n",
              "garage_cars_squared    0\n",
              "age                    0\n",
              "renovation_age         0\n",
              "yard_size              0\n",
              "sale_type              0\n",
              "dtype: int64"
            ]
          },
          "metadata": {
            "tags": []
          },
          "execution_count": 43
        }
      ]
    },
    {
      "metadata": {
        "id": "1EzHgZMLkTLb",
        "colab_type": "code",
        "colab": {}
      },
      "cell_type": "code",
      "source": [
        "combined = pc_df.join(df[numeric_columns].reset_index(drop=True))"
      ],
      "execution_count": 0,
      "outputs": []
    },
    {
      "metadata": {
        "id": "aaNCo0jlkbU3",
        "colab_type": "code",
        "colab": {
          "base_uri": "https://localhost:8080/",
          "height": 1326
        },
        "outputId": "31d35b2f-1c87-442a-9998-3c91337694a6"
      },
      "cell_type": "code",
      "source": [
        "target= 'ln_price'\n",
        "\n",
        "X = combined\n",
        "y = df[target]\n",
        "\n",
        "run_linear_model(X, y)"
      ],
      "execution_count": 48,
      "outputs": [
        {
          "output_type": "stream",
          "text": [
            "Root Mean Squared Error 0.13285651381722052\n",
            "R^2 Score 0.893553676842148\n",
            "Intercept -9575639083.312624\n",
            "0                     -1.320419e+08\n",
            "1                      7.324378e+06\n",
            "2                      2.019490e+06\n",
            "3                     -2.794592e+07\n",
            "4                      3.179658e+06\n",
            "5                      3.438620e+06\n",
            "6                     -2.119812e+05\n",
            "7                      5.286031e+06\n",
            "8                      7.426538e+06\n",
            "9                      2.842934e+06\n",
            "10                     3.531286e+06\n",
            "11                    -5.695468e+05\n",
            "12                    -8.596206e+05\n",
            "13                    -7.280779e+06\n",
            "14                     3.411891e+06\n",
            "15                     1.144646e+07\n",
            "16                    -5.282038e+06\n",
            "17                     1.308331e+06\n",
            "18                     2.375875e+06\n",
            "19                     5.763359e+06\n",
            "MSSubClass            -1.504317e+05\n",
            "LotFrontage            4.101426e+05\n",
            "LotArea                4.189310e+04\n",
            "Street                -8.138911e+05\n",
            "LotShape              -1.375495e+07\n",
            "OverallQual            2.608251e+07\n",
            "OverallCond           -6.099336e+06\n",
            "YearBuilt              1.025518e+06\n",
            "YearRemodAdd           1.492057e+06\n",
            "MasVnrArea             1.449708e+05\n",
            "BsmtFinSF1             5.643382e+04\n",
            "BsmtFinSF2            -5.111754e+04\n",
            "BsmtUnfSF              6.015889e+04\n",
            "TotalBsmtSF            6.547516e+04\n",
            "1stFlrSF               8.269386e+04\n",
            "2ndFlrSF               4.547075e+04\n",
            "LowQualFinSF          -1.169257e+05\n",
            "GrLivArea              1.123891e+04\n",
            "BsmtFullBath           1.654096e+07\n",
            "BsmtHalfBath           2.773749e+06\n",
            "FullBath               4.927667e+07\n",
            "HalfBath               1.013663e+07\n",
            "BedroomAbvGr           6.977470e+06\n",
            "KitchenAbvGr          -7.407016e+06\n",
            "TotRmsAbvGrd           1.251466e+07\n",
            "Fireplaces             1.809014e+07\n",
            "FireplaceQu            8.506416e+06\n",
            "GarageYrBlt            1.140893e+06\n",
            "GarageFinish           2.675967e+07\n",
            "GarageCars             4.228953e+07\n",
            "GarageArea             1.478097e+05\n",
            "GarageQual             1.083654e+07\n",
            "GarageCond             1.095174e+07\n",
            "WoodDeckSF             1.058216e+05\n",
            "OpenPorchSF            2.755562e+05\n",
            "EnclosedPorch         -2.205511e+05\n",
            "3SsnPorch             -1.158948e+05\n",
            "ScreenPorch            5.750014e+04\n",
            "PoolArea               4.296692e+03\n",
            "PoolQC                 4.102867e+06\n",
            "MiscVal               -7.792794e+02\n",
            "MoSold                 8.915228e+05\n",
            "YrSold                 6.816974e+05\n",
            "quality_squared        2.118285e+06\n",
            "garage_cars_squared    1.321633e+07\n",
            "age                   -1.025518e+06\n",
            "renovation_age        -1.492057e+06\n",
            "yard_size             -4.080075e+04\n",
            "sale_type              5.219701e+06\n"
          ],
          "name": "stdout"
        }
      ]
    },
    {
      "metadata": {
        "colab_type": "text",
        "id": "Uvbg4rRPW2Ex"
      },
      "cell_type": "markdown",
      "source": [
        "# Stretch Goals\n",
        "\n",
        "- Write a blog post explaining one of today's topics.\n",
        "- Find a new regression dataset from the UCI machine learning repository and use it to test out your new modeling skillz.\n",
        " [ - UCI Machine Learning Repository - Regression Datasets](https://)\n",
        "- Make a list for yourself of common feature engineering techniques. Browse Kaggle kernels to learn more methods.\n",
        "- Try and make the ultimate model with this dataset. clean as many features as possible, engineer the most sensible features as possible and see how accurate of a prediction you can make. \n",
        "- Learn about the \"Dummy Variable Trap\" and how it applies to linear regression modeling.\n",
        "- Learning about using linear regression to model time series data"
      ]
    }
  ]
}