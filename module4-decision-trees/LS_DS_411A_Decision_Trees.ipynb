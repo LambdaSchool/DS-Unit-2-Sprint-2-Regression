{
  "nbformat": 4,
  "nbformat_minor": 0,
  "metadata": {
    "colab": {
      "name": "LS_DS_411A_Decision_Trees.ipynb",
      "version": "0.3.2",
      "provenance": [],
      "collapsed_sections": []
    },
    "language_info": {
      "codemirror_mode": {
        "name": "ipython",
        "version": 3
      },
      "file_extension": ".py",
      "mimetype": "text/x-python",
      "name": "python",
      "nbconvert_exporter": "python",
      "pygments_lexer": "ipython3",
      "version": "3.7.1"
    },
    "kernelspec": {
      "display_name": "Python 3",
      "language": "python",
      "name": "python3"
    }
  },
  "cells": [
    {
      "cell_type": "code",
      "metadata": {
        "id": "l35kVex57M-H",
        "colab_type": "code",
        "colab": {}
      },
      "source": [
        "import matplotlib.pyplot as plt\n",
        "import numpy as np\n",
        "import pandas as pd\n",
        "import seaborn as sns\n",
        "from sklearn.linear_model import LinearRegression\n",
        "from sklearn.model_selection import train_test_split\n",
        "from sklearn.metrics import mean_absolute_error, mean_squared_error, r2_score\n",
        "from sklearn.impute import SimpleImputer\n",
        "from sklearn.tree import DecisionTreeClassifier, DecisionTreeRegressor, export_graphviz\n",
        "from sklearn.linear_model import LogisticRegression\n",
        "import statsmodels.api as sm\n",
        "from scipy import stats\n",
        "%matplotlib inline\n",
        "pd.set_option('display.max_rows', 500)\n",
        "pd.set_option('display.max_columns', 500)\n",
        "\n",
        "\n",
        "from IPython.display import display"
      ],
      "execution_count": 0,
      "outputs": []
    },
    {
      "cell_type": "markdown",
      "metadata": {
        "colab_type": "text",
        "id": "A0-sUApS7MIs"
      },
      "source": [
        "_Lambda School Data Science — Tree Ensembles_ \n",
        "\n",
        "# Decision Trees Assignment"
      ]
    },
    {
      "cell_type": "markdown",
      "metadata": {
        "id": "nWlEgT2Y6z0p",
        "colab_type": "text"
      },
      "source": [
        "## Part 1: House Price Regression\n",
        "\n",
        "Apply decision trees to the Ames housing dataset you've worked with this week!\n",
        "\n",
        "- Try multiple features\n",
        "- Try features you've engineered\n",
        "- Try different `max_depth` paramaters\n",
        "- What's the best Test Root Mean Squared Error you can get? *Share with your cohort on Slack!*\n",
        "- What's a cool visualization you can make? *Share with your cohort on Slack!*"
      ]
    },
    {
      "cell_type": "code",
      "metadata": {
        "id": "hm1ZTyen7yDv",
        "colab_type": "code",
        "colab": {}
      },
      "source": [
        "#paste code from prev assignments w/ Ames housing data:\n",
        "\n",
        "url = 'https://raw.githubusercontent.com/ryanleeallred/datasets/master/Ames%20Housing%20Data/train.csv'\n",
        "\n",
        "df = pd.read_csv(url)\n",
        "\n",
        "#columns to drop bc of NaNs:\n",
        "drop_cols = ['Alley', 'Fence', 'MiscFeature']\n",
        "df = df.drop(columns = drop_cols)\n",
        "\n",
        "#Fill Nans for garage yr blt w/ YearBlt value:\n",
        "nums = df[df.GarageYrBlt.isna() == True].index\n",
        "for i in nums:\n",
        "  df.at[i, 'GarageYrBlt'] = df.at[i, 'YearBuilt']\n",
        "  \n",
        "#drop 8 rows of masonry veneer area Nans:\n",
        "df.dropna(subset=['MasVnrArea'], inplace=True)\n",
        "\n",
        "#replace most of the categoricals with numbers:\n",
        "map = {'Ex':5, 'Gd':4, 'TA':3, 'Fa':2, 'Po':1, np.NaN: 0}\n",
        "df = df.replace(map)\n",
        "\n",
        "#Fill NaNs for LotFrontage as 0:\n",
        "#df['LotFrontage'] = df['LotFrontage'].fillna(0)\n",
        "\n",
        "#create log price column\n",
        "df['ln_price'] = np.log(df['SalePrice'])\n",
        "\n",
        "#age:\n",
        "df['age'] = 2010 - df['YearBuilt']\n",
        "\n",
        "#renovation_age:\n",
        "df['renovation_age'] = 2010 - df['YearRemodAdd']\n",
        "\n",
        "#yard size (ignores deck, pool, etc):\n",
        "df['yard_size'] = df['LotArea'] - df['1stFlrSF']\n",
        "\n",
        "#garage finish:\n",
        "finish_map = {'Fin':3, 'RFn': 2, 'Unf':1, np.NaN:0}\n",
        "df['GarageFinish'] = df['GarageFinish'].replace(finish_map)\n",
        "\n",
        "#sale condition:\n",
        "sale_map = {'Normal': 3,\n",
        "            'Partial': 3,\n",
        "            'Abnorml': 1,\n",
        "            'Family': 1,\n",
        "            'AdjLand': 2,\t\n",
        "            'Alloca': 2}\n",
        "\n",
        "df['SaleCondition'] = df['SaleCondition'].replace(sale_map)\n",
        "\n",
        "#Lot shape:\n",
        "shape_map = {'Reg': 4, 'IR1': 3, 'IR2': 2, 'IR3': 1}\n",
        "df[\"LotShape\"] = df[\"LotShape\"].replace(shape_map)\n",
        "\n",
        "#Street:\n",
        "street_map = {'Grvl':1, 'Pave':2}\n",
        "df['Street'] = df['Street'].replace(street_map)\n",
        "\n",
        "#Neighborhood Quality:\n",
        "neighborhood_qual_map = dict(df.groupby('Neighborhood', as_index=False)['OverallQual'].mean().set_index('Neighborhood')['OverallQual'])\n",
        "df['neighborhood_qual']= df['Neighborhood'].map(neighborhood_qual_map)\n",
        "\n",
        "#Neighborhood avg Sales price:\n",
        "neighborhood_sales_map = dict(df.groupby('Neighborhood', as_index=False)['SalePrice'].mean().set_index('Neighborhood')['SalePrice'])\n",
        "df['neighborhood_avg_sale_price'] = df['Neighborhood'].map(neighborhood_sales_map)\n",
        "\n",
        "#Neighborhood avg log_Sales price:\n",
        "neighborhood_ln_sales_map = dict(df.groupby('Neighborhood', as_index=False)['ln_price'].mean().set_index('Neighborhood')['ln_price'])\n",
        "df['neighborhood_avg_ln_sale_price'] = df['Neighborhood'].map(neighborhood_ln_sales_map)\n"
      ],
      "execution_count": 0,
      "outputs": []
    },
    {
      "cell_type": "code",
      "metadata": {
        "id": "LYnDSymg-9jp",
        "colab_type": "code",
        "colab": {}
      },
      "source": [
        "def run_linear_model(X, y):\n",
        "    # Split into test and train data\n",
        "    X_train, X_test, y_train, y_test = train_test_split(X, y, train_size=0.80, test_size=0.20, random_state=42)\n",
        "\n",
        "    # Fit model using train data\n",
        "    model = LinearRegression()\n",
        "    model.fit(X_train, y_train)\n",
        "\n",
        "    # Make predictions using test features\n",
        "    y_pred = model.predict(X_test)\n",
        "\n",
        "    # Compare predictions to test target\n",
        "    rmse = (np.sqrt(mean_squared_error(y_test, y_pred)))\n",
        "    r2 = r2_score(y_test, y_pred)\n",
        "\n",
        "    print('Root Mean Squared Error', rmse)\n",
        "    print('R^2 Score', r2)\n",
        "    print('Intercept', model.intercept_)\n",
        "    coefficients = pd.Series(model.coef_, X_train.columns)\n",
        "    print(coefficients.to_string())"
      ],
      "execution_count": 0,
      "outputs": []
    },
    {
      "cell_type": "code",
      "metadata": {
        "id": "1dGYLcsQ_DDb",
        "colab_type": "code",
        "colab": {}
      },
      "source": [
        "def run_decision_tree(X, y, max_depth_list, min_samples_list):\n",
        "   # Split into test and train data\n",
        "    X_train, X_test, y_train, y_test = train_test_split(X, y, train_size=0.80, test_size=0.20, random_state=42)\n",
        "\n",
        "    for i in max_depth_list:\n",
        "      for j in min_samples_list:\n",
        "        max_depth = i\n",
        "        min_samples_split = j \n",
        "        \n",
        "        # Fit model using train data\n",
        "        tree = DecisionTreeRegressor(max_depth=i, min_samples_split=j)\n",
        "        tree.fit(X_train, y_train)\n",
        "    \n",
        "        # Make predictions using test features\n",
        "        y_pred = tree.predict(X_test)\n",
        "    \n",
        "        # Compare predictions to test target\n",
        "        print('max_depth: ' + str(max_depth))\n",
        "        print('min samples split: ' + str(min_samples_split))\n",
        "        \n",
        "        # The mean squared error\n",
        "        print(\"Mean squared error: \" + str(mean_squared_error(y_test, y_pred)))\n",
        "        \n",
        "        # R2: Explained variance score\n",
        "        print('Test Variance score: ' + str(r2_score(y_test, y_pred)))\n",
        "\n",
        "    "
      ],
      "execution_count": 0,
      "outputs": []
    },
    {
      "cell_type": "code",
      "metadata": {
        "id": "12E6cDFg_t4S",
        "colab_type": "code",
        "colab": {
          "base_uri": "https://localhost:8080/",
          "height": 1181
        },
        "outputId": "1864a450-9989-4836-dff8-b86220a1d83e"
      },
      "source": [
        "max_depths = [5, 10, 50, 500]\n",
        "min_samples = [2, 5, 25, 100]\n",
        "\n",
        "X = df.select_dtypes(include='number').drop(columns = ['SalePrice', 'ln_price'])\n",
        "y = df.ln_price\n",
        "\n",
        "run_decision_tree(X, y, max_depths, min_samples)"
      ],
      "execution_count": 6,
      "outputs": [
        {
          "output_type": "stream",
          "text": [
            "max_depth: 5\n",
            "min samples split: 2\n",
            "Mean squared error: 0.03643280512299566\n",
            "Test Variance score: 0.7802860808064912\n",
            "max_depth: 5\n",
            "min samples split: 5\n",
            "Mean squared error: 0.036086121145944526\n",
            "Test Variance score: 0.7823768145576352\n",
            "max_depth: 5\n",
            "min samples split: 25\n",
            "Mean squared error: 0.035301944370909784\n",
            "Test Variance score: 0.7871059193301541\n",
            "max_depth: 5\n",
            "min samples split: 100\n",
            "Mean squared error: 0.03548385034173665\n",
            "Test Variance score: 0.7860089059752904\n",
            "max_depth: 10\n",
            "min samples split: 2\n",
            "Mean squared error: 0.04491945157726201\n",
            "Test Variance score: 0.7291059878385842\n",
            "max_depth: 10\n",
            "min samples split: 5\n",
            "Mean squared error: 0.043785813528238494\n",
            "Test Variance score: 0.735942575300268\n",
            "max_depth: 10\n",
            "min samples split: 25\n",
            "Mean squared error: 0.0383061963529127\n",
            "Test Variance score: 0.7689882922360465\n",
            "max_depth: 10\n",
            "min samples split: 100\n",
            "Mean squared error: 0.03467212939107198\n",
            "Test Variance score: 0.790904120350355\n",
            "max_depth: 50\n",
            "min samples split: 2\n",
            "Mean squared error: 0.046576708679716944\n",
            "Test Variance score: 0.7191116310531984\n",
            "max_depth: 50\n",
            "min samples split: 5\n",
            "Mean squared error: 0.045944787557532576\n",
            "Test Variance score: 0.7229225335051936\n",
            "max_depth: 50\n",
            "min samples split: 25\n",
            "Mean squared error: 0.03922478178422688\n",
            "Test Variance score: 0.7634486143400749\n",
            "max_depth: 50\n",
            "min samples split: 100\n",
            "Mean squared error: 0.03467212939107194\n",
            "Test Variance score: 0.7909041203503553\n",
            "max_depth: 500\n",
            "min samples split: 2\n",
            "Mean squared error: 0.0452967778838154\n",
            "Test Variance score: 0.7268304605672754\n",
            "max_depth: 500\n",
            "min samples split: 5\n",
            "Mean squared error: 0.045662201915131574\n",
            "Test Variance score: 0.7246267118903092\n",
            "max_depth: 500\n",
            "min samples split: 25\n",
            "Mean squared error: 0.03984115620741142\n",
            "Test Variance score: 0.7597314687688975\n",
            "max_depth: 500\n",
            "min samples split: 100\n",
            "Mean squared error: 0.03467212939107213\n",
            "Test Variance score: 0.7909041203503541\n"
          ],
          "name": "stdout"
        }
      ]
    },
    {
      "cell_type": "code",
      "metadata": {
        "id": "kQD1SGjpBWyh",
        "colab_type": "code",
        "colab": {
          "base_uri": "https://localhost:8080/",
          "height": 1090
        },
        "outputId": "1155101d-0010-4f0e-c89b-797c548765b8"
      },
      "source": [
        "run_linear_model(X,y)"
      ],
      "execution_count": 7,
      "outputs": [
        {
          "output_type": "stream",
          "text": [
            "Root Mean Squared Error 0.12908690247133606\n",
            "R^2 Score 0.8995085021224939\n",
            "Intercept 17.928654184214412\n",
            "Id                               -1.387482e-05\n",
            "MSSubClass                       -5.305129e-04\n",
            "LotFrontage                      -1.853416e-04\n",
            "LotArea                           3.192831e-05\n",
            "Street                            2.828720e-02\n",
            "LotShape                          1.119236e-02\n",
            "OverallQual                       6.276330e-02\n",
            "OverallCond                       4.169075e-02\n",
            "YearBuilt                         8.472496e-04\n",
            "YearRemodAdd                      2.478910e-04\n",
            "MasVnrArea                       -1.105621e-05\n",
            "ExterQual                         8.000647e-03\n",
            "ExterCond                        -1.781248e-02\n",
            "BsmtQual                          2.782892e-02\n",
            "BsmtCond                          2.459273e-02\n",
            "BsmtFinSF1                        1.197661e-05\n",
            "BsmtFinSF2                       -1.005198e-05\n",
            "BsmtUnfSF                        -1.890573e-05\n",
            "TotalBsmtSF                      -1.698110e-05\n",
            "HeatingQC                         1.722342e-02\n",
            "1stFlrSF                          6.229600e-05\n",
            "2ndFlrSF                         -1.361826e-05\n",
            "LowQualFinSF                      9.030690e-05\n",
            "GrLivArea                         1.389846e-04\n",
            "BsmtFullBath                      5.578642e-02\n",
            "BsmtHalfBath                      2.257103e-02\n",
            "FullBath                          3.100217e-02\n",
            "HalfBath                          2.346900e-02\n",
            "BedroomAbvGr                      1.027822e-02\n",
            "KitchenAbvGr                     -2.044602e-02\n",
            "KitchenQual                       2.331697e-02\n",
            "TotRmsAbvGrd                      1.240515e-02\n",
            "Fireplaces                        1.062289e-02\n",
            "FireplaceQu                       8.626792e-03\n",
            "GarageYrBlt                      -5.637417e-04\n",
            "GarageCars                        5.031466e-02\n",
            "GarageArea                        2.467764e-05\n",
            "GarageQual                        5.031770e-02\n",
            "GarageCond                       -3.501208e-02\n",
            "WoodDeckSF                        9.578186e-05\n",
            "OpenPorchSF                       2.170278e-05\n",
            "EnclosedPorch                     1.796532e-04\n",
            "3SsnPorch                         2.735662e-04\n",
            "ScreenPorch                       3.189317e-04\n",
            "PoolArea                          3.380551e-04\n",
            "PoolQC                           -7.701155e-02\n",
            "MiscVal                           4.733971e-07\n",
            "MoSold                            5.613635e-04\n",
            "YrSold                           -6.049661e-03\n",
            "SaleCondition                     3.686258e-02\n",
            "age                              -8.472496e-04\n",
            "renovation_age                   -2.478910e-04\n",
            "yard_size                        -3.036770e-05\n",
            "neighborhood_qual                -3.279186e-02\n",
            "neighborhood_avg_sale_price       3.241888e-07\n",
            "neighborhood_avg_ln_sale_price    3.036337e-01\n"
          ],
          "name": "stdout"
        }
      ]
    },
    {
      "cell_type": "markdown",
      "metadata": {
        "colab_type": "text",
        "id": "kWm7mMlH9sl2"
      },
      "source": [
        "## Part 2 / Stretch: \"Play Tennis\" Classification"
      ]
    },
    {
      "cell_type": "markdown",
      "metadata": {
        "colab_type": "text",
        "id": "2f5-S87kg6gJ"
      },
      "source": [
        "We'll reproduce the \"Play Tennis\" example from Ross Quinlan's 1986 paper, [Induction of Decison Trees](https://link.springer.com/content/pdf/10.1007%2FBF00116251.pdf).\n",
        "\n",
        "[According to Wikipedia](https://en.wikipedia.org/wiki/Ross_Quinlan), \"John Ross Quinlan is a computer science researcher in data mining and decision theory. He has contributed extensively to the development of decision tree algorithms, including inventing the canonical C4.5 and ID3 algorithms.\""
      ]
    },
    {
      "cell_type": "markdown",
      "metadata": {
        "colab_type": "text",
        "id": "Qfv6Zwdoje7_"
      },
      "source": [
        "#### \"Table 1 shows a small training set\""
      ]
    },
    {
      "cell_type": "code",
      "metadata": {
        "colab_type": "code",
        "id": "oUE-G0pgg58u",
        "colab": {
          "base_uri": "https://localhost:8080/",
          "height": 498
        },
        "outputId": "515501ad-2664-42e9-8e96-f5ec66cd7847"
      },
      "source": [
        "columns = 'No. Outlook Temperature Humidity Windy PlayTennis'.split()\n",
        "\n",
        "raw = \"\"\"1 sunny hot high false N\n",
        "2 sunny hot high true N\n",
        "3 overcast hot high false P\n",
        "4 rain mild high false P\n",
        "5 rain cool normal false P\n",
        "6 rain cool normal true N\n",
        "7 overcast cool normal true P\n",
        "8 sunny mild high false N\n",
        "9 sunny cool normal false P\n",
        "10 rain mild normal false P\n",
        "11 sunny mild normal true P\n",
        "12 overcast mild high true P\n",
        "13 overcast hot normal false P\n",
        "14 rain mild high true N\"\"\"\n",
        "\n",
        "data = [row.split() for row in raw.split('\\n')]\n",
        "tennis = pd.DataFrame(data=data, columns=columns).set_index('No.')\n",
        "tennis['PlayTennis'] = (tennis['PlayTennis'] == 'P').astype(int)\n",
        "\n",
        "tennis"
      ],
      "execution_count": 8,
      "outputs": [
        {
          "output_type": "execute_result",
          "data": {
            "text/html": [
              "<div>\n",
              "<style scoped>\n",
              "    .dataframe tbody tr th:only-of-type {\n",
              "        vertical-align: middle;\n",
              "    }\n",
              "\n",
              "    .dataframe tbody tr th {\n",
              "        vertical-align: top;\n",
              "    }\n",
              "\n",
              "    .dataframe thead th {\n",
              "        text-align: right;\n",
              "    }\n",
              "</style>\n",
              "<table border=\"1\" class=\"dataframe\">\n",
              "  <thead>\n",
              "    <tr style=\"text-align: right;\">\n",
              "      <th></th>\n",
              "      <th>Outlook</th>\n",
              "      <th>Temperature</th>\n",
              "      <th>Humidity</th>\n",
              "      <th>Windy</th>\n",
              "      <th>PlayTennis</th>\n",
              "    </tr>\n",
              "    <tr>\n",
              "      <th>No.</th>\n",
              "      <th></th>\n",
              "      <th></th>\n",
              "      <th></th>\n",
              "      <th></th>\n",
              "      <th></th>\n",
              "    </tr>\n",
              "  </thead>\n",
              "  <tbody>\n",
              "    <tr>\n",
              "      <th>1</th>\n",
              "      <td>sunny</td>\n",
              "      <td>hot</td>\n",
              "      <td>high</td>\n",
              "      <td>false</td>\n",
              "      <td>0</td>\n",
              "    </tr>\n",
              "    <tr>\n",
              "      <th>2</th>\n",
              "      <td>sunny</td>\n",
              "      <td>hot</td>\n",
              "      <td>high</td>\n",
              "      <td>true</td>\n",
              "      <td>0</td>\n",
              "    </tr>\n",
              "    <tr>\n",
              "      <th>3</th>\n",
              "      <td>overcast</td>\n",
              "      <td>hot</td>\n",
              "      <td>high</td>\n",
              "      <td>false</td>\n",
              "      <td>1</td>\n",
              "    </tr>\n",
              "    <tr>\n",
              "      <th>4</th>\n",
              "      <td>rain</td>\n",
              "      <td>mild</td>\n",
              "      <td>high</td>\n",
              "      <td>false</td>\n",
              "      <td>1</td>\n",
              "    </tr>\n",
              "    <tr>\n",
              "      <th>5</th>\n",
              "      <td>rain</td>\n",
              "      <td>cool</td>\n",
              "      <td>normal</td>\n",
              "      <td>false</td>\n",
              "      <td>1</td>\n",
              "    </tr>\n",
              "    <tr>\n",
              "      <th>6</th>\n",
              "      <td>rain</td>\n",
              "      <td>cool</td>\n",
              "      <td>normal</td>\n",
              "      <td>true</td>\n",
              "      <td>0</td>\n",
              "    </tr>\n",
              "    <tr>\n",
              "      <th>7</th>\n",
              "      <td>overcast</td>\n",
              "      <td>cool</td>\n",
              "      <td>normal</td>\n",
              "      <td>true</td>\n",
              "      <td>1</td>\n",
              "    </tr>\n",
              "    <tr>\n",
              "      <th>8</th>\n",
              "      <td>sunny</td>\n",
              "      <td>mild</td>\n",
              "      <td>high</td>\n",
              "      <td>false</td>\n",
              "      <td>0</td>\n",
              "    </tr>\n",
              "    <tr>\n",
              "      <th>9</th>\n",
              "      <td>sunny</td>\n",
              "      <td>cool</td>\n",
              "      <td>normal</td>\n",
              "      <td>false</td>\n",
              "      <td>1</td>\n",
              "    </tr>\n",
              "    <tr>\n",
              "      <th>10</th>\n",
              "      <td>rain</td>\n",
              "      <td>mild</td>\n",
              "      <td>normal</td>\n",
              "      <td>false</td>\n",
              "      <td>1</td>\n",
              "    </tr>\n",
              "    <tr>\n",
              "      <th>11</th>\n",
              "      <td>sunny</td>\n",
              "      <td>mild</td>\n",
              "      <td>normal</td>\n",
              "      <td>true</td>\n",
              "      <td>1</td>\n",
              "    </tr>\n",
              "    <tr>\n",
              "      <th>12</th>\n",
              "      <td>overcast</td>\n",
              "      <td>mild</td>\n",
              "      <td>high</td>\n",
              "      <td>true</td>\n",
              "      <td>1</td>\n",
              "    </tr>\n",
              "    <tr>\n",
              "      <th>13</th>\n",
              "      <td>overcast</td>\n",
              "      <td>hot</td>\n",
              "      <td>normal</td>\n",
              "      <td>false</td>\n",
              "      <td>1</td>\n",
              "    </tr>\n",
              "    <tr>\n",
              "      <th>14</th>\n",
              "      <td>rain</td>\n",
              "      <td>mild</td>\n",
              "      <td>high</td>\n",
              "      <td>true</td>\n",
              "      <td>0</td>\n",
              "    </tr>\n",
              "  </tbody>\n",
              "</table>\n",
              "</div>"
            ],
            "text/plain": [
              "      Outlook Temperature Humidity  Windy  PlayTennis\n",
              "No.                                                  \n",
              "1       sunny         hot     high  false           0\n",
              "2       sunny         hot     high   true           0\n",
              "3    overcast         hot     high  false           1\n",
              "4        rain        mild     high  false           1\n",
              "5        rain        cool   normal  false           1\n",
              "6        rain        cool   normal   true           0\n",
              "7    overcast        cool   normal   true           1\n",
              "8       sunny        mild     high  false           0\n",
              "9       sunny        cool   normal  false           1\n",
              "10       rain        mild   normal  false           1\n",
              "11      sunny        mild   normal   true           1\n",
              "12   overcast        mild     high   true           1\n",
              "13   overcast         hot   normal  false           1\n",
              "14       rain        mild     high   true           0"
            ]
          },
          "metadata": {
            "tags": []
          },
          "execution_count": 8
        }
      ]
    },
    {
      "cell_type": "markdown",
      "metadata": {
        "colab_type": "text",
        "id": "BvFu9kvJj9kk"
      },
      "source": [
        "#### \"A decision tree that correctly classifies each object in the training set is given in Figure 2.\"\n",
        "\n",
        "<img src=\"https://i.imgur.com/RD7d0u0.png\" height=\"300\">"
      ]
    },
    {
      "cell_type": "markdown",
      "metadata": {
        "colab_type": "text",
        "id": "kHkkeALqjNiS"
      },
      "source": [
        "In this dataset, the tennis player decided to play on 64% of the days, and decided not to on 36% of the days."
      ]
    },
    {
      "cell_type": "code",
      "metadata": {
        "colab_type": "code",
        "id": "qeLDinBihMDQ",
        "colab": {
          "base_uri": "https://localhost:8080/",
          "height": 72
        },
        "outputId": "706ff5df-2a15-4843-97e3-1f83479b06c9"
      },
      "source": [
        "tennis['PlayTennis'].value_counts(normalize=True) * 100"
      ],
      "execution_count": 9,
      "outputs": [
        {
          "output_type": "execute_result",
          "data": {
            "text/plain": [
              "1    64.285714\n",
              "0    35.714286\n",
              "Name: PlayTennis, dtype: float64"
            ]
          },
          "metadata": {
            "tags": []
          },
          "execution_count": 9
        }
      ]
    },
    {
      "cell_type": "markdown",
      "metadata": {
        "colab_type": "text",
        "id": "Ype2-apnlaG2"
      },
      "source": [
        "The tennis player played on 100% of the overcast days, 40% of the sunny days, and 60% of the  rainy days"
      ]
    },
    {
      "cell_type": "code",
      "metadata": {
        "colab_type": "code",
        "id": "LfBMB0Soh58T",
        "colab": {
          "base_uri": "https://localhost:8080/",
          "height": 108
        },
        "outputId": "ffa96b89-fb3e-4e0c-95ac-2ca1b36ce400"
      },
      "source": [
        "tennis.groupby('Outlook')['PlayTennis'].mean() * 100"
      ],
      "execution_count": 10,
      "outputs": [
        {
          "output_type": "execute_result",
          "data": {
            "text/plain": [
              "Outlook\n",
              "overcast    100.0\n",
              "rain         60.0\n",
              "sunny        40.0\n",
              "Name: PlayTennis, dtype: float64"
            ]
          },
          "metadata": {
            "tags": []
          },
          "execution_count": 10
        }
      ]
    },
    {
      "cell_type": "markdown",
      "metadata": {
        "colab_type": "text",
        "id": "jx3-MFvalrQC"
      },
      "source": [
        "On sunny days, the tennis player's decision depends on the humidity. (The Outlook and Humidity features interact.)"
      ]
    },
    {
      "cell_type": "code",
      "metadata": {
        "colab_type": "code",
        "id": "FmVN7hwEiHE5",
        "colab": {
          "base_uri": "https://localhost:8080/",
          "height": 90
        },
        "outputId": "e952a519-1293-41c2-ed24-a43a8288204c"
      },
      "source": [
        "sunny = tennis[tennis['Outlook']=='sunny']\n",
        "sunny.groupby('Humidity')['PlayTennis'].mean() * 100"
      ],
      "execution_count": 11,
      "outputs": [
        {
          "output_type": "execute_result",
          "data": {
            "text/plain": [
              "Humidity\n",
              "high        0\n",
              "normal    100\n",
              "Name: PlayTennis, dtype: int64"
            ]
          },
          "metadata": {
            "tags": []
          },
          "execution_count": 11
        }
      ]
    },
    {
      "cell_type": "markdown",
      "metadata": {
        "colab_type": "text",
        "id": "y0it0HsFl47M"
      },
      "source": [
        "On rainy days, the tennis player's decision depends on the wind. (The Outlook and Windy features interact.)"
      ]
    },
    {
      "cell_type": "code",
      "metadata": {
        "colab_type": "code",
        "id": "CeOd7rGeivJp",
        "colab": {
          "base_uri": "https://localhost:8080/",
          "height": 90
        },
        "outputId": "cf2da1de-f36a-45c2-bca2-8e1b0f9de2aa"
      },
      "source": [
        "rainy = tennis[tennis['Outlook']=='rain']\n",
        "rainy.groupby('Windy')['PlayTennis'].mean() * 100"
      ],
      "execution_count": 12,
      "outputs": [
        {
          "output_type": "execute_result",
          "data": {
            "text/plain": [
              "Windy\n",
              "false    100\n",
              "true       0\n",
              "Name: PlayTennis, dtype: int64"
            ]
          },
          "metadata": {
            "tags": []
          },
          "execution_count": 12
        }
      ]
    },
    {
      "cell_type": "markdown",
      "metadata": {
        "id": "Vpd7d_ia6z2C",
        "colab_type": "text"
      },
      "source": [
        "#### Before modeling, we will [\"encode\" categorical variables, using pandas](https://pandas.pydata.org/pandas-docs/stable/user_guide/reshaping.html?highlight=get_dummies#computing-indicator-dummy-variables)"
      ]
    },
    {
      "cell_type": "code",
      "metadata": {
        "colab_type": "code",
        "id": "VCyn34nEi0nz",
        "colab": {}
      },
      "source": [
        "y = tennis['PlayTennis']\n",
        "X = pd.get_dummies(tennis.drop(columns='PlayTennis'))"
      ],
      "execution_count": 0,
      "outputs": []
    },
    {
      "cell_type": "code",
      "metadata": {
        "id": "IWw6degoMhJx",
        "colab_type": "code",
        "colab": {
          "base_uri": "https://localhost:8080/",
          "height": 248
        },
        "outputId": "029a8f1d-ce25-4fc9-fdf4-23bda61156d4"
      },
      "source": [
        "X.head()"
      ],
      "execution_count": 14,
      "outputs": [
        {
          "output_type": "execute_result",
          "data": {
            "text/html": [
              "<div>\n",
              "<style scoped>\n",
              "    .dataframe tbody tr th:only-of-type {\n",
              "        vertical-align: middle;\n",
              "    }\n",
              "\n",
              "    .dataframe tbody tr th {\n",
              "        vertical-align: top;\n",
              "    }\n",
              "\n",
              "    .dataframe thead th {\n",
              "        text-align: right;\n",
              "    }\n",
              "</style>\n",
              "<table border=\"1\" class=\"dataframe\">\n",
              "  <thead>\n",
              "    <tr style=\"text-align: right;\">\n",
              "      <th></th>\n",
              "      <th>Outlook_overcast</th>\n",
              "      <th>Outlook_rain</th>\n",
              "      <th>Outlook_sunny</th>\n",
              "      <th>Temperature_cool</th>\n",
              "      <th>Temperature_hot</th>\n",
              "      <th>Temperature_mild</th>\n",
              "      <th>Humidity_high</th>\n",
              "      <th>Humidity_normal</th>\n",
              "      <th>Windy_false</th>\n",
              "      <th>Windy_true</th>\n",
              "    </tr>\n",
              "    <tr>\n",
              "      <th>No.</th>\n",
              "      <th></th>\n",
              "      <th></th>\n",
              "      <th></th>\n",
              "      <th></th>\n",
              "      <th></th>\n",
              "      <th></th>\n",
              "      <th></th>\n",
              "      <th></th>\n",
              "      <th></th>\n",
              "      <th></th>\n",
              "    </tr>\n",
              "  </thead>\n",
              "  <tbody>\n",
              "    <tr>\n",
              "      <th>1</th>\n",
              "      <td>0</td>\n",
              "      <td>0</td>\n",
              "      <td>1</td>\n",
              "      <td>0</td>\n",
              "      <td>1</td>\n",
              "      <td>0</td>\n",
              "      <td>1</td>\n",
              "      <td>0</td>\n",
              "      <td>1</td>\n",
              "      <td>0</td>\n",
              "    </tr>\n",
              "    <tr>\n",
              "      <th>2</th>\n",
              "      <td>0</td>\n",
              "      <td>0</td>\n",
              "      <td>1</td>\n",
              "      <td>0</td>\n",
              "      <td>1</td>\n",
              "      <td>0</td>\n",
              "      <td>1</td>\n",
              "      <td>0</td>\n",
              "      <td>0</td>\n",
              "      <td>1</td>\n",
              "    </tr>\n",
              "    <tr>\n",
              "      <th>3</th>\n",
              "      <td>1</td>\n",
              "      <td>0</td>\n",
              "      <td>0</td>\n",
              "      <td>0</td>\n",
              "      <td>1</td>\n",
              "      <td>0</td>\n",
              "      <td>1</td>\n",
              "      <td>0</td>\n",
              "      <td>1</td>\n",
              "      <td>0</td>\n",
              "    </tr>\n",
              "    <tr>\n",
              "      <th>4</th>\n",
              "      <td>0</td>\n",
              "      <td>1</td>\n",
              "      <td>0</td>\n",
              "      <td>0</td>\n",
              "      <td>0</td>\n",
              "      <td>1</td>\n",
              "      <td>1</td>\n",
              "      <td>0</td>\n",
              "      <td>1</td>\n",
              "      <td>0</td>\n",
              "    </tr>\n",
              "    <tr>\n",
              "      <th>5</th>\n",
              "      <td>0</td>\n",
              "      <td>1</td>\n",
              "      <td>0</td>\n",
              "      <td>1</td>\n",
              "      <td>0</td>\n",
              "      <td>0</td>\n",
              "      <td>0</td>\n",
              "      <td>1</td>\n",
              "      <td>1</td>\n",
              "      <td>0</td>\n",
              "    </tr>\n",
              "  </tbody>\n",
              "</table>\n",
              "</div>"
            ],
            "text/plain": [
              "     Outlook_overcast  Outlook_rain  Outlook_sunny  Temperature_cool  \\\n",
              "No.                                                                    \n",
              "1                   0             0              1                 0   \n",
              "2                   0             0              1                 0   \n",
              "3                   1             0              0                 0   \n",
              "4                   0             1              0                 0   \n",
              "5                   0             1              0                 1   \n",
              "\n",
              "     Temperature_hot  Temperature_mild  Humidity_high  Humidity_normal  \\\n",
              "No.                                                                      \n",
              "1                  1                 0              1                0   \n",
              "2                  1                 0              1                0   \n",
              "3                  1                 0              1                0   \n",
              "4                  0                 1              1                0   \n",
              "5                  0                 0              0                1   \n",
              "\n",
              "     Windy_false  Windy_true  \n",
              "No.                           \n",
              "1              1           0  \n",
              "2              0           1  \n",
              "3              1           0  \n",
              "4              1           0  \n",
              "5              1           0  "
            ]
          },
          "metadata": {
            "tags": []
          },
          "execution_count": 14
        }
      ]
    },
    {
      "cell_type": "markdown",
      "metadata": {
        "colab_type": "text",
        "id": "UvOkHk8o-h_r"
      },
      "source": [
        "## Train a Decision Tree Classifier\n",
        "Get a score of 100% (accuracy)\n",
        "\n",
        "https://scikit-learn.org/stable/modules/generated/sklearn.tree.DecisionTreeClassifier.html"
      ]
    },
    {
      "cell_type": "code",
      "metadata": {
        "id": "IIUL5jWLKlW8",
        "colab_type": "code",
        "colab": {
          "base_uri": "https://localhost:8080/",
          "height": 672
        },
        "outputId": "486bb08b-677c-45b0-a735-e9356360525e"
      },
      "source": [
        "max_depths = [2,5,10]\n",
        "min_samples = [2,3,5]\n",
        "\n",
        "run_decision_tree(X, y, max_depth_list = max_depths, min_samples_list=min_samples)"
      ],
      "execution_count": 15,
      "outputs": [
        {
          "output_type": "stream",
          "text": [
            "max_depth: 2\n",
            "min samples split: 2\n",
            "Mean squared error: 0.20833333333333334\n",
            "Test Variance score: 0.06250000000000011\n",
            "max_depth: 2\n",
            "min samples split: 3\n",
            "Mean squared error: 0.041666666666666664\n",
            "Test Variance score: 0.8125\n",
            "max_depth: 2\n",
            "min samples split: 5\n",
            "Mean squared error: 0.041666666666666664\n",
            "Test Variance score: 0.8125\n",
            "max_depth: 5\n",
            "min samples split: 2\n",
            "Mean squared error: 0.0\n",
            "Test Variance score: 1.0\n",
            "max_depth: 5\n",
            "min samples split: 3\n",
            "Mean squared error: 0.16666666666666666\n",
            "Test Variance score: 0.2500000000000001\n",
            "max_depth: 5\n",
            "min samples split: 5\n",
            "Mean squared error: 0.041666666666666664\n",
            "Test Variance score: 0.8125\n",
            "max_depth: 10\n",
            "min samples split: 2\n",
            "Mean squared error: 0.3333333333333333\n",
            "Test Variance score: -0.4999999999999998\n",
            "max_depth: 10\n",
            "min samples split: 3\n",
            "Mean squared error: 0.0\n",
            "Test Variance score: 1.0\n",
            "max_depth: 10\n",
            "min samples split: 5\n",
            "Mean squared error: 0.041666666666666664\n",
            "Test Variance score: 0.8125\n"
          ],
          "name": "stdout"
        }
      ]
    },
    {
      "cell_type": "code",
      "metadata": {
        "id": "smq6gtDgLUOq",
        "colab_type": "code",
        "colab": {
          "base_uri": "https://localhost:8080/",
          "height": 35
        },
        "outputId": "d2345674-0659-4485-f943-cb202fa64261"
      },
      "source": [
        "#looks like we get 100% acccuracy w/ max_depth of 5 and min_samples_split of 2:\n",
        "\n",
        "tree = DecisionTreeRegressor(max_depth=5, min_samples_split=2)\n",
        "tree.fit(X, y)\n",
        "tree.score(X, y)"
      ],
      "execution_count": 20,
      "outputs": [
        {
          "output_type": "execute_result",
          "data": {
            "text/plain": [
              "1.0"
            ]
          },
          "metadata": {
            "tags": []
          },
          "execution_count": 20
        }
      ]
    },
    {
      "cell_type": "markdown",
      "metadata": {
        "colab_type": "text",
        "id": "9uNPrbfS-vzL"
      },
      "source": [
        "## Compare to Logistic Regression\n",
        "https://scikit-learn.org/stable/modules/generated/sklearn.linear_model.LogisticRegression.html"
      ]
    },
    {
      "cell_type": "code",
      "metadata": {
        "id": "Ocn1eLxU6z2c",
        "colab_type": "code",
        "colab": {
          "base_uri": "https://localhost:8080/",
          "height": 35
        },
        "outputId": "35af84c2-6720-4e03-9e8c-bc5cdae4a9ff"
      },
      "source": [
        "logistic = LogisticRegression(solver='lbfgs')\n",
        "logistic.fit(X, y)\n",
        "logistic.score(X, y)"
      ],
      "execution_count": 23,
      "outputs": [
        {
          "output_type": "execute_result",
          "data": {
            "text/plain": [
              "0.8571428571428571"
            ]
          },
          "metadata": {
            "tags": []
          },
          "execution_count": 23
        }
      ]
    },
    {
      "cell_type": "markdown",
      "metadata": {
        "colab_type": "text",
        "id": "EwF0phe6-oR8"
      },
      "source": [
        "## Visualize the tree\n",
        "https://scikit-learn.org/stable/modules/generated/sklearn.tree.export_graphviz.html"
      ]
    },
    {
      "cell_type": "code",
      "metadata": {
        "id": "DlLv7LAcQaUU",
        "colab_type": "code",
        "colab": {
          "base_uri": "https://localhost:8080/",
          "height": 35
        },
        "outputId": "cb9578cf-d0c0-4600-818a-559d4f35fbb4"
      },
      "source": [
        "!pip install graphviz "
      ],
      "execution_count": 24,
      "outputs": [
        {
          "output_type": "stream",
          "text": [
            "Requirement already satisfied: graphviz in /usr/local/lib/python3.6/dist-packages (0.10.1)\n"
          ],
          "name": "stdout"
        }
      ]
    },
    {
      "cell_type": "code",
      "metadata": {
        "id": "0vkgL9QT6z2i",
        "colab_type": "code",
        "colab": {
          "base_uri": "https://localhost:8080/",
          "height": 163
        },
        "outputId": "4e8e2213-63e7-4ffa-cf60-2ebcd41d96b5"
      },
      "source": [
        "!apt-get install graphviz"
      ],
      "execution_count": 25,
      "outputs": [
        {
          "output_type": "stream",
          "text": [
            "Reading package lists... Done\n",
            "Building dependency tree       \n",
            "Reading state information... Done\n",
            "graphviz is already the newest version (2.40.1-2).\n",
            "The following package was automatically installed and is no longer required:\n",
            "  libnvidia-common-410\n",
            "Use 'apt autoremove' to remove it.\n",
            "0 upgraded, 0 newly installed, 0 to remove and 11 not upgraded.\n"
          ],
          "name": "stdout"
        }
      ]
    },
    {
      "cell_type": "code",
      "metadata": {
        "id": "k1kSizl2RFf2",
        "colab_type": "code",
        "colab": {}
      },
      "source": [
        "import graphviz"
      ],
      "execution_count": 0,
      "outputs": []
    },
    {
      "cell_type": "code",
      "metadata": {
        "id": "DpUvTeKHRL3Q",
        "colab_type": "code",
        "colab": {
          "base_uri": "https://localhost:8080/",
          "height": 656
        },
        "outputId": "c9f0f791-f735-48d4-9899-c0b2627994ed"
      },
      "source": [
        "def viztree(decision_tree, feature_names):\n",
        "    dot_data = export_graphviz(decision_tree, out_file=None, feature_names=feature_names, \n",
        "                               filled=True, rounded=True)   \n",
        "    return graphviz.Source(dot_data)\n",
        "  \n",
        "display(viztree(tree, feature_names=X.columns))"
      ],
      "execution_count": 30,
      "outputs": [
        {
          "output_type": "display_data",
          "data": {
            "text/plain": [
              "<graphviz.files.Source at 0x7f5bc6495160>"
            ],
            "image/svg+xml": "<?xml version=\"1.0\" encoding=\"UTF-8\" standalone=\"no\"?>\n<!DOCTYPE svg PUBLIC \"-//W3C//DTD SVG 1.1//EN\"\n \"http://www.w3.org/Graphics/SVG/1.1/DTD/svg11.dtd\">\n<!-- Generated by graphviz version 2.40.1 (20161225.0304)\n -->\n<!-- Title: Tree Pages: 1 -->\n<svg width=\"588pt\" height=\"477pt\"\n viewBox=\"0.00 0.00 587.50 477.00\" xmlns=\"http://www.w3.org/2000/svg\" xmlns:xlink=\"http://www.w3.org/1999/xlink\">\n<g id=\"graph0\" class=\"graph\" transform=\"scale(1 1) rotate(0) translate(4 473)\">\n<title>Tree</title>\n<polygon fill=\"#ffffff\" stroke=\"transparent\" points=\"-4,4 -4,-473 583.5,-473 583.5,4 -4,4\"/>\n<!-- 0 -->\n<g id=\"node1\" class=\"node\">\n<title>0</title>\n<path fill=\"#e58139\" fill-opacity=\"0.643137\" stroke=\"#000000\" d=\"M466.5,-469C466.5,-469 315.5,-469 315.5,-469 309.5,-469 303.5,-463 303.5,-457 303.5,-457 303.5,-413 303.5,-413 303.5,-407 309.5,-401 315.5,-401 315.5,-401 466.5,-401 466.5,-401 472.5,-401 478.5,-407 478.5,-413 478.5,-413 478.5,-457 478.5,-457 478.5,-463 472.5,-469 466.5,-469\"/>\n<text text-anchor=\"middle\" x=\"391\" y=\"-453.8\" font-family=\"Helvetica,sans-Serif\" font-size=\"14.00\" fill=\"#000000\">Outlook_overcast &lt;= 0.5</text>\n<text text-anchor=\"middle\" x=\"391\" y=\"-438.8\" font-family=\"Helvetica,sans-Serif\" font-size=\"14.00\" fill=\"#000000\">mse = 0.23</text>\n<text text-anchor=\"middle\" x=\"391\" y=\"-423.8\" font-family=\"Helvetica,sans-Serif\" font-size=\"14.00\" fill=\"#000000\">samples = 14</text>\n<text text-anchor=\"middle\" x=\"391\" y=\"-408.8\" font-family=\"Helvetica,sans-Serif\" font-size=\"14.00\" fill=\"#000000\">value = 0.643</text>\n</g>\n<!-- 1 -->\n<g id=\"node2\" class=\"node\">\n<title>1</title>\n<path fill=\"#e58139\" fill-opacity=\"0.501961\" stroke=\"#000000\" d=\"M384.5,-365C384.5,-365 255.5,-365 255.5,-365 249.5,-365 243.5,-359 243.5,-353 243.5,-353 243.5,-309 243.5,-309 243.5,-303 249.5,-297 255.5,-297 255.5,-297 384.5,-297 384.5,-297 390.5,-297 396.5,-303 396.5,-309 396.5,-309 396.5,-353 396.5,-353 396.5,-359 390.5,-365 384.5,-365\"/>\n<text text-anchor=\"middle\" x=\"320\" y=\"-349.8\" font-family=\"Helvetica,sans-Serif\" font-size=\"14.00\" fill=\"#000000\">Humidity_high &lt;= 0.5</text>\n<text text-anchor=\"middle\" x=\"320\" y=\"-334.8\" font-family=\"Helvetica,sans-Serif\" font-size=\"14.00\" fill=\"#000000\">mse = 0.25</text>\n<text text-anchor=\"middle\" x=\"320\" y=\"-319.8\" font-family=\"Helvetica,sans-Serif\" font-size=\"14.00\" fill=\"#000000\">samples = 10</text>\n<text text-anchor=\"middle\" x=\"320\" y=\"-304.8\" font-family=\"Helvetica,sans-Serif\" font-size=\"14.00\" fill=\"#000000\">value = 0.5</text>\n</g>\n<!-- 0&#45;&gt;1 -->\n<g id=\"edge1\" class=\"edge\">\n<title>0&#45;&gt;1</title>\n<path fill=\"none\" stroke=\"#000000\" d=\"M367.7519,-400.9465C361.745,-392.1475 355.2045,-382.5672 348.9457,-373.3993\"/>\n<polygon fill=\"#000000\" stroke=\"#000000\" points=\"351.8293,-371.4155 343.3003,-365.13 346.048,-375.3623 351.8293,-371.4155\"/>\n<text text-anchor=\"middle\" x=\"338.6676\" y=\"-385.997\" font-family=\"Helvetica,sans-Serif\" font-size=\"14.00\" fill=\"#000000\">True</text>\n</g>\n<!-- 12 -->\n<g id=\"node13\" class=\"node\">\n<title>12</title>\n<path fill=\"#e58139\" stroke=\"#000000\" d=\"M497.5,-357.5C497.5,-357.5 426.5,-357.5 426.5,-357.5 420.5,-357.5 414.5,-351.5 414.5,-345.5 414.5,-345.5 414.5,-316.5 414.5,-316.5 414.5,-310.5 420.5,-304.5 426.5,-304.5 426.5,-304.5 497.5,-304.5 497.5,-304.5 503.5,-304.5 509.5,-310.5 509.5,-316.5 509.5,-316.5 509.5,-345.5 509.5,-345.5 509.5,-351.5 503.5,-357.5 497.5,-357.5\"/>\n<text text-anchor=\"middle\" x=\"462\" y=\"-342.3\" font-family=\"Helvetica,sans-Serif\" font-size=\"14.00\" fill=\"#000000\">mse = 0.0</text>\n<text text-anchor=\"middle\" x=\"462\" y=\"-327.3\" font-family=\"Helvetica,sans-Serif\" font-size=\"14.00\" fill=\"#000000\">samples = 4</text>\n<text text-anchor=\"middle\" x=\"462\" y=\"-312.3\" font-family=\"Helvetica,sans-Serif\" font-size=\"14.00\" fill=\"#000000\">value = 1.0</text>\n</g>\n<!-- 0&#45;&gt;12 -->\n<g id=\"edge12\" class=\"edge\">\n<title>0&#45;&gt;12</title>\n<path fill=\"none\" stroke=\"#000000\" d=\"M414.2481,-400.9465C421.9182,-389.7113 430.4582,-377.2021 438.1711,-365.9043\"/>\n<polygon fill=\"#000000\" stroke=\"#000000\" points=\"441.1322,-367.7745 443.8799,-357.5422 435.3509,-363.8277 441.1322,-367.7745\"/>\n<text text-anchor=\"middle\" x=\"448.5125\" y=\"-378.4092\" font-family=\"Helvetica,sans-Serif\" font-size=\"14.00\" fill=\"#000000\">False</text>\n</g>\n<!-- 2 -->\n<g id=\"node3\" class=\"node\">\n<title>2</title>\n<path fill=\"#e58139\" fill-opacity=\"0.800000\" stroke=\"#000000\" d=\"M294,-261C294,-261 178,-261 178,-261 172,-261 166,-255 166,-249 166,-249 166,-205 166,-205 166,-199 172,-193 178,-193 178,-193 294,-193 294,-193 300,-193 306,-199 306,-205 306,-205 306,-249 306,-249 306,-255 300,-261 294,-261\"/>\n<text text-anchor=\"middle\" x=\"236\" y=\"-245.8\" font-family=\"Helvetica,sans-Serif\" font-size=\"14.00\" fill=\"#000000\">Windy_false &lt;= 0.5</text>\n<text text-anchor=\"middle\" x=\"236\" y=\"-230.8\" font-family=\"Helvetica,sans-Serif\" font-size=\"14.00\" fill=\"#000000\">mse = 0.16</text>\n<text text-anchor=\"middle\" x=\"236\" y=\"-215.8\" font-family=\"Helvetica,sans-Serif\" font-size=\"14.00\" fill=\"#000000\">samples = 5</text>\n<text text-anchor=\"middle\" x=\"236\" y=\"-200.8\" font-family=\"Helvetica,sans-Serif\" font-size=\"14.00\" fill=\"#000000\">value = 0.8</text>\n</g>\n<!-- 1&#45;&gt;2 -->\n<g id=\"edge2\" class=\"edge\">\n<title>1&#45;&gt;2</title>\n<path fill=\"none\" stroke=\"#000000\" d=\"M292.4953,-296.9465C285.3159,-288.0578 277.4924,-278.3716 270.019,-269.1188\"/>\n<polygon fill=\"#000000\" stroke=\"#000000\" points=\"272.5727,-266.7102 263.5665,-261.13 267.1271,-271.1086 272.5727,-266.7102\"/>\n</g>\n<!-- 7 -->\n<g id=\"node8\" class=\"node\">\n<title>7</title>\n<path fill=\"#e58139\" fill-opacity=\"0.200000\" stroke=\"#000000\" d=\"M471.5,-261C471.5,-261 336.5,-261 336.5,-261 330.5,-261 324.5,-255 324.5,-249 324.5,-249 324.5,-205 324.5,-205 324.5,-199 330.5,-193 336.5,-193 336.5,-193 471.5,-193 471.5,-193 477.5,-193 483.5,-199 483.5,-205 483.5,-205 483.5,-249 483.5,-249 483.5,-255 477.5,-261 471.5,-261\"/>\n<text text-anchor=\"middle\" x=\"404\" y=\"-245.8\" font-family=\"Helvetica,sans-Serif\" font-size=\"14.00\" fill=\"#000000\">Outlook_sunny &lt;= 0.5</text>\n<text text-anchor=\"middle\" x=\"404\" y=\"-230.8\" font-family=\"Helvetica,sans-Serif\" font-size=\"14.00\" fill=\"#000000\">mse = 0.16</text>\n<text text-anchor=\"middle\" x=\"404\" y=\"-215.8\" font-family=\"Helvetica,sans-Serif\" font-size=\"14.00\" fill=\"#000000\">samples = 5</text>\n<text text-anchor=\"middle\" x=\"404\" y=\"-200.8\" font-family=\"Helvetica,sans-Serif\" font-size=\"14.00\" fill=\"#000000\">value = 0.2</text>\n</g>\n<!-- 1&#45;&gt;7 -->\n<g id=\"edge7\" class=\"edge\">\n<title>1&#45;&gt;7</title>\n<path fill=\"none\" stroke=\"#000000\" d=\"M347.5047,-296.9465C354.6841,-288.0578 362.5076,-278.3716 369.981,-269.1188\"/>\n<polygon fill=\"#000000\" stroke=\"#000000\" points=\"372.8729,-271.1086 376.4335,-261.13 367.4273,-266.7102 372.8729,-271.1086\"/>\n</g>\n<!-- 3 -->\n<g id=\"node4\" class=\"node\">\n<title>3</title>\n<path fill=\"#e58139\" fill-opacity=\"0.501961\" stroke=\"#000000\" d=\"M166,-157C166,-157 12,-157 12,-157 6,-157 0,-151 0,-145 0,-145 0,-101 0,-101 0,-95 6,-89 12,-89 12,-89 166,-89 166,-89 172,-89 178,-95 178,-101 178,-101 178,-145 178,-145 178,-151 172,-157 166,-157\"/>\n<text text-anchor=\"middle\" x=\"89\" y=\"-141.8\" font-family=\"Helvetica,sans-Serif\" font-size=\"14.00\" fill=\"#000000\">Temperature_cool &lt;= 0.5</text>\n<text text-anchor=\"middle\" x=\"89\" y=\"-126.8\" font-family=\"Helvetica,sans-Serif\" font-size=\"14.00\" fill=\"#000000\">mse = 0.25</text>\n<text text-anchor=\"middle\" x=\"89\" y=\"-111.8\" font-family=\"Helvetica,sans-Serif\" font-size=\"14.00\" fill=\"#000000\">samples = 2</text>\n<text text-anchor=\"middle\" x=\"89\" y=\"-96.8\" font-family=\"Helvetica,sans-Serif\" font-size=\"14.00\" fill=\"#000000\">value = 0.5</text>\n</g>\n<!-- 2&#45;&gt;3 -->\n<g id=\"edge3\" class=\"edge\">\n<title>2&#45;&gt;3</title>\n<path fill=\"none\" stroke=\"#000000\" d=\"M187.8667,-192.9465C174.4144,-183.4293 159.67,-172.9978 145.7688,-163.163\"/>\n<polygon fill=\"#000000\" stroke=\"#000000\" points=\"147.4264,-160.0483 137.2414,-157.13 143.3835,-165.7628 147.4264,-160.0483\"/>\n</g>\n<!-- 6 -->\n<g id=\"node7\" class=\"node\">\n<title>6</title>\n<path fill=\"#e58139\" stroke=\"#000000\" d=\"M279.5,-149.5C279.5,-149.5 208.5,-149.5 208.5,-149.5 202.5,-149.5 196.5,-143.5 196.5,-137.5 196.5,-137.5 196.5,-108.5 196.5,-108.5 196.5,-102.5 202.5,-96.5 208.5,-96.5 208.5,-96.5 279.5,-96.5 279.5,-96.5 285.5,-96.5 291.5,-102.5 291.5,-108.5 291.5,-108.5 291.5,-137.5 291.5,-137.5 291.5,-143.5 285.5,-149.5 279.5,-149.5\"/>\n<text text-anchor=\"middle\" x=\"244\" y=\"-134.3\" font-family=\"Helvetica,sans-Serif\" font-size=\"14.00\" fill=\"#000000\">mse = 0.0</text>\n<text text-anchor=\"middle\" x=\"244\" y=\"-119.3\" font-family=\"Helvetica,sans-Serif\" font-size=\"14.00\" fill=\"#000000\">samples = 3</text>\n<text text-anchor=\"middle\" x=\"244\" y=\"-104.3\" font-family=\"Helvetica,sans-Serif\" font-size=\"14.00\" fill=\"#000000\">value = 1.0</text>\n</g>\n<!-- 2&#45;&gt;6 -->\n<g id=\"edge6\" class=\"edge\">\n<title>2&#45;&gt;6</title>\n<path fill=\"none\" stroke=\"#000000\" d=\"M238.6195,-192.9465C239.4414,-182.2621 240.3519,-170.4254 241.1866,-159.5742\"/>\n<polygon fill=\"#000000\" stroke=\"#000000\" points=\"244.6809,-159.7812 241.9583,-149.5422 237.7015,-159.2442 244.6809,-159.7812\"/>\n</g>\n<!-- 4 -->\n<g id=\"node5\" class=\"node\">\n<title>4</title>\n<path fill=\"#e58139\" stroke=\"#000000\" d=\"M100.5,-53C100.5,-53 29.5,-53 29.5,-53 23.5,-53 17.5,-47 17.5,-41 17.5,-41 17.5,-12 17.5,-12 17.5,-6 23.5,0 29.5,0 29.5,0 100.5,0 100.5,0 106.5,0 112.5,-6 112.5,-12 112.5,-12 112.5,-41 112.5,-41 112.5,-47 106.5,-53 100.5,-53\"/>\n<text text-anchor=\"middle\" x=\"65\" y=\"-37.8\" font-family=\"Helvetica,sans-Serif\" font-size=\"14.00\" fill=\"#000000\">mse = 0.0</text>\n<text text-anchor=\"middle\" x=\"65\" y=\"-22.8\" font-family=\"Helvetica,sans-Serif\" font-size=\"14.00\" fill=\"#000000\">samples = 1</text>\n<text text-anchor=\"middle\" x=\"65\" y=\"-7.8\" font-family=\"Helvetica,sans-Serif\" font-size=\"14.00\" fill=\"#000000\">value = 1.0</text>\n</g>\n<!-- 3&#45;&gt;4 -->\n<g id=\"edge4\" class=\"edge\">\n<title>3&#45;&gt;4</title>\n<path fill=\"none\" stroke=\"#000000\" d=\"M80.5385,-88.9777C78.4433,-80.5533 76.1901,-71.4934 74.0673,-62.9579\"/>\n<polygon fill=\"#000000\" stroke=\"#000000\" points=\"77.4626,-62.1081 71.6525,-53.2485 70.6695,-63.7976 77.4626,-62.1081\"/>\n</g>\n<!-- 5 -->\n<g id=\"node6\" class=\"node\">\n<title>5</title>\n<path fill=\"transparent\" stroke=\"#000000\" d=\"M213.5,-53C213.5,-53 142.5,-53 142.5,-53 136.5,-53 130.5,-47 130.5,-41 130.5,-41 130.5,-12 130.5,-12 130.5,-6 136.5,0 142.5,0 142.5,0 213.5,0 213.5,0 219.5,0 225.5,-6 225.5,-12 225.5,-12 225.5,-41 225.5,-41 225.5,-47 219.5,-53 213.5,-53\"/>\n<text text-anchor=\"middle\" x=\"178\" y=\"-37.8\" font-family=\"Helvetica,sans-Serif\" font-size=\"14.00\" fill=\"#000000\">mse = 0.0</text>\n<text text-anchor=\"middle\" x=\"178\" y=\"-22.8\" font-family=\"Helvetica,sans-Serif\" font-size=\"14.00\" fill=\"#000000\">samples = 1</text>\n<text text-anchor=\"middle\" x=\"178\" y=\"-7.8\" font-family=\"Helvetica,sans-Serif\" font-size=\"14.00\" fill=\"#000000\">value = 0.0</text>\n</g>\n<!-- 3&#45;&gt;5 -->\n<g id=\"edge5\" class=\"edge\">\n<title>3&#45;&gt;5</title>\n<path fill=\"none\" stroke=\"#000000\" d=\"M120.3781,-88.9777C128.8234,-79.8207 137.9611,-69.9129 146.4175,-60.744\"/>\n<polygon fill=\"#000000\" stroke=\"#000000\" points=\"149.1236,-62.9723 153.3304,-53.2485 143.9779,-58.2266 149.1236,-62.9723\"/>\n</g>\n<!-- 8 -->\n<g id=\"node9\" class=\"node\">\n<title>8</title>\n<path fill=\"#e58139\" fill-opacity=\"0.501961\" stroke=\"#000000\" d=\"M454,-157C454,-157 338,-157 338,-157 332,-157 326,-151 326,-145 326,-145 326,-101 326,-101 326,-95 332,-89 338,-89 338,-89 454,-89 454,-89 460,-89 466,-95 466,-101 466,-101 466,-145 466,-145 466,-151 460,-157 454,-157\"/>\n<text text-anchor=\"middle\" x=\"396\" y=\"-141.8\" font-family=\"Helvetica,sans-Serif\" font-size=\"14.00\" fill=\"#000000\">Windy_false &lt;= 0.5</text>\n<text text-anchor=\"middle\" x=\"396\" y=\"-126.8\" font-family=\"Helvetica,sans-Serif\" font-size=\"14.00\" fill=\"#000000\">mse = 0.25</text>\n<text text-anchor=\"middle\" x=\"396\" y=\"-111.8\" font-family=\"Helvetica,sans-Serif\" font-size=\"14.00\" fill=\"#000000\">samples = 2</text>\n<text text-anchor=\"middle\" x=\"396\" y=\"-96.8\" font-family=\"Helvetica,sans-Serif\" font-size=\"14.00\" fill=\"#000000\">value = 0.5</text>\n</g>\n<!-- 7&#45;&gt;8 -->\n<g id=\"edge8\" class=\"edge\">\n<title>7&#45;&gt;8</title>\n<path fill=\"none\" stroke=\"#000000\" d=\"M401.3805,-192.9465C400.752,-184.776 400.0717,-175.9318 399.4131,-167.3697\"/>\n<polygon fill=\"#000000\" stroke=\"#000000\" points=\"402.8821,-166.8321 398.6254,-157.13 395.9027,-167.369 402.8821,-166.8321\"/>\n</g>\n<!-- 11 -->\n<g id=\"node12\" class=\"node\">\n<title>11</title>\n<path fill=\"transparent\" stroke=\"#000000\" d=\"M567.5,-149.5C567.5,-149.5 496.5,-149.5 496.5,-149.5 490.5,-149.5 484.5,-143.5 484.5,-137.5 484.5,-137.5 484.5,-108.5 484.5,-108.5 484.5,-102.5 490.5,-96.5 496.5,-96.5 496.5,-96.5 567.5,-96.5 567.5,-96.5 573.5,-96.5 579.5,-102.5 579.5,-108.5 579.5,-108.5 579.5,-137.5 579.5,-137.5 579.5,-143.5 573.5,-149.5 567.5,-149.5\"/>\n<text text-anchor=\"middle\" x=\"532\" y=\"-134.3\" font-family=\"Helvetica,sans-Serif\" font-size=\"14.00\" fill=\"#000000\">mse = 0.0</text>\n<text text-anchor=\"middle\" x=\"532\" y=\"-119.3\" font-family=\"Helvetica,sans-Serif\" font-size=\"14.00\" fill=\"#000000\">samples = 3</text>\n<text text-anchor=\"middle\" x=\"532\" y=\"-104.3\" font-family=\"Helvetica,sans-Serif\" font-size=\"14.00\" fill=\"#000000\">value = 0.0</text>\n</g>\n<!-- 7&#45;&gt;11 -->\n<g id=\"edge11\" class=\"edge\">\n<title>7&#45;&gt;11</title>\n<path fill=\"none\" stroke=\"#000000\" d=\"M445.912,-192.9465C460.5533,-181.0504 476.9526,-167.726 491.4785,-155.9237\"/>\n<polygon fill=\"#000000\" stroke=\"#000000\" points=\"493.7786,-158.5645 499.3327,-149.5422 489.3645,-153.1317 493.7786,-158.5645\"/>\n</g>\n<!-- 9 -->\n<g id=\"node10\" class=\"node\">\n<title>9</title>\n<path fill=\"transparent\" stroke=\"#000000\" d=\"M370.5,-53C370.5,-53 299.5,-53 299.5,-53 293.5,-53 287.5,-47 287.5,-41 287.5,-41 287.5,-12 287.5,-12 287.5,-6 293.5,0 299.5,0 299.5,0 370.5,0 370.5,0 376.5,0 382.5,-6 382.5,-12 382.5,-12 382.5,-41 382.5,-41 382.5,-47 376.5,-53 370.5,-53\"/>\n<text text-anchor=\"middle\" x=\"335\" y=\"-37.8\" font-family=\"Helvetica,sans-Serif\" font-size=\"14.00\" fill=\"#000000\">mse = 0.0</text>\n<text text-anchor=\"middle\" x=\"335\" y=\"-22.8\" font-family=\"Helvetica,sans-Serif\" font-size=\"14.00\" fill=\"#000000\">samples = 1</text>\n<text text-anchor=\"middle\" x=\"335\" y=\"-7.8\" font-family=\"Helvetica,sans-Serif\" font-size=\"14.00\" fill=\"#000000\">value = 0.0</text>\n</g>\n<!-- 8&#45;&gt;9 -->\n<g id=\"edge9\" class=\"edge\">\n<title>8&#45;&gt;9</title>\n<path fill=\"none\" stroke=\"#000000\" d=\"M374.4937,-88.9777C368.9369,-80.187 362.9427,-70.7044 357.3441,-61.8477\"/>\n<polygon fill=\"#000000\" stroke=\"#000000\" points=\"360.2101,-59.8312 351.9084,-53.2485 354.2931,-63.5714 360.2101,-59.8312\"/>\n</g>\n<!-- 10 -->\n<g id=\"node11\" class=\"node\">\n<title>10</title>\n<path fill=\"#e58139\" stroke=\"#000000\" d=\"M483.5,-53C483.5,-53 412.5,-53 412.5,-53 406.5,-53 400.5,-47 400.5,-41 400.5,-41 400.5,-12 400.5,-12 400.5,-6 406.5,0 412.5,0 412.5,0 483.5,0 483.5,0 489.5,0 495.5,-6 495.5,-12 495.5,-12 495.5,-41 495.5,-41 495.5,-47 489.5,-53 483.5,-53\"/>\n<text text-anchor=\"middle\" x=\"448\" y=\"-37.8\" font-family=\"Helvetica,sans-Serif\" font-size=\"14.00\" fill=\"#000000\">mse = 0.0</text>\n<text text-anchor=\"middle\" x=\"448\" y=\"-22.8\" font-family=\"Helvetica,sans-Serif\" font-size=\"14.00\" fill=\"#000000\">samples = 1</text>\n<text text-anchor=\"middle\" x=\"448\" y=\"-7.8\" font-family=\"Helvetica,sans-Serif\" font-size=\"14.00\" fill=\"#000000\">value = 1.0</text>\n</g>\n<!-- 8&#45;&gt;10 -->\n<g id=\"edge10\" class=\"edge\">\n<title>8&#45;&gt;10</title>\n<path fill=\"none\" stroke=\"#000000\" d=\"M414.3333,-88.9777C419.0209,-80.2786 424.0736,-70.9018 428.8033,-62.1247\"/>\n<polygon fill=\"#000000\" stroke=\"#000000\" points=\"431.9237,-63.7121 433.5863,-53.2485 425.7614,-60.3914 431.9237,-63.7121\"/>\n</g>\n</g>\n</svg>\n"
          },
          "metadata": {
            "tags": []
          }
        }
      ]
    }
  ]
}