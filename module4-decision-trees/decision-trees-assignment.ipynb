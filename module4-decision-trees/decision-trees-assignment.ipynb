{
  "nbformat": 4,
  "nbformat_minor": 0,
  "metadata": {
    "colab": {
      "name": "LS_DS_411A_Decision_Trees.ipynb",
      "version": "0.3.2",
      "provenance": [],
      "collapsed_sections": []
    },
    "language_info": {
      "codemirror_mode": {
        "name": "ipython",
        "version": 3
      },
      "file_extension": ".py",
      "mimetype": "text/x-python",
      "name": "python",
      "nbconvert_exporter": "python",
      "pygments_lexer": "ipython3",
      "version": "3.7.1"
    },
    "kernelspec": {
      "display_name": "Python 3",
      "language": "python",
      "name": "python3"
    }
  },
  "cells": [
    {
      "cell_type": "markdown",
      "metadata": {
        "colab_type": "text",
        "id": "A0-sUApS7MIs"
      },
      "source": [
        "_Lambda School Data Science — Tree Ensembles_ \n",
        "\n",
        "# Decision Trees Assignment"
      ]
    },
    {
      "cell_type": "markdown",
      "metadata": {
        "id": "10PvoyYAKp6N",
        "colab_type": "text"
      },
      "source": [
        "## Part 1: House Price Regression\n",
        "\n",
        "Apply decision trees to the Ames housing dataset you've worked with this week!\n",
        "\n",
        "- Try multiple features\n",
        "- Try features you've engineered\n",
        "- Try different `max_depth` paramaters\n",
        "- What's the best Test Root Mean Squared Error you can get? *Share with your cohort on Slack!*\n",
        "- What's a cool visualization you can make? *Share with your cohort on Slack!*"
      ]
    },
    {
      "cell_type": "code",
      "metadata": {
        "id": "s8KWQaNUK_nC",
        "colab_type": "code",
        "colab": {}
      },
      "source": [
        "import graphviz\n",
        "import pandas as pd\n",
        "import numpy as np\n",
        "import matplotlib.pyplot as plt\n",
        "import seaborn as sns\n",
        "from sklearn.linear_model import LinearRegression, LogisticRegression\n",
        "from sklearn.metrics import mean_absolute_error, mean_squared_error, r2_score\n",
        "from sklearn.model_selection import train_test_split\n",
        "import statsmodels.api as sm\n",
        "from sklearn.tree import DecisionTreeClassifier, DecisionTreeRegressor, export_graphviz\n",
        "from sklearn.impute import SimpleImputer\n",
        "\n",
        "pd.set_option('display.max_columns', 500)\n",
        "pd.set_option('display.max_rows', 500)\n",
        "df = pd.read_csv('https://raw.githubusercontent.com/ryanleeallred/datasets/master/Ames%20Housing%20Data/train.csv')"
      ],
      "execution_count": 0,
      "outputs": []
    },
    {
      "cell_type": "code",
      "metadata": {
        "id": "BQC478cILAaE",
        "colab_type": "code",
        "colab": {}
      },
      "source": [
        "df['ExterQual'] = df['ExterQual'].replace({'Ex': 4, 'Gd': 3, 'TA':2, 'Fa':1, 'Po':0})\n",
        "df['ExterCond'] = df['ExterCond'].replace({'Ex': 4, 'Gd': 3, 'TA':2, 'Fa':1, 'Po':0})\n",
        "df['BsmtQual'] = df['BsmtQual'].replace({'Ex': 5, 'Gd': 4, 'TA':3, 'Fa':2, 'Po':1, np.nan:0})\n",
        "df['BsmtCond'] = df['BsmtCond'].replace({'Ex': 5, 'Gd': 4, 'TA':3, 'Fa':2, 'Po':1, np.nan:0})\n",
        "df['BsmtFinType1'] = df['BsmtFinType1'].replace({'GLQ': 6, 'ALQ': 5, 'BLQ': 4, 'Rec':3, 'LwQ':2, 'Unf':1, np.nan:0})\n",
        "df['BsmtFinType2'] = df['BsmtFinType2'].replace({'GLQ': 6, 'ALQ': 5, 'BLQ': 4, 'Rec':3, 'LwQ':2, 'Unf':1, np.nan:0})\n",
        "df['HeatingQC'] = df['HeatingQC'].replace({'Ex': 4, 'Gd': 3, 'TA':2, 'Fa':1, 'Po':0})\n",
        "df['CentralAir'] = df['ExterQual'].replace({'No':0, 'Yes':1})\n",
        "df['KitchenQual'] = df['KitchenQual'].replace({'Ex': 4, 'Gd': 3, 'TA':2, 'Fa':1, 'Po':0})\n",
        "df['FireplaceQu'] = df['FireplaceQu'].replace({'Ex': 5, 'Gd': 4, 'TA':3, 'Fa':2, 'Po':1, np.nan:0})\n",
        "df['GarageQual'] = df['GarageQual'].replace({'Ex': 5, 'Gd': 4, 'TA':3, 'Fa':2, 'Po':1, np.nan:0})\n",
        "df['GarageCond'] = df['GarageCond'].replace({'Ex': 5, 'Gd': 4, 'TA':3, 'Fa':2, 'Po':1, np.nan:0})\n",
        "df['PoolQC'] = df['PoolQC'].replace({'Ex': 5, 'Gd': 4, 'TA':3, 'Fa':2, np.nan:0})"
      ],
      "execution_count": 0,
      "outputs": []
    },
    {
      "cell_type": "code",
      "metadata": {
        "id": "I2nNmwJkLGPR",
        "colab_type": "code",
        "colab": {}
      },
      "source": [
        "# get rid of nulls in Garage year built feature\n",
        "df['GarageYrBlt'] = df['GarageYrBlt'].replace(np.nan,df['YearBuilt'])"
      ],
      "execution_count": 0,
      "outputs": []
    },
    {
      "cell_type": "code",
      "metadata": {
        "id": "kqSyWNNsLGww",
        "colab_type": "code",
        "colab": {}
      },
      "source": [
        "## log linear of price\n",
        "df['ln_price'] = np.log(df['SalePrice'])"
      ],
      "execution_count": 0,
      "outputs": []
    },
    {
      "cell_type": "code",
      "metadata": {
        "id": "21KCiPrWLI19",
        "colab_type": "code",
        "colab": {}
      },
      "source": [
        "df_test = df\n",
        "\n",
        "## features engineered\n",
        "df_test['GarageCars_Squared'] = df_test['GarageCars']**2\n",
        "df_test['BsmtFinSF1_Squared'] = df_test['BsmtFinSF1']**2\n",
        "df_test['BsmtQual_Squared'] = df_test['BsmtQual']**2\n",
        "df_test['GarageYrBlt_Squared'] = df_test['GarageYrBlt']**2\n",
        "df_test['age_at_time_sold'] = df_test['YrSold'] - df_test['YearBuilt']\n",
        "df_test['total_area'] = (\n",
        "    df_test['GarageArea'] + df_test['GrLivArea'] +df_test['TotalBsmtSF']\n",
        "                        )\n",
        "df_test['size_yard'] = df_test['LotArea'] - df_test['GrLivArea']\n",
        "df_test['yard_int_liv'] = df_test['size_yard'] * df_test['GrLivArea']\n",
        "df_test['qual_garage_int_bsmt'] = df_test['GarageQual'] * df_test['BsmtQual']\n",
        "df_test['qual_exter_int_kitchen'] = df_test['ExterQual'] * df_test['KitchenQual']\n",
        "df_test['total_rooms_bathrooms'] = df_test['TotRmsAbvGrd'] + df_test['FullBath']\n",
        "df_test['Remodeled'] = (df_test['YearRemodAdd'] != df_test['YearBuilt']) * 1\n",
        "df_test['RecentRemodel'] = (df_test['YearRemodAdd'] == df_test['YrSold']) * 1"
      ],
      "execution_count": 0,
      "outputs": []
    },
    {
      "cell_type": "code",
      "metadata": {
        "id": "E7V6N8XsLLez",
        "colab_type": "code",
        "colab": {}
      },
      "source": [
        "## function to visualize decision tree\n",
        "def viztree(decision_tree, feature_names):\n",
        "    \"\"\"Visualize a decision tree\"\"\"\n",
        "    dot_data = export_graphviz(decision_tree, out_file=None, feature_names=feature_names, \n",
        "                               filled=True, rounded=True)   \n",
        "    return graphviz.Source(dot_data)"
      ],
      "execution_count": 0,
      "outputs": []
    },
    {
      "cell_type": "code",
      "metadata": {
        "id": "_5gSL5doLOJ0",
        "colab_type": "code",
        "colab": {}
      },
      "source": [
        "def run_decision_tree_model(X, y, features, max_depth=1):\n",
        "  X_train, X_test, y_train, y_test = train_test_split(X, y, train_size=.80, test_size=.20, random_state=42)\n",
        "  \n",
        "  tree = DecisionTreeRegressor(max_depth=max_depth)\n",
        "  tree.fit(X_train, y_train)\n",
        "  \n",
        "  print('Train R^2 Score: ', tree.score(X_train, y_train))\n",
        "  print('Test R^2 Score: ', tree.score(X_test, y_test))\n",
        "  display(viztree(tree, feature_names=features))"
      ],
      "execution_count": 0,
      "outputs": []
    },
    {
      "cell_type": "code",
      "metadata": {
        "id": "osWFqRgWLQeU",
        "colab_type": "code",
        "colab": {
          "base_uri": "https://localhost:8080/",
          "height": 731
        },
        "outputId": "ec15b1ad-43e7-495a-c076-cec2df18b6f7"
      },
      "source": [
        "target = 'ln_price'\n",
        "features = ['total_area', 'OverallQual']\n",
        "\n",
        "y = df_test[target]\n",
        "X = df_test[features]\n",
        "run_decision_tree_model(X, y, features, 4)"
      ],
      "execution_count": 21,
      "outputs": [
        {
          "output_type": "stream",
          "text": [
            "Train R^2 Score:  0.8044993479007602\n",
            "Test R^2 Score:  0.782080670300658\n"
          ],
          "name": "stdout"
        },
        {
          "output_type": "display_data",
          "data": {
            "text/plain": [
              "<graphviz.files.Source at 0x7fc315868908>"
            ],
            "image/svg+xml": "<?xml version=\"1.0\" encoding=\"UTF-8\" standalone=\"no\"?>\n<!DOCTYPE svg PUBLIC \"-//W3C//DTD SVG 1.1//EN\"\n \"http://www.w3.org/Graphics/SVG/1.1/DTD/svg11.dtd\">\n<!-- Generated by graphviz version 2.40.1 (20161225.0304)\n -->\n<!-- Title: Tree Pages: 1 -->\n<svg width=\"2078pt\" height=\"477pt\"\n viewBox=\"0.00 0.00 2078.00 477.00\" xmlns=\"http://www.w3.org/2000/svg\" xmlns:xlink=\"http://www.w3.org/1999/xlink\">\n<g id=\"graph0\" class=\"graph\" transform=\"scale(1 1) rotate(0) translate(4 473)\">\n<title>Tree</title>\n<polygon fill=\"#ffffff\" stroke=\"transparent\" points=\"-4,4 -4,-473 2074,-473 2074,4 -4,4\"/>\n<!-- 0 -->\n<g id=\"node1\" class=\"node\">\n<title>0</title>\n<path fill=\"#e58139\" fill-opacity=\"0.650980\" stroke=\"#000000\" d=\"M1093.5,-469C1093.5,-469 967.5,-469 967.5,-469 961.5,-469 955.5,-463 955.5,-457 955.5,-457 955.5,-413 955.5,-413 955.5,-407 961.5,-401 967.5,-401 967.5,-401 1093.5,-401 1093.5,-401 1099.5,-401 1105.5,-407 1105.5,-413 1105.5,-413 1105.5,-457 1105.5,-457 1105.5,-463 1099.5,-469 1093.5,-469\"/>\n<text text-anchor=\"middle\" x=\"1030.5\" y=\"-453.8\" font-family=\"Helvetica,sans-Serif\" font-size=\"14.00\" fill=\"#000000\">total_area &lt;= 3099.0</text>\n<text text-anchor=\"middle\" x=\"1030.5\" y=\"-438.8\" font-family=\"Helvetica,sans-Serif\" font-size=\"14.00\" fill=\"#000000\">mse = 0.152</text>\n<text text-anchor=\"middle\" x=\"1030.5\" y=\"-423.8\" font-family=\"Helvetica,sans-Serif\" font-size=\"14.00\" fill=\"#000000\">samples = 1168</text>\n<text text-anchor=\"middle\" x=\"1030.5\" y=\"-408.8\" font-family=\"Helvetica,sans-Serif\" font-size=\"14.00\" fill=\"#000000\">value = 12.031</text>\n</g>\n<!-- 1 -->\n<g id=\"node2\" class=\"node\">\n<title>1</title>\n<path fill=\"#e58139\" fill-opacity=\"0.545098\" stroke=\"#000000\" d=\"M831.5,-365C831.5,-365 705.5,-365 705.5,-365 699.5,-365 693.5,-359 693.5,-353 693.5,-353 693.5,-309 693.5,-309 693.5,-303 699.5,-297 705.5,-297 705.5,-297 831.5,-297 831.5,-297 837.5,-297 843.5,-303 843.5,-309 843.5,-309 843.5,-353 843.5,-353 843.5,-359 837.5,-365 831.5,-365\"/>\n<text text-anchor=\"middle\" x=\"768.5\" y=\"-349.8\" font-family=\"Helvetica,sans-Serif\" font-size=\"14.00\" fill=\"#000000\">total_area &lt;= 2111.0</text>\n<text text-anchor=\"middle\" x=\"768.5\" y=\"-334.8\" font-family=\"Helvetica,sans-Serif\" font-size=\"14.00\" fill=\"#000000\">mse = 0.071</text>\n<text text-anchor=\"middle\" x=\"768.5\" y=\"-319.8\" font-family=\"Helvetica,sans-Serif\" font-size=\"14.00\" fill=\"#000000\">samples = 663</text>\n<text text-anchor=\"middle\" x=\"768.5\" y=\"-304.8\" font-family=\"Helvetica,sans-Serif\" font-size=\"14.00\" fill=\"#000000\">value = 11.801</text>\n</g>\n<!-- 0&#45;&gt;1 -->\n<g id=\"edge1\" class=\"edge\">\n<title>0&#45;&gt;1</title>\n<path fill=\"none\" stroke=\"#000000\" d=\"M955.4213,-405.1978C923.492,-392.5235 886.1062,-377.6834 853.1954,-364.6196\"/>\n<polygon fill=\"#000000\" stroke=\"#000000\" points=\"854.1755,-361.243 843.5896,-360.8066 851.5929,-367.7492 854.1755,-361.243\"/>\n<text text-anchor=\"middle\" x=\"853.4981\" y=\"-380.0592\" font-family=\"Helvetica,sans-Serif\" font-size=\"14.00\" fill=\"#000000\">True</text>\n</g>\n<!-- 16 -->\n<g id=\"node17\" class=\"node\">\n<title>16</title>\n<path fill=\"#e58139\" fill-opacity=\"0.784314\" stroke=\"#000000\" d=\"M1349,-365C1349,-365 1236,-365 1236,-365 1230,-365 1224,-359 1224,-353 1224,-353 1224,-309 1224,-309 1224,-303 1230,-297 1236,-297 1236,-297 1349,-297 1349,-297 1355,-297 1361,-303 1361,-309 1361,-309 1361,-353 1361,-353 1361,-359 1355,-365 1349,-365\"/>\n<text text-anchor=\"middle\" x=\"1292.5\" y=\"-349.8\" font-family=\"Helvetica,sans-Serif\" font-size=\"14.00\" fill=\"#000000\">OverallQual &lt;= 7.5</text>\n<text text-anchor=\"middle\" x=\"1292.5\" y=\"-334.8\" font-family=\"Helvetica,sans-Serif\" font-size=\"14.00\" fill=\"#000000\">mse = 0.099</text>\n<text text-anchor=\"middle\" x=\"1292.5\" y=\"-319.8\" font-family=\"Helvetica,sans-Serif\" font-size=\"14.00\" fill=\"#000000\">samples = 505</text>\n<text text-anchor=\"middle\" x=\"1292.5\" y=\"-304.8\" font-family=\"Helvetica,sans-Serif\" font-size=\"14.00\" fill=\"#000000\">value = 12.332</text>\n</g>\n<!-- 0&#45;&gt;16 -->\n<g id=\"edge16\" class=\"edge\">\n<title>0&#45;&gt;16</title>\n<path fill=\"none\" stroke=\"#000000\" d=\"M1105.5787,-405.1978C1139.5801,-391.701 1179.7691,-375.7481 1214.1527,-362.0997\"/>\n<polygon fill=\"#000000\" stroke=\"#000000\" points=\"1215.6835,-365.2578 1223.6867,-358.3152 1213.1008,-358.7516 1215.6835,-365.2578\"/>\n<text text-anchor=\"middle\" x=\"1213.7782\" y=\"-377.5678\" font-family=\"Helvetica,sans-Serif\" font-size=\"14.00\" fill=\"#000000\">False</text>\n</g>\n<!-- 2 -->\n<g id=\"node3\" class=\"node\">\n<title>2</title>\n<path fill=\"#e58139\" fill-opacity=\"0.403922\" stroke=\"#000000\" d=\"M453,-261C453,-261 340,-261 340,-261 334,-261 328,-255 328,-249 328,-249 328,-205 328,-205 328,-199 334,-193 340,-193 340,-193 453,-193 453,-193 459,-193 465,-199 465,-205 465,-205 465,-249 465,-249 465,-255 459,-261 453,-261\"/>\n<text text-anchor=\"middle\" x=\"396.5\" y=\"-245.8\" font-family=\"Helvetica,sans-Serif\" font-size=\"14.00\" fill=\"#000000\">OverallQual &lt;= 3.5</text>\n<text text-anchor=\"middle\" x=\"396.5\" y=\"-230.8\" font-family=\"Helvetica,sans-Serif\" font-size=\"14.00\" fill=\"#000000\">mse = 0.069</text>\n<text text-anchor=\"middle\" x=\"396.5\" y=\"-215.8\" font-family=\"Helvetica,sans-Serif\" font-size=\"14.00\" fill=\"#000000\">samples = 138</text>\n<text text-anchor=\"middle\" x=\"396.5\" y=\"-200.8\" font-family=\"Helvetica,sans-Serif\" font-size=\"14.00\" fill=\"#000000\">value = 11.482</text>\n</g>\n<!-- 1&#45;&gt;2 -->\n<g id=\"edge2\" class=\"edge\">\n<title>1&#45;&gt;2</title>\n<path fill=\"none\" stroke=\"#000000\" d=\"M693.2202,-309.954C629.711,-292.1988 539.1242,-266.8734 474.7806,-248.8849\"/>\n<polygon fill=\"#000000\" stroke=\"#000000\" points=\"475.6592,-245.4964 465.0861,-246.1746 473.7744,-252.2379 475.6592,-245.4964\"/>\n</g>\n<!-- 9 -->\n<g id=\"node10\" class=\"node\">\n<title>9</title>\n<path fill=\"#e58139\" fill-opacity=\"0.584314\" stroke=\"#000000\" d=\"M825,-261C825,-261 712,-261 712,-261 706,-261 700,-255 700,-249 700,-249 700,-205 700,-205 700,-199 706,-193 712,-193 712,-193 825,-193 825,-193 831,-193 837,-199 837,-205 837,-205 837,-249 837,-249 837,-255 831,-261 825,-261\"/>\n<text text-anchor=\"middle\" x=\"768.5\" y=\"-245.8\" font-family=\"Helvetica,sans-Serif\" font-size=\"14.00\" fill=\"#000000\">OverallQual &lt;= 5.5</text>\n<text text-anchor=\"middle\" x=\"768.5\" y=\"-230.8\" font-family=\"Helvetica,sans-Serif\" font-size=\"14.00\" fill=\"#000000\">mse = 0.037</text>\n<text text-anchor=\"middle\" x=\"768.5\" y=\"-215.8\" font-family=\"Helvetica,sans-Serif\" font-size=\"14.00\" fill=\"#000000\">samples = 525</text>\n<text text-anchor=\"middle\" x=\"768.5\" y=\"-200.8\" font-family=\"Helvetica,sans-Serif\" font-size=\"14.00\" fill=\"#000000\">value = 11.885</text>\n</g>\n<!-- 1&#45;&gt;9 -->\n<g id=\"edge9\" class=\"edge\">\n<title>1&#45;&gt;9</title>\n<path fill=\"none\" stroke=\"#000000\" d=\"M768.5,-296.9465C768.5,-288.776 768.5,-279.9318 768.5,-271.3697\"/>\n<polygon fill=\"#000000\" stroke=\"#000000\" points=\"772.0001,-271.13 768.5,-261.13 765.0001,-271.13 772.0001,-271.13\"/>\n</g>\n<!-- 3 -->\n<g id=\"node4\" class=\"node\">\n<title>3</title>\n<path fill=\"#e58139\" fill-opacity=\"0.219608\" stroke=\"#000000\" d=\"M246.5,-157C246.5,-157 128.5,-157 128.5,-157 122.5,-157 116.5,-151 116.5,-145 116.5,-145 116.5,-101 116.5,-101 116.5,-95 122.5,-89 128.5,-89 128.5,-89 246.5,-89 246.5,-89 252.5,-89 258.5,-95 258.5,-101 258.5,-101 258.5,-145 258.5,-145 258.5,-151 252.5,-157 246.5,-157\"/>\n<text text-anchor=\"middle\" x=\"187.5\" y=\"-141.8\" font-family=\"Helvetica,sans-Serif\" font-size=\"14.00\" fill=\"#000000\">total_area &lt;= 654.0</text>\n<text text-anchor=\"middle\" x=\"187.5\" y=\"-126.8\" font-family=\"Helvetica,sans-Serif\" font-size=\"14.00\" fill=\"#000000\">mse = 0.08</text>\n<text text-anchor=\"middle\" x=\"187.5\" y=\"-111.8\" font-family=\"Helvetica,sans-Serif\" font-size=\"14.00\" fill=\"#000000\">samples = 12</text>\n<text text-anchor=\"middle\" x=\"187.5\" y=\"-96.8\" font-family=\"Helvetica,sans-Serif\" font-size=\"14.00\" fill=\"#000000\">value = 11.069</text>\n</g>\n<!-- 2&#45;&gt;3 -->\n<g id=\"edge3\" class=\"edge\">\n<title>2&#45;&gt;3</title>\n<path fill=\"none\" stroke=\"#000000\" d=\"M328.0656,-192.9465C307.9472,-182.9354 285.796,-171.9129 265.1457,-161.6371\"/>\n<polygon fill=\"#000000\" stroke=\"#000000\" points=\"266.6003,-158.4516 256.0882,-157.13 263.4817,-164.7185 266.6003,-158.4516\"/>\n</g>\n<!-- 6 -->\n<g id=\"node7\" class=\"node\">\n<title>6</title>\n<path fill=\"#e58139\" fill-opacity=\"0.419608\" stroke=\"#000000\" d=\"M459.5,-157C459.5,-157 333.5,-157 333.5,-157 327.5,-157 321.5,-151 321.5,-145 321.5,-145 321.5,-101 321.5,-101 321.5,-95 327.5,-89 333.5,-89 333.5,-89 459.5,-89 459.5,-89 465.5,-89 471.5,-95 471.5,-101 471.5,-101 471.5,-145 471.5,-145 471.5,-151 465.5,-157 459.5,-157\"/>\n<text text-anchor=\"middle\" x=\"396.5\" y=\"-141.8\" font-family=\"Helvetica,sans-Serif\" font-size=\"14.00\" fill=\"#000000\">total_area &lt;= 1893.0</text>\n<text text-anchor=\"middle\" x=\"396.5\" y=\"-126.8\" font-family=\"Helvetica,sans-Serif\" font-size=\"14.00\" fill=\"#000000\">mse = 0.05</text>\n<text text-anchor=\"middle\" x=\"396.5\" y=\"-111.8\" font-family=\"Helvetica,sans-Serif\" font-size=\"14.00\" fill=\"#000000\">samples = 126</text>\n<text text-anchor=\"middle\" x=\"396.5\" y=\"-96.8\" font-family=\"Helvetica,sans-Serif\" font-size=\"14.00\" fill=\"#000000\">value = 11.521</text>\n</g>\n<!-- 2&#45;&gt;6 -->\n<g id=\"edge6\" class=\"edge\">\n<title>2&#45;&gt;6</title>\n<path fill=\"none\" stroke=\"#000000\" d=\"M396.5,-192.9465C396.5,-184.776 396.5,-175.9318 396.5,-167.3697\"/>\n<polygon fill=\"#000000\" stroke=\"#000000\" points=\"400.0001,-167.13 396.5,-157.13 393.0001,-167.13 400.0001,-167.13\"/>\n</g>\n<!-- 4 -->\n<g id=\"node5\" class=\"node\">\n<title>4</title>\n<path fill=\"transparent\" stroke=\"#000000\" d=\"M101,-53C101,-53 12,-53 12,-53 6,-53 0,-47 0,-41 0,-41 0,-12 0,-12 0,-6 6,0 12,0 12,0 101,0 101,0 107,0 113,-6 113,-12 113,-12 113,-41 113,-41 113,-47 107,-53 101,-53\"/>\n<text text-anchor=\"middle\" x=\"56.5\" y=\"-37.8\" font-family=\"Helvetica,sans-Serif\" font-size=\"14.00\" fill=\"#000000\">mse = 0.0</text>\n<text text-anchor=\"middle\" x=\"56.5\" y=\"-22.8\" font-family=\"Helvetica,sans-Serif\" font-size=\"14.00\" fill=\"#000000\">samples = 1</text>\n<text text-anchor=\"middle\" x=\"56.5\" y=\"-7.8\" font-family=\"Helvetica,sans-Serif\" font-size=\"14.00\" fill=\"#000000\">value = 10.579</text>\n</g>\n<!-- 3&#45;&gt;4 -->\n<g id=\"edge4\" class=\"edge\">\n<title>3&#45;&gt;4</title>\n<path fill=\"none\" stroke=\"#000000\" d=\"M141.3143,-88.9777C128.2621,-79.3629 114.0861,-68.9203 101.1273,-59.3743\"/>\n<polygon fill=\"#000000\" stroke=\"#000000\" points=\"102.9386,-56.3615 92.8114,-53.2485 98.7869,-61.9974 102.9386,-56.3615\"/>\n</g>\n<!-- 5 -->\n<g id=\"node6\" class=\"node\">\n<title>5</title>\n<path fill=\"#e58139\" fill-opacity=\"0.239216\" stroke=\"#000000\" d=\"M232,-53C232,-53 143,-53 143,-53 137,-53 131,-47 131,-41 131,-41 131,-12 131,-12 131,-6 137,0 143,0 143,0 232,0 232,0 238,0 244,-6 244,-12 244,-12 244,-41 244,-41 244,-47 238,-53 232,-53\"/>\n<text text-anchor=\"middle\" x=\"187.5\" y=\"-37.8\" font-family=\"Helvetica,sans-Serif\" font-size=\"14.00\" fill=\"#000000\">mse = 0.063</text>\n<text text-anchor=\"middle\" x=\"187.5\" y=\"-22.8\" font-family=\"Helvetica,sans-Serif\" font-size=\"14.00\" fill=\"#000000\">samples = 11</text>\n<text text-anchor=\"middle\" x=\"187.5\" y=\"-7.8\" font-family=\"Helvetica,sans-Serif\" font-size=\"14.00\" fill=\"#000000\">value = 11.113</text>\n</g>\n<!-- 3&#45;&gt;5 -->\n<g id=\"edge5\" class=\"edge\">\n<title>3&#45;&gt;5</title>\n<path fill=\"none\" stroke=\"#000000\" d=\"M187.5,-88.9777C187.5,-80.7364 187.5,-71.887 187.5,-63.5153\"/>\n<polygon fill=\"#000000\" stroke=\"#000000\" points=\"191.0001,-63.2484 187.5,-53.2485 184.0001,-63.2485 191.0001,-63.2484\"/>\n</g>\n<!-- 7 -->\n<g id=\"node8\" class=\"node\">\n<title>7</title>\n<path fill=\"#e58139\" fill-opacity=\"0.380392\" stroke=\"#000000\" d=\"M354.5,-53C354.5,-53 274.5,-53 274.5,-53 268.5,-53 262.5,-47 262.5,-41 262.5,-41 262.5,-12 262.5,-12 262.5,-6 268.5,0 274.5,0 274.5,0 354.5,0 354.5,0 360.5,0 366.5,-6 366.5,-12 366.5,-12 366.5,-41 366.5,-41 366.5,-47 360.5,-53 354.5,-53\"/>\n<text text-anchor=\"middle\" x=\"314.5\" y=\"-37.8\" font-family=\"Helvetica,sans-Serif\" font-size=\"14.00\" fill=\"#000000\">mse = 0.044</text>\n<text text-anchor=\"middle\" x=\"314.5\" y=\"-22.8\" font-family=\"Helvetica,sans-Serif\" font-size=\"14.00\" fill=\"#000000\">samples = 70</text>\n<text text-anchor=\"middle\" x=\"314.5\" y=\"-7.8\" font-family=\"Helvetica,sans-Serif\" font-size=\"14.00\" fill=\"#000000\">value = 11.43</text>\n</g>\n<!-- 6&#45;&gt;7 -->\n<g id=\"edge7\" class=\"edge\">\n<title>6&#45;&gt;7</title>\n<path fill=\"none\" stroke=\"#000000\" d=\"M367.5899,-88.9777C359.8866,-79.9123 351.5581,-70.111 343.8324,-61.0192\"/>\n<polygon fill=\"#000000\" stroke=\"#000000\" points=\"346.3718,-58.6025 337.2293,-53.2485 341.0375,-63.1352 346.3718,-58.6025\"/>\n</g>\n<!-- 8 -->\n<g id=\"node9\" class=\"node\">\n<title>8</title>\n<path fill=\"#e58139\" fill-opacity=\"0.474510\" stroke=\"#000000\" d=\"M486,-53C486,-53 397,-53 397,-53 391,-53 385,-47 385,-41 385,-41 385,-12 385,-12 385,-6 391,0 397,0 397,0 486,0 486,0 492,0 498,-6 498,-12 498,-12 498,-41 498,-41 498,-47 492,-53 486,-53\"/>\n<text text-anchor=\"middle\" x=\"441.5\" y=\"-37.8\" font-family=\"Helvetica,sans-Serif\" font-size=\"14.00\" fill=\"#000000\">mse = 0.035</text>\n<text text-anchor=\"middle\" x=\"441.5\" y=\"-22.8\" font-family=\"Helvetica,sans-Serif\" font-size=\"14.00\" fill=\"#000000\">samples = 56</text>\n<text text-anchor=\"middle\" x=\"441.5\" y=\"-7.8\" font-family=\"Helvetica,sans-Serif\" font-size=\"14.00\" fill=\"#000000\">value = 11.636</text>\n</g>\n<!-- 6&#45;&gt;8 -->\n<g id=\"edge8\" class=\"edge\">\n<title>6&#45;&gt;8</title>\n<path fill=\"none\" stroke=\"#000000\" d=\"M412.3653,-88.9777C416.3792,-80.3702 420.7025,-71.0992 424.7581,-62.402\"/>\n<polygon fill=\"#000000\" stroke=\"#000000\" points=\"427.9723,-63.7907 429.0266,-53.2485 421.6282,-60.8323 427.9723,-63.7907\"/>\n</g>\n<!-- 10 -->\n<g id=\"node11\" class=\"node\">\n<title>10</title>\n<path fill=\"#e58139\" fill-opacity=\"0.537255\" stroke=\"#000000\" d=\"M747.5,-157C747.5,-157 621.5,-157 621.5,-157 615.5,-157 609.5,-151 609.5,-145 609.5,-145 609.5,-101 609.5,-101 609.5,-95 615.5,-89 621.5,-89 621.5,-89 747.5,-89 747.5,-89 753.5,-89 759.5,-95 759.5,-101 759.5,-101 759.5,-145 759.5,-145 759.5,-151 753.5,-157 747.5,-157\"/>\n<text text-anchor=\"middle\" x=\"684.5\" y=\"-141.8\" font-family=\"Helvetica,sans-Serif\" font-size=\"14.00\" fill=\"#000000\">total_area &lt;= 2554.0</text>\n<text text-anchor=\"middle\" x=\"684.5\" y=\"-126.8\" font-family=\"Helvetica,sans-Serif\" font-size=\"14.00\" fill=\"#000000\">mse = 0.028</text>\n<text text-anchor=\"middle\" x=\"684.5\" y=\"-111.8\" font-family=\"Helvetica,sans-Serif\" font-size=\"14.00\" fill=\"#000000\">samples = 251</text>\n<text text-anchor=\"middle\" x=\"684.5\" y=\"-96.8\" font-family=\"Helvetica,sans-Serif\" font-size=\"14.00\" fill=\"#000000\">value = 11.777</text>\n</g>\n<!-- 9&#45;&gt;10 -->\n<g id=\"edge10\" class=\"edge\">\n<title>9&#45;&gt;10</title>\n<path fill=\"none\" stroke=\"#000000\" d=\"M740.9953,-192.9465C733.8159,-184.0578 725.9924,-174.3716 718.519,-165.1188\"/>\n<polygon fill=\"#000000\" stroke=\"#000000\" points=\"721.0727,-162.7102 712.0665,-157.13 715.6271,-167.1086 721.0727,-162.7102\"/>\n</g>\n<!-- 13 -->\n<g id=\"node14\" class=\"node\">\n<title>13</title>\n<path fill=\"#e58139\" fill-opacity=\"0.627451\" stroke=\"#000000\" d=\"M915.5,-157C915.5,-157 789.5,-157 789.5,-157 783.5,-157 777.5,-151 777.5,-145 777.5,-145 777.5,-101 777.5,-101 777.5,-95 783.5,-89 789.5,-89 789.5,-89 915.5,-89 915.5,-89 921.5,-89 927.5,-95 927.5,-101 927.5,-101 927.5,-145 927.5,-145 927.5,-151 921.5,-157 915.5,-157\"/>\n<text text-anchor=\"middle\" x=\"852.5\" y=\"-141.8\" font-family=\"Helvetica,sans-Serif\" font-size=\"14.00\" fill=\"#000000\">total_area &lt;= 2521.0</text>\n<text text-anchor=\"middle\" x=\"852.5\" y=\"-126.8\" font-family=\"Helvetica,sans-Serif\" font-size=\"14.00\" fill=\"#000000\">mse = 0.026</text>\n<text text-anchor=\"middle\" x=\"852.5\" y=\"-111.8\" font-family=\"Helvetica,sans-Serif\" font-size=\"14.00\" fill=\"#000000\">samples = 274</text>\n<text text-anchor=\"middle\" x=\"852.5\" y=\"-96.8\" font-family=\"Helvetica,sans-Serif\" font-size=\"14.00\" fill=\"#000000\">value = 11.983</text>\n</g>\n<!-- 9&#45;&gt;13 -->\n<g id=\"edge13\" class=\"edge\">\n<title>9&#45;&gt;13</title>\n<path fill=\"none\" stroke=\"#000000\" d=\"M796.0047,-192.9465C803.1841,-184.0578 811.0076,-174.3716 818.481,-165.1188\"/>\n<polygon fill=\"#000000\" stroke=\"#000000\" points=\"821.3729,-167.1086 824.9335,-157.13 815.9273,-162.7102 821.3729,-167.1086\"/>\n</g>\n<!-- 11 -->\n<g id=\"node12\" class=\"node\">\n<title>11</title>\n<path fill=\"#e58139\" fill-opacity=\"0.509804\" stroke=\"#000000\" d=\"M617,-53C617,-53 528,-53 528,-53 522,-53 516,-47 516,-41 516,-41 516,-12 516,-12 516,-6 522,0 528,0 528,0 617,0 617,0 623,0 629,-6 629,-12 629,-12 629,-41 629,-41 629,-47 623,-53 617,-53\"/>\n<text text-anchor=\"middle\" x=\"572.5\" y=\"-37.8\" font-family=\"Helvetica,sans-Serif\" font-size=\"14.00\" fill=\"#000000\">mse = 0.023</text>\n<text text-anchor=\"middle\" x=\"572.5\" y=\"-22.8\" font-family=\"Helvetica,sans-Serif\" font-size=\"14.00\" fill=\"#000000\">samples = 140</text>\n<text text-anchor=\"middle\" x=\"572.5\" y=\"-7.8\" font-family=\"Helvetica,sans-Serif\" font-size=\"14.00\" fill=\"#000000\">value = 11.715</text>\n</g>\n<!-- 10&#45;&gt;11 -->\n<g id=\"edge11\" class=\"edge\">\n<title>10&#45;&gt;11</title>\n<path fill=\"none\" stroke=\"#000000\" d=\"M645.013,-88.9777C634.0664,-79.546 622.1953,-69.3178 611.2889,-59.9208\"/>\n<polygon fill=\"#000000\" stroke=\"#000000\" points=\"613.4053,-57.1244 603.5449,-53.2485 608.8361,-62.4274 613.4053,-57.1244\"/>\n</g>\n<!-- 12 -->\n<g id=\"node13\" class=\"node\">\n<title>12</title>\n<path fill=\"#e58139\" fill-opacity=\"0.572549\" stroke=\"#000000\" d=\"M748,-53C748,-53 659,-53 659,-53 653,-53 647,-47 647,-41 647,-41 647,-12 647,-12 647,-6 653,0 659,0 659,0 748,0 748,0 754,0 760,-6 760,-12 760,-12 760,-41 760,-41 760,-47 754,-53 748,-53\"/>\n<text text-anchor=\"middle\" x=\"703.5\" y=\"-37.8\" font-family=\"Helvetica,sans-Serif\" font-size=\"14.00\" fill=\"#000000\">mse = 0.023</text>\n<text text-anchor=\"middle\" x=\"703.5\" y=\"-22.8\" font-family=\"Helvetica,sans-Serif\" font-size=\"14.00\" fill=\"#000000\">samples = 111</text>\n<text text-anchor=\"middle\" x=\"703.5\" y=\"-7.8\" font-family=\"Helvetica,sans-Serif\" font-size=\"14.00\" fill=\"#000000\">value = 11.855</text>\n</g>\n<!-- 10&#45;&gt;12 -->\n<g id=\"edge12\" class=\"edge\">\n<title>10&#45;&gt;12</title>\n<path fill=\"none\" stroke=\"#000000\" d=\"M691.1987,-88.9777C692.8394,-80.6449 694.6024,-71.6903 696.2669,-63.2364\"/>\n<polygon fill=\"#000000\" stroke=\"#000000\" points=\"699.7356,-63.7363 698.2335,-53.2485 692.8675,-62.3839 699.7356,-63.7363\"/>\n</g>\n<!-- 14 -->\n<g id=\"node15\" class=\"node\">\n<title>14</title>\n<path fill=\"#e58139\" fill-opacity=\"0.576471\" stroke=\"#000000\" d=\"M879,-53C879,-53 790,-53 790,-53 784,-53 778,-47 778,-41 778,-41 778,-12 778,-12 778,-6 784,0 790,0 790,0 879,0 879,0 885,0 891,-6 891,-12 891,-12 891,-41 891,-41 891,-47 885,-53 879,-53\"/>\n<text text-anchor=\"middle\" x=\"834.5\" y=\"-37.8\" font-family=\"Helvetica,sans-Serif\" font-size=\"14.00\" fill=\"#000000\">mse = 0.022</text>\n<text text-anchor=\"middle\" x=\"834.5\" y=\"-22.8\" font-family=\"Helvetica,sans-Serif\" font-size=\"14.00\" fill=\"#000000\">samples = 75</text>\n<text text-anchor=\"middle\" x=\"834.5\" y=\"-7.8\" font-family=\"Helvetica,sans-Serif\" font-size=\"14.00\" fill=\"#000000\">value = 11.866</text>\n</g>\n<!-- 13&#45;&gt;14 -->\n<g id=\"edge14\" class=\"edge\">\n<title>13&#45;&gt;14</title>\n<path fill=\"none\" stroke=\"#000000\" d=\"M846.1539,-88.9777C844.5996,-80.6449 842.9293,-71.6903 841.3524,-63.2364\"/>\n<polygon fill=\"#000000\" stroke=\"#000000\" points=\"844.7637,-62.4371 839.4894,-53.2485 837.8824,-63.7207 844.7637,-62.4371\"/>\n</g>\n<!-- 15 -->\n<g id=\"node16\" class=\"node\">\n<title>15</title>\n<path fill=\"#e58139\" fill-opacity=\"0.647059\" stroke=\"#000000\" d=\"M1010,-53C1010,-53 921,-53 921,-53 915,-53 909,-47 909,-41 909,-41 909,-12 909,-12 909,-6 915,0 921,0 921,0 1010,0 1010,0 1016,0 1022,-6 1022,-12 1022,-12 1022,-41 1022,-41 1022,-47 1016,-53 1010,-53\"/>\n<text text-anchor=\"middle\" x=\"965.5\" y=\"-37.8\" font-family=\"Helvetica,sans-Serif\" font-size=\"14.00\" fill=\"#000000\">mse = 0.02</text>\n<text text-anchor=\"middle\" x=\"965.5\" y=\"-22.8\" font-family=\"Helvetica,sans-Serif\" font-size=\"14.00\" fill=\"#000000\">samples = 199</text>\n<text text-anchor=\"middle\" x=\"965.5\" y=\"-7.8\" font-family=\"Helvetica,sans-Serif\" font-size=\"14.00\" fill=\"#000000\">value = 12.027</text>\n</g>\n<!-- 13&#45;&gt;15 -->\n<g id=\"edge15\" class=\"edge\">\n<title>13&#45;&gt;15</title>\n<path fill=\"none\" stroke=\"#000000\" d=\"M892.3396,-88.9777C903.3839,-79.546 915.361,-69.3178 926.3648,-59.9208\"/>\n<polygon fill=\"#000000\" stroke=\"#000000\" points=\"928.8464,-62.4041 934.1779,-53.2485 924.3006,-57.081 928.8464,-62.4041\"/>\n</g>\n<!-- 17 -->\n<g id=\"node18\" class=\"node\">\n<title>17</title>\n<path fill=\"#e58139\" fill-opacity=\"0.721569\" stroke=\"#000000\" d=\"M1349,-261C1349,-261 1236,-261 1236,-261 1230,-261 1224,-255 1224,-249 1224,-249 1224,-205 1224,-205 1224,-199 1230,-193 1236,-193 1236,-193 1349,-193 1349,-193 1355,-193 1361,-199 1361,-205 1361,-205 1361,-249 1361,-249 1361,-255 1355,-261 1349,-261\"/>\n<text text-anchor=\"middle\" x=\"1292.5\" y=\"-245.8\" font-family=\"Helvetica,sans-Serif\" font-size=\"14.00\" fill=\"#000000\">OverallQual &lt;= 5.5</text>\n<text text-anchor=\"middle\" x=\"1292.5\" y=\"-230.8\" font-family=\"Helvetica,sans-Serif\" font-size=\"14.00\" fill=\"#000000\">mse = 0.056</text>\n<text text-anchor=\"middle\" x=\"1292.5\" y=\"-215.8\" font-family=\"Helvetica,sans-Serif\" font-size=\"14.00\" fill=\"#000000\">samples = 335</text>\n<text text-anchor=\"middle\" x=\"1292.5\" y=\"-200.8\" font-family=\"Helvetica,sans-Serif\" font-size=\"14.00\" fill=\"#000000\">value = 12.188</text>\n</g>\n<!-- 16&#45;&gt;17 -->\n<g id=\"edge17\" class=\"edge\">\n<title>16&#45;&gt;17</title>\n<path fill=\"none\" stroke=\"#000000\" d=\"M1292.5,-296.9465C1292.5,-288.776 1292.5,-279.9318 1292.5,-271.3697\"/>\n<polygon fill=\"#000000\" stroke=\"#000000\" points=\"1296.0001,-271.13 1292.5,-261.13 1289.0001,-271.13 1296.0001,-271.13\"/>\n</g>\n<!-- 24 -->\n<g id=\"node25\" class=\"node\">\n<title>24</title>\n<path fill=\"#e58139\" fill-opacity=\"0.909804\" stroke=\"#000000\" d=\"M1730.5,-261C1730.5,-261 1604.5,-261 1604.5,-261 1598.5,-261 1592.5,-255 1592.5,-249 1592.5,-249 1592.5,-205 1592.5,-205 1592.5,-199 1598.5,-193 1604.5,-193 1604.5,-193 1730.5,-193 1730.5,-193 1736.5,-193 1742.5,-199 1742.5,-205 1742.5,-205 1742.5,-249 1742.5,-249 1742.5,-255 1736.5,-261 1730.5,-261\"/>\n<text text-anchor=\"middle\" x=\"1667.5\" y=\"-245.8\" font-family=\"Helvetica,sans-Serif\" font-size=\"14.00\" fill=\"#000000\">total_area &lt;= 4354.5</text>\n<text text-anchor=\"middle\" x=\"1667.5\" y=\"-230.8\" font-family=\"Helvetica,sans-Serif\" font-size=\"14.00\" fill=\"#000000\">mse = 0.063</text>\n<text text-anchor=\"middle\" x=\"1667.5\" y=\"-215.8\" font-family=\"Helvetica,sans-Serif\" font-size=\"14.00\" fill=\"#000000\">samples = 170</text>\n<text text-anchor=\"middle\" x=\"1667.5\" y=\"-200.8\" font-family=\"Helvetica,sans-Serif\" font-size=\"14.00\" fill=\"#000000\">value = 12.616</text>\n</g>\n<!-- 16&#45;&gt;24 -->\n<g id=\"edge24\" class=\"edge\">\n<title>16&#45;&gt;24</title>\n<path fill=\"none\" stroke=\"#000000\" d=\"M1361.2808,-311.9248C1423.6551,-294.6263 1515.8061,-269.0698 1582.7162,-250.5134\"/>\n<polygon fill=\"#000000\" stroke=\"#000000\" points=\"1583.6976,-253.8734 1592.3985,-247.8282 1581.8268,-247.128 1583.6976,-253.8734\"/>\n</g>\n<!-- 18 -->\n<g id=\"node19\" class=\"node\">\n<title>18</title>\n<path fill=\"#e58139\" fill-opacity=\"0.607843\" stroke=\"#000000\" d=\"M1271.5,-157C1271.5,-157 1145.5,-157 1145.5,-157 1139.5,-157 1133.5,-151 1133.5,-145 1133.5,-145 1133.5,-101 1133.5,-101 1133.5,-95 1139.5,-89 1145.5,-89 1145.5,-89 1271.5,-89 1271.5,-89 1277.5,-89 1283.5,-95 1283.5,-101 1283.5,-101 1283.5,-145 1283.5,-145 1283.5,-151 1277.5,-157 1271.5,-157\"/>\n<text text-anchor=\"middle\" x=\"1208.5\" y=\"-141.8\" font-family=\"Helvetica,sans-Serif\" font-size=\"14.00\" fill=\"#000000\">total_area &lt;= 3168.5</text>\n<text text-anchor=\"middle\" x=\"1208.5\" y=\"-126.8\" font-family=\"Helvetica,sans-Serif\" font-size=\"14.00\" fill=\"#000000\">mse = 0.052</text>\n<text text-anchor=\"middle\" x=\"1208.5\" y=\"-111.8\" font-family=\"Helvetica,sans-Serif\" font-size=\"14.00\" fill=\"#000000\">samples = 57</text>\n<text text-anchor=\"middle\" x=\"1208.5\" y=\"-96.8\" font-family=\"Helvetica,sans-Serif\" font-size=\"14.00\" fill=\"#000000\">value = 11.941</text>\n</g>\n<!-- 17&#45;&gt;18 -->\n<g id=\"edge18\" class=\"edge\">\n<title>17&#45;&gt;18</title>\n<path fill=\"none\" stroke=\"#000000\" d=\"M1264.9953,-192.9465C1257.8159,-184.0578 1249.9924,-174.3716 1242.519,-165.1188\"/>\n<polygon fill=\"#000000\" stroke=\"#000000\" points=\"1245.0727,-162.7102 1236.0665,-157.13 1239.6271,-167.1086 1245.0727,-162.7102\"/>\n</g>\n<!-- 21 -->\n<g id=\"node22\" class=\"node\">\n<title>21</title>\n<path fill=\"#e58139\" fill-opacity=\"0.741176\" stroke=\"#000000\" d=\"M1439.5,-157C1439.5,-157 1313.5,-157 1313.5,-157 1307.5,-157 1301.5,-151 1301.5,-145 1301.5,-145 1301.5,-101 1301.5,-101 1301.5,-95 1307.5,-89 1313.5,-89 1313.5,-89 1439.5,-89 1439.5,-89 1445.5,-89 1451.5,-95 1451.5,-101 1451.5,-101 1451.5,-145 1451.5,-145 1451.5,-151 1445.5,-157 1439.5,-157\"/>\n<text text-anchor=\"middle\" x=\"1376.5\" y=\"-141.8\" font-family=\"Helvetica,sans-Serif\" font-size=\"14.00\" fill=\"#000000\">total_area &lt;= 3615.5</text>\n<text text-anchor=\"middle\" x=\"1376.5\" y=\"-126.8\" font-family=\"Helvetica,sans-Serif\" font-size=\"14.00\" fill=\"#000000\">mse = 0.042</text>\n<text text-anchor=\"middle\" x=\"1376.5\" y=\"-111.8\" font-family=\"Helvetica,sans-Serif\" font-size=\"14.00\" fill=\"#000000\">samples = 278</text>\n<text text-anchor=\"middle\" x=\"1376.5\" y=\"-96.8\" font-family=\"Helvetica,sans-Serif\" font-size=\"14.00\" fill=\"#000000\">value = 12.239</text>\n</g>\n<!-- 17&#45;&gt;21 -->\n<g id=\"edge21\" class=\"edge\">\n<title>17&#45;&gt;21</title>\n<path fill=\"none\" stroke=\"#000000\" d=\"M1320.0047,-192.9465C1327.1841,-184.0578 1335.0076,-174.3716 1342.481,-165.1188\"/>\n<polygon fill=\"#000000\" stroke=\"#000000\" points=\"1345.3729,-167.1086 1348.9335,-157.13 1339.9273,-162.7102 1345.3729,-167.1086\"/>\n</g>\n<!-- 19 -->\n<g id=\"node20\" class=\"node\">\n<title>19</title>\n<path fill=\"#e58139\" fill-opacity=\"0.682353\" stroke=\"#000000\" d=\"M1141,-53C1141,-53 1052,-53 1052,-53 1046,-53 1040,-47 1040,-41 1040,-41 1040,-12 1040,-12 1040,-6 1046,0 1052,0 1052,0 1141,0 1141,0 1147,0 1153,-6 1153,-12 1153,-12 1153,-41 1153,-41 1153,-47 1147,-53 1141,-53\"/>\n<text text-anchor=\"middle\" x=\"1096.5\" y=\"-37.8\" font-family=\"Helvetica,sans-Serif\" font-size=\"14.00\" fill=\"#000000\">mse = 0.005</text>\n<text text-anchor=\"middle\" x=\"1096.5\" y=\"-22.8\" font-family=\"Helvetica,sans-Serif\" font-size=\"14.00\" fill=\"#000000\">samples = 3</text>\n<text text-anchor=\"middle\" x=\"1096.5\" y=\"-7.8\" font-family=\"Helvetica,sans-Serif\" font-size=\"14.00\" fill=\"#000000\">value = 12.102</text>\n</g>\n<!-- 18&#45;&gt;19 -->\n<g id=\"edge19\" class=\"edge\">\n<title>18&#45;&gt;19</title>\n<path fill=\"none\" stroke=\"#000000\" d=\"M1169.013,-88.9777C1158.0664,-79.546 1146.1953,-69.3178 1135.2889,-59.9208\"/>\n<polygon fill=\"#000000\" stroke=\"#000000\" points=\"1137.4053,-57.1244 1127.5449,-53.2485 1132.8361,-62.4274 1137.4053,-57.1244\"/>\n</g>\n<!-- 20 -->\n<g id=\"node21\" class=\"node\">\n<title>20</title>\n<path fill=\"#e58139\" fill-opacity=\"0.603922\" stroke=\"#000000\" d=\"M1272,-53C1272,-53 1183,-53 1183,-53 1177,-53 1171,-47 1171,-41 1171,-41 1171,-12 1171,-12 1171,-6 1177,0 1183,0 1183,0 1272,0 1272,0 1278,0 1284,-6 1284,-12 1284,-12 1284,-41 1284,-41 1284,-47 1278,-53 1272,-53\"/>\n<text text-anchor=\"middle\" x=\"1227.5\" y=\"-37.8\" font-family=\"Helvetica,sans-Serif\" font-size=\"14.00\" fill=\"#000000\">mse = 0.053</text>\n<text text-anchor=\"middle\" x=\"1227.5\" y=\"-22.8\" font-family=\"Helvetica,sans-Serif\" font-size=\"14.00\" fill=\"#000000\">samples = 54</text>\n<text text-anchor=\"middle\" x=\"1227.5\" y=\"-7.8\" font-family=\"Helvetica,sans-Serif\" font-size=\"14.00\" fill=\"#000000\">value = 11.932</text>\n</g>\n<!-- 18&#45;&gt;20 -->\n<g id=\"edge20\" class=\"edge\">\n<title>18&#45;&gt;20</title>\n<path fill=\"none\" stroke=\"#000000\" d=\"M1215.1987,-88.9777C1216.8394,-80.6449 1218.6024,-71.6903 1220.2669,-63.2364\"/>\n<polygon fill=\"#000000\" stroke=\"#000000\" points=\"1223.7356,-63.7363 1222.2335,-53.2485 1216.8675,-62.3839 1223.7356,-63.7363\"/>\n</g>\n<!-- 22 -->\n<g id=\"node23\" class=\"node\">\n<title>22</title>\n<path fill=\"#e58139\" fill-opacity=\"0.709804\" stroke=\"#000000\" d=\"M1403,-53C1403,-53 1314,-53 1314,-53 1308,-53 1302,-47 1302,-41 1302,-41 1302,-12 1302,-12 1302,-6 1308,0 1314,0 1314,0 1403,0 1403,0 1409,0 1415,-6 1415,-12 1415,-12 1415,-41 1415,-41 1415,-47 1409,-53 1403,-53\"/>\n<text text-anchor=\"middle\" x=\"1358.5\" y=\"-37.8\" font-family=\"Helvetica,sans-Serif\" font-size=\"14.00\" fill=\"#000000\">mse = 0.031</text>\n<text text-anchor=\"middle\" x=\"1358.5\" y=\"-22.8\" font-family=\"Helvetica,sans-Serif\" font-size=\"14.00\" fill=\"#000000\">samples = 169</text>\n<text text-anchor=\"middle\" x=\"1358.5\" y=\"-7.8\" font-family=\"Helvetica,sans-Serif\" font-size=\"14.00\" fill=\"#000000\">value = 12.165</text>\n</g>\n<!-- 21&#45;&gt;22 -->\n<g id=\"edge22\" class=\"edge\">\n<title>21&#45;&gt;22</title>\n<path fill=\"none\" stroke=\"#000000\" d=\"M1370.1539,-88.9777C1368.5996,-80.6449 1366.9293,-71.6903 1365.3524,-63.2364\"/>\n<polygon fill=\"#000000\" stroke=\"#000000\" points=\"1368.7637,-62.4371 1363.4894,-53.2485 1361.8824,-63.7207 1368.7637,-62.4371\"/>\n</g>\n<!-- 23 -->\n<g id=\"node24\" class=\"node\">\n<title>23</title>\n<path fill=\"#e58139\" fill-opacity=\"0.792157\" stroke=\"#000000\" d=\"M1534,-53C1534,-53 1445,-53 1445,-53 1439,-53 1433,-47 1433,-41 1433,-41 1433,-12 1433,-12 1433,-6 1439,0 1445,0 1445,0 1534,0 1534,0 1540,0 1546,-6 1546,-12 1546,-12 1546,-41 1546,-41 1546,-47 1540,-53 1534,-53\"/>\n<text text-anchor=\"middle\" x=\"1489.5\" y=\"-37.8\" font-family=\"Helvetica,sans-Serif\" font-size=\"14.00\" fill=\"#000000\">mse = 0.036</text>\n<text text-anchor=\"middle\" x=\"1489.5\" y=\"-22.8\" font-family=\"Helvetica,sans-Serif\" font-size=\"14.00\" fill=\"#000000\">samples = 109</text>\n<text text-anchor=\"middle\" x=\"1489.5\" y=\"-7.8\" font-family=\"Helvetica,sans-Serif\" font-size=\"14.00\" fill=\"#000000\">value = 12.354</text>\n</g>\n<!-- 21&#45;&gt;23 -->\n<g id=\"edge23\" class=\"edge\">\n<title>21&#45;&gt;23</title>\n<path fill=\"none\" stroke=\"#000000\" d=\"M1416.3396,-88.9777C1427.3839,-79.546 1439.361,-69.3178 1450.3648,-59.9208\"/>\n<polygon fill=\"#000000\" stroke=\"#000000\" points=\"1452.8464,-62.4041 1458.1779,-53.2485 1448.3006,-57.081 1452.8464,-62.4041\"/>\n</g>\n<!-- 25 -->\n<g id=\"node26\" class=\"node\">\n<title>25</title>\n<path fill=\"#e58139\" fill-opacity=\"0.858824\" stroke=\"#000000\" d=\"M1730.5,-157C1730.5,-157 1604.5,-157 1604.5,-157 1598.5,-157 1592.5,-151 1592.5,-145 1592.5,-145 1592.5,-101 1592.5,-101 1592.5,-95 1598.5,-89 1604.5,-89 1604.5,-89 1730.5,-89 1730.5,-89 1736.5,-89 1742.5,-95 1742.5,-101 1742.5,-101 1742.5,-145 1742.5,-145 1742.5,-151 1736.5,-157 1730.5,-157\"/>\n<text text-anchor=\"middle\" x=\"1667.5\" y=\"-141.8\" font-family=\"Helvetica,sans-Serif\" font-size=\"14.00\" fill=\"#000000\">total_area &lt;= 3312.5</text>\n<text text-anchor=\"middle\" x=\"1667.5\" y=\"-126.8\" font-family=\"Helvetica,sans-Serif\" font-size=\"14.00\" fill=\"#000000\">mse = 0.023</text>\n<text text-anchor=\"middle\" x=\"1667.5\" y=\"-111.8\" font-family=\"Helvetica,sans-Serif\" font-size=\"14.00\" fill=\"#000000\">samples = 101</text>\n<text text-anchor=\"middle\" x=\"1667.5\" y=\"-96.8\" font-family=\"Helvetica,sans-Serif\" font-size=\"14.00\" fill=\"#000000\">value = 12.496</text>\n</g>\n<!-- 24&#45;&gt;25 -->\n<g id=\"edge25\" class=\"edge\">\n<title>24&#45;&gt;25</title>\n<path fill=\"none\" stroke=\"#000000\" d=\"M1667.5,-192.9465C1667.5,-184.776 1667.5,-175.9318 1667.5,-167.3697\"/>\n<polygon fill=\"#000000\" stroke=\"#000000\" points=\"1671.0001,-167.13 1667.5,-157.13 1664.0001,-167.13 1671.0001,-167.13\"/>\n</g>\n<!-- 28 -->\n<g id=\"node29\" class=\"node\">\n<title>28</title>\n<path fill=\"#e58139\" fill-opacity=\"0.988235\" stroke=\"#000000\" d=\"M1945.5,-157C1945.5,-157 1819.5,-157 1819.5,-157 1813.5,-157 1807.5,-151 1807.5,-145 1807.5,-145 1807.5,-101 1807.5,-101 1807.5,-95 1813.5,-89 1819.5,-89 1819.5,-89 1945.5,-89 1945.5,-89 1951.5,-89 1957.5,-95 1957.5,-101 1957.5,-101 1957.5,-145 1957.5,-145 1957.5,-151 1951.5,-157 1945.5,-157\"/>\n<text text-anchor=\"middle\" x=\"1882.5\" y=\"-141.8\" font-family=\"Helvetica,sans-Serif\" font-size=\"14.00\" fill=\"#000000\">total_area &lt;= 8191.5</text>\n<text text-anchor=\"middle\" x=\"1882.5\" y=\"-126.8\" font-family=\"Helvetica,sans-Serif\" font-size=\"14.00\" fill=\"#000000\">mse = 0.07</text>\n<text text-anchor=\"middle\" x=\"1882.5\" y=\"-111.8\" font-family=\"Helvetica,sans-Serif\" font-size=\"14.00\" fill=\"#000000\">samples = 69</text>\n<text text-anchor=\"middle\" x=\"1882.5\" y=\"-96.8\" font-family=\"Helvetica,sans-Serif\" font-size=\"14.00\" fill=\"#000000\">value = 12.792</text>\n</g>\n<!-- 24&#45;&gt;28 -->\n<g id=\"edge28\" class=\"edge\">\n<title>24&#45;&gt;28</title>\n<path fill=\"none\" stroke=\"#000000\" d=\"M1737.899,-192.9465C1758.6878,-182.8906 1781.5865,-171.814 1802.9109,-161.4989\"/>\n<polygon fill=\"#000000\" stroke=\"#000000\" points=\"1804.4648,-164.6353 1811.9428,-157.13 1801.4166,-158.3338 1804.4648,-164.6353\"/>\n</g>\n<!-- 26 -->\n<g id=\"node27\" class=\"node\">\n<title>26</title>\n<path fill=\"#e58139\" fill-opacity=\"0.749020\" stroke=\"#000000\" d=\"M1665,-53C1665,-53 1576,-53 1576,-53 1570,-53 1564,-47 1564,-41 1564,-41 1564,-12 1564,-12 1564,-6 1570,0 1576,0 1576,0 1665,0 1665,0 1671,0 1677,-6 1677,-12 1677,-12 1677,-41 1677,-41 1677,-47 1671,-53 1665,-53\"/>\n<text text-anchor=\"middle\" x=\"1620.5\" y=\"-37.8\" font-family=\"Helvetica,sans-Serif\" font-size=\"14.00\" fill=\"#000000\">mse = 0.003</text>\n<text text-anchor=\"middle\" x=\"1620.5\" y=\"-22.8\" font-family=\"Helvetica,sans-Serif\" font-size=\"14.00\" fill=\"#000000\">samples = 8</text>\n<text text-anchor=\"middle\" x=\"1620.5\" y=\"-7.8\" font-family=\"Helvetica,sans-Serif\" font-size=\"14.00\" fill=\"#000000\">value = 12.252</text>\n</g>\n<!-- 25&#45;&gt;26 -->\n<g id=\"edge26\" class=\"edge\">\n<title>25&#45;&gt;26</title>\n<path fill=\"none\" stroke=\"#000000\" d=\"M1650.9296,-88.9777C1646.7373,-80.3702 1642.2219,-71.0992 1637.986,-62.402\"/>\n<polygon fill=\"#000000\" stroke=\"#000000\" points=\"1641.0532,-60.7063 1633.5278,-53.2485 1634.7599,-63.7714 1641.0532,-60.7063\"/>\n</g>\n<!-- 27 -->\n<g id=\"node28\" class=\"node\">\n<title>27</title>\n<path fill=\"#e58139\" fill-opacity=\"0.866667\" stroke=\"#000000\" d=\"M1796,-53C1796,-53 1707,-53 1707,-53 1701,-53 1695,-47 1695,-41 1695,-41 1695,-12 1695,-12 1695,-6 1701,0 1707,0 1707,0 1796,0 1796,0 1802,0 1808,-6 1808,-12 1808,-12 1808,-41 1808,-41 1808,-47 1802,-53 1796,-53\"/>\n<text text-anchor=\"middle\" x=\"1751.5\" y=\"-37.8\" font-family=\"Helvetica,sans-Serif\" font-size=\"14.00\" fill=\"#000000\">mse = 0.019</text>\n<text text-anchor=\"middle\" x=\"1751.5\" y=\"-22.8\" font-family=\"Helvetica,sans-Serif\" font-size=\"14.00\" fill=\"#000000\">samples = 93</text>\n<text text-anchor=\"middle\" x=\"1751.5\" y=\"-7.8\" font-family=\"Helvetica,sans-Serif\" font-size=\"14.00\" fill=\"#000000\">value = 12.517</text>\n</g>\n<!-- 25&#45;&gt;27 -->\n<g id=\"edge27\" class=\"edge\">\n<title>25&#45;&gt;27</title>\n<path fill=\"none\" stroke=\"#000000\" d=\"M1697.1153,-88.9777C1705.0064,-79.9123 1713.5381,-70.111 1721.4522,-61.0192\"/>\n<polygon fill=\"#000000\" stroke=\"#000000\" points=\"1724.2906,-63.0892 1728.2164,-53.2485 1719.0107,-58.4932 1724.2906,-63.0892\"/>\n</g>\n<!-- 29 -->\n<g id=\"node30\" class=\"node\">\n<title>29</title>\n<path fill=\"#e58139\" stroke=\"#000000\" d=\"M1927,-53C1927,-53 1838,-53 1838,-53 1832,-53 1826,-47 1826,-41 1826,-41 1826,-12 1826,-12 1826,-6 1832,0 1838,0 1838,0 1927,0 1927,0 1933,0 1939,-6 1939,-12 1939,-12 1939,-41 1939,-41 1939,-47 1933,-53 1927,-53\"/>\n<text text-anchor=\"middle\" x=\"1882.5\" y=\"-37.8\" font-family=\"Helvetica,sans-Serif\" font-size=\"14.00\" fill=\"#000000\">mse = 0.055</text>\n<text text-anchor=\"middle\" x=\"1882.5\" y=\"-22.8\" font-family=\"Helvetica,sans-Serif\" font-size=\"14.00\" fill=\"#000000\">samples = 67</text>\n<text text-anchor=\"middle\" x=\"1882.5\" y=\"-7.8\" font-family=\"Helvetica,sans-Serif\" font-size=\"14.00\" fill=\"#000000\">value = 12.814</text>\n</g>\n<!-- 28&#45;&gt;29 -->\n<g id=\"edge29\" class=\"edge\">\n<title>28&#45;&gt;29</title>\n<path fill=\"none\" stroke=\"#000000\" d=\"M1882.5,-88.9777C1882.5,-80.7364 1882.5,-71.887 1882.5,-63.5153\"/>\n<polygon fill=\"#000000\" stroke=\"#000000\" points=\"1886.0001,-63.2484 1882.5,-53.2485 1879.0001,-63.2485 1886.0001,-63.2484\"/>\n</g>\n<!-- 30 -->\n<g id=\"node31\" class=\"node\">\n<title>30</title>\n<path fill=\"#e58139\" fill-opacity=\"0.658824\" stroke=\"#000000\" d=\"M2058,-53C2058,-53 1969,-53 1969,-53 1963,-53 1957,-47 1957,-41 1957,-41 1957,-12 1957,-12 1957,-6 1963,0 1969,0 1969,0 2058,0 2058,0 2064,0 2070,-6 2070,-12 2070,-12 2070,-41 2070,-41 2070,-47 2064,-53 2058,-53\"/>\n<text text-anchor=\"middle\" x=\"2013.5\" y=\"-37.8\" font-family=\"Helvetica,sans-Serif\" font-size=\"14.00\" fill=\"#000000\">mse = 0.005</text>\n<text text-anchor=\"middle\" x=\"2013.5\" y=\"-22.8\" font-family=\"Helvetica,sans-Serif\" font-size=\"14.00\" fill=\"#000000\">samples = 2</text>\n<text text-anchor=\"middle\" x=\"2013.5\" y=\"-7.8\" font-family=\"Helvetica,sans-Serif\" font-size=\"14.00\" fill=\"#000000\">value = 12.055</text>\n</g>\n<!-- 28&#45;&gt;30 -->\n<g id=\"edge30\" class=\"edge\">\n<title>28&#45;&gt;30</title>\n<path fill=\"none\" stroke=\"#000000\" d=\"M1928.6857,-88.9777C1941.7379,-79.3629 1955.9139,-68.9203 1968.8727,-59.3743\"/>\n<polygon fill=\"#000000\" stroke=\"#000000\" points=\"1971.2131,-61.9974 1977.1886,-53.2485 1967.0614,-56.3615 1971.2131,-61.9974\"/>\n</g>\n</g>\n</svg>\n"
          },
          "metadata": {
            "tags": []
          }
        }
      ]
    },
    {
      "cell_type": "markdown",
      "metadata": {
        "colab_type": "text",
        "id": "kWm7mMlH9sl2"
      },
      "source": [
        "## Part 2 / Stretch: \"Play Tennis\" Classification"
      ]
    },
    {
      "cell_type": "markdown",
      "metadata": {
        "colab_type": "text",
        "id": "2f5-S87kg6gJ"
      },
      "source": [
        "We'll reproduce the \"Play Tennis\" example from Ross Quinlan's 1986 paper, [Induction of Decison Trees](https://link.springer.com/content/pdf/10.1007%2FBF00116251.pdf).\n",
        "\n",
        "[According to Wikipedia](https://en.wikipedia.org/wiki/Ross_Quinlan), \"John Ross Quinlan is a computer science researcher in data mining and decision theory. He has contributed extensively to the development of decision tree algorithms, including inventing the canonical C4.5 and ID3 algorithms.\""
      ]
    },
    {
      "cell_type": "markdown",
      "metadata": {
        "colab_type": "text",
        "id": "Qfv6Zwdoje7_"
      },
      "source": [
        "#### \"Table 1 shows a small training set\""
      ]
    },
    {
      "cell_type": "code",
      "metadata": {
        "colab_type": "code",
        "id": "oUE-G0pgg58u",
        "colab": {
          "base_uri": "https://localhost:8080/",
          "height": 514
        },
        "outputId": "191275de-8e1d-4080-ea6c-248ce74da01b"
      },
      "source": [
        "import pandas as pd\n",
        "\n",
        "columns = 'No. Outlook Temperature Humidity Windy PlayTennis'.split()\n",
        "\n",
        "raw = \"\"\"1 sunny hot high false N\n",
        "2 sunny hot high true N\n",
        "3 overcast hot high false P\n",
        "4 rain mild high false P\n",
        "5 rain cool normal false P\n",
        "6 rain cool normal true N\n",
        "7 overcast cool normal true P\n",
        "8 sunny mild high false N\n",
        "9 sunny cool normal false P\n",
        "10 rain mild normal false P\n",
        "11 sunny mild normal true P\n",
        "12 overcast mild high true P\n",
        "13 overcast hot normal false P\n",
        "14 rain mild high true N\"\"\"\n",
        "\n",
        "data = [row.split() for row in raw.split('\\n')]\n",
        "tennis = pd.DataFrame(data=data, columns=columns).set_index('No.')\n",
        "tennis['PlayTennis'] = (tennis['PlayTennis'] == 'P').astype(int)\n",
        "\n",
        "tennis"
      ],
      "execution_count": 23,
      "outputs": [
        {
          "output_type": "execute_result",
          "data": {
            "text/html": [
              "<div>\n",
              "<style scoped>\n",
              "    .dataframe tbody tr th:only-of-type {\n",
              "        vertical-align: middle;\n",
              "    }\n",
              "\n",
              "    .dataframe tbody tr th {\n",
              "        vertical-align: top;\n",
              "    }\n",
              "\n",
              "    .dataframe thead th {\n",
              "        text-align: right;\n",
              "    }\n",
              "</style>\n",
              "<table border=\"1\" class=\"dataframe\">\n",
              "  <thead>\n",
              "    <tr style=\"text-align: right;\">\n",
              "      <th></th>\n",
              "      <th>Outlook</th>\n",
              "      <th>Temperature</th>\n",
              "      <th>Humidity</th>\n",
              "      <th>Windy</th>\n",
              "      <th>PlayTennis</th>\n",
              "    </tr>\n",
              "    <tr>\n",
              "      <th>No.</th>\n",
              "      <th></th>\n",
              "      <th></th>\n",
              "      <th></th>\n",
              "      <th></th>\n",
              "      <th></th>\n",
              "    </tr>\n",
              "  </thead>\n",
              "  <tbody>\n",
              "    <tr>\n",
              "      <th>1</th>\n",
              "      <td>sunny</td>\n",
              "      <td>hot</td>\n",
              "      <td>high</td>\n",
              "      <td>false</td>\n",
              "      <td>0</td>\n",
              "    </tr>\n",
              "    <tr>\n",
              "      <th>2</th>\n",
              "      <td>sunny</td>\n",
              "      <td>hot</td>\n",
              "      <td>high</td>\n",
              "      <td>true</td>\n",
              "      <td>0</td>\n",
              "    </tr>\n",
              "    <tr>\n",
              "      <th>3</th>\n",
              "      <td>overcast</td>\n",
              "      <td>hot</td>\n",
              "      <td>high</td>\n",
              "      <td>false</td>\n",
              "      <td>1</td>\n",
              "    </tr>\n",
              "    <tr>\n",
              "      <th>4</th>\n",
              "      <td>rain</td>\n",
              "      <td>mild</td>\n",
              "      <td>high</td>\n",
              "      <td>false</td>\n",
              "      <td>1</td>\n",
              "    </tr>\n",
              "    <tr>\n",
              "      <th>5</th>\n",
              "      <td>rain</td>\n",
              "      <td>cool</td>\n",
              "      <td>normal</td>\n",
              "      <td>false</td>\n",
              "      <td>1</td>\n",
              "    </tr>\n",
              "    <tr>\n",
              "      <th>6</th>\n",
              "      <td>rain</td>\n",
              "      <td>cool</td>\n",
              "      <td>normal</td>\n",
              "      <td>true</td>\n",
              "      <td>0</td>\n",
              "    </tr>\n",
              "    <tr>\n",
              "      <th>7</th>\n",
              "      <td>overcast</td>\n",
              "      <td>cool</td>\n",
              "      <td>normal</td>\n",
              "      <td>true</td>\n",
              "      <td>1</td>\n",
              "    </tr>\n",
              "    <tr>\n",
              "      <th>8</th>\n",
              "      <td>sunny</td>\n",
              "      <td>mild</td>\n",
              "      <td>high</td>\n",
              "      <td>false</td>\n",
              "      <td>0</td>\n",
              "    </tr>\n",
              "    <tr>\n",
              "      <th>9</th>\n",
              "      <td>sunny</td>\n",
              "      <td>cool</td>\n",
              "      <td>normal</td>\n",
              "      <td>false</td>\n",
              "      <td>1</td>\n",
              "    </tr>\n",
              "    <tr>\n",
              "      <th>10</th>\n",
              "      <td>rain</td>\n",
              "      <td>mild</td>\n",
              "      <td>normal</td>\n",
              "      <td>false</td>\n",
              "      <td>1</td>\n",
              "    </tr>\n",
              "    <tr>\n",
              "      <th>11</th>\n",
              "      <td>sunny</td>\n",
              "      <td>mild</td>\n",
              "      <td>normal</td>\n",
              "      <td>true</td>\n",
              "      <td>1</td>\n",
              "    </tr>\n",
              "    <tr>\n",
              "      <th>12</th>\n",
              "      <td>overcast</td>\n",
              "      <td>mild</td>\n",
              "      <td>high</td>\n",
              "      <td>true</td>\n",
              "      <td>1</td>\n",
              "    </tr>\n",
              "    <tr>\n",
              "      <th>13</th>\n",
              "      <td>overcast</td>\n",
              "      <td>hot</td>\n",
              "      <td>normal</td>\n",
              "      <td>false</td>\n",
              "      <td>1</td>\n",
              "    </tr>\n",
              "    <tr>\n",
              "      <th>14</th>\n",
              "      <td>rain</td>\n",
              "      <td>mild</td>\n",
              "      <td>high</td>\n",
              "      <td>true</td>\n",
              "      <td>0</td>\n",
              "    </tr>\n",
              "  </tbody>\n",
              "</table>\n",
              "</div>"
            ],
            "text/plain": [
              "      Outlook Temperature Humidity  Windy  PlayTennis\n",
              "No.                                                  \n",
              "1       sunny         hot     high  false           0\n",
              "2       sunny         hot     high   true           0\n",
              "3    overcast         hot     high  false           1\n",
              "4        rain        mild     high  false           1\n",
              "5        rain        cool   normal  false           1\n",
              "6        rain        cool   normal   true           0\n",
              "7    overcast        cool   normal   true           1\n",
              "8       sunny        mild     high  false           0\n",
              "9       sunny        cool   normal  false           1\n",
              "10       rain        mild   normal  false           1\n",
              "11      sunny        mild   normal   true           1\n",
              "12   overcast        mild     high   true           1\n",
              "13   overcast         hot   normal  false           1\n",
              "14       rain        mild     high   true           0"
            ]
          },
          "metadata": {
            "tags": []
          },
          "execution_count": 23
        }
      ]
    },
    {
      "cell_type": "markdown",
      "metadata": {
        "colab_type": "text",
        "id": "BvFu9kvJj9kk"
      },
      "source": [
        "#### \"A decision tree that correctly classifies each object in the training set is given in Figure 2.\"\n",
        "\n",
        "<img src=\"https://i.imgur.com/RD7d0u0.png\" height=\"300\">"
      ]
    },
    {
      "cell_type": "markdown",
      "metadata": {
        "colab_type": "text",
        "id": "kHkkeALqjNiS"
      },
      "source": [
        "In this dataset, the tennis player decided to play on 64% of the days, and decided not to on 36% of the days."
      ]
    },
    {
      "cell_type": "code",
      "metadata": {
        "colab_type": "code",
        "id": "qeLDinBihMDQ",
        "colab": {
          "base_uri": "https://localhost:8080/",
          "height": 68
        },
        "outputId": "a3d796df-eb49-4d40-fe0e-a9fc561dc888"
      },
      "source": [
        "tennis['PlayTennis'].value_counts(normalize=True) * 100"
      ],
      "execution_count": 24,
      "outputs": [
        {
          "output_type": "execute_result",
          "data": {
            "text/plain": [
              "1    64.285714\n",
              "0    35.714286\n",
              "Name: PlayTennis, dtype: float64"
            ]
          },
          "metadata": {
            "tags": []
          },
          "execution_count": 24
        }
      ]
    },
    {
      "cell_type": "markdown",
      "metadata": {
        "colab_type": "text",
        "id": "Ype2-apnlaG2"
      },
      "source": [
        "The tennis player played on 100% of the overcast days, 40% of the sunny days, and 60% of the  rainy days"
      ]
    },
    {
      "cell_type": "code",
      "metadata": {
        "colab_type": "code",
        "id": "LfBMB0Soh58T",
        "colab": {
          "base_uri": "https://localhost:8080/",
          "height": 102
        },
        "outputId": "6cb18c71-c525-4644-cda7-6b0fd30be291"
      },
      "source": [
        "tennis.groupby('Outlook')['PlayTennis'].mean() * 100"
      ],
      "execution_count": 25,
      "outputs": [
        {
          "output_type": "execute_result",
          "data": {
            "text/plain": [
              "Outlook\n",
              "overcast    100.0\n",
              "rain         60.0\n",
              "sunny        40.0\n",
              "Name: PlayTennis, dtype: float64"
            ]
          },
          "metadata": {
            "tags": []
          },
          "execution_count": 25
        }
      ]
    },
    {
      "cell_type": "markdown",
      "metadata": {
        "colab_type": "text",
        "id": "jx3-MFvalrQC"
      },
      "source": [
        "On sunny days, the tennis player's decision depends on the humidity. (The Outlook and Humidity features interact.)"
      ]
    },
    {
      "cell_type": "code",
      "metadata": {
        "colab_type": "code",
        "id": "FmVN7hwEiHE5",
        "colab": {
          "base_uri": "https://localhost:8080/",
          "height": 85
        },
        "outputId": "8f578a58-edc3-43db-8e04-5d0f8186e399"
      },
      "source": [
        "sunny = tennis[tennis['Outlook']=='sunny']\n",
        "sunny.groupby('Humidity')['PlayTennis'].mean() * 100"
      ],
      "execution_count": 26,
      "outputs": [
        {
          "output_type": "execute_result",
          "data": {
            "text/plain": [
              "Humidity\n",
              "high        0\n",
              "normal    100\n",
              "Name: PlayTennis, dtype: int64"
            ]
          },
          "metadata": {
            "tags": []
          },
          "execution_count": 26
        }
      ]
    },
    {
      "cell_type": "markdown",
      "metadata": {
        "colab_type": "text",
        "id": "y0it0HsFl47M"
      },
      "source": [
        "On rainy days, the tennis player's decision depends on the wind. (The Outlook and Windy features interact.)"
      ]
    },
    {
      "cell_type": "code",
      "metadata": {
        "colab_type": "code",
        "id": "CeOd7rGeivJp",
        "colab": {
          "base_uri": "https://localhost:8080/",
          "height": 85
        },
        "outputId": "6df9ccac-8e5b-420c-d6e1-c875cddd58aa"
      },
      "source": [
        "rainy = tennis[tennis['Outlook']=='rain']\n",
        "rainy.groupby('Windy')['PlayTennis'].mean() * 100"
      ],
      "execution_count": 27,
      "outputs": [
        {
          "output_type": "execute_result",
          "data": {
            "text/plain": [
              "Windy\n",
              "false    100\n",
              "true       0\n",
              "Name: PlayTennis, dtype: int64"
            ]
          },
          "metadata": {
            "tags": []
          },
          "execution_count": 27
        }
      ]
    },
    {
      "cell_type": "markdown",
      "metadata": {
        "id": "EXL8R9dOKp7J",
        "colab_type": "text"
      },
      "source": [
        "#### Before modeling, we will [\"encode\" categorical variables, using pandas](https://pandas.pydata.org/pandas-docs/stable/user_guide/reshaping.html?highlight=get_dummies#computing-indicator-dummy-variables)"
      ]
    },
    {
      "cell_type": "code",
      "metadata": {
        "colab_type": "code",
        "id": "VCyn34nEi0nz",
        "colab": {
          "base_uri": "https://localhost:8080/",
          "height": 554
        },
        "outputId": "b9182803-7129-4de0-dbd2-88ff1f8d790c"
      },
      "source": [
        "y = tennis['PlayTennis']\n",
        "X = pd.get_dummies(tennis.drop(columns='PlayTennis'))\n",
        "X"
      ],
      "execution_count": 28,
      "outputs": [
        {
          "output_type": "execute_result",
          "data": {
            "text/html": [
              "<div>\n",
              "<style scoped>\n",
              "    .dataframe tbody tr th:only-of-type {\n",
              "        vertical-align: middle;\n",
              "    }\n",
              "\n",
              "    .dataframe tbody tr th {\n",
              "        vertical-align: top;\n",
              "    }\n",
              "\n",
              "    .dataframe thead th {\n",
              "        text-align: right;\n",
              "    }\n",
              "</style>\n",
              "<table border=\"1\" class=\"dataframe\">\n",
              "  <thead>\n",
              "    <tr style=\"text-align: right;\">\n",
              "      <th></th>\n",
              "      <th>Outlook_overcast</th>\n",
              "      <th>Outlook_rain</th>\n",
              "      <th>Outlook_sunny</th>\n",
              "      <th>Temperature_cool</th>\n",
              "      <th>Temperature_hot</th>\n",
              "      <th>Temperature_mild</th>\n",
              "      <th>Humidity_high</th>\n",
              "      <th>Humidity_normal</th>\n",
              "      <th>Windy_false</th>\n",
              "      <th>Windy_true</th>\n",
              "    </tr>\n",
              "    <tr>\n",
              "      <th>No.</th>\n",
              "      <th></th>\n",
              "      <th></th>\n",
              "      <th></th>\n",
              "      <th></th>\n",
              "      <th></th>\n",
              "      <th></th>\n",
              "      <th></th>\n",
              "      <th></th>\n",
              "      <th></th>\n",
              "      <th></th>\n",
              "    </tr>\n",
              "  </thead>\n",
              "  <tbody>\n",
              "    <tr>\n",
              "      <th>1</th>\n",
              "      <td>0</td>\n",
              "      <td>0</td>\n",
              "      <td>1</td>\n",
              "      <td>0</td>\n",
              "      <td>1</td>\n",
              "      <td>0</td>\n",
              "      <td>1</td>\n",
              "      <td>0</td>\n",
              "      <td>1</td>\n",
              "      <td>0</td>\n",
              "    </tr>\n",
              "    <tr>\n",
              "      <th>2</th>\n",
              "      <td>0</td>\n",
              "      <td>0</td>\n",
              "      <td>1</td>\n",
              "      <td>0</td>\n",
              "      <td>1</td>\n",
              "      <td>0</td>\n",
              "      <td>1</td>\n",
              "      <td>0</td>\n",
              "      <td>0</td>\n",
              "      <td>1</td>\n",
              "    </tr>\n",
              "    <tr>\n",
              "      <th>3</th>\n",
              "      <td>1</td>\n",
              "      <td>0</td>\n",
              "      <td>0</td>\n",
              "      <td>0</td>\n",
              "      <td>1</td>\n",
              "      <td>0</td>\n",
              "      <td>1</td>\n",
              "      <td>0</td>\n",
              "      <td>1</td>\n",
              "      <td>0</td>\n",
              "    </tr>\n",
              "    <tr>\n",
              "      <th>4</th>\n",
              "      <td>0</td>\n",
              "      <td>1</td>\n",
              "      <td>0</td>\n",
              "      <td>0</td>\n",
              "      <td>0</td>\n",
              "      <td>1</td>\n",
              "      <td>1</td>\n",
              "      <td>0</td>\n",
              "      <td>1</td>\n",
              "      <td>0</td>\n",
              "    </tr>\n",
              "    <tr>\n",
              "      <th>5</th>\n",
              "      <td>0</td>\n",
              "      <td>1</td>\n",
              "      <td>0</td>\n",
              "      <td>1</td>\n",
              "      <td>0</td>\n",
              "      <td>0</td>\n",
              "      <td>0</td>\n",
              "      <td>1</td>\n",
              "      <td>1</td>\n",
              "      <td>0</td>\n",
              "    </tr>\n",
              "    <tr>\n",
              "      <th>6</th>\n",
              "      <td>0</td>\n",
              "      <td>1</td>\n",
              "      <td>0</td>\n",
              "      <td>1</td>\n",
              "      <td>0</td>\n",
              "      <td>0</td>\n",
              "      <td>0</td>\n",
              "      <td>1</td>\n",
              "      <td>0</td>\n",
              "      <td>1</td>\n",
              "    </tr>\n",
              "    <tr>\n",
              "      <th>7</th>\n",
              "      <td>1</td>\n",
              "      <td>0</td>\n",
              "      <td>0</td>\n",
              "      <td>1</td>\n",
              "      <td>0</td>\n",
              "      <td>0</td>\n",
              "      <td>0</td>\n",
              "      <td>1</td>\n",
              "      <td>0</td>\n",
              "      <td>1</td>\n",
              "    </tr>\n",
              "    <tr>\n",
              "      <th>8</th>\n",
              "      <td>0</td>\n",
              "      <td>0</td>\n",
              "      <td>1</td>\n",
              "      <td>0</td>\n",
              "      <td>0</td>\n",
              "      <td>1</td>\n",
              "      <td>1</td>\n",
              "      <td>0</td>\n",
              "      <td>1</td>\n",
              "      <td>0</td>\n",
              "    </tr>\n",
              "    <tr>\n",
              "      <th>9</th>\n",
              "      <td>0</td>\n",
              "      <td>0</td>\n",
              "      <td>1</td>\n",
              "      <td>1</td>\n",
              "      <td>0</td>\n",
              "      <td>0</td>\n",
              "      <td>0</td>\n",
              "      <td>1</td>\n",
              "      <td>1</td>\n",
              "      <td>0</td>\n",
              "    </tr>\n",
              "    <tr>\n",
              "      <th>10</th>\n",
              "      <td>0</td>\n",
              "      <td>1</td>\n",
              "      <td>0</td>\n",
              "      <td>0</td>\n",
              "      <td>0</td>\n",
              "      <td>1</td>\n",
              "      <td>0</td>\n",
              "      <td>1</td>\n",
              "      <td>1</td>\n",
              "      <td>0</td>\n",
              "    </tr>\n",
              "    <tr>\n",
              "      <th>11</th>\n",
              "      <td>0</td>\n",
              "      <td>0</td>\n",
              "      <td>1</td>\n",
              "      <td>0</td>\n",
              "      <td>0</td>\n",
              "      <td>1</td>\n",
              "      <td>0</td>\n",
              "      <td>1</td>\n",
              "      <td>0</td>\n",
              "      <td>1</td>\n",
              "    </tr>\n",
              "    <tr>\n",
              "      <th>12</th>\n",
              "      <td>1</td>\n",
              "      <td>0</td>\n",
              "      <td>0</td>\n",
              "      <td>0</td>\n",
              "      <td>0</td>\n",
              "      <td>1</td>\n",
              "      <td>1</td>\n",
              "      <td>0</td>\n",
              "      <td>0</td>\n",
              "      <td>1</td>\n",
              "    </tr>\n",
              "    <tr>\n",
              "      <th>13</th>\n",
              "      <td>1</td>\n",
              "      <td>0</td>\n",
              "      <td>0</td>\n",
              "      <td>0</td>\n",
              "      <td>1</td>\n",
              "      <td>0</td>\n",
              "      <td>0</td>\n",
              "      <td>1</td>\n",
              "      <td>1</td>\n",
              "      <td>0</td>\n",
              "    </tr>\n",
              "    <tr>\n",
              "      <th>14</th>\n",
              "      <td>0</td>\n",
              "      <td>1</td>\n",
              "      <td>0</td>\n",
              "      <td>0</td>\n",
              "      <td>0</td>\n",
              "      <td>1</td>\n",
              "      <td>1</td>\n",
              "      <td>0</td>\n",
              "      <td>0</td>\n",
              "      <td>1</td>\n",
              "    </tr>\n",
              "  </tbody>\n",
              "</table>\n",
              "</div>"
            ],
            "text/plain": [
              "     Outlook_overcast  Outlook_rain  Outlook_sunny  Temperature_cool  \\\n",
              "No.                                                                    \n",
              "1                   0             0              1                 0   \n",
              "2                   0             0              1                 0   \n",
              "3                   1             0              0                 0   \n",
              "4                   0             1              0                 0   \n",
              "5                   0             1              0                 1   \n",
              "6                   0             1              0                 1   \n",
              "7                   1             0              0                 1   \n",
              "8                   0             0              1                 0   \n",
              "9                   0             0              1                 1   \n",
              "10                  0             1              0                 0   \n",
              "11                  0             0              1                 0   \n",
              "12                  1             0              0                 0   \n",
              "13                  1             0              0                 0   \n",
              "14                  0             1              0                 0   \n",
              "\n",
              "     Temperature_hot  Temperature_mild  Humidity_high  Humidity_normal  \\\n",
              "No.                                                                      \n",
              "1                  1                 0              1                0   \n",
              "2                  1                 0              1                0   \n",
              "3                  1                 0              1                0   \n",
              "4                  0                 1              1                0   \n",
              "5                  0                 0              0                1   \n",
              "6                  0                 0              0                1   \n",
              "7                  0                 0              0                1   \n",
              "8                  0                 1              1                0   \n",
              "9                  0                 0              0                1   \n",
              "10                 0                 1              0                1   \n",
              "11                 0                 1              0                1   \n",
              "12                 0                 1              1                0   \n",
              "13                 1                 0              0                1   \n",
              "14                 0                 1              1                0   \n",
              "\n",
              "     Windy_false  Windy_true  \n",
              "No.                           \n",
              "1              1           0  \n",
              "2              0           1  \n",
              "3              1           0  \n",
              "4              1           0  \n",
              "5              1           0  \n",
              "6              0           1  \n",
              "7              0           1  \n",
              "8              1           0  \n",
              "9              1           0  \n",
              "10             1           0  \n",
              "11             0           1  \n",
              "12             0           1  \n",
              "13             1           0  \n",
              "14             0           1  "
            ]
          },
          "metadata": {
            "tags": []
          },
          "execution_count": 28
        }
      ]
    },
    {
      "cell_type": "markdown",
      "metadata": {
        "colab_type": "text",
        "id": "UvOkHk8o-h_r"
      },
      "source": [
        "## Train a Decision Tree Classifier\n",
        "Get a score of 100% (accuracy)\n",
        "\n",
        "https://scikit-learn.org/stable/modules/generated/sklearn.tree.DecisionTreeClassifier.html"
      ]
    },
    {
      "cell_type": "code",
      "metadata": {
        "id": "CZmd0LQXAE0i",
        "colab_type": "code",
        "colab": {}
      },
      "source": [
        "def classifier_decision_tree_model(X, y, features, max_depth=1):\n",
        "  X_train, X_test, y_train, y_test = train_test_split(X, y, train_size=.80, test_size=.20, random_state=42)\n",
        "  \n",
        "  tree = DecisionTreeClassifier(max_depth=max_depth)\n",
        "  tree.fit(X_train, y_train)\n",
        "  \n",
        "  print('Train Accuracy Score: ', tree.score(X_train, y_train))\n",
        "  print('Test Accuracy Score: ', tree.score(X_test, y_test))\n",
        "  display(viztree(tree, feature_names=features))"
      ],
      "execution_count": 0,
      "outputs": []
    },
    {
      "cell_type": "code",
      "metadata": {
        "id": "mADIJrEXKp7O",
        "colab_type": "code",
        "colab": {
          "base_uri": "https://localhost:8080/",
          "height": 691
        },
        "outputId": "8a7d46c6-679a-4fdd-a506-3619e71db254"
      },
      "source": [
        "features = X.columns\n",
        "classifier_decision_tree_model(X, y, features, 4)"
      ],
      "execution_count": 39,
      "outputs": [
        {
          "output_type": "stream",
          "text": [
            "Train Accuracy Score:  1.0\n",
            "Test Accuracy Score:  1.0\n"
          ],
          "name": "stdout"
        },
        {
          "output_type": "display_data",
          "data": {
            "text/plain": [
              "<graphviz.files.Source at 0x7fc31482f860>"
            ],
            "image/svg+xml": "<?xml version=\"1.0\" encoding=\"UTF-8\" standalone=\"no\"?>\n<!DOCTYPE svg PUBLIC \"-//W3C//DTD SVG 1.1//EN\"\n \"http://www.w3.org/Graphics/SVG/1.1/DTD/svg11.dtd\">\n<!-- Generated by graphviz version 2.40.1 (20161225.0304)\n -->\n<!-- Title: Tree Pages: 1 -->\n<svg width=\"566pt\" height=\"477pt\"\n viewBox=\"0.00 0.00 566.00 477.00\" xmlns=\"http://www.w3.org/2000/svg\" xmlns:xlink=\"http://www.w3.org/1999/xlink\">\n<g id=\"graph0\" class=\"graph\" transform=\"scale(1 1) rotate(0) translate(4 473)\">\n<title>Tree</title>\n<polygon fill=\"#ffffff\" stroke=\"transparent\" points=\"-4,4 -4,-473 562,-473 562,4 -4,4\"/>\n<!-- 0 -->\n<g id=\"node1\" class=\"node\">\n<title>0</title>\n<path fill=\"#399de5\" fill-opacity=\"0.427451\" stroke=\"#000000\" d=\"M421,-469C421,-469 270,-469 270,-469 264,-469 258,-463 258,-457 258,-457 258,-413 258,-413 258,-407 264,-401 270,-401 270,-401 421,-401 421,-401 427,-401 433,-407 433,-413 433,-413 433,-457 433,-457 433,-463 427,-469 421,-469\"/>\n<text text-anchor=\"middle\" x=\"345.5\" y=\"-453.8\" font-family=\"Helvetica,sans-Serif\" font-size=\"14.00\" fill=\"#000000\">Outlook_overcast &lt;= 0.5</text>\n<text text-anchor=\"middle\" x=\"345.5\" y=\"-438.8\" font-family=\"Helvetica,sans-Serif\" font-size=\"14.00\" fill=\"#000000\">gini = 0.463</text>\n<text text-anchor=\"middle\" x=\"345.5\" y=\"-423.8\" font-family=\"Helvetica,sans-Serif\" font-size=\"14.00\" fill=\"#000000\">samples = 11</text>\n<text text-anchor=\"middle\" x=\"345.5\" y=\"-408.8\" font-family=\"Helvetica,sans-Serif\" font-size=\"14.00\" fill=\"#000000\">value = [4, 7]</text>\n</g>\n<!-- 1 -->\n<g id=\"node2\" class=\"node\">\n<title>1</title>\n<path fill=\"transparent\" stroke=\"#000000\" d=\"M333.5,-365C333.5,-365 223.5,-365 223.5,-365 217.5,-365 211.5,-359 211.5,-353 211.5,-353 211.5,-309 211.5,-309 211.5,-303 217.5,-297 223.5,-297 223.5,-297 333.5,-297 333.5,-297 339.5,-297 345.5,-303 345.5,-309 345.5,-309 345.5,-353 345.5,-353 345.5,-359 339.5,-365 333.5,-365\"/>\n<text text-anchor=\"middle\" x=\"278.5\" y=\"-349.8\" font-family=\"Helvetica,sans-Serif\" font-size=\"14.00\" fill=\"#000000\">Windy_true &lt;= 0.5</text>\n<text text-anchor=\"middle\" x=\"278.5\" y=\"-334.8\" font-family=\"Helvetica,sans-Serif\" font-size=\"14.00\" fill=\"#000000\">gini = 0.5</text>\n<text text-anchor=\"middle\" x=\"278.5\" y=\"-319.8\" font-family=\"Helvetica,sans-Serif\" font-size=\"14.00\" fill=\"#000000\">samples = 8</text>\n<text text-anchor=\"middle\" x=\"278.5\" y=\"-304.8\" font-family=\"Helvetica,sans-Serif\" font-size=\"14.00\" fill=\"#000000\">value = [4, 4]</text>\n</g>\n<!-- 0&#45;&gt;1 -->\n<g id=\"edge1\" class=\"edge\">\n<title>0&#45;&gt;1</title>\n<path fill=\"none\" stroke=\"#000000\" d=\"M323.5617,-400.9465C317.951,-392.2373 311.8471,-382.7626 305.9958,-373.6801\"/>\n<polygon fill=\"#000000\" stroke=\"#000000\" points=\"308.8457,-371.641 300.4876,-365.13 302.9611,-375.4321 308.8457,-371.641\"/>\n<text text-anchor=\"middle\" x=\"295.2006\" y=\"-385.8646\" font-family=\"Helvetica,sans-Serif\" font-size=\"14.00\" fill=\"#000000\">True</text>\n</g>\n<!-- 12 -->\n<g id=\"node13\" class=\"node\">\n<title>12</title>\n<path fill=\"#399de5\" stroke=\"#000000\" d=\"M451,-357.5C451,-357.5 376,-357.5 376,-357.5 370,-357.5 364,-351.5 364,-345.5 364,-345.5 364,-316.5 364,-316.5 364,-310.5 370,-304.5 376,-304.5 376,-304.5 451,-304.5 451,-304.5 457,-304.5 463,-310.5 463,-316.5 463,-316.5 463,-345.5 463,-345.5 463,-351.5 457,-357.5 451,-357.5\"/>\n<text text-anchor=\"middle\" x=\"413.5\" y=\"-342.3\" font-family=\"Helvetica,sans-Serif\" font-size=\"14.00\" fill=\"#000000\">gini = 0.0</text>\n<text text-anchor=\"middle\" x=\"413.5\" y=\"-327.3\" font-family=\"Helvetica,sans-Serif\" font-size=\"14.00\" fill=\"#000000\">samples = 3</text>\n<text text-anchor=\"middle\" x=\"413.5\" y=\"-312.3\" font-family=\"Helvetica,sans-Serif\" font-size=\"14.00\" fill=\"#000000\">value = [0, 3]</text>\n</g>\n<!-- 0&#45;&gt;12 -->\n<g id=\"edge12\" class=\"edge\">\n<title>0&#45;&gt;12</title>\n<path fill=\"none\" stroke=\"#000000\" d=\"M367.7657,-400.9465C375.0398,-389.8215 383.1306,-377.4473 390.4604,-366.237\"/>\n<polygon fill=\"#000000\" stroke=\"#000000\" points=\"393.6024,-367.8273 396.1455,-357.5422 387.7436,-363.9965 393.6024,-367.8273\"/>\n<text text-anchor=\"middle\" x=\"401.2671\" y=\"-378.3119\" font-family=\"Helvetica,sans-Serif\" font-size=\"14.00\" fill=\"#000000\">False</text>\n</g>\n<!-- 2 -->\n<g id=\"node3\" class=\"node\">\n<title>2</title>\n<path fill=\"#399de5\" fill-opacity=\"0.666667\" stroke=\"#000000\" d=\"M261,-261C261,-261 126,-261 126,-261 120,-261 114,-255 114,-249 114,-249 114,-205 114,-205 114,-199 120,-193 126,-193 126,-193 261,-193 261,-193 267,-193 273,-199 273,-205 273,-205 273,-249 273,-249 273,-255 267,-261 261,-261\"/>\n<text text-anchor=\"middle\" x=\"193.5\" y=\"-245.8\" font-family=\"Helvetica,sans-Serif\" font-size=\"14.00\" fill=\"#000000\">Outlook_sunny &lt;= 0.5</text>\n<text text-anchor=\"middle\" x=\"193.5\" y=\"-230.8\" font-family=\"Helvetica,sans-Serif\" font-size=\"14.00\" fill=\"#000000\">gini = 0.375</text>\n<text text-anchor=\"middle\" x=\"193.5\" y=\"-215.8\" font-family=\"Helvetica,sans-Serif\" font-size=\"14.00\" fill=\"#000000\">samples = 4</text>\n<text text-anchor=\"middle\" x=\"193.5\" y=\"-200.8\" font-family=\"Helvetica,sans-Serif\" font-size=\"14.00\" fill=\"#000000\">value = [1, 3]</text>\n</g>\n<!-- 1&#45;&gt;2 -->\n<g id=\"edge2\" class=\"edge\">\n<title>1&#45;&gt;2</title>\n<path fill=\"none\" stroke=\"#000000\" d=\"M250.6678,-296.9465C243.403,-288.0578 235.4864,-278.3716 227.924,-269.1188\"/>\n<polygon fill=\"#000000\" stroke=\"#000000\" points=\"230.4331,-266.658 221.3947,-261.13 225.013,-271.0878 230.4331,-266.658\"/>\n</g>\n<!-- 7 -->\n<g id=\"node8\" class=\"node\">\n<title>7</title>\n<path fill=\"#e58139\" fill-opacity=\"0.666667\" stroke=\"#000000\" d=\"M424,-261C424,-261 305,-261 305,-261 299,-261 293,-255 293,-249 293,-249 293,-205 293,-205 293,-199 299,-193 305,-193 305,-193 424,-193 424,-193 430,-193 436,-199 436,-205 436,-205 436,-249 436,-249 436,-255 430,-261 424,-261\"/>\n<text text-anchor=\"middle\" x=\"364.5\" y=\"-245.8\" font-family=\"Helvetica,sans-Serif\" font-size=\"14.00\" fill=\"#000000\">Outlook_rain &lt;= 0.5</text>\n<text text-anchor=\"middle\" x=\"364.5\" y=\"-230.8\" font-family=\"Helvetica,sans-Serif\" font-size=\"14.00\" fill=\"#000000\">gini = 0.375</text>\n<text text-anchor=\"middle\" x=\"364.5\" y=\"-215.8\" font-family=\"Helvetica,sans-Serif\" font-size=\"14.00\" fill=\"#000000\">samples = 4</text>\n<text text-anchor=\"middle\" x=\"364.5\" y=\"-200.8\" font-family=\"Helvetica,sans-Serif\" font-size=\"14.00\" fill=\"#000000\">value = [3, 1]</text>\n</g>\n<!-- 1&#45;&gt;7 -->\n<g id=\"edge7\" class=\"edge\">\n<title>1&#45;&gt;7</title>\n<path fill=\"none\" stroke=\"#000000\" d=\"M306.6596,-296.9465C314.0842,-287.968 322.1815,-278.1758 329.9028,-268.8385\"/>\n<polygon fill=\"#000000\" stroke=\"#000000\" points=\"332.6017,-271.0669 336.2771,-261.13 327.2072,-266.606 332.6017,-271.0669\"/>\n</g>\n<!-- 3 -->\n<g id=\"node4\" class=\"node\">\n<title>3</title>\n<path fill=\"#399de5\" stroke=\"#000000\" d=\"M87,-149.5C87,-149.5 12,-149.5 12,-149.5 6,-149.5 0,-143.5 0,-137.5 0,-137.5 0,-108.5 0,-108.5 0,-102.5 6,-96.5 12,-96.5 12,-96.5 87,-96.5 87,-96.5 93,-96.5 99,-102.5 99,-108.5 99,-108.5 99,-137.5 99,-137.5 99,-143.5 93,-149.5 87,-149.5\"/>\n<text text-anchor=\"middle\" x=\"49.5\" y=\"-134.3\" font-family=\"Helvetica,sans-Serif\" font-size=\"14.00\" fill=\"#000000\">gini = 0.0</text>\n<text text-anchor=\"middle\" x=\"49.5\" y=\"-119.3\" font-family=\"Helvetica,sans-Serif\" font-size=\"14.00\" fill=\"#000000\">samples = 2</text>\n<text text-anchor=\"middle\" x=\"49.5\" y=\"-104.3\" font-family=\"Helvetica,sans-Serif\" font-size=\"14.00\" fill=\"#000000\">value = [0, 2]</text>\n</g>\n<!-- 2&#45;&gt;3 -->\n<g id=\"edge3\" class=\"edge\">\n<title>2&#45;&gt;3</title>\n<path fill=\"none\" stroke=\"#000000\" d=\"M146.349,-192.9465C129.725,-180.9403 111.0865,-167.4791 94.6333,-155.5962\"/>\n<polygon fill=\"#000000\" stroke=\"#000000\" points=\"96.4067,-152.5597 86.2507,-149.5422 92.3083,-158.2345 96.4067,-152.5597\"/>\n</g>\n<!-- 4 -->\n<g id=\"node5\" class=\"node\">\n<title>4</title>\n<path fill=\"transparent\" stroke=\"#000000\" d=\"M258,-157C258,-157 129,-157 129,-157 123,-157 117,-151 117,-145 117,-145 117,-101 117,-101 117,-95 123,-89 129,-89 129,-89 258,-89 258,-89 264,-89 270,-95 270,-101 270,-101 270,-145 270,-145 270,-151 264,-157 258,-157\"/>\n<text text-anchor=\"middle\" x=\"193.5\" y=\"-141.8\" font-family=\"Helvetica,sans-Serif\" font-size=\"14.00\" fill=\"#000000\">Humidity_high &lt;= 0.5</text>\n<text text-anchor=\"middle\" x=\"193.5\" y=\"-126.8\" font-family=\"Helvetica,sans-Serif\" font-size=\"14.00\" fill=\"#000000\">gini = 0.5</text>\n<text text-anchor=\"middle\" x=\"193.5\" y=\"-111.8\" font-family=\"Helvetica,sans-Serif\" font-size=\"14.00\" fill=\"#000000\">samples = 2</text>\n<text text-anchor=\"middle\" x=\"193.5\" y=\"-96.8\" font-family=\"Helvetica,sans-Serif\" font-size=\"14.00\" fill=\"#000000\">value = [1, 1]</text>\n</g>\n<!-- 2&#45;&gt;4 -->\n<g id=\"edge4\" class=\"edge\">\n<title>2&#45;&gt;4</title>\n<path fill=\"none\" stroke=\"#000000\" d=\"M193.5,-192.9465C193.5,-184.776 193.5,-175.9318 193.5,-167.3697\"/>\n<polygon fill=\"#000000\" stroke=\"#000000\" points=\"197.0001,-167.13 193.5,-157.13 190.0001,-167.13 197.0001,-167.13\"/>\n</g>\n<!-- 5 -->\n<g id=\"node6\" class=\"node\">\n<title>5</title>\n<path fill=\"#399de5\" stroke=\"#000000\" d=\"M127,-53C127,-53 52,-53 52,-53 46,-53 40,-47 40,-41 40,-41 40,-12 40,-12 40,-6 46,0 52,0 52,0 127,0 127,0 133,0 139,-6 139,-12 139,-12 139,-41 139,-41 139,-47 133,-53 127,-53\"/>\n<text text-anchor=\"middle\" x=\"89.5\" y=\"-37.8\" font-family=\"Helvetica,sans-Serif\" font-size=\"14.00\" fill=\"#000000\">gini = 0.0</text>\n<text text-anchor=\"middle\" x=\"89.5\" y=\"-22.8\" font-family=\"Helvetica,sans-Serif\" font-size=\"14.00\" fill=\"#000000\">samples = 1</text>\n<text text-anchor=\"middle\" x=\"89.5\" y=\"-7.8\" font-family=\"Helvetica,sans-Serif\" font-size=\"14.00\" fill=\"#000000\">value = [0, 1]</text>\n</g>\n<!-- 4&#45;&gt;5 -->\n<g id=\"edge5\" class=\"edge\">\n<title>4&#45;&gt;5</title>\n<path fill=\"none\" stroke=\"#000000\" d=\"M156.8335,-88.9777C146.7675,-79.6376 135.8596,-69.5163 125.8135,-60.1947\"/>\n<polygon fill=\"#000000\" stroke=\"#000000\" points=\"128.0385,-57.4847 118.3274,-53.2485 123.2772,-62.616 128.0385,-57.4847\"/>\n</g>\n<!-- 6 -->\n<g id=\"node7\" class=\"node\">\n<title>6</title>\n<path fill=\"#e58139\" stroke=\"#000000\" d=\"M244,-53C244,-53 169,-53 169,-53 163,-53 157,-47 157,-41 157,-41 157,-12 157,-12 157,-6 163,0 169,0 169,0 244,0 244,0 250,0 256,-6 256,-12 256,-12 256,-41 256,-41 256,-47 250,-53 244,-53\"/>\n<text text-anchor=\"middle\" x=\"206.5\" y=\"-37.8\" font-family=\"Helvetica,sans-Serif\" font-size=\"14.00\" fill=\"#000000\">gini = 0.0</text>\n<text text-anchor=\"middle\" x=\"206.5\" y=\"-22.8\" font-family=\"Helvetica,sans-Serif\" font-size=\"14.00\" fill=\"#000000\">samples = 1</text>\n<text text-anchor=\"middle\" x=\"206.5\" y=\"-7.8\" font-family=\"Helvetica,sans-Serif\" font-size=\"14.00\" fill=\"#000000\">value = [1, 0]</text>\n</g>\n<!-- 4&#45;&gt;6 -->\n<g id=\"edge6\" class=\"edge\">\n<title>4&#45;&gt;6</title>\n<path fill=\"none\" stroke=\"#000000\" d=\"M198.0833,-88.9777C199.2059,-80.6449 200.4122,-71.6903 201.551,-63.2364\"/>\n<polygon fill=\"#000000\" stroke=\"#000000\" points=\"205.0301,-63.6263 202.8966,-53.2485 198.0927,-62.6916 205.0301,-63.6263\"/>\n</g>\n<!-- 8 -->\n<g id=\"node9\" class=\"node\">\n<title>8</title>\n<path fill=\"transparent\" stroke=\"#000000\" d=\"M429,-157C429,-157 300,-157 300,-157 294,-157 288,-151 288,-145 288,-145 288,-101 288,-101 288,-95 294,-89 300,-89 300,-89 429,-89 429,-89 435,-89 441,-95 441,-101 441,-101 441,-145 441,-145 441,-151 435,-157 429,-157\"/>\n<text text-anchor=\"middle\" x=\"364.5\" y=\"-141.8\" font-family=\"Helvetica,sans-Serif\" font-size=\"14.00\" fill=\"#000000\">Humidity_high &lt;= 0.5</text>\n<text text-anchor=\"middle\" x=\"364.5\" y=\"-126.8\" font-family=\"Helvetica,sans-Serif\" font-size=\"14.00\" fill=\"#000000\">gini = 0.5</text>\n<text text-anchor=\"middle\" x=\"364.5\" y=\"-111.8\" font-family=\"Helvetica,sans-Serif\" font-size=\"14.00\" fill=\"#000000\">samples = 2</text>\n<text text-anchor=\"middle\" x=\"364.5\" y=\"-96.8\" font-family=\"Helvetica,sans-Serif\" font-size=\"14.00\" fill=\"#000000\">value = [1, 1]</text>\n</g>\n<!-- 7&#45;&gt;8 -->\n<g id=\"edge8\" class=\"edge\">\n<title>7&#45;&gt;8</title>\n<path fill=\"none\" stroke=\"#000000\" d=\"M364.5,-192.9465C364.5,-184.776 364.5,-175.9318 364.5,-167.3697\"/>\n<polygon fill=\"#000000\" stroke=\"#000000\" points=\"368.0001,-167.13 364.5,-157.13 361.0001,-167.13 368.0001,-167.13\"/>\n</g>\n<!-- 11 -->\n<g id=\"node12\" class=\"node\">\n<title>11</title>\n<path fill=\"#e58139\" stroke=\"#000000\" d=\"M546,-149.5C546,-149.5 471,-149.5 471,-149.5 465,-149.5 459,-143.5 459,-137.5 459,-137.5 459,-108.5 459,-108.5 459,-102.5 465,-96.5 471,-96.5 471,-96.5 546,-96.5 546,-96.5 552,-96.5 558,-102.5 558,-108.5 558,-108.5 558,-137.5 558,-137.5 558,-143.5 552,-149.5 546,-149.5\"/>\n<text text-anchor=\"middle\" x=\"508.5\" y=\"-134.3\" font-family=\"Helvetica,sans-Serif\" font-size=\"14.00\" fill=\"#000000\">gini = 0.0</text>\n<text text-anchor=\"middle\" x=\"508.5\" y=\"-119.3\" font-family=\"Helvetica,sans-Serif\" font-size=\"14.00\" fill=\"#000000\">samples = 2</text>\n<text text-anchor=\"middle\" x=\"508.5\" y=\"-104.3\" font-family=\"Helvetica,sans-Serif\" font-size=\"14.00\" fill=\"#000000\">value = [2, 0]</text>\n</g>\n<!-- 7&#45;&gt;11 -->\n<g id=\"edge11\" class=\"edge\">\n<title>7&#45;&gt;11</title>\n<path fill=\"none\" stroke=\"#000000\" d=\"M411.651,-192.9465C428.275,-180.9403 446.9135,-167.4791 463.3667,-155.5962\"/>\n<polygon fill=\"#000000\" stroke=\"#000000\" points=\"465.6917,-158.2345 471.7493,-149.5422 461.5933,-152.5597 465.6917,-158.2345\"/>\n</g>\n<!-- 9 -->\n<g id=\"node10\" class=\"node\">\n<title>9</title>\n<path fill=\"#399de5\" stroke=\"#000000\" d=\"M388,-53C388,-53 313,-53 313,-53 307,-53 301,-47 301,-41 301,-41 301,-12 301,-12 301,-6 307,0 313,0 313,0 388,0 388,0 394,0 400,-6 400,-12 400,-12 400,-41 400,-41 400,-47 394,-53 388,-53\"/>\n<text text-anchor=\"middle\" x=\"350.5\" y=\"-37.8\" font-family=\"Helvetica,sans-Serif\" font-size=\"14.00\" fill=\"#000000\">gini = 0.0</text>\n<text text-anchor=\"middle\" x=\"350.5\" y=\"-22.8\" font-family=\"Helvetica,sans-Serif\" font-size=\"14.00\" fill=\"#000000\">samples = 1</text>\n<text text-anchor=\"middle\" x=\"350.5\" y=\"-7.8\" font-family=\"Helvetica,sans-Serif\" font-size=\"14.00\" fill=\"#000000\">value = [0, 1]</text>\n</g>\n<!-- 8&#45;&gt;9 -->\n<g id=\"edge9\" class=\"edge\">\n<title>8&#45;&gt;9</title>\n<path fill=\"none\" stroke=\"#000000\" d=\"M359.5641,-88.9777C358.3552,-80.6449 357.0561,-71.6903 355.8296,-63.2364\"/>\n<polygon fill=\"#000000\" stroke=\"#000000\" points=\"359.2802,-62.6423 354.3806,-53.2485 352.3527,-63.6474 359.2802,-62.6423\"/>\n</g>\n<!-- 10 -->\n<g id=\"node11\" class=\"node\">\n<title>10</title>\n<path fill=\"#e58139\" stroke=\"#000000\" d=\"M505,-53C505,-53 430,-53 430,-53 424,-53 418,-47 418,-41 418,-41 418,-12 418,-12 418,-6 424,0 430,0 430,0 505,0 505,0 511,0 517,-6 517,-12 517,-12 517,-41 517,-41 517,-47 511,-53 505,-53\"/>\n<text text-anchor=\"middle\" x=\"467.5\" y=\"-37.8\" font-family=\"Helvetica,sans-Serif\" font-size=\"14.00\" fill=\"#000000\">gini = 0.0</text>\n<text text-anchor=\"middle\" x=\"467.5\" y=\"-22.8\" font-family=\"Helvetica,sans-Serif\" font-size=\"14.00\" fill=\"#000000\">samples = 1</text>\n<text text-anchor=\"middle\" x=\"467.5\" y=\"-7.8\" font-family=\"Helvetica,sans-Serif\" font-size=\"14.00\" fill=\"#000000\">value = [1, 0]</text>\n</g>\n<!-- 8&#45;&gt;10 -->\n<g id=\"edge10\" class=\"edge\">\n<title>8&#45;&gt;10</title>\n<path fill=\"none\" stroke=\"#000000\" d=\"M400.8139,-88.9777C410.7832,-79.6376 421.5862,-69.5163 431.5357,-60.1947\"/>\n<polygon fill=\"#000000\" stroke=\"#000000\" points=\"434.0452,-62.6397 438.9498,-53.2485 429.2592,-57.5314 434.0452,-62.6397\"/>\n</g>\n</g>\n</svg>\n"
          },
          "metadata": {
            "tags": []
          }
        }
      ]
    },
    {
      "cell_type": "markdown",
      "metadata": {
        "colab_type": "text",
        "id": "9uNPrbfS-vzL"
      },
      "source": [
        "## Compare to Logistic Regression\n",
        "https://scikit-learn.org/stable/modules/generated/sklearn.linear_model.LogisticRegression.html"
      ]
    },
    {
      "cell_type": "code",
      "metadata": {
        "id": "WMr_JlomKp7R",
        "colab_type": "code",
        "colab": {
          "base_uri": "https://localhost:8080/",
          "height": 125
        },
        "outputId": "6748aa0b-4e5a-4978-ba88-13e6e1935fea"
      },
      "source": [
        "def logistic_regression(X, y):\n",
        "  X_train, X_test, y_train, y_test = train_test_split(X, y, train_size=.80, test_size=.20, random_state=42)\n",
        "  \n",
        "  model = LogisticRegression()\n",
        "  model.fit(X_train, y_train)\n",
        "  \n",
        "  print('Train Accuracy Score: ', model.score(X_train, y_train))\n",
        "  print('Test Accuracy Score: ', model.score(X_test, y_test))\n",
        "  \n",
        "logistic_regression(X,y)"
      ],
      "execution_count": 47,
      "outputs": [
        {
          "output_type": "stream",
          "text": [
            "Train Accuracy Score:  0.8181818181818182\n",
            "Test Accuracy Score:  0.3333333333333333\n"
          ],
          "name": "stdout"
        },
        {
          "output_type": "stream",
          "text": [
            "/usr/local/lib/python3.6/dist-packages/sklearn/linear_model/logistic.py:433: FutureWarning: Default solver will be changed to 'lbfgs' in 0.22. Specify a solver to silence this warning.\n",
            "  FutureWarning)\n"
          ],
          "name": "stderr"
        }
      ]
    },
    {
      "cell_type": "markdown",
      "metadata": {
        "colab_type": "text",
        "id": "EwF0phe6-oR8"
      },
      "source": [
        "## Visualize the tree\n",
        "https://scikit-learn.org/stable/modules/generated/sklearn.tree.export_graphviz.html"
      ]
    },
    {
      "cell_type": "code",
      "metadata": {
        "id": "H3Z9P8qFKp7U",
        "colab_type": "code",
        "colab": {}
      },
      "source": [
        "## ^^"
      ],
      "execution_count": 0,
      "outputs": []
    }
  ]
}