{
  "nbformat": 4,
  "nbformat_minor": 0,
  "metadata": {
    "colab": {
      "name": "LS_DS_411A_Decision_Trees.ipynb",
      "version": "0.3.2",
      "provenance": [],
      "collapsed_sections": []
    },
    "language_info": {
      "codemirror_mode": {
        "name": "ipython",
        "version": 3
      },
      "file_extension": ".py",
      "mimetype": "text/x-python",
      "name": "python",
      "nbconvert_exporter": "python",
      "pygments_lexer": "ipython3",
      "version": "3.7.1"
    },
    "kernelspec": {
      "display_name": "Python 3",
      "language": "python",
      "name": "python3"
    }
  },
  "cells": [
    {
      "cell_type": "markdown",
      "metadata": {
        "colab_type": "text",
        "id": "A0-sUApS7MIs"
      },
      "source": [
        "_Lambda School Data Science — Tree Ensembles_ \n",
        "\n",
        "# Decision Trees Assignment"
      ]
    },
    {
      "cell_type": "markdown",
      "metadata": {
        "id": "10PvoyYAKp6N",
        "colab_type": "text"
      },
      "source": [
        "## Part 1: House Price Regression\n",
        "\n",
        "Apply decision trees to the Ames housing dataset you've worked with this week!\n",
        "\n",
        "- Try multiple features\n",
        "- Try features you've engineered\n",
        "- Try different `max_depth` paramaters\n",
        "- What's the best Test Root Mean Squared Error you can get? *Share with your cohort on Slack!*\n",
        "- What's a cool visualization you can make? *Share with your cohort on Slack!*"
      ]
    },
    {
      "cell_type": "code",
      "metadata": {
        "id": "s8KWQaNUK_nC",
        "colab_type": "code",
        "colab": {}
      },
      "source": [
        "import graphviz\n",
        "import pandas as pd\n",
        "import numpy as np\n",
        "import matplotlib.pyplot as plt\n",
        "import seaborn as sns\n",
        "from sklearn.linear_model import LinearRegression\n",
        "from sklearn.metrics import mean_absolute_error, mean_squared_error, r2_score\n",
        "from sklearn.model_selection import train_test_split\n",
        "import statsmodels.api as sm\n",
        "from sklearn.tree import DecisionTreeClassifier, DecisionTreeRegressor, export_graphviz\n",
        "from sklearn.impute import SimpleImputer\n",
        "\n",
        "pd.set_option('display.max_columns', 500)\n",
        "pd.set_option('display.max_rows', 500)\n",
        "df = pd.read_csv('https://raw.githubusercontent.com/ryanleeallred/datasets/master/Ames%20Housing%20Data/train.csv')"
      ],
      "execution_count": 0,
      "outputs": []
    },
    {
      "cell_type": "code",
      "metadata": {
        "id": "BQC478cILAaE",
        "colab_type": "code",
        "colab": {}
      },
      "source": [
        "df['ExterQual'] = df['ExterQual'].replace({'Ex': 4, 'Gd': 3, 'TA':2, 'Fa':1, 'Po':0})\n",
        "df['ExterCond'] = df['ExterCond'].replace({'Ex': 4, 'Gd': 3, 'TA':2, 'Fa':1, 'Po':0})\n",
        "df['BsmtQual'] = df['BsmtQual'].replace({'Ex': 5, 'Gd': 4, 'TA':3, 'Fa':2, 'Po':1, np.nan:0})\n",
        "df['BsmtCond'] = df['BsmtCond'].replace({'Ex': 5, 'Gd': 4, 'TA':3, 'Fa':2, 'Po':1, np.nan:0})\n",
        "df['BsmtFinType1'] = df['BsmtFinType1'].replace({'GLQ': 6, 'ALQ': 5, 'BLQ': 4, 'Rec':3, 'LwQ':2, 'Unf':1, np.nan:0})\n",
        "df['BsmtFinType2'] = df['BsmtFinType2'].replace({'GLQ': 6, 'ALQ': 5, 'BLQ': 4, 'Rec':3, 'LwQ':2, 'Unf':1, np.nan:0})\n",
        "df['HeatingQC'] = df['HeatingQC'].replace({'Ex': 4, 'Gd': 3, 'TA':2, 'Fa':1, 'Po':0})\n",
        "df['CentralAir'] = df['ExterQual'].replace({'No':0, 'Yes':1})\n",
        "df['KitchenQual'] = df['KitchenQual'].replace({'Ex': 4, 'Gd': 3, 'TA':2, 'Fa':1, 'Po':0})\n",
        "df['FireplaceQu'] = df['FireplaceQu'].replace({'Ex': 5, 'Gd': 4, 'TA':3, 'Fa':2, 'Po':1, np.nan:0})\n",
        "df['GarageQual'] = df['GarageQual'].replace({'Ex': 5, 'Gd': 4, 'TA':3, 'Fa':2, 'Po':1, np.nan:0})\n",
        "df['GarageCond'] = df['GarageCond'].replace({'Ex': 5, 'Gd': 4, 'TA':3, 'Fa':2, 'Po':1, np.nan:0})\n",
        "df['PoolQC'] = df['PoolQC'].replace({'Ex': 5, 'Gd': 4, 'TA':3, 'Fa':2, np.nan:0})"
      ],
      "execution_count": 0,
      "outputs": []
    },
    {
      "cell_type": "code",
      "metadata": {
        "id": "I2nNmwJkLGPR",
        "colab_type": "code",
        "colab": {}
      },
      "source": [
        "# get rid of nulls in Garage year built feature\n",
        "df['GarageYrBlt'] = df['GarageYrBlt'].replace(np.nan,df['YearBuilt'])"
      ],
      "execution_count": 0,
      "outputs": []
    },
    {
      "cell_type": "code",
      "metadata": {
        "id": "kqSyWNNsLGww",
        "colab_type": "code",
        "colab": {}
      },
      "source": [
        "## log linear of price\n",
        "df['ln_price'] = np.log(df['SalePrice'])"
      ],
      "execution_count": 0,
      "outputs": []
    },
    {
      "cell_type": "code",
      "metadata": {
        "id": "21KCiPrWLI19",
        "colab_type": "code",
        "colab": {}
      },
      "source": [
        "df_test = df\n",
        "\n",
        "## features engineered\n",
        "df_test['GarageCars_Squared'] = df_test['GarageCars']**2\n",
        "df_test['BsmtFinSF1_Squared'] = df_test['BsmtFinSF1']**2\n",
        "df_test['BsmtQual_Squared'] = df_test['BsmtQual']**2\n",
        "df_test['GarageYrBlt_Squared'] = df_test['GarageYrBlt']**2\n",
        "df_test['age_at_time_sold'] = df_test['YrSold'] - df_test['YearBuilt']\n",
        "df_test['total_area'] = (\n",
        "    df_test['GarageArea'] + df_test['GrLivArea'] +df_test['TotalBsmtSF']\n",
        "                        )\n",
        "df_test['size_yard'] = df_test['LotArea'] - df_test['GrLivArea']\n",
        "df_test['yard_int_liv'] = df_test['size_yard'] * df_test['GrLivArea']\n",
        "df_test['qual_garage_int_bsmt'] = df_test['GarageQual'] * df_test['BsmtQual']\n",
        "df_test['qual_exter_int_kitchen'] = df_test['ExterQual'] * df_test['KitchenQual']\n",
        "df_test['total_rooms_bathrooms'] = df_test['TotRmsAbvGrd'] + df_test['FullBath']\n",
        "df_test['Remodeled'] = (df_test['YearRemodAdd'] != df_test['YearBuilt']) * 1\n",
        "df_test['RecentRemodel'] = (df_test['YearRemodAdd'] == df_test['YrSold']) * 1"
      ],
      "execution_count": 0,
      "outputs": []
    },
    {
      "cell_type": "code",
      "metadata": {
        "id": "E7V6N8XsLLez",
        "colab_type": "code",
        "colab": {}
      },
      "source": [
        "## function to visualize decision tree\n",
        "def viztree(decision_tree, feature_names):\n",
        "    \"\"\"Visualize a decision tree\"\"\"\n",
        "    dot_data = export_graphviz(decision_tree, out_file=None, feature_names=feature_names, \n",
        "                               filled=True, rounded=True)   \n",
        "    return graphviz.Source(dot_data)"
      ],
      "execution_count": 0,
      "outputs": []
    },
    {
      "cell_type": "code",
      "metadata": {
        "id": "_5gSL5doLOJ0",
        "colab_type": "code",
        "colab": {}
      },
      "source": [
        "def run_decision_tree_model(X, y, features, max_depth=1):\n",
        "  X_train, X_test, y_train, y_test = train_test_split(X, y, train_size=.80, test_size=.20, random_state=42)\n",
        "  \n",
        "  tree = DecisionTreeRegressor(max_depth=max_depth)\n",
        "  tree.fit(X_train, y_train)\n",
        "  \n",
        "  print('Train R^2 Score: ', tree.score(X_train, y_train))\n",
        "  print('Test R^2 Score: ', tree.score(X_test, y_test))\n",
        "  display(viztree(tree, feature_names=features))"
      ],
      "execution_count": 0,
      "outputs": []
    },
    {
      "cell_type": "code",
      "metadata": {
        "id": "osWFqRgWLQeU",
        "colab_type": "code",
        "colab": {
          "base_uri": "https://localhost:8080/",
          "height": 592
        },
        "outputId": "ba0a650c-0f59-47b1-8e20-b429ff951747"
      },
      "source": [
        "target = 'SalePrice'\n",
        "features = ['total_area']\n",
        "\n",
        "y = df_test[target]\n",
        "X = df_test[features]\n",
        "run_decision_tree_model(X, y, features, 3)"
      ],
      "execution_count": 18,
      "outputs": [
        {
          "output_type": "stream",
          "text": [
            "Train R^2 Score:  0.7271941566021922\n",
            "Test R^2 Score:  0.699027808745577\n"
          ],
          "name": "stdout"
        },
        {
          "output_type": "display_data",
          "data": {
            "text/plain": [
              "<graphviz.files.Source at 0x7fc3158680f0>"
            ],
            "image/svg+xml": "<?xml version=\"1.0\" encoding=\"UTF-8\" standalone=\"no\"?>\n<!DOCTYPE svg PUBLIC \"-//W3C//DTD SVG 1.1//EN\"\n \"http://www.w3.org/Graphics/SVG/1.1/DTD/svg11.dtd\">\n<!-- Generated by graphviz version 2.40.1 (20161225.0304)\n -->\n<!-- Title: Tree Pages: 1 -->\n<svg width=\"1446pt\" height=\"373pt\"\n viewBox=\"0.00 0.00 1445.50 373.00\" xmlns=\"http://www.w3.org/2000/svg\" xmlns:xlink=\"http://www.w3.org/1999/xlink\">\n<g id=\"graph0\" class=\"graph\" transform=\"scale(1 1) rotate(0) translate(4 369)\">\n<title>Tree</title>\n<polygon fill=\"#ffffff\" stroke=\"transparent\" points=\"-4,4 -4,-369 1441.5,-369 1441.5,4 -4,4\"/>\n<!-- 0 -->\n<g id=\"node1\" class=\"node\">\n<title>0</title>\n<path fill=\"#e58139\" fill-opacity=\"0.278431\" stroke=\"#000000\" d=\"M784,-365C784,-365 645,-365 645,-365 639,-365 633,-359 633,-353 633,-353 633,-309 633,-309 633,-303 639,-297 645,-297 645,-297 784,-297 784,-297 790,-297 796,-303 796,-309 796,-309 796,-353 796,-353 796,-359 790,-365 784,-365\"/>\n<text text-anchor=\"middle\" x=\"714.5\" y=\"-349.8\" font-family=\"Helvetica,sans-Serif\" font-size=\"14.00\" fill=\"#000000\">total_area &lt;= 3688.5</text>\n<text text-anchor=\"middle\" x=\"714.5\" y=\"-334.8\" font-family=\"Helvetica,sans-Serif\" font-size=\"14.00\" fill=\"#000000\">mse = 5964550379.77</text>\n<text text-anchor=\"middle\" x=\"714.5\" y=\"-319.8\" font-family=\"Helvetica,sans-Serif\" font-size=\"14.00\" fill=\"#000000\">samples = 1168</text>\n<text text-anchor=\"middle\" x=\"714.5\" y=\"-304.8\" font-family=\"Helvetica,sans-Serif\" font-size=\"14.00\" fill=\"#000000\">value = 181441.542</text>\n</g>\n<!-- 1 -->\n<g id=\"node2\" class=\"node\">\n<title>1</title>\n<path fill=\"#e58139\" fill-opacity=\"0.192157\" stroke=\"#000000\" d=\"M603,-261C603,-261 456,-261 456,-261 450,-261 444,-255 444,-249 444,-249 444,-205 444,-205 444,-199 450,-193 456,-193 456,-193 603,-193 603,-193 609,-193 615,-199 615,-205 615,-205 615,-249 615,-249 615,-255 609,-261 603,-261\"/>\n<text text-anchor=\"middle\" x=\"529.5\" y=\"-245.8\" font-family=\"Helvetica,sans-Serif\" font-size=\"14.00\" fill=\"#000000\">total_area &lt;= 2573.0</text>\n<text text-anchor=\"middle\" x=\"529.5\" y=\"-230.8\" font-family=\"Helvetica,sans-Serif\" font-size=\"14.00\" fill=\"#000000\">mse = 1887722366.157</text>\n<text text-anchor=\"middle\" x=\"529.5\" y=\"-215.8\" font-family=\"Helvetica,sans-Serif\" font-size=\"14.00\" fill=\"#000000\">samples = 905</text>\n<text text-anchor=\"middle\" x=\"529.5\" y=\"-200.8\" font-family=\"Helvetica,sans-Serif\" font-size=\"14.00\" fill=\"#000000\">value = 153300.635</text>\n</g>\n<!-- 0&#45;&gt;1 -->\n<g id=\"edge1\" class=\"edge\">\n<title>0&#45;&gt;1</title>\n<path fill=\"none\" stroke=\"#000000\" d=\"M653.9241,-296.9465C636.3555,-287.0701 617.0357,-276.2093 598.9679,-266.0522\"/>\n<polygon fill=\"#000000\" stroke=\"#000000\" points=\"600.6442,-262.9795 590.212,-261.13 597.2139,-269.0814 600.6442,-262.9795\"/>\n<text text-anchor=\"middle\" x=\"596.9589\" y=\"-281.5024\" font-family=\"Helvetica,sans-Serif\" font-size=\"14.00\" fill=\"#000000\">True</text>\n</g>\n<!-- 8 -->\n<g id=\"node9\" class=\"node\">\n<title>8</title>\n<path fill=\"#e58139\" fill-opacity=\"0.580392\" stroke=\"#000000\" d=\"M973,-261C973,-261 826,-261 826,-261 820,-261 814,-255 814,-249 814,-249 814,-205 814,-205 814,-199 820,-193 826,-193 826,-193 973,-193 973,-193 979,-193 985,-199 985,-205 985,-205 985,-249 985,-249 985,-255 979,-261 973,-261\"/>\n<text text-anchor=\"middle\" x=\"899.5\" y=\"-245.8\" font-family=\"Helvetica,sans-Serif\" font-size=\"14.00\" fill=\"#000000\">total_area &lt;= 4859.0</text>\n<text text-anchor=\"middle\" x=\"899.5\" y=\"-230.8\" font-family=\"Helvetica,sans-Serif\" font-size=\"14.00\" fill=\"#000000\">mse = 7891208475.191</text>\n<text text-anchor=\"middle\" x=\"899.5\" y=\"-215.8\" font-family=\"Helvetica,sans-Serif\" font-size=\"14.00\" fill=\"#000000\">samples = 263</text>\n<text text-anchor=\"middle\" x=\"899.5\" y=\"-200.8\" font-family=\"Helvetica,sans-Serif\" font-size=\"14.00\" fill=\"#000000\">value = 278276.221</text>\n</g>\n<!-- 0&#45;&gt;8 -->\n<g id=\"edge8\" class=\"edge\">\n<title>0&#45;&gt;8</title>\n<path fill=\"none\" stroke=\"#000000\" d=\"M775.0759,-296.9465C792.6445,-287.0701 811.9643,-276.2093 830.0321,-266.0522\"/>\n<polygon fill=\"#000000\" stroke=\"#000000\" points=\"831.7861,-269.0814 838.788,-261.13 828.3558,-262.9795 831.7861,-269.0814\"/>\n<text text-anchor=\"middle\" x=\"832.0411\" y=\"-281.5024\" font-family=\"Helvetica,sans-Serif\" font-size=\"14.00\" fill=\"#000000\">False</text>\n</g>\n<!-- 2 -->\n<g id=\"node3\" class=\"node\">\n<title>2</title>\n<path fill=\"#e58139\" fill-opacity=\"0.090196\" stroke=\"#000000\" d=\"M328,-157C328,-157 189,-157 189,-157 183,-157 177,-151 177,-145 177,-145 177,-101 177,-101 177,-95 183,-89 189,-89 189,-89 328,-89 328,-89 334,-89 340,-95 340,-101 340,-101 340,-145 340,-145 340,-151 334,-157 328,-157\"/>\n<text text-anchor=\"middle\" x=\"258.5\" y=\"-141.8\" font-family=\"Helvetica,sans-Serif\" font-size=\"14.00\" fill=\"#000000\">total_area &lt;= 1928.5</text>\n<text text-anchor=\"middle\" x=\"258.5\" y=\"-126.8\" font-family=\"Helvetica,sans-Serif\" font-size=\"14.00\" fill=\"#000000\">mse = 755903042.479</text>\n<text text-anchor=\"middle\" x=\"258.5\" y=\"-111.8\" font-family=\"Helvetica,sans-Serif\" font-size=\"14.00\" fill=\"#000000\">samples = 374</text>\n<text text-anchor=\"middle\" x=\"258.5\" y=\"-96.8\" font-family=\"Helvetica,sans-Serif\" font-size=\"14.00\" fill=\"#000000\">value = 120633.765</text>\n</g>\n<!-- 1&#45;&gt;2 -->\n<g id=\"edge2\" class=\"edge\">\n<title>1&#45;&gt;2</title>\n<path fill=\"none\" stroke=\"#000000\" d=\"M443.7539,-194.0938C413.9501,-182.6561 380.4169,-169.7873 350.1541,-158.1735\"/>\n<polygon fill=\"#000000\" stroke=\"#000000\" points=\"351.0425,-154.7656 340.4523,-154.4503 348.5344,-161.3009 351.0425,-154.7656\"/>\n</g>\n<!-- 5 -->\n<g id=\"node6\" class=\"node\">\n<title>5</title>\n<path fill=\"#e58139\" fill-opacity=\"0.262745\" stroke=\"#000000\" d=\"M599,-157C599,-157 460,-157 460,-157 454,-157 448,-151 448,-145 448,-145 448,-101 448,-101 448,-95 454,-89 460,-89 460,-89 599,-89 599,-89 605,-89 611,-95 611,-101 611,-101 611,-145 611,-145 611,-151 605,-157 599,-157\"/>\n<text text-anchor=\"middle\" x=\"529.5\" y=\"-141.8\" font-family=\"Helvetica,sans-Serif\" font-size=\"14.00\" fill=\"#000000\">total_area &lt;= 3099.0</text>\n<text text-anchor=\"middle\" x=\"529.5\" y=\"-126.8\" font-family=\"Helvetica,sans-Serif\" font-size=\"14.00\" fill=\"#000000\">mse = 1403906938.29</text>\n<text text-anchor=\"middle\" x=\"529.5\" y=\"-111.8\" font-family=\"Helvetica,sans-Serif\" font-size=\"14.00\" fill=\"#000000\">samples = 531</text>\n<text text-anchor=\"middle\" x=\"529.5\" y=\"-96.8\" font-family=\"Helvetica,sans-Serif\" font-size=\"14.00\" fill=\"#000000\">value = 176308.94</text>\n</g>\n<!-- 1&#45;&gt;5 -->\n<g id=\"edge5\" class=\"edge\">\n<title>1&#45;&gt;5</title>\n<path fill=\"none\" stroke=\"#000000\" d=\"M529.5,-192.9465C529.5,-184.776 529.5,-175.9318 529.5,-167.3697\"/>\n<polygon fill=\"#000000\" stroke=\"#000000\" points=\"533.0001,-167.13 529.5,-157.13 526.0001,-167.13 533.0001,-167.13\"/>\n</g>\n<!-- 3 -->\n<g id=\"node4\" class=\"node\">\n<title>3</title>\n<path fill=\"transparent\" stroke=\"#000000\" d=\"M151,-53C151,-53 12,-53 12,-53 6,-53 0,-47 0,-41 0,-41 0,-12 0,-12 0,-6 6,0 12,0 12,0 151,0 151,0 157,0 163,-6 163,-12 163,-12 163,-41 163,-41 163,-47 157,-53 151,-53\"/>\n<text text-anchor=\"middle\" x=\"81.5\" y=\"-37.8\" font-family=\"Helvetica,sans-Serif\" font-size=\"14.00\" fill=\"#000000\">mse = 414161723.826</text>\n<text text-anchor=\"middle\" x=\"81.5\" y=\"-22.8\" font-family=\"Helvetica,sans-Serif\" font-size=\"14.00\" fill=\"#000000\">samples = 91</text>\n<text text-anchor=\"middle\" x=\"81.5\" y=\"-7.8\" font-family=\"Helvetica,sans-Serif\" font-size=\"14.00\" fill=\"#000000\">value = 91774.725</text>\n</g>\n<!-- 2&#45;&gt;3 -->\n<g id=\"edge3\" class=\"edge\">\n<title>2&#45;&gt;3</title>\n<path fill=\"none\" stroke=\"#000000\" d=\"M196.0964,-88.9777C177.7044,-78.9504 157.6609,-68.0228 139.5538,-58.1508\"/>\n<polygon fill=\"#000000\" stroke=\"#000000\" points=\"140.7358,-54.8089 130.2805,-53.095 137.385,-60.9548 140.7358,-54.8089\"/>\n</g>\n<!-- 4 -->\n<g id=\"node5\" class=\"node\">\n<title>4</title>\n<path fill=\"#e58139\" fill-opacity=\"0.117647\" stroke=\"#000000\" d=\"M324,-53C324,-53 193,-53 193,-53 187,-53 181,-47 181,-41 181,-41 181,-12 181,-12 181,-6 187,0 193,0 193,0 324,0 324,0 330,0 336,-6 336,-12 336,-12 336,-41 336,-41 336,-47 330,-53 324,-53\"/>\n<text text-anchor=\"middle\" x=\"258.5\" y=\"-37.8\" font-family=\"Helvetica,sans-Serif\" font-size=\"14.00\" fill=\"#000000\">mse = 511872603.14</text>\n<text text-anchor=\"middle\" x=\"258.5\" y=\"-22.8\" font-family=\"Helvetica,sans-Serif\" font-size=\"14.00\" fill=\"#000000\">samples = 283</text>\n<text text-anchor=\"middle\" x=\"258.5\" y=\"-7.8\" font-family=\"Helvetica,sans-Serif\" font-size=\"14.00\" fill=\"#000000\">value = 129913.527</text>\n</g>\n<!-- 2&#45;&gt;4 -->\n<g id=\"edge4\" class=\"edge\">\n<title>2&#45;&gt;4</title>\n<path fill=\"none\" stroke=\"#000000\" d=\"M258.5,-88.9777C258.5,-80.7364 258.5,-71.887 258.5,-63.5153\"/>\n<polygon fill=\"#000000\" stroke=\"#000000\" points=\"262.0001,-63.2484 258.5,-53.2485 255.0001,-63.2485 262.0001,-63.2484\"/>\n</g>\n<!-- 6 -->\n<g id=\"node7\" class=\"node\">\n<title>6</title>\n<path fill=\"#e58139\" fill-opacity=\"0.211765\" stroke=\"#000000\" d=\"M505,-53C505,-53 366,-53 366,-53 360,-53 354,-47 354,-41 354,-41 354,-12 354,-12 354,-6 360,0 366,0 366,0 505,0 505,0 511,0 517,-6 517,-12 517,-12 517,-41 517,-41 517,-47 511,-53 505,-53\"/>\n<text text-anchor=\"middle\" x=\"435.5\" y=\"-37.8\" font-family=\"Helvetica,sans-Serif\" font-size=\"14.00\" fill=\"#000000\">mse = 663356880.077</text>\n<text text-anchor=\"middle\" x=\"435.5\" y=\"-22.8\" font-family=\"Helvetica,sans-Serif\" font-size=\"14.00\" fill=\"#000000\">samples = 289</text>\n<text text-anchor=\"middle\" x=\"435.5\" y=\"-7.8\" font-family=\"Helvetica,sans-Serif\" font-size=\"14.00\" fill=\"#000000\">value = 159954.581</text>\n</g>\n<!-- 5&#45;&gt;6 -->\n<g id=\"edge6\" class=\"edge\">\n<title>5&#45;&gt;6</title>\n<path fill=\"none\" stroke=\"#000000\" d=\"M496.3591,-88.9777C487.3502,-79.7292 477.5952,-69.7147 468.5891,-60.4691\"/>\n<polygon fill=\"#000000\" stroke=\"#000000\" points=\"471.0404,-57.9696 461.5555,-53.2485 466.0261,-62.8539 471.0404,-57.9696\"/>\n</g>\n<!-- 7 -->\n<g id=\"node8\" class=\"node\">\n<title>7</title>\n<path fill=\"#e58139\" fill-opacity=\"0.325490\" stroke=\"#000000\" d=\"M694,-53C694,-53 547,-53 547,-53 541,-53 535,-47 535,-41 535,-41 535,-12 535,-12 535,-6 541,0 547,0 547,0 694,0 694,0 700,0 706,-6 706,-12 706,-12 706,-41 706,-41 706,-47 700,-53 694,-53\"/>\n<text text-anchor=\"middle\" x=\"620.5\" y=\"-37.8\" font-family=\"Helvetica,sans-Serif\" font-size=\"14.00\" fill=\"#000000\">mse = 1587427061.462</text>\n<text text-anchor=\"middle\" x=\"620.5\" y=\"-22.8\" font-family=\"Helvetica,sans-Serif\" font-size=\"14.00\" fill=\"#000000\">samples = 242</text>\n<text text-anchor=\"middle\" x=\"620.5\" y=\"-7.8\" font-family=\"Helvetica,sans-Serif\" font-size=\"14.00\" fill=\"#000000\">value = 195839.558</text>\n</g>\n<!-- 5&#45;&gt;7 -->\n<g id=\"edge7\" class=\"edge\">\n<title>5&#45;&gt;7</title>\n<path fill=\"none\" stroke=\"#000000\" d=\"M561.5832,-88.9777C570.2183,-79.8207 579.5614,-69.9129 588.2078,-60.744\"/>\n<polygon fill=\"#000000\" stroke=\"#000000\" points=\"590.9617,-62.9251 595.276,-53.2485 585.8689,-58.1226 590.9617,-62.9251\"/>\n</g>\n<!-- 9 -->\n<g id=\"node10\" class=\"node\">\n<title>9</title>\n<path fill=\"#e58139\" fill-opacity=\"0.517647\" stroke=\"#000000\" d=\"M973,-157C973,-157 826,-157 826,-157 820,-157 814,-151 814,-145 814,-145 814,-101 814,-101 814,-95 820,-89 826,-89 826,-89 973,-89 973,-89 979,-89 985,-95 985,-101 985,-101 985,-145 985,-145 985,-151 979,-157 973,-157\"/>\n<text text-anchor=\"middle\" x=\"899.5\" y=\"-141.8\" font-family=\"Helvetica,sans-Serif\" font-size=\"14.00\" fill=\"#000000\">total_area &lt;= 4249.0</text>\n<text text-anchor=\"middle\" x=\"899.5\" y=\"-126.8\" font-family=\"Helvetica,sans-Serif\" font-size=\"14.00\" fill=\"#000000\">mse = 4043586560.598</text>\n<text text-anchor=\"middle\" x=\"899.5\" y=\"-111.8\" font-family=\"Helvetica,sans-Serif\" font-size=\"14.00\" fill=\"#000000\">samples = 225</text>\n<text text-anchor=\"middle\" x=\"899.5\" y=\"-96.8\" font-family=\"Helvetica,sans-Serif\" font-size=\"14.00\" fill=\"#000000\">value = 257773.92</text>\n</g>\n<!-- 8&#45;&gt;9 -->\n<g id=\"edge9\" class=\"edge\">\n<title>8&#45;&gt;9</title>\n<path fill=\"none\" stroke=\"#000000\" d=\"M899.5,-192.9465C899.5,-184.776 899.5,-175.9318 899.5,-167.3697\"/>\n<polygon fill=\"#000000\" stroke=\"#000000\" points=\"903.0001,-167.13 899.5,-157.13 896.0001,-167.13 903.0001,-167.13\"/>\n</g>\n<!-- 12 -->\n<g id=\"node13\" class=\"node\">\n<title>12</title>\n<path fill=\"#e58139\" fill-opacity=\"0.960784\" stroke=\"#000000\" d=\"M1261,-157C1261,-157 1106,-157 1106,-157 1100,-157 1094,-151 1094,-145 1094,-145 1094,-101 1094,-101 1094,-95 1100,-89 1106,-89 1106,-89 1261,-89 1261,-89 1267,-89 1273,-95 1273,-101 1273,-101 1273,-145 1273,-145 1273,-151 1267,-157 1261,-157\"/>\n<text text-anchor=\"middle\" x=\"1183.5\" y=\"-141.8\" font-family=\"Helvetica,sans-Serif\" font-size=\"14.00\" fill=\"#000000\">total_area &lt;= 8191.5</text>\n<text text-anchor=\"middle\" x=\"1183.5\" y=\"-126.8\" font-family=\"Helvetica,sans-Serif\" font-size=\"14.00\" fill=\"#000000\">mse = 13447504744.296</text>\n<text text-anchor=\"middle\" x=\"1183.5\" y=\"-111.8\" font-family=\"Helvetica,sans-Serif\" font-size=\"14.00\" fill=\"#000000\">samples = 38</text>\n<text text-anchor=\"middle\" x=\"1183.5\" y=\"-96.8\" font-family=\"Helvetica,sans-Serif\" font-size=\"14.00\" fill=\"#000000\">value = 399671.421</text>\n</g>\n<!-- 8&#45;&gt;12 -->\n<g id=\"edge12\" class=\"edge\">\n<title>8&#45;&gt;12</title>\n<path fill=\"none\" stroke=\"#000000\" d=\"M985.0945,-195.6555C1016.311,-184.2241 1051.8702,-171.2025 1084.1795,-159.3709\"/>\n<polygon fill=\"#000000\" stroke=\"#000000\" points=\"1085.4586,-162.6299 1093.6452,-155.9046 1083.0514,-156.0567 1085.4586,-162.6299\"/>\n</g>\n<!-- 10 -->\n<g id=\"node11\" class=\"node\">\n<title>10</title>\n<path fill=\"#e58139\" fill-opacity=\"0.454902\" stroke=\"#000000\" d=\"M883,-53C883,-53 736,-53 736,-53 730,-53 724,-47 724,-41 724,-41 724,-12 724,-12 724,-6 730,0 736,0 736,0 883,0 883,0 889,0 895,-6 895,-12 895,-12 895,-41 895,-41 895,-47 889,-53 883,-53\"/>\n<text text-anchor=\"middle\" x=\"809.5\" y=\"-37.8\" font-family=\"Helvetica,sans-Serif\" font-size=\"14.00\" fill=\"#000000\">mse = 2983077747.391</text>\n<text text-anchor=\"middle\" x=\"809.5\" y=\"-22.8\" font-family=\"Helvetica,sans-Serif\" font-size=\"14.00\" fill=\"#000000\">samples = 149</text>\n<text text-anchor=\"middle\" x=\"809.5\" y=\"-7.8\" font-family=\"Helvetica,sans-Serif\" font-size=\"14.00\" fill=\"#000000\">value = 238163.933</text>\n</g>\n<!-- 9&#45;&gt;10 -->\n<g id=\"edge10\" class=\"edge\">\n<title>9&#45;&gt;10</title>\n<path fill=\"none\" stroke=\"#000000\" d=\"M867.7694,-88.9777C859.2292,-79.8207 849.9887,-69.9129 841.4374,-60.744\"/>\n<polygon fill=\"#000000\" stroke=\"#000000\" points=\"843.8269,-58.1744 834.4468,-53.2485 838.7077,-62.9488 843.8269,-58.1744\"/>\n</g>\n<!-- 11 -->\n<g id=\"node12\" class=\"node\">\n<title>11</title>\n<path fill=\"#e58139\" fill-opacity=\"0.639216\" stroke=\"#000000\" d=\"M1064,-53C1064,-53 925,-53 925,-53 919,-53 913,-47 913,-41 913,-41 913,-12 913,-12 913,-6 919,0 925,0 925,0 1064,0 1064,0 1070,0 1076,-6 1076,-12 1076,-12 1076,-41 1076,-41 1076,-47 1070,-53 1064,-53\"/>\n<text text-anchor=\"middle\" x=\"994.5\" y=\"-37.8\" font-family=\"Helvetica,sans-Serif\" font-size=\"14.00\" fill=\"#000000\">mse = 3890731572.94</text>\n<text text-anchor=\"middle\" x=\"994.5\" y=\"-22.8\" font-family=\"Helvetica,sans-Serif\" font-size=\"14.00\" fill=\"#000000\">samples = 76</text>\n<text text-anchor=\"middle\" x=\"994.5\" y=\"-7.8\" font-family=\"Helvetica,sans-Serif\" font-size=\"14.00\" fill=\"#000000\">value = 296219.816</text>\n</g>\n<!-- 9&#45;&gt;11 -->\n<g id=\"edge11\" class=\"edge\">\n<title>9&#45;&gt;11</title>\n<path fill=\"none\" stroke=\"#000000\" d=\"M932.9934,-88.9777C942.0982,-79.7292 951.957,-69.7147 961.0589,-60.4691\"/>\n<polygon fill=\"#000000\" stroke=\"#000000\" points=\"963.646,-62.8302 968.1673,-53.2485 958.6576,-57.9193 963.646,-62.8302\"/>\n</g>\n<!-- 13 -->\n<g id=\"node14\" class=\"node\">\n<title>13</title>\n<path fill=\"#e58139\" stroke=\"#000000\" d=\"M1261,-53C1261,-53 1106,-53 1106,-53 1100,-53 1094,-47 1094,-41 1094,-41 1094,-12 1094,-12 1094,-6 1100,0 1106,0 1106,0 1261,0 1261,0 1267,0 1273,-6 1273,-12 1273,-12 1273,-41 1273,-41 1273,-47 1267,-53 1261,-53\"/>\n<text text-anchor=\"middle\" x=\"1183.5\" y=\"-37.8\" font-family=\"Helvetica,sans-Serif\" font-size=\"14.00\" fill=\"#000000\">mse = 11156421277.333</text>\n<text text-anchor=\"middle\" x=\"1183.5\" y=\"-22.8\" font-family=\"Helvetica,sans-Serif\" font-size=\"14.00\" fill=\"#000000\">samples = 36</text>\n<text text-anchor=\"middle\" x=\"1183.5\" y=\"-7.8\" font-family=\"Helvetica,sans-Serif\" font-size=\"14.00\" fill=\"#000000\">value = 412299.0</text>\n</g>\n<!-- 12&#45;&gt;13 -->\n<g id=\"edge13\" class=\"edge\">\n<title>12&#45;&gt;13</title>\n<path fill=\"none\" stroke=\"#000000\" d=\"M1183.5,-88.9777C1183.5,-80.7364 1183.5,-71.887 1183.5,-63.5153\"/>\n<polygon fill=\"#000000\" stroke=\"#000000\" points=\"1187.0001,-63.2484 1183.5,-53.2485 1180.0001,-63.2485 1187.0001,-63.2484\"/>\n</g>\n<!-- 14 -->\n<g id=\"node15\" class=\"node\">\n<title>14</title>\n<path fill=\"#e58139\" fill-opacity=\"0.250980\" stroke=\"#000000\" d=\"M1425.5,-53C1425.5,-53 1303.5,-53 1303.5,-53 1297.5,-53 1291.5,-47 1291.5,-41 1291.5,-41 1291.5,-12 1291.5,-12 1291.5,-6 1297.5,0 1303.5,0 1303.5,0 1425.5,0 1425.5,0 1431.5,0 1437.5,-6 1437.5,-12 1437.5,-12 1437.5,-41 1437.5,-41 1437.5,-47 1431.5,-53 1425.5,-53\"/>\n<text text-anchor=\"middle\" x=\"1364.5\" y=\"-37.8\" font-family=\"Helvetica,sans-Serif\" font-size=\"14.00\" fill=\"#000000\">mse = 153140625.0</text>\n<text text-anchor=\"middle\" x=\"1364.5\" y=\"-22.8\" font-family=\"Helvetica,sans-Serif\" font-size=\"14.00\" fill=\"#000000\">samples = 2</text>\n<text text-anchor=\"middle\" x=\"1364.5\" y=\"-7.8\" font-family=\"Helvetica,sans-Serif\" font-size=\"14.00\" fill=\"#000000\">value = 172375.0</text>\n</g>\n<!-- 12&#45;&gt;14 -->\n<g id=\"edge14\" class=\"edge\">\n<title>12&#45;&gt;14</title>\n<path fill=\"none\" stroke=\"#000000\" d=\"M1247.3138,-88.9777C1266.2941,-78.8584 1286.9942,-67.8222 1305.6433,-57.8794\"/>\n<polygon fill=\"#000000\" stroke=\"#000000\" points=\"1307.4395,-60.8882 1314.6171,-53.095 1304.1462,-54.7112 1307.4395,-60.8882\"/>\n</g>\n</g>\n</svg>\n"
          },
          "metadata": {
            "tags": []
          }
        }
      ]
    },
    {
      "cell_type": "markdown",
      "metadata": {
        "colab_type": "text",
        "id": "kWm7mMlH9sl2"
      },
      "source": [
        "## Part 2 / Stretch: \"Play Tennis\" Classification"
      ]
    },
    {
      "cell_type": "markdown",
      "metadata": {
        "colab_type": "text",
        "id": "2f5-S87kg6gJ"
      },
      "source": [
        "We'll reproduce the \"Play Tennis\" example from Ross Quinlan's 1986 paper, [Induction of Decison Trees](https://link.springer.com/content/pdf/10.1007%2FBF00116251.pdf).\n",
        "\n",
        "[According to Wikipedia](https://en.wikipedia.org/wiki/Ross_Quinlan), \"John Ross Quinlan is a computer science researcher in data mining and decision theory. He has contributed extensively to the development of decision tree algorithms, including inventing the canonical C4.5 and ID3 algorithms.\""
      ]
    },
    {
      "cell_type": "markdown",
      "metadata": {
        "colab_type": "text",
        "id": "Qfv6Zwdoje7_"
      },
      "source": [
        "#### \"Table 1 shows a small training set\""
      ]
    },
    {
      "cell_type": "code",
      "metadata": {
        "colab_type": "code",
        "id": "oUE-G0pgg58u",
        "colab": {
          "base_uri": "https://localhost:8080/",
          "height": 130
        },
        "outputId": "3736abd8-56e7-469d-924b-ae833a46c9ec"
      },
      "source": [
        "import pandas as pd dd\n",
        "\n",
        "columns = 'No. Outlook Temperature Humidity Windy PlayTennis'.split()\n",
        "\n",
        "raw = \"\"\"1 sunny hot high false N\n",
        "2 sunny hot high true N\n",
        "3 overcast hot high false P\n",
        "4 rain mild high false P\n",
        "5 rain cool normal false P\n",
        "6 rain cool normal true N\n",
        "7 overcast cool normal true P\n",
        "8 sunny mild high false N\n",
        "9 sunny cool normal false P\n",
        "10 rain mild normal false P\n",
        "11 sunny mild normal true P\n",
        "12 overcast mild high true P\n",
        "13 overcast hot normal false P\n",
        "14 rain mild high true N\"\"\"\n",
        "\n",
        "data = [row.split() for row in raw.split('\\n')]\n",
        "tennis = pd.DataFrame(data=data, columns=columns).set_index('No.')\n",
        "tennis['PlayTennis'] = (tennis['PlayTennis'] == 'P').astype(int)\n",
        "\n",
        "tennis"
      ],
      "execution_count": 9,
      "outputs": [
        {
          "output_type": "error",
          "ename": "SyntaxError",
          "evalue": "ignored",
          "traceback": [
            "\u001b[0;36m  File \u001b[0;32m\"<ipython-input-9-2ede93a0d3b7>\"\u001b[0;36m, line \u001b[0;32m1\u001b[0m\n\u001b[0;31m    import pandas as pd dd\u001b[0m\n\u001b[0m                         ^\u001b[0m\n\u001b[0;31mSyntaxError\u001b[0m\u001b[0;31m:\u001b[0m invalid syntax\n"
          ]
        }
      ]
    },
    {
      "cell_type": "markdown",
      "metadata": {
        "colab_type": "text",
        "id": "BvFu9kvJj9kk"
      },
      "source": [
        "#### \"A decision tree that correctly classifies each object in the training set is given in Figure 2.\"\n",
        "\n",
        "<img src=\"https://i.imgur.com/RD7d0u0.png\" height=\"300\">"
      ]
    },
    {
      "cell_type": "markdown",
      "metadata": {
        "colab_type": "text",
        "id": "kHkkeALqjNiS"
      },
      "source": [
        "In this dataset, the tennis player decided to play on 64% of the days, and decided not to on 36% of the days."
      ]
    },
    {
      "cell_type": "code",
      "metadata": {
        "colab_type": "code",
        "id": "qeLDinBihMDQ",
        "colab": {}
      },
      "source": [
        "tennis['PlayTennis'].value_counts(normalize=True) * 100"
      ],
      "execution_count": 0,
      "outputs": []
    },
    {
      "cell_type": "markdown",
      "metadata": {
        "colab_type": "text",
        "id": "Ype2-apnlaG2"
      },
      "source": [
        "The tennis player played on 100% of the overcast days, 40% of the sunny days, and 60% of the  rainy days"
      ]
    },
    {
      "cell_type": "code",
      "metadata": {
        "colab_type": "code",
        "id": "LfBMB0Soh58T",
        "colab": {}
      },
      "source": [
        "tennis.groupby('Outlook')['PlayTennis'].mean() * 100"
      ],
      "execution_count": 0,
      "outputs": []
    },
    {
      "cell_type": "markdown",
      "metadata": {
        "colab_type": "text",
        "id": "jx3-MFvalrQC"
      },
      "source": [
        "On sunny days, the tennis player's decision depends on the humidity. (The Outlook and Humidity features interact.)"
      ]
    },
    {
      "cell_type": "code",
      "metadata": {
        "colab_type": "code",
        "id": "FmVN7hwEiHE5",
        "colab": {}
      },
      "source": [
        "sunny = tennis[tennis['Outlook']=='sunny']\n",
        "sunny.groupby('Humidity')['PlayTennis'].mean() * 100"
      ],
      "execution_count": 0,
      "outputs": []
    },
    {
      "cell_type": "markdown",
      "metadata": {
        "colab_type": "text",
        "id": "y0it0HsFl47M"
      },
      "source": [
        "On rainy days, the tennis player's decision depends on the wind. (The Outlook and Windy features interact.)"
      ]
    },
    {
      "cell_type": "code",
      "metadata": {
        "colab_type": "code",
        "id": "CeOd7rGeivJp",
        "colab": {}
      },
      "source": [
        "rainy = tennis[tennis['Outlook']=='rain']\n",
        "rainy.groupby('Windy')['PlayTennis'].mean() * 100"
      ],
      "execution_count": 0,
      "outputs": []
    },
    {
      "cell_type": "markdown",
      "metadata": {
        "id": "EXL8R9dOKp7J",
        "colab_type": "text"
      },
      "source": [
        "#### Before modeling, we will [\"encode\" categorical variables, using pandas](https://pandas.pydata.org/pandas-docs/stable/user_guide/reshaping.html?highlight=get_dummies#computing-indicator-dummy-variables)"
      ]
    },
    {
      "cell_type": "code",
      "metadata": {
        "colab_type": "code",
        "id": "VCyn34nEi0nz",
        "colab": {}
      },
      "source": [
        "y = tennis['PlayTennis']\n",
        "X = pd.get_dummies(tennis.drop(columns='PlayTennis'))\n",
        "X"
      ],
      "execution_count": 0,
      "outputs": []
    },
    {
      "cell_type": "markdown",
      "metadata": {
        "colab_type": "text",
        "id": "UvOkHk8o-h_r"
      },
      "source": [
        "## Train a Decision Tree Classifier\n",
        "Get a score of 100% (accuracy)\n",
        "\n",
        "https://scikit-learn.org/stable/modules/generated/sklearn.tree.DecisionTreeClassifier.html"
      ]
    },
    {
      "cell_type": "code",
      "metadata": {
        "id": "mADIJrEXKp7O",
        "colab_type": "code",
        "colab": {}
      },
      "source": [
        ""
      ],
      "execution_count": 0,
      "outputs": []
    },
    {
      "cell_type": "markdown",
      "metadata": {
        "colab_type": "text",
        "id": "9uNPrbfS-vzL"
      },
      "source": [
        "## Compare to Logistic Regression\n",
        "https://scikit-learn.org/stable/modules/generated/sklearn.linear_model.LogisticRegression.html"
      ]
    },
    {
      "cell_type": "code",
      "metadata": {
        "id": "WMr_JlomKp7R",
        "colab_type": "code",
        "colab": {}
      },
      "source": [
        ""
      ],
      "execution_count": 0,
      "outputs": []
    },
    {
      "cell_type": "markdown",
      "metadata": {
        "colab_type": "text",
        "id": "EwF0phe6-oR8"
      },
      "source": [
        "## Visualize the tree\n",
        "https://scikit-learn.org/stable/modules/generated/sklearn.tree.export_graphviz.html"
      ]
    },
    {
      "cell_type": "code",
      "metadata": {
        "id": "H3Z9P8qFKp7U",
        "colab_type": "code",
        "colab": {}
      },
      "source": [
        ""
      ],
      "execution_count": 0,
      "outputs": []
    }
  ]
}