{
  "nbformat": 4,
  "nbformat_minor": 0,
  "metadata": {
    "colab": {
      "name": "LS_DS_411A_Decision_Trees.ipynb",
      "version": "0.3.2",
      "provenance": [],
      "collapsed_sections": []
    },
    "language_info": {
      "codemirror_mode": {
        "name": "ipython",
        "version": 3
      },
      "file_extension": ".py",
      "mimetype": "text/x-python",
      "name": "python",
      "nbconvert_exporter": "python",
      "pygments_lexer": "ipython3",
      "version": "3.7.1"
    },
    "kernelspec": {
      "display_name": "Python 3",
      "language": "python",
      "name": "python3"
    }
  },
  "cells": [
    {
      "metadata": {
        "colab_type": "text",
        "id": "A0-sUApS7MIs"
      },
      "cell_type": "markdown",
      "source": [
        "_Lambda School Data Science — Tree Ensembles_ \n",
        "\n",
        "# Decision Trees Assignment"
      ]
    },
    {
      "metadata": {
        "id": "XMDbLgTcS50G",
        "colab_type": "text"
      },
      "cell_type": "markdown",
      "source": [
        "## Part 1: House Price Regression\n",
        "\n",
        "Apply decision trees to the Ames housing dataset you've worked with this week!\n",
        "\n",
        "- Try multiple features\n",
        "- Try features you've engineered\n",
        "- Try different `max_depth` paramaters\n",
        "- What's the best Test Root Mean Squared Error you can get? *Share with your cohort on Slack!*\n",
        "- What's a cool visualization you can make? *Share with your cohort on Slack!*"
      ]
    },
    {
      "metadata": {
        "id": "xTaUjDkVydbz",
        "colab_type": "text"
      },
      "cell_type": "markdown",
      "source": [
        "**Importing**"
      ]
    },
    {
      "metadata": {
        "id": "gotQR2YV3KTE",
        "colab_type": "code",
        "colab": {}
      },
      "cell_type": "code",
      "source": [
        "%matplotlib inline\n",
        "import graphviz\n",
        "from IPython.display import display\n",
        "from ipywidgets import interact\n",
        "import matplotlib.pyplot as plt\n",
        "from mpl_toolkits import mplot3d\n",
        "import numpy as np\n",
        "import pandas as pd\n",
        "import seaborn as sns\n",
        "from scipy import stats\n",
        "from sklearn.metrics import mean_squared_error\n",
        "from sklearn.impute import SimpleImputer\n",
        "from sklearn.linear_model import LinearRegression\n",
        "from sklearn.metrics import r2_score\n",
        "from sklearn.model_selection import train_test_split\n",
        "from sklearn.tree import DecisionTreeClassifier, DecisionTreeRegressor, export_graphviz"
      ],
      "execution_count": 0,
      "outputs": []
    },
    {
      "metadata": {
        "id": "skDMYybhT4-S",
        "colab_type": "code",
        "colab": {}
      },
      "cell_type": "code",
      "source": [
        "def viz3D(fitted_model, df, feature1, feature2, target='', num=100):\n",
        "    \"\"\"\n",
        "    Visualize model predictions in 3D, for regression or binary classification\n",
        "    \n",
        "    Parameters\n",
        "    ----------\n",
        "    fitted_model : scikit-learn model, already fitted\n",
        "    df : pandas dataframe, which was used to fit model\n",
        "    feature1 : string, name of feature 1\n",
        "    feature2 : string, name of feature 2\n",
        "    target : string, name of target\n",
        "    num : int, number of grid points for each feature\n",
        "    \n",
        "    References\n",
        "    ----------\n",
        "    https://jakevdp.github.io/PythonDataScienceHandbook/04.12-three-dimensional-plotting.html\n",
        "    https://scikit-learn.org/stable/auto_examples/tree/plot_iris.html  \n",
        "    \"\"\"\n",
        "    x1 = np.linspace(df[feature1].min(), df[feature1].max(), num)\n",
        "    x2 = np.linspace(df[feature2].min(), df[feature2].max(), num)\n",
        "    X1, X2 = np.meshgrid(x1, x2)\n",
        "def viztree(decision_tree, feature_names):\n",
        "    \"\"\"Visualize a decision tree\"\"\"\n",
        "    dot_data = export_graphviz(decision_tree, out_file=None, feature_names=feature_names, \n",
        "                               filled=True, rounded=True)   \n",
        "    return graphviz.Source(dot_data)\n",
        "    X = np.c_[X1.flatten(), X2.flatten()]\n",
        "    if hasattr(fitted_model, 'predict_proba'):\n",
        "        predicted = fitted_model.predict_proba(X)[:,1]\n",
        "    else:\n",
        "        predicted = fitted_model.predict(X)\n",
        "    Z = predicted.reshape(num, num)\n",
        "    \n",
        "    fig = plt.figure()\n",
        "    ax = plt.axes(projection='3d')\n",
        "    ax.plot_surface(X1, X2, Z, cmap='viridis')\n",
        "    ax.set_xlabel(feature1)\n",
        "    ax.set_ylabel(feature2)\n",
        "    ax.set_zlabel(target)\n",
        "    return fig"
      ],
      "execution_count": 0,
      "outputs": []
    },
    {
      "metadata": {
        "id": "KJjPdsbTygrC",
        "colab_type": "code",
        "colab": {}
      },
      "cell_type": "code",
      "source": [
        "url = 'https://raw.githubusercontent.com/ryanleeallred/datasets/master/Ames%20Housing%20Data/train.csv'\n",
        "ames_df = pd.read_csv(url)"
      ],
      "execution_count": 0,
      "outputs": []
    },
    {
      "metadata": {
        "id": "qm8q12eVPhpO",
        "colab_type": "text"
      },
      "cell_type": "markdown",
      "source": [
        "**Cleaned and Revised **"
      ]
    },
    {
      "metadata": {
        "id": "FlF76b6joFJ2",
        "colab_type": "code",
        "colab": {}
      },
      "cell_type": "code",
      "source": [
        "encoded = {'Gd':4, 'TA':2, 'Ex':5, 'Fa':3, np.NaN:0,'Po':1}\n",
        "# Basement\n",
        "ames_df['BsmtQual'] = ames_df['BsmtQual'].replace(encoded)\n",
        "ames_df['BsmtCond'] = ames_df['BsmtCond'].replace(encoded)\n",
        "# External Quality and Condition\n",
        "ames_df['ExterQual'] = ames_df['ExterQual'].replace(encoded)\n",
        "ames_df['ExterCond'] = ames_df['ExterCond'].replace(encoded)\n",
        "# Lot Info\n",
        "ames_df['LotFrontage'] = ames_df['LotFrontage'].fillna(ames_df['LotFrontage'].mean())\n",
        "ames_df['LandSlope'] = ames_df['LandSlope'].replace({'Gtl':3,'Mod':2,'Sev':1})\n",
        "ames_df['Foundation'] = ames_df['Foundation'].replace({'Slab':5,'PConc':4,'CBlock':3,'Stone':2,'BrkTil':1,'Wood':0})\n",
        "ames_df['Street'] = ames_df['Street'].replace({'Grvl':0,'Pave':1})\n",
        "ames_df['LandContour'] = ames_df['LandContour'].replace({'Lvl':3,'Bnk':2,'HLS':1,'Low':0})\n",
        "ames_df['LotShape'] = ames_df['LotShape'].replace({'Reg':3,'IR1':2,'IR2':1,'IR3':0})\n",
        "ames_df['ln_SalePrice'] = np.log(ames_df['SalePrice'])\n",
        "# Dropping Nans\n",
        "ames_df = ames_df.dropna(subset=['GarageYrBlt','MasVnrArea'])\n",
        "# Fireplace\n",
        "ames_df['FireplaceQu'] = ames_df['FireplaceQu'].replace(encoded)\n",
        "# Garage\n",
        "ames_df['GarageQual'] = ames_df['GarageQual'].replace(encoded)\n",
        "ames_df['GarageCond'] = ames_df['GarageCond'].replace(encoded)\n",
        "ames_df['GarageFinish'] = ames_df['GarageFinish'].replace({'Fin':2,'RFn':1,np.NaN:0,'Unf':-1})\n",
        "ames_df['PavedDrive'] = ames_df['PavedDrive'].replace({'Y':1,'P':0,'N':-1})\n",
        "# Pool\n",
        "ames_df['PoolQC'] = ames_df['PoolQC'].replace(encoded)\n",
        "# Heating / Cooling / Electrical\n",
        "ames_df['HeatingQC'] = ames_df['HeatingQC'].replace(encoded)\n",
        "ames_df['CentralAir'] = ames_df['CentralAir'].replace({'Y':1,'N':0})\n",
        "ames_df['Electrical'] = ames_df['Electrical'].replace({'SBrkr':3,'FuseA':2,'FuseF':1,'FuseP':0,'Mix':2.5,np.NaN:2.5})\n",
        "# Kitchen\n",
        "ames_df['KitchenQual'] = ames_df['KitchenQual'].replace(encoded)\n",
        "ames_df = ames_df[ames_df.describe().columns]"
      ],
      "execution_count": 0,
      "outputs": []
    },
    {
      "metadata": {
        "id": "hIq_9KJ5XsIC",
        "colab_type": "text"
      },
      "cell_type": "markdown",
      "source": [
        "**Decision Tree With 1 Feature**"
      ]
    },
    {
      "metadata": {
        "id": "RgPkLONAXx_D",
        "colab_type": "code",
        "colab": {
          "base_uri": "https://localhost:8080/",
          "height": 34
        },
        "outputId": "f429963b-c63c-4cb8-ebff-eaa3675150b5"
      },
      "cell_type": "code",
      "source": [
        "target = 'SalePrice'\n",
        "features = ['OverallQual']\n",
        "x = ames_df[features]\n",
        "y = ames_df[target]\n",
        "tree = DecisionTreeRegressor()\n",
        "tree.fit(x, y)\n",
        "print(\"R-Squared:\", tree.score(x, y))"
      ],
      "execution_count": 39,
      "outputs": [
        {
          "output_type": "stream",
          "text": [
            "R-Squared: 0.6757639237611366\n"
          ],
          "name": "stdout"
        }
      ]
    },
    {
      "metadata": {
        "id": "woK8VPHUeYaO",
        "colab_type": "code",
        "colab": {}
      },
      "cell_type": "code",
      "source": [
        "# Splitting into Train and Test\n",
        "x_train, x_test, y_train, y_test = train_test_split(x, y, train_size=0.80, test_size=0.20, random_state=42)"
      ],
      "execution_count": 0,
      "outputs": []
    },
    {
      "metadata": {
        "id": "wudVSrpvgxDA",
        "colab_type": "code",
        "colab": {
          "base_uri": "https://localhost:8080/",
          "height": 272
        },
        "outputId": "88b5df85-c548-4d53-afb5-a76c988a6d94"
      },
      "cell_type": "code",
      "source": [
        "for depth in range(1,16):\n",
        "    tree = DecisionTreeRegressor(max_depth=depth)\n",
        "    # Fitting Model\n",
        "    tree.fit(x_train, y_train)\n",
        "    # Calculating RMSE\n",
        "    RMSE = (np.sqrt(mean_squared_error(y_test, tree.predict(x_test))))\n",
        "    # Displaying Results\n",
        "    print('max_depth: {} \\t model score: {} \\t Test RMSE: {}'\n",
        "          .format(depth, tree.score(x, y), RMSE))"
      ],
      "execution_count": 41,
      "outputs": [
        {
          "output_type": "stream",
          "text": [
            "max_depth: 1 \t model score: 0.459175484241908 \t Test RMSE: 58186.08185258325\n",
            "max_depth: 2 \t model score: 0.6337782266538097 \t Test RMSE: 47343.229465128104\n",
            "max_depth: 3 \t model score: 0.6674084306891497 \t Test RMSE: 44339.08760739454\n",
            "max_depth: 4 \t model score: 0.6738996511317161 \t Test RMSE: 44150.12692067689\n",
            "max_depth: 5 \t model score: 0.6747313584379155 \t Test RMSE: 43950.040987742585\n",
            "max_depth: 6 \t model score: 0.6750569748411536 \t Test RMSE: 43885.93783511206\n",
            "max_depth: 7 \t model score: 0.6750569748411536 \t Test RMSE: 43885.93783511206\n",
            "max_depth: 8 \t model score: 0.6750569748411536 \t Test RMSE: 43885.93783511206\n",
            "max_depth: 9 \t model score: 0.6750569748411536 \t Test RMSE: 43885.93783511206\n",
            "max_depth: 10 \t model score: 0.6750569748411536 \t Test RMSE: 43885.93783511206\n",
            "max_depth: 11 \t model score: 0.6750569748411536 \t Test RMSE: 43885.93783511206\n",
            "max_depth: 12 \t model score: 0.6750569748411536 \t Test RMSE: 43885.93783511206\n",
            "max_depth: 13 \t model score: 0.6750569748411536 \t Test RMSE: 43885.93783511206\n",
            "max_depth: 14 \t model score: 0.6750569748411536 \t Test RMSE: 43885.93783511206\n",
            "max_depth: 15 \t model score: 0.6750569748411536 \t Test RMSE: 43885.93783511206\n"
          ],
          "name": "stdout"
        }
      ]
    },
    {
      "metadata": {
        "id": "wGpiyAp-YzXS",
        "colab_type": "code",
        "colab": {
          "base_uri": "https://localhost:8080/",
          "height": 954
        },
        "outputId": "2102d8a5-d94c-4073-9fec-a124215aeaf7"
      },
      "cell_type": "code",
      "source": [
        "# Decision Tree\n",
        "display(viztree(tree, features))"
      ],
      "execution_count": 8,
      "outputs": [
        {
          "output_type": "display_data",
          "data": {
            "text/plain": [
              "<graphviz.files.Source at 0x7f1d7e268cf8>"
            ],
            "image/svg+xml": "<?xml version=\"1.0\" encoding=\"UTF-8\" standalone=\"no\"?>\n<!DOCTYPE svg PUBLIC \"-//W3C//DTD SVG 1.1//EN\"\n \"http://www.w3.org/Graphics/SVG/1.1/DTD/svg11.dtd\">\n<!-- Generated by graphviz version 2.40.1 (20161225.0304)\n -->\n<!-- Title: Tree Pages: 1 -->\n<svg width=\"1073pt\" height=\"685pt\"\n viewBox=\"0.00 0.00 1073.00 685.00\" xmlns=\"http://www.w3.org/2000/svg\" xmlns:xlink=\"http://www.w3.org/1999/xlink\">\n<g id=\"graph0\" class=\"graph\" transform=\"scale(1 1) rotate(0) translate(4 681)\">\n<title>Tree</title>\n<polygon fill=\"#ffffff\" stroke=\"transparent\" points=\"-4,4 -4,-681 1069,-681 1069,4 -4,4\"/>\n<!-- 0 -->\n<g id=\"node1\" class=\"node\">\n<title>0</title>\n<path fill=\"#e58139\" fill-opacity=\"0.337255\" stroke=\"#000000\" d=\"M677,-677C677,-677 530,-677 530,-677 524,-677 518,-671 518,-665 518,-665 518,-621 518,-621 518,-615 524,-609 530,-609 530,-609 677,-609 677,-609 683,-609 689,-615 689,-621 689,-621 689,-665 689,-665 689,-671 683,-677 677,-677\"/>\n<text text-anchor=\"middle\" x=\"603.5\" y=\"-661.8\" font-family=\"Helvetica,sans-Serif\" font-size=\"14.00\" fill=\"#000000\">OverallQual &lt;= 7.5</text>\n<text text-anchor=\"middle\" x=\"603.5\" y=\"-646.8\" font-family=\"Helvetica,sans-Serif\" font-size=\"14.00\" fill=\"#000000\">mse = 6136111156.461</text>\n<text text-anchor=\"middle\" x=\"603.5\" y=\"-631.8\" font-family=\"Helvetica,sans-Serif\" font-size=\"14.00\" fill=\"#000000\">samples = 1096</text>\n<text text-anchor=\"middle\" x=\"603.5\" y=\"-616.8\" font-family=\"Helvetica,sans-Serif\" font-size=\"14.00\" fill=\"#000000\">value = 183985.831</text>\n</g>\n<!-- 1 -->\n<g id=\"node2\" class=\"node\">\n<title>1</title>\n<path fill=\"#e58139\" fill-opacity=\"0.278431\" stroke=\"#000000\" d=\"M583,-573C583,-573 436,-573 436,-573 430,-573 424,-567 424,-561 424,-561 424,-517 424,-517 424,-511 430,-505 436,-505 436,-505 583,-505 583,-505 589,-505 595,-511 595,-517 595,-517 595,-561 595,-561 595,-567 589,-573 583,-573\"/>\n<text text-anchor=\"middle\" x=\"509.5\" y=\"-557.8\" font-family=\"Helvetica,sans-Serif\" font-size=\"14.00\" fill=\"#000000\">OverallQual &lt;= 6.5</text>\n<text text-anchor=\"middle\" x=\"509.5\" y=\"-542.8\" font-family=\"Helvetica,sans-Serif\" font-size=\"14.00\" fill=\"#000000\">mse = 2298971669.614</text>\n<text text-anchor=\"middle\" x=\"509.5\" y=\"-527.8\" font-family=\"Helvetica,sans-Serif\" font-size=\"14.00\" fill=\"#000000\">samples = 923</text>\n<text text-anchor=\"middle\" x=\"509.5\" y=\"-512.8\" font-family=\"Helvetica,sans-Serif\" font-size=\"14.00\" fill=\"#000000\">value = 161158.556</text>\n</g>\n<!-- 0&#45;&gt;1 -->\n<g id=\"edge1\" class=\"edge\">\n<title>0&#45;&gt;1</title>\n<path fill=\"none\" stroke=\"#000000\" d=\"M572.7209,-608.9465C564.5245,-599.8782 555.578,-589.9799 547.0625,-580.5585\"/>\n<polygon fill=\"#000000\" stroke=\"#000000\" points=\"549.6503,-578.2019 540.3483,-573.13 544.4571,-582.8957 549.6503,-578.2019\"/>\n<text text-anchor=\"middle\" x=\"539.0872\" y=\"-594.3982\" font-family=\"Helvetica,sans-Serif\" font-size=\"14.00\" fill=\"#000000\">True</text>\n</g>\n<!-- 12 -->\n<g id=\"node13\" class=\"node\">\n<title>12</title>\n<path fill=\"#e58139\" fill-opacity=\"0.670588\" stroke=\"#000000\" d=\"M772,-573C772,-573 625,-573 625,-573 619,-573 613,-567 613,-561 613,-561 613,-517 613,-517 613,-511 619,-505 625,-505 625,-505 772,-505 772,-505 778,-505 784,-511 784,-517 784,-517 784,-561 784,-561 784,-567 778,-573 772,-573\"/>\n<text text-anchor=\"middle\" x=\"698.5\" y=\"-557.8\" font-family=\"Helvetica,sans-Serif\" font-size=\"14.00\" fill=\"#000000\">OverallQual &lt;= 8.5</text>\n<text text-anchor=\"middle\" x=\"698.5\" y=\"-542.8\" font-family=\"Helvetica,sans-Serif\" font-size=\"14.00\" fill=\"#000000\">mse = 8995456428.908</text>\n<text text-anchor=\"middle\" x=\"698.5\" y=\"-527.8\" font-family=\"Helvetica,sans-Serif\" font-size=\"14.00\" fill=\"#000000\">samples = 173</text>\n<text text-anchor=\"middle\" x=\"698.5\" y=\"-512.8\" font-family=\"Helvetica,sans-Serif\" font-size=\"14.00\" fill=\"#000000\">value = 305775.283</text>\n</g>\n<!-- 0&#45;&gt;12 -->\n<g id=\"edge12\" class=\"edge\">\n<title>0&#45;&gt;12</title>\n<path fill=\"none\" stroke=\"#000000\" d=\"M634.6066,-608.9465C642.8901,-599.8782 651.9318,-589.9799 660.5379,-580.5585\"/>\n<polygon fill=\"#000000\" stroke=\"#000000\" points=\"663.1633,-582.8739 667.3236,-573.13 657.995,-578.1528 663.1633,-582.8739\"/>\n<text text-anchor=\"middle\" x=\"668.4531\" y=\"-594.4045\" font-family=\"Helvetica,sans-Serif\" font-size=\"14.00\" fill=\"#000000\">False</text>\n</g>\n<!-- 2 -->\n<g id=\"node3\" class=\"node\">\n<title>2</title>\n<path fill=\"#e58139\" fill-opacity=\"0.227451\" stroke=\"#000000\" d=\"M394,-469C394,-469 247,-469 247,-469 241,-469 235,-463 235,-457 235,-457 235,-413 235,-413 235,-407 241,-401 247,-401 247,-401 394,-401 394,-401 400,-401 406,-407 406,-413 406,-413 406,-457 406,-457 406,-463 400,-469 394,-469\"/>\n<text text-anchor=\"middle\" x=\"320.5\" y=\"-453.8\" font-family=\"Helvetica,sans-Serif\" font-size=\"14.00\" fill=\"#000000\">OverallQual &lt;= 5.5</text>\n<text text-anchor=\"middle\" x=\"320.5\" y=\"-438.8\" font-family=\"Helvetica,sans-Serif\" font-size=\"14.00\" fill=\"#000000\">mse = 1264708767.213</text>\n<text text-anchor=\"middle\" x=\"320.5\" y=\"-423.8\" font-family=\"Helvetica,sans-Serif\" font-size=\"14.00\" fill=\"#000000\">samples = 666</text>\n<text text-anchor=\"middle\" x=\"320.5\" y=\"-408.8\" font-family=\"Helvetica,sans-Serif\" font-size=\"14.00\" fill=\"#000000\">value = 143222.637</text>\n</g>\n<!-- 1&#45;&gt;2 -->\n<g id=\"edge2\" class=\"edge\">\n<title>1&#45;&gt;2</title>\n<path fill=\"none\" stroke=\"#000000\" d=\"M447.6143,-504.9465C429.6659,-495.0701 409.9284,-484.2093 391.4699,-474.0522\"/>\n<polygon fill=\"#000000\" stroke=\"#000000\" points=\"392.9733,-470.8846 382.5247,-469.13 389.5985,-477.0174 392.9733,-470.8846\"/>\n</g>\n<!-- 11 -->\n<g id=\"node12\" class=\"node\">\n<title>11</title>\n<path fill=\"#e58139\" fill-opacity=\"0.403922\" stroke=\"#000000\" d=\"M583,-461.5C583,-461.5 436,-461.5 436,-461.5 430,-461.5 424,-455.5 424,-449.5 424,-449.5 424,-420.5 424,-420.5 424,-414.5 430,-408.5 436,-408.5 436,-408.5 583,-408.5 583,-408.5 589,-408.5 595,-414.5 595,-420.5 595,-420.5 595,-449.5 595,-449.5 595,-455.5 589,-461.5 583,-461.5\"/>\n<text text-anchor=\"middle\" x=\"509.5\" y=\"-446.3\" font-family=\"Helvetica,sans-Serif\" font-size=\"14.00\" fill=\"#000000\">mse = 1985166008.771</text>\n<text text-anchor=\"middle\" x=\"509.5\" y=\"-431.3\" font-family=\"Helvetica,sans-Serif\" font-size=\"14.00\" fill=\"#000000\">samples = 257</text>\n<text text-anchor=\"middle\" x=\"509.5\" y=\"-416.3\" font-family=\"Helvetica,sans-Serif\" font-size=\"14.00\" fill=\"#000000\">value = 207638.409</text>\n</g>\n<!-- 1&#45;&gt;11 -->\n<g id=\"edge11\" class=\"edge\">\n<title>1&#45;&gt;11</title>\n<path fill=\"none\" stroke=\"#000000\" d=\"M509.5,-504.9465C509.5,-494.2621 509.5,-482.4254 509.5,-471.5742\"/>\n<polygon fill=\"#000000\" stroke=\"#000000\" points=\"513.0001,-471.5421 509.5,-461.5422 506.0001,-471.5422 513.0001,-471.5421\"/>\n</g>\n<!-- 3 -->\n<g id=\"node4\" class=\"node\">\n<title>3</title>\n<path fill=\"#e58139\" fill-opacity=\"0.188235\" stroke=\"#000000\" d=\"M298,-365C298,-365 159,-365 159,-365 153,-365 147,-359 147,-353 147,-353 147,-309 147,-309 147,-303 153,-297 159,-297 159,-297 298,-297 298,-297 304,-297 310,-303 310,-309 310,-309 310,-353 310,-353 310,-359 304,-365 298,-365\"/>\n<text text-anchor=\"middle\" x=\"228.5\" y=\"-349.8\" font-family=\"Helvetica,sans-Serif\" font-size=\"14.00\" fill=\"#000000\">OverallQual &lt;= 4.5</text>\n<text text-anchor=\"middle\" x=\"228.5\" y=\"-334.8\" font-family=\"Helvetica,sans-Serif\" font-size=\"14.00\" fill=\"#000000\">mse = 830767392.054</text>\n<text text-anchor=\"middle\" x=\"228.5\" y=\"-319.8\" font-family=\"Helvetica,sans-Serif\" font-size=\"14.00\" fill=\"#000000\">samples = 381</text>\n<text text-anchor=\"middle\" x=\"228.5\" y=\"-304.8\" font-family=\"Helvetica,sans-Serif\" font-size=\"14.00\" fill=\"#000000\">value = 128588.333</text>\n</g>\n<!-- 2&#45;&gt;3 -->\n<g id=\"edge3\" class=\"edge\">\n<title>2&#45;&gt;3</title>\n<path fill=\"none\" stroke=\"#000000\" d=\"M290.3758,-400.9465C282.4332,-391.968 273.7709,-382.1758 265.511,-372.8385\"/>\n<polygon fill=\"#000000\" stroke=\"#000000\" points=\"267.9392,-370.301 258.6919,-365.13 262.6962,-374.939 267.9392,-370.301\"/>\n</g>\n<!-- 10 -->\n<g id=\"node11\" class=\"node\">\n<title>10</title>\n<path fill=\"#e58139\" fill-opacity=\"0.282353\" stroke=\"#000000\" d=\"M487,-357.5C487,-357.5 340,-357.5 340,-357.5 334,-357.5 328,-351.5 328,-345.5 328,-345.5 328,-316.5 328,-316.5 328,-310.5 334,-304.5 340,-304.5 340,-304.5 487,-304.5 487,-304.5 493,-304.5 499,-310.5 499,-316.5 499,-316.5 499,-345.5 499,-345.5 499,-351.5 493,-357.5 487,-357.5\"/>\n<text text-anchor=\"middle\" x=\"413.5\" y=\"-342.3\" font-family=\"Helvetica,sans-Serif\" font-size=\"14.00\" fill=\"#000000\">mse = 1175777550.904</text>\n<text text-anchor=\"middle\" x=\"413.5\" y=\"-327.3\" font-family=\"Helvetica,sans-Serif\" font-size=\"14.00\" fill=\"#000000\">samples = 285</text>\n<text text-anchor=\"middle\" x=\"413.5\" y=\"-312.3\" font-family=\"Helvetica,sans-Serif\" font-size=\"14.00\" fill=\"#000000\">value = 162786.389</text>\n</g>\n<!-- 2&#45;&gt;10 -->\n<g id=\"edge10\" class=\"edge\">\n<title>2&#45;&gt;10</title>\n<path fill=\"none\" stroke=\"#000000\" d=\"M350.9517,-400.9465C361.1955,-389.491 372.6238,-376.711 382.8805,-365.2412\"/>\n<polygon fill=\"#000000\" stroke=\"#000000\" points=\"385.7083,-367.3295 389.7652,-357.5422 380.4903,-362.6634 385.7083,-367.3295\"/>\n</g>\n<!-- 4 -->\n<g id=\"node5\" class=\"node\">\n<title>4</title>\n<path fill=\"#e58139\" fill-opacity=\"0.129412\" stroke=\"#000000\" d=\"M208,-261C208,-261 69,-261 69,-261 63,-261 57,-255 57,-249 57,-249 57,-205 57,-205 57,-199 63,-193 69,-193 69,-193 208,-193 208,-193 214,-193 220,-199 220,-205 220,-205 220,-249 220,-249 220,-255 214,-261 208,-261\"/>\n<text text-anchor=\"middle\" x=\"138.5\" y=\"-245.8\" font-family=\"Helvetica,sans-Serif\" font-size=\"14.00\" fill=\"#000000\">OverallQual &lt;= 2.5</text>\n<text text-anchor=\"middle\" x=\"138.5\" y=\"-230.8\" font-family=\"Helvetica,sans-Serif\" font-size=\"14.00\" fill=\"#000000\">mse = 540720828.402</text>\n<text text-anchor=\"middle\" x=\"138.5\" y=\"-215.8\" font-family=\"Helvetica,sans-Serif\" font-size=\"14.00\" fill=\"#000000\">samples = 85</text>\n<text text-anchor=\"middle\" x=\"138.5\" y=\"-200.8\" font-family=\"Helvetica,sans-Serif\" font-size=\"14.00\" fill=\"#000000\">value = 107056.612</text>\n</g>\n<!-- 3&#45;&gt;4 -->\n<g id=\"edge4\" class=\"edge\">\n<title>3&#45;&gt;4</title>\n<path fill=\"none\" stroke=\"#000000\" d=\"M199.0306,-296.9465C191.2607,-287.968 182.7868,-278.1758 174.7064,-268.8385\"/>\n<polygon fill=\"#000000\" stroke=\"#000000\" points=\"177.226,-266.4014 168.0356,-261.13 171.9328,-270.982 177.226,-266.4014\"/>\n</g>\n<!-- 9 -->\n<g id=\"node10\" class=\"node\">\n<title>9</title>\n<path fill=\"#e58139\" fill-opacity=\"0.203922\" stroke=\"#000000\" d=\"M389,-253.5C389,-253.5 250,-253.5 250,-253.5 244,-253.5 238,-247.5 238,-241.5 238,-241.5 238,-212.5 238,-212.5 238,-206.5 244,-200.5 250,-200.5 250,-200.5 389,-200.5 389,-200.5 395,-200.5 401,-206.5 401,-212.5 401,-212.5 401,-241.5 401,-241.5 401,-247.5 395,-253.5 389,-253.5\"/>\n<text text-anchor=\"middle\" x=\"319.5\" y=\"-238.3\" font-family=\"Helvetica,sans-Serif\" font-size=\"14.00\" fill=\"#000000\">mse = 742694422.218</text>\n<text text-anchor=\"middle\" x=\"319.5\" y=\"-223.3\" font-family=\"Helvetica,sans-Serif\" font-size=\"14.00\" fill=\"#000000\">samples = 296</text>\n<text text-anchor=\"middle\" x=\"319.5\" y=\"-208.3\" font-family=\"Helvetica,sans-Serif\" font-size=\"14.00\" fill=\"#000000\">value = 134771.429</text>\n</g>\n<!-- 3&#45;&gt;9 -->\n<g id=\"edge9\" class=\"edge\">\n<title>3&#45;&gt;9</title>\n<path fill=\"none\" stroke=\"#000000\" d=\"M258.2968,-296.9465C268.3204,-285.491 279.5028,-272.711 289.539,-261.2412\"/>\n<polygon fill=\"#000000\" stroke=\"#000000\" points=\"292.3246,-263.3727 296.2756,-253.5422 287.0565,-258.7632 292.3246,-263.3727\"/>\n</g>\n<!-- 5 -->\n<g id=\"node6\" class=\"node\">\n<title>5</title>\n<path fill=\"transparent\" stroke=\"#000000\" d=\"M109,-149.5C109,-149.5 12,-149.5 12,-149.5 6,-149.5 0,-143.5 0,-137.5 0,-137.5 0,-108.5 0,-108.5 0,-102.5 6,-96.5 12,-96.5 12,-96.5 109,-96.5 109,-96.5 115,-96.5 121,-102.5 121,-108.5 121,-108.5 121,-137.5 121,-137.5 121,-143.5 115,-149.5 109,-149.5\"/>\n<text text-anchor=\"middle\" x=\"60.5\" y=\"-134.3\" font-family=\"Helvetica,sans-Serif\" font-size=\"14.00\" fill=\"#000000\">mse = 0.0</text>\n<text text-anchor=\"middle\" x=\"60.5\" y=\"-119.3\" font-family=\"Helvetica,sans-Serif\" font-size=\"14.00\" fill=\"#000000\">samples = 1</text>\n<text text-anchor=\"middle\" x=\"60.5\" y=\"-104.3\" font-family=\"Helvetica,sans-Serif\" font-size=\"14.00\" fill=\"#000000\">value = 60000.0</text>\n</g>\n<!-- 4&#45;&gt;5 -->\n<g id=\"edge5\" class=\"edge\">\n<title>4&#45;&gt;5</title>\n<path fill=\"none\" stroke=\"#000000\" d=\"M112.9599,-192.9465C104.4509,-181.6012 94.9675,-168.9567 86.4293,-157.5724\"/>\n<polygon fill=\"#000000\" stroke=\"#000000\" points=\"89.2067,-155.4422 80.4066,-149.5422 83.6067,-159.6422 89.2067,-155.4422\"/>\n</g>\n<!-- 6 -->\n<g id=\"node7\" class=\"node\">\n<title>6</title>\n<path fill=\"#e58139\" fill-opacity=\"0.129412\" stroke=\"#000000\" d=\"M282,-157C282,-157 151,-157 151,-157 145,-157 139,-151 139,-145 139,-145 139,-101 139,-101 139,-95 145,-89 151,-89 151,-89 282,-89 282,-89 288,-89 294,-95 294,-101 294,-101 294,-145 294,-145 294,-151 288,-157 282,-157\"/>\n<text text-anchor=\"middle\" x=\"216.5\" y=\"-141.8\" font-family=\"Helvetica,sans-Serif\" font-size=\"14.00\" fill=\"#000000\">OverallQual &lt;= 3.5</text>\n<text text-anchor=\"middle\" x=\"216.5\" y=\"-126.8\" font-family=\"Helvetica,sans-Serif\" font-size=\"14.00\" fill=\"#000000\">mse = 520483151.13</text>\n<text text-anchor=\"middle\" x=\"216.5\" y=\"-111.8\" font-family=\"Helvetica,sans-Serif\" font-size=\"14.00\" fill=\"#000000\">samples = 84</text>\n<text text-anchor=\"middle\" x=\"216.5\" y=\"-96.8\" font-family=\"Helvetica,sans-Serif\" font-size=\"14.00\" fill=\"#000000\">value = 107616.81</text>\n</g>\n<!-- 4&#45;&gt;6 -->\n<g id=\"edge6\" class=\"edge\">\n<title>4&#45;&gt;6</title>\n<path fill=\"none\" stroke=\"#000000\" d=\"M164.0401,-192.9465C170.6393,-184.1475 177.8246,-174.5672 184.7005,-165.3993\"/>\n<polygon fill=\"#000000\" stroke=\"#000000\" points=\"187.7025,-167.23 190.9025,-157.13 182.1025,-163.03 187.7025,-167.23\"/>\n</g>\n<!-- 7 -->\n<g id=\"node8\" class=\"node\">\n<title>7</title>\n<path fill=\"#e58139\" fill-opacity=\"0.105882\" stroke=\"#000000\" d=\"M195,-53C195,-53 56,-53 56,-53 50,-53 44,-47 44,-41 44,-41 44,-12 44,-12 44,-6 50,0 56,0 56,0 195,0 195,0 201,0 207,-6 207,-12 207,-12 207,-41 207,-41 207,-47 201,-53 195,-53\"/>\n<text text-anchor=\"middle\" x=\"125.5\" y=\"-37.8\" font-family=\"Helvetica,sans-Serif\" font-size=\"14.00\" fill=\"#000000\">mse = 484164388.021</text>\n<text text-anchor=\"middle\" x=\"125.5\" y=\"-22.8\" font-family=\"Helvetica,sans-Serif\" font-size=\"14.00\" fill=\"#000000\">samples = 12</text>\n<text text-anchor=\"middle\" x=\"125.5\" y=\"-7.8\" font-family=\"Helvetica,sans-Serif\" font-size=\"14.00\" fill=\"#000000\">value = 98256.25</text>\n</g>\n<!-- 6&#45;&gt;7 -->\n<g id=\"edge7\" class=\"edge\">\n<title>6&#45;&gt;7</title>\n<path fill=\"none\" stroke=\"#000000\" d=\"M184.4168,-88.9777C175.7817,-79.8207 166.4386,-69.9129 157.7922,-60.744\"/>\n<polygon fill=\"#000000\" stroke=\"#000000\" points=\"160.1311,-58.1226 150.724,-53.2485 155.0383,-62.9251 160.1311,-58.1226\"/>\n</g>\n<!-- 8 -->\n<g id=\"node9\" class=\"node\">\n<title>8</title>\n<path fill=\"#e58139\" fill-opacity=\"0.133333\" stroke=\"#000000\" d=\"M376,-53C376,-53 237,-53 237,-53 231,-53 225,-47 225,-41 225,-41 225,-12 225,-12 225,-6 231,0 237,0 237,0 376,0 376,0 382,0 388,-6 388,-12 388,-12 388,-41 388,-41 388,-47 382,-53 376,-53\"/>\n<text text-anchor=\"middle\" x=\"306.5\" y=\"-37.8\" font-family=\"Helvetica,sans-Serif\" font-size=\"14.00\" fill=\"#000000\">mse = 509499041.588</text>\n<text text-anchor=\"middle\" x=\"306.5\" y=\"-22.8\" font-family=\"Helvetica,sans-Serif\" font-size=\"14.00\" fill=\"#000000\">samples = 72</text>\n<text text-anchor=\"middle\" x=\"306.5\" y=\"-7.8\" font-family=\"Helvetica,sans-Serif\" font-size=\"14.00\" fill=\"#000000\">value = 109176.903</text>\n</g>\n<!-- 6&#45;&gt;8 -->\n<g id=\"edge8\" class=\"edge\">\n<title>6&#45;&gt;8</title>\n<path fill=\"none\" stroke=\"#000000\" d=\"M248.2306,-88.9777C256.7708,-79.8207 266.0113,-69.9129 274.5626,-60.744\"/>\n<polygon fill=\"#000000\" stroke=\"#000000\" points=\"277.2923,-62.9488 281.5532,-53.2485 272.1731,-58.1744 277.2923,-62.9488\"/>\n</g>\n<!-- 13 -->\n<g id=\"node14\" class=\"node\">\n<title>13</title>\n<path fill=\"#e58139\" fill-opacity=\"0.592157\" stroke=\"#000000\" d=\"M772,-461.5C772,-461.5 625,-461.5 625,-461.5 619,-461.5 613,-455.5 613,-449.5 613,-449.5 613,-420.5 613,-420.5 613,-414.5 619,-408.5 625,-408.5 625,-408.5 772,-408.5 772,-408.5 778,-408.5 784,-414.5 784,-420.5 784,-420.5 784,-449.5 784,-449.5 784,-455.5 778,-461.5 772,-461.5\"/>\n<text text-anchor=\"middle\" x=\"698.5\" y=\"-446.3\" font-family=\"Helvetica,sans-Serif\" font-size=\"14.00\" fill=\"#000000\">mse = 4056917173.333</text>\n<text text-anchor=\"middle\" x=\"698.5\" y=\"-431.3\" font-family=\"Helvetica,sans-Serif\" font-size=\"14.00\" fill=\"#000000\">samples = 127</text>\n<text text-anchor=\"middle\" x=\"698.5\" y=\"-416.3\" font-family=\"Helvetica,sans-Serif\" font-size=\"14.00\" fill=\"#000000\">value = 276694.441</text>\n</g>\n<!-- 12&#45;&gt;13 -->\n<g id=\"edge13\" class=\"edge\">\n<title>12&#45;&gt;13</title>\n<path fill=\"none\" stroke=\"#000000\" d=\"M698.5,-504.9465C698.5,-494.2621 698.5,-482.4254 698.5,-471.5742\"/>\n<polygon fill=\"#000000\" stroke=\"#000000\" points=\"702.0001,-471.5421 698.5,-461.5422 695.0001,-471.5422 702.0001,-471.5421\"/>\n</g>\n<!-- 14 -->\n<g id=\"node15\" class=\"node\">\n<title>14</title>\n<path fill=\"#e58139\" fill-opacity=\"0.890196\" stroke=\"#000000\" d=\"M969,-469C969,-469 814,-469 814,-469 808,-469 802,-463 802,-457 802,-457 802,-413 802,-413 802,-407 808,-401 814,-401 814,-401 969,-401 969,-401 975,-401 981,-407 981,-413 981,-413 981,-457 981,-457 981,-463 975,-469 969,-469\"/>\n<text text-anchor=\"middle\" x=\"891.5\" y=\"-453.8\" font-family=\"Helvetica,sans-Serif\" font-size=\"14.00\" fill=\"#000000\">OverallQual &lt;= 9.5</text>\n<text text-anchor=\"middle\" x=\"891.5\" y=\"-438.8\" font-family=\"Helvetica,sans-Serif\" font-size=\"14.00\" fill=\"#000000\">mse = 13849035328.777</text>\n<text text-anchor=\"middle\" x=\"891.5\" y=\"-423.8\" font-family=\"Helvetica,sans-Serif\" font-size=\"14.00\" fill=\"#000000\">samples = 46</text>\n<text text-anchor=\"middle\" x=\"891.5\" y=\"-408.8\" font-family=\"Helvetica,sans-Serif\" font-size=\"14.00\" fill=\"#000000\">value = 386063.696</text>\n</g>\n<!-- 12&#45;&gt;14 -->\n<g id=\"edge14\" class=\"edge\">\n<title>12&#45;&gt;14</title>\n<path fill=\"none\" stroke=\"#000000\" d=\"M761.6954,-504.9465C780.107,-495.0252 800.3623,-484.1105 819.285,-473.9138\"/>\n<polygon fill=\"#000000\" stroke=\"#000000\" points=\"821.0197,-476.9549 828.1626,-469.13 817.699,-470.7926 821.0197,-476.9549\"/>\n</g>\n<!-- 15 -->\n<g id=\"node16\" class=\"node\">\n<title>15</title>\n<path fill=\"#e58139\" fill-opacity=\"0.862745\" stroke=\"#000000\" d=\"M872,-357.5C872,-357.5 725,-357.5 725,-357.5 719,-357.5 713,-351.5 713,-345.5 713,-345.5 713,-316.5 713,-316.5 713,-310.5 719,-304.5 725,-304.5 725,-304.5 872,-304.5 872,-304.5 878,-304.5 884,-310.5 884,-316.5 884,-316.5 884,-345.5 884,-345.5 884,-351.5 878,-357.5 872,-357.5\"/>\n<text text-anchor=\"middle\" x=\"798.5\" y=\"-342.3\" font-family=\"Helvetica,sans-Serif\" font-size=\"14.00\" fill=\"#000000\">mse = 6884656720.812</text>\n<text text-anchor=\"middle\" x=\"798.5\" y=\"-327.3\" font-family=\"Helvetica,sans-Serif\" font-size=\"14.00\" fill=\"#000000\">samples = 36</text>\n<text text-anchor=\"middle\" x=\"798.5\" y=\"-312.3\" font-family=\"Helvetica,sans-Serif\" font-size=\"14.00\" fill=\"#000000\">value = 375020.278</text>\n</g>\n<!-- 14&#45;&gt;15 -->\n<g id=\"edge15\" class=\"edge\">\n<title>14&#45;&gt;15</title>\n<path fill=\"none\" stroke=\"#000000\" d=\"M861.0483,-400.9465C850.8045,-389.491 839.3762,-376.711 829.1195,-365.2412\"/>\n<polygon fill=\"#000000\" stroke=\"#000000\" points=\"831.5097,-362.6634 822.2348,-357.5422 826.2917,-367.3295 831.5097,-362.6634\"/>\n</g>\n<!-- 16 -->\n<g id=\"node17\" class=\"node\">\n<title>16</title>\n<path fill=\"#e58139\" stroke=\"#000000\" d=\"M1053,-357.5C1053,-357.5 914,-357.5 914,-357.5 908,-357.5 902,-351.5 902,-345.5 902,-345.5 902,-316.5 902,-316.5 902,-310.5 908,-304.5 914,-304.5 914,-304.5 1053,-304.5 1053,-304.5 1059,-304.5 1065,-310.5 1065,-316.5 1065,-316.5 1065,-345.5 1065,-345.5 1065,-351.5 1059,-357.5 1053,-357.5\"/>\n<text text-anchor=\"middle\" x=\"983.5\" y=\"-342.3\" font-family=\"Helvetica,sans-Serif\" font-size=\"14.00\" fill=\"#000000\">mse = 36901189100.0</text>\n<text text-anchor=\"middle\" x=\"983.5\" y=\"-327.3\" font-family=\"Helvetica,sans-Serif\" font-size=\"14.00\" fill=\"#000000\">samples = 10</text>\n<text text-anchor=\"middle\" x=\"983.5\" y=\"-312.3\" font-family=\"Helvetica,sans-Serif\" font-size=\"14.00\" fill=\"#000000\">value = 425820.0</text>\n</g>\n<!-- 14&#45;&gt;16 -->\n<g id=\"edge16\" class=\"edge\">\n<title>14&#45;&gt;16</title>\n<path fill=\"none\" stroke=\"#000000\" d=\"M921.6242,-400.9465C931.758,-389.491 943.0633,-376.711 953.2097,-365.2412\"/>\n<polygon fill=\"#000000\" stroke=\"#000000\" points=\"956.0161,-367.3512 960.0204,-357.5422 950.7731,-362.7131 956.0161,-367.3512\"/>\n</g>\n</g>\n</svg>\n"
          },
          "metadata": {
            "tags": []
          }
        }
      ]
    },
    {
      "metadata": {
        "id": "S13oMm6eytZv",
        "colab_type": "text"
      },
      "cell_type": "markdown",
      "source": [
        "**Try Multiple Features**"
      ]
    },
    {
      "metadata": {
        "id": "fYiPGal_zbp2",
        "colab_type": "code",
        "colab": {
          "base_uri": "https://localhost:8080/",
          "height": 221
        },
        "outputId": "56e5ac4c-1a0a-429b-e19d-5a261916d919"
      },
      "cell_type": "code",
      "source": [
        "ames_df.columns"
      ],
      "execution_count": 11,
      "outputs": [
        {
          "output_type": "execute_result",
          "data": {
            "text/plain": [
              "Index(['Id', 'MSSubClass', 'LotFrontage', 'LotArea', 'Street', 'LotShape',\n",
              "       'LandContour', 'LandSlope', 'OverallQual', 'OverallCond', 'YearBuilt',\n",
              "       'YearRemodAdd', 'MasVnrArea', 'Foundation', 'BsmtCond', 'BsmtFinSF1',\n",
              "       'BsmtFinSF2', 'BsmtUnfSF', 'TotalBsmtSF', 'HeatingQC', 'CentralAir',\n",
              "       'Electrical', '1stFlrSF', '2ndFlrSF', 'LowQualFinSF', 'GrLivArea',\n",
              "       'BsmtFullBath', 'BsmtHalfBath', 'FullBath', 'HalfBath', 'BedroomAbvGr',\n",
              "       'KitchenAbvGr', 'TotRmsAbvGrd', 'Fireplaces', 'FireplaceQu',\n",
              "       'GarageYrBlt', 'GarageFinish', 'GarageCars', 'GarageArea', 'GarageQual',\n",
              "       'GarageCond', 'PavedDrive', 'WoodDeckSF', 'OpenPorchSF',\n",
              "       'EnclosedPorch', '3SsnPorch', 'ScreenPorch', 'PoolArea', 'MiscVal',\n",
              "       'MoSold', 'YrSold', 'SalePrice', 'ln_SalePrice'],\n",
              "      dtype='object')"
            ]
          },
          "metadata": {
            "tags": []
          },
          "execution_count": 11
        }
      ]
    },
    {
      "metadata": {
        "id": "uLvXoX82_rpr",
        "colab_type": "code",
        "colab": {
          "base_uri": "https://localhost:8080/",
          "height": 34
        },
        "outputId": "5ce2fe97-2ef9-420b-9c8b-3bf5d8aae038"
      },
      "cell_type": "code",
      "source": [
        "target = ['SalePrice']\n",
        "features = ['YearBuilt', 'OverallQual', 'GarageCars',\n",
        "            'OverallCond', 'BedroomAbvGr']\n",
        "x2 = ames_df[features]\n",
        "y2 = ames_df['SalePrice']\n",
        "tree = DecisionTreeRegressor()\n",
        "tree.fit(x2, y2)\n",
        "print(\"R-Squared:\", tree.score(x2, y2))"
      ],
      "execution_count": 13,
      "outputs": [
        {
          "output_type": "stream",
          "text": [
            "R-Squared: 0.937154658029643\n"
          ],
          "name": "stdout"
        }
      ]
    },
    {
      "metadata": {
        "id": "QZ_VMuVShJ9M",
        "colab_type": "code",
        "colab": {}
      },
      "cell_type": "code",
      "source": [
        "x_train, x_test, y_train, y_test = train_test_split(x2, y2, train_size=0.80, test_size=0.20, random_state=42)"
      ],
      "execution_count": 0,
      "outputs": []
    },
    {
      "metadata": {
        "id": "t0ErOUpQhG_j",
        "colab_type": "code",
        "colab": {
          "base_uri": "https://localhost:8080/",
          "height": 340
        },
        "outputId": "930aa200-eac9-4009-92ae-938160e7923b"
      },
      "cell_type": "code",
      "source": [
        "for depth in range(1,20):\n",
        "    tree = DecisionTreeRegressor(max_depth=depth)\n",
        "    # Fitting\n",
        "    tree.fit(x_train, y_train)\n",
        "    # Calculating RMSE\n",
        "    RMSE = (np.sqrt(mean_squared_error(y_test, tree.predict(x_test))))\n",
        "    # Displaying Results\n",
        "    print('max_depth: {} \\t model score: {} \\t Test RMSE: {}'\n",
        "          .format(depth, tree.score(x2, y2), RMSE))"
      ],
      "execution_count": 15,
      "outputs": [
        {
          "output_type": "stream",
          "text": [
            "max_depth: 1 \t model score: 0.459175484241908 \t Test RMSE: 58186.08185258325\n",
            "max_depth: 2 \t model score: 0.6337782266538097 \t Test RMSE: 47343.229465128104\n",
            "max_depth: 3 \t model score: 0.7009229178871061 \t Test RMSE: 44898.31820521612\n",
            "max_depth: 4 \t model score: 0.744620191324092 \t Test RMSE: 47001.796267005266\n",
            "max_depth: 5 \t model score: 0.7699919709352873 \t Test RMSE: 47239.83104090388\n",
            "max_depth: 6 \t model score: 0.7865325001822092 \t Test RMSE: 49242.22528929915\n",
            "max_depth: 7 \t model score: 0.8066535351620794 \t Test RMSE: 49451.27230918966\n",
            "max_depth: 8 \t model score: 0.8159297966739921 \t Test RMSE: 52946.17816051602\n",
            "max_depth: 9 \t model score: 0.8263277971510314 \t Test RMSE: 54493.34853322165\n",
            "max_depth: 10 \t model score: 0.8343049757926349 \t Test RMSE: 55098.41716035566\n",
            "max_depth: 11 \t model score: 0.8354256483900275 \t Test RMSE: 57012.65345046461\n",
            "max_depth: 12 \t model score: 0.8388382118497442 \t Test RMSE: 57101.32044245275\n",
            "max_depth: 13 \t model score: 0.8420146773524078 \t Test RMSE: 56993.03011232075\n",
            "max_depth: 14 \t model score: 0.844707203818517 \t Test RMSE: 56828.50352237648\n",
            "max_depth: 15 \t model score: 0.844047421783453 \t Test RMSE: 57639.85662101717\n",
            "max_depth: 16 \t model score: 0.8464404719879973 \t Test RMSE: 57352.8434573993\n",
            "max_depth: 17 \t model score: 0.8471252148847386 \t Test RMSE: 57422.16201842137\n",
            "max_depth: 18 \t model score: 0.8454957863961585 \t Test RMSE: 58039.30624949095\n",
            "max_depth: 19 \t model score: 0.8487060087181659 \t Test RMSE: 57265.69654292306\n"
          ],
          "name": "stdout"
        }
      ]
    },
    {
      "metadata": {
        "id": "nv5dgqnrasXU",
        "colab_type": "code",
        "colab": {}
      },
      "cell_type": "code",
      "source": [
        "# Run the cell to see tree...sorry\n",
        "display(viztree(tree, features))"
      ],
      "execution_count": 0,
      "outputs": []
    },
    {
      "metadata": {
        "id": "WjaeUiKQhFXu",
        "colab_type": "text"
      },
      "cell_type": "markdown",
      "source": [
        "\n",
        "\n",
        "---\n",
        "\n"
      ]
    },
    {
      "metadata": {
        "id": "zae33272a1Nz",
        "colab_type": "code",
        "colab": {
          "base_uri": "https://localhost:8080/",
          "height": 34
        },
        "outputId": "cf4fa95c-a665-4d83-fba3-85eb9e596c38"
      },
      "cell_type": "code",
      "source": [
        "# Best Score So Far...\n",
        "target = ['SalePrice']\n",
        "features = ['YearBuilt', 'YearRemodAdd', 'LotArea', 'TotRmsAbvGrd']\n",
        "x3 = ames_df[features]\n",
        "y3 = ames_df[target]\n",
        "tree = DecisionTreeRegressor()\n",
        "tree.fit(x3, y3)\n",
        "print(\"R-Squared:\", tree.score(x3, y3))"
      ],
      "execution_count": 18,
      "outputs": [
        {
          "output_type": "stream",
          "text": [
            "R-Squared: 0.9998196727377842\n"
          ],
          "name": "stdout"
        }
      ]
    },
    {
      "metadata": {
        "id": "nGMdnW7IgU7G",
        "colab_type": "code",
        "colab": {}
      },
      "cell_type": "code",
      "source": [
        "# Splitting into Train and Test\n",
        "x_train, x_test, y_train, y_test = train_test_split(x3, y3, train_size=0.80, test_size=0.20, random_state=42)"
      ],
      "execution_count": 0,
      "outputs": []
    },
    {
      "metadata": {
        "id": "AsikD2TggZZA",
        "colab_type": "code",
        "colab": {
          "base_uri": "https://localhost:8080/",
          "height": 340
        },
        "outputId": "54ec02cb-6c54-43c8-a0d9-611bdeb8f2e9"
      },
      "cell_type": "code",
      "source": [
        "for depth in range(1,20):\n",
        "    tree = DecisionTreeRegressor(max_depth=depth)\n",
        "    # Fitting the Model\n",
        "    tree.fit(x_train, y_train)\n",
        "    # Calculating RMSE\n",
        "    rmse = (np.sqrt(mean_squared_error(y_test, tree.predict(x_test))))\n",
        "    # Displaying Results\n",
        "    print('max_depth: {} \\t model score: {} \\t Test RMSE: {}'\n",
        "          .format(depth, tree.score(x3, y3), RMSE))"
      ],
      "execution_count": 20,
      "outputs": [
        {
          "output_type": "stream",
          "text": [
            "max_depth: 1 \t model score: 0.3173299388756933 \t Test RMSE: 66503.61941739704\n",
            "max_depth: 2 \t model score: 0.48532771694159593 \t Test RMSE: 59734.842595585804\n",
            "max_depth: 3 \t model score: 0.5602504456008203 \t Test RMSE: 58271.622820421355\n",
            "max_depth: 4 \t model score: 0.6211957385182199 \t Test RMSE: 55141.955691258954\n",
            "max_depth: 5 \t model score: 0.6688998353053892 \t Test RMSE: 53702.888392139714\n",
            "max_depth: 6 \t model score: 0.7255372716235553 \t Test RMSE: 53360.341736592505\n",
            "max_depth: 7 \t model score: 0.774374964985747 \t Test RMSE: 51224.3718593822\n",
            "max_depth: 8 \t model score: 0.7907128063107065 \t Test RMSE: 55828.58174512123\n",
            "max_depth: 9 \t model score: 0.8198272004657738 \t Test RMSE: 55722.677294363966\n",
            "max_depth: 10 \t model score: 0.8370021196126392 \t Test RMSE: 56289.307244445685\n",
            "max_depth: 11 \t model score: 0.8503544749884518 \t Test RMSE: 58569.5433990881\n",
            "max_depth: 12 \t model score: 0.8640797737212775 \t Test RMSE: 58123.30316869852\n",
            "max_depth: 13 \t model score: 0.8613915669500785 \t Test RMSE: 61230.57410219483\n",
            "max_depth: 14 \t model score: 0.8686127387967252 \t Test RMSE: 61064.3650451398\n",
            "max_depth: 15 \t model score: 0.8710144906233616 \t Test RMSE: 61184.682545553376\n",
            "max_depth: 16 \t model score: 0.8751873664209049 \t Test RMSE: 60864.75086652142\n",
            "max_depth: 17 \t model score: 0.8775102879550911 \t Test RMSE: 60882.72477313713\n",
            "max_depth: 18 \t model score: 0.8885611875934241 \t Test RMSE: 58360.8506164413\n",
            "max_depth: 19 \t model score: 0.8765766477707654 \t Test RMSE: 61641.871402376906\n"
          ],
          "name": "stdout"
        }
      ]
    },
    {
      "metadata": {
        "id": "LXWwlTTcdvJn",
        "colab_type": "code",
        "colab": {}
      },
      "cell_type": "code",
      "source": [
        "# Run to see tree..\n",
        "display(viztree(tree, features))"
      ],
      "execution_count": 0,
      "outputs": []
    },
    {
      "metadata": {
        "id": "qme8f3LviISi",
        "colab_type": "text"
      },
      "cell_type": "markdown",
      "source": [
        "\n",
        "\n",
        "---\n",
        "\n"
      ]
    },
    {
      "metadata": {
        "id": "nT8U6ZZicCoR",
        "colab_type": "code",
        "colab": {
          "base_uri": "https://localhost:8080/",
          "height": 34
        },
        "outputId": "1f097ef8-3676-4f8c-fc0f-e93e8bc45fa0"
      },
      "cell_type": "code",
      "source": [
        "# Nevermind...this score is great\n",
        "target = ['SalePrice']\n",
        "features = ['LotArea','OverallQual', 'OverallCond',\n",
        "           'YearBuilt','TotRmsAbvGrd']\n",
        "x4 = ames_df[features]\n",
        "y4 = ames_df[target]\n",
        "tree = DecisionTreeRegressor()\n",
        "tree.fit(x4, y4)\n",
        "print(\"R-Squared:\", tree.score(x4, y4))"
      ],
      "execution_count": 22,
      "outputs": [
        {
          "output_type": "stream",
          "text": [
            "R-Squared: 0.9998744499881178\n"
          ],
          "name": "stdout"
        }
      ]
    },
    {
      "metadata": {
        "id": "Zo1rZ4ULiJze",
        "colab_type": "code",
        "colab": {}
      },
      "cell_type": "code",
      "source": [
        "# Splitting into Train and Test\n",
        "x_train, x_test, y_train, y_test = train_test_split(x4, y4, train_size=0.80, test_size=0.20, random_state=42)"
      ],
      "execution_count": 0,
      "outputs": []
    },
    {
      "metadata": {
        "id": "rzZqCBfIiPDf",
        "colab_type": "code",
        "colab": {
          "base_uri": "https://localhost:8080/",
          "height": 340
        },
        "outputId": "baebb3d1-f81a-46ce-bfde-a401e6befe10"
      },
      "cell_type": "code",
      "source": [
        "for depth in range(1,20):\n",
        "    tree = DecisionTreeRegressor(max_depth=depth)\n",
        "    # Fitting the model\n",
        "    tree.fit(x_train, y_train)\n",
        "    # Calculating RMSE\n",
        "    RMSE = (np.sqrt(mean_squared_error(y_test, tree.predict(x_test))))\n",
        "    # Displaying Results\n",
        "    print('max_depth: {} \\t model score: {} \\t Test RMSE: {}'\n",
        "          .format(depth, tree.score(x4, y4), RMSE))"
      ],
      "execution_count": 24,
      "outputs": [
        {
          "output_type": "stream",
          "text": [
            "max_depth: 1 \t model score: 0.459175484241908 \t Test RMSE: 58186.08185258325\n",
            "max_depth: 2 \t model score: 0.6337782266538097 \t Test RMSE: 47343.229465128104\n",
            "max_depth: 3 \t model score: 0.701837357489313 \t Test RMSE: 46115.18508651876\n",
            "max_depth: 4 \t model score: 0.7448467944002726 \t Test RMSE: 48658.655137915805\n",
            "max_depth: 5 \t model score: 0.7835444019761124 \t Test RMSE: 47900.354060962665\n",
            "max_depth: 6 \t model score: 0.8155161140936822 \t Test RMSE: 47171.59348823174\n",
            "max_depth: 7 \t model score: 0.8411377156791489 \t Test RMSE: 46715.70723962649\n",
            "max_depth: 8 \t model score: 0.8562026376559555 \t Test RMSE: 48685.11864795951\n",
            "max_depth: 9 \t model score: 0.8730968874798769 \t Test RMSE: 49324.54351771941\n",
            "max_depth: 10 \t model score: 0.8861161101995043 \t Test RMSE: 50246.8106160047\n",
            "max_depth: 11 \t model score: 0.8979245224746931 \t Test RMSE: 49591.341937085155\n",
            "max_depth: 12 \t model score: 0.9088454129600784 \t Test RMSE: 47904.46678778556\n",
            "max_depth: 13 \t model score: 0.9062252756370612 \t Test RMSE: 50595.23797686816\n",
            "max_depth: 14 \t model score: 0.9110752142169269 \t Test RMSE: 50404.87951875609\n",
            "max_depth: 15 \t model score: 0.9115481787068718 \t Test RMSE: 50931.17435400472\n",
            "max_depth: 16 \t model score: 0.9085096196393674 \t Test RMSE: 52481.24380505924\n",
            "max_depth: 17 \t model score: 0.9106799357518086 \t Test RMSE: 52255.56518193579\n",
            "max_depth: 18 \t model score: 0.9105745033508518 \t Test RMSE: 52512.461191926974\n",
            "max_depth: 19 \t model score: 0.9108247743153672 \t Test RMSE: 52554.53379904391\n"
          ],
          "name": "stdout"
        }
      ]
    },
    {
      "metadata": {
        "id": "46zSFVkvdwK4",
        "colab_type": "code",
        "colab": {}
      },
      "cell_type": "code",
      "source": [
        "# Run to see tree\n",
        "display(viztree(tree, features))"
      ],
      "execution_count": 0,
      "outputs": []
    },
    {
      "metadata": {
        "colab_type": "text",
        "id": "kWm7mMlH9sl2"
      },
      "cell_type": "markdown",
      "source": [
        "## Part 2 / Stretch: \"Play Tennis\" Classification"
      ]
    },
    {
      "metadata": {
        "colab_type": "text",
        "id": "2f5-S87kg6gJ"
      },
      "cell_type": "markdown",
      "source": [
        "We'll reproduce the \"Play Tennis\" example from Ross Quinlan's 1986 paper, [Induction of Decison Trees](https://link.springer.com/content/pdf/10.1007%2FBF00116251.pdf).\n",
        "\n",
        "[According to Wikipedia](https://en.wikipedia.org/wiki/Ross_Quinlan), \"John Ross Quinlan is a computer science researcher in data mining and decision theory. He has contributed extensively to the development of decision tree algorithms, including inventing the canonical C4.5 and ID3 algorithms.\""
      ]
    },
    {
      "metadata": {
        "colab_type": "text",
        "id": "Qfv6Zwdoje7_"
      },
      "cell_type": "markdown",
      "source": [
        "#### \"Table 1 shows a small training set\""
      ]
    },
    {
      "metadata": {
        "colab_type": "code",
        "id": "oUE-G0pgg58u",
        "colab": {
          "base_uri": "https://localhost:8080/",
          "height": 514
        },
        "outputId": "7ba0c781-4416-41f0-dc19-af8ef7dcea6c"
      },
      "cell_type": "code",
      "source": [
        "import pandas as pd\n",
        "\n",
        "columns = 'No. Outlook Temperature Humidity Windy PlayTennis'.split()\n",
        "\n",
        "raw = \"\"\"1 sunny hot high false N\n",
        "2 sunny hot high true N\n",
        "3 overcast hot high false P\n",
        "4 rain mild high false P\n",
        "5 rain cool normal false P\n",
        "6 rain cool normal true N\n",
        "7 overcast cool normal true P\n",
        "8 sunny mild high false N\n",
        "9 sunny cool normal false P\n",
        "10 rain mild normal false P\n",
        "11 sunny mild normal true P\n",
        "12 overcast mild high true P\n",
        "13 overcast hot normal false P\n",
        "14 rain mild high true N\"\"\"\n",
        "\n",
        "data = [row.split() for row in raw.split('\\n')]\n",
        "tennis = pd.DataFrame(data=data, columns=columns).set_index('No.')\n",
        "tennis['PlayTennis'] = (tennis['PlayTennis'] == 'P').astype(int)\n",
        "\n",
        "tennis"
      ],
      "execution_count": 45,
      "outputs": [
        {
          "output_type": "execute_result",
          "data": {
            "text/html": [
              "<div>\n",
              "<style scoped>\n",
              "    .dataframe tbody tr th:only-of-type {\n",
              "        vertical-align: middle;\n",
              "    }\n",
              "\n",
              "    .dataframe tbody tr th {\n",
              "        vertical-align: top;\n",
              "    }\n",
              "\n",
              "    .dataframe thead th {\n",
              "        text-align: right;\n",
              "    }\n",
              "</style>\n",
              "<table border=\"1\" class=\"dataframe\">\n",
              "  <thead>\n",
              "    <tr style=\"text-align: right;\">\n",
              "      <th></th>\n",
              "      <th>Outlook</th>\n",
              "      <th>Temperature</th>\n",
              "      <th>Humidity</th>\n",
              "      <th>Windy</th>\n",
              "      <th>PlayTennis</th>\n",
              "    </tr>\n",
              "    <tr>\n",
              "      <th>No.</th>\n",
              "      <th></th>\n",
              "      <th></th>\n",
              "      <th></th>\n",
              "      <th></th>\n",
              "      <th></th>\n",
              "    </tr>\n",
              "  </thead>\n",
              "  <tbody>\n",
              "    <tr>\n",
              "      <th>1</th>\n",
              "      <td>sunny</td>\n",
              "      <td>hot</td>\n",
              "      <td>high</td>\n",
              "      <td>false</td>\n",
              "      <td>0</td>\n",
              "    </tr>\n",
              "    <tr>\n",
              "      <th>2</th>\n",
              "      <td>sunny</td>\n",
              "      <td>hot</td>\n",
              "      <td>high</td>\n",
              "      <td>true</td>\n",
              "      <td>0</td>\n",
              "    </tr>\n",
              "    <tr>\n",
              "      <th>3</th>\n",
              "      <td>overcast</td>\n",
              "      <td>hot</td>\n",
              "      <td>high</td>\n",
              "      <td>false</td>\n",
              "      <td>1</td>\n",
              "    </tr>\n",
              "    <tr>\n",
              "      <th>4</th>\n",
              "      <td>rain</td>\n",
              "      <td>mild</td>\n",
              "      <td>high</td>\n",
              "      <td>false</td>\n",
              "      <td>1</td>\n",
              "    </tr>\n",
              "    <tr>\n",
              "      <th>5</th>\n",
              "      <td>rain</td>\n",
              "      <td>cool</td>\n",
              "      <td>normal</td>\n",
              "      <td>false</td>\n",
              "      <td>1</td>\n",
              "    </tr>\n",
              "    <tr>\n",
              "      <th>6</th>\n",
              "      <td>rain</td>\n",
              "      <td>cool</td>\n",
              "      <td>normal</td>\n",
              "      <td>true</td>\n",
              "      <td>0</td>\n",
              "    </tr>\n",
              "    <tr>\n",
              "      <th>7</th>\n",
              "      <td>overcast</td>\n",
              "      <td>cool</td>\n",
              "      <td>normal</td>\n",
              "      <td>true</td>\n",
              "      <td>1</td>\n",
              "    </tr>\n",
              "    <tr>\n",
              "      <th>8</th>\n",
              "      <td>sunny</td>\n",
              "      <td>mild</td>\n",
              "      <td>high</td>\n",
              "      <td>false</td>\n",
              "      <td>0</td>\n",
              "    </tr>\n",
              "    <tr>\n",
              "      <th>9</th>\n",
              "      <td>sunny</td>\n",
              "      <td>cool</td>\n",
              "      <td>normal</td>\n",
              "      <td>false</td>\n",
              "      <td>1</td>\n",
              "    </tr>\n",
              "    <tr>\n",
              "      <th>10</th>\n",
              "      <td>rain</td>\n",
              "      <td>mild</td>\n",
              "      <td>normal</td>\n",
              "      <td>false</td>\n",
              "      <td>1</td>\n",
              "    </tr>\n",
              "    <tr>\n",
              "      <th>11</th>\n",
              "      <td>sunny</td>\n",
              "      <td>mild</td>\n",
              "      <td>normal</td>\n",
              "      <td>true</td>\n",
              "      <td>1</td>\n",
              "    </tr>\n",
              "    <tr>\n",
              "      <th>12</th>\n",
              "      <td>overcast</td>\n",
              "      <td>mild</td>\n",
              "      <td>high</td>\n",
              "      <td>true</td>\n",
              "      <td>1</td>\n",
              "    </tr>\n",
              "    <tr>\n",
              "      <th>13</th>\n",
              "      <td>overcast</td>\n",
              "      <td>hot</td>\n",
              "      <td>normal</td>\n",
              "      <td>false</td>\n",
              "      <td>1</td>\n",
              "    </tr>\n",
              "    <tr>\n",
              "      <th>14</th>\n",
              "      <td>rain</td>\n",
              "      <td>mild</td>\n",
              "      <td>high</td>\n",
              "      <td>true</td>\n",
              "      <td>0</td>\n",
              "    </tr>\n",
              "  </tbody>\n",
              "</table>\n",
              "</div>"
            ],
            "text/plain": [
              "      Outlook Temperature Humidity  Windy  PlayTennis\n",
              "No.                                                  \n",
              "1       sunny         hot     high  false           0\n",
              "2       sunny         hot     high   true           0\n",
              "3    overcast         hot     high  false           1\n",
              "4        rain        mild     high  false           1\n",
              "5        rain        cool   normal  false           1\n",
              "6        rain        cool   normal   true           0\n",
              "7    overcast        cool   normal   true           1\n",
              "8       sunny        mild     high  false           0\n",
              "9       sunny        cool   normal  false           1\n",
              "10       rain        mild   normal  false           1\n",
              "11      sunny        mild   normal   true           1\n",
              "12   overcast        mild     high   true           1\n",
              "13   overcast         hot   normal  false           1\n",
              "14       rain        mild     high   true           0"
            ]
          },
          "metadata": {
            "tags": []
          },
          "execution_count": 45
        }
      ]
    },
    {
      "metadata": {
        "colab_type": "text",
        "id": "BvFu9kvJj9kk"
      },
      "cell_type": "markdown",
      "source": [
        "#### \"A decision tree that correctly classifies each object in the training set is given in Figure 2.\"\n",
        "\n",
        "<img src=\"https://i.imgur.com/RD7d0u0.png\" height=\"300\">"
      ]
    },
    {
      "metadata": {
        "colab_type": "text",
        "id": "kHkkeALqjNiS"
      },
      "cell_type": "markdown",
      "source": [
        "In this dataset, the tennis player decided to play on 64% of the days, and decided not to on 36% of the days."
      ]
    },
    {
      "metadata": {
        "colab_type": "code",
        "id": "qeLDinBihMDQ",
        "colab": {
          "base_uri": "https://localhost:8080/",
          "height": 68
        },
        "outputId": "96af2245-92d5-4575-cc02-b4e21c8a1a6e"
      },
      "cell_type": "code",
      "source": [
        "tennis['PlayTennis'].value_counts(normalize=True) * 100"
      ],
      "execution_count": 46,
      "outputs": [
        {
          "output_type": "execute_result",
          "data": {
            "text/plain": [
              "1    64.285714\n",
              "0    35.714286\n",
              "Name: PlayTennis, dtype: float64"
            ]
          },
          "metadata": {
            "tags": []
          },
          "execution_count": 46
        }
      ]
    },
    {
      "metadata": {
        "colab_type": "text",
        "id": "Ype2-apnlaG2"
      },
      "cell_type": "markdown",
      "source": [
        "The tennis player played on 100% of the overcast days, 40% of the sunny days, and 60% of the  rainy days"
      ]
    },
    {
      "metadata": {
        "colab_type": "code",
        "id": "LfBMB0Soh58T",
        "colab": {
          "base_uri": "https://localhost:8080/",
          "height": 102
        },
        "outputId": "f9a135b7-37cc-4529-920b-d9192df05220"
      },
      "cell_type": "code",
      "source": [
        "tennis.groupby('Outlook')['PlayTennis'].mean() * 100"
      ],
      "execution_count": 47,
      "outputs": [
        {
          "output_type": "execute_result",
          "data": {
            "text/plain": [
              "Outlook\n",
              "overcast    100.0\n",
              "rain         60.0\n",
              "sunny        40.0\n",
              "Name: PlayTennis, dtype: float64"
            ]
          },
          "metadata": {
            "tags": []
          },
          "execution_count": 47
        }
      ]
    },
    {
      "metadata": {
        "colab_type": "text",
        "id": "jx3-MFvalrQC"
      },
      "cell_type": "markdown",
      "source": [
        "On sunny days, the tennis player's decision depends on the humidity. (The Outlook and Humidity features interact.)"
      ]
    },
    {
      "metadata": {
        "colab_type": "code",
        "id": "FmVN7hwEiHE5",
        "colab": {
          "base_uri": "https://localhost:8080/",
          "height": 85
        },
        "outputId": "32f7a117-0a7f-4ce2-903f-62e307cfb3e1"
      },
      "cell_type": "code",
      "source": [
        "sunny = tennis[tennis['Outlook']=='sunny']\n",
        "sunny.groupby('Humidity')['PlayTennis'].mean() * 100"
      ],
      "execution_count": 48,
      "outputs": [
        {
          "output_type": "execute_result",
          "data": {
            "text/plain": [
              "Humidity\n",
              "high        0\n",
              "normal    100\n",
              "Name: PlayTennis, dtype: int64"
            ]
          },
          "metadata": {
            "tags": []
          },
          "execution_count": 48
        }
      ]
    },
    {
      "metadata": {
        "colab_type": "text",
        "id": "y0it0HsFl47M"
      },
      "cell_type": "markdown",
      "source": [
        "On rainy days, the tennis player's decision depends on the wind. (The Outlook and Windy features interact.)"
      ]
    },
    {
      "metadata": {
        "colab_type": "code",
        "id": "CeOd7rGeivJp",
        "colab": {
          "base_uri": "https://localhost:8080/",
          "height": 85
        },
        "outputId": "77fc85f4-fcdc-4a3d-a3c9-c05e432cd39e"
      },
      "cell_type": "code",
      "source": [
        "rainy = tennis[tennis['Outlook']=='rain']\n",
        "rainy.groupby('Windy')['PlayTennis'].mean() * 100"
      ],
      "execution_count": 49,
      "outputs": [
        {
          "output_type": "execute_result",
          "data": {
            "text/plain": [
              "Windy\n",
              "false    100\n",
              "true       0\n",
              "Name: PlayTennis, dtype: int64"
            ]
          },
          "metadata": {
            "tags": []
          },
          "execution_count": 49
        }
      ]
    },
    {
      "metadata": {
        "id": "kItRZMGIS51G",
        "colab_type": "text"
      },
      "cell_type": "markdown",
      "source": [
        "#### Before modeling, we will [\"encode\" categorical variables, using pandas](https://pandas.pydata.org/pandas-docs/stable/user_guide/reshaping.html?highlight=get_dummies#computing-indicator-dummy-variables)"
      ]
    },
    {
      "metadata": {
        "colab_type": "code",
        "id": "VCyn34nEi0nz",
        "colab": {
          "base_uri": "https://localhost:8080/",
          "height": 534
        },
        "outputId": "c098dc16-3710-40ea-cedf-193c9d85d9f2"
      },
      "cell_type": "code",
      "source": [
        "y = tennis['PlayTennis']\n",
        "X = pd.get_dummies(tennis.drop(columns='PlayTennis'))\n",
        "X"
      ],
      "execution_count": 50,
      "outputs": [
        {
          "output_type": "execute_result",
          "data": {
            "text/html": [
              "<div>\n",
              "<style scoped>\n",
              "    .dataframe tbody tr th:only-of-type {\n",
              "        vertical-align: middle;\n",
              "    }\n",
              "\n",
              "    .dataframe tbody tr th {\n",
              "        vertical-align: top;\n",
              "    }\n",
              "\n",
              "    .dataframe thead th {\n",
              "        text-align: right;\n",
              "    }\n",
              "</style>\n",
              "<table border=\"1\" class=\"dataframe\">\n",
              "  <thead>\n",
              "    <tr style=\"text-align: right;\">\n",
              "      <th></th>\n",
              "      <th>Outlook_overcast</th>\n",
              "      <th>Outlook_rain</th>\n",
              "      <th>Outlook_sunny</th>\n",
              "      <th>Temperature_cool</th>\n",
              "      <th>Temperature_hot</th>\n",
              "      <th>Temperature_mild</th>\n",
              "      <th>Humidity_high</th>\n",
              "      <th>Humidity_normal</th>\n",
              "      <th>Windy_false</th>\n",
              "      <th>Windy_true</th>\n",
              "    </tr>\n",
              "    <tr>\n",
              "      <th>No.</th>\n",
              "      <th></th>\n",
              "      <th></th>\n",
              "      <th></th>\n",
              "      <th></th>\n",
              "      <th></th>\n",
              "      <th></th>\n",
              "      <th></th>\n",
              "      <th></th>\n",
              "      <th></th>\n",
              "      <th></th>\n",
              "    </tr>\n",
              "  </thead>\n",
              "  <tbody>\n",
              "    <tr>\n",
              "      <th>1</th>\n",
              "      <td>0</td>\n",
              "      <td>0</td>\n",
              "      <td>1</td>\n",
              "      <td>0</td>\n",
              "      <td>1</td>\n",
              "      <td>0</td>\n",
              "      <td>1</td>\n",
              "      <td>0</td>\n",
              "      <td>1</td>\n",
              "      <td>0</td>\n",
              "    </tr>\n",
              "    <tr>\n",
              "      <th>2</th>\n",
              "      <td>0</td>\n",
              "      <td>0</td>\n",
              "      <td>1</td>\n",
              "      <td>0</td>\n",
              "      <td>1</td>\n",
              "      <td>0</td>\n",
              "      <td>1</td>\n",
              "      <td>0</td>\n",
              "      <td>0</td>\n",
              "      <td>1</td>\n",
              "    </tr>\n",
              "    <tr>\n",
              "      <th>3</th>\n",
              "      <td>1</td>\n",
              "      <td>0</td>\n",
              "      <td>0</td>\n",
              "      <td>0</td>\n",
              "      <td>1</td>\n",
              "      <td>0</td>\n",
              "      <td>1</td>\n",
              "      <td>0</td>\n",
              "      <td>1</td>\n",
              "      <td>0</td>\n",
              "    </tr>\n",
              "    <tr>\n",
              "      <th>4</th>\n",
              "      <td>0</td>\n",
              "      <td>1</td>\n",
              "      <td>0</td>\n",
              "      <td>0</td>\n",
              "      <td>0</td>\n",
              "      <td>1</td>\n",
              "      <td>1</td>\n",
              "      <td>0</td>\n",
              "      <td>1</td>\n",
              "      <td>0</td>\n",
              "    </tr>\n",
              "    <tr>\n",
              "      <th>5</th>\n",
              "      <td>0</td>\n",
              "      <td>1</td>\n",
              "      <td>0</td>\n",
              "      <td>1</td>\n",
              "      <td>0</td>\n",
              "      <td>0</td>\n",
              "      <td>0</td>\n",
              "      <td>1</td>\n",
              "      <td>1</td>\n",
              "      <td>0</td>\n",
              "    </tr>\n",
              "    <tr>\n",
              "      <th>6</th>\n",
              "      <td>0</td>\n",
              "      <td>1</td>\n",
              "      <td>0</td>\n",
              "      <td>1</td>\n",
              "      <td>0</td>\n",
              "      <td>0</td>\n",
              "      <td>0</td>\n",
              "      <td>1</td>\n",
              "      <td>0</td>\n",
              "      <td>1</td>\n",
              "    </tr>\n",
              "    <tr>\n",
              "      <th>7</th>\n",
              "      <td>1</td>\n",
              "      <td>0</td>\n",
              "      <td>0</td>\n",
              "      <td>1</td>\n",
              "      <td>0</td>\n",
              "      <td>0</td>\n",
              "      <td>0</td>\n",
              "      <td>1</td>\n",
              "      <td>0</td>\n",
              "      <td>1</td>\n",
              "    </tr>\n",
              "    <tr>\n",
              "      <th>8</th>\n",
              "      <td>0</td>\n",
              "      <td>0</td>\n",
              "      <td>1</td>\n",
              "      <td>0</td>\n",
              "      <td>0</td>\n",
              "      <td>1</td>\n",
              "      <td>1</td>\n",
              "      <td>0</td>\n",
              "      <td>1</td>\n",
              "      <td>0</td>\n",
              "    </tr>\n",
              "    <tr>\n",
              "      <th>9</th>\n",
              "      <td>0</td>\n",
              "      <td>0</td>\n",
              "      <td>1</td>\n",
              "      <td>1</td>\n",
              "      <td>0</td>\n",
              "      <td>0</td>\n",
              "      <td>0</td>\n",
              "      <td>1</td>\n",
              "      <td>1</td>\n",
              "      <td>0</td>\n",
              "    </tr>\n",
              "    <tr>\n",
              "      <th>10</th>\n",
              "      <td>0</td>\n",
              "      <td>1</td>\n",
              "      <td>0</td>\n",
              "      <td>0</td>\n",
              "      <td>0</td>\n",
              "      <td>1</td>\n",
              "      <td>0</td>\n",
              "      <td>1</td>\n",
              "      <td>1</td>\n",
              "      <td>0</td>\n",
              "    </tr>\n",
              "    <tr>\n",
              "      <th>11</th>\n",
              "      <td>0</td>\n",
              "      <td>0</td>\n",
              "      <td>1</td>\n",
              "      <td>0</td>\n",
              "      <td>0</td>\n",
              "      <td>1</td>\n",
              "      <td>0</td>\n",
              "      <td>1</td>\n",
              "      <td>0</td>\n",
              "      <td>1</td>\n",
              "    </tr>\n",
              "    <tr>\n",
              "      <th>12</th>\n",
              "      <td>1</td>\n",
              "      <td>0</td>\n",
              "      <td>0</td>\n",
              "      <td>0</td>\n",
              "      <td>0</td>\n",
              "      <td>1</td>\n",
              "      <td>1</td>\n",
              "      <td>0</td>\n",
              "      <td>0</td>\n",
              "      <td>1</td>\n",
              "    </tr>\n",
              "    <tr>\n",
              "      <th>13</th>\n",
              "      <td>1</td>\n",
              "      <td>0</td>\n",
              "      <td>0</td>\n",
              "      <td>0</td>\n",
              "      <td>1</td>\n",
              "      <td>0</td>\n",
              "      <td>0</td>\n",
              "      <td>1</td>\n",
              "      <td>1</td>\n",
              "      <td>0</td>\n",
              "    </tr>\n",
              "    <tr>\n",
              "      <th>14</th>\n",
              "      <td>0</td>\n",
              "      <td>1</td>\n",
              "      <td>0</td>\n",
              "      <td>0</td>\n",
              "      <td>0</td>\n",
              "      <td>1</td>\n",
              "      <td>1</td>\n",
              "      <td>0</td>\n",
              "      <td>0</td>\n",
              "      <td>1</td>\n",
              "    </tr>\n",
              "  </tbody>\n",
              "</table>\n",
              "</div>"
            ],
            "text/plain": [
              "     Outlook_overcast  Outlook_rain  Outlook_sunny  Temperature_cool  \\\n",
              "No.                                                                    \n",
              "1                   0             0              1                 0   \n",
              "2                   0             0              1                 0   \n",
              "3                   1             0              0                 0   \n",
              "4                   0             1              0                 0   \n",
              "5                   0             1              0                 1   \n",
              "6                   0             1              0                 1   \n",
              "7                   1             0              0                 1   \n",
              "8                   0             0              1                 0   \n",
              "9                   0             0              1                 1   \n",
              "10                  0             1              0                 0   \n",
              "11                  0             0              1                 0   \n",
              "12                  1             0              0                 0   \n",
              "13                  1             0              0                 0   \n",
              "14                  0             1              0                 0   \n",
              "\n",
              "     Temperature_hot  Temperature_mild  Humidity_high  Humidity_normal  \\\n",
              "No.                                                                      \n",
              "1                  1                 0              1                0   \n",
              "2                  1                 0              1                0   \n",
              "3                  1                 0              1                0   \n",
              "4                  0                 1              1                0   \n",
              "5                  0                 0              0                1   \n",
              "6                  0                 0              0                1   \n",
              "7                  0                 0              0                1   \n",
              "8                  0                 1              1                0   \n",
              "9                  0                 0              0                1   \n",
              "10                 0                 1              0                1   \n",
              "11                 0                 1              0                1   \n",
              "12                 0                 1              1                0   \n",
              "13                 1                 0              0                1   \n",
              "14                 0                 1              1                0   \n",
              "\n",
              "     Windy_false  Windy_true  \n",
              "No.                           \n",
              "1              1           0  \n",
              "2              0           1  \n",
              "3              1           0  \n",
              "4              1           0  \n",
              "5              1           0  \n",
              "6              0           1  \n",
              "7              0           1  \n",
              "8              1           0  \n",
              "9              1           0  \n",
              "10             1           0  \n",
              "11             0           1  \n",
              "12             0           1  \n",
              "13             1           0  \n",
              "14             0           1  "
            ]
          },
          "metadata": {
            "tags": []
          },
          "execution_count": 50
        }
      ]
    },
    {
      "metadata": {
        "colab_type": "text",
        "id": "UvOkHk8o-h_r"
      },
      "cell_type": "markdown",
      "source": [
        "## Train a Decision Tree Classifier\n",
        "Get a score of 100% (accuracy)\n",
        "\n",
        "https://scikit-learn.org/stable/modules/generated/sklearn.tree.DecisionTreeClassifier.html"
      ]
    },
    {
      "metadata": {
        "id": "1KVxYHdGimPh",
        "colab_type": "code",
        "colab": {
          "base_uri": "https://localhost:8080/",
          "height": 34
        },
        "outputId": "e65bf81e-0847-4102-b3fb-899d8c2ce80f"
      },
      "cell_type": "code",
      "source": [
        "X_train, X_test, y_train, y_test = train_test_split(X, y, train_size=0.80, test_size=0.20, random_state=42)\n",
        "tree = DecisionTreeClassifier()\n",
        "tree.fit(X_train, y_train)\n",
        "print('Decision Tree Classifier:', tree.score(X_test, y_test))"
      ],
      "execution_count": 51,
      "outputs": [
        {
          "output_type": "stream",
          "text": [
            "Decision Tree Classifier: 1.0\n"
          ],
          "name": "stdout"
        }
      ]
    },
    {
      "metadata": {
        "colab_type": "text",
        "id": "9uNPrbfS-vzL"
      },
      "cell_type": "markdown",
      "source": [
        "## Compare to Logistic Regression\n",
        "https://scikit-learn.org/stable/modules/generated/sklearn.linear_model.LogisticRegression.html"
      ]
    },
    {
      "metadata": {
        "id": "1LQkaJouS51e",
        "colab_type": "code",
        "colab": {
          "base_uri": "https://localhost:8080/",
          "height": 34
        },
        "outputId": "15a5f19f-8dc3-4440-8828-b11199291a81"
      },
      "cell_type": "code",
      "source": [
        "from sklearn.linear_model import LogisticRegression\n",
        "# Type of Model\n",
        "logistic = LogisticRegression(solver='lbfgs')\n",
        "# Fitting\n",
        "logistic.fit(X,y)\n",
        "# Displaying Results\n",
        "print('Accuracy:',tree.score(X,y))"
      ],
      "execution_count": 52,
      "outputs": [
        {
          "output_type": "stream",
          "text": [
            "Accuracy: 1.0\n"
          ],
          "name": "stdout"
        }
      ]
    },
    {
      "metadata": {
        "colab_type": "text",
        "id": "EwF0phe6-oR8"
      },
      "cell_type": "markdown",
      "source": [
        "## Visualize the tree\n",
        "https://scikit-learn.org/stable/modules/generated/sklearn.tree.export_graphviz.html"
      ]
    },
    {
      "metadata": {
        "id": "IYWh86G1S51m",
        "colab_type": "code",
        "colab": {
          "base_uri": "https://localhost:8080/",
          "height": 657
        },
        "outputId": "846dbcd5-f7f1-4481-a87b-585e2b5cce3b"
      },
      "cell_type": "code",
      "source": [
        "# Function\n",
        "def class_tree(X,y,features,depth=3):\n",
        "  # Type of Model\n",
        "  tree = DecisionTreeClassifier(max_depth=depth)\n",
        "  # Fitting the Model\n",
        "  tree.fit(X,y)\n",
        "  # Displaying Results\n",
        "  print('R-Squared Score:', tree.score(X, y))\n",
        "  display(viztree(tree, feature_names=features))\n",
        "# Showing Tree\n",
        "features=X.columns\n",
        "display(viztree(tree, features))"
      ],
      "execution_count": 53,
      "outputs": [
        {
          "output_type": "display_data",
          "data": {
            "text/plain": [
              "<graphviz.files.Source at 0x7f1d7dcb55c0>"
            ],
            "image/svg+xml": "<?xml version=\"1.0\" encoding=\"UTF-8\" standalone=\"no\"?>\n<!DOCTYPE svg PUBLIC \"-//W3C//DTD SVG 1.1//EN\"\n \"http://www.w3.org/Graphics/SVG/1.1/DTD/svg11.dtd\">\n<!-- Generated by graphviz version 2.40.1 (20161225.0304)\n -->\n<!-- Title: Tree Pages: 1 -->\n<svg width=\"592pt\" height=\"477pt\"\n viewBox=\"0.00 0.00 592.00 477.00\" xmlns=\"http://www.w3.org/2000/svg\" xmlns:xlink=\"http://www.w3.org/1999/xlink\">\n<g id=\"graph0\" class=\"graph\" transform=\"scale(1 1) rotate(0) translate(4 473)\">\n<title>Tree</title>\n<polygon fill=\"#ffffff\" stroke=\"transparent\" points=\"-4,4 -4,-473 588,-473 588,4 -4,4\"/>\n<!-- 0 -->\n<g id=\"node1\" class=\"node\">\n<title>0</title>\n<path fill=\"#399de5\" fill-opacity=\"0.427451\" stroke=\"#000000\" d=\"M430,-469C430,-469 279,-469 279,-469 273,-469 267,-463 267,-457 267,-457 267,-413 267,-413 267,-407 273,-401 279,-401 279,-401 430,-401 430,-401 436,-401 442,-407 442,-413 442,-413 442,-457 442,-457 442,-463 436,-469 430,-469\"/>\n<text text-anchor=\"middle\" x=\"354.5\" y=\"-453.8\" font-family=\"Helvetica,sans-Serif\" font-size=\"14.00\" fill=\"#000000\">Outlook_overcast &lt;= 0.5</text>\n<text text-anchor=\"middle\" x=\"354.5\" y=\"-438.8\" font-family=\"Helvetica,sans-Serif\" font-size=\"14.00\" fill=\"#000000\">gini = 0.463</text>\n<text text-anchor=\"middle\" x=\"354.5\" y=\"-423.8\" font-family=\"Helvetica,sans-Serif\" font-size=\"14.00\" fill=\"#000000\">samples = 11</text>\n<text text-anchor=\"middle\" x=\"354.5\" y=\"-408.8\" font-family=\"Helvetica,sans-Serif\" font-size=\"14.00\" fill=\"#000000\">value = [4, 7]</text>\n</g>\n<!-- 1 -->\n<g id=\"node2\" class=\"node\">\n<title>1</title>\n<path fill=\"transparent\" stroke=\"#000000\" d=\"M343.5,-365C343.5,-365 227.5,-365 227.5,-365 221.5,-365 215.5,-359 215.5,-353 215.5,-353 215.5,-309 215.5,-309 215.5,-303 221.5,-297 227.5,-297 227.5,-297 343.5,-297 343.5,-297 349.5,-297 355.5,-303 355.5,-309 355.5,-309 355.5,-353 355.5,-353 355.5,-359 349.5,-365 343.5,-365\"/>\n<text text-anchor=\"middle\" x=\"285.5\" y=\"-349.8\" font-family=\"Helvetica,sans-Serif\" font-size=\"14.00\" fill=\"#000000\">Windy_false &lt;= 0.5</text>\n<text text-anchor=\"middle\" x=\"285.5\" y=\"-334.8\" font-family=\"Helvetica,sans-Serif\" font-size=\"14.00\" fill=\"#000000\">gini = 0.5</text>\n<text text-anchor=\"middle\" x=\"285.5\" y=\"-319.8\" font-family=\"Helvetica,sans-Serif\" font-size=\"14.00\" fill=\"#000000\">samples = 8</text>\n<text text-anchor=\"middle\" x=\"285.5\" y=\"-304.8\" font-family=\"Helvetica,sans-Serif\" font-size=\"14.00\" fill=\"#000000\">value = [4, 4]</text>\n</g>\n<!-- 0&#45;&gt;1 -->\n<g id=\"edge1\" class=\"edge\">\n<title>0&#45;&gt;1</title>\n<path fill=\"none\" stroke=\"#000000\" d=\"M331.9068,-400.9465C326.1286,-392.2373 319.8425,-382.7626 313.8166,-373.6801\"/>\n<polygon fill=\"#000000\" stroke=\"#000000\" points=\"316.589,-371.5278 308.1439,-365.13 310.756,-375.3978 316.589,-371.5278\"/>\n<text text-anchor=\"middle\" x=\"303.1866\" y=\"-385.9336\" font-family=\"Helvetica,sans-Serif\" font-size=\"14.00\" fill=\"#000000\">True</text>\n</g>\n<!-- 12 -->\n<g id=\"node13\" class=\"node\">\n<title>12</title>\n<path fill=\"#399de5\" stroke=\"#000000\" d=\"M461,-357.5C461,-357.5 386,-357.5 386,-357.5 380,-357.5 374,-351.5 374,-345.5 374,-345.5 374,-316.5 374,-316.5 374,-310.5 380,-304.5 386,-304.5 386,-304.5 461,-304.5 461,-304.5 467,-304.5 473,-310.5 473,-316.5 473,-316.5 473,-345.5 473,-345.5 473,-351.5 467,-357.5 461,-357.5\"/>\n<text text-anchor=\"middle\" x=\"423.5\" y=\"-342.3\" font-family=\"Helvetica,sans-Serif\" font-size=\"14.00\" fill=\"#000000\">gini = 0.0</text>\n<text text-anchor=\"middle\" x=\"423.5\" y=\"-327.3\" font-family=\"Helvetica,sans-Serif\" font-size=\"14.00\" fill=\"#000000\">samples = 3</text>\n<text text-anchor=\"middle\" x=\"423.5\" y=\"-312.3\" font-family=\"Helvetica,sans-Serif\" font-size=\"14.00\" fill=\"#000000\">value = [0, 3]</text>\n</g>\n<!-- 0&#45;&gt;12 -->\n<g id=\"edge12\" class=\"edge\">\n<title>0&#45;&gt;12</title>\n<path fill=\"none\" stroke=\"#000000\" d=\"M377.0932,-400.9465C384.5473,-389.7113 392.8467,-377.2021 400.3423,-365.9043\"/>\n<polygon fill=\"#000000\" stroke=\"#000000\" points=\"403.2782,-367.81 405.8903,-357.5422 397.4453,-363.94 403.2782,-367.81\"/>\n<text text-anchor=\"middle\" x=\"410.8477\" y=\"-378.3457\" font-family=\"Helvetica,sans-Serif\" font-size=\"14.00\" fill=\"#000000\">False</text>\n</g>\n<!-- 2 -->\n<g id=\"node3\" class=\"node\">\n<title>2</title>\n<path fill=\"#e58139\" fill-opacity=\"0.666667\" stroke=\"#000000\" d=\"M261,-261C261,-261 126,-261 126,-261 120,-261 114,-255 114,-249 114,-249 114,-205 114,-205 114,-199 120,-193 126,-193 126,-193 261,-193 261,-193 267,-193 273,-199 273,-205 273,-205 273,-249 273,-249 273,-255 267,-261 261,-261\"/>\n<text text-anchor=\"middle\" x=\"193.5\" y=\"-245.8\" font-family=\"Helvetica,sans-Serif\" font-size=\"14.00\" fill=\"#000000\">Outlook_sunny &lt;= 0.5</text>\n<text text-anchor=\"middle\" x=\"193.5\" y=\"-230.8\" font-family=\"Helvetica,sans-Serif\" font-size=\"14.00\" fill=\"#000000\">gini = 0.375</text>\n<text text-anchor=\"middle\" x=\"193.5\" y=\"-215.8\" font-family=\"Helvetica,sans-Serif\" font-size=\"14.00\" fill=\"#000000\">samples = 4</text>\n<text text-anchor=\"middle\" x=\"193.5\" y=\"-200.8\" font-family=\"Helvetica,sans-Serif\" font-size=\"14.00\" fill=\"#000000\">value = [3, 1]</text>\n</g>\n<!-- 1&#45;&gt;2 -->\n<g id=\"edge2\" class=\"edge\">\n<title>1&#45;&gt;2</title>\n<path fill=\"none\" stroke=\"#000000\" d=\"M255.3758,-296.9465C247.4332,-287.968 238.7709,-278.1758 230.511,-268.8385\"/>\n<polygon fill=\"#000000\" stroke=\"#000000\" points=\"232.9392,-266.301 223.6919,-261.13 227.6962,-270.939 232.9392,-266.301\"/>\n</g>\n<!-- 7 -->\n<g id=\"node8\" class=\"node\">\n<title>7</title>\n<path fill=\"#399de5\" fill-opacity=\"0.666667\" stroke=\"#000000\" d=\"M437,-261C437,-261 318,-261 318,-261 312,-261 306,-255 306,-249 306,-249 306,-205 306,-205 306,-199 312,-193 318,-193 318,-193 437,-193 437,-193 443,-193 449,-199 449,-205 449,-205 449,-249 449,-249 449,-255 443,-261 437,-261\"/>\n<text text-anchor=\"middle\" x=\"377.5\" y=\"-245.8\" font-family=\"Helvetica,sans-Serif\" font-size=\"14.00\" fill=\"#000000\">Outlook_rain &lt;= 0.5</text>\n<text text-anchor=\"middle\" x=\"377.5\" y=\"-230.8\" font-family=\"Helvetica,sans-Serif\" font-size=\"14.00\" fill=\"#000000\">gini = 0.375</text>\n<text text-anchor=\"middle\" x=\"377.5\" y=\"-215.8\" font-family=\"Helvetica,sans-Serif\" font-size=\"14.00\" fill=\"#000000\">samples = 4</text>\n<text text-anchor=\"middle\" x=\"377.5\" y=\"-200.8\" font-family=\"Helvetica,sans-Serif\" font-size=\"14.00\" fill=\"#000000\">value = [1, 3]</text>\n</g>\n<!-- 1&#45;&gt;7 -->\n<g id=\"edge7\" class=\"edge\">\n<title>1&#45;&gt;7</title>\n<path fill=\"none\" stroke=\"#000000\" d=\"M315.6242,-296.9465C323.5668,-287.968 332.2291,-278.1758 340.489,-268.8385\"/>\n<polygon fill=\"#000000\" stroke=\"#000000\" points=\"343.3038,-270.939 347.3081,-261.13 338.0608,-266.301 343.3038,-270.939\"/>\n</g>\n<!-- 3 -->\n<g id=\"node4\" class=\"node\">\n<title>3</title>\n<path fill=\"#e58139\" stroke=\"#000000\" d=\"M87,-149.5C87,-149.5 12,-149.5 12,-149.5 6,-149.5 0,-143.5 0,-137.5 0,-137.5 0,-108.5 0,-108.5 0,-102.5 6,-96.5 12,-96.5 12,-96.5 87,-96.5 87,-96.5 93,-96.5 99,-102.5 99,-108.5 99,-108.5 99,-137.5 99,-137.5 99,-143.5 93,-149.5 87,-149.5\"/>\n<text text-anchor=\"middle\" x=\"49.5\" y=\"-134.3\" font-family=\"Helvetica,sans-Serif\" font-size=\"14.00\" fill=\"#000000\">gini = 0.0</text>\n<text text-anchor=\"middle\" x=\"49.5\" y=\"-119.3\" font-family=\"Helvetica,sans-Serif\" font-size=\"14.00\" fill=\"#000000\">samples = 2</text>\n<text text-anchor=\"middle\" x=\"49.5\" y=\"-104.3\" font-family=\"Helvetica,sans-Serif\" font-size=\"14.00\" fill=\"#000000\">value = [2, 0]</text>\n</g>\n<!-- 2&#45;&gt;3 -->\n<g id=\"edge3\" class=\"edge\">\n<title>2&#45;&gt;3</title>\n<path fill=\"none\" stroke=\"#000000\" d=\"M146.349,-192.9465C129.725,-180.9403 111.0865,-167.4791 94.6333,-155.5962\"/>\n<polygon fill=\"#000000\" stroke=\"#000000\" points=\"96.4067,-152.5597 86.2507,-149.5422 92.3083,-158.2345 96.4067,-152.5597\"/>\n</g>\n<!-- 4 -->\n<g id=\"node5\" class=\"node\">\n<title>4</title>\n<path fill=\"transparent\" stroke=\"#000000\" d=\"M258,-157C258,-157 129,-157 129,-157 123,-157 117,-151 117,-145 117,-145 117,-101 117,-101 117,-95 123,-89 129,-89 129,-89 258,-89 258,-89 264,-89 270,-95 270,-101 270,-101 270,-145 270,-145 270,-151 264,-157 258,-157\"/>\n<text text-anchor=\"middle\" x=\"193.5\" y=\"-141.8\" font-family=\"Helvetica,sans-Serif\" font-size=\"14.00\" fill=\"#000000\">Humidity_high &lt;= 0.5</text>\n<text text-anchor=\"middle\" x=\"193.5\" y=\"-126.8\" font-family=\"Helvetica,sans-Serif\" font-size=\"14.00\" fill=\"#000000\">gini = 0.5</text>\n<text text-anchor=\"middle\" x=\"193.5\" y=\"-111.8\" font-family=\"Helvetica,sans-Serif\" font-size=\"14.00\" fill=\"#000000\">samples = 2</text>\n<text text-anchor=\"middle\" x=\"193.5\" y=\"-96.8\" font-family=\"Helvetica,sans-Serif\" font-size=\"14.00\" fill=\"#000000\">value = [1, 1]</text>\n</g>\n<!-- 2&#45;&gt;4 -->\n<g id=\"edge4\" class=\"edge\">\n<title>2&#45;&gt;4</title>\n<path fill=\"none\" stroke=\"#000000\" d=\"M193.5,-192.9465C193.5,-184.776 193.5,-175.9318 193.5,-167.3697\"/>\n<polygon fill=\"#000000\" stroke=\"#000000\" points=\"197.0001,-167.13 193.5,-157.13 190.0001,-167.13 197.0001,-167.13\"/>\n</g>\n<!-- 5 -->\n<g id=\"node6\" class=\"node\">\n<title>5</title>\n<path fill=\"#399de5\" stroke=\"#000000\" d=\"M131,-53C131,-53 56,-53 56,-53 50,-53 44,-47 44,-41 44,-41 44,-12 44,-12 44,-6 50,0 56,0 56,0 131,0 131,0 137,0 143,-6 143,-12 143,-12 143,-41 143,-41 143,-47 137,-53 131,-53\"/>\n<text text-anchor=\"middle\" x=\"93.5\" y=\"-37.8\" font-family=\"Helvetica,sans-Serif\" font-size=\"14.00\" fill=\"#000000\">gini = 0.0</text>\n<text text-anchor=\"middle\" x=\"93.5\" y=\"-22.8\" font-family=\"Helvetica,sans-Serif\" font-size=\"14.00\" fill=\"#000000\">samples = 1</text>\n<text text-anchor=\"middle\" x=\"93.5\" y=\"-7.8\" font-family=\"Helvetica,sans-Serif\" font-size=\"14.00\" fill=\"#000000\">value = [0, 1]</text>\n</g>\n<!-- 4&#45;&gt;5 -->\n<g id=\"edge5\" class=\"edge\">\n<title>4&#45;&gt;5</title>\n<path fill=\"none\" stroke=\"#000000\" d=\"M158.2437,-88.9777C148.5649,-79.6376 138.0765,-69.5163 128.4168,-60.1947\"/>\n<polygon fill=\"#000000\" stroke=\"#000000\" points=\"130.8449,-57.674 121.2186,-53.2485 125.9841,-62.7111 130.8449,-57.674\"/>\n</g>\n<!-- 6 -->\n<g id=\"node7\" class=\"node\">\n<title>6</title>\n<path fill=\"#e58139\" stroke=\"#000000\" d=\"M248,-53C248,-53 173,-53 173,-53 167,-53 161,-47 161,-41 161,-41 161,-12 161,-12 161,-6 167,0 173,0 173,0 248,0 248,0 254,0 260,-6 260,-12 260,-12 260,-41 260,-41 260,-47 254,-53 248,-53\"/>\n<text text-anchor=\"middle\" x=\"210.5\" y=\"-37.8\" font-family=\"Helvetica,sans-Serif\" font-size=\"14.00\" fill=\"#000000\">gini = 0.0</text>\n<text text-anchor=\"middle\" x=\"210.5\" y=\"-22.8\" font-family=\"Helvetica,sans-Serif\" font-size=\"14.00\" fill=\"#000000\">samples = 1</text>\n<text text-anchor=\"middle\" x=\"210.5\" y=\"-7.8\" font-family=\"Helvetica,sans-Serif\" font-size=\"14.00\" fill=\"#000000\">value = [1, 0]</text>\n</g>\n<!-- 4&#45;&gt;6 -->\n<g id=\"edge6\" class=\"edge\">\n<title>4&#45;&gt;6</title>\n<path fill=\"none\" stroke=\"#000000\" d=\"M199.4936,-88.9777C200.9615,-80.6449 202.539,-71.6903 204.0283,-63.2364\"/>\n<polygon fill=\"#000000\" stroke=\"#000000\" points=\"207.4997,-63.7041 205.7878,-53.2485 200.6059,-62.4896 207.4997,-63.7041\"/>\n</g>\n<!-- 8 -->\n<g id=\"node9\" class=\"node\">\n<title>8</title>\n<path fill=\"transparent\" stroke=\"#000000\" d=\"M454.5,-157C454.5,-157 300.5,-157 300.5,-157 294.5,-157 288.5,-151 288.5,-145 288.5,-145 288.5,-101 288.5,-101 288.5,-95 294.5,-89 300.5,-89 300.5,-89 454.5,-89 454.5,-89 460.5,-89 466.5,-95 466.5,-101 466.5,-101 466.5,-145 466.5,-145 466.5,-151 460.5,-157 454.5,-157\"/>\n<text text-anchor=\"middle\" x=\"377.5\" y=\"-141.8\" font-family=\"Helvetica,sans-Serif\" font-size=\"14.00\" fill=\"#000000\">Temperature_cool &lt;= 0.5</text>\n<text text-anchor=\"middle\" x=\"377.5\" y=\"-126.8\" font-family=\"Helvetica,sans-Serif\" font-size=\"14.00\" fill=\"#000000\">gini = 0.5</text>\n<text text-anchor=\"middle\" x=\"377.5\" y=\"-111.8\" font-family=\"Helvetica,sans-Serif\" font-size=\"14.00\" fill=\"#000000\">samples = 2</text>\n<text text-anchor=\"middle\" x=\"377.5\" y=\"-96.8\" font-family=\"Helvetica,sans-Serif\" font-size=\"14.00\" fill=\"#000000\">value = [1, 1]</text>\n</g>\n<!-- 7&#45;&gt;8 -->\n<g id=\"edge8\" class=\"edge\">\n<title>7&#45;&gt;8</title>\n<path fill=\"none\" stroke=\"#000000\" d=\"M377.5,-192.9465C377.5,-184.776 377.5,-175.9318 377.5,-167.3697\"/>\n<polygon fill=\"#000000\" stroke=\"#000000\" points=\"381.0001,-167.13 377.5,-157.13 374.0001,-167.13 381.0001,-167.13\"/>\n</g>\n<!-- 11 -->\n<g id=\"node12\" class=\"node\">\n<title>11</title>\n<path fill=\"#399de5\" stroke=\"#000000\" d=\"M572,-149.5C572,-149.5 497,-149.5 497,-149.5 491,-149.5 485,-143.5 485,-137.5 485,-137.5 485,-108.5 485,-108.5 485,-102.5 491,-96.5 497,-96.5 497,-96.5 572,-96.5 572,-96.5 578,-96.5 584,-102.5 584,-108.5 584,-108.5 584,-137.5 584,-137.5 584,-143.5 578,-149.5 572,-149.5\"/>\n<text text-anchor=\"middle\" x=\"534.5\" y=\"-134.3\" font-family=\"Helvetica,sans-Serif\" font-size=\"14.00\" fill=\"#000000\">gini = 0.0</text>\n<text text-anchor=\"middle\" x=\"534.5\" y=\"-119.3\" font-family=\"Helvetica,sans-Serif\" font-size=\"14.00\" fill=\"#000000\">samples = 2</text>\n<text text-anchor=\"middle\" x=\"534.5\" y=\"-104.3\" font-family=\"Helvetica,sans-Serif\" font-size=\"14.00\" fill=\"#000000\">value = [0, 2]</text>\n</g>\n<!-- 7&#45;&gt;11 -->\n<g id=\"edge11\" class=\"edge\">\n<title>7&#45;&gt;11</title>\n<path fill=\"none\" stroke=\"#000000\" d=\"M428.9077,-192.9465C447.1988,-180.8301 467.7266,-167.232 485.7853,-155.2696\"/>\n<polygon fill=\"#000000\" stroke=\"#000000\" points=\"488.0276,-157.9826 494.4315,-149.5422 484.1618,-152.1468 488.0276,-157.9826\"/>\n</g>\n<!-- 9 -->\n<g id=\"node10\" class=\"node\">\n<title>9</title>\n<path fill=\"#e58139\" stroke=\"#000000\" d=\"M398,-53C398,-53 323,-53 323,-53 317,-53 311,-47 311,-41 311,-41 311,-12 311,-12 311,-6 317,0 323,0 323,0 398,0 398,0 404,0 410,-6 410,-12 410,-12 410,-41 410,-41 410,-47 404,-53 398,-53\"/>\n<text text-anchor=\"middle\" x=\"360.5\" y=\"-37.8\" font-family=\"Helvetica,sans-Serif\" font-size=\"14.00\" fill=\"#000000\">gini = 0.0</text>\n<text text-anchor=\"middle\" x=\"360.5\" y=\"-22.8\" font-family=\"Helvetica,sans-Serif\" font-size=\"14.00\" fill=\"#000000\">samples = 1</text>\n<text text-anchor=\"middle\" x=\"360.5\" y=\"-7.8\" font-family=\"Helvetica,sans-Serif\" font-size=\"14.00\" fill=\"#000000\">value = [1, 0]</text>\n</g>\n<!-- 8&#45;&gt;9 -->\n<g id=\"edge9\" class=\"edge\">\n<title>8&#45;&gt;9</title>\n<path fill=\"none\" stroke=\"#000000\" d=\"M371.5064,-88.9777C370.0385,-80.6449 368.461,-71.6903 366.9717,-63.2364\"/>\n<polygon fill=\"#000000\" stroke=\"#000000\" points=\"370.3941,-62.4896 365.2122,-53.2485 363.5003,-63.7041 370.3941,-62.4896\"/>\n</g>\n<!-- 10 -->\n<g id=\"node11\" class=\"node\">\n<title>10</title>\n<path fill=\"#399de5\" stroke=\"#000000\" d=\"M515,-53C515,-53 440,-53 440,-53 434,-53 428,-47 428,-41 428,-41 428,-12 428,-12 428,-6 434,0 440,0 440,0 515,0 515,0 521,0 527,-6 527,-12 527,-12 527,-41 527,-41 527,-47 521,-53 515,-53\"/>\n<text text-anchor=\"middle\" x=\"477.5\" y=\"-37.8\" font-family=\"Helvetica,sans-Serif\" font-size=\"14.00\" fill=\"#000000\">gini = 0.0</text>\n<text text-anchor=\"middle\" x=\"477.5\" y=\"-22.8\" font-family=\"Helvetica,sans-Serif\" font-size=\"14.00\" fill=\"#000000\">samples = 1</text>\n<text text-anchor=\"middle\" x=\"477.5\" y=\"-7.8\" font-family=\"Helvetica,sans-Serif\" font-size=\"14.00\" fill=\"#000000\">value = [0, 1]</text>\n</g>\n<!-- 8&#45;&gt;10 -->\n<g id=\"edge10\" class=\"edge\">\n<title>8&#45;&gt;10</title>\n<path fill=\"none\" stroke=\"#000000\" d=\"M412.7563,-88.9777C422.4351,-79.6376 432.9235,-69.5163 442.5832,-60.1947\"/>\n<polygon fill=\"#000000\" stroke=\"#000000\" points=\"445.0159,-62.7111 449.7814,-53.2485 440.1551,-57.674 445.0159,-62.7111\"/>\n</g>\n</g>\n</svg>\n"
          },
          "metadata": {
            "tags": []
          }
        }
      ]
    }
  ]
}