{
  "nbformat": 4,
  "nbformat_minor": 0,
  "metadata": {
    "colab": {
      "name": "LS_DS_411A_Decision_Trees.ipynb",
      "version": "0.3.2",
      "provenance": [],
      "collapsed_sections": [],
      "include_colab_link": true
    },
    "language_info": {
      "codemirror_mode": {
        "name": "ipython",
        "version": 3
      },
      "file_extension": ".py",
      "mimetype": "text/x-python",
      "name": "python",
      "nbconvert_exporter": "python",
      "pygments_lexer": "ipython3",
      "version": "3.7.1"
    },
    "kernelspec": {
      "display_name": "Python 3",
      "language": "python",
      "name": "python3"
    }
  },
  "cells": [
    {
      "cell_type": "markdown",
      "metadata": {
        "id": "view-in-github",
        "colab_type": "text"
      },
      "source": [
        "<a href=\"https://colab.research.google.com/github/will-cotton4/DS-Unit-2-Sprint-2-Regression/blob/master/module4-decision-trees/decision-trees-assignment.ipynb\" target=\"_parent\"><img src=\"https://colab.research.google.com/assets/colab-badge.svg\" alt=\"Open In Colab\"/></a>"
      ]
    },
    {
      "cell_type": "markdown",
      "metadata": {
        "colab_type": "text",
        "id": "A0-sUApS7MIs"
      },
      "source": [
        "_Lambda School Data Science — Tree Ensembles_ \n",
        "\n",
        "# Decision Trees Assignment"
      ]
    },
    {
      "cell_type": "markdown",
      "metadata": {
        "id": "pikXstRfGG0U",
        "colab_type": "text"
      },
      "source": [
        "## Part 1: House Price Regression\n",
        "\n",
        "Apply decision trees to the Ames housing dataset you've worked with this week!\n",
        "\n",
        "- Try multiple features\n",
        "- Try features you've engineered\n",
        "- Try different `max_depth` paramaters\n",
        "- What's the best Test Root Mean Squared Error you can get? *Share with your cohort on Slack!*\n",
        "- What's a cool visualization you can make? *Share with your cohort on Slack!*"
      ]
    },
    {
      "cell_type": "code",
      "metadata": {
        "id": "SuKsUSYkGY9Z",
        "colab_type": "code",
        "colab": {}
      },
      "source": [
        "import matplotlib.pyplot as plt\n",
        "import numpy as np\n",
        "import pandas as pd\n",
        "import seaborn as sns\n",
        "from sklearn.linear_model import LinearRegression\n",
        "from sklearn.model_selection import train_test_split\n",
        "from sklearn.metrics import mean_absolute_error, mean_squared_error, r2_score\n",
        "import statsmodels.api as sm\n",
        "from scipy import stats\n",
        "import graphviz\n",
        "from IPython.display import display\n",
        "from ipywidgets import interact\n",
        "from mpl_toolkits import mplot3d\n",
        "from sklearn.impute import SimpleImputer\n",
        "from sklearn.metrics import r2_score\n",
        "from sklearn.tree import DecisionTreeClassifier, DecisionTreeRegressor, export_graphviz\n",
        "%matplotlib inline\n",
        "\n",
        "\n",
        "def viztree(decision_tree, feature_names):\n",
        "    \"\"\"Visualize a decision tree\"\"\"\n",
        "    dot_data = export_graphviz(decision_tree, out_file=None, feature_names=feature_names, \n",
        "                               filled=True, rounded=True)   \n",
        "    return graphviz.Source(dot_data)\n",
        "\n",
        "\n",
        "def viz3D(fitted_model, df, feature1, feature2, target='', num=100):\n",
        "    \"\"\"\n",
        "    Visualize model predictions in 3D, for regression or binary classification\n",
        "    \n",
        "    Parameters\n",
        "    ----------\n",
        "    fitted_model : scikit-learn model, already fitted\n",
        "    df : pandas dataframe, which was used to fit model\n",
        "    feature1 : string, name of feature 1\n",
        "    feature2 : string, name of feature 2\n",
        "    target : string, name of target\n",
        "    num : int, number of grid points for each feature\n",
        "    \n",
        "    References\n",
        "    ----------\n",
        "    https://jakevdp.github.io/PythonDataScienceHandbook/04.12-three-dimensional-plotting.html\n",
        "    https://scikit-learn.org/stable/auto_examples/tree/plot_iris.html  \n",
        "    \"\"\"\n",
        "    x1 = np.linspace(df[feature1].min(), df[feature1].max(), num)\n",
        "    x2 = np.linspace(df[feature2].min(), df[feature2].max(), num)\n",
        "    X1, X2 = np.meshgrid(x1, x2)\n",
        "    X = np.c_[X1.flatten(), X2.flatten()]\n",
        "    if hasattr(fitted_model, 'predict_proba'):\n",
        "        predicted = fitted_model.predict_proba(X)[:,1]\n",
        "    else:\n",
        "        predicted = fitted_model.predict(X)\n",
        "    Z = predicted.reshape(num, num)\n",
        "    \n",
        "    fig = plt.figure()\n",
        "    ax = plt.axes(projection='3d')\n",
        "    ax.plot_surface(X1, X2, Z, cmap='viridis')\n",
        "    ax.set_xlabel(feature1)\n",
        "    ax.set_ylabel(feature2)\n",
        "    ax.set_zlabel(target)\n",
        "    return fig\n",
        "  \n",
        "pd.set_option('display.max_rows', 500)\n",
        "pd.set_option('display.max_columns', 500)"
      ],
      "execution_count": 0,
      "outputs": []
    },
    {
      "cell_type": "code",
      "metadata": {
        "id": "oRWCB7b5G6_0",
        "colab_type": "code",
        "outputId": "c3e96384-a218-4893-d521-d0709de2ff23",
        "colab": {
          "base_uri": "https://localhost:8080/",
          "height": 170
        }
      },
      "source": [
        "!pip install graphviz\n",
        "!apt-get install graphviz"
      ],
      "execution_count": 2,
      "outputs": [
        {
          "output_type": "stream",
          "text": [
            "Requirement already satisfied: graphviz in /usr/local/lib/python3.6/dist-packages (0.10.1)\n",
            "Reading package lists... Done\n",
            "Building dependency tree       \n",
            "Reading state information... Done\n",
            "graphviz is already the newest version (2.40.1-2).\n",
            "The following package was automatically installed and is no longer required:\n",
            "  libnvidia-common-410\n",
            "Use 'apt autoremove' to remove it.\n",
            "0 upgraded, 0 newly installed, 0 to remove and 11 not upgraded.\n"
          ],
          "name": "stdout"
        }
      ]
    },
    {
      "cell_type": "code",
      "metadata": {
        "id": "p_xaOBLQGcY8",
        "colab_type": "code",
        "colab": {}
      },
      "source": [
        "### Stole this cleaning info from Josh. Thanks Josh.\n",
        "\n",
        "url = 'https://raw.githubusercontent.com/ryanleeallred/datasets/master/Ames%20Housing%20Data/train.csv'\n",
        "\n",
        "df = pd.read_csv(url)\n",
        "\n",
        "#columns to drop bc of NaNs:\n",
        "drop_cols = ['Alley', 'Fence', 'MiscFeature']\n",
        "df = df.drop(columns = drop_cols)\n",
        "\n",
        "#Fill Nans for garage yr blt w/ YearBlt value:\n",
        "nums = df[df.GarageYrBlt.isna() == True].index\n",
        "for i in nums:\n",
        "  df.at[i, 'GarageYrBlt'] = df.at[i, 'YearBuilt']\n",
        "  \n",
        "#drop 8 rows of masonry veneer area Nans:\n",
        "df.dropna(subset=['MasVnrArea'], inplace=True)\n",
        "\n",
        "#replace most of the categoricals with numbers:\n",
        "map = {'Ex':5, 'Gd':4, 'TA':3, 'Fa':2, 'Po':1, np.NaN: 0}\n",
        "df = df.replace(map)\n",
        "\n",
        "#Fill NaNs for LotFrontage as 0:\n",
        "#df['LotFrontage'] = df['LotFrontage'].fillna(0)\n",
        "\n",
        "#create log price column\n",
        "df['ln_price'] = np.log(df['SalePrice'])\n",
        "\n",
        "#age:\n",
        "df['age'] = 2010 - df['YearBuilt']\n",
        "\n",
        "#renovation_age:\n",
        "df['renovation_age'] = 2010 - df['YearRemodAdd']\n",
        "\n",
        "#yard size (ignores deck, pool, etc):\n",
        "df['yard_size'] = df['LotArea'] - df['1stFlrSF']\n",
        "\n",
        "#garage finish:\n",
        "finish_map = {'Fin':3, 'RFn': 2, 'Unf':1, np.NaN:0}\n",
        "df['GarageFinish'] = df['GarageFinish'].replace(finish_map)\n",
        "\n",
        "#sale condition:\n",
        "sale_map = {'Normal': 3,\n",
        "            'Partial': 3,\n",
        "            'Abnorml': 1,\n",
        "            'Family': 1,\n",
        "            'AdjLand': 2,\t\n",
        "            'Alloca': 2}\n",
        "\n",
        "df['SaleCondition'] = df['SaleCondition'].replace(sale_map)\n",
        "\n",
        "#Lot shape:\n",
        "shape_map = {'Reg': 4, 'IR1': 3, 'IR2': 2, 'IR3': 1}\n",
        "df[\"LotShape\"] = df[\"LotShape\"].replace(shape_map)\n",
        "\n",
        "#Street:\n",
        "street_map = {'Grvl':1, 'Pave':2}\n",
        "df['Street'] = df['Street'].replace(street_map)\n",
        "\n",
        "#Neighborhood Quality:\n",
        "neighborhood_qual_map = dict(df.groupby('Neighborhood', as_index=False)['OverallQual'].mean().set_index('Neighborhood')['OverallQual'])\n",
        "df['neighborhood_qual']= df['Neighborhood'].map(neighborhood_qual_map)\n",
        "\n",
        "#Neighborhood avg Sales price:\n",
        "neighborhood_sales_map = dict(df.groupby('Neighborhood', as_index=False)['SalePrice'].mean().set_index('Neighborhood')['SalePrice'])\n",
        "df['neighborhood_avg_sale_price'] = df['Neighborhood'].map(neighborhood_sales_map)\n",
        "\n",
        "#Neighborhood avg log_Sales price:\n",
        "neighborhood_ln_sales_map = dict(df.groupby('Neighborhood', as_index=False)['ln_price'].mean().set_index('Neighborhood')['ln_price'])\n",
        "df['neighborhood_avg_ln_sale_price'] = df['Neighborhood'].map(neighborhood_ln_sales_map)"
      ],
      "execution_count": 0,
      "outputs": []
    },
    {
      "cell_type": "code",
      "metadata": {
        "id": "6ra8HstlOtK_",
        "colab_type": "code",
        "colab": {}
      },
      "source": [
        "# Make some interaction features:\n",
        "\n",
        "df['Area x Qual'] = df['LotArea'] * df['neighborhood_qual']"
      ],
      "execution_count": 0,
      "outputs": []
    },
    {
      "cell_type": "code",
      "metadata": {
        "id": "hJduVRUzGhEO",
        "colab_type": "code",
        "colab": {}
      },
      "source": [
        "imputer = SimpleImputer()"
      ],
      "execution_count": 0,
      "outputs": []
    },
    {
      "cell_type": "code",
      "metadata": {
        "id": "FZ8Lcuu9XABI",
        "colab_type": "code",
        "colab": {
          "base_uri": "https://localhost:8080/",
          "height": 2057
        },
        "outputId": "033cfe15-4d19-47c0-f2ef-21ad00a1ac0a"
      },
      "source": [
        "import sklearn\n",
        "help(sklearn.tree._tree.Tree)"
      ],
      "execution_count": 44,
      "outputs": [
        {
          "output_type": "stream",
          "text": [
            "Help on class Tree in module sklearn.tree._tree:\n",
            "\n",
            "class Tree(builtins.object)\n",
            " |  Array-based representation of a binary decision tree.\n",
            " |  \n",
            " |  The binary tree is represented as a number of parallel arrays. The i-th\n",
            " |  element of each array holds information about the node `i`. Node 0 is the\n",
            " |  tree's root. You can find a detailed description of all arrays in\n",
            " |  `_tree.pxd`. NOTE: Some of the arrays only apply to either leaves or split\n",
            " |  nodes, resp. In this case the values of nodes of the other type are\n",
            " |  arbitrary!\n",
            " |  \n",
            " |  Attributes\n",
            " |  ----------\n",
            " |  node_count : int\n",
            " |      The number of nodes (internal nodes + leaves) in the tree.\n",
            " |  \n",
            " |  capacity : int\n",
            " |      The current capacity (i.e., size) of the arrays, which is at least as\n",
            " |      great as `node_count`.\n",
            " |  \n",
            " |  max_depth : int\n",
            " |      The maximal depth of the tree.\n",
            " |  \n",
            " |  children_left : array of int, shape [node_count]\n",
            " |      children_left[i] holds the node id of the left child of node i.\n",
            " |      For leaves, children_left[i] == TREE_LEAF. Otherwise,\n",
            " |      children_left[i] > i. This child handles the case where\n",
            " |      X[:, feature[i]] <= threshold[i].\n",
            " |  \n",
            " |  children_right : array of int, shape [node_count]\n",
            " |      children_right[i] holds the node id of the right child of node i.\n",
            " |      For leaves, children_right[i] == TREE_LEAF. Otherwise,\n",
            " |      children_right[i] > i. This child handles the case where\n",
            " |      X[:, feature[i]] > threshold[i].\n",
            " |  \n",
            " |  feature : array of int, shape [node_count]\n",
            " |      feature[i] holds the feature to split on, for the internal node i.\n",
            " |  \n",
            " |  threshold : array of double, shape [node_count]\n",
            " |      threshold[i] holds the threshold for the internal node i.\n",
            " |  \n",
            " |  value : array of double, shape [node_count, n_outputs, max_n_classes]\n",
            " |      Contains the constant prediction value of each node.\n",
            " |  \n",
            " |  impurity : array of double, shape [node_count]\n",
            " |      impurity[i] holds the impurity (i.e., the value of the splitting\n",
            " |      criterion) at node i.\n",
            " |  \n",
            " |  n_node_samples : array of int, shape [node_count]\n",
            " |      n_node_samples[i] holds the number of training samples reaching node i.\n",
            " |  \n",
            " |  weighted_n_node_samples : array of int, shape [node_count]\n",
            " |      weighted_n_node_samples[i] holds the weighted number of training samples\n",
            " |      reaching node i.\n",
            " |  \n",
            " |  Methods defined here:\n",
            " |  \n",
            " |  __getstate__(...)\n",
            " |      Getstate re-implementation, for pickling.\n",
            " |  \n",
            " |  __new__(*args, **kwargs) from builtins.type\n",
            " |      Create and return a new object.  See help(type) for accurate signature.\n",
            " |  \n",
            " |  __reduce__(...)\n",
            " |      Reduce re-implementation, for pickling.\n",
            " |  \n",
            " |  __setstate__(...)\n",
            " |      Setstate re-implementation, for unpickling.\n",
            " |  \n",
            " |  apply(...)\n",
            " |      Finds the terminal region (=leaf node) for each sample in X.\n",
            " |  \n",
            " |  compute_feature_importances(...)\n",
            " |      Computes the importance of each feature (aka variable).\n",
            " |  \n",
            " |  decision_path(...)\n",
            " |      Finds the decision path (=node) for each sample in X.\n",
            " |  \n",
            " |  predict(...)\n",
            " |      Predict target for X.\n",
            " |  \n",
            " |  ----------------------------------------------------------------------\n",
            " |  Data descriptors defined here:\n",
            " |  \n",
            " |  capacity\n",
            " |  \n",
            " |  children_left\n",
            " |  \n",
            " |  children_right\n",
            " |  \n",
            " |  feature\n",
            " |  \n",
            " |  impurity\n",
            " |  \n",
            " |  max_depth\n",
            " |  \n",
            " |  max_n_classes\n",
            " |  \n",
            " |  n_classes\n",
            " |  \n",
            " |  n_features\n",
            " |  \n",
            " |  n_node_samples\n",
            " |  \n",
            " |  n_outputs\n",
            " |  \n",
            " |  node_count\n",
            " |  \n",
            " |  threshold\n",
            " |  \n",
            " |  value\n",
            " |  \n",
            " |  weighted_n_node_samples\n",
            " |  \n",
            " |  ----------------------------------------------------------------------\n",
            " |  Data and other attributes defined here:\n",
            " |  \n",
            " |  __pyx_vtable__ = <capsule object NULL>\n",
            "\n"
          ],
          "name": "stdout"
        }
      ]
    },
    {
      "cell_type": "code",
      "metadata": {
        "id": "fK6AkkCeHLwC",
        "colab_type": "code",
        "outputId": "0ccf1f87-92e7-4d31-8f17-cd13e24a992c",
        "colab": {
          "base_uri": "https://localhost:8080/",
          "height": 711
        }
      },
      "source": [
        "%matplotlib notebook\n",
        "%matplotlib notebook\n",
        "%matplotlib notebook\n",
        "\n",
        "features = ['LotArea', 'Area x Qual', 'neighborhood_qual', 'neighborhood_avg_sale_price']\n",
        "df_x = df[features]\n",
        "df_x = df.select_dtypes('number').drop(columns=['SalePrice', 'ln_price'])\n",
        "df_y = df['SalePrice']\n",
        "tree = DecisionTreeRegressor(max_depth = 4)#, max_features = 5)\n",
        "tree.fit(df_x, df_y)\n",
        "\n",
        "print(len(tree.feature_importances_))\n",
        "print(\"RMSE:\", np.sqrt(mean_squared_error(df_y, tree.predict(df_x))))\n",
        "display(viztree(tree, df_x.columns))\n"
      ],
      "execution_count": 87,
      "outputs": [
        {
          "output_type": "stream",
          "text": [
            "57\n",
            "RMSE: 34232.63678658307\n"
          ],
          "name": "stdout"
        },
        {
          "output_type": "display_data",
          "data": {
            "text/plain": [
              "<graphviz.files.Source at 0x7fd254cb3a20>"
            ],
            "image/svg+xml": "<?xml version=\"1.0\" encoding=\"UTF-8\" standalone=\"no\"?>\n<!DOCTYPE svg PUBLIC \"-//W3C//DTD SVG 1.1//EN\"\n \"http://www.w3.org/Graphics/SVG/1.1/DTD/svg11.dtd\">\n<!-- Generated by graphviz version 2.40.1 (20161225.0304)\n -->\n<!-- Title: Tree Pages: 1 -->\n<svg width=\"2892pt\" height=\"477pt\"\n viewBox=\"0.00 0.00 2892.00 477.00\" xmlns=\"http://www.w3.org/2000/svg\" xmlns:xlink=\"http://www.w3.org/1999/xlink\">\n<g id=\"graph0\" class=\"graph\" transform=\"scale(1 1) rotate(0) translate(4 473)\">\n<title>Tree</title>\n<polygon fill=\"#ffffff\" stroke=\"transparent\" points=\"-4,4 -4,-473 2888,-473 2888,4 -4,4\"/>\n<!-- 0 -->\n<g id=\"node1\" class=\"node\">\n<title>0</title>\n<path fill=\"#e58139\" fill-opacity=\"0.109804\" stroke=\"#000000\" d=\"M1536,-469C1536,-469 1389,-469 1389,-469 1383,-469 1377,-463 1377,-457 1377,-457 1377,-413 1377,-413 1377,-407 1383,-401 1389,-401 1389,-401 1536,-401 1536,-401 1542,-401 1548,-407 1548,-413 1548,-413 1548,-457 1548,-457 1548,-463 1542,-469 1536,-469\"/>\n<text text-anchor=\"middle\" x=\"1462.5\" y=\"-453.8\" font-family=\"Helvetica,sans-Serif\" font-size=\"14.00\" fill=\"#000000\">OverallQual &lt;= 7.5</text>\n<text text-anchor=\"middle\" x=\"1462.5\" y=\"-438.8\" font-family=\"Helvetica,sans-Serif\" font-size=\"14.00\" fill=\"#000000\">mse = 6281867751.788</text>\n<text text-anchor=\"middle\" x=\"1462.5\" y=\"-423.8\" font-family=\"Helvetica,sans-Serif\" font-size=\"14.00\" fill=\"#000000\">samples = 1452</text>\n<text text-anchor=\"middle\" x=\"1462.5\" y=\"-408.8\" font-family=\"Helvetica,sans-Serif\" font-size=\"14.00\" fill=\"#000000\">value = 180615.063</text>\n</g>\n<!-- 1 -->\n<g id=\"node2\" class=\"node\">\n<title>1</title>\n<path fill=\"#e58139\" fill-opacity=\"0.074510\" stroke=\"#000000\" d=\"M1232.5,-365C1232.5,-365 940.5,-365 940.5,-365 934.5,-365 928.5,-359 928.5,-353 928.5,-353 928.5,-309 928.5,-309 928.5,-303 934.5,-297 940.5,-297 940.5,-297 1232.5,-297 1232.5,-297 1238.5,-297 1244.5,-303 1244.5,-309 1244.5,-309 1244.5,-353 1244.5,-353 1244.5,-359 1238.5,-365 1232.5,-365\"/>\n<text text-anchor=\"middle\" x=\"1086.5\" y=\"-349.8\" font-family=\"Helvetica,sans-Serif\" font-size=\"14.00\" fill=\"#000000\">neighborhood_avg_sale_price &lt;= 171427.234</text>\n<text text-anchor=\"middle\" x=\"1086.5\" y=\"-334.8\" font-family=\"Helvetica,sans-Serif\" font-size=\"14.00\" fill=\"#000000\">mse = 2430062305.866</text>\n<text text-anchor=\"middle\" x=\"1086.5\" y=\"-319.8\" font-family=\"Helvetica,sans-Serif\" font-size=\"14.00\" fill=\"#000000\">samples = 1225</text>\n<text text-anchor=\"middle\" x=\"1086.5\" y=\"-304.8\" font-family=\"Helvetica,sans-Serif\" font-size=\"14.00\" fill=\"#000000\">value = 157634.164</text>\n</g>\n<!-- 0&#45;&gt;1 -->\n<g id=\"edge1\" class=\"edge\">\n<title>0&#45;&gt;1</title>\n<path fill=\"none\" stroke=\"#000000\" d=\"M1376.7093,-411.2707C1330.1873,-398.4029 1271.6683,-382.2168 1219.387,-367.756\"/>\n<polygon fill=\"#000000\" stroke=\"#000000\" points=\"1220.2731,-364.3697 1209.7019,-365.0771 1218.4069,-371.1164 1220.2731,-364.3697\"/>\n<text text-anchor=\"middle\" x=\"1222.0272\" y=\"-383.1277\" font-family=\"Helvetica,sans-Serif\" font-size=\"14.00\" fill=\"#000000\">True</text>\n</g>\n<!-- 16 -->\n<g id=\"node17\" class=\"node\">\n<title>16</title>\n<path fill=\"#e58139\" fill-opacity=\"0.305882\" stroke=\"#000000\" d=\"M1914,-365C1914,-365 1767,-365 1767,-365 1761,-365 1755,-359 1755,-353 1755,-353 1755,-309 1755,-309 1755,-303 1761,-297 1767,-297 1767,-297 1914,-297 1914,-297 1920,-297 1926,-303 1926,-309 1926,-309 1926,-353 1926,-353 1926,-359 1920,-365 1914,-365\"/>\n<text text-anchor=\"middle\" x=\"1840.5\" y=\"-349.8\" font-family=\"Helvetica,sans-Serif\" font-size=\"14.00\" fill=\"#000000\">OverallQual &lt;= 8.5</text>\n<text text-anchor=\"middle\" x=\"1840.5\" y=\"-334.8\" font-family=\"Helvetica,sans-Serif\" font-size=\"14.00\" fill=\"#000000\">mse = 8838111327.836</text>\n<text text-anchor=\"middle\" x=\"1840.5\" y=\"-319.8\" font-family=\"Helvetica,sans-Serif\" font-size=\"14.00\" fill=\"#000000\">samples = 227</text>\n<text text-anchor=\"middle\" x=\"1840.5\" y=\"-304.8\" font-family=\"Helvetica,sans-Serif\" font-size=\"14.00\" fill=\"#000000\">value = 304630.93</text>\n</g>\n<!-- 0&#45;&gt;16 -->\n<g id=\"edge16\" class=\"edge\">\n<title>0&#45;&gt;16</title>\n<path fill=\"none\" stroke=\"#000000\" d=\"M1548.2741,-411.4008C1606.7706,-395.3065 1684.2979,-373.9762 1744.7991,-357.3304\"/>\n<polygon fill=\"#000000\" stroke=\"#000000\" points=\"1746.0256,-360.6231 1754.7389,-354.5957 1744.1687,-353.8739 1746.0256,-360.6231\"/>\n<text text-anchor=\"middle\" x=\"1742.384\" y=\"-372.6294\" font-family=\"Helvetica,sans-Serif\" font-size=\"14.00\" fill=\"#000000\">False</text>\n</g>\n<!-- 2 -->\n<g id=\"node3\" class=\"node\">\n<title>2</title>\n<path fill=\"#e58139\" fill-opacity=\"0.035294\" stroke=\"#000000\" d=\"M612,-261C612,-261 465,-261 465,-261 459,-261 453,-255 453,-249 453,-249 453,-205 453,-205 453,-199 459,-193 465,-193 465,-193 612,-193 612,-193 618,-193 624,-199 624,-205 624,-205 624,-249 624,-249 624,-255 618,-261 612,-261\"/>\n<text text-anchor=\"middle\" x=\"538.5\" y=\"-245.8\" font-family=\"Helvetica,sans-Serif\" font-size=\"14.00\" fill=\"#000000\">1stFlrSF &lt;= 1050.5</text>\n<text text-anchor=\"middle\" x=\"538.5\" y=\"-230.8\" font-family=\"Helvetica,sans-Serif\" font-size=\"14.00\" fill=\"#000000\">mse = 1226582805.184</text>\n<text text-anchor=\"middle\" x=\"538.5\" y=\"-215.8\" font-family=\"Helvetica,sans-Serif\" font-size=\"14.00\" fill=\"#000000\">samples = 713</text>\n<text text-anchor=\"middle\" x=\"538.5\" y=\"-200.8\" font-family=\"Helvetica,sans-Serif\" font-size=\"14.00\" fill=\"#000000\">value = 132242.481</text>\n</g>\n<!-- 1&#45;&gt;2 -->\n<g id=\"edge2\" class=\"edge\">\n<title>1&#45;&gt;2</title>\n<path fill=\"none\" stroke=\"#000000\" d=\"M928.3634,-300.9887C833.3161,-282.9505 715.4685,-260.5853 634.3684,-245.194\"/>\n<polygon fill=\"#000000\" stroke=\"#000000\" points=\"634.6461,-241.6843 624.1688,-243.2583 633.3408,-248.5615 634.6461,-241.6843\"/>\n</g>\n<!-- 9 -->\n<g id=\"node10\" class=\"node\">\n<title>9</title>\n<path fill=\"#e58139\" fill-opacity=\"0.129412\" stroke=\"#000000\" d=\"M1160,-261C1160,-261 1013,-261 1013,-261 1007,-261 1001,-255 1001,-249 1001,-249 1001,-205 1001,-205 1001,-199 1007,-193 1013,-193 1013,-193 1160,-193 1160,-193 1166,-193 1172,-199 1172,-205 1172,-205 1172,-249 1172,-249 1172,-255 1166,-261 1160,-261\"/>\n<text text-anchor=\"middle\" x=\"1086.5\" y=\"-245.8\" font-family=\"Helvetica,sans-Serif\" font-size=\"14.00\" fill=\"#000000\">GrLivArea &lt;= 1719.0</text>\n<text text-anchor=\"middle\" x=\"1086.5\" y=\"-230.8\" font-family=\"Helvetica,sans-Serif\" font-size=\"14.00\" fill=\"#000000\">mse = 1957831408.703</text>\n<text text-anchor=\"middle\" x=\"1086.5\" y=\"-215.8\" font-family=\"Helvetica,sans-Serif\" font-size=\"14.00\" fill=\"#000000\">samples = 512</text>\n<text text-anchor=\"middle\" x=\"1086.5\" y=\"-200.8\" font-family=\"Helvetica,sans-Serif\" font-size=\"14.00\" fill=\"#000000\">value = 192994.066</text>\n</g>\n<!-- 1&#45;&gt;9 -->\n<g id=\"edge9\" class=\"edge\">\n<title>1&#45;&gt;9</title>\n<path fill=\"none\" stroke=\"#000000\" d=\"M1086.5,-296.9465C1086.5,-288.776 1086.5,-279.9318 1086.5,-271.3697\"/>\n<polygon fill=\"#000000\" stroke=\"#000000\" points=\"1090.0001,-271.13 1086.5,-261.13 1083.0001,-271.13 1090.0001,-271.13\"/>\n</g>\n<!-- 3 -->\n<g id=\"node4\" class=\"node\">\n<title>3</title>\n<path fill=\"#e58139\" fill-opacity=\"0.011765\" stroke=\"#000000\" d=\"M332,-157C332,-157 193,-157 193,-157 187,-157 181,-151 181,-145 181,-145 181,-101 181,-101 181,-95 187,-89 193,-89 193,-89 332,-89 332,-89 338,-89 344,-95 344,-101 344,-101 344,-145 344,-145 344,-151 338,-157 332,-157\"/>\n<text text-anchor=\"middle\" x=\"262.5\" y=\"-141.8\" font-family=\"Helvetica,sans-Serif\" font-size=\"14.00\" fill=\"#000000\">GrLivArea &lt;= 1347.5</text>\n<text text-anchor=\"middle\" x=\"262.5\" y=\"-126.8\" font-family=\"Helvetica,sans-Serif\" font-size=\"14.00\" fill=\"#000000\">mse = 793745409.615</text>\n<text text-anchor=\"middle\" x=\"262.5\" y=\"-111.8\" font-family=\"Helvetica,sans-Serif\" font-size=\"14.00\" fill=\"#000000\">samples = 410</text>\n<text text-anchor=\"middle\" x=\"262.5\" y=\"-96.8\" font-family=\"Helvetica,sans-Serif\" font-size=\"14.00\" fill=\"#000000\">value = 118198.644</text>\n</g>\n<!-- 2&#45;&gt;3 -->\n<g id=\"edge3\" class=\"edge\">\n<title>2&#45;&gt;3</title>\n<path fill=\"none\" stroke=\"#000000\" d=\"M452.6848,-194.6638C421.2785,-182.8296 385.6433,-169.4018 353.7768,-157.3942\"/>\n<polygon fill=\"#000000\" stroke=\"#000000\" points=\"354.6089,-153.9675 344.0171,-153.7166 352.1406,-160.5179 354.6089,-153.9675\"/>\n</g>\n<!-- 6 -->\n<g id=\"node7\" class=\"node\">\n<title>6</title>\n<path fill=\"#e58139\" fill-opacity=\"0.066667\" stroke=\"#000000\" d=\"M612,-157C612,-157 465,-157 465,-157 459,-157 453,-151 453,-145 453,-145 453,-101 453,-101 453,-95 459,-89 465,-89 465,-89 612,-89 612,-89 618,-89 624,-95 624,-101 624,-101 624,-145 624,-145 624,-151 618,-157 612,-157\"/>\n<text text-anchor=\"middle\" x=\"538.5\" y=\"-141.8\" font-family=\"Helvetica,sans-Serif\" font-size=\"14.00\" fill=\"#000000\">OverallQual &lt;= 6.5</text>\n<text text-anchor=\"middle\" x=\"538.5\" y=\"-126.8\" font-family=\"Helvetica,sans-Serif\" font-size=\"14.00\" fill=\"#000000\">mse = 1184270288.741</text>\n<text text-anchor=\"middle\" x=\"538.5\" y=\"-111.8\" font-family=\"Helvetica,sans-Serif\" font-size=\"14.00\" fill=\"#000000\">samples = 303</text>\n<text text-anchor=\"middle\" x=\"538.5\" y=\"-96.8\" font-family=\"Helvetica,sans-Serif\" font-size=\"14.00\" fill=\"#000000\">value = 151245.693</text>\n</g>\n<!-- 2&#45;&gt;6 -->\n<g id=\"edge6\" class=\"edge\">\n<title>2&#45;&gt;6</title>\n<path fill=\"none\" stroke=\"#000000\" d=\"M538.5,-192.9465C538.5,-184.776 538.5,-175.9318 538.5,-167.3697\"/>\n<polygon fill=\"#000000\" stroke=\"#000000\" points=\"542.0001,-167.13 538.5,-157.13 535.0001,-167.13 542.0001,-167.13\"/>\n</g>\n<!-- 4 -->\n<g id=\"node5\" class=\"node\">\n<title>4</title>\n<path fill=\"transparent\" stroke=\"#000000\" d=\"M151,-53C151,-53 12,-53 12,-53 6,-53 0,-47 0,-41 0,-41 0,-12 0,-12 0,-6 6,0 12,0 12,0 151,0 151,0 157,0 163,-6 163,-12 163,-12 163,-41 163,-41 163,-47 157,-53 151,-53\"/>\n<text text-anchor=\"middle\" x=\"81.5\" y=\"-37.8\" font-family=\"Helvetica,sans-Serif\" font-size=\"14.00\" fill=\"#000000\">mse = 595943059.759</text>\n<text text-anchor=\"middle\" x=\"81.5\" y=\"-22.8\" font-family=\"Helvetica,sans-Serif\" font-size=\"14.00\" fill=\"#000000\">samples = 290</text>\n<text text-anchor=\"middle\" x=\"81.5\" y=\"-7.8\" font-family=\"Helvetica,sans-Serif\" font-size=\"14.00\" fill=\"#000000\">value = 109534.59</text>\n</g>\n<!-- 3&#45;&gt;4 -->\n<g id=\"edge4\" class=\"edge\">\n<title>3&#45;&gt;4</title>\n<path fill=\"none\" stroke=\"#000000\" d=\"M198.6862,-88.9777C179.7059,-78.8584 159.0058,-67.8222 140.3567,-57.8794\"/>\n<polygon fill=\"#000000\" stroke=\"#000000\" points=\"141.8538,-54.7112 131.3829,-53.095 138.5605,-60.8882 141.8538,-54.7112\"/>\n</g>\n<!-- 5 -->\n<g id=\"node6\" class=\"node\">\n<title>5</title>\n<path fill=\"#e58139\" fill-opacity=\"0.047059\" stroke=\"#000000\" d=\"M332,-53C332,-53 193,-53 193,-53 187,-53 181,-47 181,-41 181,-41 181,-12 181,-12 181,-6 187,0 193,0 193,0 332,0 332,0 338,0 344,-6 344,-12 344,-12 344,-41 344,-41 344,-47 338,-53 332,-53\"/>\n<text text-anchor=\"middle\" x=\"262.5\" y=\"-37.8\" font-family=\"Helvetica,sans-Serif\" font-size=\"14.00\" fill=\"#000000\">mse = 651953317.574</text>\n<text text-anchor=\"middle\" x=\"262.5\" y=\"-22.8\" font-family=\"Helvetica,sans-Serif\" font-size=\"14.00\" fill=\"#000000\">samples = 120</text>\n<text text-anchor=\"middle\" x=\"262.5\" y=\"-7.8\" font-family=\"Helvetica,sans-Serif\" font-size=\"14.00\" fill=\"#000000\">value = 139136.775</text>\n</g>\n<!-- 3&#45;&gt;5 -->\n<g id=\"edge5\" class=\"edge\">\n<title>3&#45;&gt;5</title>\n<path fill=\"none\" stroke=\"#000000\" d=\"M262.5,-88.9777C262.5,-80.7364 262.5,-71.887 262.5,-63.5153\"/>\n<polygon fill=\"#000000\" stroke=\"#000000\" points=\"266.0001,-63.2484 262.5,-53.2485 259.0001,-63.2485 266.0001,-63.2484\"/>\n</g>\n<!-- 7 -->\n<g id=\"node8\" class=\"node\">\n<title>7</title>\n<path fill=\"#e58139\" fill-opacity=\"0.058824\" stroke=\"#000000\" d=\"M513,-53C513,-53 374,-53 374,-53 368,-53 362,-47 362,-41 362,-41 362,-12 362,-12 362,-6 368,0 374,0 374,0 513,0 513,0 519,0 525,-6 525,-12 525,-12 525,-41 525,-41 525,-47 519,-53 513,-53\"/>\n<text text-anchor=\"middle\" x=\"443.5\" y=\"-37.8\" font-family=\"Helvetica,sans-Serif\" font-size=\"14.00\" fill=\"#000000\">mse = 883932865.864</text>\n<text text-anchor=\"middle\" x=\"443.5\" y=\"-22.8\" font-family=\"Helvetica,sans-Serif\" font-size=\"14.00\" fill=\"#000000\">samples = 280</text>\n<text text-anchor=\"middle\" x=\"443.5\" y=\"-7.8\" font-family=\"Helvetica,sans-Serif\" font-size=\"14.00\" fill=\"#000000\">value = 146673.5</text>\n</g>\n<!-- 6&#45;&gt;7 -->\n<g id=\"edge7\" class=\"edge\">\n<title>6&#45;&gt;7</title>\n<path fill=\"none\" stroke=\"#000000\" d=\"M505.0066,-88.9777C495.9018,-79.7292 486.043,-69.7147 476.9411,-60.4691\"/>\n<polygon fill=\"#000000\" stroke=\"#000000\" points=\"479.3424,-57.9193 469.8327,-53.2485 474.354,-62.8302 479.3424,-57.9193\"/>\n</g>\n<!-- 8 -->\n<g id=\"node9\" class=\"node\">\n<title>8</title>\n<path fill=\"#e58139\" fill-opacity=\"0.152941\" stroke=\"#000000\" d=\"M702,-53C702,-53 555,-53 555,-53 549,-53 543,-47 543,-41 543,-41 543,-12 543,-12 543,-6 549,0 555,0 555,0 702,0 702,0 708,0 714,-6 714,-12 714,-12 714,-41 714,-41 714,-47 708,-53 702,-53\"/>\n<text text-anchor=\"middle\" x=\"628.5\" y=\"-37.8\" font-family=\"Helvetica,sans-Serif\" font-size=\"14.00\" fill=\"#000000\">mse = 1487856471.883</text>\n<text text-anchor=\"middle\" x=\"628.5\" y=\"-22.8\" font-family=\"Helvetica,sans-Serif\" font-size=\"14.00\" fill=\"#000000\">samples = 23</text>\n<text text-anchor=\"middle\" x=\"628.5\" y=\"-7.8\" font-family=\"Helvetica,sans-Serif\" font-size=\"14.00\" fill=\"#000000\">value = 206907.174</text>\n</g>\n<!-- 6&#45;&gt;8 -->\n<g id=\"edge8\" class=\"edge\">\n<title>6&#45;&gt;8</title>\n<path fill=\"none\" stroke=\"#000000\" d=\"M570.2306,-88.9777C578.7708,-79.8207 588.0113,-69.9129 596.5626,-60.744\"/>\n<polygon fill=\"#000000\" stroke=\"#000000\" points=\"599.2923,-62.9488 603.5532,-53.2485 594.1731,-58.1744 599.2923,-62.9488\"/>\n</g>\n<!-- 10 -->\n<g id=\"node11\" class=\"node\">\n<title>10</title>\n<path fill=\"#e58139\" fill-opacity=\"0.101961\" stroke=\"#000000\" d=\"M1066,-157C1066,-157 919,-157 919,-157 913,-157 907,-151 907,-145 907,-145 907,-101 907,-101 907,-95 913,-89 919,-89 919,-89 1066,-89 1066,-89 1072,-89 1078,-95 1078,-101 1078,-101 1078,-145 1078,-145 1078,-151 1072,-157 1066,-157\"/>\n<text text-anchor=\"middle\" x=\"992.5\" y=\"-141.8\" font-family=\"Helvetica,sans-Serif\" font-size=\"14.00\" fill=\"#000000\">GrLivArea &lt;= 1204.0</text>\n<text text-anchor=\"middle\" x=\"992.5\" y=\"-126.8\" font-family=\"Helvetica,sans-Serif\" font-size=\"14.00\" fill=\"#000000\">mse = 1085278231.518</text>\n<text text-anchor=\"middle\" x=\"992.5\" y=\"-111.8\" font-family=\"Helvetica,sans-Serif\" font-size=\"14.00\" fill=\"#000000\">samples = 346</text>\n<text text-anchor=\"middle\" x=\"992.5\" y=\"-96.8\" font-family=\"Helvetica,sans-Serif\" font-size=\"14.00\" fill=\"#000000\">value = 176046.954</text>\n</g>\n<!-- 9&#45;&gt;10 -->\n<g id=\"edge10\" class=\"edge\">\n<title>9&#45;&gt;10</title>\n<path fill=\"none\" stroke=\"#000000\" d=\"M1055.7209,-192.9465C1047.5245,-183.8782 1038.578,-173.9799 1030.0625,-164.5585\"/>\n<polygon fill=\"#000000\" stroke=\"#000000\" points=\"1032.6503,-162.2019 1023.3483,-157.13 1027.4571,-166.8957 1032.6503,-162.2019\"/>\n</g>\n<!-- 13 -->\n<g id=\"node14\" class=\"node\">\n<title>13</title>\n<path fill=\"#e58139\" fill-opacity=\"0.184314\" stroke=\"#000000\" d=\"M1255,-157C1255,-157 1108,-157 1108,-157 1102,-157 1096,-151 1096,-145 1096,-145 1096,-101 1096,-101 1096,-95 1102,-89 1108,-89 1108,-89 1255,-89 1255,-89 1261,-89 1267,-95 1267,-101 1267,-101 1267,-145 1267,-145 1267,-151 1261,-157 1255,-157\"/>\n<text text-anchor=\"middle\" x=\"1181.5\" y=\"-141.8\" font-family=\"Helvetica,sans-Serif\" font-size=\"14.00\" fill=\"#000000\">BsmtFinSF1 &lt;= 860.5</text>\n<text text-anchor=\"middle\" x=\"1181.5\" y=\"-126.8\" font-family=\"Helvetica,sans-Serif\" font-size=\"14.00\" fill=\"#000000\">mse = 1930145611.703</text>\n<text text-anchor=\"middle\" x=\"1181.5\" y=\"-111.8\" font-family=\"Helvetica,sans-Serif\" font-size=\"14.00\" fill=\"#000000\">samples = 166</text>\n<text text-anchor=\"middle\" x=\"1181.5\" y=\"-96.8\" font-family=\"Helvetica,sans-Serif\" font-size=\"14.00\" fill=\"#000000\">value = 228317.566</text>\n</g>\n<!-- 9&#45;&gt;13 -->\n<g id=\"edge13\" class=\"edge\">\n<title>9&#45;&gt;13</title>\n<path fill=\"none\" stroke=\"#000000\" d=\"M1117.6066,-192.9465C1125.8901,-183.8782 1134.9318,-173.9799 1143.5379,-164.5585\"/>\n<polygon fill=\"#000000\" stroke=\"#000000\" points=\"1146.1633,-166.8739 1150.3236,-157.13 1140.995,-162.1528 1146.1633,-166.8739\"/>\n</g>\n<!-- 11 -->\n<g id=\"node12\" class=\"node\">\n<title>11</title>\n<path fill=\"#e58139\" fill-opacity=\"0.050980\" stroke=\"#000000\" d=\"M883,-53C883,-53 744,-53 744,-53 738,-53 732,-47 732,-41 732,-41 732,-12 732,-12 732,-6 738,0 744,0 744,0 883,0 883,0 889,0 895,-6 895,-12 895,-12 895,-41 895,-41 895,-47 889,-53 883,-53\"/>\n<text text-anchor=\"middle\" x=\"813.5\" y=\"-37.8\" font-family=\"Helvetica,sans-Serif\" font-size=\"14.00\" fill=\"#000000\">mse = 457237871.562</text>\n<text text-anchor=\"middle\" x=\"813.5\" y=\"-22.8\" font-family=\"Helvetica,sans-Serif\" font-size=\"14.00\" fill=\"#000000\">samples = 81</text>\n<text text-anchor=\"middle\" x=\"813.5\" y=\"-7.8\" font-family=\"Helvetica,sans-Serif\" font-size=\"14.00\" fill=\"#000000\">value = 141140.765</text>\n</g>\n<!-- 10&#45;&gt;11 -->\n<g id=\"edge11\" class=\"edge\">\n<title>10&#45;&gt;11</title>\n<path fill=\"none\" stroke=\"#000000\" d=\"M929.3913,-88.9777C910.6208,-78.8584 890.1494,-67.8222 871.7063,-57.8794\"/>\n<polygon fill=\"#000000\" stroke=\"#000000\" points=\"873.295,-54.7597 862.8317,-53.095 869.9732,-60.9213 873.295,-54.7597\"/>\n</g>\n<!-- 12 -->\n<g id=\"node13\" class=\"node\">\n<title>12</title>\n<path fill=\"#e58139\" fill-opacity=\"0.121569\" stroke=\"#000000\" d=\"M1064,-53C1064,-53 925,-53 925,-53 919,-53 913,-47 913,-41 913,-41 913,-12 913,-12 913,-6 919,0 925,0 925,0 1064,0 1064,0 1070,0 1076,-6 1076,-12 1076,-12 1076,-41 1076,-41 1076,-47 1070,-53 1064,-53\"/>\n<text text-anchor=\"middle\" x=\"994.5\" y=\"-37.8\" font-family=\"Helvetica,sans-Serif\" font-size=\"14.00\" fill=\"#000000\">mse = 790978926.427</text>\n<text text-anchor=\"middle\" x=\"994.5\" y=\"-22.8\" font-family=\"Helvetica,sans-Serif\" font-size=\"14.00\" fill=\"#000000\">samples = 265</text>\n<text text-anchor=\"middle\" x=\"994.5\" y=\"-7.8\" font-family=\"Helvetica,sans-Serif\" font-size=\"14.00\" fill=\"#000000\">value = 186716.392</text>\n</g>\n<!-- 10&#45;&gt;12 -->\n<g id=\"edge12\" class=\"edge\">\n<title>10&#45;&gt;12</title>\n<path fill=\"none\" stroke=\"#000000\" d=\"M993.2051,-88.9777C993.3759,-80.7364 993.5593,-71.887 993.7328,-63.5153\"/>\n<polygon fill=\"#000000\" stroke=\"#000000\" points=\"997.2376,-63.3189 993.9456,-53.2485 990.2391,-63.1738 997.2376,-63.3189\"/>\n</g>\n<!-- 14 -->\n<g id=\"node15\" class=\"node\">\n<title>14</title>\n<path fill=\"#e58139\" fill-opacity=\"0.168627\" stroke=\"#000000\" d=\"M1253,-53C1253,-53 1106,-53 1106,-53 1100,-53 1094,-47 1094,-41 1094,-41 1094,-12 1094,-12 1094,-6 1100,0 1106,0 1106,0 1253,0 1253,0 1259,0 1265,-6 1265,-12 1265,-12 1265,-41 1265,-41 1265,-47 1259,-53 1253,-53\"/>\n<text text-anchor=\"middle\" x=\"1179.5\" y=\"-37.8\" font-family=\"Helvetica,sans-Serif\" font-size=\"14.00\" fill=\"#000000\">mse = 1228707036.258</text>\n<text text-anchor=\"middle\" x=\"1179.5\" y=\"-22.8\" font-family=\"Helvetica,sans-Serif\" font-size=\"14.00\" fill=\"#000000\">samples = 137</text>\n<text text-anchor=\"middle\" x=\"1179.5\" y=\"-7.8\" font-family=\"Helvetica,sans-Serif\" font-size=\"14.00\" fill=\"#000000\">value = 217081.416</text>\n</g>\n<!-- 13&#45;&gt;14 -->\n<g id=\"edge14\" class=\"edge\">\n<title>13&#45;&gt;14</title>\n<path fill=\"none\" stroke=\"#000000\" d=\"M1180.7949,-88.9777C1180.6241,-80.7364 1180.4407,-71.887 1180.2672,-63.5153\"/>\n<polygon fill=\"#000000\" stroke=\"#000000\" points=\"1183.7609,-63.1738 1180.0544,-53.2485 1176.7624,-63.3189 1183.7609,-63.1738\"/>\n</g>\n<!-- 15 -->\n<g id=\"node16\" class=\"node\">\n<title>15</title>\n<path fill=\"#e58139\" fill-opacity=\"0.266667\" stroke=\"#000000\" d=\"M1442,-53C1442,-53 1295,-53 1295,-53 1289,-53 1283,-47 1283,-41 1283,-41 1283,-12 1283,-12 1283,-6 1289,0 1295,0 1295,0 1442,0 1442,0 1448,0 1454,-6 1454,-12 1454,-12 1454,-41 1454,-41 1454,-47 1448,-53 1442,-53\"/>\n<text text-anchor=\"middle\" x=\"1368.5\" y=\"-37.8\" font-family=\"Helvetica,sans-Serif\" font-size=\"14.00\" fill=\"#000000\">mse = 1829805056.352</text>\n<text text-anchor=\"middle\" x=\"1368.5\" y=\"-22.8\" font-family=\"Helvetica,sans-Serif\" font-size=\"14.00\" fill=\"#000000\">samples = 29</text>\n<text text-anchor=\"middle\" x=\"1368.5\" y=\"-7.8\" font-family=\"Helvetica,sans-Serif\" font-size=\"14.00\" fill=\"#000000\">value = 281398.69</text>\n</g>\n<!-- 13&#45;&gt;15 -->\n<g id=\"edge15\" class=\"edge\">\n<title>13&#45;&gt;15</title>\n<path fill=\"none\" stroke=\"#000000\" d=\"M1247.4292,-88.9777C1267.1278,-78.8124 1288.6194,-67.7218 1307.9549,-57.7439\"/>\n<polygon fill=\"#000000\" stroke=\"#000000\" points=\"1309.682,-60.7912 1316.9635,-53.095 1306.4719,-54.5706 1309.682,-60.7912\"/>\n</g>\n<!-- 17 -->\n<g id=\"node18\" class=\"node\">\n<title>17</title>\n<path fill=\"#e58139\" fill-opacity=\"0.258824\" stroke=\"#000000\" d=\"M1914,-261C1914,-261 1767,-261 1767,-261 1761,-261 1755,-255 1755,-249 1755,-249 1755,-205 1755,-205 1755,-199 1761,-193 1767,-193 1767,-193 1914,-193 1914,-193 1920,-193 1926,-199 1926,-205 1926,-205 1926,-249 1926,-249 1926,-255 1920,-261 1914,-261\"/>\n<text text-anchor=\"middle\" x=\"1840.5\" y=\"-245.8\" font-family=\"Helvetica,sans-Serif\" font-size=\"14.00\" fill=\"#000000\">GrLivArea &lt;= 1971.5</text>\n<text text-anchor=\"middle\" x=\"1840.5\" y=\"-230.8\" font-family=\"Helvetica,sans-Serif\" font-size=\"14.00\" fill=\"#000000\">mse = 4074491880.238</text>\n<text text-anchor=\"middle\" x=\"1840.5\" y=\"-215.8\" font-family=\"Helvetica,sans-Serif\" font-size=\"14.00\" fill=\"#000000\">samples = 167</text>\n<text text-anchor=\"middle\" x=\"1840.5\" y=\"-200.8\" font-family=\"Helvetica,sans-Serif\" font-size=\"14.00\" fill=\"#000000\">value = 274961.497</text>\n</g>\n<!-- 16&#45;&gt;17 -->\n<g id=\"edge17\" class=\"edge\">\n<title>16&#45;&gt;17</title>\n<path fill=\"none\" stroke=\"#000000\" d=\"M1840.5,-296.9465C1840.5,-288.776 1840.5,-279.9318 1840.5,-271.3697\"/>\n<polygon fill=\"#000000\" stroke=\"#000000\" points=\"1844.0001,-271.13 1840.5,-261.13 1837.0001,-271.13 1844.0001,-271.13\"/>\n</g>\n<!-- 24 -->\n<g id=\"node25\" class=\"node\">\n<title>24</title>\n<path fill=\"#e58139\" fill-opacity=\"0.435294\" stroke=\"#000000\" d=\"M2471,-261C2471,-261 2316,-261 2316,-261 2310,-261 2304,-255 2304,-249 2304,-249 2304,-205 2304,-205 2304,-199 2310,-193 2316,-193 2316,-193 2471,-193 2471,-193 2477,-193 2483,-199 2483,-205 2483,-205 2483,-249 2483,-249 2483,-255 2477,-261 2471,-261\"/>\n<text text-anchor=\"middle\" x=\"2393.5\" y=\"-245.8\" font-family=\"Helvetica,sans-Serif\" font-size=\"14.00\" fill=\"#000000\">2ndFlrSF &lt;= 1667.0</text>\n<text text-anchor=\"middle\" x=\"2393.5\" y=\"-230.8\" font-family=\"Helvetica,sans-Serif\" font-size=\"14.00\" fill=\"#000000\">mse = 12827309478.961</text>\n<text text-anchor=\"middle\" x=\"2393.5\" y=\"-215.8\" font-family=\"Helvetica,sans-Serif\" font-size=\"14.00\" fill=\"#000000\">samples = 60</text>\n<text text-anchor=\"middle\" x=\"2393.5\" y=\"-200.8\" font-family=\"Helvetica,sans-Serif\" font-size=\"14.00\" fill=\"#000000\">value = 387210.85</text>\n</g>\n<!-- 16&#45;&gt;24 -->\n<g id=\"edge24\" class=\"edge\">\n<title>16&#45;&gt;24</title>\n<path fill=\"none\" stroke=\"#000000\" d=\"M1926.2995,-314.8641C2025.6355,-296.1825 2188.9977,-265.4597 2293.8654,-245.7378\"/>\n<polygon fill=\"#000000\" stroke=\"#000000\" points=\"2294.6464,-249.1524 2303.8272,-243.8643 2293.3525,-242.273 2294.6464,-249.1524\"/>\n</g>\n<!-- 18 -->\n<g id=\"node19\" class=\"node\">\n<title>18</title>\n<path fill=\"#e58139\" fill-opacity=\"0.219608\" stroke=\"#000000\" d=\"M1820,-157C1820,-157 1673,-157 1673,-157 1667,-157 1661,-151 1661,-145 1661,-145 1661,-101 1661,-101 1661,-95 1667,-89 1673,-89 1673,-89 1820,-89 1820,-89 1826,-89 1832,-95 1832,-101 1832,-101 1832,-145 1832,-145 1832,-151 1826,-157 1820,-157\"/>\n<text text-anchor=\"middle\" x=\"1746.5\" y=\"-141.8\" font-family=\"Helvetica,sans-Serif\" font-size=\"14.00\" fill=\"#000000\">BsmtFinSF1 &lt;= 940.5</text>\n<text text-anchor=\"middle\" x=\"1746.5\" y=\"-126.8\" font-family=\"Helvetica,sans-Serif\" font-size=\"14.00\" fill=\"#000000\">mse = 2332108528.579</text>\n<text text-anchor=\"middle\" x=\"1746.5\" y=\"-111.8\" font-family=\"Helvetica,sans-Serif\" font-size=\"14.00\" fill=\"#000000\">samples = 103</text>\n<text text-anchor=\"middle\" x=\"1746.5\" y=\"-96.8\" font-family=\"Helvetica,sans-Serif\" font-size=\"14.00\" fill=\"#000000\">value = 249392.466</text>\n</g>\n<!-- 17&#45;&gt;18 -->\n<g id=\"edge18\" class=\"edge\">\n<title>17&#45;&gt;18</title>\n<path fill=\"none\" stroke=\"#000000\" d=\"M1809.7209,-192.9465C1801.5245,-183.8782 1792.578,-173.9799 1784.0625,-164.5585\"/>\n<polygon fill=\"#000000\" stroke=\"#000000\" points=\"1786.6503,-162.2019 1777.3483,-157.13 1781.4571,-166.8957 1786.6503,-162.2019\"/>\n</g>\n<!-- 21 -->\n<g id=\"node22\" class=\"node\">\n<title>21</title>\n<path fill=\"#e58139\" fill-opacity=\"0.321569\" stroke=\"#000000\" d=\"M2009,-157C2009,-157 1862,-157 1862,-157 1856,-157 1850,-151 1850,-145 1850,-145 1850,-101 1850,-101 1850,-95 1856,-89 1862,-89 1862,-89 2009,-89 2009,-89 2015,-89 2021,-95 2021,-101 2021,-101 2021,-145 2021,-145 2021,-151 2015,-157 2009,-157\"/>\n<text text-anchor=\"middle\" x=\"1935.5\" y=\"-141.8\" font-family=\"Helvetica,sans-Serif\" font-size=\"14.00\" fill=\"#000000\">1stFlrSF &lt;= 1383.5</text>\n<text text-anchor=\"middle\" x=\"1935.5\" y=\"-126.8\" font-family=\"Helvetica,sans-Serif\" font-size=\"14.00\" fill=\"#000000\">mse = 4133134784.194</text>\n<text text-anchor=\"middle\" x=\"1935.5\" y=\"-111.8\" font-family=\"Helvetica,sans-Serif\" font-size=\"14.00\" fill=\"#000000\">samples = 64</text>\n<text text-anchor=\"middle\" x=\"1935.5\" y=\"-96.8\" font-family=\"Helvetica,sans-Serif\" font-size=\"14.00\" fill=\"#000000\">value = 316111.656</text>\n</g>\n<!-- 17&#45;&gt;21 -->\n<g id=\"edge21\" class=\"edge\">\n<title>17&#45;&gt;21</title>\n<path fill=\"none\" stroke=\"#000000\" d=\"M1871.6066,-192.9465C1879.8901,-183.8782 1888.9318,-173.9799 1897.5379,-164.5585\"/>\n<polygon fill=\"#000000\" stroke=\"#000000\" points=\"1900.1633,-166.8739 1904.3236,-157.13 1894.995,-162.1528 1900.1633,-166.8739\"/>\n</g>\n<!-- 19 -->\n<g id=\"node20\" class=\"node\">\n<title>19</title>\n<path fill=\"#e58139\" fill-opacity=\"0.188235\" stroke=\"#000000\" d=\"M1631,-53C1631,-53 1484,-53 1484,-53 1478,-53 1472,-47 1472,-41 1472,-41 1472,-12 1472,-12 1472,-6 1478,0 1484,0 1484,0 1631,0 1631,0 1637,0 1643,-6 1643,-12 1643,-12 1643,-41 1643,-41 1643,-47 1637,-53 1631,-53\"/>\n<text text-anchor=\"middle\" x=\"1557.5\" y=\"-37.8\" font-family=\"Helvetica,sans-Serif\" font-size=\"14.00\" fill=\"#000000\">mse = 1327343805.961</text>\n<text text-anchor=\"middle\" x=\"1557.5\" y=\"-22.8\" font-family=\"Helvetica,sans-Serif\" font-size=\"14.00\" fill=\"#000000\">samples = 67</text>\n<text text-anchor=\"middle\" x=\"1557.5\" y=\"-7.8\" font-family=\"Helvetica,sans-Serif\" font-size=\"14.00\" fill=\"#000000\">value = 230072.642</text>\n</g>\n<!-- 18&#45;&gt;19 -->\n<g id=\"edge19\" class=\"edge\">\n<title>18&#45;&gt;19</title>\n<path fill=\"none\" stroke=\"#000000\" d=\"M1679.8657,-88.9777C1659.9564,-78.8124 1638.235,-67.7218 1618.6927,-57.7439\"/>\n<polygon fill=\"#000000\" stroke=\"#000000\" points=\"1620.0855,-54.5253 1609.5877,-53.095 1616.9023,-60.7596 1620.0855,-54.5253\"/>\n</g>\n<!-- 20 -->\n<g id=\"node21\" class=\"node\">\n<title>20</title>\n<path fill=\"#e58139\" fill-opacity=\"0.274510\" stroke=\"#000000\" d=\"M1820,-53C1820,-53 1673,-53 1673,-53 1667,-53 1661,-47 1661,-41 1661,-41 1661,-12 1661,-12 1661,-6 1667,0 1673,0 1673,0 1820,0 1820,0 1826,0 1832,-6 1832,-12 1832,-12 1832,-41 1832,-41 1832,-47 1826,-53 1820,-53\"/>\n<text text-anchor=\"middle\" x=\"1746.5\" y=\"-37.8\" font-family=\"Helvetica,sans-Serif\" font-size=\"14.00\" fill=\"#000000\">mse = 2214558805.323</text>\n<text text-anchor=\"middle\" x=\"1746.5\" y=\"-22.8\" font-family=\"Helvetica,sans-Serif\" font-size=\"14.00\" fill=\"#000000\">samples = 36</text>\n<text text-anchor=\"middle\" x=\"1746.5\" y=\"-7.8\" font-family=\"Helvetica,sans-Serif\" font-size=\"14.00\" fill=\"#000000\">value = 285348.806</text>\n</g>\n<!-- 18&#45;&gt;20 -->\n<g id=\"edge20\" class=\"edge\">\n<title>18&#45;&gt;20</title>\n<path fill=\"none\" stroke=\"#000000\" d=\"M1746.5,-88.9777C1746.5,-80.7364 1746.5,-71.887 1746.5,-63.5153\"/>\n<polygon fill=\"#000000\" stroke=\"#000000\" points=\"1750.0001,-63.2484 1746.5,-53.2485 1743.0001,-63.2485 1750.0001,-63.2484\"/>\n</g>\n<!-- 22 -->\n<g id=\"node23\" class=\"node\">\n<title>22</title>\n<path fill=\"#e58139\" fill-opacity=\"0.270588\" stroke=\"#000000\" d=\"M2009,-53C2009,-53 1862,-53 1862,-53 1856,-53 1850,-47 1850,-41 1850,-41 1850,-12 1850,-12 1850,-6 1856,0 1862,0 1862,0 2009,0 2009,0 2015,0 2021,-6 2021,-12 2021,-12 2021,-41 2021,-41 2021,-47 2015,-53 2009,-53\"/>\n<text text-anchor=\"middle\" x=\"1935.5\" y=\"-37.8\" font-family=\"Helvetica,sans-Serif\" font-size=\"14.00\" fill=\"#000000\">mse = 2187587434.382</text>\n<text text-anchor=\"middle\" x=\"1935.5\" y=\"-22.8\" font-family=\"Helvetica,sans-Serif\" font-size=\"14.00\" fill=\"#000000\">samples = 32</text>\n<text text-anchor=\"middle\" x=\"1935.5\" y=\"-7.8\" font-family=\"Helvetica,sans-Serif\" font-size=\"14.00\" fill=\"#000000\">value = 282526.844</text>\n</g>\n<!-- 21&#45;&gt;22 -->\n<g id=\"edge22\" class=\"edge\">\n<title>21&#45;&gt;22</title>\n<path fill=\"none\" stroke=\"#000000\" d=\"M1935.5,-88.9777C1935.5,-80.7364 1935.5,-71.887 1935.5,-63.5153\"/>\n<polygon fill=\"#000000\" stroke=\"#000000\" points=\"1939.0001,-63.2484 1935.5,-53.2485 1932.0001,-63.2485 1939.0001,-63.2484\"/>\n</g>\n<!-- 23 -->\n<g id=\"node24\" class=\"node\">\n<title>23</title>\n<path fill=\"#e58139\" fill-opacity=\"0.376471\" stroke=\"#000000\" d=\"M2198,-53C2198,-53 2051,-53 2051,-53 2045,-53 2039,-47 2039,-41 2039,-41 2039,-12 2039,-12 2039,-6 2045,0 2051,0 2051,0 2198,0 2198,0 2204,0 2210,-6 2210,-12 2210,-12 2210,-41 2210,-41 2210,-47 2204,-53 2198,-53\"/>\n<text text-anchor=\"middle\" x=\"2124.5\" y=\"-37.8\" font-family=\"Helvetica,sans-Serif\" font-size=\"14.00\" fill=\"#000000\">mse = 3822802872.687</text>\n<text text-anchor=\"middle\" x=\"2124.5\" y=\"-22.8\" font-family=\"Helvetica,sans-Serif\" font-size=\"14.00\" fill=\"#000000\">samples = 32</text>\n<text text-anchor=\"middle\" x=\"2124.5\" y=\"-7.8\" font-family=\"Helvetica,sans-Serif\" font-size=\"14.00\" fill=\"#000000\">value = 349696.469</text>\n</g>\n<!-- 21&#45;&gt;23 -->\n<g id=\"edge23\" class=\"edge\">\n<title>21&#45;&gt;23</title>\n<path fill=\"none\" stroke=\"#000000\" d=\"M2002.1343,-88.9777C2022.0436,-78.8124 2043.765,-67.7218 2063.3073,-57.7439\"/>\n<polygon fill=\"#000000\" stroke=\"#000000\" points=\"2065.0977,-60.7596 2072.4123,-53.095 2061.9145,-54.5253 2065.0977,-60.7596\"/>\n</g>\n<!-- 25 -->\n<g id=\"node26\" class=\"node\">\n<title>25</title>\n<path fill=\"#e58139\" fill-opacity=\"0.407843\" stroke=\"#000000\" d=\"M2467,-157C2467,-157 2320,-157 2320,-157 2314,-157 2308,-151 2308,-145 2308,-145 2308,-101 2308,-101 2308,-95 2314,-89 2320,-89 2320,-89 2467,-89 2467,-89 2473,-89 2479,-95 2479,-101 2479,-101 2479,-145 2479,-145 2479,-151 2473,-157 2467,-157\"/>\n<text text-anchor=\"middle\" x=\"2393.5\" y=\"-141.8\" font-family=\"Helvetica,sans-Serif\" font-size=\"14.00\" fill=\"#000000\">GarageCars &lt;= 2.5</text>\n<text text-anchor=\"middle\" x=\"2393.5\" y=\"-126.8\" font-family=\"Helvetica,sans-Serif\" font-size=\"14.00\" fill=\"#000000\">mse = 7605805338.152</text>\n<text text-anchor=\"middle\" x=\"2393.5\" y=\"-111.8\" font-family=\"Helvetica,sans-Serif\" font-size=\"14.00\" fill=\"#000000\">samples = 57</text>\n<text text-anchor=\"middle\" x=\"2393.5\" y=\"-96.8\" font-family=\"Helvetica,sans-Serif\" font-size=\"14.00\" fill=\"#000000\">value = 370309.667</text>\n</g>\n<!-- 24&#45;&gt;25 -->\n<g id=\"edge25\" class=\"edge\">\n<title>24&#45;&gt;25</title>\n<path fill=\"none\" stroke=\"#000000\" d=\"M2393.5,-192.9465C2393.5,-184.776 2393.5,-175.9318 2393.5,-167.3697\"/>\n<polygon fill=\"#000000\" stroke=\"#000000\" points=\"2397.0001,-167.13 2393.5,-157.13 2390.0001,-167.13 2397.0001,-167.13\"/>\n</g>\n<!-- 28 -->\n<g id=\"node29\" class=\"node\">\n<title>28</title>\n<path fill=\"#e58139\" fill-opacity=\"0.933333\" stroke=\"#000000\" d=\"M2741,-157C2741,-157 2594,-157 2594,-157 2588,-157 2582,-151 2582,-145 2582,-145 2582,-101 2582,-101 2582,-95 2588,-89 2594,-89 2594,-89 2741,-89 2741,-89 2747,-89 2753,-95 2753,-101 2753,-101 2753,-145 2753,-145 2753,-151 2747,-157 2741,-157\"/>\n<text text-anchor=\"middle\" x=\"2667.5\" y=\"-141.8\" font-family=\"Helvetica,sans-Serif\" font-size=\"14.00\" fill=\"#000000\">MasVnrArea &lt;= 1274.0</text>\n<text text-anchor=\"middle\" x=\"2667.5\" y=\"-126.8\" font-family=\"Helvetica,sans-Serif\" font-size=\"14.00\" fill=\"#000000\">mse = 3488888888.889</text>\n<text text-anchor=\"middle\" x=\"2667.5\" y=\"-111.8\" font-family=\"Helvetica,sans-Serif\" font-size=\"14.00\" fill=\"#000000\">samples = 3</text>\n<text text-anchor=\"middle\" x=\"2667.5\" y=\"-96.8\" font-family=\"Helvetica,sans-Serif\" font-size=\"14.00\" fill=\"#000000\">value = 708333.333</text>\n</g>\n<!-- 24&#45;&gt;28 -->\n<g id=\"edge28\" class=\"edge\">\n<title>24&#45;&gt;28</title>\n<path fill=\"none\" stroke=\"#000000\" d=\"M2483.2178,-192.9465C2511.6831,-182.1422 2543.2523,-170.1597 2572.1023,-159.2094\"/>\n<polygon fill=\"#000000\" stroke=\"#000000\" points=\"2573.6663,-162.3594 2581.7735,-155.5385 2571.1822,-155.815 2573.6663,-162.3594\"/>\n</g>\n<!-- 26 -->\n<g id=\"node27\" class=\"node\">\n<title>26</title>\n<path fill=\"#e58139\" fill-opacity=\"0.270588\" stroke=\"#000000\" d=\"M2379,-53C2379,-53 2240,-53 2240,-53 2234,-53 2228,-47 2228,-41 2228,-41 2228,-12 2228,-12 2228,-6 2234,0 2240,0 2240,0 2379,0 2379,0 2385,0 2391,-6 2391,-12 2391,-12 2391,-41 2391,-41 2391,-47 2385,-53 2379,-53\"/>\n<text text-anchor=\"middle\" x=\"2309.5\" y=\"-37.8\" font-family=\"Helvetica,sans-Serif\" font-size=\"14.00\" fill=\"#000000\">mse = 2596171104.01</text>\n<text text-anchor=\"middle\" x=\"2309.5\" y=\"-22.8\" font-family=\"Helvetica,sans-Serif\" font-size=\"14.00\" fill=\"#000000\">samples = 10</text>\n<text text-anchor=\"middle\" x=\"2309.5\" y=\"-7.8\" font-family=\"Helvetica,sans-Serif\" font-size=\"14.00\" fill=\"#000000\">value = 282349.3</text>\n</g>\n<!-- 25&#45;&gt;26 -->\n<g id=\"edge26\" class=\"edge\">\n<title>25&#45;&gt;26</title>\n<path fill=\"none\" stroke=\"#000000\" d=\"M2363.8847,-88.9777C2355.9936,-79.9123 2347.4619,-70.111 2339.5478,-61.0192\"/>\n<polygon fill=\"#000000\" stroke=\"#000000\" points=\"2341.9893,-58.4932 2332.7836,-53.2485 2336.7094,-63.0892 2341.9893,-58.4932\"/>\n</g>\n<!-- 27 -->\n<g id=\"node28\" class=\"node\">\n<title>27</title>\n<path fill=\"#e58139\" fill-opacity=\"0.435294\" stroke=\"#000000\" d=\"M2568,-53C2568,-53 2421,-53 2421,-53 2415,-53 2409,-47 2409,-41 2409,-41 2409,-12 2409,-12 2409,-6 2415,0 2421,0 2421,0 2568,0 2568,0 2574,0 2580,-6 2580,-12 2580,-12 2580,-41 2580,-41 2580,-47 2574,-53 2568,-53\"/>\n<text text-anchor=\"middle\" x=\"2494.5\" y=\"-37.8\" font-family=\"Helvetica,sans-Serif\" font-size=\"14.00\" fill=\"#000000\">mse = 6675259032.444</text>\n<text text-anchor=\"middle\" x=\"2494.5\" y=\"-22.8\" font-family=\"Helvetica,sans-Serif\" font-size=\"14.00\" fill=\"#000000\">samples = 47</text>\n<text text-anchor=\"middle\" x=\"2494.5\" y=\"-7.8\" font-family=\"Helvetica,sans-Serif\" font-size=\"14.00\" fill=\"#000000\">value = 389024.638</text>\n</g>\n<!-- 25&#45;&gt;27 -->\n<g id=\"edge27\" class=\"edge\">\n<title>25&#45;&gt;27</title>\n<path fill=\"none\" stroke=\"#000000\" d=\"M2429.1088,-88.9777C2438.8845,-79.6376 2449.4777,-69.5163 2459.234,-60.1947\"/>\n<polygon fill=\"#000000\" stroke=\"#000000\" points=\"2461.6917,-62.6873 2466.5042,-53.2485 2456.856,-57.6261 2461.6917,-62.6873\"/>\n</g>\n<!-- 29 -->\n<g id=\"node30\" class=\"node\">\n<title>29</title>\n<path fill=\"#e58139\" stroke=\"#000000\" d=\"M2724.5,-53C2724.5,-53 2610.5,-53 2610.5,-53 2604.5,-53 2598.5,-47 2598.5,-41 2598.5,-41 2598.5,-12 2598.5,-12 2598.5,-6 2604.5,0 2610.5,0 2610.5,0 2724.5,0 2724.5,0 2730.5,0 2736.5,-6 2736.5,-12 2736.5,-12 2736.5,-41 2736.5,-41 2736.5,-47 2730.5,-53 2724.5,-53\"/>\n<text text-anchor=\"middle\" x=\"2667.5\" y=\"-37.8\" font-family=\"Helvetica,sans-Serif\" font-size=\"14.00\" fill=\"#000000\">mse = 25000000.0</text>\n<text text-anchor=\"middle\" x=\"2667.5\" y=\"-22.8\" font-family=\"Helvetica,sans-Serif\" font-size=\"14.00\" fill=\"#000000\">samples = 2</text>\n<text text-anchor=\"middle\" x=\"2667.5\" y=\"-7.8\" font-family=\"Helvetica,sans-Serif\" font-size=\"14.00\" fill=\"#000000\">value = 750000.0</text>\n</g>\n<!-- 28&#45;&gt;29 -->\n<g id=\"edge29\" class=\"edge\">\n<title>28&#45;&gt;29</title>\n<path fill=\"none\" stroke=\"#000000\" d=\"M2667.5,-88.9777C2667.5,-80.7364 2667.5,-71.887 2667.5,-63.5153\"/>\n<polygon fill=\"#000000\" stroke=\"#000000\" points=\"2671.0001,-63.2484 2667.5,-53.2485 2664.0001,-63.2485 2671.0001,-63.2484\"/>\n</g>\n<!-- 30 -->\n<g id=\"node31\" class=\"node\">\n<title>30</title>\n<path fill=\"#e58139\" fill-opacity=\"0.803922\" stroke=\"#000000\" d=\"M2872,-53C2872,-53 2767,-53 2767,-53 2761,-53 2755,-47 2755,-41 2755,-41 2755,-12 2755,-12 2755,-6 2761,0 2767,0 2767,0 2872,0 2872,0 2878,0 2884,-6 2884,-12 2884,-12 2884,-41 2884,-41 2884,-47 2878,-53 2872,-53\"/>\n<text text-anchor=\"middle\" x=\"2819.5\" y=\"-37.8\" font-family=\"Helvetica,sans-Serif\" font-size=\"14.00\" fill=\"#000000\">mse = 0.0</text>\n<text text-anchor=\"middle\" x=\"2819.5\" y=\"-22.8\" font-family=\"Helvetica,sans-Serif\" font-size=\"14.00\" fill=\"#000000\">samples = 1</text>\n<text text-anchor=\"middle\" x=\"2819.5\" y=\"-7.8\" font-family=\"Helvetica,sans-Serif\" font-size=\"14.00\" fill=\"#000000\">value = 625000.0</text>\n</g>\n<!-- 28&#45;&gt;30 -->\n<g id=\"edge30\" class=\"edge\">\n<title>28&#45;&gt;30</title>\n<path fill=\"none\" stroke=\"#000000\" d=\"M2721.0895,-88.9777C2736.5226,-79.1798 2753.3096,-68.5222 2768.5763,-58.8298\"/>\n<polygon fill=\"#000000\" stroke=\"#000000\" points=\"2770.8013,-61.5631 2777.3677,-53.2485 2767.0494,-55.6535 2770.8013,-61.5631\"/>\n</g>\n</g>\n</svg>\n"
          },
          "metadata": {
            "tags": []
          }
        }
      ]
    },
    {
      "cell_type": "markdown",
      "metadata": {
        "colab_type": "text",
        "id": "kWm7mMlH9sl2"
      },
      "source": [
        "## Part 2 / Stretch: \"Play Tennis\" Classification"
      ]
    },
    {
      "cell_type": "markdown",
      "metadata": {
        "colab_type": "text",
        "id": "2f5-S87kg6gJ"
      },
      "source": [
        "We'll reproduce the \"Play Tennis\" example from Ross Quinlan's 1986 paper, [Induction of Decison Trees](https://link.springer.com/content/pdf/10.1007%2FBF00116251.pdf).\n",
        "\n",
        "[According to Wikipedia](https://en.wikipedia.org/wiki/Ross_Quinlan), \"John Ross Quinlan is a computer science researcher in data mining and decision theory. He has contributed extensively to the development of decision tree algorithms, including inventing the canonical C4.5 and ID3 algorithms.\""
      ]
    },
    {
      "cell_type": "markdown",
      "metadata": {
        "colab_type": "text",
        "id": "Qfv6Zwdoje7_"
      },
      "source": [
        "#### \"Table 1 shows a small training set\""
      ]
    },
    {
      "cell_type": "code",
      "metadata": {
        "colab_type": "code",
        "id": "oUE-G0pgg58u",
        "outputId": "6d495285-51e7-4f02-be5d-aa12127b6ae3",
        "colab": {
          "base_uri": "https://localhost:8080/",
          "height": 514
        }
      },
      "source": [
        "import pandas as pd\n",
        "\n",
        "columns = 'No. Outlook Temperature Humidity Windy PlayTennis'.split()\n",
        "\n",
        "raw = \"\"\"1 sunny hot high false N\n",
        "2 sunny hot high true N\n",
        "3 overcast hot high false P\n",
        "4 rain mild high false P\n",
        "5 rain cool normal false P\n",
        "6 rain cool normal true N\n",
        "7 overcast cool normal true P\n",
        "8 sunny mild high false N\n",
        "9 sunny cool normal false P\n",
        "10 rain mild normal false P\n",
        "11 sunny mild normal true P\n",
        "12 overcast mild high true P\n",
        "13 overcast hot normal false P\n",
        "14 rain mild high true N\"\"\"\n",
        "\n",
        "data = [row.split() for row in raw.split('\\n')]\n",
        "tennis = pd.DataFrame(data=data, columns=columns).set_index('No.')\n",
        "tennis['PlayTennis'] = (tennis['PlayTennis'] == 'P').astype(int)\n",
        "\n",
        "tennis"
      ],
      "execution_count": 6,
      "outputs": [
        {
          "output_type": "execute_result",
          "data": {
            "text/html": [
              "<div>\n",
              "<style scoped>\n",
              "    .dataframe tbody tr th:only-of-type {\n",
              "        vertical-align: middle;\n",
              "    }\n",
              "\n",
              "    .dataframe tbody tr th {\n",
              "        vertical-align: top;\n",
              "    }\n",
              "\n",
              "    .dataframe thead th {\n",
              "        text-align: right;\n",
              "    }\n",
              "</style>\n",
              "<table border=\"1\" class=\"dataframe\">\n",
              "  <thead>\n",
              "    <tr style=\"text-align: right;\">\n",
              "      <th></th>\n",
              "      <th>Outlook</th>\n",
              "      <th>Temperature</th>\n",
              "      <th>Humidity</th>\n",
              "      <th>Windy</th>\n",
              "      <th>PlayTennis</th>\n",
              "    </tr>\n",
              "    <tr>\n",
              "      <th>No.</th>\n",
              "      <th></th>\n",
              "      <th></th>\n",
              "      <th></th>\n",
              "      <th></th>\n",
              "      <th></th>\n",
              "    </tr>\n",
              "  </thead>\n",
              "  <tbody>\n",
              "    <tr>\n",
              "      <th>1</th>\n",
              "      <td>sunny</td>\n",
              "      <td>hot</td>\n",
              "      <td>high</td>\n",
              "      <td>false</td>\n",
              "      <td>0</td>\n",
              "    </tr>\n",
              "    <tr>\n",
              "      <th>2</th>\n",
              "      <td>sunny</td>\n",
              "      <td>hot</td>\n",
              "      <td>high</td>\n",
              "      <td>true</td>\n",
              "      <td>0</td>\n",
              "    </tr>\n",
              "    <tr>\n",
              "      <th>3</th>\n",
              "      <td>overcast</td>\n",
              "      <td>hot</td>\n",
              "      <td>high</td>\n",
              "      <td>false</td>\n",
              "      <td>1</td>\n",
              "    </tr>\n",
              "    <tr>\n",
              "      <th>4</th>\n",
              "      <td>rain</td>\n",
              "      <td>mild</td>\n",
              "      <td>high</td>\n",
              "      <td>false</td>\n",
              "      <td>1</td>\n",
              "    </tr>\n",
              "    <tr>\n",
              "      <th>5</th>\n",
              "      <td>rain</td>\n",
              "      <td>cool</td>\n",
              "      <td>normal</td>\n",
              "      <td>false</td>\n",
              "      <td>1</td>\n",
              "    </tr>\n",
              "    <tr>\n",
              "      <th>6</th>\n",
              "      <td>rain</td>\n",
              "      <td>cool</td>\n",
              "      <td>normal</td>\n",
              "      <td>true</td>\n",
              "      <td>0</td>\n",
              "    </tr>\n",
              "    <tr>\n",
              "      <th>7</th>\n",
              "      <td>overcast</td>\n",
              "      <td>cool</td>\n",
              "      <td>normal</td>\n",
              "      <td>true</td>\n",
              "      <td>1</td>\n",
              "    </tr>\n",
              "    <tr>\n",
              "      <th>8</th>\n",
              "      <td>sunny</td>\n",
              "      <td>mild</td>\n",
              "      <td>high</td>\n",
              "      <td>false</td>\n",
              "      <td>0</td>\n",
              "    </tr>\n",
              "    <tr>\n",
              "      <th>9</th>\n",
              "      <td>sunny</td>\n",
              "      <td>cool</td>\n",
              "      <td>normal</td>\n",
              "      <td>false</td>\n",
              "      <td>1</td>\n",
              "    </tr>\n",
              "    <tr>\n",
              "      <th>10</th>\n",
              "      <td>rain</td>\n",
              "      <td>mild</td>\n",
              "      <td>normal</td>\n",
              "      <td>false</td>\n",
              "      <td>1</td>\n",
              "    </tr>\n",
              "    <tr>\n",
              "      <th>11</th>\n",
              "      <td>sunny</td>\n",
              "      <td>mild</td>\n",
              "      <td>normal</td>\n",
              "      <td>true</td>\n",
              "      <td>1</td>\n",
              "    </tr>\n",
              "    <tr>\n",
              "      <th>12</th>\n",
              "      <td>overcast</td>\n",
              "      <td>mild</td>\n",
              "      <td>high</td>\n",
              "      <td>true</td>\n",
              "      <td>1</td>\n",
              "    </tr>\n",
              "    <tr>\n",
              "      <th>13</th>\n",
              "      <td>overcast</td>\n",
              "      <td>hot</td>\n",
              "      <td>normal</td>\n",
              "      <td>false</td>\n",
              "      <td>1</td>\n",
              "    </tr>\n",
              "    <tr>\n",
              "      <th>14</th>\n",
              "      <td>rain</td>\n",
              "      <td>mild</td>\n",
              "      <td>high</td>\n",
              "      <td>true</td>\n",
              "      <td>0</td>\n",
              "    </tr>\n",
              "  </tbody>\n",
              "</table>\n",
              "</div>"
            ],
            "text/plain": [
              "      Outlook Temperature Humidity  Windy  PlayTennis\n",
              "No.                                                  \n",
              "1       sunny         hot     high  false           0\n",
              "2       sunny         hot     high   true           0\n",
              "3    overcast         hot     high  false           1\n",
              "4        rain        mild     high  false           1\n",
              "5        rain        cool   normal  false           1\n",
              "6        rain        cool   normal   true           0\n",
              "7    overcast        cool   normal   true           1\n",
              "8       sunny        mild     high  false           0\n",
              "9       sunny        cool   normal  false           1\n",
              "10       rain        mild   normal  false           1\n",
              "11      sunny        mild   normal   true           1\n",
              "12   overcast        mild     high   true           1\n",
              "13   overcast         hot   normal  false           1\n",
              "14       rain        mild     high   true           0"
            ]
          },
          "metadata": {
            "tags": []
          },
          "execution_count": 6
        }
      ]
    },
    {
      "cell_type": "markdown",
      "metadata": {
        "colab_type": "text",
        "id": "BvFu9kvJj9kk"
      },
      "source": [
        "#### \"A decision tree that correctly classifies each object in the training set is given in Figure 2.\"\n",
        "\n",
        "<img src=\"https://i.imgur.com/RD7d0u0.png\" height=\"300\">"
      ]
    },
    {
      "cell_type": "markdown",
      "metadata": {
        "colab_type": "text",
        "id": "kHkkeALqjNiS"
      },
      "source": [
        "In this dataset, the tennis player decided to play on 64% of the days, and decided not to on 36% of the days."
      ]
    },
    {
      "cell_type": "code",
      "metadata": {
        "colab_type": "code",
        "id": "qeLDinBihMDQ",
        "outputId": "2d6f8d37-8316-4465-e186-951eaa44fbcc",
        "colab": {
          "base_uri": "https://localhost:8080/",
          "height": 68
        }
      },
      "source": [
        "tennis['PlayTennis'].value_counts(normalize=True) * 100"
      ],
      "execution_count": 7,
      "outputs": [
        {
          "output_type": "execute_result",
          "data": {
            "text/plain": [
              "1    64.285714\n",
              "0    35.714286\n",
              "Name: PlayTennis, dtype: float64"
            ]
          },
          "metadata": {
            "tags": []
          },
          "execution_count": 7
        }
      ]
    },
    {
      "cell_type": "markdown",
      "metadata": {
        "colab_type": "text",
        "id": "Ype2-apnlaG2"
      },
      "source": [
        "The tennis player played on 100% of the overcast days, 40% of the sunny days, and 60% of the  rainy days"
      ]
    },
    {
      "cell_type": "code",
      "metadata": {
        "colab_type": "code",
        "id": "LfBMB0Soh58T",
        "outputId": "10b62be7-9cec-4fde-cd19-45fc4862a381",
        "colab": {
          "base_uri": "https://localhost:8080/",
          "height": 102
        }
      },
      "source": [
        "tennis.groupby('Outlook')['PlayTennis'].mean() * 100"
      ],
      "execution_count": 8,
      "outputs": [
        {
          "output_type": "execute_result",
          "data": {
            "text/plain": [
              "Outlook\n",
              "overcast    100.0\n",
              "rain         60.0\n",
              "sunny        40.0\n",
              "Name: PlayTennis, dtype: float64"
            ]
          },
          "metadata": {
            "tags": []
          },
          "execution_count": 8
        }
      ]
    },
    {
      "cell_type": "markdown",
      "metadata": {
        "colab_type": "text",
        "id": "jx3-MFvalrQC"
      },
      "source": [
        "On sunny days, the tennis player's decision depends on the humidity. (The Outlook and Humidity features interact.)"
      ]
    },
    {
      "cell_type": "code",
      "metadata": {
        "colab_type": "code",
        "id": "FmVN7hwEiHE5",
        "outputId": "3a64a1fe-7a27-4122-971e-df02df58e16c",
        "colab": {
          "base_uri": "https://localhost:8080/",
          "height": 85
        }
      },
      "source": [
        "sunny = tennis[tennis['Outlook']=='sunny']\n",
        "sunny.groupby('Humidity')['PlayTennis'].mean() * 100"
      ],
      "execution_count": 9,
      "outputs": [
        {
          "output_type": "execute_result",
          "data": {
            "text/plain": [
              "Humidity\n",
              "high        0\n",
              "normal    100\n",
              "Name: PlayTennis, dtype: int64"
            ]
          },
          "metadata": {
            "tags": []
          },
          "execution_count": 9
        }
      ]
    },
    {
      "cell_type": "markdown",
      "metadata": {
        "colab_type": "text",
        "id": "y0it0HsFl47M"
      },
      "source": [
        "On rainy days, the tennis player's decision depends on the wind. (The Outlook and Windy features interact.)"
      ]
    },
    {
      "cell_type": "code",
      "metadata": {
        "colab_type": "code",
        "id": "CeOd7rGeivJp",
        "outputId": "4c00b373-4479-40bc-9641-de71cc5beea7",
        "colab": {
          "base_uri": "https://localhost:8080/",
          "height": 85
        }
      },
      "source": [
        "rainy = tennis[tennis['Outlook']=='rain']\n",
        "rainy.groupby('Windy')['PlayTennis'].mean() * 100"
      ],
      "execution_count": 10,
      "outputs": [
        {
          "output_type": "execute_result",
          "data": {
            "text/plain": [
              "Windy\n",
              "false    100\n",
              "true       0\n",
              "Name: PlayTennis, dtype: int64"
            ]
          },
          "metadata": {
            "tags": []
          },
          "execution_count": 10
        }
      ]
    },
    {
      "cell_type": "markdown",
      "metadata": {
        "id": "yTBmXfcMGG2A",
        "colab_type": "text"
      },
      "source": [
        "#### Before modeling, we will [\"encode\" categorical variables, using pandas](https://pandas.pydata.org/pandas-docs/stable/user_guide/reshaping.html?highlight=get_dummies#computing-indicator-dummy-variables)"
      ]
    },
    {
      "cell_type": "code",
      "metadata": {
        "colab_type": "code",
        "id": "VCyn34nEi0nz",
        "outputId": "131ce41d-dfcf-452a-9eee-5b0d5efbaec8",
        "colab": {
          "base_uri": "https://localhost:8080/",
          "height": 514
        }
      },
      "source": [
        "y = tennis['PlayTennis']\n",
        "X = pd.get_dummies(tennis.drop(columns='PlayTennis'))\n",
        "X"
      ],
      "execution_count": 11,
      "outputs": [
        {
          "output_type": "execute_result",
          "data": {
            "text/html": [
              "<div>\n",
              "<style scoped>\n",
              "    .dataframe tbody tr th:only-of-type {\n",
              "        vertical-align: middle;\n",
              "    }\n",
              "\n",
              "    .dataframe tbody tr th {\n",
              "        vertical-align: top;\n",
              "    }\n",
              "\n",
              "    .dataframe thead th {\n",
              "        text-align: right;\n",
              "    }\n",
              "</style>\n",
              "<table border=\"1\" class=\"dataframe\">\n",
              "  <thead>\n",
              "    <tr style=\"text-align: right;\">\n",
              "      <th></th>\n",
              "      <th>Outlook_overcast</th>\n",
              "      <th>Outlook_rain</th>\n",
              "      <th>Outlook_sunny</th>\n",
              "      <th>Temperature_cool</th>\n",
              "      <th>Temperature_hot</th>\n",
              "      <th>Temperature_mild</th>\n",
              "      <th>Humidity_high</th>\n",
              "      <th>Humidity_normal</th>\n",
              "      <th>Windy_false</th>\n",
              "      <th>Windy_true</th>\n",
              "    </tr>\n",
              "    <tr>\n",
              "      <th>No.</th>\n",
              "      <th></th>\n",
              "      <th></th>\n",
              "      <th></th>\n",
              "      <th></th>\n",
              "      <th></th>\n",
              "      <th></th>\n",
              "      <th></th>\n",
              "      <th></th>\n",
              "      <th></th>\n",
              "      <th></th>\n",
              "    </tr>\n",
              "  </thead>\n",
              "  <tbody>\n",
              "    <tr>\n",
              "      <th>1</th>\n",
              "      <td>0</td>\n",
              "      <td>0</td>\n",
              "      <td>1</td>\n",
              "      <td>0</td>\n",
              "      <td>1</td>\n",
              "      <td>0</td>\n",
              "      <td>1</td>\n",
              "      <td>0</td>\n",
              "      <td>1</td>\n",
              "      <td>0</td>\n",
              "    </tr>\n",
              "    <tr>\n",
              "      <th>2</th>\n",
              "      <td>0</td>\n",
              "      <td>0</td>\n",
              "      <td>1</td>\n",
              "      <td>0</td>\n",
              "      <td>1</td>\n",
              "      <td>0</td>\n",
              "      <td>1</td>\n",
              "      <td>0</td>\n",
              "      <td>0</td>\n",
              "      <td>1</td>\n",
              "    </tr>\n",
              "    <tr>\n",
              "      <th>3</th>\n",
              "      <td>1</td>\n",
              "      <td>0</td>\n",
              "      <td>0</td>\n",
              "      <td>0</td>\n",
              "      <td>1</td>\n",
              "      <td>0</td>\n",
              "      <td>1</td>\n",
              "      <td>0</td>\n",
              "      <td>1</td>\n",
              "      <td>0</td>\n",
              "    </tr>\n",
              "    <tr>\n",
              "      <th>4</th>\n",
              "      <td>0</td>\n",
              "      <td>1</td>\n",
              "      <td>0</td>\n",
              "      <td>0</td>\n",
              "      <td>0</td>\n",
              "      <td>1</td>\n",
              "      <td>1</td>\n",
              "      <td>0</td>\n",
              "      <td>1</td>\n",
              "      <td>0</td>\n",
              "    </tr>\n",
              "    <tr>\n",
              "      <th>5</th>\n",
              "      <td>0</td>\n",
              "      <td>1</td>\n",
              "      <td>0</td>\n",
              "      <td>1</td>\n",
              "      <td>0</td>\n",
              "      <td>0</td>\n",
              "      <td>0</td>\n",
              "      <td>1</td>\n",
              "      <td>1</td>\n",
              "      <td>0</td>\n",
              "    </tr>\n",
              "    <tr>\n",
              "      <th>6</th>\n",
              "      <td>0</td>\n",
              "      <td>1</td>\n",
              "      <td>0</td>\n",
              "      <td>1</td>\n",
              "      <td>0</td>\n",
              "      <td>0</td>\n",
              "      <td>0</td>\n",
              "      <td>1</td>\n",
              "      <td>0</td>\n",
              "      <td>1</td>\n",
              "    </tr>\n",
              "    <tr>\n",
              "      <th>7</th>\n",
              "      <td>1</td>\n",
              "      <td>0</td>\n",
              "      <td>0</td>\n",
              "      <td>1</td>\n",
              "      <td>0</td>\n",
              "      <td>0</td>\n",
              "      <td>0</td>\n",
              "      <td>1</td>\n",
              "      <td>0</td>\n",
              "      <td>1</td>\n",
              "    </tr>\n",
              "    <tr>\n",
              "      <th>8</th>\n",
              "      <td>0</td>\n",
              "      <td>0</td>\n",
              "      <td>1</td>\n",
              "      <td>0</td>\n",
              "      <td>0</td>\n",
              "      <td>1</td>\n",
              "      <td>1</td>\n",
              "      <td>0</td>\n",
              "      <td>1</td>\n",
              "      <td>0</td>\n",
              "    </tr>\n",
              "    <tr>\n",
              "      <th>9</th>\n",
              "      <td>0</td>\n",
              "      <td>0</td>\n",
              "      <td>1</td>\n",
              "      <td>1</td>\n",
              "      <td>0</td>\n",
              "      <td>0</td>\n",
              "      <td>0</td>\n",
              "      <td>1</td>\n",
              "      <td>1</td>\n",
              "      <td>0</td>\n",
              "    </tr>\n",
              "    <tr>\n",
              "      <th>10</th>\n",
              "      <td>0</td>\n",
              "      <td>1</td>\n",
              "      <td>0</td>\n",
              "      <td>0</td>\n",
              "      <td>0</td>\n",
              "      <td>1</td>\n",
              "      <td>0</td>\n",
              "      <td>1</td>\n",
              "      <td>1</td>\n",
              "      <td>0</td>\n",
              "    </tr>\n",
              "    <tr>\n",
              "      <th>11</th>\n",
              "      <td>0</td>\n",
              "      <td>0</td>\n",
              "      <td>1</td>\n",
              "      <td>0</td>\n",
              "      <td>0</td>\n",
              "      <td>1</td>\n",
              "      <td>0</td>\n",
              "      <td>1</td>\n",
              "      <td>0</td>\n",
              "      <td>1</td>\n",
              "    </tr>\n",
              "    <tr>\n",
              "      <th>12</th>\n",
              "      <td>1</td>\n",
              "      <td>0</td>\n",
              "      <td>0</td>\n",
              "      <td>0</td>\n",
              "      <td>0</td>\n",
              "      <td>1</td>\n",
              "      <td>1</td>\n",
              "      <td>0</td>\n",
              "      <td>0</td>\n",
              "      <td>1</td>\n",
              "    </tr>\n",
              "    <tr>\n",
              "      <th>13</th>\n",
              "      <td>1</td>\n",
              "      <td>0</td>\n",
              "      <td>0</td>\n",
              "      <td>0</td>\n",
              "      <td>1</td>\n",
              "      <td>0</td>\n",
              "      <td>0</td>\n",
              "      <td>1</td>\n",
              "      <td>1</td>\n",
              "      <td>0</td>\n",
              "    </tr>\n",
              "    <tr>\n",
              "      <th>14</th>\n",
              "      <td>0</td>\n",
              "      <td>1</td>\n",
              "      <td>0</td>\n",
              "      <td>0</td>\n",
              "      <td>0</td>\n",
              "      <td>1</td>\n",
              "      <td>1</td>\n",
              "      <td>0</td>\n",
              "      <td>0</td>\n",
              "      <td>1</td>\n",
              "    </tr>\n",
              "  </tbody>\n",
              "</table>\n",
              "</div>"
            ],
            "text/plain": [
              "     Outlook_overcast  Outlook_rain  Outlook_sunny  Temperature_cool  \\\n",
              "No.                                                                    \n",
              "1                   0             0              1                 0   \n",
              "2                   0             0              1                 0   \n",
              "3                   1             0              0                 0   \n",
              "4                   0             1              0                 0   \n",
              "5                   0             1              0                 1   \n",
              "6                   0             1              0                 1   \n",
              "7                   1             0              0                 1   \n",
              "8                   0             0              1                 0   \n",
              "9                   0             0              1                 1   \n",
              "10                  0             1              0                 0   \n",
              "11                  0             0              1                 0   \n",
              "12                  1             0              0                 0   \n",
              "13                  1             0              0                 0   \n",
              "14                  0             1              0                 0   \n",
              "\n",
              "     Temperature_hot  Temperature_mild  Humidity_high  Humidity_normal  \\\n",
              "No.                                                                      \n",
              "1                  1                 0              1                0   \n",
              "2                  1                 0              1                0   \n",
              "3                  1                 0              1                0   \n",
              "4                  0                 1              1                0   \n",
              "5                  0                 0              0                1   \n",
              "6                  0                 0              0                1   \n",
              "7                  0                 0              0                1   \n",
              "8                  0                 1              1                0   \n",
              "9                  0                 0              0                1   \n",
              "10                 0                 1              0                1   \n",
              "11                 0                 1              0                1   \n",
              "12                 0                 1              1                0   \n",
              "13                 1                 0              0                1   \n",
              "14                 0                 1              1                0   \n",
              "\n",
              "     Windy_false  Windy_true  \n",
              "No.                           \n",
              "1              1           0  \n",
              "2              0           1  \n",
              "3              1           0  \n",
              "4              1           0  \n",
              "5              1           0  \n",
              "6              0           1  \n",
              "7              0           1  \n",
              "8              1           0  \n",
              "9              1           0  \n",
              "10             1           0  \n",
              "11             0           1  \n",
              "12             0           1  \n",
              "13             1           0  \n",
              "14             0           1  "
            ]
          },
          "metadata": {
            "tags": []
          },
          "execution_count": 11
        }
      ]
    },
    {
      "cell_type": "markdown",
      "metadata": {
        "colab_type": "text",
        "id": "UvOkHk8o-h_r"
      },
      "source": [
        "## Train a Decision Tree Classifier\n",
        "Get a score of 100% (accuracy)\n",
        "\n",
        "https://scikit-learn.org/stable/modules/generated/sklearn.tree.DecisionTreeClassifier.html"
      ]
    },
    {
      "cell_type": "code",
      "metadata": {
        "id": "RaXKMaB7GG2P",
        "colab_type": "code",
        "colab": {}
      },
      "source": [
        ""
      ],
      "execution_count": 0,
      "outputs": []
    },
    {
      "cell_type": "markdown",
      "metadata": {
        "colab_type": "text",
        "id": "9uNPrbfS-vzL"
      },
      "source": [
        "## Compare to Logistic Regression\n",
        "https://scikit-learn.org/stable/modules/generated/sklearn.linear_model.LogisticRegression.html"
      ]
    },
    {
      "cell_type": "code",
      "metadata": {
        "id": "WBCExFGmGG2W",
        "colab_type": "code",
        "colab": {}
      },
      "source": [
        ""
      ],
      "execution_count": 0,
      "outputs": []
    },
    {
      "cell_type": "markdown",
      "metadata": {
        "colab_type": "text",
        "id": "EwF0phe6-oR8"
      },
      "source": [
        "## Visualize the tree\n",
        "https://scikit-learn.org/stable/modules/generated/sklearn.tree.export_graphviz.html"
      ]
    },
    {
      "cell_type": "code",
      "metadata": {
        "id": "hSCL66wPGG2h",
        "colab_type": "code",
        "colab": {}
      },
      "source": [
        ""
      ],
      "execution_count": 0,
      "outputs": []
    }
  ]
}