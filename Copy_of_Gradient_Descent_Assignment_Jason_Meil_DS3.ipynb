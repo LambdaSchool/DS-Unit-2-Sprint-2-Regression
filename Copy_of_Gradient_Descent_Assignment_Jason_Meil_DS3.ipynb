{
  "nbformat": 4,
  "nbformat_minor": 0,
  "metadata": {
    "colab": {
      "name": "Copy of Gradient Descent Assignment_Jason_Meil_DS3.ipynb",
      "version": "0.3.2",
      "provenance": [],
      "collapsed_sections": [],
      "include_colab_link": true
    },
    "kernelspec": {
      "name": "python3",
      "display_name": "Python 3"
    }
  },
  "cells": [
    {
      "cell_type": "markdown",
      "metadata": {
        "id": "view-in-github",
        "colab_type": "text"
      },
      "source": [
        "<a href=\"https://colab.research.google.com/github/RecursiveOuroboros/DS-Unit-2-Sprint-2-Regression/blob/master/Copy_of_Gradient_Descent_Assignment_Jason_Meil_DS3.ipynb\" target=\"_parent\"><img src=\"https://colab.research.google.com/assets/colab-badge.svg\" alt=\"Open In Colab\"/></a>"
      ]
    },
    {
      "cell_type": "markdown",
      "metadata": {
        "id": "Qhm0Y_jqXKRv",
        "colab_type": "text"
      },
      "source": [
        "# Gradient Descent Implementation Challenge!!\n",
        "\n",
        "## Use gradient descent to find the optimal parameters of a **multiple** regression model. (We only showed an implementation for a bivariate model during lecture.)\n",
        "\n",
        "A note: Implementing gradient descent in any context is not trivial, particularly the step where we calculate the gradient will change based on the number of parameters that we're trying to optimize for. You will need to research what the gradient of a multiple regression model looks like. This challenge is pretty open-ended but I hope it will be thrilling. Please work together, help each other, share resources and generally expand your understanding of gradient descent as you try and achieve this implementation. \n",
        "\n",
        "## Suggestions:\n",
        "\n",
        "Start off with a model that has just two $X$ variables You can use any datasets that have at least two x variables. Potential candidates might be the blood pressure dataset that we used during lecture on Monday: [HERE](https://college.cengage.com/mathematics/brase/understandable_statistics/7e/students/datasets/mlr/excel/mlr02.xls) or any of the housing datasets. You would just need to select from them the two varaibles $x$ variables and one y variable that you want to work with that you most want to work with. \n",
        "\n",
        "Use Sklearn to find the optimal parameters of your model first. (like we did during the lecture.) So that you can compare the parameter estimates of your gradient-descent linear regression to the estimates of OLS linear regression. If implemented correctly they should be nearly identical.\n",
        "\n",
        "Becoming a Data Scientist is all about striking out into the unknown, getting stuck and then researching and fighting and learning until you get yourself unstuck. Work together! And fight to take your own learning-rate fueled step towards your own optimal understanding of gradient descent! \n"
      ]
    },
    {
      "cell_type": "code",
      "metadata": {
        "id": "6lXymobL2c7r",
        "colab_type": "code",
        "colab": {}
      },
      "source": [
        "import math\n",
        "import matplotlib.pyplot as plt\n",
        "from mpl_toolkits.mplot3d import Axes3D\n",
        "import numpy as np\n",
        "import pandas as pd\n",
        "from sklearn.linear_model import LinearRegression"
      ],
      "execution_count": 0,
      "outputs": []
    },
    {
      "cell_type": "code",
      "metadata": {
        "id": "Vv2rDGVd9SlV",
        "colab_type": "code",
        "outputId": "017e2d7e-c5bf-4197-aa36-caed7741d265",
        "colab": {
          "base_uri": "https://localhost:8080/",
          "height": 221
        }
      },
      "source": [
        "df = pd.read_excel('https://college.cengage.com/mathematics/brase/understandable_statistics/7e/students/datasets/mlr/excel/mlr02.xls')\n",
        "df = df.rename(columns={'X1':'blood_pressure', \"X2\":'age', \"X3\":'weight'})\n",
        "df.head()"
      ],
      "execution_count": 2,
      "outputs": [
        {
          "output_type": "stream",
          "text": [
            "*** No CODEPAGE record, no encoding_override: will use 'ascii'\n"
          ],
          "name": "stdout"
        },
        {
          "output_type": "execute_result",
          "data": {
            "text/html": [
              "<div>\n",
              "<style scoped>\n",
              "    .dataframe tbody tr th:only-of-type {\n",
              "        vertical-align: middle;\n",
              "    }\n",
              "\n",
              "    .dataframe tbody tr th {\n",
              "        vertical-align: top;\n",
              "    }\n",
              "\n",
              "    .dataframe thead th {\n",
              "        text-align: right;\n",
              "    }\n",
              "</style>\n",
              "<table border=\"1\" class=\"dataframe\">\n",
              "  <thead>\n",
              "    <tr style=\"text-align: right;\">\n",
              "      <th></th>\n",
              "      <th>blood_pressure</th>\n",
              "      <th>age</th>\n",
              "      <th>weight</th>\n",
              "    </tr>\n",
              "  </thead>\n",
              "  <tbody>\n",
              "    <tr>\n",
              "      <th>0</th>\n",
              "      <td>132</td>\n",
              "      <td>52</td>\n",
              "      <td>173</td>\n",
              "    </tr>\n",
              "    <tr>\n",
              "      <th>1</th>\n",
              "      <td>143</td>\n",
              "      <td>59</td>\n",
              "      <td>184</td>\n",
              "    </tr>\n",
              "    <tr>\n",
              "      <th>2</th>\n",
              "      <td>153</td>\n",
              "      <td>67</td>\n",
              "      <td>194</td>\n",
              "    </tr>\n",
              "    <tr>\n",
              "      <th>3</th>\n",
              "      <td>162</td>\n",
              "      <td>73</td>\n",
              "      <td>211</td>\n",
              "    </tr>\n",
              "    <tr>\n",
              "      <th>4</th>\n",
              "      <td>154</td>\n",
              "      <td>64</td>\n",
              "      <td>196</td>\n",
              "    </tr>\n",
              "  </tbody>\n",
              "</table>\n",
              "</div>"
            ],
            "text/plain": [
              "   blood_pressure  age  weight\n",
              "0             132   52     173\n",
              "1             143   59     184\n",
              "2             153   67     194\n",
              "3             162   73     211\n",
              "4             154   64     196"
            ]
          },
          "metadata": {
            "tags": []
          },
          "execution_count": 2
        }
      ]
    },
    {
      "cell_type": "code",
      "metadata": {
        "id": "Ghv8_Qk3AkNN",
        "colab_type": "code",
        "outputId": "73c1c825-88df-47d7-912e-6d57f95fb0a7",
        "colab": {
          "base_uri": "https://localhost:8080/",
          "height": 255
        }
      },
      "source": [
        "# Test run with Bivariate\n",
        "\n",
        "# Calculate parameters using sklearn and compare to our Gradient Descent Method\n",
        "\n",
        "# Create X array\n",
        "X = df['age'].values[:, np.newaxis]\n",
        "\n",
        "# Normalize X values\n",
        "X = (X - X.mean()) / X.std()\n",
        "\n",
        "# Turn X into a matrix by stacking the arrays\n",
        "X_linalg = np.c_[np.ones(X.shape[0]), X] \n",
        "\n",
        "print('X Matrix: ', X_linalg)\n",
        "\n",
        "# Create y variable list\n",
        "y = df['blood_pressure'].values\n",
        "\n",
        "# Fit Model\n",
        "model = LinearRegression()\n",
        "model.fit(X, y)\n",
        "\n",
        "# Assign coefficient and intercept to variables (beta_1, and beta_0)\n",
        "beta_1 = model.coef_[0]\n",
        "beta_0 = model.intercept_\n",
        "\n",
        "print(\"\\nbeta_1: \", beta_1)\n",
        "print(\"beta_0: \", beta_0)"
      ],
      "execution_count": 3,
      "outputs": [
        {
          "output_type": "stream",
          "text": [
            "X Matrix:  [[ 1.         -1.20301838]\n",
            " [ 1.         -0.39751912]\n",
            " [ 1.          0.52305147]\n",
            " [ 1.          1.21347941]\n",
            " [ 1.          0.1778375 ]\n",
            " [ 1.          1.32855074]\n",
            " [ 1.         -0.97287574]\n",
            " [ 1.         -0.16737647]\n",
            " [ 1.          0.29290882]\n",
            " [ 1.         -1.89344632]\n",
            " [ 1.          1.09840809]]\n",
            "\n",
            "beta_1:  12.715856751330023\n",
            "beta_0:  150.0909090909091\n"
          ],
          "name": "stdout"
        }
      ]
    },
    {
      "cell_type": "code",
      "metadata": {
        "id": "cAZu1jJoAkbC",
        "colab_type": "code",
        "outputId": "abd55b8a-7e47-4b55-eebe-9c08ee6258c1",
        "colab": {
          "base_uri": "https://localhost:8080/",
          "height": 295
        }
      },
      "source": [
        "# Plot y vs standardized X\n",
        "\n",
        "plt.scatter(X,y)\n",
        "\n",
        "plt.ylabel(\"Blood Pressure\")\n",
        "plt.xlabel(\"Age\")\n",
        "plt.title(\"Blood Pressure vs Age\")\n",
        "plt.show()"
      ],
      "execution_count": 4,
      "outputs": [
        {
          "output_type": "display_data",
          "data": {
            "image/png": "[encoded data removed]",
            "text/plain": [
              "<Figure size 432x288 with 1 Axes>"
            ]
          },
          "metadata": {
            "tags": []
          }
        }
      ]
    },
    {
      "cell_type": "code",
      "metadata": {
        "id": "eXsz9kefAkp5",
        "colab_type": "code",
        "outputId": "e64215aa-4b04-44c9-ef7e-65191c103587",
        "colab": {
          "base_uri": "https://localhost:8080/",
          "height": 153
        }
      },
      "source": [
        "# Set hyperparameters\n",
        "alpha = .01\n",
        "iterations = 2000\n",
        "n = len(y)\n",
        "np.random.seed(42)\n",
        "theta = [0,0]\n",
        "\n",
        "# Calculate Predictions\n",
        "prediction = np.dot(X_linalg, theta)\n",
        "print(\"Prediction: \\n\", prediction)\n",
        "\n",
        "# Calculate Error\n",
        "error = prediction - y\n",
        "print(\"\\nError: \\n\", error)\n",
        "\n",
        "# Update Theta List Values\n",
        "theta = theta - (alpha * (1/n) * np.dot(X.T, error))\n",
        "print(\"\\nTheta: \\n\", theta)"
      ],
      "execution_count": 5,
      "outputs": [
        {
          "output_type": "stream",
          "text": [
            "Prediction: \n",
            " [0. 0. 0. 0. 0. 0. 0. 0. 0. 0. 0.]\n",
            "\n",
            "Error: \n",
            " [-132. -143. -153. -162. -154. -168. -137. -149. -159. -128. -166.]\n",
            "\n",
            "Theta: \n",
            " [0.12715857 0.12715857]\n"
          ],
          "name": "stdout"
        }
      ]
    },
    {
      "cell_type": "code",
      "metadata": {
        "id": "VRzn--VaAk4Q",
        "colab_type": "code",
        "outputId": "882b8c69-a9fe-40b8-d2fe-b8baf7a56a24",
        "colab": {
          "base_uri": "https://localhost:8080/",
          "height": 34
        }
      },
      "source": [
        "# Minimal Gradient-Descent Implementation\n",
        "def gradient_descent(X, y, theta, iterations, alpha):\n",
        "  for _ in range(iterations):\n",
        "    prediction = np.dot(X,theta)\n",
        "    error = prediction - y\n",
        "    updates = (alpha * (1/n) * np.dot(X.T,error))\n",
        "    theta = theta - updates\n",
        "  return theta\n",
        "\n",
        "gradient_descent(X_linalg, y, theta, iterations, alpha)\n",
        "\n",
        "# Confirm with sklearn"
      ],
      "execution_count": 6,
      "outputs": [
        {
          "output_type": "execute_result",
          "data": {
            "text/plain": [
              "array([150.09090881,  12.71585673])"
            ]
          },
          "metadata": {
            "tags": []
          },
          "execution_count": 6
        }
      ]
    },
    {
      "cell_type": "code",
      "metadata": {
        "id": "pcs6dXYOAlII",
        "colab_type": "code",
        "outputId": "4fad663b-d06d-4cbd-a615-9218f84c5081",
        "colab": {
          "base_uri": "https://localhost:8080/",
          "height": 204
        }
      },
      "source": [
        "# Multivariate\n",
        "\n",
        "# Normalize entire dataset\n",
        "\n",
        "df1 = (df - df.mean())/df.std()\n",
        "df1.head()"
      ],
      "execution_count": 7,
      "outputs": [
        {
          "output_type": "execute_result",
          "data": {
            "text/html": [
              "<div>\n",
              "<style scoped>\n",
              "    .dataframe tbody tr th:only-of-type {\n",
              "        vertical-align: middle;\n",
              "    }\n",
              "\n",
              "    .dataframe tbody tr th {\n",
              "        vertical-align: top;\n",
              "    }\n",
              "\n",
              "    .dataframe thead th {\n",
              "        text-align: right;\n",
              "    }\n",
              "</style>\n",
              "<table border=\"1\" class=\"dataframe\">\n",
              "  <thead>\n",
              "    <tr style=\"text-align: right;\">\n",
              "      <th></th>\n",
              "      <th>blood_pressure</th>\n",
              "      <th>age</th>\n",
              "      <th>weight</th>\n",
              "    </tr>\n",
              "  </thead>\n",
              "  <tbody>\n",
              "    <tr>\n",
              "      <th>0</th>\n",
              "      <td>-1.327593</td>\n",
              "      <td>-1.147033</td>\n",
              "      <td>-1.270594</td>\n",
              "    </tr>\n",
              "    <tr>\n",
              "      <th>1</th>\n",
              "      <td>-0.520363</td>\n",
              "      <td>-0.379020</td>\n",
              "      <td>-0.635297</td>\n",
              "    </tr>\n",
              "    <tr>\n",
              "      <th>2</th>\n",
              "      <td>0.213482</td>\n",
              "      <td>0.498710</td>\n",
              "      <td>-0.057754</td>\n",
              "    </tr>\n",
              "    <tr>\n",
              "      <th>3</th>\n",
              "      <td>0.873943</td>\n",
              "      <td>1.157007</td>\n",
              "      <td>0.924069</td>\n",
              "    </tr>\n",
              "    <tr>\n",
              "      <th>4</th>\n",
              "      <td>0.286867</td>\n",
              "      <td>0.169561</td>\n",
              "      <td>0.057754</td>\n",
              "    </tr>\n",
              "  </tbody>\n",
              "</table>\n",
              "</div>"
            ],
            "text/plain": [
              "   blood_pressure       age    weight\n",
              "0       -1.327593 -1.147033 -1.270594\n",
              "1       -0.520363 -0.379020 -0.635297\n",
              "2        0.213482  0.498710 -0.057754\n",
              "3        0.873943  1.157007  0.924069\n",
              "4        0.286867  0.169561  0.057754"
            ]
          },
          "metadata": {
            "tags": []
          },
          "execution_count": 7
        }
      ]
    },
    {
      "cell_type": "code",
      "metadata": {
        "id": "CAQZImmUDYX2",
        "colab_type": "code",
        "colab": {}
      },
      "source": [
        "# Create X matrix\n",
        "X = df1.iloc[:,1:3]\n",
        "\n",
        "# Turn X into a matrix by stacking arrays\n",
        "X_linalg = np.c_[np.ones(X.shape[0]), X]\n",
        "\n",
        "# Create y variable list\n",
        "y = df1['blood_pressure'].values\n",
        "\n",
        "# Set hyperameters\n",
        "theta = [0,0,0]\n",
        "alpha = .1\n",
        "iterations = 5000"
      ],
      "execution_count": 0,
      "outputs": []
    },
    {
      "cell_type": "code",
      "metadata": {
        "id": "WGtaOtReDYn5",
        "colab_type": "code",
        "outputId": "a0e6e8f1-d9c7-4fa5-ce15-36e3252e4b20",
        "colab": {
          "base_uri": "https://localhost:8080/",
          "height": 51
        }
      },
      "source": [
        "# Fit Model\n",
        "model = LinearRegression()\n",
        "model.fit(X, y)\n",
        "\n",
        "# Assign coefficient and intercept to variables (beta_1, and beta_0)\n",
        "beta_1 = model.coef_\n",
        "beta_0 = model.intercept_\n",
        "\n",
        "print(\"beta_1: \", beta_1)\n",
        "print(\"beta_0: \", beta_0)"
      ],
      "execution_count": 9,
      "outputs": [
        {
          "output_type": "stream",
          "text": [
            "beta_1:  [0.57616409 0.4254835 ]\n",
            "beta_0:  -2.7471586013715837e-16\n"
          ],
          "name": "stdout"
        }
      ]
    },
    {
      "cell_type": "code",
      "metadata": {
        "id": "82l_GXd_DY5W",
        "colab_type": "code",
        "outputId": "badd90db-494d-4be0-e7b7-3d93e8c459d1",
        "colab": {
          "base_uri": "https://localhost:8080/",
          "height": 34
        }
      },
      "source": [
        "# Calculate Cost\n",
        "def computeCost(X, y, theta):\n",
        "  theta_update = (alpha * (1/n) * np.dot(X.T,error))\n",
        "  return np.sum(theta_update)/(2 * len(X))\n",
        "\n",
        "computeCost(X,y,theta)"
      ],
      "execution_count": 10,
      "outputs": [
        {
          "output_type": "execute_result",
          "data": {
            "text/plain": [
              "-0.1097612956575818"
            ]
          },
          "metadata": {
            "tags": []
          },
          "execution_count": 10
        }
      ]
    },
    {
      "cell_type": "code",
      "metadata": {
        "id": "_tWzF6IqXIIq",
        "colab_type": "code",
        "outputId": "e08fe565-7429-4219-cb23-d645a231661c",
        "colab": {
          "base_uri": "https://localhost:8080/",
          "height": 34
        }
      },
      "source": [
        "# Minimal Gradient-Descent Implementation\n",
        "def gradient_descent(X, y, theta, iterations, alpha):\n",
        "  for _ in range(iterations):\n",
        "    prediction = np.dot(X,theta)\n",
        "    error = prediction - y\n",
        "    updates = (alpha * (1/n) * np.dot(X.T,error))\n",
        "    theta = theta - updates\n",
        "  return theta\n",
        "\n",
        "gradient_descent(X_linalg, y, theta, iterations, alpha)\n",
        "\n",
        "# See iterations and alpha"
      ],
      "execution_count": 11,
      "outputs": [
        {
          "output_type": "execute_result",
          "data": {
            "text/plain": [
              "array([-2.78060403e-16,  5.76164087e-01,  4.25483502e-01])"
            ]
          },
          "metadata": {
            "tags": []
          },
          "execution_count": 11
        }
      ]
    },
    {
      "cell_type": "markdown",
      "metadata": {
        "id": "RCs6EmWhYPM-",
        "colab_type": "text"
      },
      "source": [
        "## Stretch Goals\n",
        "\n",
        "If you happen upon the most useful resources for accomplishing this challenge first, I want you to spend time today studying other variations of Gradient Descent-Based Optimizers.\n",
        "\n",
        "- Try and write a function that can perform gradient descent for arbitarily large (in dimensionality) multiple regression models. \n",
        "- Create a notebook for yourself exploring these topics\n",
        "- How do they differ from the \"vanilla\" gradient descent we explored today\n",
        "- How do these different gradient descent-based optimizers seek to overcome the challenge of finding the global minimum among various local minima?\n",
        "- Write a blog post that reteaches what you have learned about these other gradient descent-based optimizers.\n",
        "\n",
        "[Overview of GD-based optimizers](http://ruder.io/optimizing-gradient-descent/)\n",
        "\n",
        "[Siraj Raval - Evolution of Gradient Descent-Based Optimizers](https://youtu.be/nhqo0u1a6fw)"
      ]
    }
  ]
}