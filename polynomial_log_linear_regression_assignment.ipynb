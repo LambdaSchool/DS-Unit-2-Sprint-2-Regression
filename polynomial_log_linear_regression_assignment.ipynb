{
  "nbformat": 4,
  "nbformat_minor": 0,
  "metadata": {
    "colab": {
      "name": "polynomial-log-linear-regression-assignment.ipynb",
      "version": "0.3.2",
      "provenance": [],
      "include_colab_link": true
    },
    "language_info": {
      "codemirror_mode": {
        "name": "ipython",
        "version": 3
      },
      "file_extension": ".py",
      "mimetype": "text/x-python",
      "name": "python",
      "nbconvert_exporter": "python",
      "pygments_lexer": "ipython3",
      "version": "3.7.1"
    },
    "kernelspec": {
      "display_name": "Python 3",
      "language": "python",
      "name": "python3"
    }
  },
  "cells": [
    {
      "cell_type": "markdown",
      "metadata": {
        "id": "view-in-github",
        "colab_type": "text"
      },
      "source": [
        "<a href=\"https://colab.research.google.com/github/will-cotton4/DS-Unit-2-Sprint-2-Regression/blob/master/polynomial_log_linear_regression_assignment.ipynb\" target=\"_parent\"><img src=\"https://colab.research.google.com/assets/colab-badge.svg\" alt=\"Open In Colab\"/></a>"
      ]
    },
    {
      "metadata": {
        "colab_type": "text",
        "id": "Dc4kEVNWo4yZ"
      },
      "cell_type": "markdown",
      "source": [
        "# Intermediate Linear Regression Practice\n",
        "\n",
        "## Use a Linear Regression model to get the lowest RMSE possible on the following dataset:\n",
        "\n",
        "[Dataset Folder](https://github.com/ryanleeallred/datasets/tree/master/Ames%20Housing%20Data)\n",
        "\n",
        "[Raw CSV](https://raw.githubusercontent.com/ryanleeallred/datasets/master/Ames%20Housing%20Data/train.csv)\n",
        "\n",
        "## Your model must include (at least):\n",
        "- A log-transformed y variable\n",
        "- Two polynomial features\n",
        "- One interaction feature\n",
        "- 10 other engineered features\n",
        "\n",
        "What is the lowest Root-Mean-Squared Error that you are able to obtain? Share your best RMSEs in Slack!\n",
        "\n",
        "Notes:\n",
        "\n",
        "There may be some data cleaning that you need to do on some features of this dataset. Linear Regression will only accept numeric values and will not accept\n",
        "\n",
        "Note* There may not be a clear candidate for an interaction term in this dataset. Include one anyway, sometimes it's a good practice for predictive modeling feature engineering in general. "
      ]
    },
    {
      "metadata": {
        "colab_type": "code",
        "id": "XYZSkixpo2qD",
        "colab": {}
      },
      "cell_type": "code",
      "source": [
        "import pandas as pd\n",
        "from sklearn.model_selection import train_test_split\n",
        "ames_url = 'https://raw.githubusercontent.com/ryanleeallred/datasets/master/Ames%20Housing%20Data/train.csv'\n",
        "\n",
        "ames = pd.read_csv(ames_url)\n",
        "ames_train, ames_test = train_test_split(ames)\n",
        "ames_train = ames_train.reset_index()\n",
        "ames_test = ames_test.reset_index()"
      ],
      "execution_count": 0,
      "outputs": []
    },
    {
      "metadata": {
        "id": "yGdw3EG4TeeQ",
        "colab_type": "text"
      },
      "cell_type": "markdown",
      "source": [
        "## Initial tests:"
      ]
    },
    {
      "metadata": {
        "id": "JvGEenH2zSxg",
        "colab_type": "code",
        "outputId": "20ff7303-7ce3-41b7-b108-5004f465da7f",
        "colab": {
          "base_uri": "https://localhost:8080/",
          "height": 204
        }
      },
      "cell_type": "code",
      "source": [
        "ames_train.isna().sum().sort_values(ascending=False).head(10)"
      ],
      "execution_count": 4,
      "outputs": [
        {
          "output_type": "execute_result",
          "data": {
            "text/plain": [
              "PoolQC          1091\n",
              "MiscFeature     1053\n",
              "Alley           1023\n",
              "Fence            881\n",
              "FireplaceQu      532\n",
              "LotFrontage      202\n",
              "GarageCond        67\n",
              "GarageType        67\n",
              "GarageYrBlt       67\n",
              "GarageFinish      67\n",
              "dtype: int64"
            ]
          },
          "metadata": {
            "tags": []
          },
          "execution_count": 4
        }
      ]
    },
    {
      "metadata": {
        "id": "Q5UVXLZazggP",
        "colab_type": "code",
        "colab": {}
      },
      "cell_type": "code",
      "source": [
        "#Drop sparse columns\n",
        "ames_train = ames_train.drop(columns=['PoolQC', 'MiscFeature', 'Alley', \n",
        "                                      'Fence', 'FireplaceQu', 'Id'])"
      ],
      "execution_count": 0,
      "outputs": []
    },
    {
      "metadata": {
        "id": "Rm0mCXip02Hn",
        "colab_type": "code",
        "outputId": "14ef855a-34a7-471f-e0e5-950c81ce6a9b",
        "colab": {
          "base_uri": "https://localhost:8080/",
          "height": 306
        }
      },
      "cell_type": "code",
      "source": [
        "ames_train.columns[:-1]"
      ],
      "execution_count": 6,
      "outputs": [
        {
          "output_type": "execute_result",
          "data": {
            "text/plain": [
              "Index(['index', 'MSSubClass', 'MSZoning', 'LotFrontage', 'LotArea', 'Street',\n",
              "       'LotShape', 'LandContour', 'Utilities', 'LotConfig', 'LandSlope',\n",
              "       'Neighborhood', 'Condition1', 'Condition2', 'BldgType', 'HouseStyle',\n",
              "       'OverallQual', 'OverallCond', 'YearBuilt', 'YearRemodAdd', 'RoofStyle',\n",
              "       'RoofMatl', 'Exterior1st', 'Exterior2nd', 'MasVnrType', 'MasVnrArea',\n",
              "       'ExterQual', 'ExterCond', 'Foundation', 'BsmtQual', 'BsmtCond',\n",
              "       'BsmtExposure', 'BsmtFinType1', 'BsmtFinSF1', 'BsmtFinType2',\n",
              "       'BsmtFinSF2', 'BsmtUnfSF', 'TotalBsmtSF', 'Heating', 'HeatingQC',\n",
              "       'CentralAir', 'Electrical', '1stFlrSF', '2ndFlrSF', 'LowQualFinSF',\n",
              "       'GrLivArea', 'BsmtFullBath', 'BsmtHalfBath', 'FullBath', 'HalfBath',\n",
              "       'BedroomAbvGr', 'KitchenAbvGr', 'KitchenQual', 'TotRmsAbvGrd',\n",
              "       'Functional', 'Fireplaces', 'GarageType', 'GarageYrBlt', 'GarageFinish',\n",
              "       'GarageCars', 'GarageArea', 'GarageQual', 'GarageCond', 'PavedDrive',\n",
              "       'WoodDeckSF', 'OpenPorchSF', 'EnclosedPorch', '3SsnPorch',\n",
              "       'ScreenPorch', 'PoolArea', 'MiscVal', 'MoSold', 'YrSold', 'SaleType',\n",
              "       'SaleCondition'],\n",
              "      dtype='object')"
            ]
          },
          "metadata": {
            "tags": []
          },
          "execution_count": 6
        }
      ]
    },
    {
      "metadata": {
        "id": "jCbIaqqD1Dvw",
        "colab_type": "code",
        "outputId": "fa193a45-2d65-4dbb-cb07-18b8ecbbfddf",
        "colab": {
          "base_uri": "https://localhost:8080/",
          "height": 1071
        }
      },
      "cell_type": "code",
      "source": [
        "ames_train.dtypes"
      ],
      "execution_count": 7,
      "outputs": [
        {
          "output_type": "execute_result",
          "data": {
            "text/plain": [
              "index              int64\n",
              "MSSubClass         int64\n",
              "MSZoning          object\n",
              "LotFrontage      float64\n",
              "LotArea            int64\n",
              "Street            object\n",
              "LotShape          object\n",
              "LandContour       object\n",
              "Utilities         object\n",
              "LotConfig         object\n",
              "LandSlope         object\n",
              "Neighborhood      object\n",
              "Condition1        object\n",
              "Condition2        object\n",
              "BldgType          object\n",
              "HouseStyle        object\n",
              "OverallQual        int64\n",
              "OverallCond        int64\n",
              "YearBuilt          int64\n",
              "YearRemodAdd       int64\n",
              "RoofStyle         object\n",
              "RoofMatl          object\n",
              "Exterior1st       object\n",
              "Exterior2nd       object\n",
              "MasVnrType        object\n",
              "MasVnrArea       float64\n",
              "ExterQual         object\n",
              "ExterCond         object\n",
              "Foundation        object\n",
              "BsmtQual          object\n",
              "                  ...   \n",
              "BsmtFullBath       int64\n",
              "BsmtHalfBath       int64\n",
              "FullBath           int64\n",
              "HalfBath           int64\n",
              "BedroomAbvGr       int64\n",
              "KitchenAbvGr       int64\n",
              "KitchenQual       object\n",
              "TotRmsAbvGrd       int64\n",
              "Functional        object\n",
              "Fireplaces         int64\n",
              "GarageType        object\n",
              "GarageYrBlt      float64\n",
              "GarageFinish      object\n",
              "GarageCars         int64\n",
              "GarageArea         int64\n",
              "GarageQual        object\n",
              "GarageCond        object\n",
              "PavedDrive        object\n",
              "WoodDeckSF         int64\n",
              "OpenPorchSF        int64\n",
              "EnclosedPorch      int64\n",
              "3SsnPorch          int64\n",
              "ScreenPorch        int64\n",
              "PoolArea           int64\n",
              "MiscVal            int64\n",
              "MoSold             int64\n",
              "YrSold             int64\n",
              "SaleType          object\n",
              "SaleCondition     object\n",
              "SalePrice          int64\n",
              "Length: 76, dtype: object"
            ]
          },
          "metadata": {
            "tags": []
          },
          "execution_count": 7
        }
      ]
    },
    {
      "metadata": {
        "id": "n17xSuq56hKe",
        "colab_type": "code",
        "outputId": "c05b277d-7552-4c6b-bfae-b42be59c637a",
        "colab": {
          "base_uri": "https://localhost:8080/",
          "height": 34
        }
      },
      "cell_type": "code",
      "source": [
        "ames_train.shape"
      ],
      "execution_count": 8,
      "outputs": [
        {
          "output_type": "execute_result",
          "data": {
            "text/plain": [
              "(1095, 76)"
            ]
          },
          "metadata": {
            "tags": []
          },
          "execution_count": 8
        }
      ]
    },
    {
      "metadata": {
        "id": "7Yp4-hLp0cqQ",
        "colab_type": "code",
        "colab": {}
      },
      "cell_type": "code",
      "source": [
        "from sklearn.preprocessing import StandardScaler\n",
        "from sklearn.impute import SimpleImputer\n",
        "\n",
        "\n",
        "\n",
        "features = ames_train.select_dtypes(\n",
        "    include=['float64', 'int64']).columns\n",
        "target = 'SalePrice'\n",
        "x = SimpleImputer().fit_transform(ames_train.loc[:, features])\n",
        "\n",
        "y = ames_train.loc[:, target].values\n",
        "\n",
        "x = StandardScaler().fit_transform(x)"
      ],
      "execution_count": 0,
      "outputs": []
    },
    {
      "metadata": {
        "id": "J3WLrtbh2VZF",
        "colab_type": "code",
        "outputId": "eb826db2-e50b-4f89-8916-23582e873993",
        "colab": {
          "base_uri": "https://localhost:8080/",
          "height": 34
        }
      },
      "cell_type": "code",
      "source": [
        "len(features)"
      ],
      "execution_count": 10,
      "outputs": [
        {
          "output_type": "execute_result",
          "data": {
            "text/plain": [
              "38"
            ]
          },
          "metadata": {
            "tags": []
          },
          "execution_count": 10
        }
      ]
    },
    {
      "metadata": {
        "id": "cP0GupP3ztIA",
        "colab_type": "code",
        "colab": {}
      },
      "cell_type": "code",
      "source": [
        "from sklearn.decomposition import PCA\n",
        "\n",
        "pca = PCA(n_components = 30)\n",
        "\n",
        "principalComponents = pca.fit_transform(x)"
      ],
      "execution_count": 0,
      "outputs": []
    },
    {
      "metadata": {
        "id": "XtsS5HTm37Pu",
        "colab_type": "code",
        "colab": {}
      },
      "cell_type": "code",
      "source": [
        "scaled_var_exp = pca.explained_variance_/sum(pca.explained_variance_)"
      ],
      "execution_count": 0,
      "outputs": []
    },
    {
      "metadata": {
        "id": "cjXqxk6o4cTf",
        "colab_type": "code",
        "outputId": "d22ff7da-13d0-43ba-9f9b-b23da1e8496b",
        "colab": {
          "base_uri": "https://localhost:8080/",
          "height": 119
        }
      },
      "cell_type": "code",
      "source": [
        "scaled_var_exp"
      ],
      "execution_count": 13,
      "outputs": [
        {
          "output_type": "execute_result",
          "data": {
            "text/plain": [
              "array([0.20980745, 0.08841037, 0.06619635, 0.05583372, 0.04056385,\n",
              "       0.032724  , 0.03200609, 0.03143361, 0.0310544 , 0.02985048,\n",
              "       0.02887795, 0.02829863, 0.02666903, 0.02639556, 0.02572955,\n",
              "       0.02461565, 0.02362834, 0.02333862, 0.02238591, 0.02073361,\n",
              "       0.0193857 , 0.01809604, 0.01702758, 0.01581411, 0.01501499,\n",
              "       0.01171598, 0.01138917, 0.00833574, 0.00760748, 0.00706005])"
            ]
          },
          "metadata": {
            "tags": []
          },
          "execution_count": 13
        }
      ]
    },
    {
      "metadata": {
        "id": "o5NkF9-L5Bw3",
        "colab_type": "code",
        "colab": {}
      },
      "cell_type": "code",
      "source": [
        "labels = ['pc' + str(num) for num in range(1,31)]"
      ],
      "execution_count": 0,
      "outputs": []
    },
    {
      "metadata": {
        "id": "JH-cmeuU4guo",
        "colab_type": "code",
        "outputId": "3a1653e5-a9ef-4cd1-f975-36f82c935214",
        "colab": {
          "base_uri": "https://localhost:8080/",
          "height": 503
        }
      },
      "cell_type": "code",
      "source": [
        "import matplotlib as mpl\n",
        "import matplotlib.pyplot as plt\n",
        "import numpy as np\n",
        "\n",
        "fig = plt.figure(figsize = (17,8))\n",
        "fig.add_axes()\n",
        "ax1=fig.add_subplot(111)\n",
        "ax1.bar(x=labels, height=scaled_var_exp)"
      ],
      "execution_count": 15,
      "outputs": [
        {
          "output_type": "execute_result",
          "data": {
            "text/plain": [
              "<BarContainer object of 30 artists>"
            ]
          },
          "metadata": {
            "tags": []
          },
          "execution_count": 15
        },
        {
          "output_type": "display_data",
          "data": {
            "image/png": "[encoded data removed]",
            "text/plain": [
              "<Figure size 1224x576 with 1 Axes>"
            ]
          },
          "metadata": {
            "tags": []
          }
        }
      ]
    },
    {
      "metadata": {
        "id": "8W7TzBIH5Nan",
        "colab_type": "code",
        "outputId": "1621a303-5f8b-421c-b5ac-9c81325d8a13",
        "colab": {
          "base_uri": "https://localhost:8080/",
          "height": 503
        }
      },
      "cell_type": "code",
      "source": [
        "j=0\n",
        "cum_varex=np.zeros(30)\n",
        "while j < len(scaled_var_exp):\n",
        "  cum_varex[j] = sum(scaled_var_exp[:j+1])\n",
        "  j+=1\n",
        "  \n",
        "fig = plt.figure(figsize = (17,8))\n",
        "fig.add_axes()\n",
        "ax2=fig.add_subplot(111)\n",
        "ax2.bar(x=labels, height=cum_varex)#, cmap = 'Greens')\n",
        "ax2.axhline(0.7, color='r')\n",
        "ax2.axhline(0.75, color='y')\n",
        "ax2.axhline(0.8, color='g')"
      ],
      "execution_count": 16,
      "outputs": [
        {
          "output_type": "execute_result",
          "data": {
            "text/plain": [
              "<matplotlib.lines.Line2D at 0x7f2b1cdae358>"
            ]
          },
          "metadata": {
            "tags": []
          },
          "execution_count": 16
        },
        {
          "output_type": "display_data",
          "data": {
            "image/png": "[encoded data removed]",
            "text/plain": [
              "<Figure size 1224x576 with 1 Axes>"
            ]
          },
          "metadata": {
            "tags": []
          }
        }
      ]
    },
    {
      "metadata": {
        "id": "wTGt0zzv5efv",
        "colab_type": "code",
        "colab": {}
      },
      "cell_type": "code",
      "source": [
        "principalComponentsDF = pd.DataFrame(data = principalComponents, columns = labels)"
      ],
      "execution_count": 0,
      "outputs": []
    },
    {
      "metadata": {
        "id": "RxExDfg553i2",
        "colab_type": "code",
        "colab": {}
      },
      "cell_type": "code",
      "source": [
        "principalComponentsDF = pd.DataFrame(data = principalComponents, columns = labels)\n",
        "top_PCA_labels = principalComponentsDF.columns[:13]\n",
        "top_PCA = principalComponentsDF[top_PCA_labels]\n",
        "ames_train[top_PCA_labels] = top_PCA"
      ],
      "execution_count": 0,
      "outputs": []
    },
    {
      "metadata": {
        "id": "nj2r2nS66J7_",
        "colab_type": "code",
        "colab": {}
      },
      "cell_type": "code",
      "source": [
        "ames_train[top_PCA_labels] = top_PCA"
      ],
      "execution_count": 0,
      "outputs": []
    },
    {
      "metadata": {
        "id": "XhU85rqRAxv9",
        "colab_type": "code",
        "outputId": "6314be67-13e3-4b10-94ef-453fcf181e9c",
        "colab": {
          "base_uri": "https://localhost:8080/",
          "height": 323
        }
      },
      "cell_type": "code",
      "source": [
        "ames_train.columns"
      ],
      "execution_count": 20,
      "outputs": [
        {
          "output_type": "execute_result",
          "data": {
            "text/plain": [
              "Index(['index', 'MSSubClass', 'MSZoning', 'LotFrontage', 'LotArea', 'Street',\n",
              "       'LotShape', 'LandContour', 'Utilities', 'LotConfig', 'LandSlope',\n",
              "       'Neighborhood', 'Condition1', 'Condition2', 'BldgType', 'HouseStyle',\n",
              "       'OverallQual', 'OverallCond', 'YearBuilt', 'YearRemodAdd', 'RoofStyle',\n",
              "       'RoofMatl', 'Exterior1st', 'Exterior2nd', 'MasVnrType', 'MasVnrArea',\n",
              "       'ExterQual', 'ExterCond', 'Foundation', 'BsmtQual', 'BsmtCond',\n",
              "       'BsmtExposure', 'BsmtFinType1', 'BsmtFinSF1', 'BsmtFinType2',\n",
              "       'BsmtFinSF2', 'BsmtUnfSF', 'TotalBsmtSF', 'Heating', 'HeatingQC',\n",
              "       'CentralAir', 'Electrical', '1stFlrSF', '2ndFlrSF', 'LowQualFinSF',\n",
              "       'GrLivArea', 'BsmtFullBath', 'BsmtHalfBath', 'FullBath', 'HalfBath',\n",
              "       'BedroomAbvGr', 'KitchenAbvGr', 'KitchenQual', 'TotRmsAbvGrd',\n",
              "       'Functional', 'Fireplaces', 'GarageType', 'GarageYrBlt', 'GarageFinish',\n",
              "       'GarageCars', 'GarageArea', 'GarageQual', 'GarageCond', 'PavedDrive',\n",
              "       'WoodDeckSF', 'OpenPorchSF', 'EnclosedPorch', '3SsnPorch',\n",
              "       'ScreenPorch', 'PoolArea', 'MiscVal', 'MoSold', 'YrSold', 'SaleType',\n",
              "       'SaleCondition', 'SalePrice', 'pc1', 'pc2', 'pc3', 'pc4', 'pc5', 'pc6',\n",
              "       'pc7', 'pc8', 'pc9', 'pc10', 'pc11', 'pc12', 'pc13'],\n",
              "      dtype='object')"
            ]
          },
          "metadata": {
            "tags": []
          },
          "execution_count": 20
        }
      ]
    },
    {
      "metadata": {
        "id": "uH6oluu47zu2",
        "colab_type": "code",
        "colab": {}
      },
      "cell_type": "code",
      "source": [
        "# Create interaction terms:\n",
        "from sklearn.preprocessing import PolynomialFeatures\n",
        "X = ames_train[['LotArea', 'YearBuilt']]\n",
        "interaction = PolynomialFeatures(degree=2, include_bias=False, interaction_only=True)\n",
        "X_inter = interaction.fit_transform(X)\n",
        "ames_train['layb_int'] = (X_inter.T[2])"
      ],
      "execution_count": 0,
      "outputs": []
    },
    {
      "metadata": {
        "id": "90wSYSQZ7VOW",
        "colab_type": "code",
        "colab": {}
      },
      "cell_type": "code",
      "source": [
        "ames_train['log_area'] = ames_train['LotArea'].apply(np.log)"
      ],
      "execution_count": 0,
      "outputs": []
    },
    {
      "metadata": {
        "id": "Ns9kJ8_XBybF",
        "colab_type": "code",
        "colab": {}
      },
      "cell_type": "code",
      "source": [
        "# Finally: make the model with the good stuff:\n",
        "features = ['LotArea', 'log_area', 'layb_int', 'YearBuilt', 'YrSold']\n",
        "features += (list(top_PCA_labels))\n",
        "# features = (list(top_PCA_labels))\n",
        "X = ames_train[features]\n",
        "y = ames_train['SalePrice']"
      ],
      "execution_count": 0,
      "outputs": []
    },
    {
      "metadata": {
        "id": "-npWvC-OSI6y",
        "colab_type": "code",
        "outputId": "c0a1f743-f058-489c-af9b-75b2876de08c",
        "colab": {
          "base_uri": "https://localhost:8080/",
          "height": 340
        }
      },
      "cell_type": "code",
      "source": [
        "X.isnull().sum()"
      ],
      "execution_count": 24,
      "outputs": [
        {
          "output_type": "execute_result",
          "data": {
            "text/plain": [
              "LotArea      0\n",
              "log_area     0\n",
              "layb_int     0\n",
              "YearBuilt    0\n",
              "YrSold       0\n",
              "pc1          0\n",
              "pc2          0\n",
              "pc3          0\n",
              "pc4          0\n",
              "pc5          0\n",
              "pc6          0\n",
              "pc7          0\n",
              "pc8          0\n",
              "pc9          0\n",
              "pc10         0\n",
              "pc11         0\n",
              "pc12         0\n",
              "pc13         0\n",
              "dtype: int64"
            ]
          },
          "metadata": {
            "tags": []
          },
          "execution_count": 24
        }
      ]
    },
    {
      "metadata": {
        "id": "5rxahRsdRykv",
        "colab_type": "code",
        "outputId": "6b4d0140-faeb-4a73-d18b-bb6f37f3b149",
        "colab": {
          "base_uri": "https://localhost:8080/",
          "height": 51
        }
      },
      "cell_type": "code",
      "source": [
        "from sklearn.metrics import mean_squared_error\n",
        "from sklearn.linear_model import LinearRegression\n",
        "regr = LinearRegression()\n",
        "\n",
        "model = regr.fit(X,y)\n",
        "y_pred = model.predict(X)\n",
        "\n",
        "print(\"R^2 score:\", model.score(X,y))\n",
        "print(\"RMSE:\", np.sqrt(mean_squared_error(y, y_pred)))"
      ],
      "execution_count": 25,
      "outputs": [
        {
          "output_type": "stream",
          "text": [
            "R^2 score: 0.8611495406290662\n",
            "RMSE: 29466.797406180955\n"
          ],
          "name": "stdout"
        }
      ]
    },
    {
      "metadata": {
        "id": "eHAWRiuCD6LU",
        "colab_type": "code",
        "outputId": "af7fb36c-7ad3-4241-b2ab-5d3c713790ae",
        "colab": {
          "base_uri": "https://localhost:8080/",
          "height": 51
        }
      },
      "cell_type": "code",
      "source": [
        "print(\"R^2 score:\", model.score(X,y))\n",
        "print(\"RMSE:\", np.sqrt(mean_squared_error(y, y_pred)))"
      ],
      "execution_count": 26,
      "outputs": [
        {
          "output_type": "stream",
          "text": [
            "R^2 score: 0.8611495406290662\n",
            "RMSE: 29466.797406180955\n"
          ],
          "name": "stdout"
        }
      ]
    },
    {
      "metadata": {
        "id": "ndiq-SaFEtLF",
        "colab_type": "code",
        "outputId": "9a5d13c9-c40a-43e6-c188-f9268ba914b7",
        "colab": {
          "base_uri": "https://localhost:8080/",
          "height": 34
        }
      },
      "cell_type": "code",
      "source": [
        "#Baseline for comparison:\n",
        "mean_vec = [y.mean() for i in range(len(y_pred))]\n",
        "print(\"RMSE:\", np.sqrt(mean_squared_error(y, mean_vec)))"
      ],
      "execution_count": 27,
      "outputs": [
        {
          "output_type": "stream",
          "text": [
            "RMSE: 79078.65548879674\n"
          ],
          "name": "stdout"
        }
      ]
    },
    {
      "metadata": {
        "id": "V3iUxw2iGblH",
        "colab_type": "code",
        "colab": {}
      },
      "cell_type": "code",
      "source": [
        "#Not great... maybe we can make it better with categorical encoding:\n",
        "\n",
        "def good_road(string):\n",
        "  if string == 'Pave':\n",
        "    return 0\n",
        "  else:\n",
        "    return 1\n",
        "ames_train['good_road'] = ames_train['Street'].apply(good_road)\n",
        "\n",
        "def util(string):\n",
        "  if string == 'AllPub':\n",
        "    return 4\n",
        "  elif string == 'NoSewr':\n",
        "    return 3\n",
        "  elif string == 'NoSeWa':\n",
        "    return 2\n",
        "  elif string == 'ELO':\n",
        "    return 1\n",
        "  \n",
        "ames_train['util'] = ames_train['Utilities'].apply(util)"
      ],
      "execution_count": 0,
      "outputs": []
    },
    {
      "metadata": {
        "id": "HCOC0vtVH64D",
        "colab_type": "code",
        "colab": {}
      },
      "cell_type": "code",
      "source": [
        "nbhd_median = ames_train.groupby('Neighborhood')['SalePrice'].agg(np.median).to_dict()\n",
        "ames_train['nbhd_median'] = ames_train['Neighborhood'].apply(lambda x: nbhd_median[x])"
      ],
      "execution_count": 0,
      "outputs": []
    },
    {
      "metadata": {
        "id": "UgKmYojjJCtk",
        "colab_type": "code",
        "colab": {}
      },
      "cell_type": "code",
      "source": [
        "# Create interaction terms:\n",
        "from sklearn.preprocessing import PolynomialFeatures\n",
        "X = ames_train[['LotArea', 'YrSold']]\n",
        "interaction = PolynomialFeatures(degree=2, include_bias=False, interaction_only=True)\n",
        "X_inter = interaction.fit_transform(X)\n",
        "ames_train['lays_int'] = (X_inter.T[2])"
      ],
      "execution_count": 0,
      "outputs": []
    },
    {
      "metadata": {
        "id": "s5tl9c8LJIWz",
        "colab_type": "code",
        "outputId": "f80a8ab2-8baf-4b73-f958-1bca287b8491",
        "colab": {
          "base_uri": "https://localhost:8080/",
          "height": 51
        }
      },
      "cell_type": "code",
      "source": [
        "features = ['LotArea', 'log_area', 'layb_int', 'lays_int', 'YearBuilt', \n",
        "            'YrSold', 'util', 'good_road', 'nbhd_median',]\n",
        "features += (list(top_PCA_labels))\n",
        "# features = (list(top_PCA_labels))\n",
        "X = ames_train[features]\n",
        "y = ames_train['SalePrice']\n",
        "from sklearn.metrics import mean_squared_error\n",
        "from sklearn.linear_model import LinearRegression\n",
        "\n",
        "regr = LinearRegression()\n",
        "\n",
        "model = regr.fit(X,y)\n",
        "y_pred = model.predict(X)\n",
        "\n",
        "print(\"R^2 score:\", model.score(X,y))\n",
        "print(\"RMSE:\", np.sqrt(mean_squared_error(y, y_pred)))"
      ],
      "execution_count": 31,
      "outputs": [
        {
          "output_type": "stream",
          "text": [
            "R^2 score: 0.8764257390449764\n",
            "RMSE: 27798.62324956658\n"
          ],
          "name": "stdout"
        }
      ]
    },
    {
      "metadata": {
        "id": "zL0QJcUnNCBU",
        "colab_type": "code",
        "colab": {}
      },
      "cell_type": "code",
      "source": [
        "# # Try new PCA:\n",
        "\n",
        "# features = ['LotArea', 'log_area', 'layb_int', 'lays_int', 'YearBuilt', \n",
        "#             'YrSold', 'util', 'good_road', 'nbhd_median',]\n",
        "# features += (list(top_PCA_labels))\n",
        "# # features = (list(top_PCA_labels))\n",
        "# X = ames_train[features]\n",
        "# y = ames_train['SalePrice']\n",
        "# from sklearn.metrics import mean_squared_error\n",
        "# from sklearn.linear_model import LinearRegression\n",
        "\n",
        "# regr = LinearRegression()\n",
        "\n",
        "# model = regr.fit(X,y)\n",
        "# y_pred = model.predict(X)\n",
        "\n",
        "# print(\"R^2 score:\", model.score(X,y))\n",
        "# print(\"RMSE:\", np.sqrt(mean_squared_error(y, y_pred)))\n",
        "\n",
        "# Doesn't work great."
      ],
      "execution_count": 0,
      "outputs": []
    },
    {
      "metadata": {
        "id": "rANhv1WaPDyr",
        "colab_type": "code",
        "colab": {}
      },
      "cell_type": "code",
      "source": [
        "# Add interactive variables from PCA:\n",
        "\n",
        "from sklearn.preprocessing import PolynomialFeatures\n",
        "X = ames_train[['pc1', 'pc2']]\n",
        "interaction = PolynomialFeatures(degree=2, include_bias=False, interaction_only=True)\n",
        "X_inter = interaction.fit_transform(X)\n",
        "ames_train['1/2'] = (X_inter.T[2])\n",
        "\n",
        "X = ames_train[['pc2', 'pc3']]\n",
        "interaction = PolynomialFeatures(degree=2, include_bias=False, interaction_only=True)\n",
        "X_inter = interaction.fit_transform(X)\n",
        "ames_train['2/3'] = (X_inter.T[2])\n",
        "\n",
        "X = ames_train[['pc1', 'pc3']]\n",
        "interaction = PolynomialFeatures(degree=2, include_bias=False, interaction_only=True)\n",
        "X_inter = interaction.fit_transform(X)\n",
        "ames_train['1/3'] = (X_inter.T[2])\n"
      ],
      "execution_count": 0,
      "outputs": []
    },
    {
      "metadata": {
        "id": "-SdBPHdkPRUT",
        "colab_type": "code",
        "outputId": "22c7cf26-f987-4e92-be0b-e2f8631633a3",
        "colab": {
          "base_uri": "https://localhost:8080/",
          "height": 51
        }
      },
      "cell_type": "code",
      "source": [
        "features = ['LotArea', 'log_area', 'layb_int', 'lays_int', 'YearBuilt', \n",
        "            'YrSold', 'util', 'good_road', 'nbhd_median', '1/2', '2/3', '1/3']\n",
        "features += (list(top_PCA_labels))\n",
        "# features = (list(top_PCA_labels))\n",
        "X = ames_train[features]\n",
        "y = ames_train['SalePrice']\n",
        "from sklearn.metrics import mean_squared_error\n",
        "from sklearn.linear_model import LinearRegression\n",
        "\n",
        "regr = LinearRegression()\n",
        "\n",
        "model = regr.fit(X,y)\n",
        "y_pred = model.predict(X)\n",
        "\n",
        "print(\"R^2 score:\", model.score(X,y))\n",
        "print(\"RMSE:\", np.sqrt(mean_squared_error(y, y_pred)))"
      ],
      "execution_count": 34,
      "outputs": [
        {
          "output_type": "stream",
          "text": [
            "R^2 score: 0.878886310213913\n",
            "RMSE: 27520.47302953938\n"
          ],
          "name": "stdout"
        }
      ]
    },
    {
      "metadata": {
        "id": "48mW9odIPyI7",
        "colab_type": "code",
        "colab": {}
      },
      "cell_type": "code",
      "source": [
        "#Add ALL the interactives:\n",
        "X = ames_train[top_PCA_labels[:5]]\n",
        "interaction = PolynomialFeatures(degree = 2, interaction_only = True)\n",
        "\n",
        "X_inter = interaction.fit_transform(X)"
      ],
      "execution_count": 0,
      "outputs": []
    },
    {
      "metadata": {
        "id": "olG99e_QTiae",
        "colab_type": "text"
      },
      "cell_type": "markdown",
      "source": [
        "## Programmatic implementation:"
      ]
    },
    {
      "metadata": {
        "id": "aj7Ivn8BTlqs",
        "colab_type": "code",
        "colab": {}
      },
      "cell_type": "code",
      "source": [
        "from sklearn.preprocessing import StandardScaler\n",
        "from sklearn.impute import SimpleImputer\n",
        "from sklearn.preprocessing import PolynomialFeatures\n",
        "\n",
        "def util(string):\n",
        "  if string == 'AllPub':\n",
        "    return 4\n",
        "  elif string == 'NoSewr':\n",
        "    return 3\n",
        "  elif string == 'NoSeWa':\n",
        "    return 2\n",
        "  elif string == 'ELO':\n",
        "    return 1\n",
        "\n",
        "def good_road(string):\n",
        "  if string == 'Pave':\n",
        "    return 0\n",
        "  else:\n",
        "    return 1\n",
        "\n",
        "def clean_ames(df):\n",
        "  \n",
        "  #Drop sparse/useless columns\n",
        "  df = df.drop(columns=['PoolQC', 'MiscFeature', 'Alley', \n",
        "                                      'Fence', 'FireplaceQu', 'Id'])\n",
        "  df['good_road'] = df['Street'].apply(good_road)\n",
        "  df['util'] = df['Utilities'].apply(util)\n",
        "  nbhd_median = df.groupby('Neighborhood')['SalePrice'].agg(np.median).to_dict()\n",
        "  df['nbhd_median'] = df['Neighborhood'].apply(lambda x: nbhd_median[x])\n",
        "  df['log_area'] = df['LotArea'].apply(np.log)\n",
        "  return df\n",
        "\n",
        "def fit_pca(df):  \n",
        "  target = 'SalePrice'\n",
        "  features = df.select_dtypes(include=['float64', 'int64']).columns\n",
        "  #Fit PCA:\n",
        "  x = SimpleImputer().fit_transform(df.loc[:, features])\n",
        "\n",
        "  y = df.loc[:, target].values\n",
        "\n",
        "  x = StandardScaler().fit_transform(x)\n",
        "  \n",
        "  pca = PCA(n_components = 30)\n",
        "  principalComponents = pca.fit_transform(x)\n",
        "  labels = ['pc' + str(num) for num in range(1,31)]\n",
        "  principalComponentsDF = pd.DataFrame(data = principalComponents, columns = labels)\n",
        "  top_PCA_labels = principalComponentsDF.columns[:13]\n",
        "  top_PCA = principalComponentsDF[top_PCA_labels]\n",
        "  df[top_PCA_labels] = top_PCA\n",
        "  return df\n",
        "\n",
        "def add_features(df):\n",
        " \n",
        "  X = df[top_PCA_labels[:5]]\n",
        "  interaction = PolynomialFeatures(degree = 2, interaction_only = True)\n",
        "  X_inter = interaction.fit_transform(X)\n",
        "  for i in range(5):\n",
        "    for j in range(5):\n",
        "      df[str(i) + str(j)] = X_inter[i][j]\n",
        "  return df\n",
        "\n",
        "def test_regr(df, df_test):\n",
        "  regr = LinearRegression()\n",
        "  features = ['LotArea', 'log_area', 'YearBuilt', 'YrSold', 'util', 'good_road', 'nbhd_median']\n",
        "  \n",
        "  for i in range(3):\n",
        "    for j in range(2):\n",
        "      features.append(str(i) + str(j))\n",
        "  \n",
        "  features += (list(top_PCA_labels))\n",
        "  # features = (list(top_PCA_labels))\n",
        "  X = df[features]\n",
        "  y = df['SalePrice']\n",
        "  model = regr.fit(X,y)\n",
        "  y_pred = model.predict(X)\n",
        "\n",
        "  print(\"R^2 score (train):\", model.score(X,y))\n",
        "  print(\"RMSE (train):\", np.sqrt(mean_squared_error(y, y_pred)))\n",
        "  \n",
        "  print(\"R^2 score (test):\", model.score(X,y))\n",
        "  print(\"RMSE (test):\", np.sqrt(mean_squared_error(y, y_pred)))"
      ],
      "execution_count": 0,
      "outputs": []
    },
    {
      "metadata": {
        "id": "Xg8rsKF6VDil",
        "colab_type": "code",
        "colab": {
          "base_uri": "https://localhost:8080/",
          "height": 197
        },
        "outputId": "b08a0a9c-1807-4208-cff5-793e185ff012"
      },
      "cell_type": "code",
      "source": [
        "import pandas as pd\n",
        "from sklearn.model_selection import train_test_split\n",
        "ames_url = 'https://raw.githubusercontent.com/ryanleeallred/datasets/master/Ames%20Housing%20Data/train.csv'\n",
        "\n",
        "ames = pd.read_csv(ames_url)\n",
        "ames_train, ames_test = train_test_split(ames)\n",
        "ames_train = ames_train.reset_index()\n",
        "ames_test = ames_test.reset_index()\n",
        "\n",
        "ames_train = (add_features(fit_pca(clean_ames(ames_train))))\n",
        "test_regr(ames_train)"
      ],
      "execution_count": 55,
      "outputs": [
        {
          "output_type": "error",
          "ename": "TypeError",
          "evalue": "ignored",
          "traceback": [
            "\u001b[0;31m---------------------------------------------------------------------------\u001b[0m",
            "\u001b[0;31mTypeError\u001b[0m                                 Traceback (most recent call last)",
            "\u001b[0;32m<ipython-input-55-c875ff8da7b3>\u001b[0m in \u001b[0;36m<module>\u001b[0;34m()\u001b[0m\n\u001b[1;32m      9\u001b[0m \u001b[0;34m\u001b[0m\u001b[0m\n\u001b[1;32m     10\u001b[0m \u001b[0mames_train\u001b[0m \u001b[0;34m=\u001b[0m \u001b[0;34m(\u001b[0m\u001b[0madd_features\u001b[0m\u001b[0;34m(\u001b[0m\u001b[0mfit_pca\u001b[0m\u001b[0;34m(\u001b[0m\u001b[0mclean_ames\u001b[0m\u001b[0;34m(\u001b[0m\u001b[0mames_train\u001b[0m\u001b[0;34m)\u001b[0m\u001b[0;34m)\u001b[0m\u001b[0;34m)\u001b[0m\u001b[0;34m)\u001b[0m\u001b[0;34m\u001b[0m\u001b[0;34m\u001b[0m\u001b[0m\n\u001b[0;32m---> 11\u001b[0;31m \u001b[0mtest_regr\u001b[0m\u001b[0;34m(\u001b[0m\u001b[0mames_train\u001b[0m\u001b[0;34m)\u001b[0m\u001b[0;34m\u001b[0m\u001b[0;34m\u001b[0m\u001b[0m\n\u001b[0m",
            "\u001b[0;31mTypeError\u001b[0m: test_regr() missing 1 required positional argument: 'df_test'"
          ]
        }
      ]
    },
    {
      "metadata": {
        "colab_type": "text",
        "id": "Uvbg4rRPW2Ex"
      },
      "cell_type": "markdown",
      "source": [
        "# Stretch Goals\n",
        "\n",
        "- Write a blog post explaining one of today's topics.\n",
        "- Find a new regression dataset from the UCI machine learning repository and use it to test out your new modeling skillz.\n",
        " [ - UCI Machine Learning Repository - Regression Datasets](https://)\n",
        "- Make a list for yourself of common feature engineering techniques. Browse Kaggle kernels to learn more methods.\n",
        "- Try and make the ultimate model with this dataset. clean as many features as possible, engineer the most sensible features as possible and see how accurate of a prediction you can make. \n",
        "- Learn about the \"Dummy Variable Trap\" and how it applies to linear regression modeling.\n",
        "- Learning about using linear regression to model time series data"
      ]
    }
  ]
}