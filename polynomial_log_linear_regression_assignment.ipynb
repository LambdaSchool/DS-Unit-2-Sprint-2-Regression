{
  "nbformat": 4,
  "nbformat_minor": 0,
  "metadata": {
    "colab": {
      "name": "polynomial-log-linear-regression-assignment.ipynb",
      "version": "0.3.2",
      "provenance": [],
      "include_colab_link": true
    },
    "language_info": {
      "codemirror_mode": {
        "name": "ipython",
        "version": 3
      },
      "file_extension": ".py",
      "mimetype": "text/x-python",
      "name": "python",
      "nbconvert_exporter": "python",
      "pygments_lexer": "ipython3",
      "version": "3.7.1"
    },
    "kernelspec": {
      "display_name": "Python 3",
      "language": "python",
      "name": "python3"
    }
  },
  "cells": [
    {
      "cell_type": "markdown",
      "metadata": {
        "id": "view-in-github",
        "colab_type": "text"
      },
      "source": [
        "<a href=\"https://colab.research.google.com/github/will-cotton4/DS-Unit-2-Sprint-2-Regression/blob/master/polynomial_log_linear_regression_assignment.ipynb\" target=\"_parent\"><img src=\"https://colab.research.google.com/assets/colab-badge.svg\" alt=\"Open In Colab\"/></a>"
      ]
    },
    {
      "metadata": {
        "colab_type": "text",
        "id": "Dc4kEVNWo4yZ"
      },
      "cell_type": "markdown",
      "source": [
        "# Intermediate Linear Regression Practice\n",
        "\n",
        "## Use a Linear Regression model to get the lowest RMSE possible on the following dataset:\n",
        "\n",
        "[Dataset Folder](https://github.com/ryanleeallred/datasets/tree/master/Ames%20Housing%20Data)\n",
        "\n",
        "[Raw CSV](https://raw.githubusercontent.com/ryanleeallred/datasets/master/Ames%20Housing%20Data/train.csv)\n",
        "\n",
        "## Your model must include (at least):\n",
        "- A log-transformed y variable\n",
        "- Two polynomial features\n",
        "- One interaction feature\n",
        "- 10 other engineered features\n",
        "\n",
        "What is the lowest Root-Mean-Squared Error that you are able to obtain? Share your best RMSEs in Slack!\n",
        "\n",
        "Notes:\n",
        "\n",
        "There may be some data cleaning that you need to do on some features of this dataset. Linear Regression will only accept numeric values and will not accept\n",
        "\n",
        "Note* There may not be a clear candidate for an interaction term in this dataset. Include one anyway, sometimes it's a good practice for predictive modeling feature engineering in general. "
      ]
    },
    {
      "metadata": {
        "colab_type": "code",
        "id": "XYZSkixpo2qD",
        "colab": {}
      },
      "cell_type": "code",
      "source": [
        "import pandas as pd\n",
        "from sklearn.model_selection import train_test_split\n",
        "ames_url = 'https://raw.githubusercontent.com/ryanleeallred/datasets/master/Ames%20Housing%20Data/train.csv'\n",
        "\n",
        "ames = pd.read_csv(ames_url)\n",
        "ames_train, ames_test = train_test_split(ames)\n",
        "ames_train = ames_train.reset_index()\n",
        "ames_test = ames_test.reset_index()"
      ],
      "execution_count": 0,
      "outputs": []
    },
    {
      "metadata": {
        "id": "JvGEenH2zSxg",
        "colab_type": "code",
        "colab": {
          "base_uri": "https://localhost:8080/",
          "height": 204
        },
        "outputId": "cd225a5a-a999-4713-c4d8-6377c024c2b1"
      },
      "cell_type": "code",
      "source": [
        "ames_train.isna().sum().sort_values(ascending=False).head(10)"
      ],
      "execution_count": 29,
      "outputs": [
        {
          "output_type": "execute_result",
          "data": {
            "text/plain": [
              "PoolQC          1089\n",
              "MiscFeature     1057\n",
              "Alley           1026\n",
              "Fence            888\n",
              "FireplaceQu      526\n",
              "LotFrontage      195\n",
              "GarageCond        59\n",
              "GarageType        59\n",
              "GarageYrBlt       59\n",
              "GarageFinish      59\n",
              "dtype: int64"
            ]
          },
          "metadata": {
            "tags": []
          },
          "execution_count": 29
        }
      ]
    },
    {
      "metadata": {
        "id": "Q5UVXLZazggP",
        "colab_type": "code",
        "colab": {}
      },
      "cell_type": "code",
      "source": [
        "#Drop sparse columns\n",
        "ames_train = ames_train.drop(columns=['PoolQC', 'MiscFeature', 'Alley', \n",
        "                                      'Fence', 'FireplaceQu', 'Id'])"
      ],
      "execution_count": 0,
      "outputs": []
    },
    {
      "metadata": {
        "id": "Rm0mCXip02Hn",
        "colab_type": "code",
        "colab": {
          "base_uri": "https://localhost:8080/",
          "height": 306
        },
        "outputId": "8ee1543b-1f15-4553-f996-d31ac969f3c1"
      },
      "cell_type": "code",
      "source": [
        "ames_train.columns[:-1]"
      ],
      "execution_count": 31,
      "outputs": [
        {
          "output_type": "execute_result",
          "data": {
            "text/plain": [
              "Index(['index', 'MSSubClass', 'MSZoning', 'LotFrontage', 'LotArea', 'Street',\n",
              "       'LotShape', 'LandContour', 'Utilities', 'LotConfig', 'LandSlope',\n",
              "       'Neighborhood', 'Condition1', 'Condition2', 'BldgType', 'HouseStyle',\n",
              "       'OverallQual', 'OverallCond', 'YearBuilt', 'YearRemodAdd', 'RoofStyle',\n",
              "       'RoofMatl', 'Exterior1st', 'Exterior2nd', 'MasVnrType', 'MasVnrArea',\n",
              "       'ExterQual', 'ExterCond', 'Foundation', 'BsmtQual', 'BsmtCond',\n",
              "       'BsmtExposure', 'BsmtFinType1', 'BsmtFinSF1', 'BsmtFinType2',\n",
              "       'BsmtFinSF2', 'BsmtUnfSF', 'TotalBsmtSF', 'Heating', 'HeatingQC',\n",
              "       'CentralAir', 'Electrical', '1stFlrSF', '2ndFlrSF', 'LowQualFinSF',\n",
              "       'GrLivArea', 'BsmtFullBath', 'BsmtHalfBath', 'FullBath', 'HalfBath',\n",
              "       'BedroomAbvGr', 'KitchenAbvGr', 'KitchenQual', 'TotRmsAbvGrd',\n",
              "       'Functional', 'Fireplaces', 'GarageType', 'GarageYrBlt', 'GarageFinish',\n",
              "       'GarageCars', 'GarageArea', 'GarageQual', 'GarageCond', 'PavedDrive',\n",
              "       'WoodDeckSF', 'OpenPorchSF', 'EnclosedPorch', '3SsnPorch',\n",
              "       'ScreenPorch', 'PoolArea', 'MiscVal', 'MoSold', 'YrSold', 'SaleType',\n",
              "       'SaleCondition'],\n",
              "      dtype='object')"
            ]
          },
          "metadata": {
            "tags": []
          },
          "execution_count": 31
        }
      ]
    },
    {
      "metadata": {
        "id": "jCbIaqqD1Dvw",
        "colab_type": "code",
        "colab": {
          "base_uri": "https://localhost:8080/",
          "height": 1071
        },
        "outputId": "32b28a3a-cb2a-401c-d1ce-fb0b667a6976"
      },
      "cell_type": "code",
      "source": [
        "ames_train.dtypes"
      ],
      "execution_count": 32,
      "outputs": [
        {
          "output_type": "execute_result",
          "data": {
            "text/plain": [
              "index              int64\n",
              "MSSubClass         int64\n",
              "MSZoning          object\n",
              "LotFrontage      float64\n",
              "LotArea            int64\n",
              "Street            object\n",
              "LotShape          object\n",
              "LandContour       object\n",
              "Utilities         object\n",
              "LotConfig         object\n",
              "LandSlope         object\n",
              "Neighborhood      object\n",
              "Condition1        object\n",
              "Condition2        object\n",
              "BldgType          object\n",
              "HouseStyle        object\n",
              "OverallQual        int64\n",
              "OverallCond        int64\n",
              "YearBuilt          int64\n",
              "YearRemodAdd       int64\n",
              "RoofStyle         object\n",
              "RoofMatl          object\n",
              "Exterior1st       object\n",
              "Exterior2nd       object\n",
              "MasVnrType        object\n",
              "MasVnrArea       float64\n",
              "ExterQual         object\n",
              "ExterCond         object\n",
              "Foundation        object\n",
              "BsmtQual          object\n",
              "                  ...   \n",
              "BsmtFullBath       int64\n",
              "BsmtHalfBath       int64\n",
              "FullBath           int64\n",
              "HalfBath           int64\n",
              "BedroomAbvGr       int64\n",
              "KitchenAbvGr       int64\n",
              "KitchenQual       object\n",
              "TotRmsAbvGrd       int64\n",
              "Functional        object\n",
              "Fireplaces         int64\n",
              "GarageType        object\n",
              "GarageYrBlt      float64\n",
              "GarageFinish      object\n",
              "GarageCars         int64\n",
              "GarageArea         int64\n",
              "GarageQual        object\n",
              "GarageCond        object\n",
              "PavedDrive        object\n",
              "WoodDeckSF         int64\n",
              "OpenPorchSF        int64\n",
              "EnclosedPorch      int64\n",
              "3SsnPorch          int64\n",
              "ScreenPorch        int64\n",
              "PoolArea           int64\n",
              "MiscVal            int64\n",
              "MoSold             int64\n",
              "YrSold             int64\n",
              "SaleType          object\n",
              "SaleCondition     object\n",
              "SalePrice          int64\n",
              "Length: 76, dtype: object"
            ]
          },
          "metadata": {
            "tags": []
          },
          "execution_count": 32
        }
      ]
    },
    {
      "metadata": {
        "id": "n17xSuq56hKe",
        "colab_type": "code",
        "colab": {
          "base_uri": "https://localhost:8080/",
          "height": 34
        },
        "outputId": "bda50fbe-e6c9-4841-8098-ca6741beb24a"
      },
      "cell_type": "code",
      "source": [
        "ames_train.shape"
      ],
      "execution_count": 33,
      "outputs": [
        {
          "output_type": "execute_result",
          "data": {
            "text/plain": [
              "(1095, 76)"
            ]
          },
          "metadata": {
            "tags": []
          },
          "execution_count": 33
        }
      ]
    },
    {
      "metadata": {
        "id": "7Yp4-hLp0cqQ",
        "colab_type": "code",
        "colab": {}
      },
      "cell_type": "code",
      "source": [
        "from sklearn.preprocessing import StandardScaler\n",
        "from sklearn.impute import SimpleImputer\n",
        "\n",
        "\n",
        "\n",
        "features = ames_train.select_dtypes(\n",
        "    include=['float64', 'int64']).columns\n",
        "target = 'SalePrice'\n",
        "x = SimpleImputer().fit_transform(ames_train.loc[:, features])\n",
        "\n",
        "y = ames_train.loc[:, target].values\n",
        "\n",
        "x = StandardScaler().fit_transform(x)"
      ],
      "execution_count": 0,
      "outputs": []
    },
    {
      "metadata": {
        "id": "J3WLrtbh2VZF",
        "colab_type": "code",
        "colab": {
          "base_uri": "https://localhost:8080/",
          "height": 34
        },
        "outputId": "961f90e1-2dfb-4e61-e98b-47b2207d07e5"
      },
      "cell_type": "code",
      "source": [
        "len(features)"
      ],
      "execution_count": 35,
      "outputs": [
        {
          "output_type": "execute_result",
          "data": {
            "text/plain": [
              "38"
            ]
          },
          "metadata": {
            "tags": []
          },
          "execution_count": 35
        }
      ]
    },
    {
      "metadata": {
        "id": "cP0GupP3ztIA",
        "colab_type": "code",
        "colab": {}
      },
      "cell_type": "code",
      "source": [
        "from sklearn.decomposition import PCA\n",
        "\n",
        "pca = PCA(n_components = 30)\n",
        "\n",
        "principalComponents = pca.fit_transform(x)"
      ],
      "execution_count": 0,
      "outputs": []
    },
    {
      "metadata": {
        "id": "XtsS5HTm37Pu",
        "colab_type": "code",
        "colab": {}
      },
      "cell_type": "code",
      "source": [
        "scaled_var_exp = pca.explained_variance_/sum(pca.explained_variance_)"
      ],
      "execution_count": 0,
      "outputs": []
    },
    {
      "metadata": {
        "id": "cjXqxk6o4cTf",
        "colab_type": "code",
        "colab": {
          "base_uri": "https://localhost:8080/",
          "height": 119
        },
        "outputId": "a5014507-eb8b-4d3e-ecfa-b4dec90b7f2a"
      },
      "cell_type": "code",
      "source": [
        "scaled_var_exp"
      ],
      "execution_count": 38,
      "outputs": [
        {
          "output_type": "execute_result",
          "data": {
            "text/plain": [
              "array([0.2116329 , 0.08627758, 0.06874854, 0.05693168, 0.03915176,\n",
              "       0.03360888, 0.03218968, 0.03139207, 0.03104792, 0.03020683,\n",
              "       0.02919323, 0.02761678, 0.02723679, 0.02688356, 0.02549563,\n",
              "       0.02479989, 0.02316479, 0.02244056, 0.02202994, 0.02046078,\n",
              "       0.01956674, 0.0178217 , 0.01656197, 0.01553659, 0.01541189,\n",
              "       0.01139527, 0.01076775, 0.00829842, 0.00735174, 0.00677815])"
            ]
          },
          "metadata": {
            "tags": []
          },
          "execution_count": 38
        }
      ]
    },
    {
      "metadata": {
        "id": "o5NkF9-L5Bw3",
        "colab_type": "code",
        "colab": {}
      },
      "cell_type": "code",
      "source": [
        "labels = ['pc' + str(num) for num in range(1,31)]"
      ],
      "execution_count": 0,
      "outputs": []
    },
    {
      "metadata": {
        "id": "JH-cmeuU4guo",
        "colab_type": "code",
        "colab": {
          "base_uri": "https://localhost:8080/",
          "height": 503
        },
        "outputId": "f1007813-2992-42a4-f6da-8e3c1db9d18c"
      },
      "cell_type": "code",
      "source": [
        "import matplotlib as mpl\n",
        "import matplotlib.pyplot as plt\n",
        "import numpy as np\n",
        "\n",
        "fig = plt.figure(figsize = (17,8))\n",
        "fig.add_axes()\n",
        "ax1=fig.add_subplot(111)\n",
        "ax1.bar(x=labels, height=scaled_var_exp)"
      ],
      "execution_count": 40,
      "outputs": [
        {
          "output_type": "execute_result",
          "data": {
            "text/plain": [
              "<BarContainer object of 30 artists>"
            ]
          },
          "metadata": {
            "tags": []
          },
          "execution_count": 40
        },
        {
          "output_type": "display_data",
          "data": {
            "image/png": "[encoded data removed]",
            "text/plain": [
              "<Figure size 1224x576 with 1 Axes>"
            ]
          },
          "metadata": {
            "tags": []
          }
        }
      ]
    },
    {
      "metadata": {
        "id": "8W7TzBIH5Nan",
        "colab_type": "code",
        "colab": {
          "base_uri": "https://localhost:8080/",
          "height": 503
        },
        "outputId": "7d56ff47-aa57-41d4-c76e-c3a4c295a8af"
      },
      "cell_type": "code",
      "source": [
        "j=0\n",
        "cum_varex=np.zeros(30)\n",
        "while j < len(scaled_var_exp):\n",
        "  cum_varex[j] = sum(scaled_var_exp[:j+1])\n",
        "  j+=1\n",
        "  \n",
        "fig = plt.figure(figsize = (17,8))\n",
        "fig.add_axes()\n",
        "ax2=fig.add_subplot(111)\n",
        "ax2.bar(x=labels, height=cum_varex)#, cmap = 'Greens')\n",
        "ax2.axhline(0.7, color='r')\n",
        "ax2.axhline(0.75, color='y')\n",
        "ax2.axhline(0.8, color='g')"
      ],
      "execution_count": 41,
      "outputs": [
        {
          "output_type": "execute_result",
          "data": {
            "text/plain": [
              "<matplotlib.lines.Line2D at 0x7fefd7581d30>"
            ]
          },
          "metadata": {
            "tags": []
          },
          "execution_count": 41
        },
        {
          "output_type": "display_data",
          "data": {
            "image/png": "[encoded data removed]",
            "text/plain": [
              "<Figure size 1224x576 with 1 Axes>"
            ]
          },
          "metadata": {
            "tags": []
          }
        }
      ]
    },
    {
      "metadata": {
        "id": "wTGt0zzv5efv",
        "colab_type": "code",
        "colab": {}
      },
      "cell_type": "code",
      "source": [
        "principalComponentsDF = pd.DataFrame(data = principalComponents, columns = labels)"
      ],
      "execution_count": 0,
      "outputs": []
    },
    {
      "metadata": {
        "id": "RxExDfg553i2",
        "colab_type": "code",
        "colab": {}
      },
      "cell_type": "code",
      "source": [
        "principalComponentsDF = pd.DataFrame(data = principalComponents, columns = labels)\n",
        "top_PCA_labels = principalComponentsDF.columns[:13]\n",
        "top_PCA = principalComponentsDF[top_PCA_labels]\n",
        "ames_train[top_PCA_labels] = top_PCA"
      ],
      "execution_count": 0,
      "outputs": []
    },
    {
      "metadata": {
        "id": "nj2r2nS66J7_",
        "colab_type": "code",
        "colab": {}
      },
      "cell_type": "code",
      "source": [
        "ames_train[top_PCA_labels] = top_PCA"
      ],
      "execution_count": 0,
      "outputs": []
    },
    {
      "metadata": {
        "id": "XhU85rqRAxv9",
        "colab_type": "code",
        "colab": {
          "base_uri": "https://localhost:8080/",
          "height": 323
        },
        "outputId": "aa129a06-028a-4f60-d83c-de17b543958c"
      },
      "cell_type": "code",
      "source": [
        "ames_train.columns"
      ],
      "execution_count": 45,
      "outputs": [
        {
          "output_type": "execute_result",
          "data": {
            "text/plain": [
              "Index(['index', 'MSSubClass', 'MSZoning', 'LotFrontage', 'LotArea', 'Street',\n",
              "       'LotShape', 'LandContour', 'Utilities', 'LotConfig', 'LandSlope',\n",
              "       'Neighborhood', 'Condition1', 'Condition2', 'BldgType', 'HouseStyle',\n",
              "       'OverallQual', 'OverallCond', 'YearBuilt', 'YearRemodAdd', 'RoofStyle',\n",
              "       'RoofMatl', 'Exterior1st', 'Exterior2nd', 'MasVnrType', 'MasVnrArea',\n",
              "       'ExterQual', 'ExterCond', 'Foundation', 'BsmtQual', 'BsmtCond',\n",
              "       'BsmtExposure', 'BsmtFinType1', 'BsmtFinSF1', 'BsmtFinType2',\n",
              "       'BsmtFinSF2', 'BsmtUnfSF', 'TotalBsmtSF', 'Heating', 'HeatingQC',\n",
              "       'CentralAir', 'Electrical', '1stFlrSF', '2ndFlrSF', 'LowQualFinSF',\n",
              "       'GrLivArea', 'BsmtFullBath', 'BsmtHalfBath', 'FullBath', 'HalfBath',\n",
              "       'BedroomAbvGr', 'KitchenAbvGr', 'KitchenQual', 'TotRmsAbvGrd',\n",
              "       'Functional', 'Fireplaces', 'GarageType', 'GarageYrBlt', 'GarageFinish',\n",
              "       'GarageCars', 'GarageArea', 'GarageQual', 'GarageCond', 'PavedDrive',\n",
              "       'WoodDeckSF', 'OpenPorchSF', 'EnclosedPorch', '3SsnPorch',\n",
              "       'ScreenPorch', 'PoolArea', 'MiscVal', 'MoSold', 'YrSold', 'SaleType',\n",
              "       'SaleCondition', 'SalePrice', 'pc1', 'pc2', 'pc3', 'pc4', 'pc5', 'pc6',\n",
              "       'pc7', 'pc8', 'pc9', 'pc10', 'pc11', 'pc12', 'pc13'],\n",
              "      dtype='object')"
            ]
          },
          "metadata": {
            "tags": []
          },
          "execution_count": 45
        }
      ]
    },
    {
      "metadata": {
        "id": "uH6oluu47zu2",
        "colab_type": "code",
        "colab": {}
      },
      "cell_type": "code",
      "source": [
        "# Create interaction terms:\n",
        "from sklearn.preprocessing import PolynomialFeatures\n",
        "X = ames_train[['LotArea', 'YearBuilt']]\n",
        "interaction = PolynomialFeatures(degree=2, include_bias=False, interaction_only=True)\n",
        "X_inter = interaction.fit_transform(X)\n",
        "ames_train['layb_int'] = (X_inter.T[2])"
      ],
      "execution_count": 0,
      "outputs": []
    },
    {
      "metadata": {
        "id": "90wSYSQZ7VOW",
        "colab_type": "code",
        "colab": {}
      },
      "cell_type": "code",
      "source": [
        "ames_train['log_area'] = ames_train['LotArea'].apply(np.log)"
      ],
      "execution_count": 0,
      "outputs": []
    },
    {
      "metadata": {
        "id": "Ns9kJ8_XBybF",
        "colab_type": "code",
        "colab": {}
      },
      "cell_type": "code",
      "source": [
        "# Finally: make the model with the good stuff:\n",
        "features = ['LotArea', 'log_area', 'layb_int', 'YearBuilt', 'YrSold']\n",
        "features += (list(top_PCA_labels))\n",
        "# features = (list(top_PCA_labels))\n",
        "X = ames_train[features]\n",
        "y = ames_train['SalePrice']"
      ],
      "execution_count": 0,
      "outputs": []
    },
    {
      "metadata": {
        "id": "-npWvC-OSI6y",
        "colab_type": "code",
        "colab": {
          "base_uri": "https://localhost:8080/",
          "height": 340
        },
        "outputId": "b6ff60f8-9aa2-4d6e-9553-eb8c0a3b18b9"
      },
      "cell_type": "code",
      "source": [
        "X.isnull().sum()"
      ],
      "execution_count": 49,
      "outputs": [
        {
          "output_type": "execute_result",
          "data": {
            "text/plain": [
              "LotArea      0\n",
              "log_area     0\n",
              "layb_int     0\n",
              "YearBuilt    0\n",
              "YrSold       0\n",
              "pc1          0\n",
              "pc2          0\n",
              "pc3          0\n",
              "pc4          0\n",
              "pc5          0\n",
              "pc6          0\n",
              "pc7          0\n",
              "pc8          0\n",
              "pc9          0\n",
              "pc10         0\n",
              "pc11         0\n",
              "pc12         0\n",
              "pc13         0\n",
              "dtype: int64"
            ]
          },
          "metadata": {
            "tags": []
          },
          "execution_count": 49
        }
      ]
    },
    {
      "metadata": {
        "id": "5rxahRsdRykv",
        "colab_type": "code",
        "colab": {
          "base_uri": "https://localhost:8080/",
          "height": 51
        },
        "outputId": "efc179b4-5f11-4c5a-c0f5-12319f29bd50"
      },
      "cell_type": "code",
      "source": [
        "from sklearn.metrics import mean_squared_error\n",
        "from sklearn.linear_model import LinearRegression\n",
        "regr = LinearRegression()\n",
        "\n",
        "model = regr.fit(X,y)\n",
        "y_pred = model.predict(X)\n",
        "\n",
        "print(\"R^2 score:\", model.score(X,y))\n",
        "print(\"RMSE:\", np.sqrt(mean_squared_error(y, y_pred)))"
      ],
      "execution_count": 50,
      "outputs": [
        {
          "output_type": "stream",
          "text": [
            "R^2 score: 0.8760618207265816\n",
            "RMSE: 28371.613926806185\n"
          ],
          "name": "stdout"
        }
      ]
    },
    {
      "metadata": {
        "id": "eHAWRiuCD6LU",
        "colab_type": "code",
        "colab": {
          "base_uri": "https://localhost:8080/",
          "height": 51
        },
        "outputId": "fed606ea-f197-4062-cb54-d714c56c77e4"
      },
      "cell_type": "code",
      "source": [
        "print(\"R^2 score:\", model.score(X,y))\n",
        "print(\"RMSE:\", np.sqrt(mean_squared_error(y, y_pred)))"
      ],
      "execution_count": 51,
      "outputs": [
        {
          "output_type": "stream",
          "text": [
            "R^2 score: 0.8760618207265816\n",
            "RMSE: 28371.613926806185\n"
          ],
          "name": "stdout"
        }
      ]
    },
    {
      "metadata": {
        "id": "ndiq-SaFEtLF",
        "colab_type": "code",
        "colab": {
          "base_uri": "https://localhost:8080/",
          "height": 34
        },
        "outputId": "b8fe8ea3-cb84-4a55-b96a-6dd7936a13a8"
      },
      "cell_type": "code",
      "source": [
        "#Baseline for comparison:\n",
        "mean_vec = [y.mean() for i in range(len(y_pred))]\n",
        "print(\"RMSE:\", np.sqrt(mean_squared_error(y, mean_vec)))"
      ],
      "execution_count": 52,
      "outputs": [
        {
          "output_type": "stream",
          "text": [
            "RMSE: 80590.06119523507\n"
          ],
          "name": "stdout"
        }
      ]
    },
    {
      "metadata": {
        "id": "V3iUxw2iGblH",
        "colab_type": "code",
        "colab": {}
      },
      "cell_type": "code",
      "source": [
        "#Not great... maybe we can make it better with categorical encoding:\n",
        "\n",
        "def good_road(string):\n",
        "  if string == 'Pave':\n",
        "    return 0\n",
        "  else:\n",
        "    return 1\n",
        "ames_train['good_road'] = ames_train['Street'].apply(good_road)\n",
        "\n",
        "def util(string):\n",
        "  if string == 'AllPub':\n",
        "    return 4\n",
        "  elif string == 'NoSewr':\n",
        "    return 3\n",
        "  elif string == 'NoSeWa':\n",
        "    return 2\n",
        "  elif string == 'ELO':\n",
        "    return 1\n",
        "  \n",
        "ames_train['util'] = ames_train['Utilities'].apply(util)"
      ],
      "execution_count": 0,
      "outputs": []
    },
    {
      "metadata": {
        "id": "HCOC0vtVH64D",
        "colab_type": "code",
        "colab": {}
      },
      "cell_type": "code",
      "source": [
        "nbhd_median = ames_train.groupby('Neighborhood')['SalePrice'].agg(np.median).to_dict()\n",
        "ames_train['nbhd_median'] = ames_train['Neighborhood'].apply(lambda x: nbhd_median[x])"
      ],
      "execution_count": 0,
      "outputs": []
    },
    {
      "metadata": {
        "id": "UgKmYojjJCtk",
        "colab_type": "code",
        "colab": {}
      },
      "cell_type": "code",
      "source": [
        "# Create interaction terms:\n",
        "from sklearn.preprocessing import PolynomialFeatures\n",
        "X = ames_train[['LotArea', 'YrSold']]\n",
        "interaction = PolynomialFeatures(degree=2, include_bias=False, interaction_only=True)\n",
        "X_inter = interaction.fit_transform(X)\n",
        "ames_train['lays_int'] = (X_inter.T[2])"
      ],
      "execution_count": 0,
      "outputs": []
    },
    {
      "metadata": {
        "id": "s5tl9c8LJIWz",
        "colab_type": "code",
        "colab": {
          "base_uri": "https://localhost:8080/",
          "height": 51
        },
        "outputId": "c44dde3b-c621-47d0-dd86-219abcd9ccec"
      },
      "cell_type": "code",
      "source": [
        "features = ['LotArea', 'log_area', 'layb_int', 'lays_int', 'YearBuilt', \n",
        "            'YrSold', 'util', 'good_road', 'nbhd_median',]\n",
        "features += (list(top_PCA_labels))\n",
        "# features = (list(top_PCA_labels))\n",
        "X = ames_train[features]\n",
        "y = ames_train['SalePrice']\n",
        "from sklearn.metrics import mean_squared_error\n",
        "from sklearn.linear_model import LinearRegression\n",
        "\n",
        "regr = LinearRegression()\n",
        "\n",
        "model = regr.fit(X,y)\n",
        "y_pred = model.predict(X)\n",
        "\n",
        "print(\"R^2 score:\", model.score(X,y))\n",
        "print(\"RMSE:\", np.sqrt(mean_squared_error(y, y_pred)))"
      ],
      "execution_count": 56,
      "outputs": [
        {
          "output_type": "stream",
          "text": [
            "R^2 score: 0.8849813759282181\n",
            "RMSE: 27331.632308288266\n"
          ],
          "name": "stdout"
        }
      ]
    },
    {
      "metadata": {
        "id": "zL0QJcUnNCBU",
        "colab_type": "code",
        "colab": {}
      },
      "cell_type": "code",
      "source": [
        "# # Try new PCA:\n",
        "\n",
        "# features = ['LotArea', 'log_area', 'layb_int', 'lays_int', 'YearBuilt', \n",
        "#             'YrSold', 'util', 'good_road', 'nbhd_median',]\n",
        "# features += (list(top_PCA_labels))\n",
        "# # features = (list(top_PCA_labels))\n",
        "# X = ames_train[features]\n",
        "# y = ames_train['SalePrice']\n",
        "# from sklearn.metrics import mean_squared_error\n",
        "# from sklearn.linear_model import LinearRegression\n",
        "\n",
        "# regr = LinearRegression()\n",
        "\n",
        "# model = regr.fit(X,y)\n",
        "# y_pred = model.predict(X)\n",
        "\n",
        "# print(\"R^2 score:\", model.score(X,y))\n",
        "# print(\"RMSE:\", np.sqrt(mean_squared_error(y, y_pred)))\n",
        "\n",
        "# Doesn't work great."
      ],
      "execution_count": 0,
      "outputs": []
    },
    {
      "metadata": {
        "id": "rANhv1WaPDyr",
        "colab_type": "code",
        "colab": {}
      },
      "cell_type": "code",
      "source": [
        "# Add interactive variables from PCA:\n",
        "\n",
        "from sklearn.preprocessing import PolynomialFeatures\n",
        "X = ames_train[['pc1', 'pc2']]\n",
        "interaction = PolynomialFeatures(degree=2, include_bias=False, interaction_only=True)\n",
        "X_inter = interaction.fit_transform(X)\n",
        "ames_train['1/2'] = (X_inter.T[2])\n",
        "\n",
        "X = ames_train[['pc2', 'pc3']]\n",
        "interaction = PolynomialFeatures(degree=2, include_bias=False, interaction_only=True)\n",
        "X_inter = interaction.fit_transform(X)\n",
        "ames_train['2/3'] = (X_inter.T[2])\n",
        "\n",
        "X = ames_train[['pc1', 'pc3']]\n",
        "interaction = PolynomialFeatures(degree=2, include_bias=False, interaction_only=True)\n",
        "X_inter = interaction.fit_transform(X)\n",
        "ames_train['1/3'] = (X_inter.T[2])\n"
      ],
      "execution_count": 0,
      "outputs": []
    },
    {
      "metadata": {
        "id": "-SdBPHdkPRUT",
        "colab_type": "code",
        "colab": {
          "base_uri": "https://localhost:8080/",
          "height": 51
        },
        "outputId": "c6815fc8-58a9-46a9-f95e-3f0d9ad7130a"
      },
      "cell_type": "code",
      "source": [
        "features = ['LotArea', 'log_area', 'layb_int', 'lays_int', 'YearBuilt', \n",
        "            'YrSold', 'util', 'good_road', 'nbhd_median', '1/2', '2/3', '1/3']\n",
        "features += (list(top_PCA_labels))\n",
        "# features = (list(top_PCA_labels))\n",
        "X = ames_train[features]\n",
        "y = ames_train['SalePrice']\n",
        "from sklearn.metrics import mean_squared_error\n",
        "from sklearn.linear_model import LinearRegression\n",
        "\n",
        "regr = LinearRegression()\n",
        "\n",
        "model = regr.fit(X,y)\n",
        "y_pred = model.predict(X)\n",
        "\n",
        "print(\"R^2 score:\", model.score(X,y))\n",
        "print(\"RMSE:\", np.sqrt(mean_squared_error(y, y_pred)))"
      ],
      "execution_count": 59,
      "outputs": [
        {
          "output_type": "stream",
          "text": [
            "R^2 score: 0.8950066478919231\n",
            "RMSE: 26113.33777427591\n"
          ],
          "name": "stdout"
        }
      ]
    },
    {
      "metadata": {
        "id": "48mW9odIPyI7",
        "colab_type": "code",
        "colab": {}
      },
      "cell_type": "code",
      "source": [
        "#Add ALL the interactives:\n",
        "X = ames_train[top_PCA_labels[:5]]\n",
        "interaction = PolynomialFeatures(degree = 2, interaction_only = True)\n",
        "\n",
        "X_inter = interaction.fit_transform(X)"
      ],
      "execution_count": 0,
      "outputs": []
    },
    {
      "metadata": {
        "colab_type": "text",
        "id": "Uvbg4rRPW2Ex"
      },
      "cell_type": "markdown",
      "source": [
        "# Stretch Goals\n",
        "\n",
        "- Write a blog post explaining one of today's topics.\n",
        "- Find a new regression dataset from the UCI machine learning repository and use it to test out your new modeling skillz.\n",
        " [ - UCI Machine Learning Repository - Regression Datasets](https://)\n",
        "- Make a list for yourself of common feature engineering techniques. Browse Kaggle kernels to learn more methods.\n",
        "- Try and make the ultimate model with this dataset. clean as many features as possible, engineer the most sensible features as possible and see how accurate of a prediction you can make. \n",
        "- Learn about the \"Dummy Variable Trap\" and how it applies to linear regression modeling.\n",
        "- Learning about using linear regression to model time series data"
      ]
    }
  ]
}