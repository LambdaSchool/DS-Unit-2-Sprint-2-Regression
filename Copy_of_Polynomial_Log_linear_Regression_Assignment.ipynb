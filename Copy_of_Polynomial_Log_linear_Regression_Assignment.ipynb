{
  "nbformat": 4,
  "nbformat_minor": 0,
  "metadata": {
    "colab": {
      "name": "Copy of Polynomial/Log-linear Regression Assignment.ipynb",
      "version": "0.3.2",
      "provenance": [],
      "include_colab_link": true
    },
    "language_info": {
      "codemirror_mode": {
        "name": "ipython",
        "version": 3
      },
      "file_extension": ".py",
      "mimetype": "text/x-python",
      "name": "python",
      "nbconvert_exporter": "python",
      "pygments_lexer": "ipython3",
      "version": "3.7.1"
    },
    "kernelspec": {
      "display_name": "Python 3",
      "language": "python",
      "name": "python3"
    }
  },
  "cells": [
    {
      "cell_type": "markdown",
      "metadata": {
        "id": "view-in-github",
        "colab_type": "text"
      },
      "source": [
        "<a href=\"https://colab.research.google.com/github/tomfox1/DS-Unit-2-Sprint-2-Regression/blob/master/Copy_of_Polynomial_Log_linear_Regression_Assignment.ipynb\" target=\"_parent\"><img src=\"https://colab.research.google.com/assets/colab-badge.svg\" alt=\"Open In Colab\"/></a>"
      ]
    },
    {
      "metadata": {
        "colab_type": "text",
        "id": "Dc4kEVNWo4yZ"
      },
      "cell_type": "markdown",
      "source": [
        "# Intermediate Linear Regression Practice\n",
        "\n",
        "## Use a Linear Regression model to get the lowest RMSE possible on the following dataset:\n",
        "\n",
        "[Dataset Folder](https://github.com/ryanleeallred/datasets/tree/master/Ames%20Housing%20Data)\n",
        "\n",
        "[Raw CSV](https://raw.githubusercontent.com/ryanleeallred/datasets/master/Ames%20Housing%20Data/train.csv)\n",
        "\n",
        "## Your model must include (at least):\n",
        "- A log-transformed y variable\n",
        "- Two polynomial features\n",
        "- One interaction feature\n",
        "- 10 other engineered features\n",
        "\n",
        "What is the lowest Root-Mean-Squared Error that you are able to obtain? Share your best RMSEs in Slack!\n",
        "\n",
        "Notes:\n",
        "\n",
        "There may be some data cleaning that you need to do on some features of this dataset. Linear Regression will only accept numeric values and will not accept\n",
        "\n",
        "Note* There may not be a clear candidate for an interaction term in this dataset. Include one anyway, sometimes it's a good practice for predictive modeling feature engineering in general. "
      ]
    },
    {
      "metadata": {
        "id": "IHh_INsw_RCH",
        "colab_type": "code",
        "colab": {}
      },
      "cell_type": "code",
      "source": [
        "%matplotlib inline\n",
        "from ipywidgets import interact\n",
        "import matplotlib.pyplot as plt\n",
        "import numpy as np\n",
        "import pandas as pd\n",
        "import seaborn as sns\n",
        "from sklearn.linear_model import LinearRegression\n",
        "from sklearn.metrics import mean_absolute_error, mean_squared_error, r2_score\n",
        "from sklearn.model_selection import train_test_split\n",
        "import statsmodels.api as sm"
      ],
      "execution_count": 0,
      "outputs": []
    },
    {
      "metadata": {
        "colab_type": "code",
        "id": "XYZSkixpo2qD",
        "outputId": "3aaa0249-7224-4a64-c8be-87d60934ecdb",
        "colab": {
          "base_uri": "https://localhost:8080/",
          "height": 253
        }
      },
      "cell_type": "code",
      "source": [
        "url = \"https://raw.githubusercontent.com/ryanleeallred/datasets/master/Ames%20Housing%20Data/train.csv\"\n",
        "df = pd.read_csv(url)\n",
        "df.head()"
      ],
      "execution_count": 0,
      "outputs": [
        {
          "output_type": "execute_result",
          "data": {
            "text/html": [
              "<div>\n",
              "<style scoped>\n",
              "    .dataframe tbody tr th:only-of-type {\n",
              "        vertical-align: middle;\n",
              "    }\n",
              "\n",
              "    .dataframe tbody tr th {\n",
              "        vertical-align: top;\n",
              "    }\n",
              "\n",
              "    .dataframe thead th {\n",
              "        text-align: right;\n",
              "    }\n",
              "</style>\n",
              "<table border=\"1\" class=\"dataframe\">\n",
              "  <thead>\n",
              "    <tr style=\"text-align: right;\">\n",
              "      <th></th>\n",
              "      <th>Id</th>\n",
              "      <th>MSSubClass</th>\n",
              "      <th>MSZoning</th>\n",
              "      <th>LotFrontage</th>\n",
              "      <th>LotArea</th>\n",
              "      <th>Street</th>\n",
              "      <th>Alley</th>\n",
              "      <th>LotShape</th>\n",
              "      <th>LandContour</th>\n",
              "      <th>Utilities</th>\n",
              "      <th>...</th>\n",
              "      <th>PoolArea</th>\n",
              "      <th>PoolQC</th>\n",
              "      <th>Fence</th>\n",
              "      <th>MiscFeature</th>\n",
              "      <th>MiscVal</th>\n",
              "      <th>MoSold</th>\n",
              "      <th>YrSold</th>\n",
              "      <th>SaleType</th>\n",
              "      <th>SaleCondition</th>\n",
              "      <th>SalePrice</th>\n",
              "    </tr>\n",
              "  </thead>\n",
              "  <tbody>\n",
              "    <tr>\n",
              "      <th>0</th>\n",
              "      <td>1</td>\n",
              "      <td>60</td>\n",
              "      <td>RL</td>\n",
              "      <td>65.0</td>\n",
              "      <td>8450</td>\n",
              "      <td>Pave</td>\n",
              "      <td>NaN</td>\n",
              "      <td>Reg</td>\n",
              "      <td>Lvl</td>\n",
              "      <td>AllPub</td>\n",
              "      <td>...</td>\n",
              "      <td>0</td>\n",
              "      <td>NaN</td>\n",
              "      <td>NaN</td>\n",
              "      <td>NaN</td>\n",
              "      <td>0</td>\n",
              "      <td>2</td>\n",
              "      <td>2008</td>\n",
              "      <td>WD</td>\n",
              "      <td>Normal</td>\n",
              "      <td>208500</td>\n",
              "    </tr>\n",
              "    <tr>\n",
              "      <th>1</th>\n",
              "      <td>2</td>\n",
              "      <td>20</td>\n",
              "      <td>RL</td>\n",
              "      <td>80.0</td>\n",
              "      <td>9600</td>\n",
              "      <td>Pave</td>\n",
              "      <td>NaN</td>\n",
              "      <td>Reg</td>\n",
              "      <td>Lvl</td>\n",
              "      <td>AllPub</td>\n",
              "      <td>...</td>\n",
              "      <td>0</td>\n",
              "      <td>NaN</td>\n",
              "      <td>NaN</td>\n",
              "      <td>NaN</td>\n",
              "      <td>0</td>\n",
              "      <td>5</td>\n",
              "      <td>2007</td>\n",
              "      <td>WD</td>\n",
              "      <td>Normal</td>\n",
              "      <td>181500</td>\n",
              "    </tr>\n",
              "    <tr>\n",
              "      <th>2</th>\n",
              "      <td>3</td>\n",
              "      <td>60</td>\n",
              "      <td>RL</td>\n",
              "      <td>68.0</td>\n",
              "      <td>11250</td>\n",
              "      <td>Pave</td>\n",
              "      <td>NaN</td>\n",
              "      <td>IR1</td>\n",
              "      <td>Lvl</td>\n",
              "      <td>AllPub</td>\n",
              "      <td>...</td>\n",
              "      <td>0</td>\n",
              "      <td>NaN</td>\n",
              "      <td>NaN</td>\n",
              "      <td>NaN</td>\n",
              "      <td>0</td>\n",
              "      <td>9</td>\n",
              "      <td>2008</td>\n",
              "      <td>WD</td>\n",
              "      <td>Normal</td>\n",
              "      <td>223500</td>\n",
              "    </tr>\n",
              "    <tr>\n",
              "      <th>3</th>\n",
              "      <td>4</td>\n",
              "      <td>70</td>\n",
              "      <td>RL</td>\n",
              "      <td>60.0</td>\n",
              "      <td>9550</td>\n",
              "      <td>Pave</td>\n",
              "      <td>NaN</td>\n",
              "      <td>IR1</td>\n",
              "      <td>Lvl</td>\n",
              "      <td>AllPub</td>\n",
              "      <td>...</td>\n",
              "      <td>0</td>\n",
              "      <td>NaN</td>\n",
              "      <td>NaN</td>\n",
              "      <td>NaN</td>\n",
              "      <td>0</td>\n",
              "      <td>2</td>\n",
              "      <td>2006</td>\n",
              "      <td>WD</td>\n",
              "      <td>Abnorml</td>\n",
              "      <td>140000</td>\n",
              "    </tr>\n",
              "    <tr>\n",
              "      <th>4</th>\n",
              "      <td>5</td>\n",
              "      <td>60</td>\n",
              "      <td>RL</td>\n",
              "      <td>84.0</td>\n",
              "      <td>14260</td>\n",
              "      <td>Pave</td>\n",
              "      <td>NaN</td>\n",
              "      <td>IR1</td>\n",
              "      <td>Lvl</td>\n",
              "      <td>AllPub</td>\n",
              "      <td>...</td>\n",
              "      <td>0</td>\n",
              "      <td>NaN</td>\n",
              "      <td>NaN</td>\n",
              "      <td>NaN</td>\n",
              "      <td>0</td>\n",
              "      <td>12</td>\n",
              "      <td>2008</td>\n",
              "      <td>WD</td>\n",
              "      <td>Normal</td>\n",
              "      <td>250000</td>\n",
              "    </tr>\n",
              "  </tbody>\n",
              "</table>\n",
              "<p>5 rows × 81 columns</p>\n",
              "</div>"
            ],
            "text/plain": [
              "   Id  MSSubClass MSZoning  LotFrontage  LotArea Street Alley LotShape  \\\n",
              "0   1          60       RL         65.0     8450   Pave   NaN      Reg   \n",
              "1   2          20       RL         80.0     9600   Pave   NaN      Reg   \n",
              "2   3          60       RL         68.0    11250   Pave   NaN      IR1   \n",
              "3   4          70       RL         60.0     9550   Pave   NaN      IR1   \n",
              "4   5          60       RL         84.0    14260   Pave   NaN      IR1   \n",
              "\n",
              "  LandContour Utilities  ... PoolArea PoolQC Fence MiscFeature MiscVal MoSold  \\\n",
              "0         Lvl    AllPub  ...        0    NaN   NaN         NaN       0      2   \n",
              "1         Lvl    AllPub  ...        0    NaN   NaN         NaN       0      5   \n",
              "2         Lvl    AllPub  ...        0    NaN   NaN         NaN       0      9   \n",
              "3         Lvl    AllPub  ...        0    NaN   NaN         NaN       0      2   \n",
              "4         Lvl    AllPub  ...        0    NaN   NaN         NaN       0     12   \n",
              "\n",
              "  YrSold  SaleType  SaleCondition  SalePrice  \n",
              "0   2008        WD         Normal     208500  \n",
              "1   2007        WD         Normal     181500  \n",
              "2   2008        WD         Normal     223500  \n",
              "3   2006        WD        Abnorml     140000  \n",
              "4   2008        WD         Normal     250000  \n",
              "\n",
              "[5 rows x 81 columns]"
            ]
          },
          "metadata": {
            "tags": []
          },
          "execution_count": 9
        }
      ]
    },
    {
      "metadata": {
        "id": "XdLZ9yNgArct",
        "colab_type": "code",
        "colab": {}
      },
      "cell_type": "code",
      "source": [
        "#log-linear plot \n",
        "feature = [\"LotArea\"]\n",
        "\n",
        "target = [\"SalePrice\"]\n",
        "\n",
        "X = df[feature] \n",
        "y = np.log(df[target])\n",
        "\n",
        "model = LinearRegression()\n",
        "model.fit(X, y)\n",
        "\n",
        "y_pred = np.exp(model.predict(X))"
      ],
      "execution_count": 0,
      "outputs": []
    },
    {
      "metadata": {
        "id": "UX_2BbYLELKu",
        "colab_type": "code",
        "outputId": "2199b71b-a4fe-4a9d-a9eb-e4cf6da67cde",
        "colab": {
          "base_uri": "https://localhost:8080/",
          "height": 34
        }
      },
      "cell_type": "code",
      "source": [
        "model.intercept_, model.coef_"
      ],
      "execution_count": 0,
      "outputs": [
        {
          "output_type": "execute_result",
          "data": {
            "text/plain": [
              "(array([11.91574877]), array([[1.02979845e-05]]))"
            ]
          },
          "metadata": {
            "tags": []
          },
          "execution_count": 135
        }
      ]
    },
    {
      "metadata": {
        "id": "N3j7AeGbE69w",
        "colab_type": "code",
        "outputId": "8fe6bcee-cf82-4d29-f468-350a7928df79",
        "colab": {
          "base_uri": "https://localhost:8080/",
          "height": 34
        }
      },
      "cell_type": "code",
      "source": [
        "(mean_squared_error(y, y_pred))**(1/2), model.score(X, y)"
      ],
      "execution_count": 0,
      "outputs": [
        {
          "output_type": "execute_result",
          "data": {
            "text/plain": [
              "(173248.7226256782, 0.06621352700042493)"
            ]
          },
          "metadata": {
            "tags": []
          },
          "execution_count": 136
        }
      ]
    },
    {
      "metadata": {
        "id": "gHQZRkaYCB57",
        "colab_type": "code",
        "outputId": "edd93e41-208f-400b-ede6-7ca1ec23289f",
        "colab": {
          "base_uri": "https://localhost:8080/",
          "height": 269
        }
      },
      "cell_type": "code",
      "source": [
        "#plotting our log-linear regression \n",
        "#Our red line showing y_pred has been transformed to an exponential function \n",
        "#our target is likely not best represented by a log transformation \n",
        "fig, ax = plt.subplots()\n",
        "ax.scatter(X, y, color=\"orange\")\n",
        "ax.plot(X, y_pred, color=\"red\");\n",
        "plt.yscale(\"log\")"
      ],
      "execution_count": 0,
      "outputs": [
        {
          "output_type": "display_data",
          "data": {
            "image/png": "[encoded data removed]",
            "text/plain": [
              "<Figure size 432x288 with 1 Axes>"
            ]
          },
          "metadata": {
            "tags": []
          }
        }
      ]
    },
    {
      "metadata": {
        "id": "KsoprmBoEVVo",
        "colab_type": "code",
        "outputId": "15cc7614-272f-413d-c1e8-297a4ce00f75",
        "colab": {
          "base_uri": "https://localhost:8080/",
          "height": 530
        }
      },
      "cell_type": "code",
      "source": [
        "#R_squared score is terrible \n",
        "#statsmodel used here to show summary, won't be used throughout notebook \n",
        "model = sm.OLS(y, sm.add_constant(X))\n",
        "results = model.fit()\n",
        "print(results.summary())"
      ],
      "execution_count": 0,
      "outputs": [
        {
          "output_type": "stream",
          "text": [
            "                            OLS Regression Results                            \n",
            "==============================================================================\n",
            "Dep. Variable:              SalePrice   R-squared:                       0.066\n",
            "Model:                            OLS   Adj. R-squared:                  0.066\n",
            "Method:                 Least Squares   F-statistic:                     103.4\n",
            "Date:                Tue, 30 Apr 2019   Prob (F-statistic):           1.64e-23\n",
            "Time:                        21:05:53   Log-Likelihood:                -681.35\n",
            "No. Observations:                1460   AIC:                             1367.\n",
            "Df Residuals:                    1458   BIC:                             1377.\n",
            "Df Model:                           1                                         \n",
            "Covariance Type:            nonrobust                                         \n",
            "==============================================================================\n",
            "                 coef    std err          t      P>|t|      [0.025      0.975]\n",
            "------------------------------------------------------------------------------\n",
            "const         11.9157      0.015    811.561      0.000      11.887      11.945\n",
            "LotArea      1.03e-05   1.01e-06     10.168      0.000    8.31e-06    1.23e-05\n",
            "==============================================================================\n",
            "Omnibus:                       25.294   Durbin-Watson:                   1.960\n",
            "Prob(Omnibus):                  0.000   Jarque-Bera (JB):               47.335\n",
            "Skew:                           0.036   Prob(JB):                     5.26e-11\n",
            "Kurtosis:                       3.879   Cond. No.                     2.11e+04\n",
            "==============================================================================\n",
            "\n",
            "Warnings:\n",
            "[1] Standard Errors assume that the covariance matrix of the errors is correctly specified.\n",
            "[2] The condition number is large, 2.11e+04. This might indicate that there are\n",
            "strong multicollinearity or other numerical problems.\n"
          ],
          "name": "stdout"
        },
        {
          "output_type": "stream",
          "text": [
            "/usr/local/lib/python3.6/dist-packages/numpy/core/fromnumeric.py:2389: FutureWarning: Method .ptp is deprecated and will be removed in a future version. Use numpy.ptp instead.\n",
            "  return ptp(axis=axis, out=out, **kwargs)\n"
          ],
          "name": "stderr"
        }
      ]
    },
    {
      "metadata": {
        "id": "putfi7axEqqL",
        "colab_type": "code",
        "outputId": "7cc00f57-5c65-4ff9-a9fc-b0176c3d7fdc",
        "colab": {
          "base_uri": "https://localhost:8080/",
          "height": 34
        }
      },
      "cell_type": "code",
      "source": [
        "#R_squared score is still terrible, althout a little better \n",
        "df[\"LotArea_squared\"] = df[\"LotArea\"]**2\n",
        "\n",
        "feature = [\"LotArea_squared\"]\n",
        "target = [\"SalePrice\"]\n",
        "\n",
        "X1 = df[feature]\n",
        "y1 = df[target]\n",
        "\n",
        "model = LinearRegression()\n",
        "model.fit(X1, y1)\n",
        "\n",
        "y_pred1 = model.predict(X1)\n",
        "model.score(X1, y1)"
      ],
      "execution_count": 0,
      "outputs": [
        {
          "output_type": "execute_result",
          "data": {
            "text/plain": [
              "0.013103025358683351"
            ]
          },
          "metadata": {
            "tags": []
          },
          "execution_count": 93
        }
      ]
    },
    {
      "metadata": {
        "id": "aUar8kr0HV2U",
        "colab_type": "code",
        "outputId": "b97a5b35-48da-4e6d-909b-63fc5e226c0b",
        "colab": {
          "base_uri": "https://localhost:8080/",
          "height": 282
        }
      },
      "cell_type": "code",
      "source": [
        "#plotting first polynomial feature \n",
        "fig, ax = plt.subplots()\n",
        "ax.scatter(X1, y1)\n",
        "ax.plot(X1, y_pred1, color=\"orange\");"
      ],
      "execution_count": 0,
      "outputs": [
        {
          "output_type": "display_data",
          "data": {
            "image/png": "[encoded data removed]",
            "text/plain": [
              "<Figure size 432x288 with 1 Axes>"
            ]
          },
          "metadata": {
            "tags": []
          }
        }
      ]
    },
    {
      "metadata": {
        "id": "Gc5rFtUXIpA3",
        "colab_type": "code",
        "colab": {}
      },
      "cell_type": "code",
      "source": [
        "#cleaning NaNs in order to fit our regression model \n",
        "mean_Lot = np.mean(df[\"LotFrontage\"])\n",
        "\n",
        "df[\"LotFrontage\"].isna().sum()\n",
        "Lot = df.fillna(mean_Lot)"
      ],
      "execution_count": 0,
      "outputs": []
    },
    {
      "metadata": {
        "id": "-YiPU64JIMkY",
        "colab_type": "code",
        "outputId": "206be578-8709-4623-f659-745e0478cc68",
        "colab": {
          "base_uri": "https://localhost:8080/",
          "height": 34
        }
      },
      "cell_type": "code",
      "source": [
        "#creating second polynomial feature \n",
        "#R_squared value improved slightly \n",
        "df[\"LotFrontage_squared\"] = df[\"LotFrontage\"]**2\n",
        "\n",
        "feature = [\"LotFrontage_squared\"]\n",
        "target = [\"SalePrice\"]\n",
        "\n",
        "X2 = Lot[feature]\n",
        "y2 = df[target]\n",
        "\n",
        "model = LinearRegression()\n",
        "model.fit(X2, y2)\n",
        "\n",
        "y_pred2 = model.predict(X2)\n",
        "model.score(X2, y2)"
      ],
      "execution_count": 0,
      "outputs": [
        {
          "output_type": "execute_result",
          "data": {
            "text/plain": [
              "0.05067268780446221"
            ]
          },
          "metadata": {
            "tags": []
          },
          "execution_count": 122
        }
      ]
    },
    {
      "metadata": {
        "id": "s1RiUnxnJ-ML",
        "colab_type": "code",
        "outputId": "b0448181-67ba-42cb-b61e-2c370b7d0844",
        "colab": {
          "base_uri": "https://localhost:8080/",
          "height": 269
        }
      },
      "cell_type": "code",
      "source": [
        "#plotting second polynomial feature \n",
        "fig, ax = plt.subplots()\n",
        "ax.scatter(X2, y2)\n",
        "ax.plot(X1, y_pred2, color=\"orange\");"
      ],
      "execution_count": 0,
      "outputs": [
        {
          "output_type": "display_data",
          "data": {
            "image/png": "[encoded data removed]",
            "text/plain": [
              "<Figure size 432x288 with 1 Axes>"
            ]
          },
          "metadata": {
            "tags": []
          }
        }
      ]
    },
    {
      "metadata": {
        "id": "3VJJ-wqLTC94",
        "colab_type": "code",
        "colab": {}
      },
      "cell_type": "code",
      "source": [
        "#interaction feature \n",
        "\n",
        "features = [\"LotArea\", \"LotFrontage\"]\n",
        "\n",
        "target = [\"SalePrice\"]\n",
        "\n",
        "Xi = Lot[features] \n",
        "yi = df[target]\n",
        "\n",
        "#price = B0*LotArea + B1*LotFrontage + B2(LotArea*LotFrontage)\n",
        "\n"
      ],
      "execution_count": 0,
      "outputs": []
    },
    {
      "metadata": {
        "id": "oQ-pI8andT4U",
        "colab_type": "code",
        "colab": {}
      },
      "cell_type": "code",
      "source": [
        "a = pd.DataFrame(df_poly)\n",
        "a = a.drop(columns=[0, 4, 5])"
      ],
      "execution_count": 0,
      "outputs": []
    },
    {
      "metadata": {
        "id": "a181NqMxUowW",
        "colab_type": "code",
        "outputId": "63247006-cea8-4fcd-c15d-34a88b18f120",
        "colab": {
          "base_uri": "https://localhost:8080/",
          "height": 34
        }
      },
      "cell_type": "code",
      "source": [
        "#it was interesting to test out the function below\n",
        "#it creates factor variables out of the indendent variables \n",
        "#since we only wanted B1*B2 I dropped all the other default ones \n",
        "from sklearn.preprocessing import PolynomialFeatures\n",
        "\n",
        "#poly = PolynomialFeatures(2)\n",
        "#df_poly = poly.fit_transform(Xi)\n",
        "\n",
        "model = LinearRegression()\n",
        "model.fit(a[[3]], yi)\n",
        "\n",
        "model.score(a[[3]], yi)"
      ],
      "execution_count": 0,
      "outputs": [
        {
          "output_type": "execute_result",
          "data": {
            "text/plain": [
              "0.013103025358683351"
            ]
          },
          "metadata": {
            "tags": []
          },
          "execution_count": 259
        }
      ]
    },
    {
      "metadata": {
        "id": "FL-lVICeehYO",
        "colab_type": "code",
        "outputId": "3f7ef933-921c-4947-bb17-f3e089417284",
        "colab": {
          "base_uri": "https://localhost:8080/",
          "height": 34
        }
      },
      "cell_type": "code",
      "source": [
        "#our r-squared result is higher for this case, in which we don't use a interactive factor\n",
        "features = [\"LotArea\", \"LotFrontage\"]\n",
        "\n",
        "target = [\"SalePrice\"]\n",
        "\n",
        "Xii = Lot[features] \n",
        "yii = df[target]\n",
        "\n",
        "model = LinearRegression()\n",
        "model.fit(Xii, yii)\n",
        "\n",
        "model.score(Xii, yii)\n"
      ],
      "execution_count": 0,
      "outputs": [
        {
          "output_type": "execute_result",
          "data": {
            "text/plain": [
              "0.14080753391572376"
            ]
          },
          "metadata": {
            "tags": []
          },
          "execution_count": 260
        }
      ]
    },
    {
      "metadata": {
        "colab_type": "text",
        "id": "Uvbg4rRPW2Ex"
      },
      "cell_type": "markdown",
      "source": [
        "# Stretch Goals\n",
        "\n",
        "- Write a blog post explaining one of today's topics.\n",
        "- Find a new regression dataset from the UCI machine learning repository and use it to test out your new modeling skillz.\n",
        " [ - UCI Machine Learning Repository - Regression Datasets](https://)\n",
        "- Make a list for yourself of common feature engineering techniques. Browse Kaggle kernels to learn more methods.\n",
        "- Try and make the ultimate model with this dataset. clean as many features as possible, engineer the most sensible features as possible and see how accurate of a prediction you can make. \n",
        "- Learn about the \"Dummy Variable Trap\" and how it applies to linear regression modeling.\n",
        "- Learning about using linear regression to model time series data"
      ]
    },
    {
      "metadata": {
        "id": "HX34XfTCTGRA",
        "colab_type": "code",
        "colab": {}
      },
      "cell_type": "code",
      "source": [
        ""
      ],
      "execution_count": 0,
      "outputs": []
    }
  ]
}