{
  "nbformat": 4,
  "nbformat_minor": 0,
  "metadata": {
    "colab": {
      "name": "Connor Heraty - Regression Sprint Challenge.ipynb",
      "version": "0.3.2",
      "provenance": [],
      "collapsed_sections": [
        "1S1WwRatgROp",
        "ayKUP1fNsCQK",
        "w9gkF-HNUFAV",
        "Z_VNy7e3Y5sT",
        "R117rxnOZw6q",
        "QTf4gCaDaiCw",
        "NJgfD-JLayRA",
        "hf4_8FXrpHFY",
        "JUQwzfDRfrQi",
        "Gs20FOntprd_",
        "VJnxkobcpulV",
        "loKma3wspwVs"
      ],
      "include_colab_link": true
    },
    "language_info": {
      "codemirror_mode": {
        "name": "ipython",
        "version": 3
      },
      "file_extension": ".py",
      "mimetype": "text/x-python",
      "name": "python",
      "nbconvert_exporter": "python",
      "pygments_lexer": "ipython3",
      "version": "3.7.1"
    },
    "kernelspec": {
      "display_name": "Python 3",
      "language": "python",
      "name": "python3"
    }
  },
  "cells": [
    {
      "cell_type": "markdown",
      "metadata": {
        "id": "view-in-github",
        "colab_type": "text"
      },
      "source": [
        "<a href=\"https://colab.research.google.com/github/connorpheraty/DS-Unit-2-Sprint-2-Regression/blob/master/Connor_Heraty_Regression_Sprint_Challenge.ipynb\" target=\"_parent\"><img src=\"https://colab.research.google.com/assets/colab-badge.svg\" alt=\"Open In Colab\"/></a>"
      ]
    },
    {
      "cell_type": "markdown",
      "metadata": {
        "id": "pKMZY2sHNO5X",
        "colab_type": "text"
      },
      "source": [
        "_Lambda School Data Science_\n",
        "\n",
        "# Regression Sprint Challenge"
      ]
    },
    {
      "cell_type": "markdown",
      "metadata": {
        "id": "VNFBWL6VNO5Y",
        "colab_type": "text"
      },
      "source": [
        "For this Sprint Challenge, you'll predict the price of used cars. \n",
        "\n",
        "The dataset is real-world. It was collected from advertisements of cars for sale in the Ukraine in 2016.\n",
        "\n",
        "The following import statements have been provided for you, and should be sufficient. But you may not need to use every import. And you are permitted to make additional imports."
      ]
    },
    {
      "cell_type": "markdown",
      "metadata": {
        "id": "1S1WwRatgROp",
        "colab_type": "text"
      },
      "source": [
        "# Importing Data and Relevant Libraries"
      ]
    },
    {
      "cell_type": "code",
      "metadata": {
        "colab_type": "code",
        "id": "YbiJuv5d2jZ7",
        "colab": {}
      },
      "source": [
        "%matplotlib inline\n",
        "import matplotlib.pyplot as plt\n",
        "import numpy as np\n",
        "import pandas as pd\n",
        "import seaborn as sns\n",
        "from sklearn.linear_model import LinearRegression\n",
        "from sklearn.metrics import mean_squared_error, r2_score\n",
        "from sklearn.model_selection import train_test_split\n",
        "from sklearn.tree import DecisionTreeRegressor\n",
        "import statsmodels.api as sm\n",
        "from statsmodels.stats.outliers_influence import variance_inflation_factor"
      ],
      "execution_count": 0,
      "outputs": []
    },
    {
      "cell_type": "markdown",
      "metadata": {
        "id": "nTqWvZWRNO5b",
        "colab_type": "text"
      },
      "source": [
        "[The dataset](https://raw.githubusercontent.com/ryanleeallred/datasets/master/car_regression.csv) contains 8,495 rows and 9 variables:\n",
        "\n",
        "- make: manufacturer brand\n",
        "- price: seller’s price in advertisement (in USD)\n",
        "- body: car body type\n",
        "- mileage: as mentioned in advertisement (‘000 Km)\n",
        "- engV: rounded engine volume (‘000 cubic cm)\n",
        "- engType: type of fuel\n",
        "- registration: whether car registered in Ukraine or not\n",
        "- year: year of production\n",
        "- drive: drive type\n",
        "\n",
        "Run this cell to read the data:"
      ]
    },
    {
      "cell_type": "code",
      "metadata": {
        "colab_type": "code",
        "id": "FgaItuSL3zxO",
        "outputId": "a1282694-ad34-46cd-fc3d-5e2e6bd24400",
        "colab": {
          "base_uri": "https://localhost:8080/",
          "height": 376
        }
      },
      "source": [
        "df = pd.read_csv('https://raw.githubusercontent.com/ryanleeallred/datasets/master/car_regression.csv')\n",
        "print(df.shape)\n",
        "df.sample(10)"
      ],
      "execution_count": 175,
      "outputs": [
        {
          "output_type": "stream",
          "text": [
            "(8495, 9)\n"
          ],
          "name": "stdout"
        },
        {
          "output_type": "execute_result",
          "data": {
            "text/html": [
              "<div>\n",
              "<style scoped>\n",
              "    .dataframe tbody tr th:only-of-type {\n",
              "        vertical-align: middle;\n",
              "    }\n",
              "\n",
              "    .dataframe tbody tr th {\n",
              "        vertical-align: top;\n",
              "    }\n",
              "\n",
              "    .dataframe thead th {\n",
              "        text-align: right;\n",
              "    }\n",
              "</style>\n",
              "<table border=\"1\" class=\"dataframe\">\n",
              "  <thead>\n",
              "    <tr style=\"text-align: right;\">\n",
              "      <th></th>\n",
              "      <th>make</th>\n",
              "      <th>price</th>\n",
              "      <th>body</th>\n",
              "      <th>mileage</th>\n",
              "      <th>engV</th>\n",
              "      <th>engType</th>\n",
              "      <th>registration</th>\n",
              "      <th>year</th>\n",
              "      <th>drive</th>\n",
              "    </tr>\n",
              "  </thead>\n",
              "  <tbody>\n",
              "    <tr>\n",
              "      <th>5340</th>\n",
              "      <td>76</td>\n",
              "      <td>4600.0</td>\n",
              "      <td>0</td>\n",
              "      <td>161</td>\n",
              "      <td>1.7</td>\n",
              "      <td>2</td>\n",
              "      <td>1</td>\n",
              "      <td>2003</td>\n",
              "      <td>1</td>\n",
              "    </tr>\n",
              "    <tr>\n",
              "      <th>376</th>\n",
              "      <td>77</td>\n",
              "      <td>12000.0</td>\n",
              "      <td>3</td>\n",
              "      <td>186</td>\n",
              "      <td>3.2</td>\n",
              "      <td>3</td>\n",
              "      <td>1</td>\n",
              "      <td>2006</td>\n",
              "      <td>1</td>\n",
              "    </tr>\n",
              "    <tr>\n",
              "      <th>6310</th>\n",
              "      <td>53</td>\n",
              "      <td>400.0</td>\n",
              "      <td>3</td>\n",
              "      <td>1</td>\n",
              "      <td>10.0</td>\n",
              "      <td>3</td>\n",
              "      <td>1</td>\n",
              "      <td>1985</td>\n",
              "      <td>2</td>\n",
              "    </tr>\n",
              "    <tr>\n",
              "      <th>3074</th>\n",
              "      <td>5</td>\n",
              "      <td>3700.0</td>\n",
              "      <td>3</td>\n",
              "      <td>231</td>\n",
              "      <td>2.5</td>\n",
              "      <td>3</td>\n",
              "      <td>1</td>\n",
              "      <td>1990</td>\n",
              "      <td>2</td>\n",
              "    </tr>\n",
              "    <tr>\n",
              "      <th>3592</th>\n",
              "      <td>23</td>\n",
              "      <td>12500.0</td>\n",
              "      <td>1</td>\n",
              "      <td>50</td>\n",
              "      <td>0.9</td>\n",
              "      <td>3</td>\n",
              "      <td>1</td>\n",
              "      <td>2013</td>\n",
              "      <td>0</td>\n",
              "    </tr>\n",
              "    <tr>\n",
              "      <th>5171</th>\n",
              "      <td>57</td>\n",
              "      <td>7350.0</td>\n",
              "      <td>3</td>\n",
              "      <td>205</td>\n",
              "      <td>2.2</td>\n",
              "      <td>1</td>\n",
              "      <td>1</td>\n",
              "      <td>2004</td>\n",
              "      <td>0</td>\n",
              "    </tr>\n",
              "    <tr>\n",
              "      <th>7995</th>\n",
              "      <td>12</td>\n",
              "      <td>5700.0</td>\n",
              "      <td>3</td>\n",
              "      <td>89</td>\n",
              "      <td>1.5</td>\n",
              "      <td>3</td>\n",
              "      <td>1</td>\n",
              "      <td>2008</td>\n",
              "      <td>0</td>\n",
              "    </tr>\n",
              "    <tr>\n",
              "      <th>6106</th>\n",
              "      <td>77</td>\n",
              "      <td>2500.0</td>\n",
              "      <td>3</td>\n",
              "      <td>488</td>\n",
              "      <td>2.0</td>\n",
              "      <td>3</td>\n",
              "      <td>1</td>\n",
              "      <td>1991</td>\n",
              "      <td>0</td>\n",
              "    </tr>\n",
              "    <tr>\n",
              "      <th>2999</th>\n",
              "      <td>39</td>\n",
              "      <td>7500.0</td>\n",
              "      <td>1</td>\n",
              "      <td>9</td>\n",
              "      <td>1.4</td>\n",
              "      <td>3</td>\n",
              "      <td>1</td>\n",
              "      <td>2008</td>\n",
              "      <td>0</td>\n",
              "    </tr>\n",
              "    <tr>\n",
              "      <th>7052</th>\n",
              "      <td>74</td>\n",
              "      <td>27000.0</td>\n",
              "      <td>2</td>\n",
              "      <td>192</td>\n",
              "      <td>3.0</td>\n",
              "      <td>0</td>\n",
              "      <td>1</td>\n",
              "      <td>2007</td>\n",
              "      <td>1</td>\n",
              "    </tr>\n",
              "  </tbody>\n",
              "</table>\n",
              "</div>"
            ],
            "text/plain": [
              "      make    price  body  mileage  engV  engType  registration  year  drive\n",
              "5340    76   4600.0     0      161   1.7        2             1  2003      1\n",
              "376     77  12000.0     3      186   3.2        3             1  2006      1\n",
              "6310    53    400.0     3        1  10.0        3             1  1985      2\n",
              "3074     5   3700.0     3      231   2.5        3             1  1990      2\n",
              "3592    23  12500.0     1       50   0.9        3             1  2013      0\n",
              "5171    57   7350.0     3      205   2.2        1             1  2004      0\n",
              "7995    12   5700.0     3       89   1.5        3             1  2008      0\n",
              "6106    77   2500.0     3      488   2.0        3             1  1991      0\n",
              "2999    39   7500.0     1        9   1.4        3             1  2008      0\n",
              "7052    74  27000.0     2      192   3.0        0             1  2007      1"
            ]
          },
          "metadata": {
            "tags": []
          },
          "execution_count": 175
        }
      ]
    },
    {
      "cell_type": "code",
      "metadata": {
        "id": "h4ksqFXcVD6z",
        "colab_type": "code",
        "colab": {}
      },
      "source": [
        "# Create age feature\n",
        "df['age'] = 2016 - df['year']"
      ],
      "execution_count": 0,
      "outputs": []
    },
    {
      "cell_type": "code",
      "metadata": {
        "id": "MP3Bd5N3PLfy",
        "colab_type": "code",
        "colab": {
          "base_uri": "https://localhost:8080/",
          "height": 272
        },
        "outputId": "92e92ab4-9567-4cc0-c8d5-32d8a06cc66e"
      },
      "source": [
        "df.info()"
      ],
      "execution_count": 178,
      "outputs": [
        {
          "output_type": "stream",
          "text": [
            "<class 'pandas.core.frame.DataFrame'>\n",
            "RangeIndex: 8495 entries, 0 to 8494\n",
            "Data columns (total 10 columns):\n",
            "make            8495 non-null int64\n",
            "price           8495 non-null float64\n",
            "body            8495 non-null int64\n",
            "mileage         8495 non-null int64\n",
            "engV            8495 non-null float64\n",
            "engType         8495 non-null int64\n",
            "registration    8495 non-null int64\n",
            "year            8495 non-null int64\n",
            "drive           8495 non-null int64\n",
            "age             8495 non-null int64\n",
            "dtypes: float64(2), int64(8)\n",
            "memory usage: 663.8 KB\n"
          ],
          "name": "stdout"
        }
      ]
    },
    {
      "cell_type": "markdown",
      "metadata": {
        "id": "ayKUP1fNsCQK",
        "colab_type": "text"
      },
      "source": [
        "## Boxplots"
      ]
    },
    {
      "cell_type": "markdown",
      "metadata": {
        "id": "grHUtNq4sKZS",
        "colab_type": "text"
      },
      "source": [
        "I am making some pre-model visualizations so I can see the relationship between price and some of our concealed categorical variables"
      ]
    },
    {
      "cell_type": "code",
      "metadata": {
        "id": "N7_0W5e9rLGs",
        "colab_type": "code",
        "colab": {
          "base_uri": "https://localhost:8080/",
          "height": 283
        },
        "outputId": "7194b9c9-544f-4b91-f9a3-494f3ef8fe89"
      },
      "source": [
        "# Registration appears (atleast visually) to be correlated with price\n",
        "# We will keep this feature in our model\n",
        "sns.boxplot(x='registration',y='price',data=df);"
      ],
      "execution_count": 179,
      "outputs": [
        {
          "output_type": "display_data",
          "data": {
            "image/png": "[encoded data removed]",
            "text/plain": [
              "<Figure size 432x288 with 1 Axes>"
            ]
          },
          "metadata": {
            "tags": []
          }
        }
      ]
    },
    {
      "cell_type": "code",
      "metadata": {
        "id": "rbKY-qX5rb6-",
        "colab_type": "code",
        "colab": {
          "base_uri": "https://localhost:8080/",
          "height": 609
        },
        "outputId": "ee09882e-8d67-4989-b8e7-d6c9b9583220"
      },
      "source": [
        "# Make appears to be highly correlated with price\n",
        "# We will keep this feature in our model\n",
        "plt.figure(figsize=(25,10)) \n",
        "sns.boxplot(x='make',y='price',data=df);"
      ],
      "execution_count": 180,
      "outputs": [
        {
          "output_type": "display_data",
          "data": {
            "image/png": "[encoded data removed]",
            "text/plain": [
              "<Figure size 1800x720 with 1 Axes>"
            ]
          },
          "metadata": {
            "tags": []
          }
        }
      ]
    },
    {
      "cell_type": "code",
      "metadata": {
        "id": "lOSj33cvr7y1",
        "colab_type": "code",
        "colab": {
          "base_uri": "https://localhost:8080/",
          "height": 283
        },
        "outputId": "ee183611-4e3c-44da-e534-3b119b186f61"
      },
      "source": [
        "# Appears to be correlated with price\n",
        "sns.boxplot(x='engType',y='price',data=df);"
      ],
      "execution_count": 181,
      "outputs": [
        {
          "output_type": "display_data",
          "data": {
            "image/png": "[encoded data removed]",
            "text/plain": [
              "<Figure size 432x288 with 1 Axes>"
            ]
          },
          "metadata": {
            "tags": []
          }
        }
      ]
    },
    {
      "cell_type": "code",
      "metadata": {
        "id": "heMfuoiTsevO",
        "colab_type": "code",
        "colab": {
          "base_uri": "https://localhost:8080/",
          "height": 283
        },
        "outputId": "e1aa75bd-be17-4b32-d36a-0ca3f8fca1fe"
      },
      "source": [
        "# Appears to be correlated with price\n",
        "sns.boxplot(x='drive',y='price',data=df);"
      ],
      "execution_count": 182,
      "outputs": [
        {
          "output_type": "display_data",
          "data": {
            "image/png": "[encoded data removed]",
            "text/plain": [
              "<Figure size 432x288 with 1 Axes>"
            ]
          },
          "metadata": {
            "tags": []
          }
        }
      ]
    },
    {
      "cell_type": "markdown",
      "metadata": {
        "colab_type": "text",
        "id": "w9gkF-HNUFAV"
      },
      "source": [
        "# Predictive Modeling with Linear Regression"
      ]
    },
    {
      "cell_type": "markdown",
      "metadata": {
        "colab_type": "text",
        "id": "Vy1SWxcYTAC0"
      },
      "source": [
        "## 1.1 Split the data into an X matrix and y vector (`price` is the target we want to predict)."
      ]
    },
    {
      "cell_type": "code",
      "metadata": {
        "colab_type": "code",
        "id": "dwMbM9tUUaOQ",
        "colab": {}
      },
      "source": [
        "# I will include all features variables in my model\n",
        "# Set target variable as vehicle price\n",
        "y = df['price']\n",
        "# Set features variable\n",
        "X = df.drop(['price', 'age'], axis=1)\n"
      ],
      "execution_count": 0,
      "outputs": []
    },
    {
      "cell_type": "markdown",
      "metadata": {
        "colab_type": "text",
        "id": "Uf_SQswNUPwM"
      },
      "source": [
        "## 1.2 Split the data into test and train sets, using `train_test_split`.\n",
        "You may use a train size of 80% and a test size of 20%."
      ]
    },
    {
      "cell_type": "code",
      "metadata": {
        "colab_type": "code",
        "id": "iIiELKuKUOgR",
        "colab": {}
      },
      "source": [
        "# Split data into test and train sets\n",
        "X_train, X_test, y_train, y_test = train_test_split(X, y, test_size=0.2, random_state=42)"
      ],
      "execution_count": 0,
      "outputs": []
    },
    {
      "cell_type": "code",
      "metadata": {
        "id": "3H6lYeYWOvFV",
        "colab_type": "code",
        "colab": {
          "base_uri": "https://localhost:8080/",
          "height": 85
        },
        "outputId": "24b1a511-8ee2-4204-cc97-eb3820befb9a"
      },
      "source": [
        "# Verify correct shapes\n",
        "print(X_train.shape)\n",
        "print(X_test.shape)\n",
        "print(y_train.shape)\n",
        "print(y_test.shape)"
      ],
      "execution_count": 185,
      "outputs": [
        {
          "output_type": "stream",
          "text": [
            "(6796, 8)\n",
            "(1699, 8)\n",
            "(6796,)\n",
            "(1699,)\n"
          ],
          "name": "stdout"
        }
      ]
    },
    {
      "cell_type": "markdown",
      "metadata": {
        "colab_type": "text",
        "id": "0AdXWiwoUstf"
      },
      "source": [
        "## 1.3 Use scikit-learn to fit a multiple regression model, using your training data.\n",
        "Use `year` and one or more features of your choice. You will not be evaluated on which features you choose. You may choose to use all features."
      ]
    },
    {
      "cell_type": "code",
      "metadata": {
        "colab_type": "code",
        "id": "Zw70rt71U1xf",
        "colab": {
          "base_uri": "https://localhost:8080/",
          "height": 51
        },
        "outputId": "e205ef2a-1e52-4c9b-d2e7-1ce66bab7efa"
      },
      "source": [
        "# fit X and Y training data into our linear regression model\n",
        "model = LinearRegression()\n",
        "model.fit(X_train, y_train)"
      ],
      "execution_count": 186,
      "outputs": [
        {
          "output_type": "execute_result",
          "data": {
            "text/plain": [
              "LinearRegression(copy_X=True, fit_intercept=True, n_jobs=None,\n",
              "         normalize=False)"
            ]
          },
          "metadata": {
            "tags": []
          },
          "execution_count": 186
        }
      ]
    },
    {
      "cell_type": "markdown",
      "metadata": {
        "colab_type": "text",
        "id": "82fH2rilU7j3"
      },
      "source": [
        "## 1.4 Report the Intercept and Coefficients for the fitted model."
      ]
    },
    {
      "cell_type": "code",
      "metadata": {
        "colab_type": "code",
        "id": "ue6hCHGqVE83",
        "colab": {
          "base_uri": "https://localhost:8080/",
          "height": 68
        },
        "outputId": "188eb9e8-2b9c-4954-8c9f-517845a0ea5d"
      },
      "source": [
        "print(\"Our model's coefficients are: \",model.coef_)\n",
        "print(\"Our model's intercept is: \",model.intercept_)"
      ],
      "execution_count": 187,
      "outputs": [
        {
          "output_type": "stream",
          "text": [
            "Our model's coefficients are:  [  -35.16726588 -1770.98509064   -40.26859658   273.03540784\n",
            " -1111.08031708  4535.06013378  1140.73124767  8292.04613874]\n",
            "Our model's intercept is:  -2269355.0772314165\n"
          ],
          "name": "stdout"
        }
      ]
    },
    {
      "cell_type": "markdown",
      "metadata": {
        "colab_type": "text",
        "id": "T0CV0OnDVZbu"
      },
      "source": [
        "## 1.5 Use the test data to make predictions."
      ]
    },
    {
      "cell_type": "code",
      "metadata": {
        "colab_type": "code",
        "id": "vrR5b5c3VwE5",
        "colab": {}
      },
      "source": [
        "# Create prediction using the X variables test data \n",
        "y_pred = model.predict(X_test)"
      ],
      "execution_count": 0,
      "outputs": []
    },
    {
      "cell_type": "markdown",
      "metadata": {
        "colab_type": "text",
        "id": "ZwQb3gE7VycT"
      },
      "source": [
        "## 1.6 Use the test data to get both the Root Mean Square Error and $R^2$ for the model. \n",
        "You will not be evaluated on how high or low your scores are."
      ]
    },
    {
      "cell_type": "code",
      "metadata": {
        "colab_type": "code",
        "id": "Ym2kjxWhU6b2",
        "colab": {
          "base_uri": "https://localhost:8080/",
          "height": 51
        },
        "outputId": "0f6a1089-bb81-445c-ebd9-6d645a53d6b9"
      },
      "source": [
        "rmse = (np.sqrt(mean_squared_error(y_test, y_pred)))\n",
        "r2 = r2_score(y_test, y_pred)\n",
        "\n",
        "print('Root Mean Squared Error:', rmse)\n",
        "print('R^2 Score:', r2)"
      ],
      "execution_count": 189,
      "outputs": [
        {
          "output_type": "stream",
          "text": [
            "Root Mean Squared Error: 21394.43524600266\n",
            "R^2 Score: 0.29213322373743256\n"
          ],
          "name": "stdout"
        }
      ]
    },
    {
      "cell_type": "markdown",
      "metadata": {
        "colab_type": "text",
        "id": "kIXhGHIgXHyJ"
      },
      "source": [
        "## 1.7 How should we interpret the coefficient corresponding to the `year` feature?\n",
        "One sentence can be sufficient"
      ]
    },
    {
      "cell_type": "markdown",
      "metadata": {
        "colab_type": "text",
        "id": "8jv2n0wAXgHU"
      },
      "source": [
        "The coefficient for the year feature in our model is 1140.73. We can interpret this as meaning that for every increase in year, the raw dollar value of the car increases by our coefficient variable of 1140.73."
      ]
    },
    {
      "cell_type": "markdown",
      "metadata": {
        "colab_type": "text",
        "id": "ckQ5GsOtYsjn"
      },
      "source": [
        "## 1.8 How should we interpret the Root Mean Square Error?\n",
        "One sentence can be sufficient"
      ]
    },
    {
      "cell_type": "markdown",
      "metadata": {
        "id": "6WSN6J65NO5z",
        "colab_type": "text"
      },
      "source": [
        "Our root mean squared error can be interpreted as the average difference in our target variable (price) from our actual test data (y_test) and our predicted data (y_pred)."
      ]
    },
    {
      "cell_type": "markdown",
      "metadata": {
        "colab_type": "text",
        "id": "T3sZrru_YzFF"
      },
      "source": [
        "## 1.9 How should we interpret the $R^2$?\n",
        "One sentence can be sufficient"
      ]
    },
    {
      "cell_type": "markdown",
      "metadata": {
        "colab_type": "text",
        "id": "5pN2Oet_Y5jR"
      },
      "source": [
        "The R-squared value can be interpreted as the percentage of variability in our target variable(price) that is explained by the change in our independent variables (features)."
      ]
    },
    {
      "cell_type": "markdown",
      "metadata": {
        "colab_type": "text",
        "id": "Z_VNy7e3Y5sT"
      },
      "source": [
        "# Log-Linear and Polynomial Regression"
      ]
    },
    {
      "cell_type": "markdown",
      "metadata": {
        "colab_type": "text",
        "id": "G2T4FSqRZOJA"
      },
      "source": [
        "## 2.1 Engineer a new variable by taking the log of the price varible."
      ]
    },
    {
      "cell_type": "code",
      "metadata": {
        "colab_type": "code",
        "id": "7EChAFNxZX24",
        "colab": {}
      },
      "source": [
        "# Engineer new feature by taking the log of the price column\n",
        "df['price_ln'] = np.log(df['price'])"
      ],
      "execution_count": 0,
      "outputs": []
    },
    {
      "cell_type": "code",
      "metadata": {
        "id": "8pVfSu_pT7kz",
        "colab_type": "code",
        "colab": {}
      },
      "source": [
        "# Assign log of price columnn as our new y variable\n",
        "target = 'price_ln'\n",
        "y = df[target]"
      ],
      "execution_count": 0,
      "outputs": []
    },
    {
      "cell_type": "code",
      "metadata": {
        "id": "2nJX9MOwTsZf",
        "colab_type": "code",
        "colab": {
          "base_uri": "https://localhost:8080/",
          "height": 204
        },
        "outputId": "ed67db2c-74df-467e-fc3e-77b7c0ff41a5"
      },
      "source": [
        "# Ensure feature is in our dataset\n",
        "df.head()"
      ],
      "execution_count": 192,
      "outputs": [
        {
          "output_type": "execute_result",
          "data": {
            "text/html": [
              "<div>\n",
              "<style scoped>\n",
              "    .dataframe tbody tr th:only-of-type {\n",
              "        vertical-align: middle;\n",
              "    }\n",
              "\n",
              "    .dataframe tbody tr th {\n",
              "        vertical-align: top;\n",
              "    }\n",
              "\n",
              "    .dataframe thead th {\n",
              "        text-align: right;\n",
              "    }\n",
              "</style>\n",
              "<table border=\"1\" class=\"dataframe\">\n",
              "  <thead>\n",
              "    <tr style=\"text-align: right;\">\n",
              "      <th></th>\n",
              "      <th>make</th>\n",
              "      <th>price</th>\n",
              "      <th>body</th>\n",
              "      <th>mileage</th>\n",
              "      <th>engV</th>\n",
              "      <th>engType</th>\n",
              "      <th>registration</th>\n",
              "      <th>year</th>\n",
              "      <th>drive</th>\n",
              "      <th>age</th>\n",
              "      <th>price_ln</th>\n",
              "    </tr>\n",
              "  </thead>\n",
              "  <tbody>\n",
              "    <tr>\n",
              "      <th>0</th>\n",
              "      <td>23</td>\n",
              "      <td>15500.0</td>\n",
              "      <td>0</td>\n",
              "      <td>68</td>\n",
              "      <td>2.5</td>\n",
              "      <td>1</td>\n",
              "      <td>1</td>\n",
              "      <td>2010</td>\n",
              "      <td>1</td>\n",
              "      <td>6</td>\n",
              "      <td>9.648595</td>\n",
              "    </tr>\n",
              "    <tr>\n",
              "      <th>1</th>\n",
              "      <td>50</td>\n",
              "      <td>20500.0</td>\n",
              "      <td>3</td>\n",
              "      <td>173</td>\n",
              "      <td>1.8</td>\n",
              "      <td>1</td>\n",
              "      <td>1</td>\n",
              "      <td>2011</td>\n",
              "      <td>2</td>\n",
              "      <td>5</td>\n",
              "      <td>9.928180</td>\n",
              "    </tr>\n",
              "    <tr>\n",
              "      <th>2</th>\n",
              "      <td>50</td>\n",
              "      <td>35000.0</td>\n",
              "      <td>2</td>\n",
              "      <td>135</td>\n",
              "      <td>5.5</td>\n",
              "      <td>3</td>\n",
              "      <td>1</td>\n",
              "      <td>2008</td>\n",
              "      <td>2</td>\n",
              "      <td>8</td>\n",
              "      <td>10.463103</td>\n",
              "    </tr>\n",
              "    <tr>\n",
              "      <th>3</th>\n",
              "      <td>50</td>\n",
              "      <td>17800.0</td>\n",
              "      <td>5</td>\n",
              "      <td>162</td>\n",
              "      <td>1.8</td>\n",
              "      <td>0</td>\n",
              "      <td>1</td>\n",
              "      <td>2012</td>\n",
              "      <td>0</td>\n",
              "      <td>4</td>\n",
              "      <td>9.786954</td>\n",
              "    </tr>\n",
              "    <tr>\n",
              "      <th>4</th>\n",
              "      <td>55</td>\n",
              "      <td>16600.0</td>\n",
              "      <td>0</td>\n",
              "      <td>83</td>\n",
              "      <td>2.0</td>\n",
              "      <td>3</td>\n",
              "      <td>1</td>\n",
              "      <td>2013</td>\n",
              "      <td>1</td>\n",
              "      <td>3</td>\n",
              "      <td>9.717158</td>\n",
              "    </tr>\n",
              "  </tbody>\n",
              "</table>\n",
              "</div>"
            ],
            "text/plain": [
              "   make    price  body  mileage  engV  engType  registration  year  drive  \\\n",
              "0    23  15500.0     0       68   2.5        1             1  2010      1   \n",
              "1    50  20500.0     3      173   1.8        1             1  2011      2   \n",
              "2    50  35000.0     2      135   5.5        3             1  2008      2   \n",
              "3    50  17800.0     5      162   1.8        0             1  2012      0   \n",
              "4    55  16600.0     0       83   2.0        3             1  2013      1   \n",
              "\n",
              "   age   price_ln  \n",
              "0    6   9.648595  \n",
              "1    5   9.928180  \n",
              "2    8  10.463103  \n",
              "3    4   9.786954  \n",
              "4    3   9.717158  "
            ]
          },
          "metadata": {
            "tags": []
          },
          "execution_count": 192
        }
      ]
    },
    {
      "cell_type": "markdown",
      "metadata": {
        "colab_type": "text",
        "id": "R117rxnOZw6q"
      },
      "source": [
        "## 2.2 Visualize scatterplots of the relationship between each feature versus the log of price, to look for non-linearly distributed features.\n",
        "You may use any plotting tools and techniques."
      ]
    },
    {
      "cell_type": "code",
      "metadata": {
        "id": "QAXdViXBVmtw",
        "colab_type": "code",
        "colab": {}
      },
      "source": [
        "features = ['mileage', 'year', 'make', 'body', 'engV', 'engType', 'registration']\n",
        "X = df[features]"
      ],
      "execution_count": 0,
      "outputs": []
    },
    {
      "cell_type": "code",
      "metadata": {
        "colab_type": "code",
        "id": "8l56Qk7VaBrU",
        "colab": {
          "base_uri": "https://localhost:8080/",
          "height": 1981
        },
        "outputId": "dee9b0ba-5bbf-4996-c1a2-7112296c19d2"
      },
      "source": [
        "for feature in features:\n",
        "    sns.residplot(X[feature], y, lowess=True, line_kws=dict(color='r'))\n",
        "    plt.show()"
      ],
      "execution_count": 203,
      "outputs": [
        {
          "output_type": "display_data",
          "data": {
            "image/png": "[encoded data removed]",
            "text/plain": [
              "<Figure size 432x288 with 1 Axes>"
            ]
          },
          "metadata": {
            "tags": []
          }
        },
        {
          "output_type": "display_data",
          "data": {
            "image/png": "[encoded data removed]",
            "text/plain": [
              "<Figure size 432x288 with 1 Axes>"
            ]
          },
          "metadata": {
            "tags": []
          }
        },
        {
          "output_type": "display_data",
          "data": {
            "image/png": "[encoded data removed]",
            "text/plain": [
              "<Figure size 432x288 with 1 Axes>"
            ]
          },
          "metadata": {
            "tags": []
          }
        },
        {
          "output_type": "display_data",
          "data": {
            "image/png": "[encoded data removed]",
            "text/plain": [
              "<Figure size 432x288 with 1 Axes>"
            ]
          },
          "metadata": {
            "tags": []
          }
        },
        {
          "output_type": "display_data",
          "data": {
            "image/png": "[encoded data removed]",
            "text/plain": [
              "<Figure size 432x288 with 1 Axes>"
            ]
          },
          "metadata": {
            "tags": []
          }
        },
        {
          "output_type": "display_data",
          "data": {
            "image/png": "[encoded data removed]",
            "text/plain": [
              "<Figure size 432x288 with 1 Axes>"
            ]
          },
          "metadata": {
            "tags": []
          }
        },
        {
          "output_type": "stream",
          "text": [
            "/usr/local/lib/python3.6/dist-packages/statsmodels/nonparametric/smoothers_lowess.py:165: RuntimeWarning: invalid value encountered in true_divide\n",
            "  res = _lowess(y, x, frac=frac, it=it, delta=delta)\n",
            "/usr/local/lib/python3.6/dist-packages/numpy/lib/function_base.py:3405: RuntimeWarning: Invalid value encountered in median\n",
            "  r = func(a, **kwargs)\n",
            "/usr/local/lib/python3.6/dist-packages/statsmodels/nonparametric/smoothers_lowess.py:165: RuntimeWarning: invalid value encountered in greater_equal\n",
            "  res = _lowess(y, x, frac=frac, it=it, delta=delta)\n"
          ],
          "name": "stderr"
        },
        {
          "output_type": "display_data",
          "data": {
            "image/png": "[encoded data removed]",
            "text/plain": [
              "<Figure size 432x288 with 1 Axes>"
            ]
          },
          "metadata": {
            "tags": []
          }
        }
      ]
    },
    {
      "cell_type": "markdown",
      "metadata": {
        "id": "UtW8Uw-iik9f",
        "colab_type": "text"
      },
      "source": [
        "The **age** and **mileage** features look appropriate for creating polynomial features."
      ]
    },
    {
      "cell_type": "markdown",
      "metadata": {
        "colab_type": "text",
        "id": "QTf4gCaDaiCw"
      },
      "source": [
        "## 2.3 Create polynomial feature(s)\n",
        "You will not be evaluated on which feature(s) you choose. But try to choose appropriate features."
      ]
    },
    {
      "cell_type": "code",
      "metadata": {
        "colab_type": "code",
        "id": "ipsCcH83ZMe8",
        "colab": {}
      },
      "source": [
        "# Create new features as the square of the original \n",
        "df['mileage_squared'] = df['mileage'] **2\n",
        "df['year_squared'] = df['year'] **2 "
      ],
      "execution_count": 0,
      "outputs": []
    },
    {
      "cell_type": "markdown",
      "metadata": {
        "colab_type": "text",
        "id": "NJgfD-JLayRA"
      },
      "source": [
        "## 2.4 Use the new log-transformed y variable and your x variables (including any new polynomial features) to fit a new linear regression model. Then report the: intercept, coefficients, RMSE, and $R^2$."
      ]
    },
    {
      "cell_type": "code",
      "metadata": {
        "colab_type": "code",
        "id": "uXmtVpnPcFij",
        "colab": {
          "base_uri": "https://localhost:8080/",
          "height": 102
        },
        "outputId": "bf5337d3-b417-4da7-e4eb-3308a3f1b7c2"
      },
      "source": [
        "# Include new polynomial features into features list\n",
        "features = ['body', 'mileage_squared', 'engV', 'engType', 'year_squared', 'drive']\n",
        "X = df[features]\n",
        "\n",
        "# Split the data into train and test\n",
        "X_train, X_test, y_train, y_test = train_test_split(X, y, test_size=0.2, random_state=42)\n",
        "\n",
        "# Create linear regression model\n",
        "model = LinearRegression()\n",
        "model.fit(X_train, y_train)\n",
        "\n",
        "# Predict the target variable using our feature test data\n",
        "y_pred = model.predict(X_test)\n",
        "\n",
        "# Calculate root mean squared error and r-squared values\n",
        "rmse = (np.sqrt(mean_squared_error(y_test, y_pred)))\n",
        "r2 = r2_score(y_test, y_pred)\n",
        "\n",
        "print('Root Mean Squared Error: ', rmse)\n",
        "print('R^2 Score: ', r2)\n",
        "print('Model Coefficients: ', model.coef_)\n",
        "print('Model Intercept: ', model.intercept_)"
      ],
      "execution_count": 205,
      "outputs": [
        {
          "output_type": "stream",
          "text": [
            "Root Mean Squared Error:  0.6062296614497857\n",
            "R^2 Score:  0.6165190217102838\n",
            "Model Coefficients:  [-9.66189954e-02  2.07553962e-07  8.51222195e-03 -3.62288818e-02\n",
            "  2.52710947e-05  3.95578039e-01]\n",
            "Model Intercept:  -92.53614221027169\n"
          ],
          "name": "stdout"
        }
      ]
    },
    {
      "cell_type": "markdown",
      "metadata": {
        "colab_type": "text",
        "id": "hf4_8FXrpHFY"
      },
      "source": [
        "## 2.5 How do we interpret coefficients in Log-Linear Regression (differently than Ordinary Least Squares Regression)?\n",
        "One sentence can be sufficient"
      ]
    },
    {
      "cell_type": "markdown",
      "metadata": {
        "colab_type": "text",
        "id": "JVGKvt5WpTf2"
      },
      "source": [
        "Our coefficients in a Log-Linear Regression are different from Ordinary Least Squares Regression because the coefficients are now denoting the **percentage change** with every increase/decrease in the corresponding value instead of the raw dollar value change."
      ]
    },
    {
      "cell_type": "markdown",
      "metadata": {
        "colab_type": "text",
        "id": "JUQwzfDRfrQi"
      },
      "source": [
        "# Decision Trees"
      ]
    },
    {
      "cell_type": "markdown",
      "metadata": {
        "colab_type": "text",
        "id": "M_JLfReVeoYT"
      },
      "source": [
        "## 3.1 Use scikit-learn to fit a decision tree regression model, using your training data.\n",
        "Use one or more features of your choice. You will not be evaluated on which features you choose. You may choose to use all features.\n",
        "\n",
        "You may use the log-transformed target or the original un-transformed target. You will not be evaluated on which you choose."
      ]
    },
    {
      "cell_type": "code",
      "metadata": {
        "id": "8Xycs0q8apu-",
        "colab_type": "code",
        "colab": {}
      },
      "source": [
        "# Splitting data into train and test datasets\n",
        "X_train, X_test, y_train, y_test = train_test_split(X, y, test_size=0.2, random_state=42) #Always 42"
      ],
      "execution_count": 0,
      "outputs": []
    },
    {
      "cell_type": "code",
      "metadata": {
        "id": "JpEatJtFNO6B",
        "colab_type": "code",
        "colab": {
          "base_uri": "https://localhost:8080/",
          "height": 102
        },
        "outputId": "96dda85e-7060-4074-979c-ddabde5ed158"
      },
      "source": [
        "# Training model using Decision Tree Regressor\n",
        "tree = DecisionTreeRegressor()\n",
        "tree.fit(X_train, y_train)"
      ],
      "execution_count": 207,
      "outputs": [
        {
          "output_type": "execute_result",
          "data": {
            "text/plain": [
              "DecisionTreeRegressor(criterion='mse', max_depth=None, max_features=None,\n",
              "           max_leaf_nodes=None, min_impurity_decrease=0.0,\n",
              "           min_impurity_split=None, min_samples_leaf=1,\n",
              "           min_samples_split=2, min_weight_fraction_leaf=0.0,\n",
              "           presort=False, random_state=None, splitter='best')"
            ]
          },
          "metadata": {
            "tags": []
          },
          "execution_count": 207
        }
      ]
    },
    {
      "cell_type": "markdown",
      "metadata": {
        "id": "bU1ajkVJNO6E",
        "colab_type": "text"
      },
      "source": [
        "## 3.2 Use the test data to get the $R^2$ for the model. \n",
        "You will not be evaluated on how high or low your scores are."
      ]
    },
    {
      "cell_type": "code",
      "metadata": {
        "id": "3CiTRBc1NO6F",
        "colab_type": "code",
        "colab": {
          "base_uri": "https://localhost:8080/",
          "height": 34
        },
        "outputId": "f9327689-c461-4df8-fa69-1246b35ab46a"
      },
      "source": [
        "# R squared score for test data\n",
        "print('R^2', tree.score(X_test, y_test))"
      ],
      "execution_count": 208,
      "outputs": [
        {
          "output_type": "stream",
          "text": [
            "R^2 0.773733886045652\n"
          ],
          "name": "stdout"
        }
      ]
    },
    {
      "cell_type": "markdown",
      "metadata": {
        "colab_type": "text",
        "id": "Gs20FOntprd_"
      },
      "source": [
        "# Regression Diagnostics"
      ]
    },
    {
      "cell_type": "markdown",
      "metadata": {
        "colab_type": "text",
        "id": "VJnxkobcpulV"
      },
      "source": [
        "## 4.1 Use statsmodels to run a log-linear or log-polynomial linear regression with robust standard errors."
      ]
    },
    {
      "cell_type": "code",
      "metadata": {
        "colab_type": "code",
        "id": "QqCVeYBTpvfQ",
        "colab": {
          "base_uri": "https://localhost:8080/",
          "height": 544
        },
        "outputId": "b781287e-87e4-4a89-f23e-bbb647a10a02"
      },
      "source": [
        "# Create OLS model with robust standard errors.\n",
        "model = sm.OLS(y, X)\n",
        "results = model.fit(cov_type='HC3')\n",
        "print(results.summary())"
      ],
      "execution_count": 209,
      "outputs": [
        {
          "output_type": "stream",
          "text": [
            "                            OLS Regression Results                            \n",
            "==============================================================================\n",
            "Dep. Variable:               price_ln   R-squared:                       0.992\n",
            "Model:                            OLS   Adj. R-squared:                  0.992\n",
            "Method:                 Least Squares   F-statistic:                 2.146e+05\n",
            "Date:                Fri, 03 May 2019   Prob (F-statistic):               0.00\n",
            "Time:                        17:35:32   Log-Likelihood:                -10300.\n",
            "No. Observations:                8495   AIC:                         2.061e+04\n",
            "Df Residuals:                    8489   BIC:                         2.065e+04\n",
            "Df Model:                           6                                         \n",
            "Covariance Type:                  HC3                                         \n",
            "===================================================================================\n",
            "                      coef    std err          z      P>|z|      [0.025      0.975]\n",
            "-----------------------------------------------------------------------------------\n",
            "body               -0.1564      0.007    -22.123      0.000      -0.170      -0.143\n",
            "mileage_squared -5.057e-06   6.91e-07     -7.319      0.000   -6.41e-06    -3.7e-06\n",
            "engV                0.0065      0.003      2.241      0.025       0.001       0.012\n",
            "engType            -0.1038      0.007    -14.202      0.000      -0.118      -0.089\n",
            "year_squared     2.412e-06   6.66e-09    362.038      0.000     2.4e-06    2.42e-06\n",
            "drive               0.2508      0.016     16.054      0.000       0.220       0.281\n",
            "==============================================================================\n",
            "Omnibus:                      412.906   Durbin-Watson:                   1.871\n",
            "Prob(Omnibus):                  0.000   Jarque-Bera (JB):             1497.889\n",
            "Skew:                          -0.061   Prob(JB):                         0.00\n",
            "Kurtosis:                       5.054   Cond. No.                     5.60e+06\n",
            "==============================================================================\n",
            "\n",
            "Warnings:\n",
            "[1] Standard Errors are heteroscedasticity robust (HC3)\n",
            "[2] The condition number is large, 5.6e+06. This might indicate that there are\n",
            "strong multicollinearity or other numerical problems.\n"
          ],
          "name": "stdout"
        }
      ]
    },
    {
      "cell_type": "markdown",
      "metadata": {
        "colab_type": "text",
        "id": "loKma3wspwVs"
      },
      "source": [
        "## 4.2 Calculate the Variance Inflation Factor (VIF) of our X variables. \n",
        "\n",
        "### Do we have multicollinearity problems?\n",
        "One sentence can be sufficient"
      ]
    },
    {
      "cell_type": "code",
      "metadata": {
        "colab_type": "code",
        "id": "EN1mPKWhp2Vn",
        "colab": {
          "base_uri": "https://localhost:8080/",
          "height": 187
        },
        "outputId": "452c0dea-c367-4fbb-db6c-3b59385841c7"
      },
      "source": [
        "# Calculate Variance Inflation Factor scores\n",
        "X = sm.add_constant(X)\n",
        "vif = [variance_inflation_factor(X.values, i) for i in range(len(X.columns))]\n",
        "pd.Series(vif, X.columns)"
      ],
      "execution_count": 210,
      "outputs": [
        {
          "output_type": "stream",
          "text": [
            "/usr/local/lib/python3.6/dist-packages/numpy/core/fromnumeric.py:2389: FutureWarning: Method .ptp is deprecated and will be removed in a future version. Use numpy.ptp instead.\n",
            "  return ptp(axis=axis, out=out, **kwargs)\n"
          ],
          "name": "stderr"
        },
        {
          "output_type": "execute_result",
          "data": {
            "text/plain": [
              "const              26654.187594\n",
              "body                   1.128366\n",
              "mileage_squared        1.247330\n",
              "engV                   1.008716\n",
              "engType                1.082281\n",
              "year_squared           1.250612\n",
              "drive                  1.085937\n",
              "dtype: float64"
            ]
          },
          "metadata": {
            "tags": []
          },
          "execution_count": 210
        }
      ]
    },
    {
      "cell_type": "markdown",
      "metadata": {
        "id": "7STPHYHteaZY",
        "colab_type": "text"
      },
      "source": [
        "All of our variables have a variance inflation factor that is near 1, which indicates **a low r squared score for each variable in the VIF calculation**. Typically, a VIF score greater than 5 is in indicator of multicollinearity problems and a VIF score greater than 10 indicates high levels of multicollinearity.  Our variables do not appear to have any multicollinearity problems."
      ]
    }
  ]
}