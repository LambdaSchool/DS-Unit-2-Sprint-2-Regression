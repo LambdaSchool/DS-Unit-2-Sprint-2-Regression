{
 "cells": [
  {
   "cell_type": "markdown",
   "metadata": {},
   "source": [
    "_Lambda School Data Science_\n",
    "\n",
    "# Regression Sprint Challenge"
   ]
  },
  {
   "cell_type": "markdown",
   "metadata": {},
   "source": [
    "For this Sprint Challenge, you'll predict the price of used cars. \n",
    "\n",
    "The dataset is real-world. It was collected from advertisements of cars for sale in the Ukraine in 2016.\n",
    "\n",
    "The following import statements have been provided for you, and should be sufficient. But you may not need to use every import. And you are permitted to make additional imports."
   ]
  },
  {
   "cell_type": "code",
   "execution_count": 103,
   "metadata": {
    "colab": {
     "base_uri": "https://localhost:8080/",
     "height": 91
    },
    "colab_type": "code",
    "executionInfo": {
     "elapsed": 8,
     "status": "ok",
     "timestamp": 1547810056110,
     "user": {
      "displayName": "Ryan Allred",
      "photoUrl": "",
      "userId": "04031804316926795705"
     },
     "user_tz": 420
    },
    "id": "YbiJuv5d2jZ7",
    "outputId": "749ce910-8342-4f4c-af06-77ae4af74804"
   },
   "outputs": [],
   "source": [
    "%matplotlib inline\n",
    "import matplotlib.pyplot as plt\n",
    "import numpy as np\n",
    "import pandas as pd\n",
    "import seaborn as sns\n",
    "import sklearn\n",
    "from sklearn.linear_model import LinearRegression\n",
    "from sklearn.metrics import mean_squared_error, r2_score\n",
    "from sklearn.model_selection import train_test_split\n",
    "from sklearn.tree import DecisionTreeRegressor\n",
    "import statsmodels.api as sm\n",
    "from statsmodels.stats.outliers_influence import variance_inflation_factor"
   ]
  },
  {
   "cell_type": "markdown",
   "metadata": {},
   "source": [
    "[The dataset](https://raw.githubusercontent.com/ryanleeallred/datasets/master/car_regression.csv) contains 8,495 rows and 9 variables:\n",
    "\n",
    "- make: manufacturer brand\n",
    "- price: seller’s price in advertisement (in USD)\n",
    "- body: car body type\n",
    "- mileage: as mentioned in advertisement (‘000 Km)\n",
    "- engV: rounded engine volume (‘000 cubic cm)\n",
    "- engType: type of fuel\n",
    "- registration: whether car registered in Ukraine or not\n",
    "- year: year of production\n",
    "- drive: drive type\n",
    "\n",
    "Run this cell to read the data:"
   ]
  },
  {
   "cell_type": "code",
   "execution_count": 104,
   "metadata": {
    "colab": {
     "base_uri": "https://localhost:8080/",
     "height": 219
    },
    "colab_type": "code",
    "executionInfo": {
     "elapsed": 536,
     "status": "ok",
     "timestamp": 1547807782149,
     "user": {
      "displayName": "Ryan Allred",
      "photoUrl": "",
      "userId": "04031804316926795705"
     },
     "user_tz": 420
    },
    "id": "FgaItuSL3zxO",
    "outputId": "839e29ca-12a8-4379-837b-3f869dff380c"
   },
   "outputs": [
    {
     "name": "stdout",
     "output_type": "stream",
     "text": [
      "(8495, 9)\n"
     ]
    },
    {
     "data": {
      "text/html": [
       "<div>\n",
       "<style scoped>\n",
       "    .dataframe tbody tr th:only-of-type {\n",
       "        vertical-align: middle;\n",
       "    }\n",
       "\n",
       "    .dataframe tbody tr th {\n",
       "        vertical-align: top;\n",
       "    }\n",
       "\n",
       "    .dataframe thead th {\n",
       "        text-align: right;\n",
       "    }\n",
       "</style>\n",
       "<table border=\"1\" class=\"dataframe\">\n",
       "  <thead>\n",
       "    <tr style=\"text-align: right;\">\n",
       "      <th></th>\n",
       "      <th>make</th>\n",
       "      <th>price</th>\n",
       "      <th>body</th>\n",
       "      <th>mileage</th>\n",
       "      <th>engV</th>\n",
       "      <th>engType</th>\n",
       "      <th>registration</th>\n",
       "      <th>year</th>\n",
       "      <th>drive</th>\n",
       "    </tr>\n",
       "  </thead>\n",
       "  <tbody>\n",
       "    <tr>\n",
       "      <th>3704</th>\n",
       "      <td>30</td>\n",
       "      <td>9700.0</td>\n",
       "      <td>1</td>\n",
       "      <td>110</td>\n",
       "      <td>1.8</td>\n",
       "      <td>3</td>\n",
       "      <td>1</td>\n",
       "      <td>2007</td>\n",
       "      <td>0</td>\n",
       "    </tr>\n",
       "    <tr>\n",
       "      <th>8398</th>\n",
       "      <td>56</td>\n",
       "      <td>3999.0</td>\n",
       "      <td>2</td>\n",
       "      <td>1</td>\n",
       "      <td>2.0</td>\n",
       "      <td>3</td>\n",
       "      <td>1</td>\n",
       "      <td>1979</td>\n",
       "      <td>2</td>\n",
       "    </tr>\n",
       "    <tr>\n",
       "      <th>4134</th>\n",
       "      <td>57</td>\n",
       "      <td>7700.0</td>\n",
       "      <td>3</td>\n",
       "      <td>190</td>\n",
       "      <td>2.0</td>\n",
       "      <td>1</td>\n",
       "      <td>1</td>\n",
       "      <td>2007</td>\n",
       "      <td>0</td>\n",
       "    </tr>\n",
       "    <tr>\n",
       "      <th>423</th>\n",
       "      <td>33</td>\n",
       "      <td>37400.0</td>\n",
       "      <td>0</td>\n",
       "      <td>0</td>\n",
       "      <td>2.2</td>\n",
       "      <td>0</td>\n",
       "      <td>1</td>\n",
       "      <td>2016</td>\n",
       "      <td>1</td>\n",
       "    </tr>\n",
       "    <tr>\n",
       "      <th>466</th>\n",
       "      <td>55</td>\n",
       "      <td>12500.0</td>\n",
       "      <td>0</td>\n",
       "      <td>107</td>\n",
       "      <td>2.0</td>\n",
       "      <td>1</td>\n",
       "      <td>1</td>\n",
       "      <td>2008</td>\n",
       "      <td>1</td>\n",
       "    </tr>\n",
       "    <tr>\n",
       "      <th>5293</th>\n",
       "      <td>76</td>\n",
       "      <td>3200.0</td>\n",
       "      <td>3</td>\n",
       "      <td>140</td>\n",
       "      <td>1.6</td>\n",
       "      <td>1</td>\n",
       "      <td>1</td>\n",
       "      <td>2007</td>\n",
       "      <td>0</td>\n",
       "    </tr>\n",
       "    <tr>\n",
       "      <th>1790</th>\n",
       "      <td>74</td>\n",
       "      <td>32900.0</td>\n",
       "      <td>0</td>\n",
       "      <td>82</td>\n",
       "      <td>2.7</td>\n",
       "      <td>3</td>\n",
       "      <td>1</td>\n",
       "      <td>2013</td>\n",
       "      <td>1</td>\n",
       "    </tr>\n",
       "    <tr>\n",
       "      <th>166</th>\n",
       "      <td>42</td>\n",
       "      <td>30000.0</td>\n",
       "      <td>2</td>\n",
       "      <td>155</td>\n",
       "      <td>3.6</td>\n",
       "      <td>0</td>\n",
       "      <td>1</td>\n",
       "      <td>2008</td>\n",
       "      <td>1</td>\n",
       "    </tr>\n",
       "    <tr>\n",
       "      <th>3718</th>\n",
       "      <td>57</td>\n",
       "      <td>5350.0</td>\n",
       "      <td>5</td>\n",
       "      <td>188</td>\n",
       "      <td>1.9</td>\n",
       "      <td>0</td>\n",
       "      <td>1</td>\n",
       "      <td>2004</td>\n",
       "      <td>0</td>\n",
       "    </tr>\n",
       "    <tr>\n",
       "      <th>3507</th>\n",
       "      <td>17</td>\n",
       "      <td>3300.0</td>\n",
       "      <td>3</td>\n",
       "      <td>175</td>\n",
       "      <td>1.5</td>\n",
       "      <td>3</td>\n",
       "      <td>1</td>\n",
       "      <td>2007</td>\n",
       "      <td>0</td>\n",
       "    </tr>\n",
       "  </tbody>\n",
       "</table>\n",
       "</div>"
      ],
      "text/plain": [
       "      make    price  body  mileage  engV  engType  registration  year  drive\n",
       "3704    30   9700.0     1      110   1.8        3             1  2007      0\n",
       "8398    56   3999.0     2        1   2.0        3             1  1979      2\n",
       "4134    57   7700.0     3      190   2.0        1             1  2007      0\n",
       "423     33  37400.0     0        0   2.2        0             1  2016      1\n",
       "466     55  12500.0     0      107   2.0        1             1  2008      1\n",
       "5293    76   3200.0     3      140   1.6        1             1  2007      0\n",
       "1790    74  32900.0     0       82   2.7        3             1  2013      1\n",
       "166     42  30000.0     2      155   3.6        0             1  2008      1\n",
       "3718    57   5350.0     5      188   1.9        0             1  2004      0\n",
       "3507    17   3300.0     3      175   1.5        3             1  2007      0"
      ]
     },
     "execution_count": 104,
     "metadata": {},
     "output_type": "execute_result"
    }
   ],
   "source": [
    "df = pd.read_csv('https://raw.githubusercontent.com/ryanleeallred/datasets/master/car_regression.csv')\n",
    "print(df.shape)\n",
    "df.sample(10)"
   ]
  },
  {
   "cell_type": "code",
   "execution_count": 105,
   "metadata": {},
   "outputs": [
    {
     "data": {
      "text/plain": [
       "make            0\n",
       "price           0\n",
       "body            0\n",
       "mileage         0\n",
       "engV            0\n",
       "engType         0\n",
       "registration    0\n",
       "year            0\n",
       "drive           0\n",
       "dtype: int64"
      ]
     },
     "execution_count": 105,
     "metadata": {},
     "output_type": "execute_result"
    }
   ],
   "source": [
    "df.isna().sum()"
   ]
  },
  {
   "cell_type": "code",
   "execution_count": 106,
   "metadata": {},
   "outputs": [
    {
     "data": {
      "text/html": [
       "<div>\n",
       "<style scoped>\n",
       "    .dataframe tbody tr th:only-of-type {\n",
       "        vertical-align: middle;\n",
       "    }\n",
       "\n",
       "    .dataframe tbody tr th {\n",
       "        vertical-align: top;\n",
       "    }\n",
       "\n",
       "    .dataframe thead th {\n",
       "        text-align: right;\n",
       "    }\n",
       "</style>\n",
       "<table border=\"1\" class=\"dataframe\">\n",
       "  <thead>\n",
       "    <tr style=\"text-align: right;\">\n",
       "      <th></th>\n",
       "      <th>make</th>\n",
       "      <th>price</th>\n",
       "      <th>body</th>\n",
       "      <th>mileage</th>\n",
       "      <th>engV</th>\n",
       "      <th>engType</th>\n",
       "      <th>registration</th>\n",
       "      <th>year</th>\n",
       "      <th>drive</th>\n",
       "    </tr>\n",
       "  </thead>\n",
       "  <tbody>\n",
       "    <tr>\n",
       "      <th>count</th>\n",
       "      <td>8495.000000</td>\n",
       "      <td>8495.000000</td>\n",
       "      <td>8495.000000</td>\n",
       "      <td>8495.000000</td>\n",
       "      <td>8495.000000</td>\n",
       "      <td>8495.000000</td>\n",
       "      <td>8495.000000</td>\n",
       "      <td>8495.000000</td>\n",
       "      <td>8495.000000</td>\n",
       "    </tr>\n",
       "    <tr>\n",
       "      <th>mean</th>\n",
       "      <td>46.535491</td>\n",
       "      <td>16185.453305</td>\n",
       "      <td>2.302295</td>\n",
       "      <td>141.744202</td>\n",
       "      <td>2.568337</td>\n",
       "      <td>1.650618</td>\n",
       "      <td>0.941613</td>\n",
       "      <td>2006.500883</td>\n",
       "      <td>0.575868</td>\n",
       "    </tr>\n",
       "    <tr>\n",
       "      <th>std</th>\n",
       "      <td>24.526251</td>\n",
       "      <td>24449.641512</td>\n",
       "      <td>1.610307</td>\n",
       "      <td>97.464062</td>\n",
       "      <td>5.387238</td>\n",
       "      <td>1.341282</td>\n",
       "      <td>0.234488</td>\n",
       "      <td>6.925907</td>\n",
       "      <td>0.741235</td>\n",
       "    </tr>\n",
       "    <tr>\n",
       "      <th>min</th>\n",
       "      <td>0.000000</td>\n",
       "      <td>259.350000</td>\n",
       "      <td>0.000000</td>\n",
       "      <td>0.000000</td>\n",
       "      <td>0.100000</td>\n",
       "      <td>0.000000</td>\n",
       "      <td>0.000000</td>\n",
       "      <td>1959.000000</td>\n",
       "      <td>0.000000</td>\n",
       "    </tr>\n",
       "    <tr>\n",
       "      <th>25%</th>\n",
       "      <td>23.000000</td>\n",
       "      <td>5490.000000</td>\n",
       "      <td>1.000000</td>\n",
       "      <td>74.000000</td>\n",
       "      <td>1.600000</td>\n",
       "      <td>0.000000</td>\n",
       "      <td>1.000000</td>\n",
       "      <td>2004.000000</td>\n",
       "      <td>0.000000</td>\n",
       "    </tr>\n",
       "    <tr>\n",
       "      <th>50%</th>\n",
       "      <td>50.000000</td>\n",
       "      <td>9500.000000</td>\n",
       "      <td>3.000000</td>\n",
       "      <td>130.000000</td>\n",
       "      <td>2.000000</td>\n",
       "      <td>1.000000</td>\n",
       "      <td>1.000000</td>\n",
       "      <td>2008.000000</td>\n",
       "      <td>0.000000</td>\n",
       "    </tr>\n",
       "    <tr>\n",
       "      <th>75%</th>\n",
       "      <td>68.000000</td>\n",
       "      <td>17145.600000</td>\n",
       "      <td>3.000000</td>\n",
       "      <td>197.000000</td>\n",
       "      <td>2.500000</td>\n",
       "      <td>3.000000</td>\n",
       "      <td>1.000000</td>\n",
       "      <td>2011.000000</td>\n",
       "      <td>1.000000</td>\n",
       "    </tr>\n",
       "    <tr>\n",
       "      <th>max</th>\n",
       "      <td>82.000000</td>\n",
       "      <td>547800.000000</td>\n",
       "      <td>5.000000</td>\n",
       "      <td>999.000000</td>\n",
       "      <td>99.990000</td>\n",
       "      <td>3.000000</td>\n",
       "      <td>1.000000</td>\n",
       "      <td>2016.000000</td>\n",
       "      <td>2.000000</td>\n",
       "    </tr>\n",
       "  </tbody>\n",
       "</table>\n",
       "</div>"
      ],
      "text/plain": [
       "              make          price         body      mileage         engV  \\\n",
       "count  8495.000000    8495.000000  8495.000000  8495.000000  8495.000000   \n",
       "mean     46.535491   16185.453305     2.302295   141.744202     2.568337   \n",
       "std      24.526251   24449.641512     1.610307    97.464062     5.387238   \n",
       "min       0.000000     259.350000     0.000000     0.000000     0.100000   \n",
       "25%      23.000000    5490.000000     1.000000    74.000000     1.600000   \n",
       "50%      50.000000    9500.000000     3.000000   130.000000     2.000000   \n",
       "75%      68.000000   17145.600000     3.000000   197.000000     2.500000   \n",
       "max      82.000000  547800.000000     5.000000   999.000000    99.990000   \n",
       "\n",
       "           engType  registration         year        drive  \n",
       "count  8495.000000   8495.000000  8495.000000  8495.000000  \n",
       "mean      1.650618      0.941613  2006.500883     0.575868  \n",
       "std       1.341282      0.234488     6.925907     0.741235  \n",
       "min       0.000000      0.000000  1959.000000     0.000000  \n",
       "25%       0.000000      1.000000  2004.000000     0.000000  \n",
       "50%       1.000000      1.000000  2008.000000     0.000000  \n",
       "75%       3.000000      1.000000  2011.000000     1.000000  \n",
       "max       3.000000      1.000000  2016.000000     2.000000  "
      ]
     },
     "execution_count": 106,
     "metadata": {},
     "output_type": "execute_result"
    }
   ],
   "source": [
    "df.describe()"
   ]
  },
  {
   "cell_type": "markdown",
   "metadata": {
    "colab_type": "text",
    "id": "w9gkF-HNUFAV"
   },
   "source": [
    "# Predictive Modeling with Linear Regression"
   ]
  },
  {
   "cell_type": "markdown",
   "metadata": {
    "colab_type": "text",
    "id": "Vy1SWxcYTAC0"
   },
   "source": [
    "## 1.1 Split the data into an X matrix and y vector (`price` is the target we want to predict)."
   ]
  },
  {
   "cell_type": "code",
   "execution_count": 134,
   "metadata": {
    "colab": {},
    "colab_type": "code",
    "id": "dwMbM9tUUaOQ"
   },
   "outputs": [],
   "source": [
    "features = ['drive','make', 'body', 'mileage', 'engV', 'engType', 'registration','year']\n",
    "target = ['price']\n",
    "\n",
    "X=df.copy()[features]\n",
    "y=df.copy()[target]"
   ]
  },
  {
   "cell_type": "markdown",
   "metadata": {
    "colab_type": "text",
    "id": "Uf_SQswNUPwM"
   },
   "source": [
    "## 1.2 Split the data into test and train sets, using `train_test_split`.\n",
    "You may use a train size of 80% and a test size of 20%."
   ]
  },
  {
   "cell_type": "code",
   "execution_count": 135,
   "metadata": {
    "colab": {},
    "colab_type": "code",
    "id": "iIiELKuKUOgR"
   },
   "outputs": [],
   "source": [
    "Xtrain, Xtest, ytrain, ytest = train_test_split(X, y, train_size=0.80, test_size=0.20, random_state=50)"
   ]
  },
  {
   "cell_type": "code",
   "execution_count": 136,
   "metadata": {},
   "outputs": [
    {
     "data": {
      "text/plain": [
       "((6796, 8), (1699, 8), (6796, 1), (1699, 1))"
      ]
     },
     "execution_count": 136,
     "metadata": {},
     "output_type": "execute_result"
    }
   ],
   "source": [
    "Xtrain.shape, Xtest.shape, ytrain.shape, ytest.shape"
   ]
  },
  {
   "cell_type": "markdown",
   "metadata": {
    "colab_type": "text",
    "id": "0AdXWiwoUstf"
   },
   "source": [
    "## 1.3 Use scikit-learn to fit a multiple regression model, using your training data.\n",
    "Use `year` and one or more features of your choice. You will not be evaluated on which features you choose. You may choose to use all features."
   ]
  },
  {
   "cell_type": "code",
   "execution_count": 137,
   "metadata": {
    "colab": {},
    "colab_type": "code",
    "id": "Zw70rt71U1xf"
   },
   "outputs": [
    {
     "data": {
      "text/plain": [
       "LinearRegression(copy_X=True, fit_intercept=True, n_jobs=None,\n",
       "         normalize=False)"
      ]
     },
     "execution_count": 137,
     "metadata": {},
     "output_type": "execute_result"
    }
   ],
   "source": [
    "lin_reg= LinearRegression()\n",
    "lin_reg.fit(Xtrain, ytrain)\n"
   ]
  },
  {
   "cell_type": "markdown",
   "metadata": {
    "colab_type": "text",
    "id": "82fH2rilU7j3"
   },
   "source": [
    "## 1.4 Report the Intercept and Coefficients for the fitted model."
   ]
  },
  {
   "cell_type": "code",
   "execution_count": 138,
   "metadata": {
    "colab": {},
    "colab_type": "code",
    "id": "ue6hCHGqVE83"
   },
   "outputs": [
    {
     "name": "stdout",
     "output_type": "stream",
     "text": [
      "Slope Coefficients:  [[ 8586.72417861   -37.65517874 -1614.94662551   -43.64298967\n",
      "    309.15889188 -1140.34780676  4398.17638681  1148.18153219]]\n",
      "\n",
      "Intercept Value:  [-2284036.93230084]\n"
     ]
    }
   ],
   "source": [
    "beta_0 = lin_reg.intercept_\n",
    "beta_i = lin_reg.coef_\n",
    "\n",
    "print(\"Slope Coefficients: \", beta_i)\n",
    "print(\"\\nIntercept Value: \", beta_0)"
   ]
  },
  {
   "cell_type": "markdown",
   "metadata": {
    "colab_type": "text",
    "id": "T0CV0OnDVZbu"
   },
   "source": [
    "## 1.5 Use the test data to make predictions."
   ]
  },
  {
   "cell_type": "code",
   "execution_count": 140,
   "metadata": {
    "colab": {},
    "colab_type": "code",
    "id": "vrR5b5c3VwE5"
   },
   "outputs": [],
   "source": [
    "# Make predictions for y\n",
    "y_predictions = lin_reg.predict(X_test)"
   ]
  },
  {
   "cell_type": "markdown",
   "metadata": {
    "colab_type": "text",
    "id": "ZwQb3gE7VycT"
   },
   "source": [
    "## 1.6 Use the test data to get both the Root Mean Square Error and $R^2$ for the model. \n",
    "You will not be evaluated on how high or low your scores are."
   ]
  },
  {
   "cell_type": "code",
   "execution_count": 158,
   "metadata": {
    "colab": {},
    "colab_type": "code",
    "id": "Ym2kjxWhU6b2"
   },
   "outputs": [
    {
     "name": "stdout",
     "output_type": "stream",
     "text": [
      "Root Mean Square Error:  21140.393258484244\n",
      "R Squared:  0.281987425279152\n"
     ]
    }
   ],
   "source": [
    "rmse = (np.sqrt(mean_squared_error(y_test, y_pred)))\n",
    "r2 = r2_score(y_test, y_pred)\n",
    "\n",
    "print('Root Mean Square Error: ' , rmse)\n",
    "print('R Squared: ' , r2)"
   ]
  },
  {
   "cell_type": "markdown",
   "metadata": {
    "colab_type": "text",
    "id": "kIXhGHIgXHyJ"
   },
   "source": [
    "## 1.7 How should we interpret the coefficient corresponding to the `year` feature?\n",
    "One sentence can be sufficient\n",
    "\n",
    "The coefficient corresponding to the 'year' indicates theslope of the 'year' feature from one point to the next on a regression line. In y = mx +b form it is the m."
   ]
  },
  {
   "cell_type": "markdown",
   "metadata": {
    "colab_type": "text",
    "id": "8jv2n0wAXgHU"
   },
   "source": []
  },
  {
   "cell_type": "markdown",
   "metadata": {
    "colab_type": "text",
    "id": "ckQ5GsOtYsjn"
   },
   "source": [
    "## 1.8 How should we interpret the Root Mean Square Error?\n",
    "One sentence can be sufficient\n",
    "\n",
    "The RMSE is a measure of how well our model performed. It does this by measuring the difference between predicted values and the actual value, while our RMSE is approximately 21140 and its relatively high, indicating poor prediction. "
   ]
  },
  {
   "cell_type": "markdown",
   "metadata": {},
   "source": []
  },
  {
   "cell_type": "markdown",
   "metadata": {
    "colab_type": "text",
    "id": "T3sZrru_YzFF"
   },
   "source": [
    "## 1.9 How should we interpret the $R^2$?\n",
    "One sentence can be sufficient\n",
    "\n",
    "The $R^2$ is relatively low at 0.28, indicating that the regression model is only 28% accurate based on the features or independent variables provided in our model. Thus it is a low accuracy regression model. "
   ]
  },
  {
   "cell_type": "markdown",
   "metadata": {
    "colab_type": "text",
    "id": "5pN2Oet_Y5jR"
   },
   "source": []
  },
  {
   "cell_type": "markdown",
   "metadata": {
    "colab_type": "text",
    "id": "Z_VNy7e3Y5sT"
   },
   "source": [
    "# Log-Linear and Polynomial Regression"
   ]
  },
  {
   "cell_type": "markdown",
   "metadata": {
    "colab_type": "text",
    "id": "G2T4FSqRZOJA"
   },
   "source": [
    "## 2.1 Engineer a new variable by taking the log of the price varible."
   ]
  },
  {
   "cell_type": "code",
   "execution_count": 161,
   "metadata": {
    "colab": {},
    "colab_type": "code",
    "id": "7EChAFNxZX24"
   },
   "outputs": [
    {
     "data": {
      "text/plain": [
       "(array([   2.,    3.,    9.,   18.,   28.,   52.,  122.,  165.,  262.,\n",
       "         417.,  501.,  620.,  818., 1106., 1038.,  908.,  680.,  538.,\n",
       "         337.,  281.,  214.,  128.,   89.,   82.,   34.,   22.,   12.,\n",
       "           5.,    0.,    4.]),\n",
       " array([ 5.5581785 ,  5.8133614 ,  6.0685443 ,  6.3237272 ,  6.57891011,\n",
       "         6.83409301,  7.08927591,  7.34445881,  7.59964171,  7.85482461,\n",
       "         8.11000751,  8.36519041,  8.62037331,  8.87555622,  9.13073912,\n",
       "         9.38592202,  9.64110492,  9.89628782, 10.15147072, 10.40665362,\n",
       "        10.66183652, 10.91701943, 11.17220233, 11.42738523, 11.68256813,\n",
       "        11.93775103, 12.19293393, 12.44811683, 12.70329973, 12.95848263,\n",
       "        13.21366554]),\n",
       " <a list of 30 Patch objects>)"
      ]
     },
     "execution_count": 161,
     "metadata": {},
     "output_type": "execute_result"
    },
    {
     "data": {
      "image/png": "[encoded data removed]",
      "text/plain": [
       "<Figure size 432x288 with 1 Axes>"
      ]
     },
     "metadata": {
      "needs_background": "light"
     },
     "output_type": "display_data"
    }
   ],
   "source": [
    "df['ln_price'] = np.log(df['price'])\n",
    "\n",
    "plt.hist(df['ln_price'], bins=30)"
   ]
  },
  {
   "cell_type": "markdown",
   "metadata": {
    "colab_type": "text",
    "id": "R117rxnOZw6q"
   },
   "source": [
    "## 2.2 Visualize scatterplots of the relationship between each feature versus the log of price, to look for non-linearly distributed features.\n",
    "You may use any plotting tools and techniques."
   ]
  },
  {
   "cell_type": "code",
   "execution_count": 162,
   "metadata": {},
   "outputs": [
    {
     "data": {
      "text/plain": [
       "Index(['make', 'price', 'body', 'mileage', 'engV', 'engType', 'registration',\n",
       "       'year', 'drive', 'ln_price'],\n",
       "      dtype='object')"
      ]
     },
     "execution_count": 162,
     "metadata": {},
     "output_type": "execute_result"
    }
   ],
   "source": [
    "df.columns"
   ]
  },
  {
   "cell_type": "code",
   "execution_count": 168,
   "metadata": {},
   "outputs": [],
   "source": [
    "features = ['make','body', 'mileage', 'engV', 'engType', 'registration',\n",
    "       'year', 'drive']"
   ]
  },
  {
   "cell_type": "code",
   "execution_count": 172,
   "metadata": {
    "colab": {},
    "colab_type": "code",
    "id": "8l56Qk7VaBrU"
   },
   "outputs": [
    {
     "name": "stderr",
     "output_type": "stream",
     "text": [
      "/anaconda3/lib/python3.7/site-packages/scipy/stats/stats.py:1713: FutureWarning: Using a non-tuple sequence for multidimensional indexing is deprecated; use `arr[tuple(seq)]` instead of `arr[seq]`. In the future this will be interpreted as an array index, `arr[np.array(seq)]`, which will result either in an error or a different result.\n",
      "  return np.add.reduce(sorted[indexer] * weights, axis=axis) / sumval\n"
     ]
    },
    {
     "data": {
      "image/png": "[encoded data removed]",
      "text/plain": [
       "<Figure size 360x360 with 1 Axes>"
      ]
     },
     "metadata": {
      "needs_background": "light"
     },
     "output_type": "display_data"
    }
   ],
   "source": [
    "sns.lmplot('make', 'ln_price', data=df, scatter_kws=dict(alpha=0.3))\n",
    "plt.show()"
   ]
  },
  {
   "cell_type": "code",
   "execution_count": 173,
   "metadata": {},
   "outputs": [
    {
     "data": {
      "image/png": "[encoded data removed]",
      "text/plain": [
       "<Figure size 360x360 with 1 Axes>"
      ]
     },
     "metadata": {
      "needs_background": "light"
     },
     "output_type": "display_data"
    }
   ],
   "source": [
    "sns.lmplot('body', 'ln_price', data=df, scatter_kws=dict(alpha=0.3))\n",
    "plt.show()"
   ]
  },
  {
   "cell_type": "code",
   "execution_count": 174,
   "metadata": {},
   "outputs": [
    {
     "data": {
      "image/png": "[encoded data removed]",
      "text/plain": [
       "<Figure size 360x360 with 1 Axes>"
      ]
     },
     "metadata": {
      "needs_background": "light"
     },
     "output_type": "display_data"
    }
   ],
   "source": [
    "sns.lmplot('mileage', 'ln_price', data=df, scatter_kws=dict(alpha=0.3))\n",
    "plt.show()"
   ]
  },
  {
   "cell_type": "code",
   "execution_count": 175,
   "metadata": {},
   "outputs": [
    {
     "data": {
      "image/png": "[encoded data removed]",
      "text/plain": [
       "<Figure size 360x360 with 1 Axes>"
      ]
     },
     "metadata": {
      "needs_background": "light"
     },
     "output_type": "display_data"
    }
   ],
   "source": [
    "sns.lmplot('engV', 'ln_price', data=df, scatter_kws=dict(alpha=0.3))\n",
    "plt.show()"
   ]
  },
  {
   "cell_type": "code",
   "execution_count": 176,
   "metadata": {},
   "outputs": [
    {
     "data": {
      "image/png": "[encoded data removed]",
      "text/plain": [
       "<Figure size 360x360 with 1 Axes>"
      ]
     },
     "metadata": {
      "needs_background": "light"
     },
     "output_type": "display_data"
    }
   ],
   "source": [
    "sns.lmplot('engType', 'ln_price', data=df, scatter_kws=dict(alpha=0.3))\n",
    "plt.show()"
   ]
  },
  {
   "cell_type": "code",
   "execution_count": 177,
   "metadata": {},
   "outputs": [
    {
     "data": {
      "image/png": "[encoded data removed]",
      "text/plain": [
       "<Figure size 360x360 with 1 Axes>"
      ]
     },
     "metadata": {
      "needs_background": "light"
     },
     "output_type": "display_data"
    }
   ],
   "source": [
    "sns.lmplot('registration', 'ln_price', data=df, scatter_kws=dict(alpha=0.3))\n",
    "plt.show()"
   ]
  },
  {
   "cell_type": "code",
   "execution_count": 178,
   "metadata": {},
   "outputs": [
    {
     "data": {
      "image/png": "[encoded data removed]",
      "text/plain": [
       "<Figure size 360x360 with 1 Axes>"
      ]
     },
     "metadata": {
      "needs_background": "light"
     },
     "output_type": "display_data"
    }
   ],
   "source": [
    "sns.lmplot('year', 'ln_price', data=df, scatter_kws=dict(alpha=0.3))\n",
    "plt.show()"
   ]
  },
  {
   "cell_type": "code",
   "execution_count": 179,
   "metadata": {},
   "outputs": [
    {
     "data": {
      "image/png": "[encoded data removed]",
      "text/plain": [
       "<Figure size 360x360 with 1 Axes>"
      ]
     },
     "metadata": {
      "needs_background": "light"
     },
     "output_type": "display_data"
    }
   ],
   "source": [
    "sns.lmplot('drive', 'ln_price', data=df, scatter_kws=dict(alpha=0.3))\n",
    "plt.show()"
   ]
  },
  {
   "cell_type": "markdown",
   "metadata": {
    "colab_type": "text",
    "id": "QTf4gCaDaiCw"
   },
   "source": [
    "## 2.3 Create polynomial feature(s)\n",
    "You will not be evaluated on which feature(s) you choose. But try to choose appropriate features."
   ]
  },
  {
   "cell_type": "code",
   "execution_count": 181,
   "metadata": {
    "colab": {},
    "colab_type": "code",
    "id": "ipsCcH83ZMe8"
   },
   "outputs": [],
   "source": [
    "df['engV_sq'] = df['engV']**2\n",
    "df['mileage_sq'] = df['mileage']**2"
   ]
  },
  {
   "cell_type": "markdown",
   "metadata": {
    "colab_type": "text",
    "id": "NJgfD-JLayRA"
   },
   "source": [
    "## 2.4 Use the new log-transformed y variable and your x variables (including any new polynomial features) to fit a new linear regression model. Then report the: intercept, coefficients, RMSE, and $R^2$."
   ]
  },
  {
   "cell_type": "code",
   "execution_count": 186,
   "metadata": {
    "colab": {},
    "colab_type": "code",
    "id": "uXmtVpnPcFij"
   },
   "outputs": [
    {
     "name": "stdout",
     "output_type": "stream",
     "text": [
      "Slope Coefficients:  [-7.93188169e-09 -2.18532836e-12]\n",
      "Intercept Value:  9.19573250433777\n",
      "Root Mean Squared Error 0.9593264209467586\n",
      "R-Squared Value 0.005077839984796051\n"
     ]
    }
   ],
   "source": [
    "# Polynomial Features\n",
    "polynomial_feat = ['engV_sq','mileage_sq']\n",
    "\n",
    "# Set feature and target\n",
    "target = df['ln_price']\n",
    "feature = df[polynomial_feat]\n",
    "\n",
    "#Train/Test Split\n",
    "xtrain, xtest, ytrain, ytest = train_test_split(feature, target, test_size = .2)\n",
    "\n",
    "#Set/Fit Model\n",
    "linreg = LinearRegression()\n",
    "linreg.fit(feature, target)\n",
    "\n",
    "# Intercept/Coefficient\n",
    "beta_0 = linreg.intercept_\n",
    "beta_1 = linreg.coef_\n",
    "print(\"Slope Coefficients: \", beta_1)\n",
    "print(\"Intercept Value: \", beta_0)\n",
    "\n",
    "# RMSE\n",
    "print('Root Mean Squared Error', np.sqrt(mean_squared_error(target, linreg.predict(feature))))\n",
    "\n",
    "# R^2\n",
    "print('R-Squared Value', linreg.score(feature, target))"
   ]
  },
  {
   "cell_type": "markdown",
   "metadata": {
    "colab_type": "text",
    "id": "hf4_8FXrpHFY"
   },
   "source": [
    "## 2.5 How do we interpret coefficients in Log-Linear Regression (differently than Ordinary Least Squares Regression)?\n",
    "One sentence can be sufficient"
   ]
  },
  {
   "cell_type": "markdown",
   "metadata": {
    "colab_type": "text",
    "id": "JVGKvt5WpTf2"
   },
   "source": [
    "The coefficients indicate that one unit increase in X will produce an expected increase in log Y (target) units"
   ]
  },
  {
   "cell_type": "markdown",
   "metadata": {
    "colab_type": "text",
    "id": "JUQwzfDRfrQi"
   },
   "source": [
    "# Decision Trees"
   ]
  },
  {
   "cell_type": "markdown",
   "metadata": {
    "colab_type": "text",
    "id": "M_JLfReVeoYT"
   },
   "source": [
    "## 3.1 Use scikit-learn to fit a decision tree regression model, using your training data.\n",
    "Use one or more features of your choice. You will not be evaluated on which features you choose. You may choose to use all features.\n",
    "\n",
    "You may use the log-transformed target or the original un-transformed target. You will not be evaluated on which you choose."
   ]
  },
  {
   "cell_type": "code",
   "execution_count": 189,
   "metadata": {},
   "outputs": [],
   "source": [
    "# Train/Test Split\n",
    "X = df.drop(['price','ln_price'], axis=1)\n",
    "y = df['ln_price']\n",
    "X_train, X_test, y_train, y_test = train_test_split(X, y, train_size=0.80, test_size=0.20, random_state=42)"
   ]
  },
  {
   "cell_type": "code",
   "execution_count": 190,
   "metadata": {},
   "outputs": [
    {
     "data": {
      "text/plain": [
       "DecisionTreeRegressor(criterion='mse', max_depth=10, max_features=None,\n",
       "           max_leaf_nodes=None, min_impurity_decrease=0.0,\n",
       "           min_impurity_split=None, min_samples_leaf=1,\n",
       "           min_samples_split=2, min_weight_fraction_leaf=0.0,\n",
       "           presort=False, random_state=None, splitter='best')"
      ]
     },
     "execution_count": 190,
     "metadata": {},
     "output_type": "execute_result"
    }
   ],
   "source": [
    "# Make Tree Model and Fit\n",
    "tree = DecisionTreeRegressor(max_depth=10)\n",
    "tree.fit(X_train,y_train)"
   ]
  },
  {
   "cell_type": "markdown",
   "metadata": {},
   "source": [
    "## 3.2 Use the test data to get the $R^2$ for the model. \n",
    "You will not be evaluated on how high or low your scores are."
   ]
  },
  {
   "cell_type": "code",
   "execution_count": 191,
   "metadata": {},
   "outputs": [
    {
     "name": "stdout",
     "output_type": "stream",
     "text": [
      "R^2 Score:  0.8839889650792476\n"
     ]
    }
   ],
   "source": [
    "print('R^2 Score: ', tree.score(X_test, y_test))"
   ]
  },
  {
   "cell_type": "markdown",
   "metadata": {
    "colab_type": "text",
    "id": "Gs20FOntprd_"
   },
   "source": [
    "# Regression Diagnostics"
   ]
  },
  {
   "cell_type": "markdown",
   "metadata": {
    "colab_type": "text",
    "id": "VJnxkobcpulV"
   },
   "source": [
    "## 4.1 Use statsmodels to run a log-linear or log-polynomial linear regression with robust standard errors."
   ]
  },
  {
   "cell_type": "code",
   "execution_count": 192,
   "metadata": {
    "colab": {},
    "colab_type": "code",
    "id": "QqCVeYBTpvfQ"
   },
   "outputs": [
    {
     "name": "stdout",
     "output_type": "stream",
     "text": [
      "                            OLS Regression Results                            \n",
      "==============================================================================\n",
      "Dep. Variable:               ln_price   R-squared:                       0.657\n",
      "Model:                            OLS   Adj. R-squared:                  0.657\n",
      "Method:                 Least Squares   F-statistic:                     1442.\n",
      "Date:                Fri, 03 May 2019   Prob (F-statistic):               0.00\n",
      "Time:                        10:22:59   Log-Likelihood:                -7173.5\n",
      "No. Observations:                8495   AIC:                         1.437e+04\n",
      "Df Residuals:                    8484   BIC:                         1.445e+04\n",
      "Df Model:                          10                                         \n",
      "Covariance Type:                  HC3                                         \n",
      "================================================================================\n",
      "                   coef    std err          z      P>|z|      [0.025      0.975]\n",
      "--------------------------------------------------------------------------------\n",
      "const         -186.6376      3.483    -53.582      0.000    -193.465    -179.811\n",
      "make            -0.0015      0.000     -5.330      0.000      -0.002      -0.001\n",
      "body            -0.1004      0.004    -24.708      0.000      -0.108      -0.092\n",
      "mileage       9.892e-07   3.32e-07      2.976      0.003    3.38e-07    1.64e-06\n",
      "engV             0.0005      0.000      2.844      0.004       0.000       0.001\n",
      "engType         -0.0525      0.005    -10.907      0.000      -0.062      -0.043\n",
      "registration     0.7382      0.020     36.972      0.000       0.699       0.777\n",
      "year             0.0973      0.002     56.138      0.000       0.094       0.101\n",
      "drive            0.3932      0.010     38.791      0.000       0.373       0.413\n",
      "engV_sq      -5.684e-08   1.91e-08     -2.972      0.003   -9.43e-08   -1.94e-08\n",
      "mileage_sq   -1.152e-12   6.22e-13     -1.851      0.064   -2.37e-12    6.77e-14\n",
      "==============================================================================\n",
      "Omnibus:                      471.374   Durbin-Watson:                   1.910\n",
      "Prob(Omnibus):                  0.000   Jarque-Bera (JB):             1775.213\n",
      "Skew:                           0.139   Prob(JB):                         0.00\n",
      "Kurtosis:                       5.222   Cond. No.                     8.95e+12\n",
      "==============================================================================\n",
      "\n",
      "Warnings:\n",
      "[1] Standard Errors are heteroscedasticity robust (HC3)\n",
      "[2] The condition number is large, 8.95e+12. This might indicate that there are\n",
      "strong multicollinearity or other numerical problems.\n"
     ]
    },
    {
     "name": "stderr",
     "output_type": "stream",
     "text": [
      "/anaconda3/lib/python3.7/site-packages/statsmodels/base/model.py:1532: ValueWarning: covariance of constraints does not have full rank. The number of constraints is 10, but rank is 9\n",
      "  'rank is %d' % (J, J_), ValueWarning)\n"
     ]
    }
   ],
   "source": [
    "# OLS Model Summary\n",
    "\n",
    "model = sm.OLS(y, sm.add_constant(X))\n",
    "results = model.fit(cov_type='HC3')\n",
    "print(results.summary())"
   ]
  },
  {
   "cell_type": "markdown",
   "metadata": {
    "colab_type": "text",
    "id": "loKma3wspwVs"
   },
   "source": [
    "## 4.2 Calculate the Variance Inflation Factor (VIF) of our X variables. \n",
    "\n",
    "### Do we have multicollinearity problems?\n",
    "One sentence can be sufficient"
   ]
  },
  {
   "cell_type": "code",
   "execution_count": 195,
   "metadata": {
    "colab": {},
    "colab_type": "code",
    "id": "EN1mPKWhp2Vn"
   },
   "outputs": [
    {
     "data": {
      "text/plain": [
       "const            0.000000\n",
       "make             1.059846\n",
       "body             1.151328\n",
       "mileage          3.715342\n",
       "engV            58.721493\n",
       "engType          1.139643\n",
       "registration     1.093379\n",
       "year             1.456740\n",
       "drive            1.127538\n",
       "engV_sq         58.711215\n",
       "mileage_sq       2.994032\n",
       "dtype: float64"
      ]
     },
     "execution_count": 195,
     "metadata": {},
     "output_type": "execute_result"
    }
   ],
   "source": [
    "# VIF \n",
    "X = sm.add_constant(X)\n",
    "\n",
    "vif = [variance_inflation_factor(X.values, i) for i in range(len(X.columns))]\n",
    "\n",
    "pd.Series(vif, X.columns)"
   ]
  },
  {
   "cell_type": "code",
   "execution_count": null,
   "metadata": {},
   "outputs": [],
   "source": [
    "# There is a big multicollinearity problem here. We will ignore engV, engV_sq. "
   ]
  }
 ],
 "metadata": {
  "colab": {
   "name": "Linear Regression Sprint Challenge.ipynb",
   "provenance": [],
   "version": "0.3.2"
  },
  "kernelspec": {
   "display_name": "Python 3",
   "language": "python",
   "name": "python3"
  },
  "language_info": {
   "codemirror_mode": {
    "name": "ipython",
    "version": 3
   },
   "file_extension": ".py",
   "mimetype": "text/x-python",
   "name": "python",
   "nbconvert_exporter": "python",
   "pygments_lexer": "ipython3",
   "version": "3.7.1"
  }
 },
 "nbformat": 4,
 "nbformat_minor": 1
}
