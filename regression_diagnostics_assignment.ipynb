{
  "nbformat": 4,
  "nbformat_minor": 0,
  "metadata": {
    "colab": {
      "name": "regression-diagnostics-assignment.ipynb",
      "version": "0.3.2",
      "provenance": [],
      "include_colab_link": true
    },
    "language_info": {
      "codemirror_mode": {
        "name": "ipython",
        "version": 3
      },
      "file_extension": ".py",
      "mimetype": "text/x-python",
      "name": "python",
      "nbconvert_exporter": "python",
      "pygments_lexer": "ipython3",
      "version": "3.7.1"
    },
    "kernelspec": {
      "display_name": "Python 3",
      "language": "python",
      "name": "python3"
    }
  },
  "cells": [
    {
      "cell_type": "markdown",
      "metadata": {
        "id": "view-in-github",
        "colab_type": "text"
      },
      "source": [
        "<a href=\"https://colab.research.google.com/github/Granero0011/DS-Unit-2-Sprint-2-Regression/blob/master/regression_diagnostics_assignment.ipynb\" target=\"_parent\"><img src=\"https://colab.research.google.com/assets/colab-badge.svg\" alt=\"Open In Colab\"/></a>"
      ]
    },
    {
      "metadata": {
        "colab_type": "text",
        "id": "pTkoSVmLhAZx"
      },
      "cell_type": "markdown",
      "source": [
        "# Regression Diagnostics\n",
        "\n",
        "The purpose of this assigment is introduce you to a new library for linear regression called statmodels which is much better suited for inferential modeling than sklearn. This assignment is also to familiarize yourself with some of most important procedures for improving the interpretability of regression coefficients. You will also perform important statistical tests that will help establish that whether or not important assumptions that safeguard the interpretability of OLS coefficients have been met. \n",
        "\n",
        "We will continue to use the Ames Housing Dataset so that you can focus on the techniques and not on cleaning/getting associated with a brand new dataset."
      ]
    },
    {
      "metadata": {
        "colab_type": "text",
        "id": "yb24I_Y0iC4M"
      },
      "cell_type": "markdown",
      "source": [
        "## 1.1 Choose an X and Y variable from your dataset and use them to create a Seaborn Regplot"
      ]
    },
    {
      "metadata": {
        "id": "h59Vqe467_ND",
        "colab_type": "code",
        "colab": {}
      },
      "cell_type": "code",
      "source": [
        "import pandas as pd\n",
        "import numpy as np\n",
        "import matplotlib.pyplot as plt\n",
        "import seaborn as sns\n",
        "import statsmodels.api as sm\n",
        "from scipy import stats"
      ],
      "execution_count": 0,
      "outputs": []
    },
    {
      "metadata": {
        "colab_type": "code",
        "id": "N0NCgQkHie-r",
        "colab": {}
      },
      "cell_type": "code",
      "source": [
        "df = pd.read_csv(\"https://raw.githubusercontent.com/ryanleeallred/datasets/master/kc_house_data.csv\")"
      ],
      "execution_count": 0,
      "outputs": []
    },
    {
      "metadata": {
        "id": "s4njqyLZitnG",
        "colab_type": "code",
        "colab": {
          "base_uri": "https://localhost:8080/",
          "height": 119
        },
        "outputId": "63896c1f-f437-41aa-b007-137e586c4dee"
      },
      "cell_type": "code",
      "source": [
        "# Most homes weren't renovated\n",
        "df['yr_renovated'].value_counts().head()"
      ],
      "execution_count": 81,
      "outputs": [
        {
          "output_type": "execute_result",
          "data": {
            "text/plain": [
              "0       20699\n",
              "2014       91\n",
              "2013       37\n",
              "2003       36\n",
              "2000       35\n",
              "Name: yr_renovated, dtype: int64"
            ]
          },
          "metadata": {
            "tags": []
          },
          "execution_count": 81
        }
      ]
    },
    {
      "metadata": {
        "id": "SFUd74xnixBT",
        "colab_type": "code",
        "colab": {}
      },
      "cell_type": "code",
      "source": [
        "# Drop columns that I don't care about\n",
        "df = df.drop(columns=['id','date','zipcode','lat','long','yr_renovated'])"
      ],
      "execution_count": 0,
      "outputs": []
    },
    {
      "metadata": {
        "id": "dXCUGi558O4n",
        "colab_type": "code",
        "colab": {
          "base_uri": "https://localhost:8080/",
          "height": 224
        },
        "outputId": "b85e18ad-c0d2-4c20-bb26-bf5badede891"
      },
      "cell_type": "code",
      "source": [
        "df.head()"
      ],
      "execution_count": 83,
      "outputs": [
        {
          "output_type": "execute_result",
          "data": {
            "text/html": [
              "<div>\n",
              "<style scoped>\n",
              "    .dataframe tbody tr th:only-of-type {\n",
              "        vertical-align: middle;\n",
              "    }\n",
              "\n",
              "    .dataframe tbody tr th {\n",
              "        vertical-align: top;\n",
              "    }\n",
              "\n",
              "    .dataframe thead th {\n",
              "        text-align: right;\n",
              "    }\n",
              "</style>\n",
              "<table border=\"1\" class=\"dataframe\">\n",
              "  <thead>\n",
              "    <tr style=\"text-align: right;\">\n",
              "      <th></th>\n",
              "      <th>price</th>\n",
              "      <th>bedrooms</th>\n",
              "      <th>bathrooms</th>\n",
              "      <th>sqft_living</th>\n",
              "      <th>sqft_lot</th>\n",
              "      <th>floors</th>\n",
              "      <th>waterfront</th>\n",
              "      <th>view</th>\n",
              "      <th>condition</th>\n",
              "      <th>grade</th>\n",
              "      <th>sqft_above</th>\n",
              "      <th>sqft_basement</th>\n",
              "      <th>yr_built</th>\n",
              "      <th>sqft_living15</th>\n",
              "      <th>sqft_lot15</th>\n",
              "    </tr>\n",
              "  </thead>\n",
              "  <tbody>\n",
              "    <tr>\n",
              "      <th>0</th>\n",
              "      <td>221900.0</td>\n",
              "      <td>3</td>\n",
              "      <td>1.00</td>\n",
              "      <td>1180</td>\n",
              "      <td>5650</td>\n",
              "      <td>1.0</td>\n",
              "      <td>0</td>\n",
              "      <td>0</td>\n",
              "      <td>3</td>\n",
              "      <td>7</td>\n",
              "      <td>1180</td>\n",
              "      <td>0</td>\n",
              "      <td>1955</td>\n",
              "      <td>1340</td>\n",
              "      <td>5650</td>\n",
              "    </tr>\n",
              "    <tr>\n",
              "      <th>1</th>\n",
              "      <td>538000.0</td>\n",
              "      <td>3</td>\n",
              "      <td>2.25</td>\n",
              "      <td>2570</td>\n",
              "      <td>7242</td>\n",
              "      <td>2.0</td>\n",
              "      <td>0</td>\n",
              "      <td>0</td>\n",
              "      <td>3</td>\n",
              "      <td>7</td>\n",
              "      <td>2170</td>\n",
              "      <td>400</td>\n",
              "      <td>1951</td>\n",
              "      <td>1690</td>\n",
              "      <td>7639</td>\n",
              "    </tr>\n",
              "    <tr>\n",
              "      <th>2</th>\n",
              "      <td>180000.0</td>\n",
              "      <td>2</td>\n",
              "      <td>1.00</td>\n",
              "      <td>770</td>\n",
              "      <td>10000</td>\n",
              "      <td>1.0</td>\n",
              "      <td>0</td>\n",
              "      <td>0</td>\n",
              "      <td>3</td>\n",
              "      <td>6</td>\n",
              "      <td>770</td>\n",
              "      <td>0</td>\n",
              "      <td>1933</td>\n",
              "      <td>2720</td>\n",
              "      <td>8062</td>\n",
              "    </tr>\n",
              "    <tr>\n",
              "      <th>3</th>\n",
              "      <td>604000.0</td>\n",
              "      <td>4</td>\n",
              "      <td>3.00</td>\n",
              "      <td>1960</td>\n",
              "      <td>5000</td>\n",
              "      <td>1.0</td>\n",
              "      <td>0</td>\n",
              "      <td>0</td>\n",
              "      <td>5</td>\n",
              "      <td>7</td>\n",
              "      <td>1050</td>\n",
              "      <td>910</td>\n",
              "      <td>1965</td>\n",
              "      <td>1360</td>\n",
              "      <td>5000</td>\n",
              "    </tr>\n",
              "    <tr>\n",
              "      <th>4</th>\n",
              "      <td>510000.0</td>\n",
              "      <td>3</td>\n",
              "      <td>2.00</td>\n",
              "      <td>1680</td>\n",
              "      <td>8080</td>\n",
              "      <td>1.0</td>\n",
              "      <td>0</td>\n",
              "      <td>0</td>\n",
              "      <td>3</td>\n",
              "      <td>8</td>\n",
              "      <td>1680</td>\n",
              "      <td>0</td>\n",
              "      <td>1987</td>\n",
              "      <td>1800</td>\n",
              "      <td>7503</td>\n",
              "    </tr>\n",
              "  </tbody>\n",
              "</table>\n",
              "</div>"
            ],
            "text/plain": [
              "      price  bedrooms  bathrooms  sqft_living  sqft_lot  floors  waterfront  \\\n",
              "0  221900.0         3       1.00         1180      5650     1.0           0   \n",
              "1  538000.0         3       2.25         2570      7242     2.0           0   \n",
              "2  180000.0         2       1.00          770     10000     1.0           0   \n",
              "3  604000.0         4       3.00         1960      5000     1.0           0   \n",
              "4  510000.0         3       2.00         1680      8080     1.0           0   \n",
              "\n",
              "   view  condition  grade  sqft_above  sqft_basement  yr_built  sqft_living15  \\\n",
              "0     0          3      7        1180              0      1955           1340   \n",
              "1     0          3      7        2170            400      1951           1690   \n",
              "2     0          3      6         770              0      1933           2720   \n",
              "3     0          5      7        1050            910      1965           1360   \n",
              "4     0          3      8        1680              0      1987           1800   \n",
              "\n",
              "   sqft_lot15  \n",
              "0        5650  \n",
              "1        7639  \n",
              "2        8062  \n",
              "3        5000  \n",
              "4        7503  "
            ]
          },
          "metadata": {
            "tags": []
          },
          "execution_count": 83
        }
      ]
    },
    {
      "metadata": {
        "id": "y7_53Pxr8Ykk",
        "colab_type": "code",
        "colab": {
          "base_uri": "https://localhost:8080/",
          "height": 272
        },
        "outputId": "40663a86-75e3-4a53-d62f-483f56c55b85"
      },
      "cell_type": "code",
      "source": [
        "df.columns.tolist()"
      ],
      "execution_count": 84,
      "outputs": [
        {
          "output_type": "execute_result",
          "data": {
            "text/plain": [
              "['price',\n",
              " 'bedrooms',\n",
              " 'bathrooms',\n",
              " 'sqft_living',\n",
              " 'sqft_lot',\n",
              " 'floors',\n",
              " 'waterfront',\n",
              " 'view',\n",
              " 'condition',\n",
              " 'grade',\n",
              " 'sqft_above',\n",
              " 'sqft_basement',\n",
              " 'yr_built',\n",
              " 'sqft_living15',\n",
              " 'sqft_lot15']"
            ]
          },
          "metadata": {
            "tags": []
          },
          "execution_count": 84
        }
      ]
    },
    {
      "metadata": {
        "id": "ixyScsZ58any",
        "colab_type": "code",
        "colab": {}
      },
      "cell_type": "code",
      "source": [
        ""
      ],
      "execution_count": 0,
      "outputs": []
    },
    {
      "metadata": {
        "colab_type": "text",
        "id": "cgbsV7K5igH1"
      },
      "cell_type": "markdown",
      "source": [
        "## 1.2 Now using the X variables that you feel like will be the best predictors of y use statsmodel to run the multiple regression between these variables and Y. You don't need to use every X variable in your dataset, in fact it's probably better if you don't. Just pick ones that you have already cleaned that seem the most relevant to house prices."
      ]
    },
    {
      "metadata": {
        "colab_type": "code",
        "id": "ar3WCTGTg5RZ",
        "colab": {}
      },
      "cell_type": "code",
      "source": [
        "#I picked sqft of living and Price"
      ],
      "execution_count": 0,
      "outputs": []
    },
    {
      "metadata": {
        "id": "-l5s6z3nBVjf",
        "colab_type": "code",
        "colab": {
          "base_uri": "https://localhost:8080/",
          "height": 119
        },
        "outputId": "c32b0909-d35c-450c-add3-3359b7959fec"
      },
      "cell_type": "code",
      "source": [
        "df['sqft_living'].head()"
      ],
      "execution_count": 86,
      "outputs": [
        {
          "output_type": "execute_result",
          "data": {
            "text/plain": [
              "0    1180\n",
              "1    2570\n",
              "2     770\n",
              "3    1960\n",
              "4    1680\n",
              "Name: sqft_living, dtype: int64"
            ]
          },
          "metadata": {
            "tags": []
          },
          "execution_count": 86
        }
      ]
    },
    {
      "metadata": {
        "id": "-ZwGMjJ4Bfg5",
        "colab_type": "code",
        "colab": {
          "base_uri": "https://localhost:8080/",
          "height": 34
        },
        "outputId": "862b8bf4-325d-406c-e213-fa6af85c889b"
      },
      "cell_type": "code",
      "source": [
        "df['sqft_living'].isnull().sum()"
      ],
      "execution_count": 87,
      "outputs": [
        {
          "output_type": "execute_result",
          "data": {
            "text/plain": [
              "0"
            ]
          },
          "metadata": {
            "tags": []
          },
          "execution_count": 87
        }
      ]
    },
    {
      "metadata": {
        "id": "4rCM0rxbBlTx",
        "colab_type": "code",
        "colab": {
          "base_uri": "https://localhost:8080/",
          "height": 34
        },
        "outputId": "764489ba-40f6-4453-993a-a0c050911d0b"
      },
      "cell_type": "code",
      "source": [
        "df['price'].isnull().sum()"
      ],
      "execution_count": 88,
      "outputs": [
        {
          "output_type": "execute_result",
          "data": {
            "text/plain": [
              "0"
            ]
          },
          "metadata": {
            "tags": []
          },
          "execution_count": 88
        }
      ]
    },
    {
      "metadata": {
        "id": "5ds7HuO4Dptl",
        "colab_type": "code",
        "colab": {}
      },
      "cell_type": "code",
      "source": [
        "X= df['sqft_living']\n",
        "y= df['price']"
      ],
      "execution_count": 0,
      "outputs": []
    },
    {
      "metadata": {
        "id": "v2v7ZmJYBssl",
        "colab_type": "code",
        "colab": {
          "base_uri": "https://localhost:8080/",
          "height": 530
        },
        "outputId": "e9353a90-065f-4b54-e4f0-43b97d04683d"
      },
      "cell_type": "code",
      "source": [
        "# Use Statsmodels to run a regression\n",
        "model = sm.OLS(y, sm.add_constant(X))\n",
        "results = model.fit()\n",
        "print(results.summary())"
      ],
      "execution_count": 90,
      "outputs": [
        {
          "output_type": "stream",
          "text": [
            "                            OLS Regression Results                            \n",
            "==============================================================================\n",
            "Dep. Variable:                  price   R-squared:                       0.493\n",
            "Model:                            OLS   Adj. R-squared:                  0.493\n",
            "Method:                 Least Squares   F-statistic:                 2.100e+04\n",
            "Date:                Wed, 01 May 2019   Prob (F-statistic):               0.00\n",
            "Time:                        22:55:49   Log-Likelihood:            -3.0027e+05\n",
            "No. Observations:               21613   AIC:                         6.005e+05\n",
            "Df Residuals:                   21611   BIC:                         6.006e+05\n",
            "Df Model:                           1                                         \n",
            "Covariance Type:            nonrobust                                         \n",
            "===============================================================================\n",
            "                  coef    std err          t      P>|t|      [0.025      0.975]\n",
            "-------------------------------------------------------------------------------\n",
            "const       -4.358e+04   4402.690     -9.899      0.000   -5.22e+04    -3.5e+04\n",
            "sqft_living   280.6236      1.936    144.920      0.000     276.828     284.419\n",
            "==============================================================================\n",
            "Omnibus:                    14832.490   Durbin-Watson:                   1.983\n",
            "Prob(Omnibus):                  0.000   Jarque-Bera (JB):           546444.713\n",
            "Skew:                           2.824   Prob(JB):                         0.00\n",
            "Kurtosis:                      26.977   Cond. No.                     5.63e+03\n",
            "==============================================================================\n",
            "\n",
            "Warnings:\n",
            "[1] Standard Errors assume that the covariance matrix of the errors is correctly specified.\n",
            "[2] The condition number is large, 5.63e+03. This might indicate that there are\n",
            "strong multicollinearity or other numerical problems.\n"
          ],
          "name": "stdout"
        },
        {
          "output_type": "stream",
          "text": [
            "/usr/local/lib/python3.6/dist-packages/numpy/core/fromnumeric.py:2389: FutureWarning: Method .ptp is deprecated and will be removed in a future version. Use numpy.ptp instead.\n",
            "  return ptp(axis=axis, out=out, **kwargs)\n"
          ],
          "name": "stderr"
        }
      ]
    },
    {
      "metadata": {
        "id": "Ld3EdgBUQ6ea",
        "colab_type": "code",
        "colab": {
          "base_uri": "https://localhost:8080/",
          "height": 284
        },
        "outputId": "f7934399-d488-46c1-938e-c51d227b875e"
      },
      "cell_type": "code",
      "source": [
        "sns.scatterplot(x='sqft_living', y='price', data=df, alpha=0.1)\n",
        "plt.show()"
      ],
      "execution_count": 91,
      "outputs": [
        {
          "output_type": "display_data",
          "data": {
            "image/png": "[encoded data removed]",
            "text/plain": [
              "<Figure size 432x288 with 1 Axes>"
            ]
          },
          "metadata": {
            "tags": []
          }
        }
      ]
    },
    {
      "metadata": {
        "id": "LTks4lOjRR22",
        "colab_type": "code",
        "colab": {
          "base_uri": "https://localhost:8080/",
          "height": 284
        },
        "outputId": "c39078c5-736b-4d25-f0eb-800758f8c6c6"
      },
      "cell_type": "code",
      "source": [
        "sns.scatterplot(x='yr_built', y='price', data=df, alpha=0.1)\n",
        "plt.show()"
      ],
      "execution_count": 92,
      "outputs": [
        {
          "output_type": "display_data",
          "data": {
            "image/png": "[encoded data removed]",
            "text/plain": [
              "<Figure size 432x288 with 1 Axes>"
            ]
          },
          "metadata": {
            "tags": []
          }
        }
      ]
    },
    {
      "metadata": {
        "colab_type": "text",
        "id": "6YR3PgK8jA8t"
      },
      "cell_type": "markdown",
      "source": [
        "## 1.3 Identify the standard errors and P-Values of these coefficients in the output table. What is the interpretation of the P-values here?"
      ]
    },
    {
      "metadata": {
        "colab_type": "code",
        "id": "0XvwOWlUjPyf",
        "colab": {}
      },
      "cell_type": "code",
      "source": [
        ""
      ],
      "execution_count": 0,
      "outputs": []
    },
    {
      "metadata": {
        "colab_type": "text",
        "id": "6DREQUkmjQKM"
      },
      "cell_type": "markdown",
      "source": [
        "## 1.4 Remove outliers from your dataset and run the regression again. Do you see a change in some coefficients? Which seem to move the most?"
      ]
    },
    {
      "metadata": {
        "colab_type": "code",
        "id": "K6yJ9c12jXvC",
        "colab": {
          "base_uri": "https://localhost:8080/",
          "height": 51
        },
        "outputId": "40b13744-0e30-437b-cb4b-1045e0eb6b0b"
      },
      "cell_type": "code",
      "source": [
        "print(df.shape)\n",
        "df = df[(np.abs(stats.zscore(df)) < 3).all(axis=1)]\n",
        "print(df.shape)\n"
      ],
      "execution_count": 93,
      "outputs": [
        {
          "output_type": "stream",
          "text": [
            "(21613, 15)\n",
            "(19628, 15)\n"
          ],
          "name": "stdout"
        }
      ]
    },
    {
      "metadata": {
        "id": "nxRpMeq-i2UJ",
        "colab_type": "code",
        "colab": {
          "base_uri": "https://localhost:8080/",
          "height": 530
        },
        "outputId": "09e57a2e-a1f0-425c-c96e-2dbac4f48608"
      },
      "cell_type": "code",
      "source": [
        "X=df['sqft_living']\n",
        "y=df['price']\n",
        "\n",
        "model = sm.OLS(y, sm.add_constant(X))\n",
        "results = model.fit()\n",
        "print(results.summary())"
      ],
      "execution_count": 94,
      "outputs": [
        {
          "output_type": "stream",
          "text": [
            "                            OLS Regression Results                            \n",
            "==============================================================================\n",
            "Dep. Variable:                  price   R-squared:                       0.387\n",
            "Model:                            OLS   Adj. R-squared:                  0.387\n",
            "Method:                 Least Squares   F-statistic:                 1.242e+04\n",
            "Date:                Wed, 01 May 2019   Prob (F-statistic):               0.00\n",
            "Time:                        22:55:50   Log-Likelihood:            -2.6575e+05\n",
            "No. Observations:               19628   AIC:                         5.315e+05\n",
            "Df Residuals:                   19626   BIC:                         5.315e+05\n",
            "Df Model:                           1                                         \n",
            "Covariance Type:            nonrobust                                         \n",
            "===============================================================================\n",
            "                  coef    std err          t      P>|t|      [0.025      0.975]\n",
            "-------------------------------------------------------------------------------\n",
            "const        9.843e+04   3701.811     26.590      0.000    9.12e+04    1.06e+05\n",
            "sqft_living   197.6736      1.774    111.429      0.000     194.196     201.151\n",
            "==============================================================================\n",
            "Omnibus:                     3479.902   Durbin-Watson:                   1.966\n",
            "Prob(Omnibus):                  0.000   Jarque-Bera (JB):             7830.761\n",
            "Skew:                           1.025   Prob(JB):                         0.00\n",
            "Kurtosis:                       5.318   Cond. No.                     5.89e+03\n",
            "==============================================================================\n",
            "\n",
            "Warnings:\n",
            "[1] Standard Errors assume that the covariance matrix of the errors is correctly specified.\n",
            "[2] The condition number is large, 5.89e+03. This might indicate that there are\n",
            "strong multicollinearity or other numerical problems.\n"
          ],
          "name": "stdout"
        },
        {
          "output_type": "stream",
          "text": [
            "/usr/local/lib/python3.6/dist-packages/numpy/core/fromnumeric.py:2389: FutureWarning: Method .ptp is deprecated and will be removed in a future version. Use numpy.ptp instead.\n",
            "  return ptp(axis=axis, out=out, **kwargs)\n"
          ],
          "name": "stderr"
        }
      ]
    },
    {
      "metadata": {
        "colab_type": "text",
        "id": "YR2zFM3ajX2O"
      },
      "cell_type": "markdown",
      "source": [
        "## 1.5 Create a new log(y) variable and use it to run a log-linear regression of your variables using statmodels "
      ]
    },
    {
      "metadata": {
        "colab_type": "code",
        "id": "G3ISRRvwjwkr",
        "colab": {}
      },
      "cell_type": "code",
      "source": [
        "df['ln_price'] = np.log(df['price'])"
      ],
      "execution_count": 0,
      "outputs": []
    },
    {
      "metadata": {
        "id": "fNEk-rgLjc8f",
        "colab_type": "code",
        "colab": {
          "base_uri": "https://localhost:8080/",
          "height": 530
        },
        "outputId": "7e30aa44-c3b8-4f0a-c83e-341f40c5ffda"
      },
      "cell_type": "code",
      "source": [
        "\n",
        "y = df['ln_price']\n",
        "model = sm.OLS(y, sm.add_constant(X))\n",
        "results = model.fit()\n",
        "print(results.summary())"
      ],
      "execution_count": 96,
      "outputs": [
        {
          "output_type": "stream",
          "text": [
            "                            OLS Regression Results                            \n",
            "==============================================================================\n",
            "Dep. Variable:               ln_price   R-squared:                       0.382\n",
            "Model:                            OLS   Adj. R-squared:                  0.381\n",
            "Method:                 Least Squares   F-statistic:                 1.211e+04\n",
            "Date:                Wed, 01 May 2019   Prob (F-statistic):               0.00\n",
            "Time:                        22:55:50   Log-Likelihood:                -8016.0\n",
            "No. Observations:               19628   AIC:                         1.604e+04\n",
            "Df Residuals:                   19626   BIC:                         1.605e+04\n",
            "Df Model:                           1                                         \n",
            "Covariance Type:            nonrobust                                         \n",
            "===============================================================================\n",
            "                  coef    std err          t      P>|t|      [0.025      0.975]\n",
            "-------------------------------------------------------------------------------\n",
            "const          12.2278      0.007   1665.779      0.000      12.213      12.242\n",
            "sqft_living     0.0004   3.52e-06    110.027      0.000       0.000       0.000\n",
            "==============================================================================\n",
            "Omnibus:                      147.787   Durbin-Watson:                   1.974\n",
            "Prob(Omnibus):                  0.000   Jarque-Bera (JB):               99.990\n",
            "Skew:                          -0.015   Prob(JB):                     1.94e-22\n",
            "Kurtosis:                       2.652   Cond. No.                     5.89e+03\n",
            "==============================================================================\n",
            "\n",
            "Warnings:\n",
            "[1] Standard Errors assume that the covariance matrix of the errors is correctly specified.\n",
            "[2] The condition number is large, 5.89e+03. This might indicate that there are\n",
            "strong multicollinearity or other numerical problems.\n"
          ],
          "name": "stdout"
        },
        {
          "output_type": "stream",
          "text": [
            "/usr/local/lib/python3.6/dist-packages/numpy/core/fromnumeric.py:2389: FutureWarning: Method .ptp is deprecated and will be removed in a future version. Use numpy.ptp instead.\n",
            "  return ptp(axis=axis, out=out, **kwargs)\n"
          ],
          "name": "stderr"
        }
      ]
    },
    {
      "metadata": {
        "colab_type": "text",
        "id": "PVRSM3p1jwyu"
      },
      "cell_type": "markdown",
      "source": [
        "## 2.1 Run a test for high levels of collinearity in your dataset. Calculate the Variance Inflation Factor for each X variable. Do you see VIF values greater than ten? If so try omitting those X variables and run your regression again. Do the standard errors change? Do the coefficients change? Do the coefficients seem to have an interpretation that matches your intuition?"
      ]
    },
    {
      "metadata": {
        "colab_type": "code",
        "id": "I_Q9_rx6kQzM",
        "colab": {
          "base_uri": "https://localhost:8080/",
          "height": 122
        },
        "outputId": "dabaa32b-2696-4085-c04c-c54501cf719c"
      },
      "cell_type": "code",
      "source": [
        "from statsmodels.stats.outliers_influence import variance_inflation_factor\n",
        "\n",
        "features = ['bedrooms', 'bathrooms', 'sqft_living', 'sqft_lot', \n",
        "            'floors', 'waterfront', 'view', 'condition', 'grade', \n",
        "            'sqft_above', 'sqft_basement', 'yr_built', \n",
        "            'sqft_living15', 'sqft_lot15']\n",
        "\n",
        "X = sm.add_constant(X)\n",
        "vif = [variance_inflation_factor(X.values, i) for i in range(len(X.columns))]\n",
        "pd.Series(vif, X.columns)"
      ],
      "execution_count": 111,
      "outputs": [
        {
          "output_type": "stream",
          "text": [
            "/usr/local/lib/python3.6/dist-packages/numpy/core/fromnumeric.py:2389: FutureWarning: Method .ptp is deprecated and will be removed in a future version. Use numpy.ptp instead.\n",
            "  return ptp(axis=axis, out=out, **kwargs)\n"
          ],
          "name": "stderr"
        },
        {
          "output_type": "execute_result",
          "data": {
            "text/plain": [
              "const          7.980614\n",
              "sqft_living    1.000000\n",
              "dtype: float64"
            ]
          },
          "metadata": {
            "tags": []
          },
          "execution_count": 111
        }
      ]
    },
    {
      "metadata": {
        "colab_type": "text",
        "id": "I7EJafYokQ9Z"
      },
      "cell_type": "markdown",
      "source": [
        "## 2.2 Variables that have high levels of multicollinearity should also be highly correlated with each other. Calculate your X matrix's correlation matrix to check if the variables highlighted by the VIF test truly are highly correlated."
      ]
    },
    {
      "metadata": {
        "colab_type": "code",
        "id": "sxOW6Y5EkoCG",
        "colab": {
          "base_uri": "https://localhost:8080/",
          "height": 565
        },
        "outputId": "b24f8d46-1810-4f85-866d-2be552081f70"
      },
      "cell_type": "code",
      "source": [
        "df.corr()"
      ],
      "execution_count": 112,
      "outputs": [
        {
          "output_type": "execute_result",
          "data": {
            "text/html": [
              "<div>\n",
              "<style scoped>\n",
              "    .dataframe tbody tr th:only-of-type {\n",
              "        vertical-align: middle;\n",
              "    }\n",
              "\n",
              "    .dataframe tbody tr th {\n",
              "        vertical-align: top;\n",
              "    }\n",
              "\n",
              "    .dataframe thead th {\n",
              "        text-align: right;\n",
              "    }\n",
              "</style>\n",
              "<table border=\"1\" class=\"dataframe\">\n",
              "  <thead>\n",
              "    <tr style=\"text-align: right;\">\n",
              "      <th></th>\n",
              "      <th>price</th>\n",
              "      <th>bedrooms</th>\n",
              "      <th>bathrooms</th>\n",
              "      <th>sqft_living</th>\n",
              "      <th>sqft_lot</th>\n",
              "      <th>floors</th>\n",
              "      <th>waterfront</th>\n",
              "      <th>view</th>\n",
              "      <th>condition</th>\n",
              "      <th>grade</th>\n",
              "      <th>sqft_above</th>\n",
              "      <th>sqft_basement</th>\n",
              "      <th>yr_built</th>\n",
              "      <th>sqft_living15</th>\n",
              "      <th>sqft_lot15</th>\n",
              "      <th>ln_price</th>\n",
              "    </tr>\n",
              "  </thead>\n",
              "  <tbody>\n",
              "    <tr>\n",
              "      <th>price</th>\n",
              "      <td>1.000000</td>\n",
              "      <td>0.304087</td>\n",
              "      <td>0.450983</td>\n",
              "      <td>0.622494</td>\n",
              "      <td>0.090318</td>\n",
              "      <td>0.278463</td>\n",
              "      <td>NaN</td>\n",
              "      <td>0.192860</td>\n",
              "      <td>0.041073</td>\n",
              "      <td>0.633286</td>\n",
              "      <td>0.528173</td>\n",
              "      <td>0.224491</td>\n",
              "      <td>0.038711</td>\n",
              "      <td>0.542628</td>\n",
              "      <td>0.080772</td>\n",
              "      <td>0.953864</td>\n",
              "    </tr>\n",
              "    <tr>\n",
              "      <th>bedrooms</th>\n",
              "      <td>0.304087</td>\n",
              "      <td>1.000000</td>\n",
              "      <td>0.493379</td>\n",
              "      <td>0.608228</td>\n",
              "      <td>0.103306</td>\n",
              "      <td>0.166501</td>\n",
              "      <td>NaN</td>\n",
              "      <td>0.040712</td>\n",
              "      <td>0.022108</td>\n",
              "      <td>0.333969</td>\n",
              "      <td>0.485218</td>\n",
              "      <td>0.275338</td>\n",
              "      <td>0.167137</td>\n",
              "      <td>0.399157</td>\n",
              "      <td>0.101834</td>\n",
              "      <td>0.310882</td>\n",
              "    </tr>\n",
              "    <tr>\n",
              "      <th>bathrooms</th>\n",
              "      <td>0.450983</td>\n",
              "      <td>0.493379</td>\n",
              "      <td>1.000000</td>\n",
              "      <td>0.712664</td>\n",
              "      <td>0.057161</td>\n",
              "      <td>0.517027</td>\n",
              "      <td>NaN</td>\n",
              "      <td>0.074900</td>\n",
              "      <td>-0.143999</td>\n",
              "      <td>0.617101</td>\n",
              "      <td>0.631119</td>\n",
              "      <td>0.209021</td>\n",
              "      <td>0.547884</td>\n",
              "      <td>0.529641</td>\n",
              "      <td>0.059927</td>\n",
              "      <td>0.469904</td>\n",
              "    </tr>\n",
              "    <tr>\n",
              "      <th>sqft_living</th>\n",
              "      <td>0.622494</td>\n",
              "      <td>0.608228</td>\n",
              "      <td>0.712664</td>\n",
              "      <td>1.000000</td>\n",
              "      <td>0.220521</td>\n",
              "      <td>0.361725</td>\n",
              "      <td>NaN</td>\n",
              "      <td>0.131191</td>\n",
              "      <td>-0.074589</td>\n",
              "      <td>0.706916</td>\n",
              "      <td>0.856115</td>\n",
              "      <td>0.346771</td>\n",
              "      <td>0.347315</td>\n",
              "      <td>0.738594</td>\n",
              "      <td>0.221175</td>\n",
              "      <td>0.617664</td>\n",
              "    </tr>\n",
              "    <tr>\n",
              "      <th>sqft_lot</th>\n",
              "      <td>0.090318</td>\n",
              "      <td>0.103306</td>\n",
              "      <td>0.057161</td>\n",
              "      <td>0.220521</td>\n",
              "      <td>1.000000</td>\n",
              "      <td>-0.098440</td>\n",
              "      <td>NaN</td>\n",
              "      <td>0.026474</td>\n",
              "      <td>0.039000</td>\n",
              "      <td>0.131567</td>\n",
              "      <td>0.209609</td>\n",
              "      <td>0.038688</td>\n",
              "      <td>0.030672</td>\n",
              "      <td>0.259295</td>\n",
              "      <td>0.817261</td>\n",
              "      <td>0.088962</td>\n",
              "    </tr>\n",
              "    <tr>\n",
              "      <th>floors</th>\n",
              "      <td>0.278463</td>\n",
              "      <td>0.166501</td>\n",
              "      <td>0.517027</td>\n",
              "      <td>0.361725</td>\n",
              "      <td>-0.098440</td>\n",
              "      <td>1.000000</td>\n",
              "      <td>NaN</td>\n",
              "      <td>-0.008950</td>\n",
              "      <td>-0.279074</td>\n",
              "      <td>0.472125</td>\n",
              "      <td>0.540394</td>\n",
              "      <td>-0.293306</td>\n",
              "      <td>0.507556</td>\n",
              "      <td>0.279395</td>\n",
              "      <td>-0.102452</td>\n",
              "      <td>0.298237</td>\n",
              "    </tr>\n",
              "    <tr>\n",
              "      <th>waterfront</th>\n",
              "      <td>NaN</td>\n",
              "      <td>NaN</td>\n",
              "      <td>NaN</td>\n",
              "      <td>NaN</td>\n",
              "      <td>NaN</td>\n",
              "      <td>NaN</td>\n",
              "      <td>NaN</td>\n",
              "      <td>NaN</td>\n",
              "      <td>NaN</td>\n",
              "      <td>NaN</td>\n",
              "      <td>NaN</td>\n",
              "      <td>NaN</td>\n",
              "      <td>NaN</td>\n",
              "      <td>NaN</td>\n",
              "      <td>NaN</td>\n",
              "      <td>NaN</td>\n",
              "    </tr>\n",
              "    <tr>\n",
              "      <th>view</th>\n",
              "      <td>0.192860</td>\n",
              "      <td>0.040712</td>\n",
              "      <td>0.074900</td>\n",
              "      <td>0.131191</td>\n",
              "      <td>0.026474</td>\n",
              "      <td>-0.008950</td>\n",
              "      <td>NaN</td>\n",
              "      <td>1.000000</td>\n",
              "      <td>0.029044</td>\n",
              "      <td>0.111648</td>\n",
              "      <td>0.050666</td>\n",
              "      <td>0.157383</td>\n",
              "      <td>-0.065941</td>\n",
              "      <td>0.144636</td>\n",
              "      <td>0.018006</td>\n",
              "      <td>0.179163</td>\n",
              "    </tr>\n",
              "    <tr>\n",
              "      <th>condition</th>\n",
              "      <td>0.041073</td>\n",
              "      <td>0.022108</td>\n",
              "      <td>-0.143999</td>\n",
              "      <td>-0.074589</td>\n",
              "      <td>0.039000</td>\n",
              "      <td>-0.279074</td>\n",
              "      <td>NaN</td>\n",
              "      <td>0.029044</td>\n",
              "      <td>1.000000</td>\n",
              "      <td>-0.177021</td>\n",
              "      <td>-0.179416</td>\n",
              "      <td>0.183872</td>\n",
              "      <td>-0.369451</td>\n",
              "      <td>-0.112920</td>\n",
              "      <td>0.046611</td>\n",
              "      <td>0.034245</td>\n",
              "    </tr>\n",
              "    <tr>\n",
              "      <th>grade</th>\n",
              "      <td>0.633286</td>\n",
              "      <td>0.333969</td>\n",
              "      <td>0.617101</td>\n",
              "      <td>0.706916</td>\n",
              "      <td>0.131567</td>\n",
              "      <td>0.472125</td>\n",
              "      <td>NaN</td>\n",
              "      <td>0.111648</td>\n",
              "      <td>-0.177021</td>\n",
              "      <td>1.000000</td>\n",
              "      <td>0.710706</td>\n",
              "      <td>0.053650</td>\n",
              "      <td>0.478221</td>\n",
              "      <td>0.670352</td>\n",
              "      <td>0.146998</td>\n",
              "      <td>0.633236</td>\n",
              "    </tr>\n",
              "    <tr>\n",
              "      <th>sqft_above</th>\n",
              "      <td>0.528173</td>\n",
              "      <td>0.485218</td>\n",
              "      <td>0.631119</td>\n",
              "      <td>0.856115</td>\n",
              "      <td>0.209609</td>\n",
              "      <td>0.540394</td>\n",
              "      <td>NaN</td>\n",
              "      <td>0.050666</td>\n",
              "      <td>-0.179416</td>\n",
              "      <td>0.710706</td>\n",
              "      <td>1.000000</td>\n",
              "      <td>-0.187843</td>\n",
              "      <td>0.454546</td>\n",
              "      <td>0.721808</td>\n",
              "      <td>0.216268</td>\n",
              "      <td>0.518227</td>\n",
              "    </tr>\n",
              "    <tr>\n",
              "      <th>sqft_basement</th>\n",
              "      <td>0.224491</td>\n",
              "      <td>0.275338</td>\n",
              "      <td>0.209021</td>\n",
              "      <td>0.346771</td>\n",
              "      <td>0.038688</td>\n",
              "      <td>-0.293306</td>\n",
              "      <td>NaN</td>\n",
              "      <td>0.157383</td>\n",
              "      <td>0.183872</td>\n",
              "      <td>0.053650</td>\n",
              "      <td>-0.187843</td>\n",
              "      <td>1.000000</td>\n",
              "      <td>-0.164882</td>\n",
              "      <td>0.093706</td>\n",
              "      <td>0.027843</td>\n",
              "      <td>0.233361</td>\n",
              "    </tr>\n",
              "    <tr>\n",
              "      <th>yr_built</th>\n",
              "      <td>0.038711</td>\n",
              "      <td>0.167137</td>\n",
              "      <td>0.547884</td>\n",
              "      <td>0.347315</td>\n",
              "      <td>0.030672</td>\n",
              "      <td>0.507556</td>\n",
              "      <td>NaN</td>\n",
              "      <td>-0.065941</td>\n",
              "      <td>-0.369451</td>\n",
              "      <td>0.478221</td>\n",
              "      <td>0.454546</td>\n",
              "      <td>-0.164882</td>\n",
              "      <td>1.000000</td>\n",
              "      <td>0.352607</td>\n",
              "      <td>0.051395</td>\n",
              "      <td>0.062785</td>\n",
              "    </tr>\n",
              "    <tr>\n",
              "      <th>sqft_living15</th>\n",
              "      <td>0.542628</td>\n",
              "      <td>0.399157</td>\n",
              "      <td>0.529641</td>\n",
              "      <td>0.738594</td>\n",
              "      <td>0.259295</td>\n",
              "      <td>0.279395</td>\n",
              "      <td>NaN</td>\n",
              "      <td>0.144636</td>\n",
              "      <td>-0.112920</td>\n",
              "      <td>0.670352</td>\n",
              "      <td>0.721808</td>\n",
              "      <td>0.093706</td>\n",
              "      <td>0.352607</td>\n",
              "      <td>1.000000</td>\n",
              "      <td>0.286385</td>\n",
              "      <td>0.545488</td>\n",
              "    </tr>\n",
              "    <tr>\n",
              "      <th>sqft_lot15</th>\n",
              "      <td>0.080772</td>\n",
              "      <td>0.101834</td>\n",
              "      <td>0.059927</td>\n",
              "      <td>0.221175</td>\n",
              "      <td>0.817261</td>\n",
              "      <td>-0.102452</td>\n",
              "      <td>NaN</td>\n",
              "      <td>0.018006</td>\n",
              "      <td>0.046611</td>\n",
              "      <td>0.146998</td>\n",
              "      <td>0.216268</td>\n",
              "      <td>0.027843</td>\n",
              "      <td>0.051395</td>\n",
              "      <td>0.286385</td>\n",
              "      <td>1.000000</td>\n",
              "      <td>0.077657</td>\n",
              "    </tr>\n",
              "    <tr>\n",
              "      <th>ln_price</th>\n",
              "      <td>0.953864</td>\n",
              "      <td>0.310882</td>\n",
              "      <td>0.469904</td>\n",
              "      <td>0.617664</td>\n",
              "      <td>0.088962</td>\n",
              "      <td>0.298237</td>\n",
              "      <td>NaN</td>\n",
              "      <td>0.179163</td>\n",
              "      <td>0.034245</td>\n",
              "      <td>0.633236</td>\n",
              "      <td>0.518227</td>\n",
              "      <td>0.233361</td>\n",
              "      <td>0.062785</td>\n",
              "      <td>0.545488</td>\n",
              "      <td>0.077657</td>\n",
              "      <td>1.000000</td>\n",
              "    </tr>\n",
              "  </tbody>\n",
              "</table>\n",
              "</div>"
            ],
            "text/plain": [
              "                  price  bedrooms  bathrooms  sqft_living  sqft_lot    floors  \\\n",
              "price          1.000000  0.304087   0.450983     0.622494  0.090318  0.278463   \n",
              "bedrooms       0.304087  1.000000   0.493379     0.608228  0.103306  0.166501   \n",
              "bathrooms      0.450983  0.493379   1.000000     0.712664  0.057161  0.517027   \n",
              "sqft_living    0.622494  0.608228   0.712664     1.000000  0.220521  0.361725   \n",
              "sqft_lot       0.090318  0.103306   0.057161     0.220521  1.000000 -0.098440   \n",
              "floors         0.278463  0.166501   0.517027     0.361725 -0.098440  1.000000   \n",
              "waterfront          NaN       NaN        NaN          NaN       NaN       NaN   \n",
              "view           0.192860  0.040712   0.074900     0.131191  0.026474 -0.008950   \n",
              "condition      0.041073  0.022108  -0.143999    -0.074589  0.039000 -0.279074   \n",
              "grade          0.633286  0.333969   0.617101     0.706916  0.131567  0.472125   \n",
              "sqft_above     0.528173  0.485218   0.631119     0.856115  0.209609  0.540394   \n",
              "sqft_basement  0.224491  0.275338   0.209021     0.346771  0.038688 -0.293306   \n",
              "yr_built       0.038711  0.167137   0.547884     0.347315  0.030672  0.507556   \n",
              "sqft_living15  0.542628  0.399157   0.529641     0.738594  0.259295  0.279395   \n",
              "sqft_lot15     0.080772  0.101834   0.059927     0.221175  0.817261 -0.102452   \n",
              "ln_price       0.953864  0.310882   0.469904     0.617664  0.088962  0.298237   \n",
              "\n",
              "               waterfront      view  condition     grade  sqft_above  \\\n",
              "price                 NaN  0.192860   0.041073  0.633286    0.528173   \n",
              "bedrooms              NaN  0.040712   0.022108  0.333969    0.485218   \n",
              "bathrooms             NaN  0.074900  -0.143999  0.617101    0.631119   \n",
              "sqft_living           NaN  0.131191  -0.074589  0.706916    0.856115   \n",
              "sqft_lot              NaN  0.026474   0.039000  0.131567    0.209609   \n",
              "floors                NaN -0.008950  -0.279074  0.472125    0.540394   \n",
              "waterfront            NaN       NaN        NaN       NaN         NaN   \n",
              "view                  NaN  1.000000   0.029044  0.111648    0.050666   \n",
              "condition             NaN  0.029044   1.000000 -0.177021   -0.179416   \n",
              "grade                 NaN  0.111648  -0.177021  1.000000    0.710706   \n",
              "sqft_above            NaN  0.050666  -0.179416  0.710706    1.000000   \n",
              "sqft_basement         NaN  0.157383   0.183872  0.053650   -0.187843   \n",
              "yr_built              NaN -0.065941  -0.369451  0.478221    0.454546   \n",
              "sqft_living15         NaN  0.144636  -0.112920  0.670352    0.721808   \n",
              "sqft_lot15            NaN  0.018006   0.046611  0.146998    0.216268   \n",
              "ln_price              NaN  0.179163   0.034245  0.633236    0.518227   \n",
              "\n",
              "               sqft_basement  yr_built  sqft_living15  sqft_lot15  ln_price  \n",
              "price               0.224491  0.038711       0.542628    0.080772  0.953864  \n",
              "bedrooms            0.275338  0.167137       0.399157    0.101834  0.310882  \n",
              "bathrooms           0.209021  0.547884       0.529641    0.059927  0.469904  \n",
              "sqft_living         0.346771  0.347315       0.738594    0.221175  0.617664  \n",
              "sqft_lot            0.038688  0.030672       0.259295    0.817261  0.088962  \n",
              "floors             -0.293306  0.507556       0.279395   -0.102452  0.298237  \n",
              "waterfront               NaN       NaN            NaN         NaN       NaN  \n",
              "view                0.157383 -0.065941       0.144636    0.018006  0.179163  \n",
              "condition           0.183872 -0.369451      -0.112920    0.046611  0.034245  \n",
              "grade               0.053650  0.478221       0.670352    0.146998  0.633236  \n",
              "sqft_above         -0.187843  0.454546       0.721808    0.216268  0.518227  \n",
              "sqft_basement       1.000000 -0.164882       0.093706    0.027843  0.233361  \n",
              "yr_built           -0.164882  1.000000       0.352607    0.051395  0.062785  \n",
              "sqft_living15       0.093706  0.352607       1.000000    0.286385  0.545488  \n",
              "sqft_lot15          0.027843  0.051395       0.286385    1.000000  0.077657  \n",
              "ln_price            0.233361  0.062785       0.545488    0.077657  1.000000  "
            ]
          },
          "metadata": {
            "tags": []
          },
          "execution_count": 112
        }
      ]
    },
    {
      "metadata": {
        "colab_type": "text",
        "id": "pekJWvLzkoRu"
      },
      "cell_type": "markdown",
      "source": [
        "## 2.3 If you have variables with high Variance Inflation Factors, try excluding them from your regression. Do your standard errors improve? (get smaller). If high levels of multicollinearity are removed, the precision of the dataset should increase."
      ]
    },
    {
      "metadata": {
        "colab_type": "code",
        "id": "3RsG6Fo2p1v7",
        "colab": {}
      },
      "cell_type": "code",
      "source": [
        "##### Your Code Here #####"
      ],
      "execution_count": 0,
      "outputs": []
    },
    {
      "metadata": {
        "colab_type": "text",
        "id": "AH_XQh5mp1E2"
      },
      "cell_type": "markdown",
      "source": [
        "## 2.4 Recalculate your regression using Robust Standard Errors? What happens to your standard errors?"
      ]
    },
    {
      "metadata": {
        "colab_type": "code",
        "id": "JdQ3N-vRktaY",
        "colab": {}
      },
      "cell_type": "code",
      "source": [
        "##### Your Code Here #####"
      ],
      "execution_count": 0,
      "outputs": []
    },
    {
      "metadata": {
        "colab_type": "text",
        "id": "Bsq_CRqOpBSy"
      },
      "cell_type": "markdown",
      "source": [
        "## 2.5 Use scatterplots or Seaborn's pairplot functionality to perform an eyeball test for potential variables that would be candidates for generating polynomial regressors. "
      ]
    },
    {
      "metadata": {
        "colab_type": "code",
        "id": "jGkD_XIBpcSj",
        "colab": {}
      },
      "cell_type": "code",
      "source": [
        "##### Your Code Here #####"
      ],
      "execution_count": 0,
      "outputs": []
    },
    {
      "metadata": {
        "colab_type": "text",
        "id": "Tg3nQP3YpcxJ"
      },
      "cell_type": "markdown",
      "source": [
        "## 2.6 Use seaborn's residplot to plot the distribution of each x variable's residuals. Does these plots indicate any other features that would be potential candidates for polynomial features."
      ]
    },
    {
      "metadata": {
        "colab_type": "code",
        "id": "d7EDAAI0psaE",
        "colab": {}
      },
      "cell_type": "code",
      "source": [
        "##### Your Code Here #####"
      ],
      "execution_count": 0,
      "outputs": []
    },
    {
      "metadata": {
        "colab_type": "text",
        "id": "W0Y0wPNAps68"
      },
      "cell_type": "markdown",
      "source": [
        "## 2.6 Feature Engineer the appropriate polynomial features from your analysis above and include them in one final log-polynomial, robust standard error, regression. Do the coefficients of this most advanced regression match your intuition better than the coefficients of the very first regression that we ran with the Statmodels library?"
      ]
    },
    {
      "metadata": {
        "colab_type": "code",
        "id": "eaPcNaNaqVAj",
        "colab": {}
      },
      "cell_type": "code",
      "source": [
        "##### Your Code Here #####"
      ],
      "execution_count": 0,
      "outputs": []
    },
    {
      "metadata": {
        "colab_type": "text",
        "id": "MaNLIAtW9XDp"
      },
      "cell_type": "markdown",
      "source": [
        "# Stretch Goals\n",
        "\n",
        "- Research the assumptions that are required for OLS to be BLUE the \"Best Linear Unbiased Estimator\". You might try searching and trying to understand the conditions of what's called the Gauss-Markov Theorem.\n",
        "- Research other diagnostic tests. Can you show that residuals are normally distributed graphically?\n",
        "- Write a blog post about inferential modeling using linear regression."
      ]
    }
  ]
}