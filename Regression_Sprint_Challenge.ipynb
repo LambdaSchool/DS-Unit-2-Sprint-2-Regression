{
  "nbformat": 4,
  "nbformat_minor": 0,
  "metadata": {
    "colab": {
      "name": "Regression Sprint Challenge.ipynb",
      "version": "0.3.2",
      "provenance": [],
      "include_colab_link": true
    },
    "language_info": {
      "codemirror_mode": {
        "name": "ipython",
        "version": 3
      },
      "file_extension": ".py",
      "mimetype": "text/x-python",
      "name": "python",
      "nbconvert_exporter": "python",
      "pygments_lexer": "ipython3",
      "version": "3.7.1"
    },
    "kernelspec": {
      "display_name": "Python 3",
      "language": "python",
      "name": "python3"
    }
  },
  "cells": [
    {
      "cell_type": "markdown",
      "metadata": {
        "id": "view-in-github",
        "colab_type": "text"
      },
      "source": [
        "<a href=\"https://colab.research.google.com/github/DylanGraves/DS-Unit-2-Sprint-2-Regression/blob/master/Regression_Sprint_Challenge.ipynb\" target=\"_parent\"><img src=\"https://colab.research.google.com/assets/colab-badge.svg\" alt=\"Open In Colab\"/></a>"
      ]
    },
    {
      "cell_type": "markdown",
      "metadata": {
        "id": "CDiDyCc2NTC8",
        "colab_type": "text"
      },
      "source": [
        "_Lambda School Data Science_\n",
        "\n",
        "# Regression Sprint Challenge"
      ]
    },
    {
      "cell_type": "markdown",
      "metadata": {
        "id": "eCyegQ__NTDB",
        "colab_type": "text"
      },
      "source": [
        "For this Sprint Challenge, you'll predict the price of used cars. \n",
        "\n",
        "The dataset is real-world. It was collected from advertisements of cars for sale in the Ukraine in 2016.\n",
        "\n",
        "The following import statements have been provided for you, and should be sufficient. But you may not need to use every import. And you are permitted to make additional imports."
      ]
    },
    {
      "cell_type": "code",
      "metadata": {
        "colab_type": "code",
        "id": "YbiJuv5d2jZ7",
        "colab": {}
      },
      "source": [
        "%matplotlib inline\n",
        "import matplotlib.pyplot as plt\n",
        "import numpy as np\n",
        "import pandas as pd\n",
        "import seaborn as sns\n",
        "from sklearn.linear_model import LinearRegression\n",
        "from sklearn.metrics import mean_squared_error, r2_score\n",
        "from sklearn.model_selection import train_test_split\n",
        "from sklearn.tree import DecisionTreeRegressor\n",
        "import statsmodels.api as sm\n",
        "from statsmodels.stats.outliers_influence import variance_inflation_factor"
      ],
      "execution_count": 0,
      "outputs": []
    },
    {
      "cell_type": "markdown",
      "metadata": {
        "id": "cTy3saBYNTDP",
        "colab_type": "text"
      },
      "source": [
        "[The dataset](https://raw.githubusercontent.com/ryanleeallred/datasets/master/car_regression.csv) contains 8,495 rows and 9 variables:\n",
        "\n",
        "- make: manufacturer brand\n",
        "- price: seller’s price in advertisement (in USD)\n",
        "- body: car body type\n",
        "- mileage: as mentioned in advertisement (‘000 Km)\n",
        "- engV: rounded engine volume (‘000 cubic cm)\n",
        "- engType: type of fuel\n",
        "- registration: whether car registered in Ukraine or not\n",
        "- year: year of production\n",
        "- drive: drive type\n",
        "\n",
        "Run this cell to read the data:"
      ]
    },
    {
      "cell_type": "code",
      "metadata": {
        "colab_type": "code",
        "id": "FgaItuSL3zxO",
        "outputId": "10704272-bb17-4ea1-a4c6-9cbd813079b4",
        "colab": {
          "base_uri": "https://localhost:8080/",
          "height": 380
        }
      },
      "source": [
        "df = pd.read_csv('https://raw.githubusercontent.com/ryanleeallred/datasets/master/car_regression.csv')\n",
        "print(df.shape)\n",
        "df.sample(10)"
      ],
      "execution_count": 118,
      "outputs": [
        {
          "output_type": "stream",
          "text": [
            "(8495, 9)\n"
          ],
          "name": "stdout"
        },
        {
          "output_type": "execute_result",
          "data": {
            "text/html": [
              "<div>\n",
              "<style scoped>\n",
              "    .dataframe tbody tr th:only-of-type {\n",
              "        vertical-align: middle;\n",
              "    }\n",
              "\n",
              "    .dataframe tbody tr th {\n",
              "        vertical-align: top;\n",
              "    }\n",
              "\n",
              "    .dataframe thead th {\n",
              "        text-align: right;\n",
              "    }\n",
              "</style>\n",
              "<table border=\"1\" class=\"dataframe\">\n",
              "  <thead>\n",
              "    <tr style=\"text-align: right;\">\n",
              "      <th></th>\n",
              "      <th>make</th>\n",
              "      <th>price</th>\n",
              "      <th>body</th>\n",
              "      <th>mileage</th>\n",
              "      <th>engV</th>\n",
              "      <th>engType</th>\n",
              "      <th>registration</th>\n",
              "      <th>year</th>\n",
              "      <th>drive</th>\n",
              "    </tr>\n",
              "  </thead>\n",
              "  <tbody>\n",
              "    <tr>\n",
              "      <th>5052</th>\n",
              "      <td>74</td>\n",
              "      <td>7000.00</td>\n",
              "      <td>0</td>\n",
              "      <td>150</td>\n",
              "      <td>2.0</td>\n",
              "      <td>3</td>\n",
              "      <td>1</td>\n",
              "      <td>2000</td>\n",
              "      <td>0</td>\n",
              "    </tr>\n",
              "    <tr>\n",
              "      <th>1843</th>\n",
              "      <td>77</td>\n",
              "      <td>9000.00</td>\n",
              "      <td>3</td>\n",
              "      <td>223</td>\n",
              "      <td>2.5</td>\n",
              "      <td>0</td>\n",
              "      <td>1</td>\n",
              "      <td>2007</td>\n",
              "      <td>0</td>\n",
              "    </tr>\n",
              "    <tr>\n",
              "      <th>756</th>\n",
              "      <td>55</td>\n",
              "      <td>13999.00</td>\n",
              "      <td>3</td>\n",
              "      <td>121</td>\n",
              "      <td>3.5</td>\n",
              "      <td>3</td>\n",
              "      <td>1</td>\n",
              "      <td>2010</td>\n",
              "      <td>0</td>\n",
              "    </tr>\n",
              "    <tr>\n",
              "      <th>6951</th>\n",
              "      <td>59</td>\n",
              "      <td>18932.55</td>\n",
              "      <td>1</td>\n",
              "      <td>0</td>\n",
              "      <td>1.5</td>\n",
              "      <td>0</td>\n",
              "      <td>1</td>\n",
              "      <td>2016</td>\n",
              "      <td>0</td>\n",
              "    </tr>\n",
              "    <tr>\n",
              "      <th>6616</th>\n",
              "      <td>52</td>\n",
              "      <td>9200.00</td>\n",
              "      <td>3</td>\n",
              "      <td>48</td>\n",
              "      <td>1.5</td>\n",
              "      <td>3</td>\n",
              "      <td>1</td>\n",
              "      <td>2008</td>\n",
              "      <td>0</td>\n",
              "    </tr>\n",
              "    <tr>\n",
              "      <th>709</th>\n",
              "      <td>50</td>\n",
              "      <td>22900.00</td>\n",
              "      <td>3</td>\n",
              "      <td>197</td>\n",
              "      <td>2.2</td>\n",
              "      <td>0</td>\n",
              "      <td>1</td>\n",
              "      <td>2010</td>\n",
              "      <td>2</td>\n",
              "    </tr>\n",
              "    <tr>\n",
              "      <th>213</th>\n",
              "      <td>30</td>\n",
              "      <td>12990.00</td>\n",
              "      <td>3</td>\n",
              "      <td>111</td>\n",
              "      <td>1.8</td>\n",
              "      <td>3</td>\n",
              "      <td>1</td>\n",
              "      <td>2011</td>\n",
              "      <td>0</td>\n",
              "    </tr>\n",
              "    <tr>\n",
              "      <th>7796</th>\n",
              "      <td>39</td>\n",
              "      <td>8500.00</td>\n",
              "      <td>1</td>\n",
              "      <td>120</td>\n",
              "      <td>1.6</td>\n",
              "      <td>0</td>\n",
              "      <td>1</td>\n",
              "      <td>2008</td>\n",
              "      <td>0</td>\n",
              "    </tr>\n",
              "    <tr>\n",
              "      <th>1476</th>\n",
              "      <td>5</td>\n",
              "      <td>69999.00</td>\n",
              "      <td>0</td>\n",
              "      <td>1</td>\n",
              "      <td>2.0</td>\n",
              "      <td>3</td>\n",
              "      <td>1</td>\n",
              "      <td>2016</td>\n",
              "      <td>1</td>\n",
              "    </tr>\n",
              "    <tr>\n",
              "      <th>6980</th>\n",
              "      <td>50</td>\n",
              "      <td>12200.00</td>\n",
              "      <td>2</td>\n",
              "      <td>287</td>\n",
              "      <td>3.2</td>\n",
              "      <td>3</td>\n",
              "      <td>1</td>\n",
              "      <td>2000</td>\n",
              "      <td>1</td>\n",
              "    </tr>\n",
              "  </tbody>\n",
              "</table>\n",
              "</div>"
            ],
            "text/plain": [
              "      make     price  body  mileage  engV  engType  registration  year  drive\n",
              "5052    74   7000.00     0      150   2.0        3             1  2000      0\n",
              "1843    77   9000.00     3      223   2.5        0             1  2007      0\n",
              "756     55  13999.00     3      121   3.5        3             1  2010      0\n",
              "6951    59  18932.55     1        0   1.5        0             1  2016      0\n",
              "6616    52   9200.00     3       48   1.5        3             1  2008      0\n",
              "709     50  22900.00     3      197   2.2        0             1  2010      2\n",
              "213     30  12990.00     3      111   1.8        3             1  2011      0\n",
              "7796    39   8500.00     1      120   1.6        0             1  2008      0\n",
              "1476     5  69999.00     0        1   2.0        3             1  2016      1\n",
              "6980    50  12200.00     2      287   3.2        3             1  2000      1"
            ]
          },
          "metadata": {
            "tags": []
          },
          "execution_count": 118
        }
      ]
    },
    {
      "cell_type": "markdown",
      "metadata": {
        "colab_type": "text",
        "id": "w9gkF-HNUFAV"
      },
      "source": [
        "# Predictive Modeling with Linear Regression"
      ]
    },
    {
      "cell_type": "markdown",
      "metadata": {
        "colab_type": "text",
        "id": "Vy1SWxcYTAC0"
      },
      "source": [
        "## 1.1 Split the data into an X matrix and y vector (`price` is the target we want to predict)."
      ]
    },
    {
      "cell_type": "code",
      "metadata": {
        "colab_type": "code",
        "id": "dwMbM9tUUaOQ",
        "colab": {}
      },
      "source": [
        "X = df.drop(['price'], axis=1)\n",
        "y = df['price']"
      ],
      "execution_count": 0,
      "outputs": []
    },
    {
      "cell_type": "markdown",
      "metadata": {
        "colab_type": "text",
        "id": "Uf_SQswNUPwM"
      },
      "source": [
        "## 1.2 Split the data into test and train sets, using `train_test_split`.\n",
        "You may use a train size of 80% and a test size of 20%."
      ]
    },
    {
      "cell_type": "code",
      "metadata": {
        "colab_type": "code",
        "id": "iIiELKuKUOgR",
        "outputId": "0b7ceeb2-9bf6-4fe1-8c8d-68e12ad6974b",
        "colab": {
          "base_uri": "https://localhost:8080/",
          "height": 34
        }
      },
      "source": [
        "X_train, X_test, y_train, y_test = train_test_split(X, y, train_size=.8, test_size=.2)\n",
        "print(X_train.shape, X_test.shape, y_train.shape, y_test.shape)"
      ],
      "execution_count": 120,
      "outputs": [
        {
          "output_type": "stream",
          "text": [
            "(6796, 8) (1699, 8) (6796,) (1699,)\n"
          ],
          "name": "stdout"
        }
      ]
    },
    {
      "cell_type": "markdown",
      "metadata": {
        "colab_type": "text",
        "id": "0AdXWiwoUstf"
      },
      "source": [
        "## 1.3 Use scikit-learn to fit a multiple regression model, using your training data.\n",
        "Use `year` and one or more features of your choice. You will not be evaluated on which features you choose. You may choose to use all features."
      ]
    },
    {
      "cell_type": "code",
      "metadata": {
        "colab_type": "code",
        "id": "Zw70rt71U1xf",
        "outputId": "38ffbc13-1c84-495a-bb55-d0b189235c71",
        "colab": {
          "base_uri": "https://localhost:8080/",
          "height": 52
        }
      },
      "source": [
        "model = LinearRegression()\n",
        "model.fit(X_train, y_train)"
      ],
      "execution_count": 121,
      "outputs": [
        {
          "output_type": "execute_result",
          "data": {
            "text/plain": [
              "LinearRegression(copy_X=True, fit_intercept=True, n_jobs=None,\n",
              "         normalize=False)"
            ]
          },
          "metadata": {
            "tags": []
          },
          "execution_count": 121
        }
      ]
    },
    {
      "cell_type": "markdown",
      "metadata": {
        "colab_type": "text",
        "id": "82fH2rilU7j3"
      },
      "source": [
        "## 1.4 Report the Intercept and Coefficients for the fitted model."
      ]
    },
    {
      "cell_type": "code",
      "metadata": {
        "colab_type": "code",
        "id": "ue6hCHGqVE83",
        "outputId": "5e942c42-f4bf-42f5-c7a8-690c135cfd62",
        "colab": {
          "base_uri": "https://localhost:8080/",
          "height": 69
        }
      },
      "source": [
        "print(\"Intercept: \", model.intercept_)\n",
        "print(\"Coefficients: \", model.coef_)"
      ],
      "execution_count": 122,
      "outputs": [
        {
          "output_type": "stream",
          "text": [
            "Intercept:  -2320262.256534299\n",
            "Coefficients:  [  -41.59475497 -1836.86956575   -40.31658165   243.9922451\n",
            "  -998.01095301  4697.51881519  1166.26471028  8565.40314273]\n"
          ],
          "name": "stdout"
        }
      ]
    },
    {
      "cell_type": "markdown",
      "metadata": {
        "colab_type": "text",
        "id": "T0CV0OnDVZbu"
      },
      "source": [
        "## 1.5 Use the test data to make predictions."
      ]
    },
    {
      "cell_type": "code",
      "metadata": {
        "colab_type": "code",
        "id": "vrR5b5c3VwE5",
        "outputId": "1622d05a-706c-42f9-cfc4-64138a7169e5",
        "colab": {
          "base_uri": "https://localhost:8080/",
          "height": 52
        }
      },
      "source": [
        "y_pred = model.predict(X_test)\n",
        "y_pred"
      ],
      "execution_count": 123,
      "outputs": [
        {
          "output_type": "execute_result",
          "data": {
            "text/plain": [
              "array([14297.47057033, 34419.19472235, 15158.4833923 , ...,\n",
              "       26464.63973005, 34965.03985112, 16655.88338108])"
            ]
          },
          "metadata": {
            "tags": []
          },
          "execution_count": 123
        }
      ]
    },
    {
      "cell_type": "markdown",
      "metadata": {
        "colab_type": "text",
        "id": "ZwQb3gE7VycT"
      },
      "source": [
        "## 1.6 Use the test data to get both the Root Mean Square Error and $R^2$ for the model. \n",
        "You will not be evaluated on how high or low your scores are."
      ]
    },
    {
      "cell_type": "code",
      "metadata": {
        "colab_type": "code",
        "id": "Ym2kjxWhU6b2",
        "outputId": "11c8ea9a-6d5e-46c9-ff8d-eec175752c5f",
        "colab": {
          "base_uri": "https://localhost:8080/",
          "height": 52
        }
      },
      "source": [
        "print(\"Root mean square error: \")\n",
        "np.sqrt(mean_squared_error(y_test, y_pred))"
      ],
      "execution_count": 124,
      "outputs": [
        {
          "output_type": "stream",
          "text": [
            "Root mean square error: \n"
          ],
          "name": "stdout"
        },
        {
          "output_type": "execute_result",
          "data": {
            "text/plain": [
              "17445.865820621773"
            ]
          },
          "metadata": {
            "tags": []
          },
          "execution_count": 124
        }
      ]
    },
    {
      "cell_type": "code",
      "metadata": {
        "id": "mz8ks2_TRhT9",
        "colab_type": "code",
        "outputId": "e72707bb-696c-4f62-ba29-ccaae9830470",
        "colab": {
          "base_uri": "https://localhost:8080/",
          "height": 52
        }
      },
      "source": [
        "print(\"r2 score: \")\n",
        "r2_score(y_true=y_test, y_pred=y_pred)"
      ],
      "execution_count": 125,
      "outputs": [
        {
          "output_type": "stream",
          "text": [
            "r2 score: \n"
          ],
          "name": "stdout"
        },
        {
          "output_type": "execute_result",
          "data": {
            "text/plain": [
              "0.3437122018973494"
            ]
          },
          "metadata": {
            "tags": []
          },
          "execution_count": 125
        }
      ]
    },
    {
      "cell_type": "markdown",
      "metadata": {
        "colab_type": "text",
        "id": "kIXhGHIgXHyJ"
      },
      "source": [
        "## 1.7 How should we interpret the coefficient corresponding to the `year` feature?\n",
        "One sentence can be sufficient"
      ]
    },
    {
      "cell_type": "markdown",
      "metadata": {
        "colab_type": "text",
        "id": "8jv2n0wAXgHU"
      },
      "source": [
        "As year increases (the car is newer) so does the price."
      ]
    },
    {
      "cell_type": "markdown",
      "metadata": {
        "colab_type": "text",
        "id": "ckQ5GsOtYsjn"
      },
      "source": [
        "## 1.8 How should we interpret the Root Mean Square Error?\n",
        "One sentence can be sufficient"
      ]
    },
    {
      "cell_type": "markdown",
      "metadata": {
        "id": "xSRwdWmxNTET",
        "colab_type": "text"
      },
      "source": [
        "The Root Mean Square Error should be interpreted as how close (or far away) the actual values were from the model's predicted values."
      ]
    },
    {
      "cell_type": "markdown",
      "metadata": {
        "colab_type": "text",
        "id": "T3sZrru_YzFF"
      },
      "source": [
        "## 1.9 How should we interpret the $R^2$?\n",
        "One sentence can be sufficient"
      ]
    },
    {
      "cell_type": "markdown",
      "metadata": {
        "colab_type": "text",
        "id": "5pN2Oet_Y5jR"
      },
      "source": [
        "R^2 can effectively be interpreted as the accuracy of the model, with the score being the percentage of the dependent variable that is explained by the model."
      ]
    },
    {
      "cell_type": "markdown",
      "metadata": {
        "colab_type": "text",
        "id": "Z_VNy7e3Y5sT"
      },
      "source": [
        "# Log-Linear and Polynomial Regression"
      ]
    },
    {
      "cell_type": "markdown",
      "metadata": {
        "colab_type": "text",
        "id": "G2T4FSqRZOJA"
      },
      "source": [
        "## 2.1 Engineer a new variable by taking the log of the price varible."
      ]
    },
    {
      "cell_type": "code",
      "metadata": {
        "colab_type": "code",
        "id": "7EChAFNxZX24",
        "colab": {}
      },
      "source": [
        "df['price_log'] = np.log(df['price'])"
      ],
      "execution_count": 0,
      "outputs": []
    },
    {
      "cell_type": "code",
      "metadata": {
        "id": "oMO99KcwXYVX",
        "colab_type": "code",
        "outputId": "b5108917-2486-403d-f092-63155327a936",
        "colab": {
          "base_uri": "https://localhost:8080/",
          "height": 206
        }
      },
      "source": [
        "df.head()"
      ],
      "execution_count": 127,
      "outputs": [
        {
          "output_type": "execute_result",
          "data": {
            "text/html": [
              "<div>\n",
              "<style scoped>\n",
              "    .dataframe tbody tr th:only-of-type {\n",
              "        vertical-align: middle;\n",
              "    }\n",
              "\n",
              "    .dataframe tbody tr th {\n",
              "        vertical-align: top;\n",
              "    }\n",
              "\n",
              "    .dataframe thead th {\n",
              "        text-align: right;\n",
              "    }\n",
              "</style>\n",
              "<table border=\"1\" class=\"dataframe\">\n",
              "  <thead>\n",
              "    <tr style=\"text-align: right;\">\n",
              "      <th></th>\n",
              "      <th>make</th>\n",
              "      <th>price</th>\n",
              "      <th>body</th>\n",
              "      <th>mileage</th>\n",
              "      <th>engV</th>\n",
              "      <th>engType</th>\n",
              "      <th>registration</th>\n",
              "      <th>year</th>\n",
              "      <th>drive</th>\n",
              "      <th>price_log</th>\n",
              "    </tr>\n",
              "  </thead>\n",
              "  <tbody>\n",
              "    <tr>\n",
              "      <th>0</th>\n",
              "      <td>23</td>\n",
              "      <td>15500.0</td>\n",
              "      <td>0</td>\n",
              "      <td>68</td>\n",
              "      <td>2.5</td>\n",
              "      <td>1</td>\n",
              "      <td>1</td>\n",
              "      <td>2010</td>\n",
              "      <td>1</td>\n",
              "      <td>9.648595</td>\n",
              "    </tr>\n",
              "    <tr>\n",
              "      <th>1</th>\n",
              "      <td>50</td>\n",
              "      <td>20500.0</td>\n",
              "      <td>3</td>\n",
              "      <td>173</td>\n",
              "      <td>1.8</td>\n",
              "      <td>1</td>\n",
              "      <td>1</td>\n",
              "      <td>2011</td>\n",
              "      <td>2</td>\n",
              "      <td>9.928180</td>\n",
              "    </tr>\n",
              "    <tr>\n",
              "      <th>2</th>\n",
              "      <td>50</td>\n",
              "      <td>35000.0</td>\n",
              "      <td>2</td>\n",
              "      <td>135</td>\n",
              "      <td>5.5</td>\n",
              "      <td>3</td>\n",
              "      <td>1</td>\n",
              "      <td>2008</td>\n",
              "      <td>2</td>\n",
              "      <td>10.463103</td>\n",
              "    </tr>\n",
              "    <tr>\n",
              "      <th>3</th>\n",
              "      <td>50</td>\n",
              "      <td>17800.0</td>\n",
              "      <td>5</td>\n",
              "      <td>162</td>\n",
              "      <td>1.8</td>\n",
              "      <td>0</td>\n",
              "      <td>1</td>\n",
              "      <td>2012</td>\n",
              "      <td>0</td>\n",
              "      <td>9.786954</td>\n",
              "    </tr>\n",
              "    <tr>\n",
              "      <th>4</th>\n",
              "      <td>55</td>\n",
              "      <td>16600.0</td>\n",
              "      <td>0</td>\n",
              "      <td>83</td>\n",
              "      <td>2.0</td>\n",
              "      <td>3</td>\n",
              "      <td>1</td>\n",
              "      <td>2013</td>\n",
              "      <td>1</td>\n",
              "      <td>9.717158</td>\n",
              "    </tr>\n",
              "  </tbody>\n",
              "</table>\n",
              "</div>"
            ],
            "text/plain": [
              "   make    price  body  mileage  engV  engType  registration  year  drive  \\\n",
              "0    23  15500.0     0       68   2.5        1             1  2010      1   \n",
              "1    50  20500.0     3      173   1.8        1             1  2011      2   \n",
              "2    50  35000.0     2      135   5.5        3             1  2008      2   \n",
              "3    50  17800.0     5      162   1.8        0             1  2012      0   \n",
              "4    55  16600.0     0       83   2.0        3             1  2013      1   \n",
              "\n",
              "   price_log  \n",
              "0   9.648595  \n",
              "1   9.928180  \n",
              "2  10.463103  \n",
              "3   9.786954  \n",
              "4   9.717158  "
            ]
          },
          "metadata": {
            "tags": []
          },
          "execution_count": 127
        }
      ]
    },
    {
      "cell_type": "markdown",
      "metadata": {
        "colab_type": "text",
        "id": "R117rxnOZw6q"
      },
      "source": [
        "## 2.2 Visualize scatterplots of the relationship between each feature versus the log of price, to look for non-linearly distributed features.\n",
        "You may use any plotting tools and techniques."
      ]
    },
    {
      "cell_type": "code",
      "metadata": {
        "colab_type": "code",
        "id": "8l56Qk7VaBrU",
        "outputId": "2c985e20-fc1d-44e9-cd36-8d7d87023099",
        "colab": {
          "base_uri": "https://localhost:8080/",
          "height": 283
        }
      },
      "source": [
        "# target = 'price_log'\n",
        "# for feature in df.drop(target):\n",
        "#     sns.scatterplot(x=feature, y=target, data=df, alpha=0.1)\n",
        "#     plt.show()\n",
        "\n",
        "\n",
        "# Tried automating but getting errors so I'll have to do it by hand\n",
        "\n",
        "sns.scatterplot(x='make', y='price_log', data=df, alpha=0.05);"
      ],
      "execution_count": 128,
      "outputs": [
        {
          "output_type": "display_data",
          "data": {
            "image/png": "[encoded data removed]",
            "text/plain": [
              "<Figure size 432x288 with 1 Axes>"
            ]
          },
          "metadata": {
            "tags": []
          }
        }
      ]
    },
    {
      "cell_type": "code",
      "metadata": {
        "id": "edxww_snkBnW",
        "colab_type": "code",
        "outputId": "9235a966-6a48-42ad-da30-9356f24cdce9",
        "colab": {
          "base_uri": "https://localhost:8080/",
          "height": 283
        }
      },
      "source": [
        "sns.scatterplot(x='body', y='price_log', data=df, alpha=0.05);"
      ],
      "execution_count": 129,
      "outputs": [
        {
          "output_type": "display_data",
          "data": {
            "image/png": "[encoded data removed]",
            "text/plain": [
              "<Figure size 432x288 with 1 Axes>"
            ]
          },
          "metadata": {
            "tags": []
          }
        }
      ]
    },
    {
      "cell_type": "code",
      "metadata": {
        "id": "m0-1C1krkHCb",
        "colab_type": "code",
        "outputId": "f11b6e7d-59f8-4a07-b444-9213532fde6b",
        "colab": {
          "base_uri": "https://localhost:8080/",
          "height": 283
        }
      },
      "source": [
        "sns.scatterplot(x='mileage', y='price_log', data=df, alpha=0.05);"
      ],
      "execution_count": 0,
      "outputs": [
        {
          "output_type": "display_data",
          "data": {
            "image/png": "[encoded data removed]",
            "text/plain": [
              "<Figure size 432x288 with 1 Axes>"
            ]
          },
          "metadata": {
            "tags": []
          }
        }
      ]
    },
    {
      "cell_type": "code",
      "metadata": {
        "id": "lnFO3HaPkJAt",
        "colab_type": "code",
        "outputId": "d7c0a485-6078-4973-988d-db37c59100c1",
        "colab": {
          "base_uri": "https://localhost:8080/",
          "height": 283
        }
      },
      "source": [
        "sns.scatterplot(x='engV', y='price_log', data=df, alpha=0.05);"
      ],
      "execution_count": 0,
      "outputs": [
        {
          "output_type": "display_data",
          "data": {
            "image/png": "[encoded data removed]",
            "text/plain": [
              "<Figure size 432x288 with 1 Axes>"
            ]
          },
          "metadata": {
            "tags": []
          }
        }
      ]
    },
    {
      "cell_type": "code",
      "metadata": {
        "id": "o5pO_zflkMc6",
        "colab_type": "code",
        "outputId": "9e1494f6-e3ed-4692-c51b-b5cf3365fd04",
        "colab": {
          "base_uri": "https://localhost:8080/",
          "height": 283
        }
      },
      "source": [
        "sns.scatterplot(x='engType', y='price_log', data=df, alpha=0.05);"
      ],
      "execution_count": 0,
      "outputs": [
        {
          "output_type": "display_data",
          "data": {
            "image/png": "[encoded data removed]",
            "text/plain": [
              "<Figure size 432x288 with 1 Axes>"
            ]
          },
          "metadata": {
            "tags": []
          }
        }
      ]
    },
    {
      "cell_type": "code",
      "metadata": {
        "id": "v2UayYPEkMlt",
        "colab_type": "code",
        "outputId": "2346db4a-30d6-4c1c-ca56-43fb47ad866f",
        "colab": {
          "base_uri": "https://localhost:8080/",
          "height": 283
        }
      },
      "source": [
        "sns.scatterplot(x='registration', y='price_log', data=df, alpha=0.05);"
      ],
      "execution_count": 0,
      "outputs": [
        {
          "output_type": "display_data",
          "data": {
            "image/png": "[encoded data removed]",
            "text/plain": [
              "<Figure size 432x288 with 1 Axes>"
            ]
          },
          "metadata": {
            "tags": []
          }
        }
      ]
    },
    {
      "cell_type": "code",
      "metadata": {
        "id": "PFBos91MkMs2",
        "colab_type": "code",
        "outputId": "3f01d872-e9a7-4acb-e314-178d2a749aa8",
        "colab": {
          "base_uri": "https://localhost:8080/",
          "height": 283
        }
      },
      "source": [
        "sns.scatterplot(x='year', y='price_log', data=df, alpha=0.05);"
      ],
      "execution_count": 0,
      "outputs": [
        {
          "output_type": "display_data",
          "data": {
            "image/png": "[encoded data removed]",
            "text/plain": [
              "<Figure size 432x288 with 1 Axes>"
            ]
          },
          "metadata": {
            "tags": []
          }
        }
      ]
    },
    {
      "cell_type": "code",
      "metadata": {
        "id": "XYSg9ESAk27I",
        "colab_type": "code",
        "outputId": "ec0b9274-189e-4634-a986-8658d9a30726",
        "colab": {
          "base_uri": "https://localhost:8080/",
          "height": 283
        }
      },
      "source": [
        "sns.scatterplot(x='drive', y='price_log', data=df, alpha=0.01);"
      ],
      "execution_count": 0,
      "outputs": [
        {
          "output_type": "display_data",
          "data": {
            "image/png": "[encoded data removed]",
            "text/plain": [
              "<Figure size 432x288 with 1 Axes>"
            ]
          },
          "metadata": {
            "tags": []
          }
        }
      ]
    },
    {
      "cell_type": "markdown",
      "metadata": {
        "colab_type": "text",
        "id": "QTf4gCaDaiCw"
      },
      "source": [
        "## 2.3 Create polynomial feature(s)\n",
        "You will not be evaluated on which feature(s) you choose. But try to choose appropriate features."
      ]
    },
    {
      "cell_type": "code",
      "metadata": {
        "colab_type": "code",
        "id": "ipsCcH83ZMe8",
        "colab": {
          "base_uri": "https://localhost:8080/",
          "height": 206
        },
        "outputId": "39932b5b-d652-4ccc-959c-7662a3b1e4c8"
      },
      "source": [
        "df['year ** 2'] = df['year'] ** 2\n",
        "\n",
        "df.head()"
      ],
      "execution_count": 136,
      "outputs": [
        {
          "output_type": "execute_result",
          "data": {
            "text/html": [
              "<div>\n",
              "<style scoped>\n",
              "    .dataframe tbody tr th:only-of-type {\n",
              "        vertical-align: middle;\n",
              "    }\n",
              "\n",
              "    .dataframe tbody tr th {\n",
              "        vertical-align: top;\n",
              "    }\n",
              "\n",
              "    .dataframe thead th {\n",
              "        text-align: right;\n",
              "    }\n",
              "</style>\n",
              "<table border=\"1\" class=\"dataframe\">\n",
              "  <thead>\n",
              "    <tr style=\"text-align: right;\">\n",
              "      <th></th>\n",
              "      <th>make</th>\n",
              "      <th>price</th>\n",
              "      <th>body</th>\n",
              "      <th>mileage</th>\n",
              "      <th>engV</th>\n",
              "      <th>engType</th>\n",
              "      <th>registration</th>\n",
              "      <th>year</th>\n",
              "      <th>drive</th>\n",
              "      <th>price_log</th>\n",
              "      <th>year ** 2</th>\n",
              "    </tr>\n",
              "  </thead>\n",
              "  <tbody>\n",
              "    <tr>\n",
              "      <th>0</th>\n",
              "      <td>23</td>\n",
              "      <td>15500.0</td>\n",
              "      <td>0</td>\n",
              "      <td>68</td>\n",
              "      <td>2.5</td>\n",
              "      <td>1</td>\n",
              "      <td>1</td>\n",
              "      <td>2010</td>\n",
              "      <td>1</td>\n",
              "      <td>9.648595</td>\n",
              "      <td>4040100</td>\n",
              "    </tr>\n",
              "    <tr>\n",
              "      <th>1</th>\n",
              "      <td>50</td>\n",
              "      <td>20500.0</td>\n",
              "      <td>3</td>\n",
              "      <td>173</td>\n",
              "      <td>1.8</td>\n",
              "      <td>1</td>\n",
              "      <td>1</td>\n",
              "      <td>2011</td>\n",
              "      <td>2</td>\n",
              "      <td>9.928180</td>\n",
              "      <td>4044121</td>\n",
              "    </tr>\n",
              "    <tr>\n",
              "      <th>2</th>\n",
              "      <td>50</td>\n",
              "      <td>35000.0</td>\n",
              "      <td>2</td>\n",
              "      <td>135</td>\n",
              "      <td>5.5</td>\n",
              "      <td>3</td>\n",
              "      <td>1</td>\n",
              "      <td>2008</td>\n",
              "      <td>2</td>\n",
              "      <td>10.463103</td>\n",
              "      <td>4032064</td>\n",
              "    </tr>\n",
              "    <tr>\n",
              "      <th>3</th>\n",
              "      <td>50</td>\n",
              "      <td>17800.0</td>\n",
              "      <td>5</td>\n",
              "      <td>162</td>\n",
              "      <td>1.8</td>\n",
              "      <td>0</td>\n",
              "      <td>1</td>\n",
              "      <td>2012</td>\n",
              "      <td>0</td>\n",
              "      <td>9.786954</td>\n",
              "      <td>4048144</td>\n",
              "    </tr>\n",
              "    <tr>\n",
              "      <th>4</th>\n",
              "      <td>55</td>\n",
              "      <td>16600.0</td>\n",
              "      <td>0</td>\n",
              "      <td>83</td>\n",
              "      <td>2.0</td>\n",
              "      <td>3</td>\n",
              "      <td>1</td>\n",
              "      <td>2013</td>\n",
              "      <td>1</td>\n",
              "      <td>9.717158</td>\n",
              "      <td>4052169</td>\n",
              "    </tr>\n",
              "  </tbody>\n",
              "</table>\n",
              "</div>"
            ],
            "text/plain": [
              "   make    price  body  mileage  engV  engType  registration  year  drive  \\\n",
              "0    23  15500.0     0       68   2.5        1             1  2010      1   \n",
              "1    50  20500.0     3      173   1.8        1             1  2011      2   \n",
              "2    50  35000.0     2      135   5.5        3             1  2008      2   \n",
              "3    50  17800.0     5      162   1.8        0             1  2012      0   \n",
              "4    55  16600.0     0       83   2.0        3             1  2013      1   \n",
              "\n",
              "   price_log  year ** 2  \n",
              "0   9.648595    4040100  \n",
              "1   9.928180    4044121  \n",
              "2  10.463103    4032064  \n",
              "3   9.786954    4048144  \n",
              "4   9.717158    4052169  "
            ]
          },
          "metadata": {
            "tags": []
          },
          "execution_count": 136
        }
      ]
    },
    {
      "cell_type": "markdown",
      "metadata": {
        "colab_type": "text",
        "id": "NJgfD-JLayRA"
      },
      "source": [
        "## 2.4 Use the new log-transformed y variable and your x variables (including any new polynomial features) to fit a new linear regression model. Then report the: intercept, coefficients, RMSE, and $R^2$."
      ]
    },
    {
      "cell_type": "code",
      "metadata": {
        "colab_type": "code",
        "id": "uXmtVpnPcFij",
        "colab": {
          "base_uri": "https://localhost:8080/",
          "height": 173
        },
        "outputId": "8892bd1c-1989-47da-c912-3c5ca0167ed1"
      },
      "source": [
        "X = df.drop(['price'], axis=1)\n",
        "y = df['price']\n",
        "\n",
        "X_train, X_test, y_train, y_test = train_test_split(X, y, train_size=.8, test_size=.2)\n",
        "print(X_train.shape, X_test.shape, y_train.shape, y_test.shape)\n",
        "\n",
        "model = LinearRegression()\n",
        "model.fit(X_train, y_train)\n",
        "\n",
        "print(\"Intercept: \", model.intercept_)\n",
        "print(\"Coefficients: \", model.coef_)\n",
        "print(\"Root mean square error: \")\n",
        "print(np.sqrt(mean_squared_error(y_test, y_pred)))\n",
        "print(\"r2 score: \")\n",
        "r2_score(y_true=y_test, y_pred=y_pred)"
      ],
      "execution_count": 138,
      "outputs": [
        {
          "output_type": "stream",
          "text": [
            "(6796, 10) (1699, 10) (6796,) (1699,)\n",
            "Intercept:  107256813.33364207\n",
            "Coefficients:  [-3.86518768e+00  2.86748667e+02 -2.70468787e+01  7.00243782e+01\n",
            "  2.77496018e+02 -1.27422482e+04 -1.06398077e+05 -9.93878291e+02\n",
            "  2.30327765e+04  2.63408980e+01]\n",
            "Root mean square error: \n",
            "27220.80085133753\n",
            "r2 score: \n"
          ],
          "name": "stdout"
        },
        {
          "output_type": "execute_result",
          "data": {
            "text/plain": [
              "-0.23640689219621502"
            ]
          },
          "metadata": {
            "tags": []
          },
          "execution_count": 138
        }
      ]
    },
    {
      "cell_type": "markdown",
      "metadata": {
        "colab_type": "text",
        "id": "hf4_8FXrpHFY"
      },
      "source": [
        "## 2.5 How do we interpret coefficients in Log-Linear Regression (differently than Ordinary Least Squares Regression)?\n",
        "One sentence can be sufficient"
      ]
    },
    {
      "cell_type": "markdown",
      "metadata": {
        "colab_type": "text",
        "id": "JVGKvt5WpTf2"
      },
      "source": [
        "Log-Linear Regression reduces the skew and creates a more normal distribution."
      ]
    },
    {
      "cell_type": "markdown",
      "metadata": {
        "colab_type": "text",
        "id": "JUQwzfDRfrQi"
      },
      "source": [
        "# Decision Trees"
      ]
    },
    {
      "cell_type": "markdown",
      "metadata": {
        "colab_type": "text",
        "id": "M_JLfReVeoYT"
      },
      "source": [
        "## 3.1 Use scikit-learn to fit a decision tree regression model, using your training data.\n",
        "Use one or more features of your choice. You will not be evaluated on which features you choose. You may choose to use all features.\n",
        "\n",
        "You may use the log-transformed target or the original un-transformed target. You will not be evaluated on which you choose."
      ]
    },
    {
      "cell_type": "code",
      "metadata": {
        "id": "uIcflbNFNTE-",
        "colab_type": "code",
        "outputId": "1fe2869f-bd58-4133-fca2-d076523294d9",
        "colab": {
          "base_uri": "https://localhost:8080/",
          "height": 104
        }
      },
      "source": [
        "tree = DecisionTreeRegressor()\n",
        "tree.fit(X_train, y_train)"
      ],
      "execution_count": 130,
      "outputs": [
        {
          "output_type": "execute_result",
          "data": {
            "text/plain": [
              "DecisionTreeRegressor(criterion='mse', max_depth=None, max_features=None,\n",
              "           max_leaf_nodes=None, min_impurity_decrease=0.0,\n",
              "           min_impurity_split=None, min_samples_leaf=1,\n",
              "           min_samples_split=2, min_weight_fraction_leaf=0.0,\n",
              "           presort=False, random_state=None, splitter='best')"
            ]
          },
          "metadata": {
            "tags": []
          },
          "execution_count": 130
        }
      ]
    },
    {
      "cell_type": "markdown",
      "metadata": {
        "id": "NkJDMxKWNTFC",
        "colab_type": "text"
      },
      "source": [
        "## 3.2 Use the test data to get the $R^2$ for the model. \n",
        "You will not be evaluated on how high or low your scores are."
      ]
    },
    {
      "cell_type": "code",
      "metadata": {
        "id": "tKUNe7m4NTFE",
        "colab_type": "code",
        "outputId": "cec3ad7b-3b72-48f9-935f-4be0ab5c5b8e",
        "colab": {
          "base_uri": "https://localhost:8080/",
          "height": 34
        }
      },
      "source": [
        "print('R^2', tree.score(X_test, y_test))"
      ],
      "execution_count": 131,
      "outputs": [
        {
          "output_type": "stream",
          "text": [
            "R^2 0.8044165022063818\n"
          ],
          "name": "stdout"
        }
      ]
    },
    {
      "cell_type": "markdown",
      "metadata": {
        "colab_type": "text",
        "id": "Gs20FOntprd_"
      },
      "source": [
        "# Regression Diagnostics"
      ]
    },
    {
      "cell_type": "markdown",
      "metadata": {
        "colab_type": "text",
        "id": "VJnxkobcpulV"
      },
      "source": [
        "## 4.1 Use statsmodels to run a log-linear or log-polynomial linear regression with robust standard errors."
      ]
    },
    {
      "cell_type": "code",
      "metadata": {
        "colab_type": "code",
        "id": "QqCVeYBTpvfQ",
        "outputId": "a65445d1-deee-4dca-8966-441b6b88739d",
        "colab": {
          "base_uri": "https://localhost:8080/",
          "height": 660
        }
      },
      "source": [
        "target = 'price_log'\n",
        "features = df.columns.drop(target)\n",
        "\n",
        "X = df[features]\n",
        "y = df[target]\n",
        "model = sm.OLS(y, sm.add_constant(X))\n",
        "results = model.fit(cov_type='HC3')\n",
        "print(results.summary())"
      ],
      "execution_count": 132,
      "outputs": [
        {
          "output_type": "stream",
          "text": [
            "/usr/local/lib/python3.6/dist-packages/numpy/core/fromnumeric.py:2389: FutureWarning: Method .ptp is deprecated and will be removed in a future version. Use numpy.ptp instead.\n",
            "  return ptp(axis=axis, out=out, **kwargs)\n"
          ],
          "name": "stderr"
        },
        {
          "output_type": "stream",
          "text": [
            "                            OLS Regression Results                            \n",
            "==============================================================================\n",
            "Dep. Variable:              price_log   R-squared:                       0.802\n",
            "Model:                            OLS   Adj. R-squared:                  0.802\n",
            "Method:                 Least Squares   F-statistic:                     3135.\n",
            "Date:                Fri, 03 May 2019   Prob (F-statistic):               0.00\n",
            "Time:                        17:40:38   Log-Likelihood:                -4843.9\n",
            "No. Observations:                8495   AIC:                             9708.\n",
            "Df Residuals:                    8485   BIC:                             9778.\n",
            "Df Model:                           9                                         \n",
            "Covariance Type:                  HC3                                         \n",
            "================================================================================\n",
            "                   coef    std err          z      P>|z|      [0.025      0.975]\n",
            "--------------------------------------------------------------------------------\n",
            "const         -141.1599      4.307    -32.777      0.000    -149.601    -132.719\n",
            "make            -0.0009      0.000     -4.360      0.000      -0.001      -0.001\n",
            "price         1.767e-05   1.58e-06     11.190      0.000    1.46e-05    2.08e-05\n",
            "body            -0.0637      0.004    -15.072      0.000      -0.072      -0.055\n",
            "mileage          0.0006      0.000      6.122      0.000       0.000       0.001\n",
            "engV             0.0042      0.002      2.715      0.007       0.001       0.007\n",
            "engType         -0.0379      0.004     -8.609      0.000      -0.047      -0.029\n",
            "registration     0.6399      0.019     34.400      0.000       0.603       0.676\n",
            "year             0.0745      0.002     34.592      0.000       0.070       0.079\n",
            "drive            0.2412      0.014     17.761      0.000       0.215       0.268\n",
            "==============================================================================\n",
            "Omnibus:                     3879.257   Durbin-Watson:                   1.944\n",
            "Prob(Omnibus):                  0.000   Jarque-Bera (JB):            96668.346\n",
            "Skew:                          -1.639   Prob(JB):                         0.00\n",
            "Kurtosis:                      19.198   Cond. No.                     1.08e+07\n",
            "==============================================================================\n",
            "\n",
            "Warnings:\n",
            "[1] Standard Errors are heteroscedasticity robust (HC3)\n",
            "[2] The condition number is large, 1.08e+07. This might indicate that there are\n",
            "strong multicollinearity or other numerical problems.\n"
          ],
          "name": "stdout"
        }
      ]
    },
    {
      "cell_type": "markdown",
      "metadata": {
        "colab_type": "text",
        "id": "loKma3wspwVs"
      },
      "source": [
        "## 4.2 Calculate the Variance Inflation Factor (VIF) of our X variables. \n",
        "\n",
        "### Do we have multicollinearity problems?\n",
        "One sentence can be sufficient"
      ]
    },
    {
      "cell_type": "code",
      "metadata": {
        "colab_type": "code",
        "id": "EN1mPKWhp2Vn",
        "outputId": "0627c225-15eb-48ee-e8d7-7e462bbb2085",
        "colab": {
          "base_uri": "https://localhost:8080/",
          "height": 243
        }
      },
      "source": [
        "X = sm.add_constant(X)\n",
        "vif = [variance_inflation_factor(X.values, i) for i in range(len(X.columns))]\n",
        "pd.Series(vif, X.columns)"
      ],
      "execution_count": 135,
      "outputs": [
        {
          "output_type": "stream",
          "text": [
            "/usr/local/lib/python3.6/dist-packages/numpy/core/fromnumeric.py:2389: FutureWarning: Method .ptp is deprecated and will be removed in a future version. Use numpy.ptp instead.\n",
            "  return ptp(axis=axis, out=out, **kwargs)\n"
          ],
          "name": "stderr"
        },
        {
          "output_type": "execute_result",
          "data": {
            "text/plain": [
              "const           135671.042703\n",
              "make                 1.060854\n",
              "price                1.399011\n",
              "body                 1.178469\n",
              "mileage              1.586770\n",
              "engV                 1.014592\n",
              "engType              1.146684\n",
              "registration         1.094674\n",
              "year                 1.608899\n",
              "drive                1.223291\n",
              "dtype: float64"
            ]
          },
          "metadata": {
            "tags": []
          },
          "execution_count": 135
        }
      ]
    },
    {
      "cell_type": "markdown",
      "metadata": {
        "id": "Tienj9K3zqEO",
        "colab_type": "text"
      },
      "source": [
        "Ignoring the constant, it seems good. No Variance Inflation Factor above 10 which is the point at which you should look into it."
      ]
    }
  ]
}