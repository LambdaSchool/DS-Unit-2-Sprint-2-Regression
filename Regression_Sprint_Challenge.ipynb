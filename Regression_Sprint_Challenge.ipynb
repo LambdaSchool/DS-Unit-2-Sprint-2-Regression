{
  "nbformat": 4,
  "nbformat_minor": 0,
  "metadata": {
    "colab": {
      "name": "Regression Sprint Challenge.ipynb",
      "version": "0.3.2",
      "provenance": [],
      "collapsed_sections": [],
      "include_colab_link": true
    },
    "language_info": {
      "codemirror_mode": {
        "name": "ipython",
        "version": 3
      },
      "file_extension": ".py",
      "mimetype": "text/x-python",
      "name": "python",
      "nbconvert_exporter": "python",
      "pygments_lexer": "ipython3",
      "version": "3.7.1"
    },
    "kernelspec": {
      "display_name": "Python 3",
      "language": "python",
      "name": "python3"
    }
  },
  "cells": [
    {
      "cell_type": "markdown",
      "metadata": {
        "id": "view-in-github",
        "colab_type": "text"
      },
      "source": [
        "<a href=\"https://colab.research.google.com/github/nickwinters1/DS-Unit-2-Sprint-2-Regression/blob/master/Regression_Sprint_Challenge.ipynb\" target=\"_parent\"><img src=\"https://colab.research.google.com/assets/colab-badge.svg\" alt=\"Open In Colab\"/></a>"
      ]
    },
    {
      "cell_type": "markdown",
      "metadata": {
        "id": "1Q3XARbITS7E",
        "colab_type": "text"
      },
      "source": [
        "_Lambda School Data Science_\n",
        "\n",
        "# Regression Sprint Challenge"
      ]
    },
    {
      "cell_type": "markdown",
      "metadata": {
        "id": "cYDzAhsGTS7G",
        "colab_type": "text"
      },
      "source": [
        "For this Sprint Challenge, you'll predict the price of used cars. \n",
        "\n",
        "The dataset is real-world. It was collected from advertisements of cars for sale in the Ukraine in 2016.\n",
        "\n",
        "The following import statements have been provided for you, and should be sufficient. But you may not need to use every import. And you are permitted to make additional imports."
      ]
    },
    {
      "cell_type": "code",
      "metadata": {
        "colab_type": "code",
        "id": "YbiJuv5d2jZ7",
        "colab": {}
      },
      "source": [
        "%matplotlib inline\n",
        "import matplotlib.pyplot as plt\n",
        "import numpy as np\n",
        "import pandas as pd\n",
        "import seaborn as sns\n",
        "from sklearn.linear_model import LinearRegression\n",
        "from sklearn.metrics import mean_squared_error, r2_score\n",
        "from sklearn.model_selection import train_test_split\n",
        "from sklearn.tree import DecisionTreeRegressor\n",
        "import statsmodels.api as sm\n",
        "from statsmodels.stats.outliers_influence import variance_inflation_factor"
      ],
      "execution_count": 0,
      "outputs": []
    },
    {
      "cell_type": "markdown",
      "metadata": {
        "id": "iSC7qkYvTS7N",
        "colab_type": "text"
      },
      "source": [
        "[The dataset](https://raw.githubusercontent.com/ryanleeallred/datasets/master/car_regression.csv) contains 8,495 rows and 9 variables:\n",
        "\n",
        "- make: manufacturer brand\n",
        "- price: seller’s price in advertisement (in USD)\n",
        "- body: car body type\n",
        "- mileage: as mentioned in advertisement (‘000 Km)\n",
        "- engV: rounded engine volume (‘000 cubic cm)\n",
        "- engType: type of fuel\n",
        "- registration: whether car registered in Ukraine or not\n",
        "- year: year of production\n",
        "- drive: drive type\n",
        "\n",
        "Run this cell to read the data:"
      ]
    },
    {
      "cell_type": "code",
      "metadata": {
        "colab_type": "code",
        "id": "FgaItuSL3zxO",
        "outputId": "d7b1504b-42d4-4efb-fb98-81ea961d4d03",
        "colab": {
          "base_uri": "https://localhost:8080/",
          "height": 376
        }
      },
      "source": [
        "df = pd.read_csv('https://raw.githubusercontent.com/ryanleeallred/datasets/master/car_regression.csv')\n",
        "print(df.shape)\n",
        "df.sample(10)"
      ],
      "execution_count": 37,
      "outputs": [
        {
          "output_type": "stream",
          "text": [
            "(8495, 9)\n"
          ],
          "name": "stdout"
        },
        {
          "output_type": "execute_result",
          "data": {
            "text/html": [
              "<div>\n",
              "<style scoped>\n",
              "    .dataframe tbody tr th:only-of-type {\n",
              "        vertical-align: middle;\n",
              "    }\n",
              "\n",
              "    .dataframe tbody tr th {\n",
              "        vertical-align: top;\n",
              "    }\n",
              "\n",
              "    .dataframe thead th {\n",
              "        text-align: right;\n",
              "    }\n",
              "</style>\n",
              "<table border=\"1\" class=\"dataframe\">\n",
              "  <thead>\n",
              "    <tr style=\"text-align: right;\">\n",
              "      <th></th>\n",
              "      <th>make</th>\n",
              "      <th>price</th>\n",
              "      <th>body</th>\n",
              "      <th>mileage</th>\n",
              "      <th>engV</th>\n",
              "      <th>engType</th>\n",
              "      <th>registration</th>\n",
              "      <th>year</th>\n",
              "      <th>drive</th>\n",
              "    </tr>\n",
              "  </thead>\n",
              "  <tbody>\n",
              "    <tr>\n",
              "      <th>1843</th>\n",
              "      <td>77</td>\n",
              "      <td>9000.0</td>\n",
              "      <td>3</td>\n",
              "      <td>223</td>\n",
              "      <td>2.5</td>\n",
              "      <td>0</td>\n",
              "      <td>1</td>\n",
              "      <td>2007</td>\n",
              "      <td>0</td>\n",
              "    </tr>\n",
              "    <tr>\n",
              "      <th>1154</th>\n",
              "      <td>59</td>\n",
              "      <td>10950.0</td>\n",
              "      <td>4</td>\n",
              "      <td>180</td>\n",
              "      <td>1.5</td>\n",
              "      <td>0</td>\n",
              "      <td>1</td>\n",
              "      <td>2011</td>\n",
              "      <td>0</td>\n",
              "    </tr>\n",
              "    <tr>\n",
              "      <th>7406</th>\n",
              "      <td>4</td>\n",
              "      <td>20900.0</td>\n",
              "      <td>0</td>\n",
              "      <td>185</td>\n",
              "      <td>4.2</td>\n",
              "      <td>3</td>\n",
              "      <td>1</td>\n",
              "      <td>2006</td>\n",
              "      <td>1</td>\n",
              "    </tr>\n",
              "    <tr>\n",
              "      <th>470</th>\n",
              "      <td>77</td>\n",
              "      <td>13500.0</td>\n",
              "      <td>5</td>\n",
              "      <td>124</td>\n",
              "      <td>2.0</td>\n",
              "      <td>0</td>\n",
              "      <td>1</td>\n",
              "      <td>2013</td>\n",
              "      <td>0</td>\n",
              "    </tr>\n",
              "    <tr>\n",
              "      <th>6581</th>\n",
              "      <td>24</td>\n",
              "      <td>2400.0</td>\n",
              "      <td>5</td>\n",
              "      <td>120</td>\n",
              "      <td>2.5</td>\n",
              "      <td>1</td>\n",
              "      <td>1</td>\n",
              "      <td>2008</td>\n",
              "      <td>2</td>\n",
              "    </tr>\n",
              "    <tr>\n",
              "      <th>2478</th>\n",
              "      <td>39</td>\n",
              "      <td>13000.0</td>\n",
              "      <td>3</td>\n",
              "      <td>64</td>\n",
              "      <td>1.6</td>\n",
              "      <td>1</td>\n",
              "      <td>1</td>\n",
              "      <td>2013</td>\n",
              "      <td>0</td>\n",
              "    </tr>\n",
              "    <tr>\n",
              "      <th>2700</th>\n",
              "      <td>67</td>\n",
              "      <td>10950.0</td>\n",
              "      <td>3</td>\n",
              "      <td>125</td>\n",
              "      <td>1.6</td>\n",
              "      <td>1</td>\n",
              "      <td>1</td>\n",
              "      <td>2011</td>\n",
              "      <td>0</td>\n",
              "    </tr>\n",
              "    <tr>\n",
              "      <th>6451</th>\n",
              "      <td>4</td>\n",
              "      <td>53700.0</td>\n",
              "      <td>0</td>\n",
              "      <td>67</td>\n",
              "      <td>3.0</td>\n",
              "      <td>3</td>\n",
              "      <td>1</td>\n",
              "      <td>2013</td>\n",
              "      <td>1</td>\n",
              "    </tr>\n",
              "    <tr>\n",
              "      <th>8279</th>\n",
              "      <td>52</td>\n",
              "      <td>7400.0</td>\n",
              "      <td>3</td>\n",
              "      <td>148</td>\n",
              "      <td>1.6</td>\n",
              "      <td>3</td>\n",
              "      <td>1</td>\n",
              "      <td>2008</td>\n",
              "      <td>0</td>\n",
              "    </tr>\n",
              "    <tr>\n",
              "      <th>4551</th>\n",
              "      <td>67</td>\n",
              "      <td>4700.0</td>\n",
              "      <td>3</td>\n",
              "      <td>235</td>\n",
              "      <td>1.9</td>\n",
              "      <td>2</td>\n",
              "      <td>0</td>\n",
              "      <td>2006</td>\n",
              "      <td>0</td>\n",
              "    </tr>\n",
              "  </tbody>\n",
              "</table>\n",
              "</div>"
            ],
            "text/plain": [
              "      make    price  body  mileage  engV  engType  registration  year  drive\n",
              "1843    77   9000.0     3      223   2.5        0             1  2007      0\n",
              "1154    59  10950.0     4      180   1.5        0             1  2011      0\n",
              "7406     4  20900.0     0      185   4.2        3             1  2006      1\n",
              "470     77  13500.0     5      124   2.0        0             1  2013      0\n",
              "6581    24   2400.0     5      120   2.5        1             1  2008      2\n",
              "2478    39  13000.0     3       64   1.6        1             1  2013      0\n",
              "2700    67  10950.0     3      125   1.6        1             1  2011      0\n",
              "6451     4  53700.0     0       67   3.0        3             1  2013      1\n",
              "8279    52   7400.0     3      148   1.6        3             1  2008      0\n",
              "4551    67   4700.0     3      235   1.9        2             0  2006      0"
            ]
          },
          "metadata": {
            "tags": []
          },
          "execution_count": 37
        }
      ]
    },
    {
      "cell_type": "markdown",
      "metadata": {
        "colab_type": "text",
        "id": "w9gkF-HNUFAV"
      },
      "source": [
        "# Predictive Modeling with Linear Regression"
      ]
    },
    {
      "cell_type": "markdown",
      "metadata": {
        "colab_type": "text",
        "id": "Vy1SWxcYTAC0"
      },
      "source": [
        "## 1.1 Split the data into an X matrix and y vector (`price` is the target we want to predict)."
      ]
    },
    {
      "cell_type": "code",
      "metadata": {
        "colab_type": "code",
        "id": "dwMbM9tUUaOQ",
        "colab": {
          "base_uri": "https://localhost:8080/",
          "height": 185
        },
        "outputId": "df92f9bb-51ec-4940-e377-d95c717a65a8"
      },
      "source": [
        "y = df['price']\n",
        "X = df.drop(columns='price')\n",
        "sns.set(style=\"ticks\", color_codes=True)\n",
        "sns.pairplot(data=df, y_vars=['price'], x_vars=X.columns)\n",
        "plt.show()"
      ],
      "execution_count": 38,
      "outputs": [
        {
          "output_type": "display_data",
          "data": {
            "image/png": "[encoded data removed]",
            "text/plain": [
              "<Figure size 1440x180 with 8 Axes>"
            ]
          },
          "metadata": {
            "tags": []
          }
        }
      ]
    },
    {
      "cell_type": "markdown",
      "metadata": {
        "colab_type": "text",
        "id": "Uf_SQswNUPwM"
      },
      "source": [
        "## 1.2 Split the data into test and train sets, using `train_test_split`.\n",
        "You may use a train size of 80% and a test size of 20%."
      ]
    },
    {
      "cell_type": "code",
      "metadata": {
        "colab_type": "code",
        "id": "iIiELKuKUOgR",
        "colab": {}
      },
      "source": [
        "df_train, df_test = train_test_split(df.copy(), test_size = 0.2, random_state = 0)\n",
        "\n",
        "features = ['make', 'body', 'mileage', \n",
        "            'engV', 'engType', 'registration',\n",
        "            'year', 'drive']\n",
        "target = 'price'\n",
        "\n",
        "X_train = df_train[features]\n",
        "X_test = df_test[features]\n",
        "Y_train = pd.DataFrame(data=df_train[target], columns = [target])\n",
        "Y_test = pd.DataFrame(data=df_test[target], columns = [target])"
      ],
      "execution_count": 0,
      "outputs": []
    },
    {
      "cell_type": "markdown",
      "metadata": {
        "colab_type": "text",
        "id": "0AdXWiwoUstf"
      },
      "source": [
        "## 1.3 Use scikit-learn to fit a multiple regression model, using your training data.\n",
        "Use `year` and one or more features of your choice. You will not be evaluated on which features you choose. You may choose to use all features."
      ]
    },
    {
      "cell_type": "code",
      "metadata": {
        "colab_type": "code",
        "id": "Zw70rt71U1xf",
        "colab": {
          "base_uri": "https://localhost:8080/",
          "height": 51
        },
        "outputId": "8be2897e-d6d6-40bc-a673-652753c62784"
      },
      "source": [
        "regr = LinearRegression()\n",
        "test_feat = ['year', 'mileage', 'body', 'engV']\n",
        "regr.fit(X_train[test_feat], Y_train)\n"
      ],
      "execution_count": 99,
      "outputs": [
        {
          "output_type": "execute_result",
          "data": {
            "text/plain": [
              "LinearRegression(copy_X=True, fit_intercept=True, n_jobs=None,\n",
              "         normalize=False)"
            ]
          },
          "metadata": {
            "tags": []
          },
          "execution_count": 99
        }
      ]
    },
    {
      "cell_type": "markdown",
      "metadata": {
        "colab_type": "text",
        "id": "82fH2rilU7j3"
      },
      "source": [
        "## 1.4 Report the Intercept and Coefficients for the fitted model."
      ]
    },
    {
      "cell_type": "code",
      "metadata": {
        "colab_type": "code",
        "id": "ue6hCHGqVE83",
        "colab": {
          "base_uri": "https://localhost:8080/",
          "height": 51
        },
        "outputId": "b7ee107e-d352-4a40-a899-3b506466926f"
      },
      "source": [
        "print(\"Coefficients:\", regr.coef_)\n",
        "print(\"Intercept:\", regr.intercept_)"
      ],
      "execution_count": 100,
      "outputs": [
        {
          "output_type": "stream",
          "text": [
            "Coefficients: [[ 1066.92112811   -34.83635579 -2625.16791432   414.39237857]]\n",
            "Intercept: [-2114649.3121312]\n"
          ],
          "name": "stdout"
        }
      ]
    },
    {
      "cell_type": "markdown",
      "metadata": {
        "colab_type": "text",
        "id": "T0CV0OnDVZbu"
      },
      "source": [
        "## 1.5 Use the test data to make predictions."
      ]
    },
    {
      "cell_type": "code",
      "metadata": {
        "colab_type": "code",
        "id": "vrR5b5c3VwE5",
        "colab": {}
      },
      "source": [
        "Y_test_pred = regr.predict(X_test[test_feat])"
      ],
      "execution_count": 0,
      "outputs": []
    },
    {
      "cell_type": "markdown",
      "metadata": {
        "colab_type": "text",
        "id": "ZwQb3gE7VycT"
      },
      "source": [
        "## 1.6 Use the test data to get both the Root Mean Square Error and $R^2$ for the model. \n",
        "You will not be evaluated on how high or low your scores are."
      ]
    },
    {
      "cell_type": "code",
      "metadata": {
        "colab_type": "code",
        "id": "Ym2kjxWhU6b2",
        "colab": {
          "base_uri": "https://localhost:8080/",
          "height": 51
        },
        "outputId": "a96db509-0779-46a8-dc15-756e66df4b68"
      },
      "source": [
        "print(\"RMSE:\", np.sqrt(mean_squared_error(Y_test, Y_test_pred)))\n",
        "print(\"R^2:\", r2_score(y_true = Y_test, y_pred = Y_test_pred))"
      ],
      "execution_count": 104,
      "outputs": [
        {
          "output_type": "stream",
          "text": [
            "RMSE: 20720.302279591986\n",
            "R^2: 0.21161915690871225\n"
          ],
          "name": "stdout"
        }
      ]
    },
    {
      "cell_type": "markdown",
      "metadata": {
        "colab_type": "text",
        "id": "kIXhGHIgXHyJ"
      },
      "source": [
        "## 1.7 How should we interpret the coefficient corresponding to the `year` feature?\n",
        "One sentence can be sufficient"
      ]
    },
    {
      "cell_type": "markdown",
      "metadata": {
        "colab_type": "text",
        "id": "8jv2n0wAXgHU"
      },
      "source": [
        "The coefficient is positive, meaning later years correspond to higher prices. Every year that is added corresponds on average to a price increase of 1098.28"
      ]
    },
    {
      "cell_type": "markdown",
      "metadata": {
        "colab_type": "text",
        "id": "ckQ5GsOtYsjn"
      },
      "source": [
        "### 1.8 How should we interpret the Root Mean Square Error?\n",
        "One sentence can be sufficient"
      ]
    },
    {
      "cell_type": "markdown",
      "metadata": {
        "id": "2xPrHAVXTS7m",
        "colab_type": "text"
      },
      "source": [
        "The regression line predicts the average y avlue associated with the given value of x. The RMSE is a measure of the y values spread around the average. "
      ]
    },
    {
      "cell_type": "markdown",
      "metadata": {
        "colab_type": "text",
        "id": "T3sZrru_YzFF"
      },
      "source": [
        "## 1.9 How should we interpret the $R^2$?\n",
        "One sentence can be sufficient"
      ]
    },
    {
      "cell_type": "markdown",
      "metadata": {
        "colab_type": "text",
        "id": "5pN2Oet_Y5jR"
      },
      "source": [
        "R^2 measures the acurracy  of fit, equal to the percentage of the dependant variable."
      ]
    },
    {
      "cell_type": "markdown",
      "metadata": {
        "colab_type": "text",
        "id": "Z_VNy7e3Y5sT"
      },
      "source": [
        "# Log-Linear and Polynomial Regression"
      ]
    },
    {
      "cell_type": "markdown",
      "metadata": {
        "colab_type": "text",
        "id": "G2T4FSqRZOJA"
      },
      "source": [
        "## 2.1 Engineer a new variable by taking the log of the price varible."
      ]
    },
    {
      "cell_type": "code",
      "metadata": {
        "colab_type": "code",
        "id": "7EChAFNxZX24",
        "colab": {}
      },
      "source": [
        "df_train['ln_price'] = np.log(df_train['price'])\n",
        "Y_train['ln_price'] = np.log(Y_train)\n",
        "Y_test['ln_price'] = np.log(Y_test)"
      ],
      "execution_count": 0,
      "outputs": []
    },
    {
      "cell_type": "markdown",
      "metadata": {
        "colab_type": "text",
        "id": "R117rxnOZw6q"
      },
      "source": [
        "## 2.2 Visualize scatterplots of the relationship between each feature versus the log of price, to look for non-linearly distributed features.\n",
        "You may use any plotting tools and techniques."
      ]
    },
    {
      "cell_type": "code",
      "metadata": {
        "colab_type": "code",
        "id": "8l56Qk7VaBrU",
        "colab": {
          "base_uri": "https://localhost:8080/",
          "height": 225
        },
        "outputId": "65de1de8-a980-44fb-ed56-076fbd05508f"
      },
      "source": [
        "sns.set(style=\"ticks\", color_codes=True)\n",
        "sns.pairplot(data=df, y_vars=['ln_price'], x_vars=X.columns)\n",
        "plt.show()"
      ],
      "execution_count": 106,
      "outputs": [
        {
          "output_type": "display_data",
          "data": {
            "image/png": "[encoded data removed]",
            "text/plain": [
              "<Figure size 2160x180 with 12 Axes>"
            ]
          },
          "metadata": {
            "tags": []
          }
        }
      ]
    },
    {
      "cell_type": "markdown",
      "metadata": {
        "colab_type": "text",
        "id": "QTf4gCaDaiCw"
      },
      "source": [
        "## 2.3 Create polynomial feature(s)\n",
        "You will not be evaluated on which feature(s) you choose. But try to choose appropriate features."
      ]
    },
    {
      "cell_type": "code",
      "metadata": {
        "colab_type": "code",
        "id": "ipsCcH83ZMe8",
        "colab": {
          "base_uri": "https://localhost:8080/",
          "height": 425
        },
        "outputId": "d703a41a-5fd2-46f5-d898-472e10ef933e"
      },
      "source": [
        "X_train['mileage**2'] = X_train['mileage']**2\n",
        "X_test['mileage**2'] = X_test['mileage']**2\n",
        "X_train['year**2'] = X_train['year']**2\n",
        "X_test['year**2'] = X_test['year']**2"
      ],
      "execution_count": 108,
      "outputs": [
        {
          "output_type": "stream",
          "text": [
            "/usr/local/lib/python3.6/dist-packages/ipykernel_launcher.py:1: SettingWithCopyWarning: \n",
            "A value is trying to be set on a copy of a slice from a DataFrame.\n",
            "Try using .loc[row_indexer,col_indexer] = value instead\n",
            "\n",
            "See the caveats in the documentation: http://pandas.pydata.org/pandas-docs/stable/indexing.html#indexing-view-versus-copy\n",
            "  \"\"\"Entry point for launching an IPython kernel.\n",
            "/usr/local/lib/python3.6/dist-packages/ipykernel_launcher.py:2: SettingWithCopyWarning: \n",
            "A value is trying to be set on a copy of a slice from a DataFrame.\n",
            "Try using .loc[row_indexer,col_indexer] = value instead\n",
            "\n",
            "See the caveats in the documentation: http://pandas.pydata.org/pandas-docs/stable/indexing.html#indexing-view-versus-copy\n",
            "  \n",
            "/usr/local/lib/python3.6/dist-packages/ipykernel_launcher.py:3: SettingWithCopyWarning: \n",
            "A value is trying to be set on a copy of a slice from a DataFrame.\n",
            "Try using .loc[row_indexer,col_indexer] = value instead\n",
            "\n",
            "See the caveats in the documentation: http://pandas.pydata.org/pandas-docs/stable/indexing.html#indexing-view-versus-copy\n",
            "  This is separate from the ipykernel package so we can avoid doing imports until\n",
            "/usr/local/lib/python3.6/dist-packages/ipykernel_launcher.py:4: SettingWithCopyWarning: \n",
            "A value is trying to be set on a copy of a slice from a DataFrame.\n",
            "Try using .loc[row_indexer,col_indexer] = value instead\n",
            "\n",
            "See the caveats in the documentation: http://pandas.pydata.org/pandas-docs/stable/indexing.html#indexing-view-versus-copy\n",
            "  after removing the cwd from sys.path.\n"
          ],
          "name": "stderr"
        }
      ]
    },
    {
      "cell_type": "markdown",
      "metadata": {
        "colab_type": "text",
        "id": "NJgfD-JLayRA"
      },
      "source": [
        "## 2.4 Use the new log-transformed y variable and your x variables (including any new polynomial features) to fit a new linear regression model. Then report the: intercept, coefficients, RMSE, and $R^2$."
      ]
    },
    {
      "cell_type": "code",
      "metadata": {
        "colab_type": "code",
        "id": "uXmtVpnPcFij",
        "colab": {
          "base_uri": "https://localhost:8080/",
          "height": 102
        },
        "outputId": "ec24ae57-7795-45b3-e411-83cf38de0544"
      },
      "source": [
        "target = 'ln_price'\n",
        "new_regr = LinearRegression()\n",
        "test_feat = ['year', 'mileage', 'body', 'engV', 'mileage**2', 'year**2']\n",
        "new_regr.fit(X_train[test_feat], Y_train[target])\n",
        "df_y_test_pred = new_regr.predict(X_test[test_feat])\n",
        "print(\"Coefficients:\", new_regr.coef_)\n",
        "print(\"Intercept:\", new_regr.intercept_)\n",
        "print(\"R^2:\", r2_score(y_true = Y_test[target], y_pred = df_y_test_pred))\n",
        "print(\"RMSE:\", np.sqrt(mean_squared_error(Y_test[target], df_y_test_pred)))"
      ],
      "execution_count": 111,
      "outputs": [
        {
          "output_type": "stream",
          "text": [
            "Coefficients: [-8.60961831e+00  9.97143297e-04 -1.25280332e-01  1.50663922e-02\n",
            " -1.56228642e-07  2.17572167e-03]\n",
            "Intercept: 8524.850620115481\n",
            "R^2: 0.554215932139115\n",
            "RMSE: 0.6430218601238622\n"
          ],
          "name": "stdout"
        }
      ]
    },
    {
      "cell_type": "markdown",
      "metadata": {
        "colab_type": "text",
        "id": "hf4_8FXrpHFY"
      },
      "source": [
        "## 2.5 How do we interpret coefficients in Log-Linear Regression (differently than Ordinary Least Squares Regression)?\n",
        "One sentence can be sufficient"
      ]
    },
    {
      "cell_type": "markdown",
      "metadata": {
        "colab_type": "text",
        "id": "JVGKvt5WpTf2"
      },
      "source": [
        "Each coefficient relates to a percent different in the target variable, the coefficient shows a proportional change."
      ]
    },
    {
      "cell_type": "markdown",
      "metadata": {
        "colab_type": "text",
        "id": "JUQwzfDRfrQi"
      },
      "source": [
        "# Decision Trees"
      ]
    },
    {
      "cell_type": "markdown",
      "metadata": {
        "colab_type": "text",
        "id": "M_JLfReVeoYT"
      },
      "source": [
        "## 3.1 Use scikit-learn to fit a decision tree regression model, using your training data.\n",
        "Use one or more features of your choice. You will not be evaluated on which features you choose. You may choose to use all features.\n",
        "\n",
        "You may use the log-transformed target or the original un-transformed target. You will not be evaluated on which you choose."
      ]
    },
    {
      "cell_type": "code",
      "metadata": {
        "id": "fUVmPWifTS7u",
        "colab_type": "code",
        "colab": {
          "base_uri": "https://localhost:8080/",
          "height": 102
        },
        "outputId": "a238a49e-4832-447c-b708-b6eaae69a3a0"
      },
      "source": [
        "tree = DecisionTreeRegressor(max_depth = 3)\n",
        "tree.fit(X_train, Y_train['price'])"
      ],
      "execution_count": 112,
      "outputs": [
        {
          "output_type": "execute_result",
          "data": {
            "text/plain": [
              "DecisionTreeRegressor(criterion='mse', max_depth=3, max_features=None,\n",
              "           max_leaf_nodes=None, min_impurity_decrease=0.0,\n",
              "           min_impurity_split=None, min_samples_leaf=1,\n",
              "           min_samples_split=2, min_weight_fraction_leaf=0.0,\n",
              "           presort=False, random_state=None, splitter='best')"
            ]
          },
          "metadata": {
            "tags": []
          },
          "execution_count": 112
        }
      ]
    },
    {
      "cell_type": "markdown",
      "metadata": {
        "id": "utmoV2l3TS7v",
        "colab_type": "text"
      },
      "source": [
        "## 3.2 Use the test data to get the $R^2$ for the model. \n",
        "You will not be evaluated on how high or low your scores are."
      ]
    },
    {
      "cell_type": "code",
      "metadata": {
        "id": "IUwSJKVhTS7v",
        "colab_type": "code",
        "colab": {
          "base_uri": "https://localhost:8080/",
          "height": 34
        },
        "outputId": "deba1541-c3b9-4558-8cdf-b9f00af98d07"
      },
      "source": [
        "y_true = Y_test['price']\n",
        "y_pred = tree.predict(X_test)\n",
        "print(\"R^2 Score:\", r2_score(y_true, y_pred))"
      ],
      "execution_count": 113,
      "outputs": [
        {
          "output_type": "stream",
          "text": [
            "R^2 Score: 0.6315207571503785\n"
          ],
          "name": "stdout"
        }
      ]
    },
    {
      "cell_type": "markdown",
      "metadata": {
        "colab_type": "text",
        "id": "Gs20FOntprd_"
      },
      "source": [
        "# Regression Diagnostics"
      ]
    },
    {
      "cell_type": "markdown",
      "metadata": {
        "colab_type": "text",
        "id": "VJnxkobcpulV"
      },
      "source": [
        "## 4.1 Use statsmodels to run a log-linear or log-polynomial linear regression with robust standard errors."
      ]
    },
    {
      "cell_type": "code",
      "metadata": {
        "colab_type": "code",
        "id": "QqCVeYBTpvfQ",
        "colab": {
          "base_uri": "https://localhost:8080/",
          "height": 612
        },
        "outputId": "66ac1520-f0e6-4166-8e27-2ffd85447796"
      },
      "source": [
        "model = sm.OLS(Y_train['ln_price'], X_train)\n",
        "results = model.fit()\n",
        "print(results.summary())"
      ],
      "execution_count": 115,
      "outputs": [
        {
          "output_type": "stream",
          "text": [
            "                            OLS Regression Results                            \n",
            "==============================================================================\n",
            "Dep. Variable:               ln_price   R-squared:                       0.996\n",
            "Model:                            OLS   Adj. R-squared:                  0.996\n",
            "Method:                 Least Squares   F-statistic:                 1.867e+05\n",
            "Date:                Fri, 03 May 2019   Prob (F-statistic):               0.00\n",
            "Time:                        18:28:17   Log-Likelihood:                -5654.1\n",
            "No. Observations:                6796   AIC:                         1.133e+04\n",
            "Df Residuals:                    6786   BIC:                         1.140e+04\n",
            "Df Model:                          10                                         \n",
            "Covariance Type:            nonrobust                                         \n",
            "================================================================================\n",
            "                   coef    std err          t      P>|t|      [0.025      0.975]\n",
            "--------------------------------------------------------------------------------\n",
            "make            -0.0016      0.000     -5.580      0.000      -0.002      -0.001\n",
            "body            -0.0936      0.005    -20.599      0.000      -0.103      -0.085\n",
            "mileage         -0.0007      0.000     -4.304      0.000      -0.001      -0.000\n",
            "engV             0.0114      0.001      8.490      0.000       0.009       0.014\n",
            "engType         -0.0599      0.005    -11.110      0.000      -0.070      -0.049\n",
            "registration     0.7140      0.030     23.713      0.000       0.655       0.773\n",
            "year            -0.0874      0.001    -72.084      0.000      -0.090      -0.085\n",
            "drive            0.3844      0.010     39.666      0.000       0.365       0.403\n",
            "mileage**2    1.546e-06    3.1e-07      4.988      0.000    9.39e-07    2.15e-06\n",
            "year**2        4.57e-05   6.01e-07     75.986      0.000    4.45e-05    4.69e-05\n",
            "==============================================================================\n",
            "Omnibus:                      244.732   Durbin-Watson:                   2.032\n",
            "Prob(Omnibus):                  0.000   Jarque-Bera (JB):              695.399\n",
            "Skew:                          -0.082   Prob(JB):                    9.91e-152\n",
            "Kurtosis:                       4.559   Cond. No.                     1.80e+07\n",
            "==============================================================================\n",
            "\n",
            "Warnings:\n",
            "[1] Standard Errors assume that the covariance matrix of the errors is correctly specified.\n",
            "[2] The condition number is large, 1.8e+07. This might indicate that there are\n",
            "strong multicollinearity or other numerical problems.\n"
          ],
          "name": "stdout"
        }
      ]
    },
    {
      "cell_type": "markdown",
      "metadata": {
        "colab_type": "text",
        "id": "loKma3wspwVs"
      },
      "source": [
        "## 4.2 Calculate the Variance Inflation Factor (VIF) of our X variables. \n",
        "\n",
        "### Do we have multicollinearity problems?\n",
        "One sentence can be sufficient"
      ]
    },
    {
      "cell_type": "code",
      "metadata": {
        "colab_type": "code",
        "id": "EN1mPKWhp2Vn",
        "colab": {
          "base_uri": "https://localhost:8080/",
          "height": 238
        },
        "outputId": "109609cc-1376-43ac-9743-ea09cc4ab202"
      },
      "source": [
        "vifs = [variance_inflation_factor(X.values, i) for i in range(X.shape[1])]\n",
        "y = [i > 10 for i in vifs]\n",
        "for col, vif, y in zip(X.columns, vifs, y):\n",
        "    print(f'{col:15} {vif:<7.2f} {\"<<\" if y else \"\"}')"
      ],
      "execution_count": 116,
      "outputs": [
        {
          "output_type": "stream",
          "text": [
            "const           3423029618.12 <<\n",
            "make            1.08    \n",
            "body            11.29   <<\n",
            "mileage         7.56    \n",
            "engV            23.92   <<\n",
            "engType         1.34    \n",
            "registration    1.11    \n",
            "year            164292.77 <<\n",
            "drive           1.25    \n",
            "mileage_sq      5.08    \n",
            "year_sq         164633.03 <<\n",
            "body_sq         11.58   <<\n",
            "engV_sq         23.75   <<\n"
          ],
          "name": "stdout"
        }
      ]
    },
    {
      "cell_type": "markdown",
      "metadata": {
        "id": "RCgl45Zv0j0I",
        "colab_type": "text"
      },
      "source": [
        "There are several collinearity problems, which will require more work!"
      ]
    }
  ]
}