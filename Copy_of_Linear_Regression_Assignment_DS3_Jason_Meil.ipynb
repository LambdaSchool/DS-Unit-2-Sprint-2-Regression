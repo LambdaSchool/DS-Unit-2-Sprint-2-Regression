{
  "nbformat": 4,
  "nbformat_minor": 0,
  "metadata": {
    "colab": {
      "name": "Copy of Linear Regression Assignment_DS3_Jason_Meil.ipynb",
      "version": "0.3.2",
      "provenance": [],
      "collapsed_sections": [],
      "include_colab_link": true
    },
    "language_info": {
      "codemirror_mode": {
        "name": "ipython",
        "version": 3
      },
      "file_extension": ".py",
      "mimetype": "text/x-python",
      "name": "python",
      "nbconvert_exporter": "python",
      "pygments_lexer": "ipython3",
      "version": "3.7.1"
    },
    "kernelspec": {
      "display_name": "Python 3",
      "language": "python",
      "name": "python3"
    }
  },
  "cells": [
    {
      "cell_type": "markdown",
      "metadata": {
        "id": "view-in-github",
        "colab_type": "text"
      },
      "source": [
        "<a href=\"https://colab.research.google.com/github/RecursiveOuroboros/DS-Unit-2-Sprint-2-Regression/blob/master/Copy_of_Linear_Regression_Assignment_DS3_Jason_Meil.ipynb\" target=\"_parent\"><img src=\"https://colab.research.google.com/assets/colab-badge.svg\" alt=\"Open In Colab\"/></a>"
      ]
    },
    {
      "cell_type": "markdown",
      "metadata": {
        "colab_type": "text",
        "id": "g_AhWOYeMfrH"
      },
      "source": [
        "# King County Housing Data - Linear Regression Assignment\n",
        "\n",
        "Data for this assignment was obtained from Kaggle: <https://www.kaggle.com/harlfoxem/housesalesprediction>\n",
        "\n",
        "Complete the following challenges below to improve iteratively your home price estimation and practice implementing predictive linear regression models. "
      ]
    },
    {
      "cell_type": "markdown",
      "metadata": {
        "colab_type": "text",
        "id": "3kcL7V2SHAkp"
      },
      "source": [
        "# Bivariate Regression\n",
        "\n",
        "Pick the X variable that you think will be the most correlated with Y. \n",
        "\n",
        "Split your dataset into a 20-80 train-test-split (80% of data for training, and 20% for testing).\n",
        "\n",
        "Train a regression model using this single X and single Y variable. Once you have trained the model and obtained its coefficients, plot the points on a graph and fit your line of best fit to the graph.\n",
        "\n",
        "Report your Root Mean Squared Error and R-Squared for this model.\n",
        "\n"
      ]
    },
    {
      "cell_type": "code",
      "metadata": {
        "colab_type": "code",
        "id": "G5gPYOmHMPAW",
        "outputId": "793b90c8-e6ad-4025-ac5f-5e89dff5e97f",
        "colab": {
          "base_uri": "https://localhost:8080/",
          "height": 241
        }
      },
      "source": [
        "#y is regressand here it is target\n",
        "#X is exogenions variables here they are features\n",
        "import pandas as pd\n",
        "\n",
        "df = pd.read_csv('https://raw.githubusercontent.com/ryanleeallred/datasets/master/kc_house_data.csv')\n",
        "pd.set_option('display.max_columns', 100)\n",
        "print(df.shape)\n",
        "df.head()"
      ],
      "execution_count": 2,
      "outputs": [
        {
          "output_type": "stream",
          "text": [
            "(21613, 21)\n"
          ],
          "name": "stdout"
        },
        {
          "output_type": "execute_result",
          "data": {
            "text/html": [
              "<div>\n",
              "<style scoped>\n",
              "    .dataframe tbody tr th:only-of-type {\n",
              "        vertical-align: middle;\n",
              "    }\n",
              "\n",
              "    .dataframe tbody tr th {\n",
              "        vertical-align: top;\n",
              "    }\n",
              "\n",
              "    .dataframe thead th {\n",
              "        text-align: right;\n",
              "    }\n",
              "</style>\n",
              "<table border=\"1\" class=\"dataframe\">\n",
              "  <thead>\n",
              "    <tr style=\"text-align: right;\">\n",
              "      <th></th>\n",
              "      <th>id</th>\n",
              "      <th>date</th>\n",
              "      <th>price</th>\n",
              "      <th>bedrooms</th>\n",
              "      <th>bathrooms</th>\n",
              "      <th>sqft_living</th>\n",
              "      <th>sqft_lot</th>\n",
              "      <th>floors</th>\n",
              "      <th>waterfront</th>\n",
              "      <th>view</th>\n",
              "      <th>condition</th>\n",
              "      <th>grade</th>\n",
              "      <th>sqft_above</th>\n",
              "      <th>sqft_basement</th>\n",
              "      <th>yr_built</th>\n",
              "      <th>yr_renovated</th>\n",
              "      <th>zipcode</th>\n",
              "      <th>lat</th>\n",
              "      <th>long</th>\n",
              "      <th>sqft_living15</th>\n",
              "      <th>sqft_lot15</th>\n",
              "    </tr>\n",
              "  </thead>\n",
              "  <tbody>\n",
              "    <tr>\n",
              "      <th>0</th>\n",
              "      <td>7129300520</td>\n",
              "      <td>20141013T000000</td>\n",
              "      <td>221900.0</td>\n",
              "      <td>3</td>\n",
              "      <td>1.00</td>\n",
              "      <td>1180</td>\n",
              "      <td>5650</td>\n",
              "      <td>1.0</td>\n",
              "      <td>0</td>\n",
              "      <td>0</td>\n",
              "      <td>3</td>\n",
              "      <td>7</td>\n",
              "      <td>1180</td>\n",
              "      <td>0</td>\n",
              "      <td>1955</td>\n",
              "      <td>0</td>\n",
              "      <td>98178</td>\n",
              "      <td>47.5112</td>\n",
              "      <td>-122.257</td>\n",
              "      <td>1340</td>\n",
              "      <td>5650</td>\n",
              "    </tr>\n",
              "    <tr>\n",
              "      <th>1</th>\n",
              "      <td>6414100192</td>\n",
              "      <td>20141209T000000</td>\n",
              "      <td>538000.0</td>\n",
              "      <td>3</td>\n",
              "      <td>2.25</td>\n",
              "      <td>2570</td>\n",
              "      <td>7242</td>\n",
              "      <td>2.0</td>\n",
              "      <td>0</td>\n",
              "      <td>0</td>\n",
              "      <td>3</td>\n",
              "      <td>7</td>\n",
              "      <td>2170</td>\n",
              "      <td>400</td>\n",
              "      <td>1951</td>\n",
              "      <td>1991</td>\n",
              "      <td>98125</td>\n",
              "      <td>47.7210</td>\n",
              "      <td>-122.319</td>\n",
              "      <td>1690</td>\n",
              "      <td>7639</td>\n",
              "    </tr>\n",
              "    <tr>\n",
              "      <th>2</th>\n",
              "      <td>5631500400</td>\n",
              "      <td>20150225T000000</td>\n",
              "      <td>180000.0</td>\n",
              "      <td>2</td>\n",
              "      <td>1.00</td>\n",
              "      <td>770</td>\n",
              "      <td>10000</td>\n",
              "      <td>1.0</td>\n",
              "      <td>0</td>\n",
              "      <td>0</td>\n",
              "      <td>3</td>\n",
              "      <td>6</td>\n",
              "      <td>770</td>\n",
              "      <td>0</td>\n",
              "      <td>1933</td>\n",
              "      <td>0</td>\n",
              "      <td>98028</td>\n",
              "      <td>47.7379</td>\n",
              "      <td>-122.233</td>\n",
              "      <td>2720</td>\n",
              "      <td>8062</td>\n",
              "    </tr>\n",
              "    <tr>\n",
              "      <th>3</th>\n",
              "      <td>2487200875</td>\n",
              "      <td>20141209T000000</td>\n",
              "      <td>604000.0</td>\n",
              "      <td>4</td>\n",
              "      <td>3.00</td>\n",
              "      <td>1960</td>\n",
              "      <td>5000</td>\n",
              "      <td>1.0</td>\n",
              "      <td>0</td>\n",
              "      <td>0</td>\n",
              "      <td>5</td>\n",
              "      <td>7</td>\n",
              "      <td>1050</td>\n",
              "      <td>910</td>\n",
              "      <td>1965</td>\n",
              "      <td>0</td>\n",
              "      <td>98136</td>\n",
              "      <td>47.5208</td>\n",
              "      <td>-122.393</td>\n",
              "      <td>1360</td>\n",
              "      <td>5000</td>\n",
              "    </tr>\n",
              "    <tr>\n",
              "      <th>4</th>\n",
              "      <td>1954400510</td>\n",
              "      <td>20150218T000000</td>\n",
              "      <td>510000.0</td>\n",
              "      <td>3</td>\n",
              "      <td>2.00</td>\n",
              "      <td>1680</td>\n",
              "      <td>8080</td>\n",
              "      <td>1.0</td>\n",
              "      <td>0</td>\n",
              "      <td>0</td>\n",
              "      <td>3</td>\n",
              "      <td>8</td>\n",
              "      <td>1680</td>\n",
              "      <td>0</td>\n",
              "      <td>1987</td>\n",
              "      <td>0</td>\n",
              "      <td>98074</td>\n",
              "      <td>47.6168</td>\n",
              "      <td>-122.045</td>\n",
              "      <td>1800</td>\n",
              "      <td>7503</td>\n",
              "    </tr>\n",
              "  </tbody>\n",
              "</table>\n",
              "</div>"
            ],
            "text/plain": [
              "           id             date     price  bedrooms  bathrooms  sqft_living  \\\n",
              "0  7129300520  20141013T000000  221900.0         3       1.00         1180   \n",
              "1  6414100192  20141209T000000  538000.0         3       2.25         2570   \n",
              "2  5631500400  20150225T000000  180000.0         2       1.00          770   \n",
              "3  2487200875  20141209T000000  604000.0         4       3.00         1960   \n",
              "4  1954400510  20150218T000000  510000.0         3       2.00         1680   \n",
              "\n",
              "   sqft_lot  floors  waterfront  view  condition  grade  sqft_above  \\\n",
              "0      5650     1.0           0     0          3      7        1180   \n",
              "1      7242     2.0           0     0          3      7        2170   \n",
              "2     10000     1.0           0     0          3      6         770   \n",
              "3      5000     1.0           0     0          5      7        1050   \n",
              "4      8080     1.0           0     0          3      8        1680   \n",
              "\n",
              "   sqft_basement  yr_built  yr_renovated  zipcode      lat     long  \\\n",
              "0              0      1955             0    98178  47.5112 -122.257   \n",
              "1            400      1951          1991    98125  47.7210 -122.319   \n",
              "2              0      1933             0    98028  47.7379 -122.233   \n",
              "3            910      1965             0    98136  47.5208 -122.393   \n",
              "4              0      1987             0    98074  47.6168 -122.045   \n",
              "\n",
              "   sqft_living15  sqft_lot15  \n",
              "0           1340        5650  \n",
              "1           1690        7639  \n",
              "2           2720        8062  \n",
              "3           1360        5000  \n",
              "4           1800        7503  "
            ]
          },
          "metadata": {
            "tags": []
          },
          "execution_count": 2
        }
      ]
    },
    {
      "cell_type": "code",
      "metadata": {
        "colab_type": "code",
        "id": "DhBV6VTZGnQ6",
        "colab": {}
      },
      "source": [
        "import seaborn as sns\n",
        "#Testing with some scatter plots to see what exogenic variables might affect the regressand. \n",
        "# My idea is that it is likely that Sqft, Zip, or yr_built might affect\n"
      ],
      "execution_count": 0,
      "outputs": []
    },
    {
      "cell_type": "code",
      "metadata": {
        "id": "c-d6QIOK3d4P",
        "colab_type": "code",
        "colab": {
          "base_uri": "https://localhost:8080/",
          "height": 295
        },
        "outputId": "2172dd1f-bafd-42de-baa2-d18bbb004d18"
      },
      "source": [
        "#Sqft vs Price\n",
        "# testing some x variables on scatter plot\n",
        "\n",
        "import matplotlib.pyplot as plt\n",
        "import numpy as np\n",
        "\n",
        "plt.scatter(df.sqft_living, df.price)\n",
        "plt.ylabel(\"Price\")\n",
        "plt.xlabel(\"X Variable\")\n",
        "plt.title(\"X Variable vs. Price Exploration\")\n",
        "plt.show()"
      ],
      "execution_count": 8,
      "outputs": [
        {
          "output_type": "display_data",
          "data": {
            "image/png": "[encoded data removed]",
            "text/plain": [
              "<Figure size 432x288 with 1 Axes>"
            ]
          },
          "metadata": {
            "tags": []
          }
        }
      ]
    },
    {
      "cell_type": "code",
      "metadata": {
        "id": "paaumg2738BO",
        "colab_type": "code",
        "colab": {
          "base_uri": "https://localhost:8080/",
          "height": 295
        },
        "outputId": "4f25ba3d-5844-4455-90bf-fae22ed27e1f"
      },
      "source": [
        "#yr_built vs Price\n",
        "# testing some x variables on scatter plot\n",
        "\n",
        "import matplotlib.pyplot as plt\n",
        "import numpy as np\n",
        "\n",
        "plt.scatter(df.yr_built, df.price)\n",
        "plt.ylabel(\"Price\")\n",
        "plt.xlabel(\"X Variable\")\n",
        "plt.title(\"X Variable vs. Price Exploration\")\n",
        "plt.show()"
      ],
      "execution_count": 10,
      "outputs": [
        {
          "output_type": "display_data",
          "data": {
            "image/png": "[encoded data removed]",
            "text/plain": [
              "<Figure size 432x288 with 1 Axes>"
            ]
          },
          "metadata": {
            "tags": []
          }
        }
      ]
    },
    {
      "cell_type": "code",
      "metadata": {
        "id": "oEzu02q-4Bqi",
        "colab_type": "code",
        "colab": {
          "base_uri": "https://localhost:8080/",
          "height": 295
        },
        "outputId": "b386267a-b334-4118-cb37-66b4c20ff11b"
      },
      "source": [
        "#zipcode vs Price\n",
        "# testing some x variables on scatter plot\n",
        "\n",
        "import matplotlib.pyplot as plt\n",
        "import numpy as np\n",
        "\n",
        "plt.scatter(df.zipcode, df.price)\n",
        "plt.ylabel(\"Price\")\n",
        "plt.xlabel(\"X Variable\")\n",
        "plt.title(\"X Variable vs. Price Exploration\")\n",
        "plt.show()"
      ],
      "execution_count": 11,
      "outputs": [
        {
          "output_type": "display_data",
          "data": {
            "image/png": "[encoded data removed]",
            "text/plain": [
              "<Figure size 432x288 with 1 Axes>"
            ]
          },
          "metadata": {
            "tags": []
          }
        }
      ]
    },
    {
      "cell_type": "code",
      "metadata": {
        "id": "wRryrHPn3Hh-",
        "colab_type": "code",
        "colab": {
          "base_uri": "https://localhost:8080/",
          "height": 689
        },
        "outputId": "f82e6d70-7883-48d4-833a-78ee08dd48ca"
      },
      "source": [
        "# An alternative way I could have done this is to use a Corr matrix\n",
        "df.corr()\n",
        "# Sqrft_living has a .70 Correlation to Price so I think it is the best variable to start with"
      ],
      "execution_count": 7,
      "outputs": [
        {
          "output_type": "execute_result",
          "data": {
            "text/html": [
              "<div>\n",
              "<style scoped>\n",
              "    .dataframe tbody tr th:only-of-type {\n",
              "        vertical-align: middle;\n",
              "    }\n",
              "\n",
              "    .dataframe tbody tr th {\n",
              "        vertical-align: top;\n",
              "    }\n",
              "\n",
              "    .dataframe thead th {\n",
              "        text-align: right;\n",
              "    }\n",
              "</style>\n",
              "<table border=\"1\" class=\"dataframe\">\n",
              "  <thead>\n",
              "    <tr style=\"text-align: right;\">\n",
              "      <th></th>\n",
              "      <th>id</th>\n",
              "      <th>price</th>\n",
              "      <th>bedrooms</th>\n",
              "      <th>bathrooms</th>\n",
              "      <th>sqft_living</th>\n",
              "      <th>sqft_lot</th>\n",
              "      <th>floors</th>\n",
              "      <th>waterfront</th>\n",
              "      <th>view</th>\n",
              "      <th>condition</th>\n",
              "      <th>grade</th>\n",
              "      <th>sqft_above</th>\n",
              "      <th>sqft_basement</th>\n",
              "      <th>yr_built</th>\n",
              "      <th>yr_renovated</th>\n",
              "      <th>zipcode</th>\n",
              "      <th>lat</th>\n",
              "      <th>long</th>\n",
              "      <th>sqft_living15</th>\n",
              "      <th>sqft_lot15</th>\n",
              "    </tr>\n",
              "  </thead>\n",
              "  <tbody>\n",
              "    <tr>\n",
              "      <th>id</th>\n",
              "      <td>1.000000</td>\n",
              "      <td>-0.016762</td>\n",
              "      <td>0.001286</td>\n",
              "      <td>0.005160</td>\n",
              "      <td>-0.012258</td>\n",
              "      <td>-0.132109</td>\n",
              "      <td>0.018525</td>\n",
              "      <td>-0.002721</td>\n",
              "      <td>0.011592</td>\n",
              "      <td>-0.023783</td>\n",
              "      <td>0.008130</td>\n",
              "      <td>-0.010842</td>\n",
              "      <td>-0.005151</td>\n",
              "      <td>0.021380</td>\n",
              "      <td>-0.016907</td>\n",
              "      <td>-0.008224</td>\n",
              "      <td>-0.001891</td>\n",
              "      <td>0.020799</td>\n",
              "      <td>-0.002901</td>\n",
              "      <td>-0.138798</td>\n",
              "    </tr>\n",
              "    <tr>\n",
              "      <th>price</th>\n",
              "      <td>-0.016762</td>\n",
              "      <td>1.000000</td>\n",
              "      <td>0.308350</td>\n",
              "      <td>0.525138</td>\n",
              "      <td>0.702035</td>\n",
              "      <td>0.089661</td>\n",
              "      <td>0.256794</td>\n",
              "      <td>0.266369</td>\n",
              "      <td>0.397293</td>\n",
              "      <td>0.036362</td>\n",
              "      <td>0.667434</td>\n",
              "      <td>0.605567</td>\n",
              "      <td>0.323816</td>\n",
              "      <td>0.054012</td>\n",
              "      <td>0.126434</td>\n",
              "      <td>-0.053203</td>\n",
              "      <td>0.307003</td>\n",
              "      <td>0.021626</td>\n",
              "      <td>0.585379</td>\n",
              "      <td>0.082447</td>\n",
              "    </tr>\n",
              "    <tr>\n",
              "      <th>bedrooms</th>\n",
              "      <td>0.001286</td>\n",
              "      <td>0.308350</td>\n",
              "      <td>1.000000</td>\n",
              "      <td>0.515884</td>\n",
              "      <td>0.576671</td>\n",
              "      <td>0.031703</td>\n",
              "      <td>0.175429</td>\n",
              "      <td>-0.006582</td>\n",
              "      <td>0.079532</td>\n",
              "      <td>0.028472</td>\n",
              "      <td>0.356967</td>\n",
              "      <td>0.477600</td>\n",
              "      <td>0.303093</td>\n",
              "      <td>0.154178</td>\n",
              "      <td>0.018841</td>\n",
              "      <td>-0.152668</td>\n",
              "      <td>-0.008931</td>\n",
              "      <td>0.129473</td>\n",
              "      <td>0.391638</td>\n",
              "      <td>0.029244</td>\n",
              "    </tr>\n",
              "    <tr>\n",
              "      <th>bathrooms</th>\n",
              "      <td>0.005160</td>\n",
              "      <td>0.525138</td>\n",
              "      <td>0.515884</td>\n",
              "      <td>1.000000</td>\n",
              "      <td>0.754665</td>\n",
              "      <td>0.087740</td>\n",
              "      <td>0.500653</td>\n",
              "      <td>0.063744</td>\n",
              "      <td>0.187737</td>\n",
              "      <td>-0.124982</td>\n",
              "      <td>0.664983</td>\n",
              "      <td>0.685342</td>\n",
              "      <td>0.283770</td>\n",
              "      <td>0.506019</td>\n",
              "      <td>0.050739</td>\n",
              "      <td>-0.203866</td>\n",
              "      <td>0.024573</td>\n",
              "      <td>0.223042</td>\n",
              "      <td>0.568634</td>\n",
              "      <td>0.087175</td>\n",
              "    </tr>\n",
              "    <tr>\n",
              "      <th>sqft_living</th>\n",
              "      <td>-0.012258</td>\n",
              "      <td>0.702035</td>\n",
              "      <td>0.576671</td>\n",
              "      <td>0.754665</td>\n",
              "      <td>1.000000</td>\n",
              "      <td>0.172826</td>\n",
              "      <td>0.353949</td>\n",
              "      <td>0.103818</td>\n",
              "      <td>0.284611</td>\n",
              "      <td>-0.058753</td>\n",
              "      <td>0.762704</td>\n",
              "      <td>0.876597</td>\n",
              "      <td>0.435043</td>\n",
              "      <td>0.318049</td>\n",
              "      <td>0.055363</td>\n",
              "      <td>-0.199430</td>\n",
              "      <td>0.052529</td>\n",
              "      <td>0.240223</td>\n",
              "      <td>0.756420</td>\n",
              "      <td>0.183286</td>\n",
              "    </tr>\n",
              "    <tr>\n",
              "      <th>sqft_lot</th>\n",
              "      <td>-0.132109</td>\n",
              "      <td>0.089661</td>\n",
              "      <td>0.031703</td>\n",
              "      <td>0.087740</td>\n",
              "      <td>0.172826</td>\n",
              "      <td>1.000000</td>\n",
              "      <td>-0.005201</td>\n",
              "      <td>0.021604</td>\n",
              "      <td>0.074710</td>\n",
              "      <td>-0.008958</td>\n",
              "      <td>0.113621</td>\n",
              "      <td>0.183512</td>\n",
              "      <td>0.015286</td>\n",
              "      <td>0.053080</td>\n",
              "      <td>0.007644</td>\n",
              "      <td>-0.129574</td>\n",
              "      <td>-0.085683</td>\n",
              "      <td>0.229521</td>\n",
              "      <td>0.144608</td>\n",
              "      <td>0.718557</td>\n",
              "    </tr>\n",
              "    <tr>\n",
              "      <th>floors</th>\n",
              "      <td>0.018525</td>\n",
              "      <td>0.256794</td>\n",
              "      <td>0.175429</td>\n",
              "      <td>0.500653</td>\n",
              "      <td>0.353949</td>\n",
              "      <td>-0.005201</td>\n",
              "      <td>1.000000</td>\n",
              "      <td>0.023698</td>\n",
              "      <td>0.029444</td>\n",
              "      <td>-0.263768</td>\n",
              "      <td>0.458183</td>\n",
              "      <td>0.523885</td>\n",
              "      <td>-0.245705</td>\n",
              "      <td>0.489319</td>\n",
              "      <td>0.006338</td>\n",
              "      <td>-0.059121</td>\n",
              "      <td>0.049614</td>\n",
              "      <td>0.125419</td>\n",
              "      <td>0.279885</td>\n",
              "      <td>-0.011269</td>\n",
              "    </tr>\n",
              "    <tr>\n",
              "      <th>waterfront</th>\n",
              "      <td>-0.002721</td>\n",
              "      <td>0.266369</td>\n",
              "      <td>-0.006582</td>\n",
              "      <td>0.063744</td>\n",
              "      <td>0.103818</td>\n",
              "      <td>0.021604</td>\n",
              "      <td>0.023698</td>\n",
              "      <td>1.000000</td>\n",
              "      <td>0.401857</td>\n",
              "      <td>0.016653</td>\n",
              "      <td>0.082775</td>\n",
              "      <td>0.072075</td>\n",
              "      <td>0.080588</td>\n",
              "      <td>-0.026161</td>\n",
              "      <td>0.092885</td>\n",
              "      <td>0.030285</td>\n",
              "      <td>-0.014274</td>\n",
              "      <td>-0.041910</td>\n",
              "      <td>0.086463</td>\n",
              "      <td>0.030703</td>\n",
              "    </tr>\n",
              "    <tr>\n",
              "      <th>view</th>\n",
              "      <td>0.011592</td>\n",
              "      <td>0.397293</td>\n",
              "      <td>0.079532</td>\n",
              "      <td>0.187737</td>\n",
              "      <td>0.284611</td>\n",
              "      <td>0.074710</td>\n",
              "      <td>0.029444</td>\n",
              "      <td>0.401857</td>\n",
              "      <td>1.000000</td>\n",
              "      <td>0.045990</td>\n",
              "      <td>0.251321</td>\n",
              "      <td>0.167649</td>\n",
              "      <td>0.276947</td>\n",
              "      <td>-0.053440</td>\n",
              "      <td>0.103917</td>\n",
              "      <td>0.084827</td>\n",
              "      <td>0.006157</td>\n",
              "      <td>-0.078400</td>\n",
              "      <td>0.280439</td>\n",
              "      <td>0.072575</td>\n",
              "    </tr>\n",
              "    <tr>\n",
              "      <th>condition</th>\n",
              "      <td>-0.023783</td>\n",
              "      <td>0.036362</td>\n",
              "      <td>0.028472</td>\n",
              "      <td>-0.124982</td>\n",
              "      <td>-0.058753</td>\n",
              "      <td>-0.008958</td>\n",
              "      <td>-0.263768</td>\n",
              "      <td>0.016653</td>\n",
              "      <td>0.045990</td>\n",
              "      <td>1.000000</td>\n",
              "      <td>-0.144674</td>\n",
              "      <td>-0.158214</td>\n",
              "      <td>0.174105</td>\n",
              "      <td>-0.361417</td>\n",
              "      <td>-0.060618</td>\n",
              "      <td>0.003026</td>\n",
              "      <td>-0.014941</td>\n",
              "      <td>-0.106500</td>\n",
              "      <td>-0.092824</td>\n",
              "      <td>-0.003406</td>\n",
              "    </tr>\n",
              "    <tr>\n",
              "      <th>grade</th>\n",
              "      <td>0.008130</td>\n",
              "      <td>0.667434</td>\n",
              "      <td>0.356967</td>\n",
              "      <td>0.664983</td>\n",
              "      <td>0.762704</td>\n",
              "      <td>0.113621</td>\n",
              "      <td>0.458183</td>\n",
              "      <td>0.082775</td>\n",
              "      <td>0.251321</td>\n",
              "      <td>-0.144674</td>\n",
              "      <td>1.000000</td>\n",
              "      <td>0.755923</td>\n",
              "      <td>0.168392</td>\n",
              "      <td>0.446963</td>\n",
              "      <td>0.014414</td>\n",
              "      <td>-0.184862</td>\n",
              "      <td>0.114084</td>\n",
              "      <td>0.198372</td>\n",
              "      <td>0.713202</td>\n",
              "      <td>0.119248</td>\n",
              "    </tr>\n",
              "    <tr>\n",
              "      <th>sqft_above</th>\n",
              "      <td>-0.010842</td>\n",
              "      <td>0.605567</td>\n",
              "      <td>0.477600</td>\n",
              "      <td>0.685342</td>\n",
              "      <td>0.876597</td>\n",
              "      <td>0.183512</td>\n",
              "      <td>0.523885</td>\n",
              "      <td>0.072075</td>\n",
              "      <td>0.167649</td>\n",
              "      <td>-0.158214</td>\n",
              "      <td>0.755923</td>\n",
              "      <td>1.000000</td>\n",
              "      <td>-0.051943</td>\n",
              "      <td>0.423898</td>\n",
              "      <td>0.023285</td>\n",
              "      <td>-0.261190</td>\n",
              "      <td>-0.000816</td>\n",
              "      <td>0.343803</td>\n",
              "      <td>0.731870</td>\n",
              "      <td>0.194050</td>\n",
              "    </tr>\n",
              "    <tr>\n",
              "      <th>sqft_basement</th>\n",
              "      <td>-0.005151</td>\n",
              "      <td>0.323816</td>\n",
              "      <td>0.303093</td>\n",
              "      <td>0.283770</td>\n",
              "      <td>0.435043</td>\n",
              "      <td>0.015286</td>\n",
              "      <td>-0.245705</td>\n",
              "      <td>0.080588</td>\n",
              "      <td>0.276947</td>\n",
              "      <td>0.174105</td>\n",
              "      <td>0.168392</td>\n",
              "      <td>-0.051943</td>\n",
              "      <td>1.000000</td>\n",
              "      <td>-0.133124</td>\n",
              "      <td>0.071323</td>\n",
              "      <td>0.074845</td>\n",
              "      <td>0.110538</td>\n",
              "      <td>-0.144765</td>\n",
              "      <td>0.200355</td>\n",
              "      <td>0.017276</td>\n",
              "    </tr>\n",
              "    <tr>\n",
              "      <th>yr_built</th>\n",
              "      <td>0.021380</td>\n",
              "      <td>0.054012</td>\n",
              "      <td>0.154178</td>\n",
              "      <td>0.506019</td>\n",
              "      <td>0.318049</td>\n",
              "      <td>0.053080</td>\n",
              "      <td>0.489319</td>\n",
              "      <td>-0.026161</td>\n",
              "      <td>-0.053440</td>\n",
              "      <td>-0.361417</td>\n",
              "      <td>0.446963</td>\n",
              "      <td>0.423898</td>\n",
              "      <td>-0.133124</td>\n",
              "      <td>1.000000</td>\n",
              "      <td>-0.224874</td>\n",
              "      <td>-0.346869</td>\n",
              "      <td>-0.148122</td>\n",
              "      <td>0.409356</td>\n",
              "      <td>0.326229</td>\n",
              "      <td>0.070958</td>\n",
              "    </tr>\n",
              "    <tr>\n",
              "      <th>yr_renovated</th>\n",
              "      <td>-0.016907</td>\n",
              "      <td>0.126434</td>\n",
              "      <td>0.018841</td>\n",
              "      <td>0.050739</td>\n",
              "      <td>0.055363</td>\n",
              "      <td>0.007644</td>\n",
              "      <td>0.006338</td>\n",
              "      <td>0.092885</td>\n",
              "      <td>0.103917</td>\n",
              "      <td>-0.060618</td>\n",
              "      <td>0.014414</td>\n",
              "      <td>0.023285</td>\n",
              "      <td>0.071323</td>\n",
              "      <td>-0.224874</td>\n",
              "      <td>1.000000</td>\n",
              "      <td>0.064357</td>\n",
              "      <td>0.029398</td>\n",
              "      <td>-0.068372</td>\n",
              "      <td>-0.002673</td>\n",
              "      <td>0.007854</td>\n",
              "    </tr>\n",
              "    <tr>\n",
              "      <th>zipcode</th>\n",
              "      <td>-0.008224</td>\n",
              "      <td>-0.053203</td>\n",
              "      <td>-0.152668</td>\n",
              "      <td>-0.203866</td>\n",
              "      <td>-0.199430</td>\n",
              "      <td>-0.129574</td>\n",
              "      <td>-0.059121</td>\n",
              "      <td>0.030285</td>\n",
              "      <td>0.084827</td>\n",
              "      <td>0.003026</td>\n",
              "      <td>-0.184862</td>\n",
              "      <td>-0.261190</td>\n",
              "      <td>0.074845</td>\n",
              "      <td>-0.346869</td>\n",
              "      <td>0.064357</td>\n",
              "      <td>1.000000</td>\n",
              "      <td>0.267048</td>\n",
              "      <td>-0.564072</td>\n",
              "      <td>-0.279033</td>\n",
              "      <td>-0.147221</td>\n",
              "    </tr>\n",
              "    <tr>\n",
              "      <th>lat</th>\n",
              "      <td>-0.001891</td>\n",
              "      <td>0.307003</td>\n",
              "      <td>-0.008931</td>\n",
              "      <td>0.024573</td>\n",
              "      <td>0.052529</td>\n",
              "      <td>-0.085683</td>\n",
              "      <td>0.049614</td>\n",
              "      <td>-0.014274</td>\n",
              "      <td>0.006157</td>\n",
              "      <td>-0.014941</td>\n",
              "      <td>0.114084</td>\n",
              "      <td>-0.000816</td>\n",
              "      <td>0.110538</td>\n",
              "      <td>-0.148122</td>\n",
              "      <td>0.029398</td>\n",
              "      <td>0.267048</td>\n",
              "      <td>1.000000</td>\n",
              "      <td>-0.135512</td>\n",
              "      <td>0.048858</td>\n",
              "      <td>-0.086419</td>\n",
              "    </tr>\n",
              "    <tr>\n",
              "      <th>long</th>\n",
              "      <td>0.020799</td>\n",
              "      <td>0.021626</td>\n",
              "      <td>0.129473</td>\n",
              "      <td>0.223042</td>\n",
              "      <td>0.240223</td>\n",
              "      <td>0.229521</td>\n",
              "      <td>0.125419</td>\n",
              "      <td>-0.041910</td>\n",
              "      <td>-0.078400</td>\n",
              "      <td>-0.106500</td>\n",
              "      <td>0.198372</td>\n",
              "      <td>0.343803</td>\n",
              "      <td>-0.144765</td>\n",
              "      <td>0.409356</td>\n",
              "      <td>-0.068372</td>\n",
              "      <td>-0.564072</td>\n",
              "      <td>-0.135512</td>\n",
              "      <td>1.000000</td>\n",
              "      <td>0.334605</td>\n",
              "      <td>0.254451</td>\n",
              "    </tr>\n",
              "    <tr>\n",
              "      <th>sqft_living15</th>\n",
              "      <td>-0.002901</td>\n",
              "      <td>0.585379</td>\n",
              "      <td>0.391638</td>\n",
              "      <td>0.568634</td>\n",
              "      <td>0.756420</td>\n",
              "      <td>0.144608</td>\n",
              "      <td>0.279885</td>\n",
              "      <td>0.086463</td>\n",
              "      <td>0.280439</td>\n",
              "      <td>-0.092824</td>\n",
              "      <td>0.713202</td>\n",
              "      <td>0.731870</td>\n",
              "      <td>0.200355</td>\n",
              "      <td>0.326229</td>\n",
              "      <td>-0.002673</td>\n",
              "      <td>-0.279033</td>\n",
              "      <td>0.048858</td>\n",
              "      <td>0.334605</td>\n",
              "      <td>1.000000</td>\n",
              "      <td>0.183192</td>\n",
              "    </tr>\n",
              "    <tr>\n",
              "      <th>sqft_lot15</th>\n",
              "      <td>-0.138798</td>\n",
              "      <td>0.082447</td>\n",
              "      <td>0.029244</td>\n",
              "      <td>0.087175</td>\n",
              "      <td>0.183286</td>\n",
              "      <td>0.718557</td>\n",
              "      <td>-0.011269</td>\n",
              "      <td>0.030703</td>\n",
              "      <td>0.072575</td>\n",
              "      <td>-0.003406</td>\n",
              "      <td>0.119248</td>\n",
              "      <td>0.194050</td>\n",
              "      <td>0.017276</td>\n",
              "      <td>0.070958</td>\n",
              "      <td>0.007854</td>\n",
              "      <td>-0.147221</td>\n",
              "      <td>-0.086419</td>\n",
              "      <td>0.254451</td>\n",
              "      <td>0.183192</td>\n",
              "      <td>1.000000</td>\n",
              "    </tr>\n",
              "  </tbody>\n",
              "</table>\n",
              "</div>"
            ],
            "text/plain": [
              "                     id     price  bedrooms  bathrooms  sqft_living  sqft_lot  \\\n",
              "id             1.000000 -0.016762  0.001286   0.005160    -0.012258 -0.132109   \n",
              "price         -0.016762  1.000000  0.308350   0.525138     0.702035  0.089661   \n",
              "bedrooms       0.001286  0.308350  1.000000   0.515884     0.576671  0.031703   \n",
              "bathrooms      0.005160  0.525138  0.515884   1.000000     0.754665  0.087740   \n",
              "sqft_living   -0.012258  0.702035  0.576671   0.754665     1.000000  0.172826   \n",
              "sqft_lot      -0.132109  0.089661  0.031703   0.087740     0.172826  1.000000   \n",
              "floors         0.018525  0.256794  0.175429   0.500653     0.353949 -0.005201   \n",
              "waterfront    -0.002721  0.266369 -0.006582   0.063744     0.103818  0.021604   \n",
              "view           0.011592  0.397293  0.079532   0.187737     0.284611  0.074710   \n",
              "condition     -0.023783  0.036362  0.028472  -0.124982    -0.058753 -0.008958   \n",
              "grade          0.008130  0.667434  0.356967   0.664983     0.762704  0.113621   \n",
              "sqft_above    -0.010842  0.605567  0.477600   0.685342     0.876597  0.183512   \n",
              "sqft_basement -0.005151  0.323816  0.303093   0.283770     0.435043  0.015286   \n",
              "yr_built       0.021380  0.054012  0.154178   0.506019     0.318049  0.053080   \n",
              "yr_renovated  -0.016907  0.126434  0.018841   0.050739     0.055363  0.007644   \n",
              "zipcode       -0.008224 -0.053203 -0.152668  -0.203866    -0.199430 -0.129574   \n",
              "lat           -0.001891  0.307003 -0.008931   0.024573     0.052529 -0.085683   \n",
              "long           0.020799  0.021626  0.129473   0.223042     0.240223  0.229521   \n",
              "sqft_living15 -0.002901  0.585379  0.391638   0.568634     0.756420  0.144608   \n",
              "sqft_lot15    -0.138798  0.082447  0.029244   0.087175     0.183286  0.718557   \n",
              "\n",
              "                 floors  waterfront      view  condition     grade  \\\n",
              "id             0.018525   -0.002721  0.011592  -0.023783  0.008130   \n",
              "price          0.256794    0.266369  0.397293   0.036362  0.667434   \n",
              "bedrooms       0.175429   -0.006582  0.079532   0.028472  0.356967   \n",
              "bathrooms      0.500653    0.063744  0.187737  -0.124982  0.664983   \n",
              "sqft_living    0.353949    0.103818  0.284611  -0.058753  0.762704   \n",
              "sqft_lot      -0.005201    0.021604  0.074710  -0.008958  0.113621   \n",
              "floors         1.000000    0.023698  0.029444  -0.263768  0.458183   \n",
              "waterfront     0.023698    1.000000  0.401857   0.016653  0.082775   \n",
              "view           0.029444    0.401857  1.000000   0.045990  0.251321   \n",
              "condition     -0.263768    0.016653  0.045990   1.000000 -0.144674   \n",
              "grade          0.458183    0.082775  0.251321  -0.144674  1.000000   \n",
              "sqft_above     0.523885    0.072075  0.167649  -0.158214  0.755923   \n",
              "sqft_basement -0.245705    0.080588  0.276947   0.174105  0.168392   \n",
              "yr_built       0.489319   -0.026161 -0.053440  -0.361417  0.446963   \n",
              "yr_renovated   0.006338    0.092885  0.103917  -0.060618  0.014414   \n",
              "zipcode       -0.059121    0.030285  0.084827   0.003026 -0.184862   \n",
              "lat            0.049614   -0.014274  0.006157  -0.014941  0.114084   \n",
              "long           0.125419   -0.041910 -0.078400  -0.106500  0.198372   \n",
              "sqft_living15  0.279885    0.086463  0.280439  -0.092824  0.713202   \n",
              "sqft_lot15    -0.011269    0.030703  0.072575  -0.003406  0.119248   \n",
              "\n",
              "               sqft_above  sqft_basement  yr_built  yr_renovated   zipcode  \\\n",
              "id              -0.010842      -0.005151  0.021380     -0.016907 -0.008224   \n",
              "price            0.605567       0.323816  0.054012      0.126434 -0.053203   \n",
              "bedrooms         0.477600       0.303093  0.154178      0.018841 -0.152668   \n",
              "bathrooms        0.685342       0.283770  0.506019      0.050739 -0.203866   \n",
              "sqft_living      0.876597       0.435043  0.318049      0.055363 -0.199430   \n",
              "sqft_lot         0.183512       0.015286  0.053080      0.007644 -0.129574   \n",
              "floors           0.523885      -0.245705  0.489319      0.006338 -0.059121   \n",
              "waterfront       0.072075       0.080588 -0.026161      0.092885  0.030285   \n",
              "view             0.167649       0.276947 -0.053440      0.103917  0.084827   \n",
              "condition       -0.158214       0.174105 -0.361417     -0.060618  0.003026   \n",
              "grade            0.755923       0.168392  0.446963      0.014414 -0.184862   \n",
              "sqft_above       1.000000      -0.051943  0.423898      0.023285 -0.261190   \n",
              "sqft_basement   -0.051943       1.000000 -0.133124      0.071323  0.074845   \n",
              "yr_built         0.423898      -0.133124  1.000000     -0.224874 -0.346869   \n",
              "yr_renovated     0.023285       0.071323 -0.224874      1.000000  0.064357   \n",
              "zipcode         -0.261190       0.074845 -0.346869      0.064357  1.000000   \n",
              "lat             -0.000816       0.110538 -0.148122      0.029398  0.267048   \n",
              "long             0.343803      -0.144765  0.409356     -0.068372 -0.564072   \n",
              "sqft_living15    0.731870       0.200355  0.326229     -0.002673 -0.279033   \n",
              "sqft_lot15       0.194050       0.017276  0.070958      0.007854 -0.147221   \n",
              "\n",
              "                    lat      long  sqft_living15  sqft_lot15  \n",
              "id            -0.001891  0.020799      -0.002901   -0.138798  \n",
              "price          0.307003  0.021626       0.585379    0.082447  \n",
              "bedrooms      -0.008931  0.129473       0.391638    0.029244  \n",
              "bathrooms      0.024573  0.223042       0.568634    0.087175  \n",
              "sqft_living    0.052529  0.240223       0.756420    0.183286  \n",
              "sqft_lot      -0.085683  0.229521       0.144608    0.718557  \n",
              "floors         0.049614  0.125419       0.279885   -0.011269  \n",
              "waterfront    -0.014274 -0.041910       0.086463    0.030703  \n",
              "view           0.006157 -0.078400       0.280439    0.072575  \n",
              "condition     -0.014941 -0.106500      -0.092824   -0.003406  \n",
              "grade          0.114084  0.198372       0.713202    0.119248  \n",
              "sqft_above    -0.000816  0.343803       0.731870    0.194050  \n",
              "sqft_basement  0.110538 -0.144765       0.200355    0.017276  \n",
              "yr_built      -0.148122  0.409356       0.326229    0.070958  \n",
              "yr_renovated   0.029398 -0.068372      -0.002673    0.007854  \n",
              "zipcode        0.267048 -0.564072      -0.279033   -0.147221  \n",
              "lat            1.000000 -0.135512       0.048858   -0.086419  \n",
              "long          -0.135512  1.000000       0.334605    0.254451  \n",
              "sqft_living15  0.048858  0.334605       1.000000    0.183192  \n",
              "sqft_lot15    -0.086419  0.254451       0.183192    1.000000  "
            ]
          },
          "metadata": {
            "tags": []
          },
          "execution_count": 7
        }
      ]
    },
    {
      "cell_type": "code",
      "metadata": {
        "id": "RORrT0YX4k1U",
        "colab_type": "code",
        "colab": {
          "base_uri": "https://localhost:8080/",
          "height": 102
        },
        "outputId": "b8492378-e1eb-434e-f5f0-2fa6ac07d5a4"
      },
      "source": [
        "# Importing Sklearn and Using TTF on regression\n",
        "#Price x sqft_living\n",
        "from sklearn.model_selection import train_test_split\n",
        "\n",
        "y = df['price']\n",
        "X = df['sqft_living'].values[:, np.newaxis]\n",
        "\n",
        "X_train, X_test, Y_train, Y_test = train_test_split(X,y, test_size=.5)\n",
        "\n",
        "print(X.shape)\n",
        "\n",
        "print(X_train.shape)\n",
        "print(X_test.shape)\n",
        "print(Y_train.shape)\n",
        "print(Y_test.shape)"
      ],
      "execution_count": 12,
      "outputs": [
        {
          "output_type": "stream",
          "text": [
            "(21613, 1)\n",
            "(10806, 1)\n",
            "(10807, 1)\n",
            "(10806,)\n",
            "(10807,)\n"
          ],
          "name": "stdout"
        }
      ]
    },
    {
      "cell_type": "code",
      "metadata": {
        "id": "j-DVkJqt4xPn",
        "colab_type": "code",
        "colab": {
          "base_uri": "https://localhost:8080/",
          "height": 85
        },
        "outputId": "04cf33b3-645c-4983-e68c-d14474c55d26"
      },
      "source": [
        "#obtaing intercepts and coefficeints \n",
        "from sklearn.linear_model import LinearRegression\n",
        "from sklearn.metrics import mean_squared_error, r2_score\n",
        "\n",
        "model = LinearRegression()\n",
        "model.fit(X_train, Y_train)\n",
        "\n",
        "print(\"Coefficient: \\n\", model.coef_[0])\n",
        "print(\"\\n Intercept: \", model.intercept_)"
      ],
      "execution_count": 13,
      "outputs": [
        {
          "output_type": "stream",
          "text": [
            "Coefficient: \n",
            " 286.7385136874979\n",
            "\n",
            " Intercept:  -55565.43126924406\n"
          ],
          "name": "stdout"
        }
      ]
    },
    {
      "cell_type": "code",
      "metadata": {
        "id": "aK_YrlPf48ND",
        "colab_type": "code",
        "colab": {
          "base_uri": "https://localhost:8080/",
          "height": 295
        },
        "outputId": "7d8aa6d1-1694-47f1-dafc-8a402169918d"
      },
      "source": [
        "# Setting Observable Estimates\n",
        "m_hat = model.coef_[0]\n",
        "b_hat = model.intercept_\n",
        "\n",
        "# Plot the points\n",
        "plt.scatter(df.sqft_living, df.price)\n",
        "\n",
        "# Plot the line\n",
        "y_hat = [m_hat*x + b_hat for x in X]\n",
        "plt.plot(X, y_hat, color='r')\n",
        "\n",
        "# Graph axes and title\n",
        "plt.ylabel(\"Price\")\n",
        "plt.xlabel(\"Sq Ft Living Space\")\n",
        "plt.title(\"Price of Houses by Sq Ft Living Space\")\n",
        "plt.show()"
      ],
      "execution_count": 15,
      "outputs": [
        {
          "output_type": "display_data",
          "data": {
            "image/png": "[encoded data removed]",
            "text/plain": [
              "<Figure size 432x288 with 1 Axes>"
            ]
          },
          "metadata": {
            "tags": []
          }
        }
      ]
    },
    {
      "cell_type": "code",
      "metadata": {
        "id": "6A-FwbAH5cEU",
        "colab_type": "code",
        "colab": {
          "base_uri": "https://localhost:8080/",
          "height": 68
        },
        "outputId": "26501600-0ddd-4896-c5b0-31b6f64115fb"
      },
      "source": [
        "# Preditction model and MSE and RMSE\n",
        "y_test_predict = model.predict(X_test)\n",
        "\n",
        "MSE = mean_squared_error(Y_test, y_test_predict)\n",
        "\n",
        "RMSE = (np.sqrt(mean_squared_error(Y_test, y_test_predict)))\n",
        "\n",
        "print('MSE is {}'.format(MSE))\n",
        "print('RMSE is {}'.format(RMSE))\n",
        "\n",
        "R2 = r2_score(Y_test, y_test_predict)\n",
        "\n",
        "print('R2 is {}'.format(R2))\n",
        "\n",
        "# R^2 is 49%, not strong for predicting housing prices"
      ],
      "execution_count": 17,
      "outputs": [
        {
          "output_type": "stream",
          "text": [
            "MSE is 68334576632.48577\n",
            "RMSE is 261408.83044091257\n",
            "R2 is 0.4816961000688855\n"
          ],
          "name": "stdout"
        }
      ]
    },
    {
      "cell_type": "code",
      "metadata": {
        "id": "eLaaBL3K5sOK",
        "colab_type": "code",
        "colab": {}
      },
      "source": [
        "# QUESTION?!?!?!!? WHy is this highest correlated to price but low R2"
      ],
      "execution_count": 0,
      "outputs": []
    },
    {
      "cell_type": "code",
      "metadata": {
        "id": "nK-RO-vr9Wi_",
        "colab_type": "code",
        "colab": {
          "base_uri": "https://localhost:8080/",
          "height": 102
        },
        "outputId": "2e837fd2-a4e3-4393-b487-5403b189b6b1"
      },
      "source": [
        "# Importing Sklearn and Using TTF on regression\n",
        "#Price x yr_built\n",
        "from sklearn.model_selection import train_test_split\n",
        "\n",
        "y = df['price']\n",
        "X = df['yr_built'].values[:, np.newaxis]\n",
        "\n",
        "X_train, X_test, Y_train, Y_test = train_test_split(X,y, test_size=.5)\n",
        "\n",
        "print(X.shape)\n",
        "\n",
        "print(X_train.shape)\n",
        "print(X_test.shape)\n",
        "print(Y_train.shape)\n",
        "print(Y_test.shape)"
      ],
      "execution_count": 26,
      "outputs": [
        {
          "output_type": "stream",
          "text": [
            "(21613, 1)\n",
            "(10806, 1)\n",
            "(10807, 1)\n",
            "(10806,)\n",
            "(10807,)\n"
          ],
          "name": "stdout"
        }
      ]
    },
    {
      "cell_type": "code",
      "metadata": {
        "id": "4gfBDrj39d0_",
        "colab_type": "code",
        "colab": {
          "base_uri": "https://localhost:8080/",
          "height": 85
        },
        "outputId": "0dcc7e0b-7314-4fe0-e5f1-6f97bb3ecf28"
      },
      "source": [
        "#obtaing intercepts and coefficeints \n",
        "from sklearn.linear_model import LinearRegression\n",
        "from sklearn.metrics import mean_squared_error, r2_score\n",
        "\n",
        "model = LinearRegression()\n",
        "model.fit(X_train, Y_train)\n",
        "\n",
        "print(\"Coefficient: \\n\", model.coef_[0])\n",
        "print(\"\\n Intercept: \", model.intercept_)"
      ],
      "execution_count": 27,
      "outputs": [
        {
          "output_type": "stream",
          "text": [
            "Coefficient: \n",
            " 775.3723934569715\n",
            "\n",
            " Intercept:  -989047.2044161513\n"
          ],
          "name": "stdout"
        }
      ]
    },
    {
      "cell_type": "code",
      "metadata": {
        "id": "y3rz9RAH9hI9",
        "colab_type": "code",
        "colab": {
          "base_uri": "https://localhost:8080/",
          "height": 296
        },
        "outputId": "95b9012d-abfb-4abe-ac3c-6d844cd28840"
      },
      "source": [
        "# Setting Observable Estimates\n",
        "m_hat = model.coef_[0]\n",
        "b_hat = model.intercept_\n",
        "\n",
        "# Plot the points\n",
        "plt.scatter(df.yr_built, df.price)\n",
        "\n",
        "# Plot the line\n",
        "y_hat = [m_hat*x + b_hat for x in X]\n",
        "plt.plot(X, y_hat, color='r')\n",
        "\n",
        "# Graph axes and title\n",
        "plt.ylabel(\"Price\")\n",
        "plt.xlabel(\"yr_built\")\n",
        "plt.title(\"Price of Houses by Sq Ft Living Space\")\n",
        "plt.show()"
      ],
      "execution_count": 28,
      "outputs": [
        {
          "output_type": "display_data",
          "data": {
            "image/png": "[encoded data removed]",
            "text/plain": [
              "<Figure size 432x288 with 1 Axes>"
            ]
          },
          "metadata": {
            "tags": []
          }
        }
      ]
    },
    {
      "cell_type": "code",
      "metadata": {
        "id": "FHLV5cg-9tof",
        "colab_type": "code",
        "colab": {
          "base_uri": "https://localhost:8080/",
          "height": 68
        },
        "outputId": "b625e291-096a-4228-bf54-46d0cc3e73b0"
      },
      "source": [
        "# Preditction model and MSE and RMSE\n",
        "y_test_predict = model.predict(X_test)\n",
        "\n",
        "MSE = mean_squared_error(Y_test, y_test_predict)\n",
        "\n",
        "RMSE = (np.sqrt(mean_squared_error(Y_test, y_test_predict)))\n",
        "\n",
        "print('MSE is {}'.format(MSE))\n",
        "print('RMSE is {}'.format(RMSE))\n",
        "\n",
        "R2 = r2_score(Y_test, y_test_predict)\n",
        "\n",
        "print('R2 is {}'.format(R2))\n",
        "\n",
        "# In this case R2 is significantly lower"
      ],
      "execution_count": 29,
      "outputs": [
        {
          "output_type": "stream",
          "text": [
            "MSE is 128547281583.2105\n",
            "RMSE is 358534.9098528768\n",
            "R2 is 0.0019084660088984906\n"
          ],
          "name": "stdout"
        }
      ]
    },
    {
      "cell_type": "code",
      "metadata": {
        "id": "F8iNQzJh94-5",
        "colab_type": "code",
        "colab": {
          "base_uri": "https://localhost:8080/",
          "height": 34
        },
        "outputId": "72112586-1fbf-4537-8d6e-dedbb7773f49"
      },
      "source": [
        "# One more time on price but this time using a scaler\n",
        ">>> from sklearn.preprocessing import StandardScaler\n",
        ">>> data = [df.price, df.sqft_living]\n",
        ">>> scaler = StandardScaler()\n",
        ">>> print(scaler.fit(data))"
      ],
      "execution_count": 34,
      "outputs": [
        {
          "output_type": "stream",
          "text": [
            "StandardScaler(copy=True, with_mean=True, with_std=True)\n"
          ],
          "name": "stdout"
        }
      ]
    },
    {
      "cell_type": "code",
      "metadata": {
        "id": "kAroqThf_Ije",
        "colab_type": "code",
        "colab": {
          "base_uri": "https://localhost:8080/",
          "height": 102
        },
        "outputId": "8fa85f66-005d-4d5e-aedf-0682cd866c7d"
      },
      "source": [
        "y = df['price']\n",
        "X = df['sqft_living'].values[:, np.newaxis]\n",
        "\n",
        "X_train, X_test, Y_train, Y_test = train_test_split(X,y, test_size=.5)\n",
        "\n",
        "print(X.shape)\n",
        "\n",
        "print(X_train.shape)\n",
        "print(X_test.shape)\n",
        "print(Y_train.shape)\n",
        "print(Y_test.shape)"
      ],
      "execution_count": 35,
      "outputs": [
        {
          "output_type": "stream",
          "text": [
            "(21613, 1)\n",
            "(10806, 1)\n",
            "(10807, 1)\n",
            "(10806,)\n",
            "(10807,)\n"
          ],
          "name": "stdout"
        }
      ]
    },
    {
      "cell_type": "code",
      "metadata": {
        "id": "1BSbgiXK_RmC",
        "colab_type": "code",
        "colab": {
          "base_uri": "https://localhost:8080/",
          "height": 85
        },
        "outputId": "31b67a19-0e7c-42b3-f03a-40686431ac5f"
      },
      "source": [
        "#obtaing intercepts and coefficeints \n",
        "from sklearn.linear_model import LinearRegression\n",
        "from sklearn.metrics import mean_squared_error, r2_score\n",
        "\n",
        "model = LinearRegression()\n",
        "model.fit(X_train, Y_train)\n",
        "\n",
        "print(\"Coefficient: \\n\", model.coef_[0])\n",
        "print(\"\\n Intercept: \", model.intercept_)"
      ],
      "execution_count": 36,
      "outputs": [
        {
          "output_type": "stream",
          "text": [
            "Coefficient: \n",
            " 286.98244971590293\n",
            "\n",
            " Intercept:  -58615.10522903374\n"
          ],
          "name": "stdout"
        }
      ]
    },
    {
      "cell_type": "code",
      "metadata": {
        "id": "pZE3I20m_ZB8",
        "colab_type": "code",
        "colab": {
          "base_uri": "https://localhost:8080/",
          "height": 295
        },
        "outputId": "777e8f12-eace-47da-c0b8-9bc5cd34241e"
      },
      "source": [
        "# Setting Observable Estimates\n",
        "m_hat = model.coef_[0]\n",
        "b_hat = model.intercept_\n",
        "\n",
        "# Plot the points\n",
        "plt.scatter(df.sqft_living, df.price)\n",
        "\n",
        "# Plot the line\n",
        "y_hat = [m_hat*x + b_hat for x in X]\n",
        "plt.plot(X, y_hat, color='r')\n",
        "\n",
        "# Graph axes and title\n",
        "plt.ylabel(\"Price\")\n",
        "plt.xlabel(\"Sq Ft Living Space\")\n",
        "plt.title(\"Price of Houses by Sq Ft Living Space\")\n",
        "plt.show()"
      ],
      "execution_count": 37,
      "outputs": [
        {
          "output_type": "display_data",
          "data": {
            "image/png": "[encoded data removed]",
            "text/plain": [
              "<Figure size 432x288 with 1 Axes>"
            ]
          },
          "metadata": {
            "tags": []
          }
        }
      ]
    },
    {
      "cell_type": "markdown",
      "metadata": {
        "colab_type": "text",
        "id": "7Y7hg7wYHGZ4"
      },
      "source": [
        "# Two-variable Multiple Regression\n",
        "\n",
        "To ramp up slowly, pick a second X variable that you think will be the most correlated with Y. \n",
        "\n",
        "Split your dataset into a 80-20 train-test-split (80% of data for training, and 20% for testing).\n",
        "\n",
        "Train a regression model using these two X variables. Once you have trained the model and obtained its coefficients, plot the points on a graph and fit your **plane** of best fit to the graph.\n",
        "\n",
        "Report your Root Mean Squared Error and R-squared for this model."
      ]
    },
    {
      "cell_type": "code",
      "metadata": {
        "colab_type": "code",
        "id": "Ceoln3RCHPQy",
        "colab": {
          "base_uri": "https://localhost:8080/",
          "height": 102
        },
        "outputId": "0e2d81e5-1331-4ac9-b3ff-edf2a9d8c3e2"
      },
      "source": [
        "# Running a two variable regression on sqft_living and zipcode as exogenic predictors of regressand price\n",
        "y2 = df.loc[:, ['price']].values\n",
        "X2 = df.loc[:, ['sqft_living', 'bathrooms']].values\n",
        "\n",
        "X2_train, X2_test, Y2_train, Y2_test = train_test_split(X2,y2, test_size=.5, random_state=42)\n",
        "\n",
        "print(X2.shape)\n",
        "\n",
        "print(X2_train.shape)\n",
        "print(X2_test.shape)\n",
        "print(Y2_train.shape)\n",
        "print(Y2_test.shape)"
      ],
      "execution_count": 30,
      "outputs": [
        {
          "output_type": "stream",
          "text": [
            "(21613, 2)\n",
            "(10806, 2)\n",
            "(10807, 2)\n",
            "(10806, 1)\n",
            "(10807, 1)\n"
          ],
          "name": "stdout"
        }
      ]
    },
    {
      "cell_type": "code",
      "metadata": {
        "id": "kT27Xgim6VEH",
        "colab_type": "code",
        "colab": {
          "base_uri": "https://localhost:8080/",
          "height": 85
        },
        "outputId": "21cd0d00-8aad-4e63-9090-bb211fbc5c14"
      },
      "source": [
        "# Finding Coefficients and Intercept of new model\n",
        "model2 = LinearRegression()\n",
        "model2.fit(X2_train, Y2_train)\n",
        "\n",
        "beta_0 = model2.intercept_\n",
        "beta_i = model2.coef_[0]\n",
        "\n",
        "print(\"Coefficient: \\n\", beta_i)\n",
        "print(\"\\n Intercept: \", beta_0)"
      ],
      "execution_count": 31,
      "outputs": [
        {
          "output_type": "stream",
          "text": [
            "Coefficient: \n",
            " [ 267.508047   1460.38026342]\n",
            "\n",
            " Intercept:  [-21808.80450271]\n"
          ],
          "name": "stdout"
        }
      ]
    },
    {
      "cell_type": "code",
      "metadata": {
        "id": "1w31Qd356cxc",
        "colab_type": "code",
        "colab": {
          "base_uri": "https://localhost:8080/",
          "height": 248
        },
        "outputId": "3b0cec15-704d-4878-a844-e0fa9f08ab93"
      },
      "source": [
        "# Attempting to plot in R3 space the new regression\n",
        "from mpl_toolkits.mplot3d import Axes3D\n",
        "\n",
        "fig = plt.figure()\n",
        "ax = fig.add_subplot(111, projection='3d')\n",
        "\n",
        "# Plot Points on 3D plot\n",
        "ax.scatter(df['sqft_living'], df['bathrooms'], df['price'],c='blue')\n",
        "\n",
        "# Set axes to size of scatter data\n",
        "x1 = np.array(ax.get_xlim())\n",
        "y1 = np.array(ax.get_ylim())\n",
        "xx, yy = np.meshgrid(x1,y1)\n",
        "zz = beta_i[0]*xx + beta_i[1]*yy + beta_0[0]\n",
        "\n",
        "# Plot Plane\n",
        "plt3d = plt.gca(projection='3d')\n",
        "\n",
        "# Add Opacity to Plane \n",
        "plt3d.plot_surface(xx, yy, zz,alpha=0.5)\n",
        "plt.title(\"House Price by Sq Ft Living Space & Bathrooms\")\n",
        "plt.ylabel(\"Bathrooms\")\n",
        "plt.xlabel(\"Sq Ft Living Space\")\n",
        "ax.set_zlabel(\"Price\")\n",
        "\n",
        "plt.show()"
      ],
      "execution_count": 32,
      "outputs": [
        {
          "output_type": "display_data",
          "data": {
            "image/png": "[encoded data removed]",
            "text/plain": [
              "<Figure size 432x288 with 1 Axes>"
            ]
          },
          "metadata": {
            "tags": []
          }
        }
      ]
    },
    {
      "cell_type": "code",
      "metadata": {
        "id": "U1a-DP2e63W1",
        "colab_type": "code",
        "colab": {
          "base_uri": "https://localhost:8080/",
          "height": 68
        },
        "outputId": "05857dc7-67b2-4301-ca96-f405b98afb56"
      },
      "source": [
        "# Calculating MSE, RMSE, and R2\n",
        "y2_test_predict = model2.predict(X2_test)\n",
        "\n",
        "MSE2 = mean_squared_error(Y2_test, y2_test_predict)\n",
        "\n",
        "RMSE2 = (np.sqrt(mean_squared_error(Y2_test, y2_test_predict)))\n",
        "\n",
        "print('MSE is {}'.format(MSE2))\n",
        "print('RMSE is {}'.format(RMSE2))\n",
        "\n",
        "R22 = r2_score(Y2_test, y2_test_predict)\n",
        "\n",
        "print('R^2 is {}'.format(R22))\n",
        "\n",
        "# The second variable did not change the R2 score very much even though the bathrooms have higher correlation too\n",
        "# basically r2 saying that 50% is explained by 2 of the 18 variables"
      ],
      "execution_count": 33,
      "outputs": [
        {
          "output_type": "stream",
          "text": [
            "MSE is 75637890356.61331\n",
            "RMSE is 275023.4360133938\n",
            "R^2 is 0.49220036003245315\n"
          ],
          "name": "stdout"
        }
      ]
    },
    {
      "cell_type": "code",
      "metadata": {
        "id": "5ZMsiIbZ-iXL",
        "colab_type": "code",
        "colab": {}
      },
      "source": [
        ""
      ],
      "execution_count": 0,
      "outputs": []
    },
    {
      "cell_type": "markdown",
      "metadata": {
        "colab_type": "text",
        "id": "0LRAjm6sHOy-"
      },
      "source": [
        "# Multiple Regression\n",
        "\n",
        "Now using all available X variables, split your data into test and training datasets, train your model, obtain its coefficients, and report the Root Mean Squared Error and R-squared values."
      ]
    },
    {
      "cell_type": "code",
      "metadata": {
        "colab_type": "code",
        "id": "1gEl3jAyI_-r",
        "colab": {
          "base_uri": "https://localhost:8080/",
          "height": 306
        },
        "outputId": "7b1ad5c3-fb81-4839-9ba0-1b1c1639aca5"
      },
      "source": [
        "#Dropping price and date and id out of axis so that there is no duplicate of price and ID and Date have no fuctional exogenic value\n",
        "y3 = df['price']\n",
        "X3 = df.drop(columns=['price','id','date', 'zipcode'], axis=1)\n",
        "\n",
        "X3_train, X3_test, Y3_train, Y3_test = train_test_split(X3, y3, test_size=.5, random_state=42)\n",
        "\n",
        "print(X3.shape, \"\\n\")\n",
        "\n",
        "print(X3_train.shape)\n",
        "print(X3_test.shape)\n",
        "print(Y3_train.shape)\n",
        "print(Y3_test.shape)\n",
        "\n",
        "X3_train.head()"
      ],
      "execution_count": 38,
      "outputs": [
        {
          "output_type": "stream",
          "text": [
            "(21613, 17) \n",
            "\n",
            "(10806, 17)\n",
            "(10807, 17)\n",
            "(10806,)\n",
            "(10807,)\n"
          ],
          "name": "stdout"
        },
        {
          "output_type": "execute_result",
          "data": {
            "text/html": [
              "<div>\n",
              "<style scoped>\n",
              "    .dataframe tbody tr th:only-of-type {\n",
              "        vertical-align: middle;\n",
              "    }\n",
              "\n",
              "    .dataframe tbody tr th {\n",
              "        vertical-align: top;\n",
              "    }\n",
              "\n",
              "    .dataframe thead th {\n",
              "        text-align: right;\n",
              "    }\n",
              "</style>\n",
              "<table border=\"1\" class=\"dataframe\">\n",
              "  <thead>\n",
              "    <tr style=\"text-align: right;\">\n",
              "      <th></th>\n",
              "      <th>bedrooms</th>\n",
              "      <th>bathrooms</th>\n",
              "      <th>sqft_living</th>\n",
              "      <th>sqft_lot</th>\n",
              "      <th>floors</th>\n",
              "      <th>waterfront</th>\n",
              "      <th>view</th>\n",
              "      <th>condition</th>\n",
              "      <th>grade</th>\n",
              "      <th>sqft_above</th>\n",
              "      <th>sqft_basement</th>\n",
              "      <th>yr_built</th>\n",
              "      <th>yr_renovated</th>\n",
              "      <th>lat</th>\n",
              "      <th>long</th>\n",
              "      <th>sqft_living15</th>\n",
              "      <th>sqft_lot15</th>\n",
              "    </tr>\n",
              "  </thead>\n",
              "  <tbody>\n",
              "    <tr>\n",
              "      <th>493</th>\n",
              "      <td>5</td>\n",
              "      <td>2.50</td>\n",
              "      <td>2820</td>\n",
              "      <td>14062</td>\n",
              "      <td>2.0</td>\n",
              "      <td>0</td>\n",
              "      <td>0</td>\n",
              "      <td>4</td>\n",
              "      <td>7</td>\n",
              "      <td>2380</td>\n",
              "      <td>440</td>\n",
              "      <td>1960</td>\n",
              "      <td>0</td>\n",
              "      <td>47.7081</td>\n",
              "      <td>-122.215</td>\n",
              "      <td>1910</td>\n",
              "      <td>10392</td>\n",
              "    </tr>\n",
              "    <tr>\n",
              "      <th>4253</th>\n",
              "      <td>4</td>\n",
              "      <td>3.25</td>\n",
              "      <td>2880</td>\n",
              "      <td>35315</td>\n",
              "      <td>1.0</td>\n",
              "      <td>0</td>\n",
              "      <td>0</td>\n",
              "      <td>3</td>\n",
              "      <td>11</td>\n",
              "      <td>2270</td>\n",
              "      <td>610</td>\n",
              "      <td>1982</td>\n",
              "      <td>0</td>\n",
              "      <td>47.6587</td>\n",
              "      <td>-122.163</td>\n",
              "      <td>1910</td>\n",
              "      <td>167378</td>\n",
              "    </tr>\n",
              "    <tr>\n",
              "      <th>18621</th>\n",
              "      <td>5</td>\n",
              "      <td>3.50</td>\n",
              "      <td>2450</td>\n",
              "      <td>8193</td>\n",
              "      <td>2.0</td>\n",
              "      <td>0</td>\n",
              "      <td>0</td>\n",
              "      <td>3</td>\n",
              "      <td>9</td>\n",
              "      <td>2450</td>\n",
              "      <td>0</td>\n",
              "      <td>2005</td>\n",
              "      <td>0</td>\n",
              "      <td>47.7721</td>\n",
              "      <td>-122.241</td>\n",
              "      <td>2310</td>\n",
              "      <td>8193</td>\n",
              "    </tr>\n",
              "    <tr>\n",
              "      <th>1463</th>\n",
              "      <td>2</td>\n",
              "      <td>1.00</td>\n",
              "      <td>970</td>\n",
              "      <td>4284</td>\n",
              "      <td>1.0</td>\n",
              "      <td>0</td>\n",
              "      <td>0</td>\n",
              "      <td>3</td>\n",
              "      <td>7</td>\n",
              "      <td>970</td>\n",
              "      <td>0</td>\n",
              "      <td>1905</td>\n",
              "      <td>0</td>\n",
              "      <td>47.6667</td>\n",
              "      <td>-122.333</td>\n",
              "      <td>2050</td>\n",
              "      <td>4284</td>\n",
              "    </tr>\n",
              "    <tr>\n",
              "      <th>12026</th>\n",
              "      <td>3</td>\n",
              "      <td>1.75</td>\n",
              "      <td>2090</td>\n",
              "      <td>8910</td>\n",
              "      <td>1.0</td>\n",
              "      <td>0</td>\n",
              "      <td>0</td>\n",
              "      <td>3</td>\n",
              "      <td>8</td>\n",
              "      <td>1230</td>\n",
              "      <td>860</td>\n",
              "      <td>1975</td>\n",
              "      <td>0</td>\n",
              "      <td>47.7149</td>\n",
              "      <td>-122.222</td>\n",
              "      <td>2310</td>\n",
              "      <td>10695</td>\n",
              "    </tr>\n",
              "  </tbody>\n",
              "</table>\n",
              "</div>"
            ],
            "text/plain": [
              "       bedrooms  bathrooms  sqft_living  sqft_lot  floors  waterfront  view  \\\n",
              "493           5       2.50         2820     14062     2.0           0     0   \n",
              "4253          4       3.25         2880     35315     1.0           0     0   \n",
              "18621         5       3.50         2450      8193     2.0           0     0   \n",
              "1463          2       1.00          970      4284     1.0           0     0   \n",
              "12026         3       1.75         2090      8910     1.0           0     0   \n",
              "\n",
              "       condition  grade  sqft_above  sqft_basement  yr_built  yr_renovated  \\\n",
              "493            4      7        2380            440      1960             0   \n",
              "4253           3     11        2270            610      1982             0   \n",
              "18621          3      9        2450              0      2005             0   \n",
              "1463           3      7         970              0      1905             0   \n",
              "12026          3      8        1230            860      1975             0   \n",
              "\n",
              "           lat     long  sqft_living15  sqft_lot15  \n",
              "493    47.7081 -122.215           1910       10392  \n",
              "4253   47.6587 -122.163           1910      167378  \n",
              "18621  47.7721 -122.241           2310        8193  \n",
              "1463   47.6667 -122.333           2050        4284  \n",
              "12026  47.7149 -122.222           2310       10695  "
            ]
          },
          "metadata": {
            "tags": []
          },
          "execution_count": 38
        }
      ]
    },
    {
      "cell_type": "code",
      "metadata": {
        "id": "N9X0WmaN7g8B",
        "colab_type": "code",
        "colab": {
          "base_uri": "https://localhost:8080/",
          "height": 153
        },
        "outputId": "b4ef7346-11ed-436b-a813-71c36101dfbd"
      },
      "source": [
        "# Computing the coefficient and intercept\n",
        "model3 = LinearRegression()\n",
        "model3.fit(X3_train, Y3_train)\n",
        "\n",
        "print(\"Coefficient: \\n\", model3.coef_)\n",
        "print(\"\\n Intercept: \", model3.intercept_)"
      ],
      "execution_count": 39,
      "outputs": [
        {
          "output_type": "stream",
          "text": [
            "Coefficient: \n",
            " [-3.23524317e+04  4.11971082e+04  9.71381572e+01  9.93397590e-02\n",
            "  4.64687948e+03  5.79494688e+05  5.07277210e+04  2.90188797e+04\n",
            "  1.00660649e+05  5.96991801e+01  3.74389774e+01 -2.33583954e+03\n",
            "  2.27235559e+01  5.51416790e+05 -9.40896272e+04  3.20966827e+01\n",
            " -3.74793446e-01]\n",
            "\n",
            " Intercept:  -33835335.218613304\n"
          ],
          "name": "stdout"
        }
      ]
    },
    {
      "cell_type": "code",
      "metadata": {
        "id": "fUK1jNJQ7nDk",
        "colab_type": "code",
        "colab": {
          "base_uri": "https://localhost:8080/",
          "height": 68
        },
        "outputId": "15f07fbc-724a-49ff-ae91-3a6dc7e23606"
      },
      "source": [
        "y3_test_predict = model3.predict(X3_test)\n",
        "\n",
        "MSE3 = mean_squared_error(Y3_test, y3_test_predict)\n",
        "\n",
        "RMSE3 = (np.sqrt(mean_squared_error(Y3_test, y3_test_predict)))\n",
        "\n",
        "print('MSE is {}'.format(MSE3))\n",
        "print('RMSE is {}'.format(RMSE3))\n",
        "\n",
        "R23 = r2_score(Y3_test, y3_test_predict)\n",
        "\n",
        "print('R^2 is {}'.format(R23))\n",
        "\n",
        "# r2 is better but still not great from a predictive perspective"
      ],
      "execution_count": 40,
      "outputs": [
        {
          "output_type": "stream",
          "text": [
            "MSE is 47193712425.39804\n",
            "RMSE is 217241.13888809836\n",
            "R^2 is 0.6831621021506489\n"
          ],
          "name": "stdout"
        }
      ]
    },
    {
      "cell_type": "markdown",
      "metadata": {
        "colab_type": "text",
        "id": "95Ln3VLJJEH_"
      },
      "source": [
        "# Stretch Goals\n",
        "\n",
        "Pick from these stretch goals the tasks that you feel like will be the most beneficial for you. \n",
        "\n",
        "- Start to research Polynomial Regression and Log-Linear Regression (tomorrow's topics). Find a new regression dataset and try to implement one of these models. \n",
        "- Research \"Feature Engineering\" see what features you can engineer on the above dataset. How much are you able to improve your accuracy with feature engineering?\n",
        "- Explore the concept of $R^2$, learn how it is calculated and how it relates to covariance, correlation, and variance. \n",
        "- Further explore the concept of \"Model Validation\" - we'll spend a whole week on this soon. What other measures of model accuracy could we have used besides Root Mean Squared Error?\n",
        "- AMES Housing Prediction Kaggle Competition: <https://www.kaggle.com/c/house-prices-advanced-regression-techniques>\n",
        "- **WRITE A BLOG POST** explaining the basics of Linear Regression.\n",
        "\n",
        "Remember to share your findings in the slack channel. :)\n"
      ]
    }
  ]
}