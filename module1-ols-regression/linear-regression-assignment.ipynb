{
 "cells": [
  {
   "cell_type": "markdown",
   "metadata": {
    "colab_type": "text",
    "id": "g_AhWOYeMfrH"
   },
   "source": [
    "# King County Housing Data - Linear Regression Assignment\n",
    "\n",
    "Data for this assignment was obtained from Kaggle: <https://www.kaggle.com/harlfoxem/housesalesprediction>\n",
    "\n",
    "Complete the following challenges below to improve iteratively your home price estimation and practice implementing predictive linear regression models. "
   ]
  },
  {
   "cell_type": "markdown",
   "metadata": {
    "colab_type": "text",
    "id": "3kcL7V2SHAkp"
   },
   "source": [
    "# Bivariate Regression\n",
    "\n",
    "Pick the X variable that you think will be the most correlated with Y. \n",
    "\n",
    "Split your dataset into a 20-80 train-test-split (80% of data for training, and 20% for testing).\n",
    "\n",
    "Train a regression model using this single X and single Y variable. Once you have trained the model and obtained its coefficients, plot the points on a graph and fit your line of best fit to the graph.\n",
    "\n",
    "Report your Root Mean Squared Error and R-Squared for this model.\n",
    "\n"
   ]
  },
  {
   "cell_type": "code",
   "execution_count": 297,
   "metadata": {},
   "outputs": [],
   "source": [
    "import matplotlib.pyplot as plt\n",
    "import pandas as pd\n",
    "import numpy as np\n",
    "\n",
    "from sklearn.model_selection import train_test_split\n",
    "from sklearn.linear_model import LinearRegression\n",
    "from sklearn.metrics import mean_absolute_error, mean_squared_error, r2_score\n",
    "import statsmodels.api as sm\n",
    "from mpl_toolkits.mplot3d import Axes3D"
   ]
  },
  {
   "cell_type": "code",
   "execution_count": 298,
   "metadata": {
    "colab": {
     "base_uri": "https://localhost:8080/",
     "height": 239
    },
    "colab_type": "code",
    "executionInfo": {
     "elapsed": 473,
     "status": "ok",
     "timestamp": 1547466775443,
     "user": {
      "displayName": "Ryan Allred",
      "photoUrl": "",
      "userId": "04031804316926795705"
     },
     "user_tz": 420
    },
    "id": "G5gPYOmHMPAW",
    "outputId": "9376e44f-f5a8-4627-bb33-d7a900a018a8"
   },
   "outputs": [
    {
     "name": "stdout",
     "output_type": "stream",
     "text": [
      "(21613, 21)\n"
     ]
    },
    {
     "data": {
      "text/html": [
       "<div>\n",
       "<style scoped>\n",
       "    .dataframe tbody tr th:only-of-type {\n",
       "        vertical-align: middle;\n",
       "    }\n",
       "\n",
       "    .dataframe tbody tr th {\n",
       "        vertical-align: top;\n",
       "    }\n",
       "\n",
       "    .dataframe thead th {\n",
       "        text-align: right;\n",
       "    }\n",
       "</style>\n",
       "<table border=\"1\" class=\"dataframe\">\n",
       "  <thead>\n",
       "    <tr style=\"text-align: right;\">\n",
       "      <th></th>\n",
       "      <th>id</th>\n",
       "      <th>date</th>\n",
       "      <th>price</th>\n",
       "      <th>bedrooms</th>\n",
       "      <th>bathrooms</th>\n",
       "      <th>sqft_living</th>\n",
       "      <th>sqft_lot</th>\n",
       "      <th>floors</th>\n",
       "      <th>waterfront</th>\n",
       "      <th>view</th>\n",
       "      <th>condition</th>\n",
       "      <th>grade</th>\n",
       "      <th>sqft_above</th>\n",
       "      <th>sqft_basement</th>\n",
       "      <th>yr_built</th>\n",
       "      <th>yr_renovated</th>\n",
       "      <th>zipcode</th>\n",
       "      <th>lat</th>\n",
       "      <th>long</th>\n",
       "      <th>sqft_living15</th>\n",
       "      <th>sqft_lot15</th>\n",
       "    </tr>\n",
       "  </thead>\n",
       "  <tbody>\n",
       "    <tr>\n",
       "      <th>0</th>\n",
       "      <td>7129300520</td>\n",
       "      <td>20141013T000000</td>\n",
       "      <td>221900.0</td>\n",
       "      <td>3</td>\n",
       "      <td>1.00</td>\n",
       "      <td>1180</td>\n",
       "      <td>5650</td>\n",
       "      <td>1.0</td>\n",
       "      <td>0</td>\n",
       "      <td>0</td>\n",
       "      <td>3</td>\n",
       "      <td>7</td>\n",
       "      <td>1180</td>\n",
       "      <td>0</td>\n",
       "      <td>1955</td>\n",
       "      <td>0</td>\n",
       "      <td>98178</td>\n",
       "      <td>47.5112</td>\n",
       "      <td>-122.257</td>\n",
       "      <td>1340</td>\n",
       "      <td>5650</td>\n",
       "    </tr>\n",
       "    <tr>\n",
       "      <th>1</th>\n",
       "      <td>6414100192</td>\n",
       "      <td>20141209T000000</td>\n",
       "      <td>538000.0</td>\n",
       "      <td>3</td>\n",
       "      <td>2.25</td>\n",
       "      <td>2570</td>\n",
       "      <td>7242</td>\n",
       "      <td>2.0</td>\n",
       "      <td>0</td>\n",
       "      <td>0</td>\n",
       "      <td>3</td>\n",
       "      <td>7</td>\n",
       "      <td>2170</td>\n",
       "      <td>400</td>\n",
       "      <td>1951</td>\n",
       "      <td>1991</td>\n",
       "      <td>98125</td>\n",
       "      <td>47.7210</td>\n",
       "      <td>-122.319</td>\n",
       "      <td>1690</td>\n",
       "      <td>7639</td>\n",
       "    </tr>\n",
       "    <tr>\n",
       "      <th>2</th>\n",
       "      <td>5631500400</td>\n",
       "      <td>20150225T000000</td>\n",
       "      <td>180000.0</td>\n",
       "      <td>2</td>\n",
       "      <td>1.00</td>\n",
       "      <td>770</td>\n",
       "      <td>10000</td>\n",
       "      <td>1.0</td>\n",
       "      <td>0</td>\n",
       "      <td>0</td>\n",
       "      <td>3</td>\n",
       "      <td>6</td>\n",
       "      <td>770</td>\n",
       "      <td>0</td>\n",
       "      <td>1933</td>\n",
       "      <td>0</td>\n",
       "      <td>98028</td>\n",
       "      <td>47.7379</td>\n",
       "      <td>-122.233</td>\n",
       "      <td>2720</td>\n",
       "      <td>8062</td>\n",
       "    </tr>\n",
       "    <tr>\n",
       "      <th>3</th>\n",
       "      <td>2487200875</td>\n",
       "      <td>20141209T000000</td>\n",
       "      <td>604000.0</td>\n",
       "      <td>4</td>\n",
       "      <td>3.00</td>\n",
       "      <td>1960</td>\n",
       "      <td>5000</td>\n",
       "      <td>1.0</td>\n",
       "      <td>0</td>\n",
       "      <td>0</td>\n",
       "      <td>5</td>\n",
       "      <td>7</td>\n",
       "      <td>1050</td>\n",
       "      <td>910</td>\n",
       "      <td>1965</td>\n",
       "      <td>0</td>\n",
       "      <td>98136</td>\n",
       "      <td>47.5208</td>\n",
       "      <td>-122.393</td>\n",
       "      <td>1360</td>\n",
       "      <td>5000</td>\n",
       "    </tr>\n",
       "    <tr>\n",
       "      <th>4</th>\n",
       "      <td>1954400510</td>\n",
       "      <td>20150218T000000</td>\n",
       "      <td>510000.0</td>\n",
       "      <td>3</td>\n",
       "      <td>2.00</td>\n",
       "      <td>1680</td>\n",
       "      <td>8080</td>\n",
       "      <td>1.0</td>\n",
       "      <td>0</td>\n",
       "      <td>0</td>\n",
       "      <td>3</td>\n",
       "      <td>8</td>\n",
       "      <td>1680</td>\n",
       "      <td>0</td>\n",
       "      <td>1987</td>\n",
       "      <td>0</td>\n",
       "      <td>98074</td>\n",
       "      <td>47.6168</td>\n",
       "      <td>-122.045</td>\n",
       "      <td>1800</td>\n",
       "      <td>7503</td>\n",
       "    </tr>\n",
       "  </tbody>\n",
       "</table>\n",
       "</div>"
      ],
      "text/plain": [
       "           id             date     price  bedrooms  bathrooms  sqft_living  \\\n",
       "0  7129300520  20141013T000000  221900.0         3       1.00         1180   \n",
       "1  6414100192  20141209T000000  538000.0         3       2.25         2570   \n",
       "2  5631500400  20150225T000000  180000.0         2       1.00          770   \n",
       "3  2487200875  20141209T000000  604000.0         4       3.00         1960   \n",
       "4  1954400510  20150218T000000  510000.0         3       2.00         1680   \n",
       "\n",
       "   sqft_lot  floors  waterfront  view  condition  grade  sqft_above  \\\n",
       "0      5650     1.0           0     0          3      7        1180   \n",
       "1      7242     2.0           0     0          3      7        2170   \n",
       "2     10000     1.0           0     0          3      6         770   \n",
       "3      5000     1.0           0     0          5      7        1050   \n",
       "4      8080     1.0           0     0          3      8        1680   \n",
       "\n",
       "   sqft_basement  yr_built  yr_renovated  zipcode      lat     long  \\\n",
       "0              0      1955             0    98178  47.5112 -122.257   \n",
       "1            400      1951          1991    98125  47.7210 -122.319   \n",
       "2              0      1933             0    98028  47.7379 -122.233   \n",
       "3            910      1965             0    98136  47.5208 -122.393   \n",
       "4              0      1987             0    98074  47.6168 -122.045   \n",
       "\n",
       "   sqft_living15  sqft_lot15  \n",
       "0           1340        5650  \n",
       "1           1690        7639  \n",
       "2           2720        8062  \n",
       "3           1360        5000  \n",
       "4           1800        7503  "
      ]
     },
     "execution_count": 298,
     "metadata": {},
     "output_type": "execute_result"
    }
   ],
   "source": [
    "df = pd.read_csv('https://raw.githubusercontent.com/ryanleeallred/datasets/master/kc_house_data.csv')\n",
    "pd.set_option('display.max_columns', 100)\n",
    "print(df.shape)\n",
    "df.head()"
   ]
  },
  {
   "cell_type": "code",
   "execution_count": 299,
   "metadata": {
    "colab": {},
    "colab_type": "code",
    "id": "DhBV6VTZGnQ6"
   },
   "outputs": [],
   "source": [
    "X = df.drop(columns = 'price')\n",
    "y = df[['price']]\n",
    "\n",
    "X_train, X_test, y_train, y_test = train_test_split(X, y, \n",
    "                                                    train_size = 0.80, \n",
    "                                                    test_size = 0.20, \n",
    "                                                    random_state = 42)\n",
    "test = X_test.join(y_test)"
   ]
  },
  {
   "cell_type": "markdown",
   "metadata": {},
   "source": [
    "I hypothesize that you can accurately predict the price of a house based on the square footage of the lot it is on. "
   ]
  },
  {
   "cell_type": "code",
   "execution_count": 338,
   "metadata": {},
   "outputs": [],
   "source": [
    "feature = 'sqft_lot'\n",
    "df['pred'] = df[target].mean()"
   ]
  },
  {
   "cell_type": "code",
   "execution_count": 301,
   "metadata": {},
   "outputs": [
    {
     "name": "stdout",
     "output_type": "stream",
     "text": [
      "target mean:\n",
      "540088.1417665294\n",
      "\n",
      "root mean absolute error of inital prediciton: \n",
      "483.67522602724614\n",
      "\n",
      "R^2 score: \n",
      "0.0\n"
     ]
    }
   ],
   "source": [
    "print('target mean:')\n",
    "print(df[target].mean())\n",
    "print()\n",
    "print('root mean absolute error of inital prediciton: ')\n",
    "print(np.sqrt(mean_absolute_error(y_true = df[target],\n",
    "                          y_pred = df['pred'])))\n",
    "print()\n",
    "print('R^2 score: ')\n",
    "print(r2_score(y_true=df[target], y_pred=df['pred']))\n"
   ]
  },
  {
   "cell_type": "markdown",
   "metadata": {},
   "source": [
    "\n",
    "That is a pretty wide margin and give me a loose baseline to work with. The $R^2$ is also pretty terrible. "
   ]
  },
  {
   "cell_type": "code",
   "execution_count": 302,
   "metadata": {},
   "outputs": [],
   "source": [
    "def error(): \n",
    "    \n",
    "    '''For quickly getting my error metrics\n",
    "        Work with existing variables in this notebook'''\n",
    "    \n",
    "    \n",
    "    train_true = y_train\n",
    "    train_predict = model.predict(y_train)\n",
    "    train_error = np.sqrt(mean_absolute_error(train_true, train_predict))\n",
    "    train_r2 = r2_score(y_true = train_true, y_pred = train_predict)\n",
    "    \n",
    "    \n",
    "    test_true = y_test\n",
    "    test_predict = model.predict(y_test)\n",
    "    test_error = np.sqrt(mean_absolute_error(test_true, test_predict))\n",
    "    test_r2 = r2_score(y_true = test_true, y_pred = test_predict)\n",
    "    \n",
    "    print('Train Error: ', train_error, '... R^2:',  train_r2)\n",
    "    print('Test Error: ', test_error, '... R^2:', test_r2)"
   ]
  },
  {
   "cell_type": "code",
   "execution_count": 339,
   "metadata": {},
   "outputs": [
    {
     "data": {
      "text/plain": [
       "LinearRegression(copy_X=True, fit_intercept=True, n_jobs=None,\n",
       "         normalize=False)"
      ]
     },
     "execution_count": 339,
     "metadata": {},
     "output_type": "execute_result"
    }
   ],
   "source": [
    "model = LinearRegression()\n",
    "model.fit(X_train[[feature]], y_train)"
   ]
  },
  {
   "cell_type": "code",
   "execution_count": 340,
   "metadata": {},
   "outputs": [
    {
     "data": {
      "text/plain": [
       "array([[532764.11757768],\n",
       "       [530931.47317481],\n",
       "       [534458.6570163 ],\n",
       "       ...,\n",
       "       [528957.33472882],\n",
       "       [533793.55028665],\n",
       "       [534950.07345351]])"
      ]
     },
     "execution_count": 340,
     "metadata": {},
     "output_type": "execute_result"
    }
   ],
   "source": [
    "model.predict(X_test[[feature]])"
   ]
  },
  {
   "cell_type": "code",
   "execution_count": 344,
   "metadata": {},
   "outputs": [
    {
     "data": {
      "text/plain": [
       "array([[532764.11757768],\n",
       "       [530931.47317481],\n",
       "       [534458.6570163 ],\n",
       "       ...,\n",
       "       [528957.33472882],\n",
       "       [533793.55028665],\n",
       "       [534950.07345351]])"
      ]
     },
     "execution_count": 344,
     "metadata": {},
     "output_type": "execute_result"
    }
   ],
   "source": [
    "model.predict(X_test[[feature]])"
   ]
  },
  {
   "cell_type": "code",
   "execution_count": 304,
   "metadata": {
    "scrolled": true
   },
   "outputs": [],
   "source": [
    "m = model.coef_ \n",
    "b = model.intercept_\n",
    "\n",
    "x = np.linspace(0,500000, 1000)\n",
    "yy = m*x + b\n"
   ]
  },
  {
   "cell_type": "code",
   "execution_count": 305,
   "metadata": {},
   "outputs": [
    {
     "data": {
      "text/plain": [
       "[<matplotlib.lines.Line2D at 0x1c22ff5470>]"
      ]
     },
     "execution_count": 305,
     "metadata": {},
     "output_type": "execute_result"
    },
    {
     "data": {
      "image/png": "[encoded data removed]",
      "text/plain": [
       "<Figure size 1440x720 with 1 Axes>"
      ]
     },
     "metadata": {},
     "output_type": "display_data"
    }
   ],
   "source": [
    "plt.style.use('fivethirtyeight')\n",
    "\n",
    "plt.figure(figsize=(20,10))\n",
    "plt.xlim(0,500000)\n",
    "\n",
    "plt.scatter(test[feature], y = test[target])\n",
    "plt.plot(x,yy.reshape(-1,1), color = 'red')"
   ]
  },
  {
   "cell_type": "code",
   "execution_count": 346,
   "metadata": {},
   "outputs": [
    {
     "name": "stdout",
     "output_type": "stream",
     "text": [
      "Train Error:  479.96024996176726 ... R^2: 0.008288101908683676\n",
      "Test Error:  488.95543081857744 ... R^2: 0.006175047825244251\n"
     ]
    }
   ],
   "source": [
    "error()"
   ]
  },
  {
   "cell_type": "markdown",
   "metadata": {
    "colab_type": "text",
    "id": "7Y7hg7wYHGZ4"
   },
   "source": [
    "# Two-variable Multiple Regression\n",
    "\n",
    "To ramp up slowly, pick a second X variable that you think will be the most correlated with Y. \n",
    "\n",
    "Split your dataset into a 80-20 train-test-split (80% of data for training, and 20% for testing).\n",
    "\n",
    "Train a regression model using these two X variables. Once you have trained the model and obtained its coefficients, plot the points on a graph and fit your **plane** of best fit to the graph.\n",
    "\n",
    "Report your Root Mean Squared Error and R-squared for this model."
   ]
  },
  {
   "cell_type": "markdown",
   "metadata": {},
   "source": [
    "Lets see what other categories have a low mean absolute error from the data. I'm just going to brute force my way through this one to cherry pick a second feature. "
   ]
  },
  {
   "cell_type": "code",
   "execution_count": 345,
   "metadata": {},
   "outputs": [],
   "source": [
    "def error(): \n",
    "    \n",
    "    '''For quickly getting my error metrics\n",
    "        Work with existing variables in this notebook'''\n",
    "    \n",
    "    \n",
    "    train_true = y_train\n",
    "    train_predict = model.predict(X_train[[feature]])\n",
    "    train_error = np.sqrt(mean_absolute_error(train_true, train_predict))\n",
    "    train_r2 = r2_score(y_true = train_true, y_pred = train_predict)\n",
    "    \n",
    "    \n",
    "    test_true = y_test\n",
    "    test_predict = model.predict(X_test[[feature]])\n",
    "    test_error = np.sqrt(mean_absolute_error(test_true, test_predict))\n",
    "    test_r2 = r2_score(y_true = test_true, y_pred = test_predict)\n",
    "    \n",
    "    print('Train Error: ', train_error, '... R^2:',  train_r2)\n",
    "    print('Test Error: ', test_error, '... R^2:', test_r2)"
   ]
  },
  {
   "cell_type": "code",
   "execution_count": 314,
   "metadata": {},
   "outputs": [
    {
     "data": {
      "text/plain": [
       "['bedrooms',\n",
       " 'bathrooms',\n",
       " 'sqft_living',\n",
       " 'sqft_lot',\n",
       " 'floors',\n",
       " 'waterfront',\n",
       " 'view',\n",
       " 'condition',\n",
       " 'grade',\n",
       " 'sqft_above',\n",
       " 'sqft_basement',\n",
       " 'yr_built',\n",
       " 'yr_renovated',\n",
       " 'zipcode',\n",
       " 'lat',\n",
       " 'long',\n",
       " 'sqft_living15',\n",
       " 'sqft_lot15',\n",
       " 'pred']"
      ]
     },
     "execution_count": 314,
     "metadata": {},
     "output_type": "execute_result"
    }
   ],
   "source": [
    "columns"
   ]
  },
  {
   "cell_type": "code",
   "execution_count": 319,
   "metadata": {
    "colab": {},
    "colab_type": "code",
    "id": "Ceoln3RCHPQy",
    "scrolled": true
   },
   "outputs": [
    {
     "data": {
      "text/plain": [
       "['bedrooms',\n",
       " 256364.5610730004,\n",
       " 'bathrooms',\n",
       " 369294.29487711104,\n",
       " 'sqft_living',\n",
       " 12368.78845519591,\n",
       " 'sqft_lot',\n",
       " 664.6871914443503,\n",
       " 'floors',\n",
       " 304481.33934318624,\n",
       " 'waterfront',\n",
       " 771518.3384003098,\n",
       " 'view',\n",
       " 319713.27707517816,\n",
       " 'condition',\n",
       " 105233.355395171,\n",
       " 'grade',\n",
       " 335925.8583242244,\n",
       " 'sqft_above',\n",
       " 12054.601954145972,\n",
       " 'sqft_basement',\n",
       " 12057.29506623738,\n",
       " 'yr_built',\n",
       " 18166.777860146885,\n",
       " 'yr_renovated',\n",
       " 7976.909234030189,\n",
       " 'zipcode',\n",
       " 12829.828532845024,\n",
       " 'lat',\n",
       " 667646.5106619938,\n",
       " 'long',\n",
       " 182213.01505410613,\n",
       " 'sqft_living15',\n",
       " 13008.476501433946,\n",
       " 'sqft_lot15',\n",
       " 739.0571676852348]"
      ]
     },
     "execution_count": 319,
     "metadata": {},
     "output_type": "execute_result"
    }
   ],
   "source": [
    "columns = df.drop(columns = ['id','date','price','pred']).columns.values.tolist()\n",
    "\n",
    "errors = []\n",
    "for column in columns: \n",
    "    feature = column\n",
    "    model.fit(X_train[[feature]], y_train)\n",
    "    errors.append(feature)\n",
    "    errors.append(np.sqrt(mean_absolute_error(y_test, model.predict(y_test))))\n",
    "    \n",
    "errors"
   ]
  },
  {
   "cell_type": "markdown",
   "metadata": {},
   "source": [
    "Lets use year renovated as our second feature. "
   ]
  },
  {
   "cell_type": "code",
   "execution_count": 335,
   "metadata": {},
   "outputs": [],
   "source": [
    "feature = ['sqft_lot', 'yr_renovated']"
   ]
  },
  {
   "cell_type": "code",
   "execution_count": 336,
   "metadata": {},
   "outputs": [
    {
     "data": {
      "text/plain": [
       "LinearRegression(copy_X=True, fit_intercept=True, n_jobs=None,\n",
       "         normalize=False)"
      ]
     },
     "execution_count": 336,
     "metadata": {},
     "output_type": "execute_result"
    }
   ],
   "source": [
    "model.fit(X_train[feature], y_train)"
   ]
  },
  {
   "cell_type": "code",
   "execution_count": 215,
   "metadata": {},
   "outputs": [],
   "source": [
    "m = model.coef_ \n",
    "b = model.intercept_"
   ]
  },
  {
   "cell_type": "code",
   "execution_count": 296,
   "metadata": {},
   "outputs": [
    {
     "data": {
      "image/png": "[encoded data removed]",
      "text/plain": [
       "<Figure size 432x288 with 1 Axes>"
      ]
     },
     "metadata": {},
     "output_type": "display_data"
    }
   ],
   "source": [
    "plt.style.use('fivethirtyeight')\n",
    "\n",
    "fig = plt.figure()\n",
    "ax = fig.add_subplot(111, projection='3d')\n",
    "\n",
    "ax.scatter(test[feature],test[feature], test['price'])\n",
    "ax.view_init(15, 20)\n",
    "\n",
    "ax.plot_surface()    \n",
    "\n",
    "plt.show();"
   ]
  },
  {
   "cell_type": "code",
   "execution_count": null,
   "metadata": {},
   "outputs": [],
   "source": []
  },
  {
   "cell_type": "code",
   "execution_count": 337,
   "metadata": {},
   "outputs": [
    {
     "name": "stdout",
     "output_type": "stream",
     "text": [
      "Train Error:  478.2318887130211 ... R^2: 0.02425194793546792\n",
      "Test Error:  486.9680509836969 ... R^2: 0.02155258618141409\n"
     ]
    }
   ],
   "source": [
    "error()"
   ]
  },
  {
   "cell_type": "markdown",
   "metadata": {
    "colab_type": "text",
    "id": "0LRAjm6sHOy-"
   },
   "source": [
    "# Multiple Regression\n",
    "\n",
    "Now using all available X variables, split your data into test and training datasets, train your model, obtain its coefficients, and report the Root Mean Squared Error and R-squared values."
   ]
  },
  {
   "cell_type": "code",
   "execution_count": 264,
   "metadata": {},
   "outputs": [],
   "source": [
    "feature = columns"
   ]
  },
  {
   "cell_type": "code",
   "execution_count": 265,
   "metadata": {},
   "outputs": [
    {
     "data": {
      "text/plain": [
       "LinearRegression(copy_X=True, fit_intercept=True, n_jobs=None,\n",
       "         normalize=False)"
      ]
     },
     "execution_count": 265,
     "metadata": {},
     "output_type": "execute_result"
    }
   ],
   "source": [
    "model.fit(X_train[feature], y_train)"
   ]
  },
  {
   "cell_type": "code",
   "execution_count": 266,
   "metadata": {},
   "outputs": [
    {
     "name": "stdout",
     "output_type": "stream",
     "text": [
      "Train Error:  353.600289787814 ... R^2: 0.6991021854487472\n",
      "Test Error:  357.0620983618541 ... R^2: 0.7011904448878181\n"
     ]
    }
   ],
   "source": [
    "error()"
   ]
  },
  {
   "cell_type": "markdown",
   "metadata": {
    "colab_type": "text",
    "id": "95Ln3VLJJEH_"
   },
   "source": [
    "# Stretch Goals\n",
    "\n",
    "Pick from these stretch goals the tasks that you feel like will be the most beneficial for you. \n",
    "\n",
    "- Start to research Polynomial Regression and Log-Linear Regression (tomorrow's topics). Find a new regression dataset and try to implement one of these models. \n",
    "- Research \"Feature Engineering\" see what features you can engineer on the above dataset. How much are you able to improve your accuracy with feature engineering?\n",
    "- Explore the concept of $R^2$, learn how it is calculated and how it relates to covariance, correlation, and variance. \n",
    "- Further explore the concept of \"Model Validation\" - we'll spend a whole week on this soon. What other measures of model accuracy could we have used besides Root Mean Squared Error?\n",
    "- AMES Housing Prediction Kaggle Competition: <https://www.kaggle.com/c/house-prices-advanced-regression-techniques>\n",
    "- **WRITE A BLOG POST** explaining the basics of Linear Regression.\n",
    "\n",
    "Remember to share your findings in the slack channel. :)\n"
   ]
  }
 ],
 "metadata": {
  "colab": {
   "collapsed_sections": [],
   "name": "Linear Regression Assignment.ipynb",
   "provenance": [],
   "version": "0.3.2"
  },
  "kernelspec": {
   "display_name": "Python 3",
   "language": "python",
   "name": "python3"
  },
  "language_info": {
   "codemirror_mode": {
    "name": "ipython",
    "version": 3
   },
   "file_extension": ".py",
   "mimetype": "text/x-python",
   "name": "python",
   "nbconvert_exporter": "python",
   "pygments_lexer": "ipython3",
   "version": "3.7.1"
  }
 },
 "nbformat": 4,
 "nbformat_minor": 1
}
