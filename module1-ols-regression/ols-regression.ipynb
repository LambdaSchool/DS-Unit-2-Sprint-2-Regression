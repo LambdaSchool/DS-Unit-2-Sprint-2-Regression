{
  "nbformat": 4,
  "nbformat_minor": 0,
  "metadata": {
    "colab": {
      "name": "ols-regression.ipynb",
      "version": "0.3.2",
      "provenance": []
    },
    "language_info": {
      "codemirror_mode": {
        "name": "ipython",
        "version": 3
      },
      "file_extension": ".py",
      "mimetype": "text/x-python",
      "name": "python",
      "nbconvert_exporter": "python",
      "pygments_lexer": "ipython3",
      "version": "3.7.1"
    },
    "kernelspec": {
      "display_name": "Python 3",
      "language": "python",
      "name": "python3"
    }
  },
  "cells": [
    {
      "metadata": {
        "id": "omJl3NRs12zw",
        "colab_type": "text"
      },
      "cell_type": "markdown",
      "source": [
        "_Lambda School Data Science_\n",
        "\n",
        "# Ordinary Least Squares Regression - notes\n",
        "\n",
        "## What is Linear Regression?\n",
        "\n",
        "Linear Regression is a statistical model that seeks to describe the relationship between some y variable and one or more x variables. \n",
        "\n",
        "![Linear Regression](https://upload.wikimedia.org/wikipedia/commons/thumb/3/3a/Linear_regression.svg/1200px-Linear_regression.svg.png)\n",
        "\n",
        "In the simplest case, linear regression seeks to fit a straight line through a cloud of points. This line is referred to as the \"regression line\" or \"line of best fit.\" This line tries to summarize the relationship between our X and Y in a way that enables us to use the equation for that line to make predictions.\n",
        "\n",
        "### Synonyms for \"y variable\" \n",
        "- Dependent Variable\n",
        "- Response Variable\n",
        "- Outcome Variable \n",
        "- Predicted Variable\n",
        "- Measured Variable\n",
        "- Explained Variable\n",
        "- Label\n",
        "- Target\n",
        "\n",
        "### Synonyms for \"x variable\"\n",
        "- Independent Variable\n",
        "- Explanatory Variable\n",
        "- Regressor\n",
        "- Covariate\n",
        "- Feature"
      ]
    },
    {
      "metadata": {
        "id": "GLfiyLr-12z0",
        "colab_type": "text"
      },
      "cell_type": "markdown",
      "source": [
        "# Simple Linear Regresion (bivariate)\n",
        "\n",
        "## Making Predictions\n",
        "\n",
        "Say that we were trying to create a model that captured the relationship between temperature outside and ice cream sales. In Machine Learning our goal is often different that of other flavors of Linear Regression Analysis, because we're trying to fit a model to this data with the intention of making **predictions** on new data (in the future) that we don't have yet.\n",
        "\n",
        "## What are we trying to predict?\n",
        "\n",
        "So if we had measured ice cream sales and the temprature outside on 11 different days, at the end of our modeling **what would be the thing that we would want to predict? - Ice Cream Sales or Temperature?**\n",
        "\n",
        "We would probably want to be measuring temperature with the intention of using that to **forecast** ice cream sales. If we were able to successfully forecast ice cream sales from temperature, this might help us know beforehand how much ice cream to make or how many cones to buy or on which days to open our store, etc. Being able to make predictions accurately has a lot of business implications. This is why making accurate predictions is so valuable (And in large part is why data scientists are paid so well).\n",
        "\n",
        "### Y Variable Intuition\n",
        "\n",
        "We want the thing that we're trying to predict to serve as our **y** variable. This is why it's sometimes called the \"predicted variable.\" We call it the \"dependent\" variable because our prediction for how much ice cream we're going to sell \"depends\" on the temperature outside. \n",
        "\n",
        "### X Variable Intuition\n",
        "\n",
        "All other variables that we use to predict our y variable (we're going to start off just using one) we call our **x** variables. These are called our \"independent\" variables because they don't *depend* on y, they \"explain\" y. Hence they are also referred to as our \"explanatory\" variables."
      ]
    },
    {
      "metadata": {
        "id": "p0X_but-12z5",
        "colab_type": "code",
        "colab": {}
      },
      "cell_type": "code",
      "source": [
        "%matplotlib inline\n",
        "from ipywidgets import interact\n",
        "from matplotlib.patches import Rectangle\n",
        "import matplotlib.pyplot as plt\n",
        "import numpy as np\n",
        "import pandas as pd\n",
        "import seaborn as sns\n",
        "from sklearn.linear_model import LinearRegression\n",
        "from sklearn.metrics import mean_absolute_error, mean_squared_error, r2_score\n",
        "import statsmodels.api as sm"
      ],
      "execution_count": 0,
      "outputs": []
    },
    {
      "metadata": {
        "id": "i17Ht2zf120L",
        "colab_type": "code",
        "colab": {}
      },
      "cell_type": "code",
      "source": [
        "columns = ['Year','Incumbent Party Candidate','Other Candidate','Incumbent Party Vote Share']\n",
        "\n",
        "data = [[1952,\"Stevenson\",\"Eisenhower\",44.6],\n",
        "        [1956,\"Eisenhower\",\"Stevenson\",57.76],\n",
        "        [1960,\"Nixon\",\"Kennedy\",49.91],\n",
        "        [1964,\"Johnson\",\"Goldwater\",61.34],\n",
        "        [1968,\"Humphrey\",\"Nixon\",49.60],\n",
        "        [1972,\"Nixon\",\"McGovern\",61.79],\n",
        "        [1976,\"Ford\",\"Carter\",48.95],\n",
        "        [1980,\"Carter\",\"Reagan\",44.70],\n",
        "        [1984,\"Reagan\",\"Mondale\",59.17],\n",
        "        [1988,\"Bush, Sr.\",\"Dukakis\",53.94],\n",
        "        [1992,\"Bush, Sr.\",\"Clinton\",46.55],\n",
        "        [1996,\"Clinton\",\"Dole\",54.74],\n",
        "        [2000,\"Gore\",\"Bush, Jr.\",50.27],\n",
        "        [2004,\"Bush, Jr.\",\"Kerry\",51.24],\n",
        "        [2008,\"McCain\",\"Obama\",46.32],\n",
        "        [2012,\"Obama\",\"Romney\",52.00]]\n",
        "        \n",
        "df = pd.DataFrame(data=data, columns=columns)"
      ],
      "execution_count": 0,
      "outputs": []
    },
    {
      "metadata": {
        "id": "TmAj9NrL120X",
        "colab_type": "code",
        "colab": {
          "base_uri": "https://localhost:8080/",
          "height": 545
        },
        "outputId": "6851ba3d-9ecc-46f2-daf6-8884ade0a64a"
      },
      "cell_type": "code",
      "source": [
        "df"
      ],
      "execution_count": 5,
      "outputs": [
        {
          "output_type": "execute_result",
          "data": {
            "text/html": [
              "<div>\n",
              "<style scoped>\n",
              "    .dataframe tbody tr th:only-of-type {\n",
              "        vertical-align: middle;\n",
              "    }\n",
              "\n",
              "    .dataframe tbody tr th {\n",
              "        vertical-align: top;\n",
              "    }\n",
              "\n",
              "    .dataframe thead th {\n",
              "        text-align: right;\n",
              "    }\n",
              "</style>\n",
              "<table border=\"1\" class=\"dataframe\">\n",
              "  <thead>\n",
              "    <tr style=\"text-align: right;\">\n",
              "      <th></th>\n",
              "      <th>Year</th>\n",
              "      <th>Incumbent Party Candidate</th>\n",
              "      <th>Other Candidate</th>\n",
              "      <th>Incumbent Party Vote Share</th>\n",
              "    </tr>\n",
              "  </thead>\n",
              "  <tbody>\n",
              "    <tr>\n",
              "      <th>0</th>\n",
              "      <td>1952</td>\n",
              "      <td>Stevenson</td>\n",
              "      <td>Eisenhower</td>\n",
              "      <td>44.60</td>\n",
              "    </tr>\n",
              "    <tr>\n",
              "      <th>1</th>\n",
              "      <td>1956</td>\n",
              "      <td>Eisenhower</td>\n",
              "      <td>Stevenson</td>\n",
              "      <td>57.76</td>\n",
              "    </tr>\n",
              "    <tr>\n",
              "      <th>2</th>\n",
              "      <td>1960</td>\n",
              "      <td>Nixon</td>\n",
              "      <td>Kennedy</td>\n",
              "      <td>49.91</td>\n",
              "    </tr>\n",
              "    <tr>\n",
              "      <th>3</th>\n",
              "      <td>1964</td>\n",
              "      <td>Johnson</td>\n",
              "      <td>Goldwater</td>\n",
              "      <td>61.34</td>\n",
              "    </tr>\n",
              "    <tr>\n",
              "      <th>4</th>\n",
              "      <td>1968</td>\n",
              "      <td>Humphrey</td>\n",
              "      <td>Nixon</td>\n",
              "      <td>49.60</td>\n",
              "    </tr>\n",
              "    <tr>\n",
              "      <th>5</th>\n",
              "      <td>1972</td>\n",
              "      <td>Nixon</td>\n",
              "      <td>McGovern</td>\n",
              "      <td>61.79</td>\n",
              "    </tr>\n",
              "    <tr>\n",
              "      <th>6</th>\n",
              "      <td>1976</td>\n",
              "      <td>Ford</td>\n",
              "      <td>Carter</td>\n",
              "      <td>48.95</td>\n",
              "    </tr>\n",
              "    <tr>\n",
              "      <th>7</th>\n",
              "      <td>1980</td>\n",
              "      <td>Carter</td>\n",
              "      <td>Reagan</td>\n",
              "      <td>44.70</td>\n",
              "    </tr>\n",
              "    <tr>\n",
              "      <th>8</th>\n",
              "      <td>1984</td>\n",
              "      <td>Reagan</td>\n",
              "      <td>Mondale</td>\n",
              "      <td>59.17</td>\n",
              "    </tr>\n",
              "    <tr>\n",
              "      <th>9</th>\n",
              "      <td>1988</td>\n",
              "      <td>Bush, Sr.</td>\n",
              "      <td>Dukakis</td>\n",
              "      <td>53.94</td>\n",
              "    </tr>\n",
              "    <tr>\n",
              "      <th>10</th>\n",
              "      <td>1992</td>\n",
              "      <td>Bush, Sr.</td>\n",
              "      <td>Clinton</td>\n",
              "      <td>46.55</td>\n",
              "    </tr>\n",
              "    <tr>\n",
              "      <th>11</th>\n",
              "      <td>1996</td>\n",
              "      <td>Clinton</td>\n",
              "      <td>Dole</td>\n",
              "      <td>54.74</td>\n",
              "    </tr>\n",
              "    <tr>\n",
              "      <th>12</th>\n",
              "      <td>2000</td>\n",
              "      <td>Gore</td>\n",
              "      <td>Bush, Jr.</td>\n",
              "      <td>50.27</td>\n",
              "    </tr>\n",
              "    <tr>\n",
              "      <th>13</th>\n",
              "      <td>2004</td>\n",
              "      <td>Bush, Jr.</td>\n",
              "      <td>Kerry</td>\n",
              "      <td>51.24</td>\n",
              "    </tr>\n",
              "    <tr>\n",
              "      <th>14</th>\n",
              "      <td>2008</td>\n",
              "      <td>McCain</td>\n",
              "      <td>Obama</td>\n",
              "      <td>46.32</td>\n",
              "    </tr>\n",
              "    <tr>\n",
              "      <th>15</th>\n",
              "      <td>2012</td>\n",
              "      <td>Obama</td>\n",
              "      <td>Romney</td>\n",
              "      <td>52.00</td>\n",
              "    </tr>\n",
              "  </tbody>\n",
              "</table>\n",
              "</div>"
            ],
            "text/plain": [
              "    Year Incumbent Party Candidate Other Candidate  Incumbent Party Vote Share\n",
              "0   1952                 Stevenson      Eisenhower                       44.60\n",
              "1   1956                Eisenhower       Stevenson                       57.76\n",
              "2   1960                     Nixon         Kennedy                       49.91\n",
              "3   1964                   Johnson       Goldwater                       61.34\n",
              "4   1968                  Humphrey           Nixon                       49.60\n",
              "5   1972                     Nixon        McGovern                       61.79\n",
              "6   1976                      Ford          Carter                       48.95\n",
              "7   1980                    Carter          Reagan                       44.70\n",
              "8   1984                    Reagan         Mondale                       59.17\n",
              "9   1988                 Bush, Sr.         Dukakis                       53.94\n",
              "10  1992                 Bush, Sr.         Clinton                       46.55\n",
              "11  1996                   Clinton            Dole                       54.74\n",
              "12  2000                      Gore       Bush, Jr.                       50.27\n",
              "13  2004                 Bush, Jr.           Kerry                       51.24\n",
              "14  2008                    McCain           Obama                       46.32\n",
              "15  2012                     Obama          Romney                       52.00"
            ]
          },
          "metadata": {
            "tags": []
          },
          "execution_count": 5
        }
      ]
    },
    {
      "metadata": {
        "id": "pT0AAnic120j",
        "colab_type": "code",
        "colab": {
          "base_uri": "https://localhost:8080/",
          "height": 283
        },
        "outputId": "330a08e4-145a-4cf9-b245-3ee08d8f52a1"
      },
      "cell_type": "code",
      "source": [
        "df.plot(x='Year', y='Incumbent Party Vote Share');"
      ],
      "execution_count": 6,
      "outputs": [
        {
          "output_type": "display_data",
          "data": {
            "image/png": "[encoded data removed]",
            "text/plain": [
              "<Figure size 432x288 with 1 Axes>"
            ]
          },
          "metadata": {
            "tags": []
          }
        }
      ]
    },
    {
      "metadata": {
        "id": "Y8MKji6k120z",
        "colab_type": "code",
        "colab": {
          "base_uri": "https://localhost:8080/",
          "height": 170
        },
        "outputId": "3cae751c-3d9d-4e0e-efec-a1c799ef4745"
      },
      "cell_type": "code",
      "source": [
        "df['Incumbent Party Vote Share'].describe()"
      ],
      "execution_count": 7,
      "outputs": [
        {
          "output_type": "execute_result",
          "data": {
            "text/plain": [
              "count    16.000000\n",
              "mean     52.055000\n",
              "std       5.608951\n",
              "min      44.600000\n",
              "25%      48.350000\n",
              "50%      50.755000\n",
              "75%      55.495000\n",
              "max      61.790000\n",
              "Name: Incumbent Party Vote Share, dtype: float64"
            ]
          },
          "metadata": {
            "tags": []
          },
          "execution_count": 7
        }
      ]
    },
    {
      "metadata": {
        "id": "IuMStnkH1203",
        "colab_type": "code",
        "colab": {}
      },
      "cell_type": "code",
      "source": [
        "target = 'Incumbent Party Vote Share'\n",
        "df['Prediction'] = df[target].mean()\n",
        "df['Error'] = df['Prediction'] - df[target]"
      ],
      "execution_count": 0,
      "outputs": []
    },
    {
      "metadata": {
        "id": "dBJlc_v3120_",
        "colab_type": "code",
        "colab": {
          "base_uri": "https://localhost:8080/",
          "height": 545
        },
        "outputId": "a7e2c6c8-e451-4ca2-bdda-4c5330ffce27"
      },
      "cell_type": "code",
      "source": [
        "df"
      ],
      "execution_count": 15,
      "outputs": [
        {
          "output_type": "execute_result",
          "data": {
            "text/html": [
              "<div>\n",
              "<style scoped>\n",
              "    .dataframe tbody tr th:only-of-type {\n",
              "        vertical-align: middle;\n",
              "    }\n",
              "\n",
              "    .dataframe tbody tr th {\n",
              "        vertical-align: top;\n",
              "    }\n",
              "\n",
              "    .dataframe thead th {\n",
              "        text-align: right;\n",
              "    }\n",
              "</style>\n",
              "<table border=\"1\" class=\"dataframe\">\n",
              "  <thead>\n",
              "    <tr style=\"text-align: right;\">\n",
              "      <th></th>\n",
              "      <th>Year</th>\n",
              "      <th>Incumbent Party Candidate</th>\n",
              "      <th>Other Candidate</th>\n",
              "      <th>Incumbent Party Vote Share</th>\n",
              "      <th>Prediction</th>\n",
              "      <th>Error</th>\n",
              "      <th>Absolute Error</th>\n",
              "    </tr>\n",
              "  </thead>\n",
              "  <tbody>\n",
              "    <tr>\n",
              "      <th>0</th>\n",
              "      <td>1952</td>\n",
              "      <td>Stevenson</td>\n",
              "      <td>Eisenhower</td>\n",
              "      <td>44.60</td>\n",
              "      <td>52.055</td>\n",
              "      <td>7.455</td>\n",
              "      <td>7.455</td>\n",
              "    </tr>\n",
              "    <tr>\n",
              "      <th>1</th>\n",
              "      <td>1956</td>\n",
              "      <td>Eisenhower</td>\n",
              "      <td>Stevenson</td>\n",
              "      <td>57.76</td>\n",
              "      <td>52.055</td>\n",
              "      <td>-5.705</td>\n",
              "      <td>5.705</td>\n",
              "    </tr>\n",
              "    <tr>\n",
              "      <th>2</th>\n",
              "      <td>1960</td>\n",
              "      <td>Nixon</td>\n",
              "      <td>Kennedy</td>\n",
              "      <td>49.91</td>\n",
              "      <td>52.055</td>\n",
              "      <td>2.145</td>\n",
              "      <td>2.145</td>\n",
              "    </tr>\n",
              "    <tr>\n",
              "      <th>3</th>\n",
              "      <td>1964</td>\n",
              "      <td>Johnson</td>\n",
              "      <td>Goldwater</td>\n",
              "      <td>61.34</td>\n",
              "      <td>52.055</td>\n",
              "      <td>-9.285</td>\n",
              "      <td>9.285</td>\n",
              "    </tr>\n",
              "    <tr>\n",
              "      <th>4</th>\n",
              "      <td>1968</td>\n",
              "      <td>Humphrey</td>\n",
              "      <td>Nixon</td>\n",
              "      <td>49.60</td>\n",
              "      <td>52.055</td>\n",
              "      <td>2.455</td>\n",
              "      <td>2.455</td>\n",
              "    </tr>\n",
              "    <tr>\n",
              "      <th>5</th>\n",
              "      <td>1972</td>\n",
              "      <td>Nixon</td>\n",
              "      <td>McGovern</td>\n",
              "      <td>61.79</td>\n",
              "      <td>52.055</td>\n",
              "      <td>-9.735</td>\n",
              "      <td>9.735</td>\n",
              "    </tr>\n",
              "    <tr>\n",
              "      <th>6</th>\n",
              "      <td>1976</td>\n",
              "      <td>Ford</td>\n",
              "      <td>Carter</td>\n",
              "      <td>48.95</td>\n",
              "      <td>52.055</td>\n",
              "      <td>3.105</td>\n",
              "      <td>3.105</td>\n",
              "    </tr>\n",
              "    <tr>\n",
              "      <th>7</th>\n",
              "      <td>1980</td>\n",
              "      <td>Carter</td>\n",
              "      <td>Reagan</td>\n",
              "      <td>44.70</td>\n",
              "      <td>52.055</td>\n",
              "      <td>7.355</td>\n",
              "      <td>7.355</td>\n",
              "    </tr>\n",
              "    <tr>\n",
              "      <th>8</th>\n",
              "      <td>1984</td>\n",
              "      <td>Reagan</td>\n",
              "      <td>Mondale</td>\n",
              "      <td>59.17</td>\n",
              "      <td>52.055</td>\n",
              "      <td>-7.115</td>\n",
              "      <td>7.115</td>\n",
              "    </tr>\n",
              "    <tr>\n",
              "      <th>9</th>\n",
              "      <td>1988</td>\n",
              "      <td>Bush, Sr.</td>\n",
              "      <td>Dukakis</td>\n",
              "      <td>53.94</td>\n",
              "      <td>52.055</td>\n",
              "      <td>-1.885</td>\n",
              "      <td>1.885</td>\n",
              "    </tr>\n",
              "    <tr>\n",
              "      <th>10</th>\n",
              "      <td>1992</td>\n",
              "      <td>Bush, Sr.</td>\n",
              "      <td>Clinton</td>\n",
              "      <td>46.55</td>\n",
              "      <td>52.055</td>\n",
              "      <td>5.505</td>\n",
              "      <td>5.505</td>\n",
              "    </tr>\n",
              "    <tr>\n",
              "      <th>11</th>\n",
              "      <td>1996</td>\n",
              "      <td>Clinton</td>\n",
              "      <td>Dole</td>\n",
              "      <td>54.74</td>\n",
              "      <td>52.055</td>\n",
              "      <td>-2.685</td>\n",
              "      <td>2.685</td>\n",
              "    </tr>\n",
              "    <tr>\n",
              "      <th>12</th>\n",
              "      <td>2000</td>\n",
              "      <td>Gore</td>\n",
              "      <td>Bush, Jr.</td>\n",
              "      <td>50.27</td>\n",
              "      <td>52.055</td>\n",
              "      <td>1.785</td>\n",
              "      <td>1.785</td>\n",
              "    </tr>\n",
              "    <tr>\n",
              "      <th>13</th>\n",
              "      <td>2004</td>\n",
              "      <td>Bush, Jr.</td>\n",
              "      <td>Kerry</td>\n",
              "      <td>51.24</td>\n",
              "      <td>52.055</td>\n",
              "      <td>0.815</td>\n",
              "      <td>0.815</td>\n",
              "    </tr>\n",
              "    <tr>\n",
              "      <th>14</th>\n",
              "      <td>2008</td>\n",
              "      <td>McCain</td>\n",
              "      <td>Obama</td>\n",
              "      <td>46.32</td>\n",
              "      <td>52.055</td>\n",
              "      <td>5.735</td>\n",
              "      <td>5.735</td>\n",
              "    </tr>\n",
              "    <tr>\n",
              "      <th>15</th>\n",
              "      <td>2012</td>\n",
              "      <td>Obama</td>\n",
              "      <td>Romney</td>\n",
              "      <td>52.00</td>\n",
              "      <td>52.055</td>\n",
              "      <td>0.055</td>\n",
              "      <td>0.055</td>\n",
              "    </tr>\n",
              "  </tbody>\n",
              "</table>\n",
              "</div>"
            ],
            "text/plain": [
              "    Year Incumbent Party Candidate Other Candidate  \\\n",
              "0   1952                 Stevenson      Eisenhower   \n",
              "1   1956                Eisenhower       Stevenson   \n",
              "2   1960                     Nixon         Kennedy   \n",
              "3   1964                   Johnson       Goldwater   \n",
              "4   1968                  Humphrey           Nixon   \n",
              "5   1972                     Nixon        McGovern   \n",
              "6   1976                      Ford          Carter   \n",
              "7   1980                    Carter          Reagan   \n",
              "8   1984                    Reagan         Mondale   \n",
              "9   1988                 Bush, Sr.         Dukakis   \n",
              "10  1992                 Bush, Sr.         Clinton   \n",
              "11  1996                   Clinton            Dole   \n",
              "12  2000                      Gore       Bush, Jr.   \n",
              "13  2004                 Bush, Jr.           Kerry   \n",
              "14  2008                    McCain           Obama   \n",
              "15  2012                     Obama          Romney   \n",
              "\n",
              "    Incumbent Party Vote Share  Prediction  Error  Absolute Error  \n",
              "0                        44.60      52.055  7.455           7.455  \n",
              "1                        57.76      52.055 -5.705           5.705  \n",
              "2                        49.91      52.055  2.145           2.145  \n",
              "3                        61.34      52.055 -9.285           9.285  \n",
              "4                        49.60      52.055  2.455           2.455  \n",
              "5                        61.79      52.055 -9.735           9.735  \n",
              "6                        48.95      52.055  3.105           3.105  \n",
              "7                        44.70      52.055  7.355           7.355  \n",
              "8                        59.17      52.055 -7.115           7.115  \n",
              "9                        53.94      52.055 -1.885           1.885  \n",
              "10                       46.55      52.055  5.505           5.505  \n",
              "11                       54.74      52.055 -2.685           2.685  \n",
              "12                       50.27      52.055  1.785           1.785  \n",
              "13                       51.24      52.055  0.815           0.815  \n",
              "14                       46.32      52.055  5.735           5.735  \n",
              "15                       52.00      52.055  0.055           0.055  "
            ]
          },
          "metadata": {
            "tags": []
          },
          "execution_count": 15
        }
      ]
    },
    {
      "metadata": {
        "id": "AhqQBZsV121F",
        "colab_type": "code",
        "colab": {
          "base_uri": "https://localhost:8080/",
          "height": 34
        },
        "outputId": "85704f76-bb97-43b4-eeb7-e69115b9680c"
      },
      "cell_type": "code",
      "source": [
        "df['Error'].sum()"
      ],
      "execution_count": 10,
      "outputs": [
        {
          "output_type": "execute_result",
          "data": {
            "text/plain": [
              "-1.4210854715202004e-14"
            ]
          },
          "metadata": {
            "tags": []
          },
          "execution_count": 10
        }
      ]
    },
    {
      "metadata": {
        "id": "GgbrVyC2121N",
        "colab_type": "code",
        "colab": {
          "base_uri": "https://localhost:8080/",
          "height": 34
        },
        "outputId": "0387cacd-8081-4ddb-b8da-f6a5215af385"
      },
      "cell_type": "code",
      "source": [
        "df['Absolute Error'] = df['Error'].abs()\n",
        "df['Absolute Error'].sum()"
      ],
      "execution_count": 11,
      "outputs": [
        {
          "output_type": "execute_result",
          "data": {
            "text/plain": [
              "72.82"
            ]
          },
          "metadata": {
            "tags": []
          },
          "execution_count": 11
        }
      ]
    },
    {
      "metadata": {
        "id": "wPmTNGtk121S",
        "colab_type": "code",
        "colab": {
          "base_uri": "https://localhost:8080/",
          "height": 34
        },
        "outputId": "a7516d03-61d2-4454-cd9b-b07e2765f3e8"
      },
      "cell_type": "code",
      "source": [
        "df['Absolute Error'].mean()"
      ],
      "execution_count": 12,
      "outputs": [
        {
          "output_type": "execute_result",
          "data": {
            "text/plain": [
              "4.55125"
            ]
          },
          "metadata": {
            "tags": []
          },
          "execution_count": 12
        }
      ]
    },
    {
      "metadata": {
        "id": "00PO9ett121W",
        "colab_type": "code",
        "colab": {
          "base_uri": "https://localhost:8080/",
          "height": 34
        },
        "outputId": "4ccc2774-1327-4720-9eb0-898eb9e8b42a"
      },
      "cell_type": "code",
      "source": [
        "mean_absolute_error(y_true=df[target], y_pred=df['Prediction'])"
      ],
      "execution_count": 13,
      "outputs": [
        {
          "output_type": "execute_result",
          "data": {
            "text/plain": [
              "4.55125"
            ]
          },
          "metadata": {
            "tags": []
          },
          "execution_count": 13
        }
      ]
    },
    {
      "metadata": {
        "id": "YaSlOKCZ121b",
        "colab_type": "code",
        "colab": {
          "base_uri": "https://localhost:8080/",
          "height": 34
        },
        "outputId": "dde2d83f-9cfb-4595-943e-a9dd15a66b91"
      },
      "cell_type": "code",
      "source": [
        "r2_score(y_true=df[target], y_pred=df['Prediction'])"
      ],
      "execution_count": 14,
      "outputs": [
        {
          "output_type": "execute_result",
          "data": {
            "text/plain": [
              "0.0"
            ]
          },
          "metadata": {
            "tags": []
          },
          "execution_count": 14
        }
      ]
    },
    {
      "metadata": {
        "id": "hcQLXMEF121h",
        "colab_type": "code",
        "colab": {}
      },
      "cell_type": "code",
      "source": [
        "columns = ['Year','Average Recent Growth in Personal Incomes']\n",
        "\n",
        "data = [[1952,2.40],\n",
        "        [1956,2.89],\n",
        "        [1960, .85],\n",
        "        [1964,4.21],\n",
        "        [1968,3.02],\n",
        "        [1972,3.62],\n",
        "        [1976,1.08],\n",
        "        [1980,-.39],\n",
        "        [1984,3.86],\n",
        "        [1988,2.27],\n",
        "        [1992, .38],\n",
        "        [1996,1.04],\n",
        "        [2000,2.36],\n",
        "        [2004,1.72],\n",
        "        [2008, .10],\n",
        "        [2012, .95]]\n",
        "        \n",
        "growth = pd.DataFrame(data=data, columns=columns)"
      ],
      "execution_count": 0,
      "outputs": []
    },
    {
      "metadata": {
        "id": "MWe0Nj9A121l",
        "colab_type": "code",
        "colab": {
          "base_uri": "https://localhost:8080/",
          "height": 562
        },
        "outputId": "8bb4f5d9-ca2b-43b0-dbc9-e0a044bbda17"
      },
      "cell_type": "code",
      "source": [
        "df = df.merge(growth)\n",
        "df"
      ],
      "execution_count": 17,
      "outputs": [
        {
          "output_type": "execute_result",
          "data": {
            "text/html": [
              "<div>\n",
              "<style scoped>\n",
              "    .dataframe tbody tr th:only-of-type {\n",
              "        vertical-align: middle;\n",
              "    }\n",
              "\n",
              "    .dataframe tbody tr th {\n",
              "        vertical-align: top;\n",
              "    }\n",
              "\n",
              "    .dataframe thead th {\n",
              "        text-align: right;\n",
              "    }\n",
              "</style>\n",
              "<table border=\"1\" class=\"dataframe\">\n",
              "  <thead>\n",
              "    <tr style=\"text-align: right;\">\n",
              "      <th></th>\n",
              "      <th>Year</th>\n",
              "      <th>Incumbent Party Candidate</th>\n",
              "      <th>Other Candidate</th>\n",
              "      <th>Incumbent Party Vote Share</th>\n",
              "      <th>Prediction</th>\n",
              "      <th>Error</th>\n",
              "      <th>Absolute Error</th>\n",
              "      <th>Average Recent Growth in Personal Incomes</th>\n",
              "    </tr>\n",
              "  </thead>\n",
              "  <tbody>\n",
              "    <tr>\n",
              "      <th>0</th>\n",
              "      <td>1952</td>\n",
              "      <td>Stevenson</td>\n",
              "      <td>Eisenhower</td>\n",
              "      <td>44.60</td>\n",
              "      <td>52.055</td>\n",
              "      <td>7.455</td>\n",
              "      <td>7.455</td>\n",
              "      <td>2.40</td>\n",
              "    </tr>\n",
              "    <tr>\n",
              "      <th>1</th>\n",
              "      <td>1956</td>\n",
              "      <td>Eisenhower</td>\n",
              "      <td>Stevenson</td>\n",
              "      <td>57.76</td>\n",
              "      <td>52.055</td>\n",
              "      <td>-5.705</td>\n",
              "      <td>5.705</td>\n",
              "      <td>2.89</td>\n",
              "    </tr>\n",
              "    <tr>\n",
              "      <th>2</th>\n",
              "      <td>1960</td>\n",
              "      <td>Nixon</td>\n",
              "      <td>Kennedy</td>\n",
              "      <td>49.91</td>\n",
              "      <td>52.055</td>\n",
              "      <td>2.145</td>\n",
              "      <td>2.145</td>\n",
              "      <td>0.85</td>\n",
              "    </tr>\n",
              "    <tr>\n",
              "      <th>3</th>\n",
              "      <td>1964</td>\n",
              "      <td>Johnson</td>\n",
              "      <td>Goldwater</td>\n",
              "      <td>61.34</td>\n",
              "      <td>52.055</td>\n",
              "      <td>-9.285</td>\n",
              "      <td>9.285</td>\n",
              "      <td>4.21</td>\n",
              "    </tr>\n",
              "    <tr>\n",
              "      <th>4</th>\n",
              "      <td>1968</td>\n",
              "      <td>Humphrey</td>\n",
              "      <td>Nixon</td>\n",
              "      <td>49.60</td>\n",
              "      <td>52.055</td>\n",
              "      <td>2.455</td>\n",
              "      <td>2.455</td>\n",
              "      <td>3.02</td>\n",
              "    </tr>\n",
              "    <tr>\n",
              "      <th>5</th>\n",
              "      <td>1972</td>\n",
              "      <td>Nixon</td>\n",
              "      <td>McGovern</td>\n",
              "      <td>61.79</td>\n",
              "      <td>52.055</td>\n",
              "      <td>-9.735</td>\n",
              "      <td>9.735</td>\n",
              "      <td>3.62</td>\n",
              "    </tr>\n",
              "    <tr>\n",
              "      <th>6</th>\n",
              "      <td>1976</td>\n",
              "      <td>Ford</td>\n",
              "      <td>Carter</td>\n",
              "      <td>48.95</td>\n",
              "      <td>52.055</td>\n",
              "      <td>3.105</td>\n",
              "      <td>3.105</td>\n",
              "      <td>1.08</td>\n",
              "    </tr>\n",
              "    <tr>\n",
              "      <th>7</th>\n",
              "      <td>1980</td>\n",
              "      <td>Carter</td>\n",
              "      <td>Reagan</td>\n",
              "      <td>44.70</td>\n",
              "      <td>52.055</td>\n",
              "      <td>7.355</td>\n",
              "      <td>7.355</td>\n",
              "      <td>-0.39</td>\n",
              "    </tr>\n",
              "    <tr>\n",
              "      <th>8</th>\n",
              "      <td>1984</td>\n",
              "      <td>Reagan</td>\n",
              "      <td>Mondale</td>\n",
              "      <td>59.17</td>\n",
              "      <td>52.055</td>\n",
              "      <td>-7.115</td>\n",
              "      <td>7.115</td>\n",
              "      <td>3.86</td>\n",
              "    </tr>\n",
              "    <tr>\n",
              "      <th>9</th>\n",
              "      <td>1988</td>\n",
              "      <td>Bush, Sr.</td>\n",
              "      <td>Dukakis</td>\n",
              "      <td>53.94</td>\n",
              "      <td>52.055</td>\n",
              "      <td>-1.885</td>\n",
              "      <td>1.885</td>\n",
              "      <td>2.27</td>\n",
              "    </tr>\n",
              "    <tr>\n",
              "      <th>10</th>\n",
              "      <td>1992</td>\n",
              "      <td>Bush, Sr.</td>\n",
              "      <td>Clinton</td>\n",
              "      <td>46.55</td>\n",
              "      <td>52.055</td>\n",
              "      <td>5.505</td>\n",
              "      <td>5.505</td>\n",
              "      <td>0.38</td>\n",
              "    </tr>\n",
              "    <tr>\n",
              "      <th>11</th>\n",
              "      <td>1996</td>\n",
              "      <td>Clinton</td>\n",
              "      <td>Dole</td>\n",
              "      <td>54.74</td>\n",
              "      <td>52.055</td>\n",
              "      <td>-2.685</td>\n",
              "      <td>2.685</td>\n",
              "      <td>1.04</td>\n",
              "    </tr>\n",
              "    <tr>\n",
              "      <th>12</th>\n",
              "      <td>2000</td>\n",
              "      <td>Gore</td>\n",
              "      <td>Bush, Jr.</td>\n",
              "      <td>50.27</td>\n",
              "      <td>52.055</td>\n",
              "      <td>1.785</td>\n",
              "      <td>1.785</td>\n",
              "      <td>2.36</td>\n",
              "    </tr>\n",
              "    <tr>\n",
              "      <th>13</th>\n",
              "      <td>2004</td>\n",
              "      <td>Bush, Jr.</td>\n",
              "      <td>Kerry</td>\n",
              "      <td>51.24</td>\n",
              "      <td>52.055</td>\n",
              "      <td>0.815</td>\n",
              "      <td>0.815</td>\n",
              "      <td>1.72</td>\n",
              "    </tr>\n",
              "    <tr>\n",
              "      <th>14</th>\n",
              "      <td>2008</td>\n",
              "      <td>McCain</td>\n",
              "      <td>Obama</td>\n",
              "      <td>46.32</td>\n",
              "      <td>52.055</td>\n",
              "      <td>5.735</td>\n",
              "      <td>5.735</td>\n",
              "      <td>0.10</td>\n",
              "    </tr>\n",
              "    <tr>\n",
              "      <th>15</th>\n",
              "      <td>2012</td>\n",
              "      <td>Obama</td>\n",
              "      <td>Romney</td>\n",
              "      <td>52.00</td>\n",
              "      <td>52.055</td>\n",
              "      <td>0.055</td>\n",
              "      <td>0.055</td>\n",
              "      <td>0.95</td>\n",
              "    </tr>\n",
              "  </tbody>\n",
              "</table>\n",
              "</div>"
            ],
            "text/plain": [
              "    Year Incumbent Party Candidate Other Candidate  \\\n",
              "0   1952                 Stevenson      Eisenhower   \n",
              "1   1956                Eisenhower       Stevenson   \n",
              "2   1960                     Nixon         Kennedy   \n",
              "3   1964                   Johnson       Goldwater   \n",
              "4   1968                  Humphrey           Nixon   \n",
              "5   1972                     Nixon        McGovern   \n",
              "6   1976                      Ford          Carter   \n",
              "7   1980                    Carter          Reagan   \n",
              "8   1984                    Reagan         Mondale   \n",
              "9   1988                 Bush, Sr.         Dukakis   \n",
              "10  1992                 Bush, Sr.         Clinton   \n",
              "11  1996                   Clinton            Dole   \n",
              "12  2000                      Gore       Bush, Jr.   \n",
              "13  2004                 Bush, Jr.           Kerry   \n",
              "14  2008                    McCain           Obama   \n",
              "15  2012                     Obama          Romney   \n",
              "\n",
              "    Incumbent Party Vote Share  Prediction  Error  Absolute Error  \\\n",
              "0                        44.60      52.055  7.455           7.455   \n",
              "1                        57.76      52.055 -5.705           5.705   \n",
              "2                        49.91      52.055  2.145           2.145   \n",
              "3                        61.34      52.055 -9.285           9.285   \n",
              "4                        49.60      52.055  2.455           2.455   \n",
              "5                        61.79      52.055 -9.735           9.735   \n",
              "6                        48.95      52.055  3.105           3.105   \n",
              "7                        44.70      52.055  7.355           7.355   \n",
              "8                        59.17      52.055 -7.115           7.115   \n",
              "9                        53.94      52.055 -1.885           1.885   \n",
              "10                       46.55      52.055  5.505           5.505   \n",
              "11                       54.74      52.055 -2.685           2.685   \n",
              "12                       50.27      52.055  1.785           1.785   \n",
              "13                       51.24      52.055  0.815           0.815   \n",
              "14                       46.32      52.055  5.735           5.735   \n",
              "15                       52.00      52.055  0.055           0.055   \n",
              "\n",
              "    Average Recent Growth in Personal Incomes  \n",
              "0                                        2.40  \n",
              "1                                        2.89  \n",
              "2                                        0.85  \n",
              "3                                        4.21  \n",
              "4                                        3.02  \n",
              "5                                        3.62  \n",
              "6                                        1.08  \n",
              "7                                       -0.39  \n",
              "8                                        3.86  \n",
              "9                                        2.27  \n",
              "10                                       0.38  \n",
              "11                                       1.04  \n",
              "12                                       2.36  \n",
              "13                                       1.72  \n",
              "14                                       0.10  \n",
              "15                                       0.95  "
            ]
          },
          "metadata": {
            "tags": []
          },
          "execution_count": 17
        }
      ]
    },
    {
      "metadata": {
        "id": "h-Cyego5121p",
        "colab_type": "code",
        "colab": {}
      },
      "cell_type": "code",
      "source": [
        "feature = 'Average Recent Growth in Personal Incomes'"
      ],
      "execution_count": 0,
      "outputs": []
    },
    {
      "metadata": {
        "id": "L4jA1Grm121u",
        "colab_type": "code",
        "colab": {
          "base_uri": "https://localhost:8080/",
          "height": 283
        },
        "outputId": "560a6e82-fe0b-4957-ba11-e1191981482d"
      },
      "cell_type": "code",
      "source": [
        "df.plot(x=feature, y=target, kind='scatter');"
      ],
      "execution_count": 19,
      "outputs": [
        {
          "output_type": "display_data",
          "data": {
            "image/png": "[encoded data removed]",
            "text/plain": [
              "<Figure size 432x288 with 1 Axes>"
            ]
          },
          "metadata": {
            "tags": []
          }
        }
      ]
    },
    {
      "metadata": {
        "id": "u7OoSyAI121y",
        "colab_type": "text"
      },
      "cell_type": "markdown",
      "source": [
        "We can see from the scatterplot that these data points seem to follow a somewhat linear relationship. This means that we could probably summarize their relationship well by fitting a line of best fit to these points. Lets do it.\n",
        "\n",
        "\n",
        "## The Equation for a Line\n",
        "\n",
        "As we know a common equation for a line is:\n",
        "\n",
        "\\begin{align}\n",
        "y = mx + b\n",
        "\\end{align}\n",
        "\n",
        "Where $m$ is the slope of our line and $b$ is the y-intercept. \n",
        "\n",
        "If we want to plot a line through our cloud of points we figure out what these two values should be. Linear Regression seeks to **estimate** the slope and intercept values that describe a line that best fits the data points."
      ]
    },
    {
      "metadata": {
        "id": "OuoILQfr1210",
        "colab_type": "code",
        "colab": {
          "base_uri": "https://localhost:8080/",
          "height": 34
        },
        "outputId": "e17acaa4-fff5-45a8-f52d-b78cc402693d"
      },
      "cell_type": "code",
      "source": [
        "m = 4\n",
        "b = 44\n",
        "df['Prediction'] = m * df[feature] + b\n",
        "df['Error'] = df['Prediction'] - df[target]\n",
        "df['Absolute Error'] = df['Error'].abs()\n",
        "df['Absolute Error'].sum()"
      ],
      "execution_count": 21,
      "outputs": [
        {
          "output_type": "execute_result",
          "data": {
            "text/plain": [
              "45.27999999999999"
            ]
          },
          "metadata": {
            "tags": []
          },
          "execution_count": 21
        }
      ]
    },
    {
      "metadata": {
        "id": "0_k2PYLD1215",
        "colab_type": "code",
        "colab": {
          "base_uri": "https://localhost:8080/",
          "height": 34
        },
        "outputId": "924b038f-914a-4691-fdcb-e0a1e741856c"
      },
      "cell_type": "code",
      "source": [
        "df['Absolute Error'].mean()"
      ],
      "execution_count": 22,
      "outputs": [
        {
          "output_type": "execute_result",
          "data": {
            "text/plain": [
              "2.829999999999999"
            ]
          },
          "metadata": {
            "tags": []
          },
          "execution_count": 22
        }
      ]
    },
    {
      "metadata": {
        "id": "J73RTrlJ1218",
        "colab_type": "code",
        "colab": {
          "base_uri": "https://localhost:8080/",
          "height": 34
        },
        "outputId": "0345544b-2090-4041-8f9c-71416f9d8a8b"
      },
      "cell_type": "code",
      "source": [
        "r2_score(y_true=df[target], y_pred=df['Prediction'])"
      ],
      "execution_count": 23,
      "outputs": [
        {
          "output_type": "execute_result",
          "data": {
            "text/plain": [
              "0.5178779627255485"
            ]
          },
          "metadata": {
            "tags": []
          },
          "execution_count": 23
        }
      ]
    },
    {
      "metadata": {
        "id": "-LVNdAdL122A",
        "colab_type": "code",
        "colab": {
          "base_uri": "https://localhost:8080/",
          "height": 283
        },
        "outputId": "3c5bf43f-5f8d-47a5-cc29-28dc8ce951b1"
      },
      "cell_type": "code",
      "source": [
        "ax = df.plot(x=feature, y=target, kind='scatter')\n",
        "df.plot(x=feature, y='Prediction', kind='line', ax=ax);"
      ],
      "execution_count": 24,
      "outputs": [
        {
          "output_type": "display_data",
          "data": {
            "image/png": "[encoded data removed]",
            "text/plain": [
              "<Figure size 432x288 with 1 Axes>"
            ]
          },
          "metadata": {
            "tags": []
          }
        }
      ]
    },
    {
      "metadata": {
        "id": "RkyVu4qE122H",
        "colab_type": "code",
        "colab": {
          "base_uri": "https://localhost:8080/",
          "height": 458
        },
        "outputId": "1a5f0003-5571-4a8f-8287-3b12d27efe1c"
      },
      "cell_type": "code",
      "source": [
        "def regression(m, b):\n",
        "    df['Prediction'] = m * df[feature] + b\n",
        "    df['Error'] = df['Prediction'] - df[target]\n",
        "    df['Absolute Error'] = df['Error'].abs()\n",
        "    sum_absolute_error = df['Absolute Error'].sum()\n",
        "    \n",
        "    title = f'Sum of absolute errors: {sum_absolute_error}'\n",
        "    ax = df.plot(x=feature, y=target, kind='scatter', title=title, figsize=(7, 7))\n",
        "    df.plot(x=feature, y='Prediction', kind='line', ax=ax)\n",
        "    \n",
        "regression(m=3, b=46)"
      ],
      "execution_count": 34,
      "outputs": [
        {
          "output_type": "display_data",
          "data": {
            "image/png": "[encoded data removed]",
            "text/plain": [
              "<Figure size 504x504 with 1 Axes>"
            ]
          },
          "metadata": {
            "tags": []
          }
        }
      ]
    },
    {
      "metadata": {
        "id": "fl7lVFED122L",
        "colab_type": "text"
      },
      "cell_type": "markdown",
      "source": [
        "## Residual Error \n",
        "\n",
        "The residual error is the distance between points in our dataset and our regression line."
      ]
    },
    {
      "metadata": {
        "id": "x3F3aMHc122M",
        "colab_type": "code",
        "colab": {
          "base_uri": "https://localhost:8080/",
          "height": 458
        },
        "outputId": "dc601b31-98c6-481e-9c3f-4cba4319415d"
      },
      "cell_type": "code",
      "source": [
        "def regression(m, b):\n",
        "    df['Prediction'] = m * df[feature] + b\n",
        "    df['Error'] = df['Prediction'] - df[target]\n",
        "    df['Absolute Error'] = df['Error'].abs()\n",
        "    sum_absolute_error = df['Absolute Error'].sum()\n",
        "    \n",
        "    title = f'Sum of absolute errors: {sum_absolute_error}'\n",
        "    ax = df.plot(x=feature, y=target, kind='scatter', title=title, figsize=(7, 7))\n",
        "    df.plot(x=feature, y='Prediction', kind='line', ax=ax)\n",
        "    \n",
        "    for x, y1, y2 in zip(df[feature], df[target], df['Prediction']):\n",
        "        ax.plot((x, x), (y1, y2), color='grey')\n",
        "\n",
        "regression(m=3.5, b=46)"
      ],
      "execution_count": 38,
      "outputs": [
        {
          "output_type": "display_data",
          "data": {
            "image/png": "[encoded data removed]",
            "text/plain": [
              "<Figure size 504x504 with 1 Axes>"
            ]
          },
          "metadata": {
            "tags": []
          }
        }
      ]
    },
    {
      "metadata": {
        "id": "XoYM68Zu122P",
        "colab_type": "code",
        "colab": {
          "base_uri": "https://localhost:8080/",
          "height": 17
        },
        "outputId": "5a421d96-2c14-4120-c6df-e3fbfa3b0515"
      },
      "cell_type": "code",
      "source": [
        "interact(regression, m=(-10,10,0.5), b=(40,60,0.5));"
      ],
      "execution_count": 36,
      "outputs": [
        {
          "output_type": "display_data",
          "data": {
            "application/vnd.jupyter.widget-view+json": {
              "model_id": "13e31e6b779947c7a6386d677cf34392",
              "version_minor": 0,
              "version_major": 2
            },
            "text/plain": [
              "interactive(children=(FloatSlider(value=0.0, description='m', max=10.0, min=-10.0, step=0.5), FloatSlider(valu…"
            ]
          },
          "metadata": {
            "tags": []
          }
        }
      ]
    },
    {
      "metadata": {
        "id": "4QPg_F2U122R",
        "colab_type": "code",
        "colab": {
          "base_uri": "https://localhost:8080/",
          "height": 562
        },
        "outputId": "2a6c51e0-73ac-4417-908d-acc99fc4101e"
      },
      "cell_type": "code",
      "source": [
        "df"
      ],
      "execution_count": 37,
      "outputs": [
        {
          "output_type": "execute_result",
          "data": {
            "text/html": [
              "<div>\n",
              "<style scoped>\n",
              "    .dataframe tbody tr th:only-of-type {\n",
              "        vertical-align: middle;\n",
              "    }\n",
              "\n",
              "    .dataframe tbody tr th {\n",
              "        vertical-align: top;\n",
              "    }\n",
              "\n",
              "    .dataframe thead th {\n",
              "        text-align: right;\n",
              "    }\n",
              "</style>\n",
              "<table border=\"1\" class=\"dataframe\">\n",
              "  <thead>\n",
              "    <tr style=\"text-align: right;\">\n",
              "      <th></th>\n",
              "      <th>Year</th>\n",
              "      <th>Incumbent Party Candidate</th>\n",
              "      <th>Other Candidate</th>\n",
              "      <th>Incumbent Party Vote Share</th>\n",
              "      <th>Prediction</th>\n",
              "      <th>Error</th>\n",
              "      <th>Absolute Error</th>\n",
              "      <th>Average Recent Growth in Personal Incomes</th>\n",
              "    </tr>\n",
              "  </thead>\n",
              "  <tbody>\n",
              "    <tr>\n",
              "      <th>0</th>\n",
              "      <td>1952</td>\n",
              "      <td>Stevenson</td>\n",
              "      <td>Eisenhower</td>\n",
              "      <td>44.60</td>\n",
              "      <td>50.0</td>\n",
              "      <td>5.40</td>\n",
              "      <td>5.40</td>\n",
              "      <td>2.40</td>\n",
              "    </tr>\n",
              "    <tr>\n",
              "      <th>1</th>\n",
              "      <td>1956</td>\n",
              "      <td>Eisenhower</td>\n",
              "      <td>Stevenson</td>\n",
              "      <td>57.76</td>\n",
              "      <td>50.0</td>\n",
              "      <td>-7.76</td>\n",
              "      <td>7.76</td>\n",
              "      <td>2.89</td>\n",
              "    </tr>\n",
              "    <tr>\n",
              "      <th>2</th>\n",
              "      <td>1960</td>\n",
              "      <td>Nixon</td>\n",
              "      <td>Kennedy</td>\n",
              "      <td>49.91</td>\n",
              "      <td>50.0</td>\n",
              "      <td>0.09</td>\n",
              "      <td>0.09</td>\n",
              "      <td>0.85</td>\n",
              "    </tr>\n",
              "    <tr>\n",
              "      <th>3</th>\n",
              "      <td>1964</td>\n",
              "      <td>Johnson</td>\n",
              "      <td>Goldwater</td>\n",
              "      <td>61.34</td>\n",
              "      <td>50.0</td>\n",
              "      <td>-11.34</td>\n",
              "      <td>11.34</td>\n",
              "      <td>4.21</td>\n",
              "    </tr>\n",
              "    <tr>\n",
              "      <th>4</th>\n",
              "      <td>1968</td>\n",
              "      <td>Humphrey</td>\n",
              "      <td>Nixon</td>\n",
              "      <td>49.60</td>\n",
              "      <td>50.0</td>\n",
              "      <td>0.40</td>\n",
              "      <td>0.40</td>\n",
              "      <td>3.02</td>\n",
              "    </tr>\n",
              "    <tr>\n",
              "      <th>5</th>\n",
              "      <td>1972</td>\n",
              "      <td>Nixon</td>\n",
              "      <td>McGovern</td>\n",
              "      <td>61.79</td>\n",
              "      <td>50.0</td>\n",
              "      <td>-11.79</td>\n",
              "      <td>11.79</td>\n",
              "      <td>3.62</td>\n",
              "    </tr>\n",
              "    <tr>\n",
              "      <th>6</th>\n",
              "      <td>1976</td>\n",
              "      <td>Ford</td>\n",
              "      <td>Carter</td>\n",
              "      <td>48.95</td>\n",
              "      <td>50.0</td>\n",
              "      <td>1.05</td>\n",
              "      <td>1.05</td>\n",
              "      <td>1.08</td>\n",
              "    </tr>\n",
              "    <tr>\n",
              "      <th>7</th>\n",
              "      <td>1980</td>\n",
              "      <td>Carter</td>\n",
              "      <td>Reagan</td>\n",
              "      <td>44.70</td>\n",
              "      <td>50.0</td>\n",
              "      <td>5.30</td>\n",
              "      <td>5.30</td>\n",
              "      <td>-0.39</td>\n",
              "    </tr>\n",
              "    <tr>\n",
              "      <th>8</th>\n",
              "      <td>1984</td>\n",
              "      <td>Reagan</td>\n",
              "      <td>Mondale</td>\n",
              "      <td>59.17</td>\n",
              "      <td>50.0</td>\n",
              "      <td>-9.17</td>\n",
              "      <td>9.17</td>\n",
              "      <td>3.86</td>\n",
              "    </tr>\n",
              "    <tr>\n",
              "      <th>9</th>\n",
              "      <td>1988</td>\n",
              "      <td>Bush, Sr.</td>\n",
              "      <td>Dukakis</td>\n",
              "      <td>53.94</td>\n",
              "      <td>50.0</td>\n",
              "      <td>-3.94</td>\n",
              "      <td>3.94</td>\n",
              "      <td>2.27</td>\n",
              "    </tr>\n",
              "    <tr>\n",
              "      <th>10</th>\n",
              "      <td>1992</td>\n",
              "      <td>Bush, Sr.</td>\n",
              "      <td>Clinton</td>\n",
              "      <td>46.55</td>\n",
              "      <td>50.0</td>\n",
              "      <td>3.45</td>\n",
              "      <td>3.45</td>\n",
              "      <td>0.38</td>\n",
              "    </tr>\n",
              "    <tr>\n",
              "      <th>11</th>\n",
              "      <td>1996</td>\n",
              "      <td>Clinton</td>\n",
              "      <td>Dole</td>\n",
              "      <td>54.74</td>\n",
              "      <td>50.0</td>\n",
              "      <td>-4.74</td>\n",
              "      <td>4.74</td>\n",
              "      <td>1.04</td>\n",
              "    </tr>\n",
              "    <tr>\n",
              "      <th>12</th>\n",
              "      <td>2000</td>\n",
              "      <td>Gore</td>\n",
              "      <td>Bush, Jr.</td>\n",
              "      <td>50.27</td>\n",
              "      <td>50.0</td>\n",
              "      <td>-0.27</td>\n",
              "      <td>0.27</td>\n",
              "      <td>2.36</td>\n",
              "    </tr>\n",
              "    <tr>\n",
              "      <th>13</th>\n",
              "      <td>2004</td>\n",
              "      <td>Bush, Jr.</td>\n",
              "      <td>Kerry</td>\n",
              "      <td>51.24</td>\n",
              "      <td>50.0</td>\n",
              "      <td>-1.24</td>\n",
              "      <td>1.24</td>\n",
              "      <td>1.72</td>\n",
              "    </tr>\n",
              "    <tr>\n",
              "      <th>14</th>\n",
              "      <td>2008</td>\n",
              "      <td>McCain</td>\n",
              "      <td>Obama</td>\n",
              "      <td>46.32</td>\n",
              "      <td>50.0</td>\n",
              "      <td>3.68</td>\n",
              "      <td>3.68</td>\n",
              "      <td>0.10</td>\n",
              "    </tr>\n",
              "    <tr>\n",
              "      <th>15</th>\n",
              "      <td>2012</td>\n",
              "      <td>Obama</td>\n",
              "      <td>Romney</td>\n",
              "      <td>52.00</td>\n",
              "      <td>50.0</td>\n",
              "      <td>-2.00</td>\n",
              "      <td>2.00</td>\n",
              "      <td>0.95</td>\n",
              "    </tr>\n",
              "  </tbody>\n",
              "</table>\n",
              "</div>"
            ],
            "text/plain": [
              "    Year Incumbent Party Candidate Other Candidate  \\\n",
              "0   1952                 Stevenson      Eisenhower   \n",
              "1   1956                Eisenhower       Stevenson   \n",
              "2   1960                     Nixon         Kennedy   \n",
              "3   1964                   Johnson       Goldwater   \n",
              "4   1968                  Humphrey           Nixon   \n",
              "5   1972                     Nixon        McGovern   \n",
              "6   1976                      Ford          Carter   \n",
              "7   1980                    Carter          Reagan   \n",
              "8   1984                    Reagan         Mondale   \n",
              "9   1988                 Bush, Sr.         Dukakis   \n",
              "10  1992                 Bush, Sr.         Clinton   \n",
              "11  1996                   Clinton            Dole   \n",
              "12  2000                      Gore       Bush, Jr.   \n",
              "13  2004                 Bush, Jr.           Kerry   \n",
              "14  2008                    McCain           Obama   \n",
              "15  2012                     Obama          Romney   \n",
              "\n",
              "    Incumbent Party Vote Share  Prediction  Error  Absolute Error  \\\n",
              "0                        44.60        50.0   5.40            5.40   \n",
              "1                        57.76        50.0  -7.76            7.76   \n",
              "2                        49.91        50.0   0.09            0.09   \n",
              "3                        61.34        50.0 -11.34           11.34   \n",
              "4                        49.60        50.0   0.40            0.40   \n",
              "5                        61.79        50.0 -11.79           11.79   \n",
              "6                        48.95        50.0   1.05            1.05   \n",
              "7                        44.70        50.0   5.30            5.30   \n",
              "8                        59.17        50.0  -9.17            9.17   \n",
              "9                        53.94        50.0  -3.94            3.94   \n",
              "10                       46.55        50.0   3.45            3.45   \n",
              "11                       54.74        50.0  -4.74            4.74   \n",
              "12                       50.27        50.0  -0.27            0.27   \n",
              "13                       51.24        50.0  -1.24            1.24   \n",
              "14                       46.32        50.0   3.68            3.68   \n",
              "15                       52.00        50.0  -2.00            2.00   \n",
              "\n",
              "    Average Recent Growth in Personal Incomes  \n",
              "0                                        2.40  \n",
              "1                                        2.89  \n",
              "2                                        0.85  \n",
              "3                                        4.21  \n",
              "4                                        3.02  \n",
              "5                                        3.62  \n",
              "6                                        1.08  \n",
              "7                                       -0.39  \n",
              "8                                        3.86  \n",
              "9                                        2.27  \n",
              "10                                       0.38  \n",
              "11                                       1.04  \n",
              "12                                       2.36  \n",
              "13                                       1.72  \n",
              "14                                       0.10  \n",
              "15                                       0.95  "
            ]
          },
          "metadata": {
            "tags": []
          },
          "execution_count": 37
        }
      ]
    },
    {
      "metadata": {
        "id": "yLcIg0Df122T",
        "colab_type": "code",
        "colab": {}
      },
      "cell_type": "code",
      "source": [
        "df['Square Error'] = df['Error'] **2"
      ],
      "execution_count": 0,
      "outputs": []
    },
    {
      "metadata": {
        "id": "vyc477ez122X",
        "colab_type": "code",
        "colab": {
          "base_uri": "https://localhost:8080/",
          "height": 562
        },
        "outputId": "5649e29e-e014-46b0-d1f1-a27949b6fa65"
      },
      "cell_type": "code",
      "source": [
        "df"
      ],
      "execution_count": 40,
      "outputs": [
        {
          "output_type": "execute_result",
          "data": {
            "text/html": [
              "<div>\n",
              "<style scoped>\n",
              "    .dataframe tbody tr th:only-of-type {\n",
              "        vertical-align: middle;\n",
              "    }\n",
              "\n",
              "    .dataframe tbody tr th {\n",
              "        vertical-align: top;\n",
              "    }\n",
              "\n",
              "    .dataframe thead th {\n",
              "        text-align: right;\n",
              "    }\n",
              "</style>\n",
              "<table border=\"1\" class=\"dataframe\">\n",
              "  <thead>\n",
              "    <tr style=\"text-align: right;\">\n",
              "      <th></th>\n",
              "      <th>Year</th>\n",
              "      <th>Incumbent Party Candidate</th>\n",
              "      <th>Other Candidate</th>\n",
              "      <th>Incumbent Party Vote Share</th>\n",
              "      <th>Prediction</th>\n",
              "      <th>Error</th>\n",
              "      <th>Absolute Error</th>\n",
              "      <th>Average Recent Growth in Personal Incomes</th>\n",
              "      <th>Square Error</th>\n",
              "    </tr>\n",
              "  </thead>\n",
              "  <tbody>\n",
              "    <tr>\n",
              "      <th>0</th>\n",
              "      <td>1952</td>\n",
              "      <td>Stevenson</td>\n",
              "      <td>Eisenhower</td>\n",
              "      <td>44.60</td>\n",
              "      <td>54.400</td>\n",
              "      <td>9.800</td>\n",
              "      <td>9.800</td>\n",
              "      <td>2.40</td>\n",
              "      <td>96.040000</td>\n",
              "    </tr>\n",
              "    <tr>\n",
              "      <th>1</th>\n",
              "      <td>1956</td>\n",
              "      <td>Eisenhower</td>\n",
              "      <td>Stevenson</td>\n",
              "      <td>57.76</td>\n",
              "      <td>56.115</td>\n",
              "      <td>-1.645</td>\n",
              "      <td>1.645</td>\n",
              "      <td>2.89</td>\n",
              "      <td>2.706025</td>\n",
              "    </tr>\n",
              "    <tr>\n",
              "      <th>2</th>\n",
              "      <td>1960</td>\n",
              "      <td>Nixon</td>\n",
              "      <td>Kennedy</td>\n",
              "      <td>49.91</td>\n",
              "      <td>48.975</td>\n",
              "      <td>-0.935</td>\n",
              "      <td>0.935</td>\n",
              "      <td>0.85</td>\n",
              "      <td>0.874225</td>\n",
              "    </tr>\n",
              "    <tr>\n",
              "      <th>3</th>\n",
              "      <td>1964</td>\n",
              "      <td>Johnson</td>\n",
              "      <td>Goldwater</td>\n",
              "      <td>61.34</td>\n",
              "      <td>60.735</td>\n",
              "      <td>-0.605</td>\n",
              "      <td>0.605</td>\n",
              "      <td>4.21</td>\n",
              "      <td>0.366025</td>\n",
              "    </tr>\n",
              "    <tr>\n",
              "      <th>4</th>\n",
              "      <td>1968</td>\n",
              "      <td>Humphrey</td>\n",
              "      <td>Nixon</td>\n",
              "      <td>49.60</td>\n",
              "      <td>56.570</td>\n",
              "      <td>6.970</td>\n",
              "      <td>6.970</td>\n",
              "      <td>3.02</td>\n",
              "      <td>48.580900</td>\n",
              "    </tr>\n",
              "    <tr>\n",
              "      <th>5</th>\n",
              "      <td>1972</td>\n",
              "      <td>Nixon</td>\n",
              "      <td>McGovern</td>\n",
              "      <td>61.79</td>\n",
              "      <td>58.670</td>\n",
              "      <td>-3.120</td>\n",
              "      <td>3.120</td>\n",
              "      <td>3.62</td>\n",
              "      <td>9.734400</td>\n",
              "    </tr>\n",
              "    <tr>\n",
              "      <th>6</th>\n",
              "      <td>1976</td>\n",
              "      <td>Ford</td>\n",
              "      <td>Carter</td>\n",
              "      <td>48.95</td>\n",
              "      <td>49.780</td>\n",
              "      <td>0.830</td>\n",
              "      <td>0.830</td>\n",
              "      <td>1.08</td>\n",
              "      <td>0.688900</td>\n",
              "    </tr>\n",
              "    <tr>\n",
              "      <th>7</th>\n",
              "      <td>1980</td>\n",
              "      <td>Carter</td>\n",
              "      <td>Reagan</td>\n",
              "      <td>44.70</td>\n",
              "      <td>44.635</td>\n",
              "      <td>-0.065</td>\n",
              "      <td>0.065</td>\n",
              "      <td>-0.39</td>\n",
              "      <td>0.004225</td>\n",
              "    </tr>\n",
              "    <tr>\n",
              "      <th>8</th>\n",
              "      <td>1984</td>\n",
              "      <td>Reagan</td>\n",
              "      <td>Mondale</td>\n",
              "      <td>59.17</td>\n",
              "      <td>59.510</td>\n",
              "      <td>0.340</td>\n",
              "      <td>0.340</td>\n",
              "      <td>3.86</td>\n",
              "      <td>0.115600</td>\n",
              "    </tr>\n",
              "    <tr>\n",
              "      <th>9</th>\n",
              "      <td>1988</td>\n",
              "      <td>Bush, Sr.</td>\n",
              "      <td>Dukakis</td>\n",
              "      <td>53.94</td>\n",
              "      <td>53.945</td>\n",
              "      <td>0.005</td>\n",
              "      <td>0.005</td>\n",
              "      <td>2.27</td>\n",
              "      <td>0.000025</td>\n",
              "    </tr>\n",
              "    <tr>\n",
              "      <th>10</th>\n",
              "      <td>1992</td>\n",
              "      <td>Bush, Sr.</td>\n",
              "      <td>Clinton</td>\n",
              "      <td>46.55</td>\n",
              "      <td>47.330</td>\n",
              "      <td>0.780</td>\n",
              "      <td>0.780</td>\n",
              "      <td>0.38</td>\n",
              "      <td>0.608400</td>\n",
              "    </tr>\n",
              "    <tr>\n",
              "      <th>11</th>\n",
              "      <td>1996</td>\n",
              "      <td>Clinton</td>\n",
              "      <td>Dole</td>\n",
              "      <td>54.74</td>\n",
              "      <td>49.640</td>\n",
              "      <td>-5.100</td>\n",
              "      <td>5.100</td>\n",
              "      <td>1.04</td>\n",
              "      <td>26.010000</td>\n",
              "    </tr>\n",
              "    <tr>\n",
              "      <th>12</th>\n",
              "      <td>2000</td>\n",
              "      <td>Gore</td>\n",
              "      <td>Bush, Jr.</td>\n",
              "      <td>50.27</td>\n",
              "      <td>54.260</td>\n",
              "      <td>3.990</td>\n",
              "      <td>3.990</td>\n",
              "      <td>2.36</td>\n",
              "      <td>15.920100</td>\n",
              "    </tr>\n",
              "    <tr>\n",
              "      <th>13</th>\n",
              "      <td>2004</td>\n",
              "      <td>Bush, Jr.</td>\n",
              "      <td>Kerry</td>\n",
              "      <td>51.24</td>\n",
              "      <td>52.020</td>\n",
              "      <td>0.780</td>\n",
              "      <td>0.780</td>\n",
              "      <td>1.72</td>\n",
              "      <td>0.608400</td>\n",
              "    </tr>\n",
              "    <tr>\n",
              "      <th>14</th>\n",
              "      <td>2008</td>\n",
              "      <td>McCain</td>\n",
              "      <td>Obama</td>\n",
              "      <td>46.32</td>\n",
              "      <td>46.350</td>\n",
              "      <td>0.030</td>\n",
              "      <td>0.030</td>\n",
              "      <td>0.10</td>\n",
              "      <td>0.000900</td>\n",
              "    </tr>\n",
              "    <tr>\n",
              "      <th>15</th>\n",
              "      <td>2012</td>\n",
              "      <td>Obama</td>\n",
              "      <td>Romney</td>\n",
              "      <td>52.00</td>\n",
              "      <td>49.325</td>\n",
              "      <td>-2.675</td>\n",
              "      <td>2.675</td>\n",
              "      <td>0.95</td>\n",
              "      <td>7.155625</td>\n",
              "    </tr>\n",
              "  </tbody>\n",
              "</table>\n",
              "</div>"
            ],
            "text/plain": [
              "    Year Incumbent Party Candidate Other Candidate  \\\n",
              "0   1952                 Stevenson      Eisenhower   \n",
              "1   1956                Eisenhower       Stevenson   \n",
              "2   1960                     Nixon         Kennedy   \n",
              "3   1964                   Johnson       Goldwater   \n",
              "4   1968                  Humphrey           Nixon   \n",
              "5   1972                     Nixon        McGovern   \n",
              "6   1976                      Ford          Carter   \n",
              "7   1980                    Carter          Reagan   \n",
              "8   1984                    Reagan         Mondale   \n",
              "9   1988                 Bush, Sr.         Dukakis   \n",
              "10  1992                 Bush, Sr.         Clinton   \n",
              "11  1996                   Clinton            Dole   \n",
              "12  2000                      Gore       Bush, Jr.   \n",
              "13  2004                 Bush, Jr.           Kerry   \n",
              "14  2008                    McCain           Obama   \n",
              "15  2012                     Obama          Romney   \n",
              "\n",
              "    Incumbent Party Vote Share  Prediction  Error  Absolute Error  \\\n",
              "0                        44.60      54.400  9.800           9.800   \n",
              "1                        57.76      56.115 -1.645           1.645   \n",
              "2                        49.91      48.975 -0.935           0.935   \n",
              "3                        61.34      60.735 -0.605           0.605   \n",
              "4                        49.60      56.570  6.970           6.970   \n",
              "5                        61.79      58.670 -3.120           3.120   \n",
              "6                        48.95      49.780  0.830           0.830   \n",
              "7                        44.70      44.635 -0.065           0.065   \n",
              "8                        59.17      59.510  0.340           0.340   \n",
              "9                        53.94      53.945  0.005           0.005   \n",
              "10                       46.55      47.330  0.780           0.780   \n",
              "11                       54.74      49.640 -5.100           5.100   \n",
              "12                       50.27      54.260  3.990           3.990   \n",
              "13                       51.24      52.020  0.780           0.780   \n",
              "14                       46.32      46.350  0.030           0.030   \n",
              "15                       52.00      49.325 -2.675           2.675   \n",
              "\n",
              "    Average Recent Growth in Personal Incomes  Square Error  \n",
              "0                                        2.40     96.040000  \n",
              "1                                        2.89      2.706025  \n",
              "2                                        0.85      0.874225  \n",
              "3                                        4.21      0.366025  \n",
              "4                                        3.02     48.580900  \n",
              "5                                        3.62      9.734400  \n",
              "6                                        1.08      0.688900  \n",
              "7                                       -0.39      0.004225  \n",
              "8                                        3.86      0.115600  \n",
              "9                                        2.27      0.000025  \n",
              "10                                       0.38      0.608400  \n",
              "11                                       1.04     26.010000  \n",
              "12                                       2.36     15.920100  \n",
              "13                                       1.72      0.608400  \n",
              "14                                       0.10      0.000900  \n",
              "15                                       0.95      7.155625  "
            ]
          },
          "metadata": {
            "tags": []
          },
          "execution_count": 40
        }
      ]
    },
    {
      "metadata": {
        "id": "h5sDSbXI122a",
        "colab_type": "code",
        "colab": {}
      },
      "cell_type": "code",
      "source": [
        "def regression(m, b):\n",
        "    df['Prediction'] = m * df[feature] + b\n",
        "    df['Error'] = df['Prediction'] - df[target]\n",
        "    df['Absolute Error'] = df['Error'].abs()\n",
        "    df['Square Error'] = df['Error'] **2\n",
        "    sum_square_error = df['Square Error'].sum()\n",
        "    \n",
        "    title = f'Sum of square errors: {sum_square_error}'\n",
        "    ax = df.plot(x=feature, y=target, kind='scatter', title=title, figsize=(7, 7))\n",
        "    df.plot(x=feature, y='Prediction', kind='line', ax=ax)\n",
        "        \n",
        "    xmin, xmax = ax.get_xlim()\n",
        "    ymin, ymax = ax.get_ylim()\n",
        "    scale = (xmax-xmin)/(ymax-ymin)\n",
        "\n",
        "    for x, y1, y2 in zip(df[feature], df[target], df['Prediction']):\n",
        "        bottom_left = (x, min(y1, y2))\n",
        "        height = abs(y1 - y2)\n",
        "        width = height * scale\n",
        "        ax.add_patch(Rectangle(xy=bottom_left, width=width, height=height, alpha=0.1))"
      ],
      "execution_count": 0,
      "outputs": []
    },
    {
      "metadata": {
        "id": "KiCmd3hP122d",
        "colab_type": "code",
        "colab": {
          "base_uri": "https://localhost:8080/",
          "height": 17
        },
        "outputId": "9322cc3b-d3a8-403f-edd4-72429e0d7c1a"
      },
      "cell_type": "code",
      "source": [
        "interact(regression, m=(-10,10,0.5), b=(40,60,0.5));"
      ],
      "execution_count": 43,
      "outputs": [
        {
          "output_type": "display_data",
          "data": {
            "application/vnd.jupyter.widget-view+json": {
              "model_id": "6841d137a6f94edbb1aac9c71d2cbf2f",
              "version_minor": 0,
              "version_major": 2
            },
            "text/plain": [
              "interactive(children=(FloatSlider(value=0.0, description='m', max=10.0, min=-10.0, step=0.5), FloatSlider(valu…"
            ]
          },
          "metadata": {
            "tags": []
          }
        }
      ]
    },
    {
      "metadata": {
        "id": "-WZCy-mkAV7V",
        "colab_type": "code",
        "colab": {
          "base_uri": "https://localhost:8080/",
          "height": 458
        },
        "outputId": "e608b88b-f721-4274-c357-4137d4bf491b"
      },
      "cell_type": "code",
      "source": [
        "regression(3, 46.5)"
      ],
      "execution_count": 47,
      "outputs": [
        {
          "output_type": "display_data",
          "data": {
            "image/png": "[encoded data removed]",
            "text/plain": [
              "<Figure size 504x504 with 1 Axes>"
            ]
          },
          "metadata": {
            "tags": []
          }
        }
      ]
    },
    {
      "metadata": {
        "id": "kyR-P28w122g",
        "colab_type": "code",
        "colab": {
          "base_uri": "https://localhost:8080/",
          "height": 1289
        },
        "outputId": "62f84c38-ebbc-4e8c-c9c2-148c9550df4c"
      },
      "cell_type": "code",
      "source": [
        "b = 46\n",
        "ms = np.arange(-10,10,0.5)\n",
        "sses = []\n",
        "\n",
        "for m in ms:\n",
        "    predictions = m * df[feature] + b\n",
        "    errors = predictions - df[target]\n",
        "    square_errors = errors ** 2\n",
        "    sse = square_errors.sum()\n",
        "    sses.append(sse)\n",
        "    \n",
        "hypotheses = pd.DataFrame({'Slope': ms})\n",
        "hypotheses['Intercept'] = b\n",
        "hypotheses['Sum of Square Errors'] = sses\n",
        "\n",
        "hypotheses"
      ],
      "execution_count": 48,
      "outputs": [
        {
          "output_type": "execute_result",
          "data": {
            "text/html": [
              "<div>\n",
              "<style scoped>\n",
              "    .dataframe tbody tr th:only-of-type {\n",
              "        vertical-align: middle;\n",
              "    }\n",
              "\n",
              "    .dataframe tbody tr th {\n",
              "        vertical-align: top;\n",
              "    }\n",
              "\n",
              "    .dataframe thead th {\n",
              "        text-align: right;\n",
              "    }\n",
              "</style>\n",
              "<table border=\"1\" class=\"dataframe\">\n",
              "  <thead>\n",
              "    <tr style=\"text-align: right;\">\n",
              "      <th></th>\n",
              "      <th>Slope</th>\n",
              "      <th>Intercept</th>\n",
              "      <th>Sum of Square Errors</th>\n",
              "    </tr>\n",
              "  </thead>\n",
              "  <tbody>\n",
              "    <tr>\n",
              "      <th>0</th>\n",
              "      <td>-10.0</td>\n",
              "      <td>46</td>\n",
              "      <td>15205.34740</td>\n",
              "    </tr>\n",
              "    <tr>\n",
              "      <th>1</th>\n",
              "      <td>-9.5</td>\n",
              "      <td>46</td>\n",
              "      <td>14085.60595</td>\n",
              "    </tr>\n",
              "    <tr>\n",
              "      <th>2</th>\n",
              "      <td>-9.0</td>\n",
              "      <td>46</td>\n",
              "      <td>13009.27500</td>\n",
              "    </tr>\n",
              "    <tr>\n",
              "      <th>3</th>\n",
              "      <td>-8.5</td>\n",
              "      <td>46</td>\n",
              "      <td>11976.35455</td>\n",
              "    </tr>\n",
              "    <tr>\n",
              "      <th>4</th>\n",
              "      <td>-8.0</td>\n",
              "      <td>46</td>\n",
              "      <td>10986.84460</td>\n",
              "    </tr>\n",
              "    <tr>\n",
              "      <th>5</th>\n",
              "      <td>-7.5</td>\n",
              "      <td>46</td>\n",
              "      <td>10040.74515</td>\n",
              "    </tr>\n",
              "    <tr>\n",
              "      <th>6</th>\n",
              "      <td>-7.0</td>\n",
              "      <td>46</td>\n",
              "      <td>9138.05620</td>\n",
              "    </tr>\n",
              "    <tr>\n",
              "      <th>7</th>\n",
              "      <td>-6.5</td>\n",
              "      <td>46</td>\n",
              "      <td>8278.77775</td>\n",
              "    </tr>\n",
              "    <tr>\n",
              "      <th>8</th>\n",
              "      <td>-6.0</td>\n",
              "      <td>46</td>\n",
              "      <td>7462.90980</td>\n",
              "    </tr>\n",
              "    <tr>\n",
              "      <th>9</th>\n",
              "      <td>-5.5</td>\n",
              "      <td>46</td>\n",
              "      <td>6690.45235</td>\n",
              "    </tr>\n",
              "    <tr>\n",
              "      <th>10</th>\n",
              "      <td>-5.0</td>\n",
              "      <td>46</td>\n",
              "      <td>5961.40540</td>\n",
              "    </tr>\n",
              "    <tr>\n",
              "      <th>11</th>\n",
              "      <td>-4.5</td>\n",
              "      <td>46</td>\n",
              "      <td>5275.76895</td>\n",
              "    </tr>\n",
              "    <tr>\n",
              "      <th>12</th>\n",
              "      <td>-4.0</td>\n",
              "      <td>46</td>\n",
              "      <td>4633.54300</td>\n",
              "    </tr>\n",
              "    <tr>\n",
              "      <th>13</th>\n",
              "      <td>-3.5</td>\n",
              "      <td>46</td>\n",
              "      <td>4034.72755</td>\n",
              "    </tr>\n",
              "    <tr>\n",
              "      <th>14</th>\n",
              "      <td>-3.0</td>\n",
              "      <td>46</td>\n",
              "      <td>3479.32260</td>\n",
              "    </tr>\n",
              "    <tr>\n",
              "      <th>15</th>\n",
              "      <td>-2.5</td>\n",
              "      <td>46</td>\n",
              "      <td>2967.32815</td>\n",
              "    </tr>\n",
              "    <tr>\n",
              "      <th>16</th>\n",
              "      <td>-2.0</td>\n",
              "      <td>46</td>\n",
              "      <td>2498.74420</td>\n",
              "    </tr>\n",
              "    <tr>\n",
              "      <th>17</th>\n",
              "      <td>-1.5</td>\n",
              "      <td>46</td>\n",
              "      <td>2073.57075</td>\n",
              "    </tr>\n",
              "    <tr>\n",
              "      <th>18</th>\n",
              "      <td>-1.0</td>\n",
              "      <td>46</td>\n",
              "      <td>1691.80780</td>\n",
              "    </tr>\n",
              "    <tr>\n",
              "      <th>19</th>\n",
              "      <td>-0.5</td>\n",
              "      <td>46</td>\n",
              "      <td>1353.45535</td>\n",
              "    </tr>\n",
              "    <tr>\n",
              "      <th>20</th>\n",
              "      <td>0.0</td>\n",
              "      <td>46</td>\n",
              "      <td>1058.51340</td>\n",
              "    </tr>\n",
              "    <tr>\n",
              "      <th>21</th>\n",
              "      <td>0.5</td>\n",
              "      <td>46</td>\n",
              "      <td>806.98195</td>\n",
              "    </tr>\n",
              "    <tr>\n",
              "      <th>22</th>\n",
              "      <td>1.0</td>\n",
              "      <td>46</td>\n",
              "      <td>598.86100</td>\n",
              "    </tr>\n",
              "    <tr>\n",
              "      <th>23</th>\n",
              "      <td>1.5</td>\n",
              "      <td>46</td>\n",
              "      <td>434.15055</td>\n",
              "    </tr>\n",
              "    <tr>\n",
              "      <th>24</th>\n",
              "      <td>2.0</td>\n",
              "      <td>46</td>\n",
              "      <td>312.85060</td>\n",
              "    </tr>\n",
              "    <tr>\n",
              "      <th>25</th>\n",
              "      <td>2.5</td>\n",
              "      <td>46</td>\n",
              "      <td>234.96115</td>\n",
              "    </tr>\n",
              "    <tr>\n",
              "      <th>26</th>\n",
              "      <td>3.0</td>\n",
              "      <td>46</td>\n",
              "      <td>200.48220</td>\n",
              "    </tr>\n",
              "    <tr>\n",
              "      <th>27</th>\n",
              "      <td>3.5</td>\n",
              "      <td>46</td>\n",
              "      <td>209.41375</td>\n",
              "    </tr>\n",
              "    <tr>\n",
              "      <th>28</th>\n",
              "      <td>4.0</td>\n",
              "      <td>46</td>\n",
              "      <td>261.75580</td>\n",
              "    </tr>\n",
              "    <tr>\n",
              "      <th>29</th>\n",
              "      <td>4.5</td>\n",
              "      <td>46</td>\n",
              "      <td>357.50835</td>\n",
              "    </tr>\n",
              "    <tr>\n",
              "      <th>30</th>\n",
              "      <td>5.0</td>\n",
              "      <td>46</td>\n",
              "      <td>496.67140</td>\n",
              "    </tr>\n",
              "    <tr>\n",
              "      <th>31</th>\n",
              "      <td>5.5</td>\n",
              "      <td>46</td>\n",
              "      <td>679.24495</td>\n",
              "    </tr>\n",
              "    <tr>\n",
              "      <th>32</th>\n",
              "      <td>6.0</td>\n",
              "      <td>46</td>\n",
              "      <td>905.22900</td>\n",
              "    </tr>\n",
              "    <tr>\n",
              "      <th>33</th>\n",
              "      <td>6.5</td>\n",
              "      <td>46</td>\n",
              "      <td>1174.62355</td>\n",
              "    </tr>\n",
              "    <tr>\n",
              "      <th>34</th>\n",
              "      <td>7.0</td>\n",
              "      <td>46</td>\n",
              "      <td>1487.42860</td>\n",
              "    </tr>\n",
              "    <tr>\n",
              "      <th>35</th>\n",
              "      <td>7.5</td>\n",
              "      <td>46</td>\n",
              "      <td>1843.64415</td>\n",
              "    </tr>\n",
              "    <tr>\n",
              "      <th>36</th>\n",
              "      <td>8.0</td>\n",
              "      <td>46</td>\n",
              "      <td>2243.27020</td>\n",
              "    </tr>\n",
              "    <tr>\n",
              "      <th>37</th>\n",
              "      <td>8.5</td>\n",
              "      <td>46</td>\n",
              "      <td>2686.30675</td>\n",
              "    </tr>\n",
              "    <tr>\n",
              "      <th>38</th>\n",
              "      <td>9.0</td>\n",
              "      <td>46</td>\n",
              "      <td>3172.75380</td>\n",
              "    </tr>\n",
              "    <tr>\n",
              "      <th>39</th>\n",
              "      <td>9.5</td>\n",
              "      <td>46</td>\n",
              "      <td>3702.61135</td>\n",
              "    </tr>\n",
              "  </tbody>\n",
              "</table>\n",
              "</div>"
            ],
            "text/plain": [
              "    Slope  Intercept  Sum of Square Errors\n",
              "0   -10.0         46           15205.34740\n",
              "1    -9.5         46           14085.60595\n",
              "2    -9.0         46           13009.27500\n",
              "3    -8.5         46           11976.35455\n",
              "4    -8.0         46           10986.84460\n",
              "5    -7.5         46           10040.74515\n",
              "6    -7.0         46            9138.05620\n",
              "7    -6.5         46            8278.77775\n",
              "8    -6.0         46            7462.90980\n",
              "9    -5.5         46            6690.45235\n",
              "10   -5.0         46            5961.40540\n",
              "11   -4.5         46            5275.76895\n",
              "12   -4.0         46            4633.54300\n",
              "13   -3.5         46            4034.72755\n",
              "14   -3.0         46            3479.32260\n",
              "15   -2.5         46            2967.32815\n",
              "16   -2.0         46            2498.74420\n",
              "17   -1.5         46            2073.57075\n",
              "18   -1.0         46            1691.80780\n",
              "19   -0.5         46            1353.45535\n",
              "20    0.0         46            1058.51340\n",
              "21    0.5         46             806.98195\n",
              "22    1.0         46             598.86100\n",
              "23    1.5         46             434.15055\n",
              "24    2.0         46             312.85060\n",
              "25    2.5         46             234.96115\n",
              "26    3.0         46             200.48220\n",
              "27    3.5         46             209.41375\n",
              "28    4.0         46             261.75580\n",
              "29    4.5         46             357.50835\n",
              "30    5.0         46             496.67140\n",
              "31    5.5         46             679.24495\n",
              "32    6.0         46             905.22900\n",
              "33    6.5         46            1174.62355\n",
              "34    7.0         46            1487.42860\n",
              "35    7.5         46            1843.64415\n",
              "36    8.0         46            2243.27020\n",
              "37    8.5         46            2686.30675\n",
              "38    9.0         46            3172.75380\n",
              "39    9.5         46            3702.61135"
            ]
          },
          "metadata": {
            "tags": []
          },
          "execution_count": 48
        }
      ]
    },
    {
      "metadata": {
        "id": "2AnrMiRP122j",
        "colab_type": "code",
        "colab": {
          "base_uri": "https://localhost:8080/",
          "height": 295
        },
        "outputId": "392e6926-d65a-439e-873b-01c8fc06312d"
      },
      "cell_type": "code",
      "source": [
        "hypotheses.plot(x='Slope', y='Sum of Square Errors', \n",
        "                title=f'Intercept={b}');"
      ],
      "execution_count": 49,
      "outputs": [
        {
          "output_type": "display_data",
          "data": {
            "image/png": "[encoded data removed]",
            "text/plain": [
              "<Figure size 432x288 with 1 Axes>"
            ]
          },
          "metadata": {
            "tags": []
          }
        }
      ]
    },
    {
      "metadata": {
        "id": "0MXhGpft122o",
        "colab_type": "code",
        "colab": {
          "base_uri": "https://localhost:8080/",
          "height": 34
        },
        "outputId": "168fc54f-a239-47cf-c5a4-b5258ca8bde4"
      },
      "cell_type": "code",
      "source": [
        "X = df[[feature]]\n",
        "y = df[target]\n",
        "\n",
        "X.shape, y.shape"
      ],
      "execution_count": 50,
      "outputs": [
        {
          "output_type": "execute_result",
          "data": {
            "text/plain": [
              "((16, 1), (16,))"
            ]
          },
          "metadata": {
            "tags": []
          },
          "execution_count": 50
        }
      ]
    },
    {
      "metadata": {
        "id": "nVPrfuRt122r",
        "colab_type": "code",
        "colab": {
          "base_uri": "https://localhost:8080/",
          "height": 51
        },
        "outputId": "b577bf80-94f1-4f5d-bca2-4be41a0e2970"
      },
      "cell_type": "code",
      "source": [
        "model = LinearRegression()\n",
        "model.fit(X, y)"
      ],
      "execution_count": 66,
      "outputs": [
        {
          "output_type": "execute_result",
          "data": {
            "text/plain": [
              "LinearRegression(copy_X=True, fit_intercept=True, n_jobs=None,\n",
              "         normalize=False)"
            ]
          },
          "metadata": {
            "tags": []
          },
          "execution_count": 66
        }
      ]
    },
    {
      "metadata": {
        "id": "8oo33tpb122v",
        "colab_type": "code",
        "colab": {
          "base_uri": "https://localhost:8080/",
          "height": 34
        },
        "outputId": "79ba6bd3-f09b-42f1-eb4d-baf43c348053"
      },
      "cell_type": "code",
      "source": [
        "model.coef_, model.intercept_"
      ],
      "execution_count": 67,
      "outputs": [
        {
          "output_type": "execute_result",
          "data": {
            "text/plain": [
              "(array([3.06052805]), 46.247648016800795)"
            ]
          },
          "metadata": {
            "tags": []
          },
          "execution_count": 67
        }
      ]
    },
    {
      "metadata": {
        "id": "k-tOWY_L122y",
        "colab_type": "code",
        "colab": {
          "base_uri": "https://localhost:8080/",
          "height": 34
        },
        "outputId": "823cdbff-cc93-4ec2-e7bc-5c7db9b69222"
      },
      "cell_type": "code",
      "source": [
        "model.predict([[1]])"
      ],
      "execution_count": 68,
      "outputs": [
        {
          "output_type": "execute_result",
          "data": {
            "text/plain": [
              "array([49.30817607])"
            ]
          },
          "metadata": {
            "tags": []
          },
          "execution_count": 68
        }
      ]
    },
    {
      "metadata": {
        "id": "xTmPs7BO1222",
        "colab_type": "code",
        "colab": {
          "base_uri": "https://localhost:8080/",
          "height": 34
        },
        "outputId": "6a0cab91-1153-4fcf-e25c-8d35fa0cd353"
      },
      "cell_type": "code",
      "source": [
        "model.predict([[2]])"
      ],
      "execution_count": 54,
      "outputs": [
        {
          "output_type": "execute_result",
          "data": {
            "text/plain": [
              "array([52.36870413])"
            ]
          },
          "metadata": {
            "tags": []
          },
          "execution_count": 54
        }
      ]
    },
    {
      "metadata": {
        "id": "tsAlmUAK1224",
        "colab_type": "code",
        "colab": {
          "base_uri": "https://localhost:8080/",
          "height": 34
        },
        "outputId": "6841f462-ef3f-4d8f-c453-edca1cd5f68d"
      },
      "cell_type": "code",
      "source": [
        "model.predict([[3]])"
      ],
      "execution_count": 55,
      "outputs": [
        {
          "output_type": "execute_result",
          "data": {
            "text/plain": [
              "array([55.42923218])"
            ]
          },
          "metadata": {
            "tags": []
          },
          "execution_count": 55
        }
      ]
    },
    {
      "metadata": {
        "id": "GYGftGc81226",
        "colab_type": "code",
        "colab": {
          "base_uri": "https://localhost:8080/",
          "height": 85
        },
        "outputId": "4d4222bc-d70a-4b8c-9a24-3fc1add57b9a"
      },
      "cell_type": "code",
      "source": [
        "model.predict(X)"
      ],
      "execution_count": 56,
      "outputs": [
        {
          "output_type": "execute_result",
          "data": {
            "text/plain": [
              "array([53.59291535, 55.09257409, 48.84909686, 59.13247113, 55.49044274,\n",
              "       57.32675957, 49.55301832, 45.05404208, 58.06128631, 53.1950467 ,\n",
              "       47.41064868, 49.43059719, 53.47049423, 51.51175627, 46.55370082,\n",
              "       49.15514967])"
            ]
          },
          "metadata": {
            "tags": []
          },
          "execution_count": 56
        }
      ]
    },
    {
      "metadata": {
        "id": "nlGPNhKU1227",
        "colab_type": "code",
        "colab": {}
      },
      "cell_type": "code",
      "source": [
        "df['Prediction'] = model.predict(X)"
      ],
      "execution_count": 0,
      "outputs": []
    },
    {
      "metadata": {
        "id": "LkMzv9SN122-",
        "colab_type": "code",
        "colab": {
          "base_uri": "https://localhost:8080/",
          "height": 295
        },
        "outputId": "19aaabc2-22c8-4755-c3e5-187c654620ec"
      },
      "cell_type": "code",
      "source": [
        "ax = df.plot(x=feature, y=target, kind='scatter', title='sklearn LinearRegression')\n",
        "df.plot(x=feature, y='Prediction', kind='line', ax=ax);"
      ],
      "execution_count": 58,
      "outputs": [
        {
          "output_type": "display_data",
          "data": {
            "image/png": "[encoded data removed]",
            "text/plain": [
              "<Figure size 432x288 with 1 Axes>"
            ]
          },
          "metadata": {
            "tags": []
          }
        }
      ]
    },
    {
      "metadata": {
        "id": "ApuX9mlU123C",
        "colab_type": "code",
        "colab": {}
      },
      "cell_type": "code",
      "source": [
        "df['Error'] = df['Prediction'] - y"
      ],
      "execution_count": 0,
      "outputs": []
    },
    {
      "metadata": {
        "id": "Xa-zVZl_123E",
        "colab_type": "code",
        "colab": {}
      },
      "cell_type": "code",
      "source": [
        "df['Absolute Error'] = df['Error'].abs()\n",
        "df['Square Error'] = df['Error'] ** 2"
      ],
      "execution_count": 0,
      "outputs": []
    },
    {
      "metadata": {
        "id": "9X1kA7Ri123G",
        "colab_type": "code",
        "colab": {
          "base_uri": "https://localhost:8080/",
          "height": 34
        },
        "outputId": "4b37b51b-92dd-45c5-e222-c5c0cad961c4"
      },
      "cell_type": "code",
      "source": [
        "df['Square Error'].mean()"
      ],
      "execution_count": 61,
      "outputs": [
        {
          "output_type": "execute_result",
          "data": {
            "text/plain": [
              "12.392042143389562"
            ]
          },
          "metadata": {
            "tags": []
          },
          "execution_count": 61
        }
      ]
    },
    {
      "metadata": {
        "id": "QGIFHfZj123I",
        "colab_type": "code",
        "colab": {
          "base_uri": "https://localhost:8080/",
          "height": 34
        },
        "outputId": "1fb992bf-d6b6-4835-a655-edea5eae2756"
      },
      "cell_type": "code",
      "source": [
        "mean_squared_error(y_true=y, y_pred=model.predict(X))"
      ],
      "execution_count": 62,
      "outputs": [
        {
          "output_type": "execute_result",
          "data": {
            "text/plain": [
              "12.39204214338956"
            ]
          },
          "metadata": {
            "tags": []
          },
          "execution_count": 62
        }
      ]
    },
    {
      "metadata": {
        "id": "5nzJ8wf-123L",
        "colab_type": "code",
        "colab": {
          "base_uri": "https://localhost:8080/",
          "height": 34
        },
        "outputId": "a87c6043-43e2-4d08-97c4-5294136206ed"
      },
      "cell_type": "code",
      "source": [
        "np.sqrt(mean_squared_error(y, model.predict(X)))"
      ],
      "execution_count": 63,
      "outputs": [
        {
          "output_type": "execute_result",
          "data": {
            "text/plain": [
              "3.5202332512760512"
            ]
          },
          "metadata": {
            "tags": []
          },
          "execution_count": 63
        }
      ]
    },
    {
      "metadata": {
        "id": "W9MRIt4c123O",
        "colab_type": "text"
      },
      "cell_type": "markdown",
      "source": [
        "# R Squared:  $R^2$\n",
        "\n",
        "One final attribute of linear regressions that we're going to talk about today is a measure of goodness of fit known as $R^2$ or R-squared. $R^2$ is a statistical measure of how close the data are fitted to our regression line. A helpful interpretation for the $R^2$ is the percentage of the dependent variable that is explained by the model.\n",
        "\n",
        "In other words, the $R^2$ is the percentage of y that is explained by the x variables included in the model. For this reason the $R^2$ is also known as the \"coefficient of determination,\" because it explains how much of y is explained (or determined) by our x varaibles. We won't go into the calculation of $R^2$ today, just know that a higher $R^2$ percentage is nearly always better and indicates a model that fits the data more closely. "
      ]
    },
    {
      "metadata": {
        "id": "dSDVxwF3123P",
        "colab_type": "code",
        "colab": {
          "base_uri": "https://localhost:8080/",
          "height": 34
        },
        "outputId": "f17fd758-bc00-4f2f-a208-4b22b6b1b785"
      },
      "cell_type": "code",
      "source": [
        "model.score(X, y)"
      ],
      "execution_count": 64,
      "outputs": [
        {
          "output_type": "execute_result",
          "data": {
            "text/plain": [
              "0.5798462099485426"
            ]
          },
          "metadata": {
            "tags": []
          },
          "execution_count": 64
        }
      ]
    },
    {
      "metadata": {
        "id": "osXOE4Ew123R",
        "colab_type": "code",
        "colab": {
          "base_uri": "https://localhost:8080/",
          "height": 34
        },
        "outputId": "4b145b79-485e-4296-e359-5ae87244db73"
      },
      "cell_type": "code",
      "source": [
        "r2_score(y, model.predict(X))"
      ],
      "execution_count": 65,
      "outputs": [
        {
          "output_type": "execute_result",
          "data": {
            "text/plain": [
              "0.5798462099485426"
            ]
          },
          "metadata": {
            "tags": []
          },
          "execution_count": 65
        }
      ]
    },
    {
      "metadata": {
        "id": "Rsrdnk1d123V",
        "colab_type": "text"
      },
      "cell_type": "markdown",
      "source": [
        "### Statsmodels"
      ]
    },
    {
      "metadata": {
        "id": "0zt4dl8O123V",
        "colab_type": "text"
      },
      "cell_type": "markdown",
      "source": [
        "https://www.statsmodels.org/dev/examples/notebooks/generated/ols.html"
      ]
    },
    {
      "metadata": {
        "id": "_Jov649z123W",
        "colab_type": "code",
        "colab": {
          "base_uri": "https://localhost:8080/",
          "height": 550
        },
        "outputId": "1fb1986b-778b-41cf-a571-2ea14b2d7e80"
      },
      "cell_type": "code",
      "source": [
        "model = sm.OLS(y, sm.add_constant(X))\n",
        "results = model.fit()\n",
        "print(results.summary())"
      ],
      "execution_count": 69,
      "outputs": [
        {
          "output_type": "stream",
          "text": [
            "                                OLS Regression Results                                \n",
            "======================================================================================\n",
            "Dep. Variable:     Incumbent Party Vote Share   R-squared:                       0.580\n",
            "Model:                                    OLS   Adj. R-squared:                  0.550\n",
            "Method:                         Least Squares   F-statistic:                     19.32\n",
            "Date:                        Mon, 29 Apr 2019   Prob (F-statistic):           0.000610\n",
            "Time:                                17:28:59   Log-Likelihood:                -42.839\n",
            "No. Observations:                          16   AIC:                             89.68\n",
            "Df Residuals:                              14   BIC:                             91.22\n",
            "Df Model:                                   1                                         \n",
            "Covariance Type:                    nonrobust                                         \n",
            "=============================================================================================================\n",
            "                                                coef    std err          t      P>|t|      [0.025      0.975]\n",
            "-------------------------------------------------------------------------------------------------------------\n",
            "const                                        46.2476      1.622     28.514      0.000      42.769      49.726\n",
            "Average Recent Growth in Personal Incomes     3.0605      0.696      4.396      0.001       1.567       4.554\n",
            "==============================================================================\n",
            "Omnibus:                        5.392   Durbin-Watson:                   2.379\n",
            "Prob(Omnibus):                  0.067   Jarque-Bera (JB):                2.828\n",
            "Skew:                          -0.961   Prob(JB):                        0.243\n",
            "Kurtosis:                       3.738   Cond. No.                         4.54\n",
            "==============================================================================\n",
            "\n",
            "Warnings:\n",
            "[1] Standard Errors assume that the covariance matrix of the errors is correctly specified.\n"
          ],
          "name": "stdout"
        },
        {
          "output_type": "stream",
          "text": [
            "/usr/local/lib/python3.6/dist-packages/numpy/core/fromnumeric.py:2389: FutureWarning: Method .ptp is deprecated and will be removed in a future version. Use numpy.ptp instead.\n",
            "  return ptp(axis=axis, out=out, **kwargs)\n",
            "/usr/local/lib/python3.6/dist-packages/scipy/stats/stats.py:1416: UserWarning: kurtosistest only valid for n>=20 ... continuing anyway, n=16\n",
            "  \"anyway, n=%i\" % int(n))\n"
          ],
          "name": "stderr"
        }
      ]
    },
    {
      "metadata": {
        "id": "8_vwwnCg123X",
        "colab_type": "text"
      },
      "cell_type": "markdown",
      "source": [
        "# The Anatomy of Linear Regression\n",
        "\n",
        "- Intercept: The $b$ value in our line equation $y=mx+b$\n",
        "- Slope: The $m$ value in our line equation $y=mx+b$. These two values together define our regression line.\n",
        "\n",
        "![Slope and Intercept](http://www.ryanleeallred.com/wp-content/uploads/2018/08/linear-regression-diagram.png)\n",
        "\n",
        "- $\\hat{y}$ : A prediction\n",
        "- Line of Best Fit (Regression Line)\n",
        "- Predicted (fitted) Values: Points on our regression line\n",
        "- Observed Values: Points from our dataset\n",
        "- Error: The distance between predicted and observed values.\n",
        "\n",
        "![Residual Error](http://www.ryanleeallred.com/wp-content/uploads/2018/08/residual-or-error.gif)\n"
      ]
    },
    {
      "metadata": {
        "id": "5aYmOfe_123Z",
        "colab_type": "text"
      },
      "cell_type": "markdown",
      "source": [
        "# More Formal Notation\n",
        "\n",
        "![Simple Linear Regression](http://www.ryanleeallred.com/wp-content/uploads/2018/08/simple-regression-formula.png)\n",
        "\n",
        "We have talked about a line of regression being represented like a regular line $y=mx+b$ but as we get to more complicated versions we're going to need to extend this equation. So lets establish the proper terminology.\n",
        "\n",
        "**X** - Independent Variable, predictor variable, explanatory variable, regressor, covariate\n",
        "\n",
        "**Y** - Response variable, predicted variable, measured vairable, explained variable, outcome variable\n",
        "\n",
        "$\\beta_0$ - \"Beta Naught\" or \"Beta Zero\", the intercept value. This is how much of y would exist if X were zero. This is sometimes represented by the letter \"a\" but I hate that. So it's \"Beta 0\" during my lecture.\n",
        "\n",
        "$\\beta_1$ - \"Beta One\" The primary coefficient of interest. This values is the slope of the line that is estimated by \"minimizing the sum of the squared errors/residuals\" - We'll get to that. \n",
        "\n",
        "$\\epsilon$ - \"Epsilon\" The \"error term\", random noise, things outside of our model that affect y."
      ]
    },
    {
      "metadata": {
        "id": "tNz-iXN0123a",
        "colab_type": "text"
      },
      "cell_type": "markdown",
      "source": [
        "# How Does it do it?\n",
        "\n",
        "## Minimizing the Sum of the Squared Error\n",
        "\n",
        "The most common method of estimating our $\\beta$ parameters  is what's known as \"Ordinary Least Squares\" (OLS). (There are different methods of arriving at a line of best fit). OLS estimates the parameters that minimize the squared distance between each point in our dataset and our line of best fit. \n",
        "\n",
        "\\begin{align}\n",
        "SSE = \\sum(y_i - \\hat{y})^2\n",
        "\\end{align}\n",
        "\n"
      ]
    },
    {
      "metadata": {
        "id": "lGzEoymn123a",
        "colab_type": "text"
      },
      "cell_type": "markdown",
      "source": [
        "## Linear Algebra!\n",
        "\n",
        "The same result that is found by minimizing the sum of the squared errors can be also found through a linear algebra process known as the \"Least Squares Solution:\"\n",
        "\n",
        "![OLS Regression](http://www.ryanleeallred.com/wp-content/uploads/2018/08/OLS-linear-algebra.png)\n",
        "\n",
        "Before we can work with this equation in its linear algebra form we have to understand how to set up the matrices that are involved in this equation. "
      ]
    },
    {
      "metadata": {
        "id": "ayDaqc0D123b",
        "colab_type": "text"
      },
      "cell_type": "markdown",
      "source": [
        "### The $\\beta$ vector\n",
        "\n",
        "The $\\beta$ vector represents all the parameters that we are trying to estimate, our $y$ vector and $X$ matrix values are full of data from our dataset. The $\\beta$ vector holds the variables that we are solving for: $\\beta_0$ and $\\beta_1$\n",
        "\n",
        "Now that we have all of the necessary parts we can set them up in the following equation:\n",
        "\n",
        "\\begin{align}\n",
        "y = X \\beta + \\epsilon\n",
        "\\end{align}\n",
        "\n",
        "Since our $\\epsilon$ value represents **random** error we can assume that it will equal zero on average.\n",
        "\n",
        "\\begin{align}\n",
        "y = X \\beta\n",
        "\\end{align}\n",
        "\n",
        "The objective now is to isolate the $\\beta$ matrix. We can do this by pre-multiplying both sides by \"X transpose\" $X^{T}$.\n",
        "\n",
        "\\begin{align}\n",
        "X^{T}y =  X^{T}X \\beta\n",
        "\\end{align}\n",
        "\n",
        "Since anything times its transpose will result in a square matrix, if that matrix is then an invertible matrix, then we should be able to multiply both sides by its inverse to remove it from the right hand side. (We'll talk tomorrow about situations that could lead to $X^{T}X$ not being invertible.)\n",
        "\n",
        "\\begin{align}\n",
        "(X^{T}X)^{-1}X^{T}y =  (X^{T}X)^{-1}X^{T}X \\beta\n",
        "\\end{align}\n",
        "\n",
        "Since any matrix multiplied by its inverse results in the identity matrix, and anything multiplied by the identity matrix is itself, we are left with only $\\beta$ on the right hand side:\n",
        "\n",
        "\\begin{align}\n",
        "(X^{T}X)^{-1}X^{T}y = \\hat{\\beta}\n",
        "\\end{align}\n",
        "\n",
        "We will now call it \"beta hat\" $\\hat{\\beta}$ because it now represents our estimated values for $\\beta_0$ and $\\beta_1$\n",
        "\n",
        "### Lets calculate our $\\beta$ coefficients with numpy!"
      ]
    },
    {
      "metadata": {
        "id": "6lS8o1Tx123b",
        "colab_type": "code",
        "colab": {
          "base_uri": "https://localhost:8080/",
          "height": 958
        },
        "outputId": "661db205-ded2-4287-cf78-654a5d3fc58b"
      },
      "cell_type": "code",
      "source": [
        "X = sm.add_constant(df[feature]).values\n",
        "print('X')\n",
        "print(X)\n",
        "\n",
        "y = df[target].values[:, np.newaxis]\n",
        "print('y')\n",
        "print(y)\n",
        "\n",
        "X_transpose = X.T\n",
        "print('X Transpose')\n",
        "print(X_transpose)\n",
        "\n",
        "X_transpose_X = X_transpose @ X\n",
        "print('X Transpose X')\n",
        "print(X_transpose_X)\n",
        "\n",
        "X_transpose_X_inverse = np.linalg.inv(X_transpose_X)\n",
        "print('X Transpose X Inverse')\n",
        "print(X_transpose_X_inverse)\n",
        "\n",
        "X_transpose_y = X_transpose @ y\n",
        "print('X Transpose y')\n",
        "print(X_transpose_y)\n",
        "\n",
        "beta_hat = X_transpose_X_inverse @ X_transpose_y\n",
        "print('Beta Hat')\n",
        "print(beta_hat)"
      ],
      "execution_count": 70,
      "outputs": [
        {
          "output_type": "stream",
          "text": [
            "X\n",
            "[[ 1.    2.4 ]\n",
            " [ 1.    2.89]\n",
            " [ 1.    0.85]\n",
            " [ 1.    4.21]\n",
            " [ 1.    3.02]\n",
            " [ 1.    3.62]\n",
            " [ 1.    1.08]\n",
            " [ 1.   -0.39]\n",
            " [ 1.    3.86]\n",
            " [ 1.    2.27]\n",
            " [ 1.    0.38]\n",
            " [ 1.    1.04]\n",
            " [ 1.    2.36]\n",
            " [ 1.    1.72]\n",
            " [ 1.    0.1 ]\n",
            " [ 1.    0.95]]\n",
            "y\n",
            "[[44.6 ]\n",
            " [57.76]\n",
            " [49.91]\n",
            " [61.34]\n",
            " [49.6 ]\n",
            " [61.79]\n",
            " [48.95]\n",
            " [44.7 ]\n",
            " [59.17]\n",
            " [53.94]\n",
            " [46.55]\n",
            " [54.74]\n",
            " [50.27]\n",
            " [51.24]\n",
            " [46.32]\n",
            " [52.  ]]\n",
            "X Transpose\n",
            "[[ 1.    1.    1.    1.    1.    1.    1.    1.    1.    1.    1.    1.\n",
            "   1.    1.    1.    1.  ]\n",
            " [ 2.4   2.89  0.85  4.21  3.02  3.62  1.08 -0.39  3.86  2.27  0.38  1.04\n",
            "   2.36  1.72  0.1   0.95]]\n",
            "X Transpose X\n",
            "[[16.    30.36 ]\n",
            " [30.36  86.821]]\n",
            "X Transpose X Inverse\n",
            "[[ 0.18575056 -0.06495418]\n",
            " [-0.06495418  0.03423145]]\n",
            "X Transpose y\n",
            "[[ 832.88  ]\n",
            " [1669.7967]]\n",
            "Beta Hat\n",
            "[[46.24764802]\n",
            " [ 3.06052805]]\n"
          ],
          "name": "stdout"
        },
        {
          "output_type": "stream",
          "text": [
            "/usr/local/lib/python3.6/dist-packages/numpy/core/fromnumeric.py:2389: FutureWarning: Method .ptp is deprecated and will be removed in a future version. Use numpy.ptp instead.\n",
            "  return ptp(axis=axis, out=out, **kwargs)\n"
          ],
          "name": "stderr"
        }
      ]
    },
    {
      "metadata": {
        "id": "eXlj3Juu123d",
        "colab_type": "text"
      },
      "cell_type": "markdown",
      "source": [
        "# Multiple Regression\n",
        "\n",
        "Simple or bivariate linear regression involves a single $x$ variable and a single $y$ variable. However, we can have many $x$ variables. A linear regression model that involves multiple x variables is known as **Multiple** Regression - NOT MULTIVARIATE!\n",
        "\n",
        "![Multiple Regression](http://www.ryanleeallred.com/wp-content/uploads/2018/08/multiple-regression-model.png)"
      ]
    },
    {
      "metadata": {
        "id": "yLBSiVgM123e",
        "colab_type": "code",
        "colab": {
          "base_uri": "https://localhost:8080/",
          "height": 579
        },
        "outputId": "7e8d4079-296a-4392-b4ba-7f391e2a0790"
      },
      "cell_type": "code",
      "source": [
        "df.sort_values(by='Square Error', ascending=False)"
      ],
      "execution_count": 77,
      "outputs": [
        {
          "output_type": "execute_result",
          "data": {
            "text/html": [
              "<div>\n",
              "<style scoped>\n",
              "    .dataframe tbody tr th:only-of-type {\n",
              "        vertical-align: middle;\n",
              "    }\n",
              "\n",
              "    .dataframe tbody tr th {\n",
              "        vertical-align: top;\n",
              "    }\n",
              "\n",
              "    .dataframe thead th {\n",
              "        text-align: right;\n",
              "    }\n",
              "</style>\n",
              "<table border=\"1\" class=\"dataframe\">\n",
              "  <thead>\n",
              "    <tr style=\"text-align: right;\">\n",
              "      <th></th>\n",
              "      <th>Year</th>\n",
              "      <th>Incumbent Party Candidate</th>\n",
              "      <th>Other Candidate</th>\n",
              "      <th>Incumbent Party Vote Share</th>\n",
              "      <th>Prediction</th>\n",
              "      <th>Error</th>\n",
              "      <th>Absolute Error</th>\n",
              "      <th>Average Recent Growth in Personal Incomes</th>\n",
              "      <th>Square Error</th>\n",
              "      <th>US Military Fatalities per Million</th>\n",
              "    </tr>\n",
              "  </thead>\n",
              "  <tbody>\n",
              "    <tr>\n",
              "      <th>0</th>\n",
              "      <td>1952</td>\n",
              "      <td>Stevenson</td>\n",
              "      <td>Eisenhower</td>\n",
              "      <td>44.60</td>\n",
              "      <td>53.592915</td>\n",
              "      <td>8.992915</td>\n",
              "      <td>8.992915</td>\n",
              "      <td>2.40</td>\n",
              "      <td>80.872526</td>\n",
              "      <td>190</td>\n",
              "    </tr>\n",
              "    <tr>\n",
              "      <th>4</th>\n",
              "      <td>1968</td>\n",
              "      <td>Humphrey</td>\n",
              "      <td>Nixon</td>\n",
              "      <td>49.60</td>\n",
              "      <td>55.490443</td>\n",
              "      <td>5.890443</td>\n",
              "      <td>5.890443</td>\n",
              "      <td>3.02</td>\n",
              "      <td>34.697316</td>\n",
              "      <td>146</td>\n",
              "    </tr>\n",
              "    <tr>\n",
              "      <th>11</th>\n",
              "      <td>1996</td>\n",
              "      <td>Clinton</td>\n",
              "      <td>Dole</td>\n",
              "      <td>54.74</td>\n",
              "      <td>49.430597</td>\n",
              "      <td>-5.309403</td>\n",
              "      <td>5.309403</td>\n",
              "      <td>1.04</td>\n",
              "      <td>28.189758</td>\n",
              "      <td>0</td>\n",
              "    </tr>\n",
              "    <tr>\n",
              "      <th>5</th>\n",
              "      <td>1972</td>\n",
              "      <td>Nixon</td>\n",
              "      <td>McGovern</td>\n",
              "      <td>61.79</td>\n",
              "      <td>57.326760</td>\n",
              "      <td>-4.463240</td>\n",
              "      <td>4.463240</td>\n",
              "      <td>3.62</td>\n",
              "      <td>19.920515</td>\n",
              "      <td>0</td>\n",
              "    </tr>\n",
              "    <tr>\n",
              "      <th>12</th>\n",
              "      <td>2000</td>\n",
              "      <td>Gore</td>\n",
              "      <td>Bush, Jr.</td>\n",
              "      <td>50.27</td>\n",
              "      <td>53.470494</td>\n",
              "      <td>3.200494</td>\n",
              "      <td>3.200494</td>\n",
              "      <td>2.36</td>\n",
              "      <td>10.243163</td>\n",
              "      <td>0</td>\n",
              "    </tr>\n",
              "    <tr>\n",
              "      <th>15</th>\n",
              "      <td>2012</td>\n",
              "      <td>Obama</td>\n",
              "      <td>Romney</td>\n",
              "      <td>52.00</td>\n",
              "      <td>49.155150</td>\n",
              "      <td>-2.844850</td>\n",
              "      <td>2.844850</td>\n",
              "      <td>0.95</td>\n",
              "      <td>8.093173</td>\n",
              "      <td>5</td>\n",
              "    </tr>\n",
              "    <tr>\n",
              "      <th>1</th>\n",
              "      <td>1956</td>\n",
              "      <td>Eisenhower</td>\n",
              "      <td>Stevenson</td>\n",
              "      <td>57.76</td>\n",
              "      <td>55.092574</td>\n",
              "      <td>-2.667426</td>\n",
              "      <td>2.667426</td>\n",
              "      <td>2.89</td>\n",
              "      <td>7.115161</td>\n",
              "      <td>0</td>\n",
              "    </tr>\n",
              "    <tr>\n",
              "      <th>3</th>\n",
              "      <td>1964</td>\n",
              "      <td>Johnson</td>\n",
              "      <td>Goldwater</td>\n",
              "      <td>61.34</td>\n",
              "      <td>59.132471</td>\n",
              "      <td>-2.207529</td>\n",
              "      <td>2.207529</td>\n",
              "      <td>4.21</td>\n",
              "      <td>4.873184</td>\n",
              "      <td>1</td>\n",
              "    </tr>\n",
              "    <tr>\n",
              "      <th>8</th>\n",
              "      <td>1984</td>\n",
              "      <td>Reagan</td>\n",
              "      <td>Mondale</td>\n",
              "      <td>59.17</td>\n",
              "      <td>58.061286</td>\n",
              "      <td>-1.108714</td>\n",
              "      <td>1.108714</td>\n",
              "      <td>3.86</td>\n",
              "      <td>1.229246</td>\n",
              "      <td>0</td>\n",
              "    </tr>\n",
              "    <tr>\n",
              "      <th>2</th>\n",
              "      <td>1960</td>\n",
              "      <td>Nixon</td>\n",
              "      <td>Kennedy</td>\n",
              "      <td>49.91</td>\n",
              "      <td>48.849097</td>\n",
              "      <td>-1.060903</td>\n",
              "      <td>1.060903</td>\n",
              "      <td>0.85</td>\n",
              "      <td>1.125515</td>\n",
              "      <td>0</td>\n",
              "    </tr>\n",
              "    <tr>\n",
              "      <th>10</th>\n",
              "      <td>1992</td>\n",
              "      <td>Bush, Sr.</td>\n",
              "      <td>Clinton</td>\n",
              "      <td>46.55</td>\n",
              "      <td>47.410649</td>\n",
              "      <td>0.860649</td>\n",
              "      <td>0.860649</td>\n",
              "      <td>0.38</td>\n",
              "      <td>0.740716</td>\n",
              "      <td>0</td>\n",
              "    </tr>\n",
              "    <tr>\n",
              "      <th>9</th>\n",
              "      <td>1988</td>\n",
              "      <td>Bush, Sr.</td>\n",
              "      <td>Dukakis</td>\n",
              "      <td>53.94</td>\n",
              "      <td>53.195047</td>\n",
              "      <td>-0.744953</td>\n",
              "      <td>0.744953</td>\n",
              "      <td>2.27</td>\n",
              "      <td>0.554955</td>\n",
              "      <td>0</td>\n",
              "    </tr>\n",
              "    <tr>\n",
              "      <th>6</th>\n",
              "      <td>1976</td>\n",
              "      <td>Ford</td>\n",
              "      <td>Carter</td>\n",
              "      <td>48.95</td>\n",
              "      <td>49.553018</td>\n",
              "      <td>0.603018</td>\n",
              "      <td>0.603018</td>\n",
              "      <td>1.08</td>\n",
              "      <td>0.363631</td>\n",
              "      <td>2</td>\n",
              "    </tr>\n",
              "    <tr>\n",
              "      <th>7</th>\n",
              "      <td>1980</td>\n",
              "      <td>Carter</td>\n",
              "      <td>Reagan</td>\n",
              "      <td>44.70</td>\n",
              "      <td>45.054042</td>\n",
              "      <td>0.354042</td>\n",
              "      <td>0.354042</td>\n",
              "      <td>-0.39</td>\n",
              "      <td>0.125346</td>\n",
              "      <td>0</td>\n",
              "    </tr>\n",
              "    <tr>\n",
              "      <th>13</th>\n",
              "      <td>2004</td>\n",
              "      <td>Bush, Jr.</td>\n",
              "      <td>Kerry</td>\n",
              "      <td>51.24</td>\n",
              "      <td>51.511756</td>\n",
              "      <td>0.271756</td>\n",
              "      <td>0.271756</td>\n",
              "      <td>1.72</td>\n",
              "      <td>0.073851</td>\n",
              "      <td>4</td>\n",
              "    </tr>\n",
              "    <tr>\n",
              "      <th>14</th>\n",
              "      <td>2008</td>\n",
              "      <td>McCain</td>\n",
              "      <td>Obama</td>\n",
              "      <td>46.32</td>\n",
              "      <td>46.553701</td>\n",
              "      <td>0.233701</td>\n",
              "      <td>0.233701</td>\n",
              "      <td>0.10</td>\n",
              "      <td>0.054616</td>\n",
              "      <td>14</td>\n",
              "    </tr>\n",
              "  </tbody>\n",
              "</table>\n",
              "</div>"
            ],
            "text/plain": [
              "    Year Incumbent Party Candidate Other Candidate  \\\n",
              "0   1952                 Stevenson      Eisenhower   \n",
              "4   1968                  Humphrey           Nixon   \n",
              "11  1996                   Clinton            Dole   \n",
              "5   1972                     Nixon        McGovern   \n",
              "12  2000                      Gore       Bush, Jr.   \n",
              "15  2012                     Obama          Romney   \n",
              "1   1956                Eisenhower       Stevenson   \n",
              "3   1964                   Johnson       Goldwater   \n",
              "8   1984                    Reagan         Mondale   \n",
              "2   1960                     Nixon         Kennedy   \n",
              "10  1992                 Bush, Sr.         Clinton   \n",
              "9   1988                 Bush, Sr.         Dukakis   \n",
              "6   1976                      Ford          Carter   \n",
              "7   1980                    Carter          Reagan   \n",
              "13  2004                 Bush, Jr.           Kerry   \n",
              "14  2008                    McCain           Obama   \n",
              "\n",
              "    Incumbent Party Vote Share  Prediction     Error  Absolute Error  \\\n",
              "0                        44.60   53.592915  8.992915        8.992915   \n",
              "4                        49.60   55.490443  5.890443        5.890443   \n",
              "11                       54.74   49.430597 -5.309403        5.309403   \n",
              "5                        61.79   57.326760 -4.463240        4.463240   \n",
              "12                       50.27   53.470494  3.200494        3.200494   \n",
              "15                       52.00   49.155150 -2.844850        2.844850   \n",
              "1                        57.76   55.092574 -2.667426        2.667426   \n",
              "3                        61.34   59.132471 -2.207529        2.207529   \n",
              "8                        59.17   58.061286 -1.108714        1.108714   \n",
              "2                        49.91   48.849097 -1.060903        1.060903   \n",
              "10                       46.55   47.410649  0.860649        0.860649   \n",
              "9                        53.94   53.195047 -0.744953        0.744953   \n",
              "6                        48.95   49.553018  0.603018        0.603018   \n",
              "7                        44.70   45.054042  0.354042        0.354042   \n",
              "13                       51.24   51.511756  0.271756        0.271756   \n",
              "14                       46.32   46.553701  0.233701        0.233701   \n",
              "\n",
              "    Average Recent Growth in Personal Incomes  Square Error  \\\n",
              "0                                        2.40     80.872526   \n",
              "4                                        3.02     34.697316   \n",
              "11                                       1.04     28.189758   \n",
              "5                                        3.62     19.920515   \n",
              "12                                       2.36     10.243163   \n",
              "15                                       0.95      8.093173   \n",
              "1                                        2.89      7.115161   \n",
              "3                                        4.21      4.873184   \n",
              "8                                        3.86      1.229246   \n",
              "2                                        0.85      1.125515   \n",
              "10                                       0.38      0.740716   \n",
              "9                                        2.27      0.554955   \n",
              "6                                        1.08      0.363631   \n",
              "7                                       -0.39      0.125346   \n",
              "13                                       1.72      0.073851   \n",
              "14                                       0.10      0.054616   \n",
              "\n",
              "    US Military Fatalities per Million  \n",
              "0                                  190  \n",
              "4                                  146  \n",
              "11                                   0  \n",
              "5                                    0  \n",
              "12                                   0  \n",
              "15                                   5  \n",
              "1                                    0  \n",
              "3                                    1  \n",
              "8                                    0  \n",
              "2                                    0  \n",
              "10                                   0  \n",
              "9                                    0  \n",
              "6                                    2  \n",
              "7                                    0  \n",
              "13                                   4  \n",
              "14                                  14  "
            ]
          },
          "metadata": {
            "tags": []
          },
          "execution_count": 77
        }
      ]
    },
    {
      "metadata": {
        "id": "YG6lPV8b123f",
        "colab_type": "code",
        "colab": {}
      },
      "cell_type": "code",
      "source": [
        "\"\"\"\n",
        "Fatalities denotes the cumulative number of American military\n",
        "fatalities per millions of US population the in Korea, Vietnam,\n",
        "Iraq and Afghanistan wars during the presidential terms\n",
        "preceding the 1952, 1964, 1968, 1976 and 2004, 2008 and\n",
        "2012 elections.\n",
        "\n",
        "http://www.douglas-hibbs.com/HibbsArticles/HIBBS-PRESVOTE-SLIDES-MELBOURNE-Part1-2014-02-26.pdf\n",
        "\"\"\"\n",
        "\n",
        "columns = ['Year','US Military Fatalities per Million']\n",
        "\n",
        "data = [[1952,190],\n",
        "        [1956,  0],\n",
        "        [1960,  0],\n",
        "        [1964,  1],\n",
        "        [1968,146],\n",
        "        [1972,  0],\n",
        "        [1976,  2],\n",
        "        [1980,  0],\n",
        "        [1984,  0],\n",
        "        [1988,  0],\n",
        "        [1992,  0],\n",
        "        [1996,  0],\n",
        "        [2000,  0],\n",
        "        [2004,  4],\n",
        "        [2008, 14],\n",
        "        [2012,  5]]\n",
        "        \n",
        "deaths = pd.DataFrame(data=data, columns=columns)"
      ],
      "execution_count": 0,
      "outputs": []
    },
    {
      "metadata": {
        "id": "5N9t0IHG123h",
        "colab_type": "code",
        "colab": {}
      },
      "cell_type": "code",
      "source": [
        "df = df.merge(deaths)"
      ],
      "execution_count": 0,
      "outputs": []
    },
    {
      "metadata": {
        "id": "h1DdAls_123l",
        "colab_type": "code",
        "colab": {
          "base_uri": "https://localhost:8080/",
          "height": 567
        },
        "outputId": "f2d07109-05d2-4ab0-ff14-f9afb14042f2"
      },
      "cell_type": "code",
      "source": [
        "features = ['Average Recent Growth in Personal Incomes', \n",
        "            'US Military Fatalities per Million']\n",
        "\n",
        "target = 'Incumbent Party Vote Share'\n",
        "\n",
        "X = df[features]\n",
        "y = df[target]\n",
        "\n",
        "model = sm.OLS(y, sm.add_constant(X))\n",
        "results = model.fit()\n",
        "print(results.summary())"
      ],
      "execution_count": 80,
      "outputs": [
        {
          "output_type": "stream",
          "text": [
            "                                OLS Regression Results                                \n",
            "======================================================================================\n",
            "Dep. Variable:     Incumbent Party Vote Share   R-squared:                       0.871\n",
            "Model:                                    OLS   Adj. R-squared:                  0.851\n",
            "Method:                         Least Squares   F-statistic:                     43.77\n",
            "Date:                        Mon, 29 Apr 2019   Prob (F-statistic):           1.68e-06\n",
            "Time:                                17:57:20   Log-Likelihood:                -33.412\n",
            "No. Observations:                          16   AIC:                             72.82\n",
            "Df Residuals:                              13   BIC:                             75.14\n",
            "Df Model:                                   2                                         \n",
            "Covariance Type:                    nonrobust                                         \n",
            "=============================================================================================================\n",
            "                                                coef    std err          t      P>|t|      [0.025      0.975]\n",
            "-------------------------------------------------------------------------------------------------------------\n",
            "const                                        46.6621      0.937     49.806      0.000      44.638      48.686\n",
            "Average Recent Growth in Personal Incomes     3.4820      0.408      8.527      0.000       2.600       4.364\n",
            "US Military Fatalities per Million           -0.0537      0.010     -5.408      0.000      -0.075      -0.032\n",
            "==============================================================================\n",
            "Omnibus:                        2.475   Durbin-Watson:                   2.607\n",
            "Prob(Omnibus):                  0.290   Jarque-Bera (JB):                0.666\n",
            "Skew:                           0.096   Prob(JB):                        0.717\n",
            "Kurtosis:                       3.981   Cond. No.                         110.\n",
            "==============================================================================\n",
            "\n",
            "Warnings:\n",
            "[1] Standard Errors assume that the covariance matrix of the errors is correctly specified.\n"
          ],
          "name": "stdout"
        },
        {
          "output_type": "stream",
          "text": [
            "/usr/local/lib/python3.6/dist-packages/numpy/core/fromnumeric.py:2389: FutureWarning: Method .ptp is deprecated and will be removed in a future version. Use numpy.ptp instead.\n",
            "  return ptp(axis=axis, out=out, **kwargs)\n",
            "/usr/local/lib/python3.6/dist-packages/scipy/stats/stats.py:1416: UserWarning: kurtosistest only valid for n>=20 ... continuing anyway, n=16\n",
            "  \"anyway, n=%i\" % int(n))\n"
          ],
          "name": "stderr"
        }
      ]
    },
    {
      "metadata": {
        "id": "U5JPDLhp123o",
        "colab_type": "code",
        "colab": {
          "base_uri": "https://localhost:8080/",
          "height": 85
        },
        "outputId": "fac677a9-a5f6-458b-a6fc-8ee0cb08fdc4"
      },
      "cell_type": "code",
      "source": [
        "model = LinearRegression()\n",
        "model.fit(X, y)\n",
        "print('Intercept:', model.intercept_)\n",
        "pd.Series(model.coef_, features)"
      ],
      "execution_count": 81,
      "outputs": [
        {
          "output_type": "stream",
          "text": [
            "Intercept: 46.662064098015115\n"
          ],
          "name": "stdout"
        },
        {
          "output_type": "execute_result",
          "data": {
            "text/plain": [
              "Average Recent Growth in Personal Incomes    3.481956\n",
              "US Military Fatalities per Million          -0.053661\n",
              "dtype: float64"
            ]
          },
          "metadata": {
            "tags": []
          },
          "execution_count": 81
        }
      ]
    },
    {
      "metadata": {
        "id": "wf8q2cEY123p",
        "colab_type": "code",
        "colab": {
          "base_uri": "https://localhost:8080/",
          "height": 34
        },
        "outputId": "91a57527-256a-42b9-bab8-18b9068c508f"
      },
      "cell_type": "code",
      "source": [
        "np.sqrt(mean_squared_error(y, model.predict(X)))"
      ],
      "execution_count": 82,
      "outputs": [
        {
          "output_type": "execute_result",
          "data": {
            "text/plain": [
              "1.9528760602450586"
            ]
          },
          "metadata": {
            "tags": []
          },
          "execution_count": 82
        }
      ]
    },
    {
      "metadata": {
        "id": "TovMOsNi123r",
        "colab_type": "text"
      },
      "cell_type": "markdown",
      "source": [
        "# Train / Test Split"
      ]
    },
    {
      "metadata": {
        "id": "ku5UBe3Z123s",
        "colab_type": "code",
        "colab": {
          "base_uri": "https://localhost:8080/",
          "height": 34
        },
        "outputId": "93724778-3151-4e5e-8d1a-974a3e5ba3ce"
      },
      "cell_type": "code",
      "source": [
        "train = df.query('Year < 2008')\n",
        "test  = df.query('Year >= 2008')\n",
        "X_train = train[features]\n",
        "y_train = train[target]\n",
        "X_test  = test[features]\n",
        "y_test  = test[target]\n",
        "X_train.shape, y_train.shape, X_test.shape, y_test.shape"
      ],
      "execution_count": 93,
      "outputs": [
        {
          "output_type": "execute_result",
          "data": {
            "text/plain": [
              "((14, 2), (14,), (2, 2), (2,))"
            ]
          },
          "metadata": {
            "tags": []
          },
          "execution_count": 93
        }
      ]
    },
    {
      "metadata": {
        "id": "mXWF1eVn123w",
        "colab_type": "code",
        "colab": {
          "base_uri": "https://localhost:8080/",
          "height": 34
        },
        "outputId": "1cb61154-2692-4524-be1f-98dcdf8e8689"
      },
      "cell_type": "code",
      "source": [
        "model.fit(X_train, y_train)\n",
        "model.predict(X_test)"
      ],
      "execution_count": 94,
      "outputs": [
        {
          "output_type": "execute_result",
          "data": {
            "text/plain": [
              "array([45.86970509, 49.39965918])"
            ]
          },
          "metadata": {
            "tags": []
          },
          "execution_count": 94
        }
      ]
    },
    {
      "metadata": {
        "id": "44k2j2sv123z",
        "colab_type": "code",
        "colab": {
          "base_uri": "https://localhost:8080/",
          "height": 145
        },
        "outputId": "74b6faa0-e140-4626-d61e-e5a279c47988"
      },
      "cell_type": "code",
      "source": [
        "test"
      ],
      "execution_count": 95,
      "outputs": [
        {
          "output_type": "execute_result",
          "data": {
            "text/html": [
              "<div>\n",
              "<style scoped>\n",
              "    .dataframe tbody tr th:only-of-type {\n",
              "        vertical-align: middle;\n",
              "    }\n",
              "\n",
              "    .dataframe tbody tr th {\n",
              "        vertical-align: top;\n",
              "    }\n",
              "\n",
              "    .dataframe thead th {\n",
              "        text-align: right;\n",
              "    }\n",
              "</style>\n",
              "<table border=\"1\" class=\"dataframe\">\n",
              "  <thead>\n",
              "    <tr style=\"text-align: right;\">\n",
              "      <th></th>\n",
              "      <th>Year</th>\n",
              "      <th>Incumbent Party Candidate</th>\n",
              "      <th>Other Candidate</th>\n",
              "      <th>Incumbent Party Vote Share</th>\n",
              "      <th>Prediction</th>\n",
              "      <th>Error</th>\n",
              "      <th>Absolute Error</th>\n",
              "      <th>Average Recent Growth in Personal Incomes</th>\n",
              "      <th>Square Error</th>\n",
              "      <th>US Military Fatalities per Million</th>\n",
              "    </tr>\n",
              "  </thead>\n",
              "  <tbody>\n",
              "    <tr>\n",
              "      <th>14</th>\n",
              "      <td>2008</td>\n",
              "      <td>McCain</td>\n",
              "      <td>Obama</td>\n",
              "      <td>46.32</td>\n",
              "      <td>46.553701</td>\n",
              "      <td>0.233701</td>\n",
              "      <td>0.233701</td>\n",
              "      <td>0.10</td>\n",
              "      <td>0.054616</td>\n",
              "      <td>14</td>\n",
              "    </tr>\n",
              "    <tr>\n",
              "      <th>15</th>\n",
              "      <td>2012</td>\n",
              "      <td>Obama</td>\n",
              "      <td>Romney</td>\n",
              "      <td>52.00</td>\n",
              "      <td>49.155150</td>\n",
              "      <td>-2.844850</td>\n",
              "      <td>2.844850</td>\n",
              "      <td>0.95</td>\n",
              "      <td>8.093173</td>\n",
              "      <td>5</td>\n",
              "    </tr>\n",
              "  </tbody>\n",
              "</table>\n",
              "</div>"
            ],
            "text/plain": [
              "    Year Incumbent Party Candidate Other Candidate  \\\n",
              "14  2008                    McCain           Obama   \n",
              "15  2012                     Obama          Romney   \n",
              "\n",
              "    Incumbent Party Vote Share  Prediction     Error  Absolute Error  \\\n",
              "14                       46.32   46.553701  0.233701        0.233701   \n",
              "15                       52.00   49.155150 -2.844850        2.844850   \n",
              "\n",
              "    Average Recent Growth in Personal Incomes  Square Error  \\\n",
              "14                                       0.10      0.054616   \n",
              "15                                       0.95      8.093173   \n",
              "\n",
              "    US Military Fatalities per Million  \n",
              "14                                  14  \n",
              "15                                   5  "
            ]
          },
          "metadata": {
            "tags": []
          },
          "execution_count": 95
        }
      ]
    },
    {
      "metadata": {
        "id": "b-8E5BX81232",
        "colab_type": "text"
      },
      "cell_type": "markdown",
      "source": [
        "### More about the \"Bread & Peace\" model\n",
        "- https://fivethirtyeight.com/features/what-do-economic-models-really-tell-us-about-elections/\n",
        "- https://statmodeling.stat.columbia.edu/2007/12/15/bread_and_peace/\n",
        "- https://avehtari.github.io/RAOS-Examples/ElectionsEconomy/hibbs.html\n",
        "- https://douglas-hibbs.com/\n",
        "- http://www.douglas-hibbs.com/HibbsArticles/HIBBS-PRESVOTE-SLIDES-MELBOURNE-Part1-2014-02-26.pdf"
      ]
    },
    {
      "metadata": {
        "id": "aDWksVbf1233",
        "colab_type": "text"
      },
      "cell_type": "markdown",
      "source": [
        "# Dimensionality in Linear Regression!\n",
        "\n",
        "Muliple Regression is simply an extension of the bivariate case. The reason why we see the bivariate case demonstrated so often is simply because it's easier to graph and all of the intuition from the bivariate case is the same as we keep on adding explanatory variables.\n",
        "\n",
        "As we increase the number of $x$ values in our model we are simply fitting a n-1-dimensional plane to an n-dimensional cloud of points within an n-dimensional hypercube. "
      ]
    },
    {
      "metadata": {
        "id": "eSErkf1J1234",
        "colab_type": "text"
      },
      "cell_type": "markdown",
      "source": [
        "# Interpreting Coefficients\n",
        "\n",
        "One of Linear Regression's strengths is that the parameters of the model (coefficients) are readily interpretable and useful. Not only do they describe the relationship between x and y but they put a number on just how much x is associated with y. We should be careful to not speak about this relationshiop in terms of causality because these coefficients are in fact correlative measures. We would need a host of additional techniques in order to estimate a causal effect using linear regression (econometrics).\n",
        "\n",
        "\\begin{align}\n",
        "\\hat{\\beta} = \\frac{Cov(x,y)}{Var(y)}\n",
        "\\end{align}\n",
        "\n",
        "Going back to the two equations for the two models that we have estimated so far, lets replace their beta values with their actual values to see if we can make sense of how to interpret these beta coefficients."
      ]
    },
    {
      "metadata": {
        "id": "Mrcl_weP1235",
        "colab_type": "text"
      },
      "cell_type": "markdown",
      "source": [
        "## Bivariate Model\n",
        "\n",
        "$y_i = \\beta_0 + \\beta_1temperature + \\epsilon$\n",
        "\n",
        "$sales_i = -596.2 + 24.69temperature + \\epsilon$\n",
        "\n",
        "What might $\\beta_0$ in this model represent? It represents the level of sales that we would have if temperature were 0. Since this is negative one way of interpreting it is that it's so cold outside that you would have to pay people to eat ice cream. A more appropriate interpretation is probably that the ice cream store owner should close his store down long before the temperature reaches 0 degrees farenheit (-17.7 celsius). The owner can compare his predicted sales with his costs of doing business to know how warm the weather has to get before he should open his store.\n",
        "\n",
        "What might the $beta_1$ in this model reprsent? it represents the increase in sales for each degree of temperature increase. For every degree that the temperature goes up outside he has $25 more in sales."
      ]
    },
    {
      "metadata": {
        "id": "1BCj64eR1236",
        "colab_type": "text"
      },
      "cell_type": "markdown",
      "source": [
        "## Multiple Regression Model\n",
        "\n",
        "$y_i = \\beta_0 + \\beta_1age_i + \\beta_2weight_i + \\epsilon$\n",
        "\n",
        "$BloodPressure_i = 30.99+ .86age_i + .33weight_i + \\epsilon$\n",
        "\n",
        "The interpretation of coefficients in this example are similar. The intercept value repesents the blood pressure a person would have if they were 0 years old and weighed 0 pounds. This not a super useful interpretation. If we look at our data it is unlikely that we have any measurements like these in the dataset. This means that our interpretation of our intercept likely comes from extrapolating the regression line (plane). Coefficients having straightforward interpretations is a strength of linear regression if we're careful about extrapolation and only interpreting our data within the context that it was gathered.\n",
        "\n",
        "The interpretation of our other coefficients can be a useful indicator for how much a person similar to those in our dataset's blood pressure will go up on average with each additional year of age and pound of weight."
      ]
    },
    {
      "metadata": {
        "id": "3X7NGUij1237",
        "colab_type": "text"
      },
      "cell_type": "markdown",
      "source": [
        "# Basic Model Validation\n",
        "\n",
        "One of the downsides of relying on $R^2$ too much is that although it tells you when you're fitting the data well, it doesn't tell you when you're *overfitting* the data. The best way to tell if you're overfitting the data is to get some data that your model hasn't seen yet, and evaluate how your predictions do. This is essentially what \"model validation\" is."
      ]
    },
    {
      "metadata": {
        "id": "NVrAKh3S1238",
        "colab_type": "text"
      },
      "cell_type": "markdown",
      "source": [
        "# Why is Linear Regression so Important?\n",
        "\n",
        "## Popularity \n",
        "\n",
        "Linear Regression is an extremely popular technique that every data scientist **needs** to understand. It's not the most advanced technique and there are supervised learning techniques that will obtain a higher accuracy, but where it lacks in accuracy it makes up for it in interpretability and simplicity.\n",
        "\n",
        "## Interpretability\n",
        "\n",
        "Few other models possess coefficients that are so directly linked to their variables with a such a clear interpretation. Tomorrow we're going to learn about ways to make them even easier to interpret.\n",
        "\n",
        "## Simplicity\n",
        "\n",
        "A linear regression model can be communicated just by writing out its equation. It's kind of incredible that such high dimensional relationships can be described from just a linear combination of variables and coefficients. "
      ]
    }
  ]
}