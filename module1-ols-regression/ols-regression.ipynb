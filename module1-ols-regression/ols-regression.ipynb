{
 "cells": [
  {
   "cell_type": "markdown",
   "metadata": {},
   "source": [
    "_Lambda School Data Science_\n",
    "\n",
    "# Ordinary Least Squares Regression\n",
    "\n",
    "## What is Linear Regression?\n",
    "\n",
    "Linear Regression is a statistical model that seeks to describe the relationship between some y variable and one or more x variables. \n",
    "\n",
    "![Linear Regression](https://upload.wikimedia.org/wikipedia/commons/thumb/3/3a/Linear_regression.svg/1200px-Linear_regression.svg.png)\n",
    "\n",
    "In the simplest case, linear regression seeks to fit a straight line through a cloud of points. This line is referred to as the \"regression line\" or \"line of best fit.\" This line tries to summarize the relationship between our X and Y in a way that enables us to use the equation for that line to make predictions.\n",
    "\n",
    "### Synonyms for \"y variable\" \n",
    "- Dependent Variable\n",
    "- Response Variable\n",
    "- Outcome Variable \n",
    "- Predicted Variable\n",
    "- Measured Variable\n",
    "- Explained Variable\n",
    "- Label\n",
    "- Target\n",
    "\n",
    "### Synonyms for \"x variable\"\n",
    "- Independent Variable\n",
    "- Explanatory Variable\n",
    "- Regressor\n",
    "- Covariate\n",
    "- Feature"
   ]
  },
  {
   "cell_type": "markdown",
   "metadata": {},
   "source": [
    "# Simple Linear Regresion (bivariate)\n",
    "\n",
    "## Making Predictions\n",
    "\n",
    "Say that we were trying to create a model that captured the relationship between temperature outside and ice cream sales. In Machine Learning our goal is often different that of other flavors of Linear Regression Analysis, because we're trying to fit a model to this data with the intention of making **predictions** on new data (in the future) that we don't have yet.\n",
    "\n",
    "## What are we trying to predict?\n",
    "\n",
    "So if we had measured ice cream sales and the temprature outside on 11 different days, at the end of our modeling **what would be the thing that we would want to predict? - Ice Cream Sales or Temperature?**\n",
    "\n",
    "We would probably want to be measuring temperature with the intention of using that to **forecast** ice cream sales. If we were able to successfully forecast ice cream sales from temperature, this might help us know beforehand how much ice cream to make or how many cones to buy or on which days to open our store, etc. Being able to make predictions accurately has a lot of business implications. This is why making accurate predictions is so valuable (And in large part is why data scientists are paid so well).\n",
    "\n",
    "### Y Variable Intuition\n",
    "\n",
    "We want the thing that we're trying to predict to serve as our **y** variable. This is why it's sometimes called the \"predicted variable.\" We call it the \"dependent\" variable because our prediction for how much ice cream we're going to sell \"depends\" on the temperature outside. \n",
    "\n",
    "### X Variable Intuition\n",
    "\n",
    "All other variables that we use to predict our y variable (we're going to start off just using one) we call our **x** variables. These are called our \"independent\" variables because they don't *depend* on y, they \"explain\" y. Hence they are also referred to as our \"explanatory\" variables."
   ]
  },
  {
   "cell_type": "code",
   "execution_count": 1,
   "metadata": {},
   "outputs": [],
   "source": [
    "%matplotlib inline\n",
    "from ipywidgets import interact\n",
    "from matplotlib.patches import Rectangle\n",
    "import matplotlib.pyplot as plt\n",
    "import numpy as np\n",
    "import pandas as pd\n",
    "import seaborn as sns\n",
    "from sklearn.linear_model import LinearRegression\n",
    "from sklearn.metrics import mean_absolute_error, mean_squared_error, r2_score\n",
    "import statsmodels.api as sm"
   ]
  },
  {
   "cell_type": "code",
   "execution_count": 2,
   "metadata": {},
   "outputs": [],
   "source": [
    "columns = ['Year','Incumbent Party Candidate','Other Candidate','Incumbent Party Vote Share']\n",
    "\n",
    "data = [[1952,\"Stevenson\",\"Eisenhower\",44.6],\n",
    "        [1956,\"Eisenhower\",\"Stevenson\",57.76],\n",
    "        [1960,\"Nixon\",\"Kennedy\",49.91],\n",
    "        [1964,\"Johnson\",\"Goldwater\",61.34],\n",
    "        [1968,\"Humphrey\",\"Nixon\",49.60],\n",
    "        [1972,\"Nixon\",\"McGovern\",61.79],\n",
    "        [1976,\"Ford\",\"Carter\",48.95],\n",
    "        [1980,\"Carter\",\"Reagan\",44.70],\n",
    "        [1984,\"Reagan\",\"Mondale\",59.17],\n",
    "        [1988,\"Bush, Sr.\",\"Dukakis\",53.94],\n",
    "        [1992,\"Bush, Sr.\",\"Clinton\",46.55],\n",
    "        [1996,\"Clinton\",\"Dole\",54.74],\n",
    "        [2000,\"Gore\",\"Bush, Jr.\",50.27],\n",
    "        [2004,\"Bush, Jr.\",\"Kerry\",51.24],\n",
    "        [2008,\"McCain\",\"Obama\",46.32],\n",
    "        [2012,\"Obama\",\"Romney\",52.00]]\n",
    "        \n",
    "df = pd.DataFrame(data=data, columns=columns)"
   ]
  },
  {
   "cell_type": "code",
   "execution_count": 3,
   "metadata": {},
   "outputs": [
    {
     "data": {
      "text/html": [
       "<div>\n",
       "<style scoped>\n",
       "    .dataframe tbody tr th:only-of-type {\n",
       "        vertical-align: middle;\n",
       "    }\n",
       "\n",
       "    .dataframe tbody tr th {\n",
       "        vertical-align: top;\n",
       "    }\n",
       "\n",
       "    .dataframe thead th {\n",
       "        text-align: right;\n",
       "    }\n",
       "</style>\n",
       "<table border=\"1\" class=\"dataframe\">\n",
       "  <thead>\n",
       "    <tr style=\"text-align: right;\">\n",
       "      <th></th>\n",
       "      <th>Year</th>\n",
       "      <th>Incumbent Party Candidate</th>\n",
       "      <th>Other Candidate</th>\n",
       "      <th>Incumbent Party Vote Share</th>\n",
       "    </tr>\n",
       "  </thead>\n",
       "  <tbody>\n",
       "    <tr>\n",
       "      <th>0</th>\n",
       "      <td>1952</td>\n",
       "      <td>Stevenson</td>\n",
       "      <td>Eisenhower</td>\n",
       "      <td>44.60</td>\n",
       "    </tr>\n",
       "    <tr>\n",
       "      <th>1</th>\n",
       "      <td>1956</td>\n",
       "      <td>Eisenhower</td>\n",
       "      <td>Stevenson</td>\n",
       "      <td>57.76</td>\n",
       "    </tr>\n",
       "    <tr>\n",
       "      <th>2</th>\n",
       "      <td>1960</td>\n",
       "      <td>Nixon</td>\n",
       "      <td>Kennedy</td>\n",
       "      <td>49.91</td>\n",
       "    </tr>\n",
       "    <tr>\n",
       "      <th>3</th>\n",
       "      <td>1964</td>\n",
       "      <td>Johnson</td>\n",
       "      <td>Goldwater</td>\n",
       "      <td>61.34</td>\n",
       "    </tr>\n",
       "    <tr>\n",
       "      <th>4</th>\n",
       "      <td>1968</td>\n",
       "      <td>Humphrey</td>\n",
       "      <td>Nixon</td>\n",
       "      <td>49.60</td>\n",
       "    </tr>\n",
       "    <tr>\n",
       "      <th>5</th>\n",
       "      <td>1972</td>\n",
       "      <td>Nixon</td>\n",
       "      <td>McGovern</td>\n",
       "      <td>61.79</td>\n",
       "    </tr>\n",
       "    <tr>\n",
       "      <th>6</th>\n",
       "      <td>1976</td>\n",
       "      <td>Ford</td>\n",
       "      <td>Carter</td>\n",
       "      <td>48.95</td>\n",
       "    </tr>\n",
       "    <tr>\n",
       "      <th>7</th>\n",
       "      <td>1980</td>\n",
       "      <td>Carter</td>\n",
       "      <td>Reagan</td>\n",
       "      <td>44.70</td>\n",
       "    </tr>\n",
       "    <tr>\n",
       "      <th>8</th>\n",
       "      <td>1984</td>\n",
       "      <td>Reagan</td>\n",
       "      <td>Mondale</td>\n",
       "      <td>59.17</td>\n",
       "    </tr>\n",
       "    <tr>\n",
       "      <th>9</th>\n",
       "      <td>1988</td>\n",
       "      <td>Bush, Sr.</td>\n",
       "      <td>Dukakis</td>\n",
       "      <td>53.94</td>\n",
       "    </tr>\n",
       "    <tr>\n",
       "      <th>10</th>\n",
       "      <td>1992</td>\n",
       "      <td>Bush, Sr.</td>\n",
       "      <td>Clinton</td>\n",
       "      <td>46.55</td>\n",
       "    </tr>\n",
       "    <tr>\n",
       "      <th>11</th>\n",
       "      <td>1996</td>\n",
       "      <td>Clinton</td>\n",
       "      <td>Dole</td>\n",
       "      <td>54.74</td>\n",
       "    </tr>\n",
       "    <tr>\n",
       "      <th>12</th>\n",
       "      <td>2000</td>\n",
       "      <td>Gore</td>\n",
       "      <td>Bush, Jr.</td>\n",
       "      <td>50.27</td>\n",
       "    </tr>\n",
       "    <tr>\n",
       "      <th>13</th>\n",
       "      <td>2004</td>\n",
       "      <td>Bush, Jr.</td>\n",
       "      <td>Kerry</td>\n",
       "      <td>51.24</td>\n",
       "    </tr>\n",
       "    <tr>\n",
       "      <th>14</th>\n",
       "      <td>2008</td>\n",
       "      <td>McCain</td>\n",
       "      <td>Obama</td>\n",
       "      <td>46.32</td>\n",
       "    </tr>\n",
       "    <tr>\n",
       "      <th>15</th>\n",
       "      <td>2012</td>\n",
       "      <td>Obama</td>\n",
       "      <td>Romney</td>\n",
       "      <td>52.00</td>\n",
       "    </tr>\n",
       "  </tbody>\n",
       "</table>\n",
       "</div>"
      ],
      "text/plain": [
       "    Year Incumbent Party Candidate Other Candidate  Incumbent Party Vote Share\n",
       "0   1952                 Stevenson      Eisenhower                       44.60\n",
       "1   1956                Eisenhower       Stevenson                       57.76\n",
       "2   1960                     Nixon         Kennedy                       49.91\n",
       "3   1964                   Johnson       Goldwater                       61.34\n",
       "4   1968                  Humphrey           Nixon                       49.60\n",
       "5   1972                     Nixon        McGovern                       61.79\n",
       "6   1976                      Ford          Carter                       48.95\n",
       "7   1980                    Carter          Reagan                       44.70\n",
       "8   1984                    Reagan         Mondale                       59.17\n",
       "9   1988                 Bush, Sr.         Dukakis                       53.94\n",
       "10  1992                 Bush, Sr.         Clinton                       46.55\n",
       "11  1996                   Clinton            Dole                       54.74\n",
       "12  2000                      Gore       Bush, Jr.                       50.27\n",
       "13  2004                 Bush, Jr.           Kerry                       51.24\n",
       "14  2008                    McCain           Obama                       46.32\n",
       "15  2012                     Obama          Romney                       52.00"
      ]
     },
     "execution_count": 3,
     "metadata": {},
     "output_type": "execute_result"
    }
   ],
   "source": [
    "df"
   ]
  },
  {
   "cell_type": "code",
   "execution_count": 6,
   "metadata": {},
   "outputs": [
    {
     "data": {
      "image/png": "[encoded data removed]",
      "text/plain": [
       "<Figure size 432x288 with 1 Axes>"
      ]
     },
     "metadata": {
      "needs_background": "light"
     },
     "output_type": "display_data"
    }
   ],
   "source": [
    "df.plot(x='Year', y='Incumbent Party Vote Share', kind='line');"
   ]
  },
  {
   "cell_type": "code",
   "execution_count": 7,
   "metadata": {},
   "outputs": [
    {
     "data": {
      "text/plain": [
       "count    16.000000\n",
       "mean     52.055000\n",
       "std       5.608951\n",
       "min      44.600000\n",
       "25%      48.350000\n",
       "50%      50.755000\n",
       "75%      55.495000\n",
       "max      61.790000\n",
       "Name: Incumbent Party Vote Share, dtype: float64"
      ]
     },
     "execution_count": 7,
     "metadata": {},
     "output_type": "execute_result"
    }
   ],
   "source": [
    "df['Incumbent Party Vote Share'].describe()"
   ]
  },
  {
   "cell_type": "code",
   "execution_count": 8,
   "metadata": {},
   "outputs": [],
   "source": [
    "target = 'Incumbent Party Vote Share'\n",
    "df['Prediction'] = df[target].mean()\n",
    "df['Error'] = df['Prediction'] - df[target]"
   ]
  },
  {
   "cell_type": "code",
   "execution_count": 9,
   "metadata": {},
   "outputs": [
    {
     "data": {
      "text/html": [
       "<div>\n",
       "<style scoped>\n",
       "    .dataframe tbody tr th:only-of-type {\n",
       "        vertical-align: middle;\n",
       "    }\n",
       "\n",
       "    .dataframe tbody tr th {\n",
       "        vertical-align: top;\n",
       "    }\n",
       "\n",
       "    .dataframe thead th {\n",
       "        text-align: right;\n",
       "    }\n",
       "</style>\n",
       "<table border=\"1\" class=\"dataframe\">\n",
       "  <thead>\n",
       "    <tr style=\"text-align: right;\">\n",
       "      <th></th>\n",
       "      <th>Year</th>\n",
       "      <th>Incumbent Party Candidate</th>\n",
       "      <th>Other Candidate</th>\n",
       "      <th>Incumbent Party Vote Share</th>\n",
       "      <th>Prediction</th>\n",
       "      <th>Error</th>\n",
       "    </tr>\n",
       "  </thead>\n",
       "  <tbody>\n",
       "    <tr>\n",
       "      <th>0</th>\n",
       "      <td>1952</td>\n",
       "      <td>Stevenson</td>\n",
       "      <td>Eisenhower</td>\n",
       "      <td>44.60</td>\n",
       "      <td>52.055</td>\n",
       "      <td>7.455</td>\n",
       "    </tr>\n",
       "    <tr>\n",
       "      <th>1</th>\n",
       "      <td>1956</td>\n",
       "      <td>Eisenhower</td>\n",
       "      <td>Stevenson</td>\n",
       "      <td>57.76</td>\n",
       "      <td>52.055</td>\n",
       "      <td>-5.705</td>\n",
       "    </tr>\n",
       "    <tr>\n",
       "      <th>2</th>\n",
       "      <td>1960</td>\n",
       "      <td>Nixon</td>\n",
       "      <td>Kennedy</td>\n",
       "      <td>49.91</td>\n",
       "      <td>52.055</td>\n",
       "      <td>2.145</td>\n",
       "    </tr>\n",
       "    <tr>\n",
       "      <th>3</th>\n",
       "      <td>1964</td>\n",
       "      <td>Johnson</td>\n",
       "      <td>Goldwater</td>\n",
       "      <td>61.34</td>\n",
       "      <td>52.055</td>\n",
       "      <td>-9.285</td>\n",
       "    </tr>\n",
       "    <tr>\n",
       "      <th>4</th>\n",
       "      <td>1968</td>\n",
       "      <td>Humphrey</td>\n",
       "      <td>Nixon</td>\n",
       "      <td>49.60</td>\n",
       "      <td>52.055</td>\n",
       "      <td>2.455</td>\n",
       "    </tr>\n",
       "    <tr>\n",
       "      <th>5</th>\n",
       "      <td>1972</td>\n",
       "      <td>Nixon</td>\n",
       "      <td>McGovern</td>\n",
       "      <td>61.79</td>\n",
       "      <td>52.055</td>\n",
       "      <td>-9.735</td>\n",
       "    </tr>\n",
       "    <tr>\n",
       "      <th>6</th>\n",
       "      <td>1976</td>\n",
       "      <td>Ford</td>\n",
       "      <td>Carter</td>\n",
       "      <td>48.95</td>\n",
       "      <td>52.055</td>\n",
       "      <td>3.105</td>\n",
       "    </tr>\n",
       "    <tr>\n",
       "      <th>7</th>\n",
       "      <td>1980</td>\n",
       "      <td>Carter</td>\n",
       "      <td>Reagan</td>\n",
       "      <td>44.70</td>\n",
       "      <td>52.055</td>\n",
       "      <td>7.355</td>\n",
       "    </tr>\n",
       "    <tr>\n",
       "      <th>8</th>\n",
       "      <td>1984</td>\n",
       "      <td>Reagan</td>\n",
       "      <td>Mondale</td>\n",
       "      <td>59.17</td>\n",
       "      <td>52.055</td>\n",
       "      <td>-7.115</td>\n",
       "    </tr>\n",
       "    <tr>\n",
       "      <th>9</th>\n",
       "      <td>1988</td>\n",
       "      <td>Bush, Sr.</td>\n",
       "      <td>Dukakis</td>\n",
       "      <td>53.94</td>\n",
       "      <td>52.055</td>\n",
       "      <td>-1.885</td>\n",
       "    </tr>\n",
       "    <tr>\n",
       "      <th>10</th>\n",
       "      <td>1992</td>\n",
       "      <td>Bush, Sr.</td>\n",
       "      <td>Clinton</td>\n",
       "      <td>46.55</td>\n",
       "      <td>52.055</td>\n",
       "      <td>5.505</td>\n",
       "    </tr>\n",
       "    <tr>\n",
       "      <th>11</th>\n",
       "      <td>1996</td>\n",
       "      <td>Clinton</td>\n",
       "      <td>Dole</td>\n",
       "      <td>54.74</td>\n",
       "      <td>52.055</td>\n",
       "      <td>-2.685</td>\n",
       "    </tr>\n",
       "    <tr>\n",
       "      <th>12</th>\n",
       "      <td>2000</td>\n",
       "      <td>Gore</td>\n",
       "      <td>Bush, Jr.</td>\n",
       "      <td>50.27</td>\n",
       "      <td>52.055</td>\n",
       "      <td>1.785</td>\n",
       "    </tr>\n",
       "    <tr>\n",
       "      <th>13</th>\n",
       "      <td>2004</td>\n",
       "      <td>Bush, Jr.</td>\n",
       "      <td>Kerry</td>\n",
       "      <td>51.24</td>\n",
       "      <td>52.055</td>\n",
       "      <td>0.815</td>\n",
       "    </tr>\n",
       "    <tr>\n",
       "      <th>14</th>\n",
       "      <td>2008</td>\n",
       "      <td>McCain</td>\n",
       "      <td>Obama</td>\n",
       "      <td>46.32</td>\n",
       "      <td>52.055</td>\n",
       "      <td>5.735</td>\n",
       "    </tr>\n",
       "    <tr>\n",
       "      <th>15</th>\n",
       "      <td>2012</td>\n",
       "      <td>Obama</td>\n",
       "      <td>Romney</td>\n",
       "      <td>52.00</td>\n",
       "      <td>52.055</td>\n",
       "      <td>0.055</td>\n",
       "    </tr>\n",
       "  </tbody>\n",
       "</table>\n",
       "</div>"
      ],
      "text/plain": [
       "    Year Incumbent Party Candidate Other Candidate  \\\n",
       "0   1952                 Stevenson      Eisenhower   \n",
       "1   1956                Eisenhower       Stevenson   \n",
       "2   1960                     Nixon         Kennedy   \n",
       "3   1964                   Johnson       Goldwater   \n",
       "4   1968                  Humphrey           Nixon   \n",
       "5   1972                     Nixon        McGovern   \n",
       "6   1976                      Ford          Carter   \n",
       "7   1980                    Carter          Reagan   \n",
       "8   1984                    Reagan         Mondale   \n",
       "9   1988                 Bush, Sr.         Dukakis   \n",
       "10  1992                 Bush, Sr.         Clinton   \n",
       "11  1996                   Clinton            Dole   \n",
       "12  2000                      Gore       Bush, Jr.   \n",
       "13  2004                 Bush, Jr.           Kerry   \n",
       "14  2008                    McCain           Obama   \n",
       "15  2012                     Obama          Romney   \n",
       "\n",
       "    Incumbent Party Vote Share  Prediction  Error  \n",
       "0                        44.60      52.055  7.455  \n",
       "1                        57.76      52.055 -5.705  \n",
       "2                        49.91      52.055  2.145  \n",
       "3                        61.34      52.055 -9.285  \n",
       "4                        49.60      52.055  2.455  \n",
       "5                        61.79      52.055 -9.735  \n",
       "6                        48.95      52.055  3.105  \n",
       "7                        44.70      52.055  7.355  \n",
       "8                        59.17      52.055 -7.115  \n",
       "9                        53.94      52.055 -1.885  \n",
       "10                       46.55      52.055  5.505  \n",
       "11                       54.74      52.055 -2.685  \n",
       "12                       50.27      52.055  1.785  \n",
       "13                       51.24      52.055  0.815  \n",
       "14                       46.32      52.055  5.735  \n",
       "15                       52.00      52.055  0.055  "
      ]
     },
     "execution_count": 9,
     "metadata": {},
     "output_type": "execute_result"
    }
   ],
   "source": [
    "df"
   ]
  },
  {
   "cell_type": "code",
   "execution_count": 10,
   "metadata": {},
   "outputs": [
    {
     "data": {
      "text/plain": [
       "-1.4210854715202004e-14"
      ]
     },
     "execution_count": 10,
     "metadata": {},
     "output_type": "execute_result"
    }
   ],
   "source": [
    "df['Error'].sum()"
   ]
  },
  {
   "cell_type": "code",
   "execution_count": 11,
   "metadata": {},
   "outputs": [
    {
     "data": {
      "text/plain": [
       "72.82"
      ]
     },
     "execution_count": 11,
     "metadata": {},
     "output_type": "execute_result"
    }
   ],
   "source": [
    "df['Absolute Error'] = df['Error'].abs()\n",
    "df['Absolute Error'].sum()"
   ]
  },
  {
   "cell_type": "code",
   "execution_count": 12,
   "metadata": {},
   "outputs": [
    {
     "data": {
      "text/plain": [
       "4.55125"
      ]
     },
     "execution_count": 12,
     "metadata": {},
     "output_type": "execute_result"
    }
   ],
   "source": [
    "df['Absolute Error'].mean()"
   ]
  },
  {
   "cell_type": "code",
   "execution_count": 13,
   "metadata": {},
   "outputs": [
    {
     "data": {
      "text/plain": [
       "4.55125"
      ]
     },
     "execution_count": 13,
     "metadata": {},
     "output_type": "execute_result"
    }
   ],
   "source": [
    "mean_absolute_error(y_true=df[target], y_pred=df['Prediction'])"
   ]
  },
  {
   "cell_type": "markdown",
   "metadata": {},
   "source": [
    "# R Squared:  $R^2$\n",
    "\n",
    "One final attribute of linear regressions that we're going to talk about today is a measure of goodness of fit known as $R^2$ or R-squared. $R^2$ is a statistical measure of how close the data are fitted to our regression line. A helpful interpretation for the $R^2$ is the percentage of the dependent variable that is explained by the model.\n",
    "\n",
    "In other words, the $R^2$ is the percentage of y that is explained by the x variables included in the model. For this reason the $R^2$ is also known as the \"coefficient of determination,\" because it explains how much of y is explained (or determined) by our x varaibles. We won't go into the calculation of $R^2$ today, just know that a higher $R^2$ percentage is nearly always better and indicates a model that fits the data more closely. "
   ]
  },
  {
   "cell_type": "code",
   "execution_count": 14,
   "metadata": {},
   "outputs": [
    {
     "data": {
      "text/plain": [
       "0.0"
      ]
     },
     "execution_count": 14,
     "metadata": {},
     "output_type": "execute_result"
    }
   ],
   "source": [
    "r2_score(y_true=df[target], y_pred=df['Prediction'])"
   ]
  },
  {
   "cell_type": "markdown",
   "metadata": {},
   "source": [
    "# Add additional data"
   ]
  },
  {
   "cell_type": "code",
   "execution_count": 15,
   "metadata": {},
   "outputs": [],
   "source": [
    "columns = ['Year','Average Recent Growth in Personal Incomes']\n",
    "\n",
    "data = [[1952,2.40],\n",
    "        [1956,2.89],\n",
    "        [1960, .85],\n",
    "        [1964,4.21],\n",
    "        [1968,3.02],\n",
    "        [1972,3.62],\n",
    "        [1976,1.08],\n",
    "        [1980,-.39],\n",
    "        [1984,3.86],\n",
    "        [1988,2.27],\n",
    "        [1992, .38],\n",
    "        [1996,1.04],\n",
    "        [2000,2.36],\n",
    "        [2004,1.72],\n",
    "        [2008, .10],\n",
    "        [2012, .95]]\n",
    "        \n",
    "growth = pd.DataFrame(data=data, columns=columns)"
   ]
  },
  {
   "cell_type": "code",
   "execution_count": 16,
   "metadata": {},
   "outputs": [
    {
     "data": {
      "text/html": [
       "<div>\n",
       "<style scoped>\n",
       "    .dataframe tbody tr th:only-of-type {\n",
       "        vertical-align: middle;\n",
       "    }\n",
       "\n",
       "    .dataframe tbody tr th {\n",
       "        vertical-align: top;\n",
       "    }\n",
       "\n",
       "    .dataframe thead th {\n",
       "        text-align: right;\n",
       "    }\n",
       "</style>\n",
       "<table border=\"1\" class=\"dataframe\">\n",
       "  <thead>\n",
       "    <tr style=\"text-align: right;\">\n",
       "      <th></th>\n",
       "      <th>Year</th>\n",
       "      <th>Incumbent Party Candidate</th>\n",
       "      <th>Other Candidate</th>\n",
       "      <th>Incumbent Party Vote Share</th>\n",
       "      <th>Prediction</th>\n",
       "      <th>Error</th>\n",
       "      <th>Absolute Error</th>\n",
       "      <th>Average Recent Growth in Personal Incomes</th>\n",
       "    </tr>\n",
       "  </thead>\n",
       "  <tbody>\n",
       "    <tr>\n",
       "      <th>0</th>\n",
       "      <td>1952</td>\n",
       "      <td>Stevenson</td>\n",
       "      <td>Eisenhower</td>\n",
       "      <td>44.60</td>\n",
       "      <td>52.055</td>\n",
       "      <td>7.455</td>\n",
       "      <td>7.455</td>\n",
       "      <td>2.40</td>\n",
       "    </tr>\n",
       "    <tr>\n",
       "      <th>1</th>\n",
       "      <td>1956</td>\n",
       "      <td>Eisenhower</td>\n",
       "      <td>Stevenson</td>\n",
       "      <td>57.76</td>\n",
       "      <td>52.055</td>\n",
       "      <td>-5.705</td>\n",
       "      <td>5.705</td>\n",
       "      <td>2.89</td>\n",
       "    </tr>\n",
       "    <tr>\n",
       "      <th>2</th>\n",
       "      <td>1960</td>\n",
       "      <td>Nixon</td>\n",
       "      <td>Kennedy</td>\n",
       "      <td>49.91</td>\n",
       "      <td>52.055</td>\n",
       "      <td>2.145</td>\n",
       "      <td>2.145</td>\n",
       "      <td>0.85</td>\n",
       "    </tr>\n",
       "    <tr>\n",
       "      <th>3</th>\n",
       "      <td>1964</td>\n",
       "      <td>Johnson</td>\n",
       "      <td>Goldwater</td>\n",
       "      <td>61.34</td>\n",
       "      <td>52.055</td>\n",
       "      <td>-9.285</td>\n",
       "      <td>9.285</td>\n",
       "      <td>4.21</td>\n",
       "    </tr>\n",
       "    <tr>\n",
       "      <th>4</th>\n",
       "      <td>1968</td>\n",
       "      <td>Humphrey</td>\n",
       "      <td>Nixon</td>\n",
       "      <td>49.60</td>\n",
       "      <td>52.055</td>\n",
       "      <td>2.455</td>\n",
       "      <td>2.455</td>\n",
       "      <td>3.02</td>\n",
       "    </tr>\n",
       "    <tr>\n",
       "      <th>5</th>\n",
       "      <td>1972</td>\n",
       "      <td>Nixon</td>\n",
       "      <td>McGovern</td>\n",
       "      <td>61.79</td>\n",
       "      <td>52.055</td>\n",
       "      <td>-9.735</td>\n",
       "      <td>9.735</td>\n",
       "      <td>3.62</td>\n",
       "    </tr>\n",
       "    <tr>\n",
       "      <th>6</th>\n",
       "      <td>1976</td>\n",
       "      <td>Ford</td>\n",
       "      <td>Carter</td>\n",
       "      <td>48.95</td>\n",
       "      <td>52.055</td>\n",
       "      <td>3.105</td>\n",
       "      <td>3.105</td>\n",
       "      <td>1.08</td>\n",
       "    </tr>\n",
       "    <tr>\n",
       "      <th>7</th>\n",
       "      <td>1980</td>\n",
       "      <td>Carter</td>\n",
       "      <td>Reagan</td>\n",
       "      <td>44.70</td>\n",
       "      <td>52.055</td>\n",
       "      <td>7.355</td>\n",
       "      <td>7.355</td>\n",
       "      <td>-0.39</td>\n",
       "    </tr>\n",
       "    <tr>\n",
       "      <th>8</th>\n",
       "      <td>1984</td>\n",
       "      <td>Reagan</td>\n",
       "      <td>Mondale</td>\n",
       "      <td>59.17</td>\n",
       "      <td>52.055</td>\n",
       "      <td>-7.115</td>\n",
       "      <td>7.115</td>\n",
       "      <td>3.86</td>\n",
       "    </tr>\n",
       "    <tr>\n",
       "      <th>9</th>\n",
       "      <td>1988</td>\n",
       "      <td>Bush, Sr.</td>\n",
       "      <td>Dukakis</td>\n",
       "      <td>53.94</td>\n",
       "      <td>52.055</td>\n",
       "      <td>-1.885</td>\n",
       "      <td>1.885</td>\n",
       "      <td>2.27</td>\n",
       "    </tr>\n",
       "    <tr>\n",
       "      <th>10</th>\n",
       "      <td>1992</td>\n",
       "      <td>Bush, Sr.</td>\n",
       "      <td>Clinton</td>\n",
       "      <td>46.55</td>\n",
       "      <td>52.055</td>\n",
       "      <td>5.505</td>\n",
       "      <td>5.505</td>\n",
       "      <td>0.38</td>\n",
       "    </tr>\n",
       "    <tr>\n",
       "      <th>11</th>\n",
       "      <td>1996</td>\n",
       "      <td>Clinton</td>\n",
       "      <td>Dole</td>\n",
       "      <td>54.74</td>\n",
       "      <td>52.055</td>\n",
       "      <td>-2.685</td>\n",
       "      <td>2.685</td>\n",
       "      <td>1.04</td>\n",
       "    </tr>\n",
       "    <tr>\n",
       "      <th>12</th>\n",
       "      <td>2000</td>\n",
       "      <td>Gore</td>\n",
       "      <td>Bush, Jr.</td>\n",
       "      <td>50.27</td>\n",
       "      <td>52.055</td>\n",
       "      <td>1.785</td>\n",
       "      <td>1.785</td>\n",
       "      <td>2.36</td>\n",
       "    </tr>\n",
       "    <tr>\n",
       "      <th>13</th>\n",
       "      <td>2004</td>\n",
       "      <td>Bush, Jr.</td>\n",
       "      <td>Kerry</td>\n",
       "      <td>51.24</td>\n",
       "      <td>52.055</td>\n",
       "      <td>0.815</td>\n",
       "      <td>0.815</td>\n",
       "      <td>1.72</td>\n",
       "    </tr>\n",
       "    <tr>\n",
       "      <th>14</th>\n",
       "      <td>2008</td>\n",
       "      <td>McCain</td>\n",
       "      <td>Obama</td>\n",
       "      <td>46.32</td>\n",
       "      <td>52.055</td>\n",
       "      <td>5.735</td>\n",
       "      <td>5.735</td>\n",
       "      <td>0.10</td>\n",
       "    </tr>\n",
       "    <tr>\n",
       "      <th>15</th>\n",
       "      <td>2012</td>\n",
       "      <td>Obama</td>\n",
       "      <td>Romney</td>\n",
       "      <td>52.00</td>\n",
       "      <td>52.055</td>\n",
       "      <td>0.055</td>\n",
       "      <td>0.055</td>\n",
       "      <td>0.95</td>\n",
       "    </tr>\n",
       "  </tbody>\n",
       "</table>\n",
       "</div>"
      ],
      "text/plain": [
       "    Year Incumbent Party Candidate Other Candidate  \\\n",
       "0   1952                 Stevenson      Eisenhower   \n",
       "1   1956                Eisenhower       Stevenson   \n",
       "2   1960                     Nixon         Kennedy   \n",
       "3   1964                   Johnson       Goldwater   \n",
       "4   1968                  Humphrey           Nixon   \n",
       "5   1972                     Nixon        McGovern   \n",
       "6   1976                      Ford          Carter   \n",
       "7   1980                    Carter          Reagan   \n",
       "8   1984                    Reagan         Mondale   \n",
       "9   1988                 Bush, Sr.         Dukakis   \n",
       "10  1992                 Bush, Sr.         Clinton   \n",
       "11  1996                   Clinton            Dole   \n",
       "12  2000                      Gore       Bush, Jr.   \n",
       "13  2004                 Bush, Jr.           Kerry   \n",
       "14  2008                    McCain           Obama   \n",
       "15  2012                     Obama          Romney   \n",
       "\n",
       "    Incumbent Party Vote Share  Prediction  Error  Absolute Error  \\\n",
       "0                        44.60      52.055  7.455           7.455   \n",
       "1                        57.76      52.055 -5.705           5.705   \n",
       "2                        49.91      52.055  2.145           2.145   \n",
       "3                        61.34      52.055 -9.285           9.285   \n",
       "4                        49.60      52.055  2.455           2.455   \n",
       "5                        61.79      52.055 -9.735           9.735   \n",
       "6                        48.95      52.055  3.105           3.105   \n",
       "7                        44.70      52.055  7.355           7.355   \n",
       "8                        59.17      52.055 -7.115           7.115   \n",
       "9                        53.94      52.055 -1.885           1.885   \n",
       "10                       46.55      52.055  5.505           5.505   \n",
       "11                       54.74      52.055 -2.685           2.685   \n",
       "12                       50.27      52.055  1.785           1.785   \n",
       "13                       51.24      52.055  0.815           0.815   \n",
       "14                       46.32      52.055  5.735           5.735   \n",
       "15                       52.00      52.055  0.055           0.055   \n",
       "\n",
       "    Average Recent Growth in Personal Incomes  \n",
       "0                                        2.40  \n",
       "1                                        2.89  \n",
       "2                                        0.85  \n",
       "3                                        4.21  \n",
       "4                                        3.02  \n",
       "5                                        3.62  \n",
       "6                                        1.08  \n",
       "7                                       -0.39  \n",
       "8                                        3.86  \n",
       "9                                        2.27  \n",
       "10                                       0.38  \n",
       "11                                       1.04  \n",
       "12                                       2.36  \n",
       "13                                       1.72  \n",
       "14                                       0.10  \n",
       "15                                       0.95  "
      ]
     },
     "execution_count": 16,
     "metadata": {},
     "output_type": "execute_result"
    }
   ],
   "source": [
    "df = df.merge(growth)\n",
    "df"
   ]
  },
  {
   "cell_type": "code",
   "execution_count": 17,
   "metadata": {},
   "outputs": [],
   "source": [
    "feature = 'Average Recent Growth in Personal Incomes'"
   ]
  },
  {
   "cell_type": "code",
   "execution_count": 18,
   "metadata": {},
   "outputs": [
    {
     "data": {
      "image/png": "[encoded data removed]",
      "text/plain": [
       "<Figure size 432x288 with 1 Axes>"
      ]
     },
     "metadata": {
      "needs_background": "light"
     },
     "output_type": "display_data"
    }
   ],
   "source": [
    "df.plot(x=feature, y=target, kind='scatter');"
   ]
  },
  {
   "cell_type": "markdown",
   "metadata": {},
   "source": [
    "We can see from the scatterplot that these data points seem to follow a somewhat linear relationship. This means that we could probably summarize their relationship well by fitting a line of best fit to these points. Lets do it.\n",
    "\n",
    "\n",
    "## The Equation for a Line\n",
    "\n",
    "As we know a common equation for a line is:\n",
    "\n",
    "\\begin{align}\n",
    "y = mx + b\n",
    "\\end{align}\n",
    "\n",
    "Where $m$ is the slope of our line and $b$ is the y-intercept. \n",
    "\n",
    "If we want to plot a line through our cloud of points we figure out what these two values should be. Linear Regression seeks to **estimate** the slope and intercept values that describe a line that best fits the data points."
   ]
  },
  {
   "cell_type": "code",
   "execution_count": 19,
   "metadata": {},
   "outputs": [
    {
     "data": {
      "text/plain": [
       "45.27999999999999"
      ]
     },
     "execution_count": 19,
     "metadata": {},
     "output_type": "execute_result"
    }
   ],
   "source": [
    "m = 4\n",
    "b = 44\n",
    "df['Prediction'] = m * df[feature] + b\n",
    "df['Error'] = df['Prediction'] - df[target]\n",
    "df['Absolute Error'] = df['Error'].abs()\n",
    "df['Absolute Error'].sum()"
   ]
  },
  {
   "cell_type": "code",
   "execution_count": 20,
   "metadata": {},
   "outputs": [
    {
     "data": {
      "text/plain": [
       "2.829999999999999"
      ]
     },
     "execution_count": 20,
     "metadata": {},
     "output_type": "execute_result"
    }
   ],
   "source": [
    "df['Absolute Error'].mean()"
   ]
  },
  {
   "cell_type": "code",
   "execution_count": 21,
   "metadata": {},
   "outputs": [
    {
     "data": {
      "text/plain": [
       "0.5178779627255485"
      ]
     },
     "execution_count": 21,
     "metadata": {},
     "output_type": "execute_result"
    }
   ],
   "source": [
    "r2_score(y_true=df[target], y_pred=df['Prediction'])"
   ]
  },
  {
   "cell_type": "code",
   "execution_count": 22,
   "metadata": {},
   "outputs": [
    {
     "data": {
      "image/png": "[encoded data removed]",
      "text/plain": [
       "<Figure size 432x288 with 1 Axes>"
      ]
     },
     "metadata": {
      "needs_background": "light"
     },
     "output_type": "display_data"
    }
   ],
   "source": [
    "ax = df.plot(x=feature, y=target, kind='scatter')\n",
    "df.plot(x=feature, y='Prediction', kind='line', ax=ax);"
   ]
  },
  {
   "cell_type": "code",
   "execution_count": 23,
   "metadata": {},
   "outputs": [
    {
     "data": {
      "image/png": "[encoded data removed]",
      "text/plain": [
       "<Figure size 504x504 with 1 Axes>"
      ]
     },
     "metadata": {
      "needs_background": "light"
     },
     "output_type": "display_data"
    }
   ],
   "source": [
    "def regression(m, b):\n",
    "    df['Prediction'] = m * df[feature] + b\n",
    "    df['Error'] = df['Prediction'] - df[target]\n",
    "    df['Absolute Error'] = df['Error'].abs()\n",
    "    sum_absolute_error = df['Absolute Error'].sum()\n",
    "    \n",
    "    title = f'Sum of absolute errors: {sum_absolute_error}'\n",
    "    ax = df.plot(x=feature, y=target, kind='scatter', title=title, figsize=(7, 7))\n",
    "    df.plot(x=feature, y='Prediction', kind='line', ax=ax)\n",
    "    \n",
    "regression(m=4, b=48)"
   ]
  },
  {
   "cell_type": "markdown",
   "metadata": {},
   "source": [
    "## Residual Error \n",
    "\n",
    "The residual error is the distance between points in our dataset and our regression line."
   ]
  },
  {
   "cell_type": "code",
   "execution_count": 24,
   "metadata": {},
   "outputs": [
    {
     "data": {
      "image/png": "[encoded data removed]",
      "text/plain": [
       "<Figure size 504x504 with 1 Axes>"
      ]
     },
     "metadata": {
      "needs_background": "light"
     },
     "output_type": "display_data"
    }
   ],
   "source": [
    "def regression(m, b):\n",
    "    df['Prediction'] = m * df[feature] + b\n",
    "    df['Error'] = df['Prediction'] - df[target]\n",
    "    df['Absolute Error'] = df['Error'].abs()\n",
    "    sum_absolute_error = df['Absolute Error'].sum()\n",
    "    \n",
    "    title = f'Sum of absolute errors: {sum_absolute_error}'\n",
    "    ax = df.plot(x=feature, y=target, kind='scatter', title=title, figsize=(7, 7))\n",
    "    df.plot(x=feature, y='Prediction', kind='line', ax=ax)\n",
    "    \n",
    "    for x, y1, y2 in zip(df[feature], df[target], df['Prediction']):\n",
    "        ax.plot((x, x), (y1, y2), color='grey')\n",
    "\n",
    "regression(m=3, b=46)"
   ]
  },
  {
   "cell_type": "code",
   "execution_count": 25,
   "metadata": {},
   "outputs": [
    {
     "data": {
      "application/vnd.jupyter.widget-view+json": {
       "model_id": "c40b472bf14845e7b973d64656f1801c",
       "version_major": 2,
       "version_minor": 0
      },
      "text/plain": [
       "interactive(children=(FloatSlider(value=0.0, description='m', max=10.0, min=-10.0, step=0.5), FloatSlider(valu…"
      ]
     },
     "metadata": {},
     "output_type": "display_data"
    }
   ],
   "source": [
    "interact(regression, m=(-10,10,0.5), b=(40,60,0.5));"
   ]
  },
  {
   "cell_type": "code",
   "execution_count": 26,
   "metadata": {},
   "outputs": [
    {
     "data": {
      "text/html": [
       "<div>\n",
       "<style scoped>\n",
       "    .dataframe tbody tr th:only-of-type {\n",
       "        vertical-align: middle;\n",
       "    }\n",
       "\n",
       "    .dataframe tbody tr th {\n",
       "        vertical-align: top;\n",
       "    }\n",
       "\n",
       "    .dataframe thead th {\n",
       "        text-align: right;\n",
       "    }\n",
       "</style>\n",
       "<table border=\"1\" class=\"dataframe\">\n",
       "  <thead>\n",
       "    <tr style=\"text-align: right;\">\n",
       "      <th></th>\n",
       "      <th>Year</th>\n",
       "      <th>Incumbent Party Candidate</th>\n",
       "      <th>Other Candidate</th>\n",
       "      <th>Incumbent Party Vote Share</th>\n",
       "      <th>Prediction</th>\n",
       "      <th>Error</th>\n",
       "      <th>Absolute Error</th>\n",
       "      <th>Average Recent Growth in Personal Incomes</th>\n",
       "    </tr>\n",
       "  </thead>\n",
       "  <tbody>\n",
       "    <tr>\n",
       "      <th>0</th>\n",
       "      <td>1952</td>\n",
       "      <td>Stevenson</td>\n",
       "      <td>Eisenhower</td>\n",
       "      <td>44.60</td>\n",
       "      <td>54.400</td>\n",
       "      <td>9.800</td>\n",
       "      <td>9.800</td>\n",
       "      <td>2.40</td>\n",
       "    </tr>\n",
       "    <tr>\n",
       "      <th>1</th>\n",
       "      <td>1956</td>\n",
       "      <td>Eisenhower</td>\n",
       "      <td>Stevenson</td>\n",
       "      <td>57.76</td>\n",
       "      <td>56.115</td>\n",
       "      <td>-1.645</td>\n",
       "      <td>1.645</td>\n",
       "      <td>2.89</td>\n",
       "    </tr>\n",
       "    <tr>\n",
       "      <th>2</th>\n",
       "      <td>1960</td>\n",
       "      <td>Nixon</td>\n",
       "      <td>Kennedy</td>\n",
       "      <td>49.91</td>\n",
       "      <td>48.975</td>\n",
       "      <td>-0.935</td>\n",
       "      <td>0.935</td>\n",
       "      <td>0.85</td>\n",
       "    </tr>\n",
       "    <tr>\n",
       "      <th>3</th>\n",
       "      <td>1964</td>\n",
       "      <td>Johnson</td>\n",
       "      <td>Goldwater</td>\n",
       "      <td>61.34</td>\n",
       "      <td>60.735</td>\n",
       "      <td>-0.605</td>\n",
       "      <td>0.605</td>\n",
       "      <td>4.21</td>\n",
       "    </tr>\n",
       "    <tr>\n",
       "      <th>4</th>\n",
       "      <td>1968</td>\n",
       "      <td>Humphrey</td>\n",
       "      <td>Nixon</td>\n",
       "      <td>49.60</td>\n",
       "      <td>56.570</td>\n",
       "      <td>6.970</td>\n",
       "      <td>6.970</td>\n",
       "      <td>3.02</td>\n",
       "    </tr>\n",
       "    <tr>\n",
       "      <th>5</th>\n",
       "      <td>1972</td>\n",
       "      <td>Nixon</td>\n",
       "      <td>McGovern</td>\n",
       "      <td>61.79</td>\n",
       "      <td>58.670</td>\n",
       "      <td>-3.120</td>\n",
       "      <td>3.120</td>\n",
       "      <td>3.62</td>\n",
       "    </tr>\n",
       "    <tr>\n",
       "      <th>6</th>\n",
       "      <td>1976</td>\n",
       "      <td>Ford</td>\n",
       "      <td>Carter</td>\n",
       "      <td>48.95</td>\n",
       "      <td>49.780</td>\n",
       "      <td>0.830</td>\n",
       "      <td>0.830</td>\n",
       "      <td>1.08</td>\n",
       "    </tr>\n",
       "    <tr>\n",
       "      <th>7</th>\n",
       "      <td>1980</td>\n",
       "      <td>Carter</td>\n",
       "      <td>Reagan</td>\n",
       "      <td>44.70</td>\n",
       "      <td>44.635</td>\n",
       "      <td>-0.065</td>\n",
       "      <td>0.065</td>\n",
       "      <td>-0.39</td>\n",
       "    </tr>\n",
       "    <tr>\n",
       "      <th>8</th>\n",
       "      <td>1984</td>\n",
       "      <td>Reagan</td>\n",
       "      <td>Mondale</td>\n",
       "      <td>59.17</td>\n",
       "      <td>59.510</td>\n",
       "      <td>0.340</td>\n",
       "      <td>0.340</td>\n",
       "      <td>3.86</td>\n",
       "    </tr>\n",
       "    <tr>\n",
       "      <th>9</th>\n",
       "      <td>1988</td>\n",
       "      <td>Bush, Sr.</td>\n",
       "      <td>Dukakis</td>\n",
       "      <td>53.94</td>\n",
       "      <td>53.945</td>\n",
       "      <td>0.005</td>\n",
       "      <td>0.005</td>\n",
       "      <td>2.27</td>\n",
       "    </tr>\n",
       "    <tr>\n",
       "      <th>10</th>\n",
       "      <td>1992</td>\n",
       "      <td>Bush, Sr.</td>\n",
       "      <td>Clinton</td>\n",
       "      <td>46.55</td>\n",
       "      <td>47.330</td>\n",
       "      <td>0.780</td>\n",
       "      <td>0.780</td>\n",
       "      <td>0.38</td>\n",
       "    </tr>\n",
       "    <tr>\n",
       "      <th>11</th>\n",
       "      <td>1996</td>\n",
       "      <td>Clinton</td>\n",
       "      <td>Dole</td>\n",
       "      <td>54.74</td>\n",
       "      <td>49.640</td>\n",
       "      <td>-5.100</td>\n",
       "      <td>5.100</td>\n",
       "      <td>1.04</td>\n",
       "    </tr>\n",
       "    <tr>\n",
       "      <th>12</th>\n",
       "      <td>2000</td>\n",
       "      <td>Gore</td>\n",
       "      <td>Bush, Jr.</td>\n",
       "      <td>50.27</td>\n",
       "      <td>54.260</td>\n",
       "      <td>3.990</td>\n",
       "      <td>3.990</td>\n",
       "      <td>2.36</td>\n",
       "    </tr>\n",
       "    <tr>\n",
       "      <th>13</th>\n",
       "      <td>2004</td>\n",
       "      <td>Bush, Jr.</td>\n",
       "      <td>Kerry</td>\n",
       "      <td>51.24</td>\n",
       "      <td>52.020</td>\n",
       "      <td>0.780</td>\n",
       "      <td>0.780</td>\n",
       "      <td>1.72</td>\n",
       "    </tr>\n",
       "    <tr>\n",
       "      <th>14</th>\n",
       "      <td>2008</td>\n",
       "      <td>McCain</td>\n",
       "      <td>Obama</td>\n",
       "      <td>46.32</td>\n",
       "      <td>46.350</td>\n",
       "      <td>0.030</td>\n",
       "      <td>0.030</td>\n",
       "      <td>0.10</td>\n",
       "    </tr>\n",
       "    <tr>\n",
       "      <th>15</th>\n",
       "      <td>2012</td>\n",
       "      <td>Obama</td>\n",
       "      <td>Romney</td>\n",
       "      <td>52.00</td>\n",
       "      <td>49.325</td>\n",
       "      <td>-2.675</td>\n",
       "      <td>2.675</td>\n",
       "      <td>0.95</td>\n",
       "    </tr>\n",
       "  </tbody>\n",
       "</table>\n",
       "</div>"
      ],
      "text/plain": [
       "    Year Incumbent Party Candidate Other Candidate  \\\n",
       "0   1952                 Stevenson      Eisenhower   \n",
       "1   1956                Eisenhower       Stevenson   \n",
       "2   1960                     Nixon         Kennedy   \n",
       "3   1964                   Johnson       Goldwater   \n",
       "4   1968                  Humphrey           Nixon   \n",
       "5   1972                     Nixon        McGovern   \n",
       "6   1976                      Ford          Carter   \n",
       "7   1980                    Carter          Reagan   \n",
       "8   1984                    Reagan         Mondale   \n",
       "9   1988                 Bush, Sr.         Dukakis   \n",
       "10  1992                 Bush, Sr.         Clinton   \n",
       "11  1996                   Clinton            Dole   \n",
       "12  2000                      Gore       Bush, Jr.   \n",
       "13  2004                 Bush, Jr.           Kerry   \n",
       "14  2008                    McCain           Obama   \n",
       "15  2012                     Obama          Romney   \n",
       "\n",
       "    Incumbent Party Vote Share  Prediction  Error  Absolute Error  \\\n",
       "0                        44.60      54.400  9.800           9.800   \n",
       "1                        57.76      56.115 -1.645           1.645   \n",
       "2                        49.91      48.975 -0.935           0.935   \n",
       "3                        61.34      60.735 -0.605           0.605   \n",
       "4                        49.60      56.570  6.970           6.970   \n",
       "5                        61.79      58.670 -3.120           3.120   \n",
       "6                        48.95      49.780  0.830           0.830   \n",
       "7                        44.70      44.635 -0.065           0.065   \n",
       "8                        59.17      59.510  0.340           0.340   \n",
       "9                        53.94      53.945  0.005           0.005   \n",
       "10                       46.55      47.330  0.780           0.780   \n",
       "11                       54.74      49.640 -5.100           5.100   \n",
       "12                       50.27      54.260  3.990           3.990   \n",
       "13                       51.24      52.020  0.780           0.780   \n",
       "14                       46.32      46.350  0.030           0.030   \n",
       "15                       52.00      49.325 -2.675           2.675   \n",
       "\n",
       "    Average Recent Growth in Personal Incomes  \n",
       "0                                        2.40  \n",
       "1                                        2.89  \n",
       "2                                        0.85  \n",
       "3                                        4.21  \n",
       "4                                        3.02  \n",
       "5                                        3.62  \n",
       "6                                        1.08  \n",
       "7                                       -0.39  \n",
       "8                                        3.86  \n",
       "9                                        2.27  \n",
       "10                                       0.38  \n",
       "11                                       1.04  \n",
       "12                                       2.36  \n",
       "13                                       1.72  \n",
       "14                                       0.10  \n",
       "15                                       0.95  "
      ]
     },
     "execution_count": 26,
     "metadata": {},
     "output_type": "execute_result"
    }
   ],
   "source": [
    "df"
   ]
  },
  {
   "cell_type": "code",
   "execution_count": 27,
   "metadata": {},
   "outputs": [],
   "source": [
    "df['Square Error'] = df['Error'] **2"
   ]
  },
  {
   "cell_type": "code",
   "execution_count": 28,
   "metadata": {},
   "outputs": [
    {
     "data": {
      "text/html": [
       "<div>\n",
       "<style scoped>\n",
       "    .dataframe tbody tr th:only-of-type {\n",
       "        vertical-align: middle;\n",
       "    }\n",
       "\n",
       "    .dataframe tbody tr th {\n",
       "        vertical-align: top;\n",
       "    }\n",
       "\n",
       "    .dataframe thead th {\n",
       "        text-align: right;\n",
       "    }\n",
       "</style>\n",
       "<table border=\"1\" class=\"dataframe\">\n",
       "  <thead>\n",
       "    <tr style=\"text-align: right;\">\n",
       "      <th></th>\n",
       "      <th>Year</th>\n",
       "      <th>Incumbent Party Candidate</th>\n",
       "      <th>Other Candidate</th>\n",
       "      <th>Incumbent Party Vote Share</th>\n",
       "      <th>Prediction</th>\n",
       "      <th>Error</th>\n",
       "      <th>Absolute Error</th>\n",
       "      <th>Average Recent Growth in Personal Incomes</th>\n",
       "      <th>Square Error</th>\n",
       "    </tr>\n",
       "  </thead>\n",
       "  <tbody>\n",
       "    <tr>\n",
       "      <th>0</th>\n",
       "      <td>1952</td>\n",
       "      <td>Stevenson</td>\n",
       "      <td>Eisenhower</td>\n",
       "      <td>44.60</td>\n",
       "      <td>54.400</td>\n",
       "      <td>9.800</td>\n",
       "      <td>9.800</td>\n",
       "      <td>2.40</td>\n",
       "      <td>96.040000</td>\n",
       "    </tr>\n",
       "    <tr>\n",
       "      <th>1</th>\n",
       "      <td>1956</td>\n",
       "      <td>Eisenhower</td>\n",
       "      <td>Stevenson</td>\n",
       "      <td>57.76</td>\n",
       "      <td>56.115</td>\n",
       "      <td>-1.645</td>\n",
       "      <td>1.645</td>\n",
       "      <td>2.89</td>\n",
       "      <td>2.706025</td>\n",
       "    </tr>\n",
       "    <tr>\n",
       "      <th>2</th>\n",
       "      <td>1960</td>\n",
       "      <td>Nixon</td>\n",
       "      <td>Kennedy</td>\n",
       "      <td>49.91</td>\n",
       "      <td>48.975</td>\n",
       "      <td>-0.935</td>\n",
       "      <td>0.935</td>\n",
       "      <td>0.85</td>\n",
       "      <td>0.874225</td>\n",
       "    </tr>\n",
       "    <tr>\n",
       "      <th>3</th>\n",
       "      <td>1964</td>\n",
       "      <td>Johnson</td>\n",
       "      <td>Goldwater</td>\n",
       "      <td>61.34</td>\n",
       "      <td>60.735</td>\n",
       "      <td>-0.605</td>\n",
       "      <td>0.605</td>\n",
       "      <td>4.21</td>\n",
       "      <td>0.366025</td>\n",
       "    </tr>\n",
       "    <tr>\n",
       "      <th>4</th>\n",
       "      <td>1968</td>\n",
       "      <td>Humphrey</td>\n",
       "      <td>Nixon</td>\n",
       "      <td>49.60</td>\n",
       "      <td>56.570</td>\n",
       "      <td>6.970</td>\n",
       "      <td>6.970</td>\n",
       "      <td>3.02</td>\n",
       "      <td>48.580900</td>\n",
       "    </tr>\n",
       "    <tr>\n",
       "      <th>5</th>\n",
       "      <td>1972</td>\n",
       "      <td>Nixon</td>\n",
       "      <td>McGovern</td>\n",
       "      <td>61.79</td>\n",
       "      <td>58.670</td>\n",
       "      <td>-3.120</td>\n",
       "      <td>3.120</td>\n",
       "      <td>3.62</td>\n",
       "      <td>9.734400</td>\n",
       "    </tr>\n",
       "    <tr>\n",
       "      <th>6</th>\n",
       "      <td>1976</td>\n",
       "      <td>Ford</td>\n",
       "      <td>Carter</td>\n",
       "      <td>48.95</td>\n",
       "      <td>49.780</td>\n",
       "      <td>0.830</td>\n",
       "      <td>0.830</td>\n",
       "      <td>1.08</td>\n",
       "      <td>0.688900</td>\n",
       "    </tr>\n",
       "    <tr>\n",
       "      <th>7</th>\n",
       "      <td>1980</td>\n",
       "      <td>Carter</td>\n",
       "      <td>Reagan</td>\n",
       "      <td>44.70</td>\n",
       "      <td>44.635</td>\n",
       "      <td>-0.065</td>\n",
       "      <td>0.065</td>\n",
       "      <td>-0.39</td>\n",
       "      <td>0.004225</td>\n",
       "    </tr>\n",
       "    <tr>\n",
       "      <th>8</th>\n",
       "      <td>1984</td>\n",
       "      <td>Reagan</td>\n",
       "      <td>Mondale</td>\n",
       "      <td>59.17</td>\n",
       "      <td>59.510</td>\n",
       "      <td>0.340</td>\n",
       "      <td>0.340</td>\n",
       "      <td>3.86</td>\n",
       "      <td>0.115600</td>\n",
       "    </tr>\n",
       "    <tr>\n",
       "      <th>9</th>\n",
       "      <td>1988</td>\n",
       "      <td>Bush, Sr.</td>\n",
       "      <td>Dukakis</td>\n",
       "      <td>53.94</td>\n",
       "      <td>53.945</td>\n",
       "      <td>0.005</td>\n",
       "      <td>0.005</td>\n",
       "      <td>2.27</td>\n",
       "      <td>0.000025</td>\n",
       "    </tr>\n",
       "    <tr>\n",
       "      <th>10</th>\n",
       "      <td>1992</td>\n",
       "      <td>Bush, Sr.</td>\n",
       "      <td>Clinton</td>\n",
       "      <td>46.55</td>\n",
       "      <td>47.330</td>\n",
       "      <td>0.780</td>\n",
       "      <td>0.780</td>\n",
       "      <td>0.38</td>\n",
       "      <td>0.608400</td>\n",
       "    </tr>\n",
       "    <tr>\n",
       "      <th>11</th>\n",
       "      <td>1996</td>\n",
       "      <td>Clinton</td>\n",
       "      <td>Dole</td>\n",
       "      <td>54.74</td>\n",
       "      <td>49.640</td>\n",
       "      <td>-5.100</td>\n",
       "      <td>5.100</td>\n",
       "      <td>1.04</td>\n",
       "      <td>26.010000</td>\n",
       "    </tr>\n",
       "    <tr>\n",
       "      <th>12</th>\n",
       "      <td>2000</td>\n",
       "      <td>Gore</td>\n",
       "      <td>Bush, Jr.</td>\n",
       "      <td>50.27</td>\n",
       "      <td>54.260</td>\n",
       "      <td>3.990</td>\n",
       "      <td>3.990</td>\n",
       "      <td>2.36</td>\n",
       "      <td>15.920100</td>\n",
       "    </tr>\n",
       "    <tr>\n",
       "      <th>13</th>\n",
       "      <td>2004</td>\n",
       "      <td>Bush, Jr.</td>\n",
       "      <td>Kerry</td>\n",
       "      <td>51.24</td>\n",
       "      <td>52.020</td>\n",
       "      <td>0.780</td>\n",
       "      <td>0.780</td>\n",
       "      <td>1.72</td>\n",
       "      <td>0.608400</td>\n",
       "    </tr>\n",
       "    <tr>\n",
       "      <th>14</th>\n",
       "      <td>2008</td>\n",
       "      <td>McCain</td>\n",
       "      <td>Obama</td>\n",
       "      <td>46.32</td>\n",
       "      <td>46.350</td>\n",
       "      <td>0.030</td>\n",
       "      <td>0.030</td>\n",
       "      <td>0.10</td>\n",
       "      <td>0.000900</td>\n",
       "    </tr>\n",
       "    <tr>\n",
       "      <th>15</th>\n",
       "      <td>2012</td>\n",
       "      <td>Obama</td>\n",
       "      <td>Romney</td>\n",
       "      <td>52.00</td>\n",
       "      <td>49.325</td>\n",
       "      <td>-2.675</td>\n",
       "      <td>2.675</td>\n",
       "      <td>0.95</td>\n",
       "      <td>7.155625</td>\n",
       "    </tr>\n",
       "  </tbody>\n",
       "</table>\n",
       "</div>"
      ],
      "text/plain": [
       "    Year Incumbent Party Candidate Other Candidate  \\\n",
       "0   1952                 Stevenson      Eisenhower   \n",
       "1   1956                Eisenhower       Stevenson   \n",
       "2   1960                     Nixon         Kennedy   \n",
       "3   1964                   Johnson       Goldwater   \n",
       "4   1968                  Humphrey           Nixon   \n",
       "5   1972                     Nixon        McGovern   \n",
       "6   1976                      Ford          Carter   \n",
       "7   1980                    Carter          Reagan   \n",
       "8   1984                    Reagan         Mondale   \n",
       "9   1988                 Bush, Sr.         Dukakis   \n",
       "10  1992                 Bush, Sr.         Clinton   \n",
       "11  1996                   Clinton            Dole   \n",
       "12  2000                      Gore       Bush, Jr.   \n",
       "13  2004                 Bush, Jr.           Kerry   \n",
       "14  2008                    McCain           Obama   \n",
       "15  2012                     Obama          Romney   \n",
       "\n",
       "    Incumbent Party Vote Share  Prediction  Error  Absolute Error  \\\n",
       "0                        44.60      54.400  9.800           9.800   \n",
       "1                        57.76      56.115 -1.645           1.645   \n",
       "2                        49.91      48.975 -0.935           0.935   \n",
       "3                        61.34      60.735 -0.605           0.605   \n",
       "4                        49.60      56.570  6.970           6.970   \n",
       "5                        61.79      58.670 -3.120           3.120   \n",
       "6                        48.95      49.780  0.830           0.830   \n",
       "7                        44.70      44.635 -0.065           0.065   \n",
       "8                        59.17      59.510  0.340           0.340   \n",
       "9                        53.94      53.945  0.005           0.005   \n",
       "10                       46.55      47.330  0.780           0.780   \n",
       "11                       54.74      49.640 -5.100           5.100   \n",
       "12                       50.27      54.260  3.990           3.990   \n",
       "13                       51.24      52.020  0.780           0.780   \n",
       "14                       46.32      46.350  0.030           0.030   \n",
       "15                       52.00      49.325 -2.675           2.675   \n",
       "\n",
       "    Average Recent Growth in Personal Incomes  Square Error  \n",
       "0                                        2.40     96.040000  \n",
       "1                                        2.89      2.706025  \n",
       "2                                        0.85      0.874225  \n",
       "3                                        4.21      0.366025  \n",
       "4                                        3.02     48.580900  \n",
       "5                                        3.62      9.734400  \n",
       "6                                        1.08      0.688900  \n",
       "7                                       -0.39      0.004225  \n",
       "8                                        3.86      0.115600  \n",
       "9                                        2.27      0.000025  \n",
       "10                                       0.38      0.608400  \n",
       "11                                       1.04     26.010000  \n",
       "12                                       2.36     15.920100  \n",
       "13                                       1.72      0.608400  \n",
       "14                                       0.10      0.000900  \n",
       "15                                       0.95      7.155625  "
      ]
     },
     "execution_count": 28,
     "metadata": {},
     "output_type": "execute_result"
    }
   ],
   "source": [
    "df"
   ]
  },
  {
   "cell_type": "code",
   "execution_count": 29,
   "metadata": {},
   "outputs": [],
   "source": [
    "def regression(m, b):\n",
    "    df['Prediction'] = m * df[feature] + b\n",
    "    df['Error'] = df['Prediction'] - df[target]\n",
    "    df['Absolute Error'] = df['Error'].abs()\n",
    "    df['Square Error'] = df['Error'] **2\n",
    "    sum_square_error = df['Square Error'].sum()\n",
    "    \n",
    "    title = f'Sum of square errors: {sum_square_error}'\n",
    "    ax = df.plot(x=feature, y=target, kind='scatter', title=title, figsize=(7, 7))\n",
    "    df.plot(x=feature, y='Prediction', kind='line', ax=ax)\n",
    "        \n",
    "    xmin, xmax = ax.get_xlim()\n",
    "    ymin, ymax = ax.get_ylim()\n",
    "    scale = (xmax-xmin)/(ymax-ymin)\n",
    "\n",
    "    for x, y1, y2 in zip(df[feature], df[target], df['Prediction']):\n",
    "        bottom_left = (x, min(y1, y2))\n",
    "        height = abs(y1 - y2)\n",
    "        width = height * scale\n",
    "        ax.add_patch(Rectangle(xy=bottom_left, width=width, height=height, alpha=0.1))"
   ]
  },
  {
   "cell_type": "code",
   "execution_count": 30,
   "metadata": {},
   "outputs": [
    {
     "data": {
      "application/vnd.jupyter.widget-view+json": {
       "model_id": "7ae720f42c4c44c0adfe0ee0437a185c",
       "version_major": 2,
       "version_minor": 0
      },
      "text/plain": [
       "interactive(children=(FloatSlider(value=0.0, description='m', max=10.0, min=-10.0, step=0.5), FloatSlider(valu…"
      ]
     },
     "metadata": {},
     "output_type": "display_data"
    }
   ],
   "source": [
    "interact(regression, m=(-10,10,0.5), b=(40,60,0.5));"
   ]
  },
  {
   "cell_type": "code",
   "execution_count": 31,
   "metadata": {},
   "outputs": [
    {
     "data": {
      "text/html": [
       "<div>\n",
       "<style scoped>\n",
       "    .dataframe tbody tr th:only-of-type {\n",
       "        vertical-align: middle;\n",
       "    }\n",
       "\n",
       "    .dataframe tbody tr th {\n",
       "        vertical-align: top;\n",
       "    }\n",
       "\n",
       "    .dataframe thead th {\n",
       "        text-align: right;\n",
       "    }\n",
       "</style>\n",
       "<table border=\"1\" class=\"dataframe\">\n",
       "  <thead>\n",
       "    <tr style=\"text-align: right;\">\n",
       "      <th></th>\n",
       "      <th>Slope</th>\n",
       "      <th>Intercept</th>\n",
       "      <th>Sum of Square Errors</th>\n",
       "    </tr>\n",
       "  </thead>\n",
       "  <tbody>\n",
       "    <tr>\n",
       "      <th>0</th>\n",
       "      <td>-10.0</td>\n",
       "      <td>46</td>\n",
       "      <td>15205.34740</td>\n",
       "    </tr>\n",
       "    <tr>\n",
       "      <th>1</th>\n",
       "      <td>-9.5</td>\n",
       "      <td>46</td>\n",
       "      <td>14085.60595</td>\n",
       "    </tr>\n",
       "    <tr>\n",
       "      <th>2</th>\n",
       "      <td>-9.0</td>\n",
       "      <td>46</td>\n",
       "      <td>13009.27500</td>\n",
       "    </tr>\n",
       "    <tr>\n",
       "      <th>3</th>\n",
       "      <td>-8.5</td>\n",
       "      <td>46</td>\n",
       "      <td>11976.35455</td>\n",
       "    </tr>\n",
       "    <tr>\n",
       "      <th>4</th>\n",
       "      <td>-8.0</td>\n",
       "      <td>46</td>\n",
       "      <td>10986.84460</td>\n",
       "    </tr>\n",
       "    <tr>\n",
       "      <th>5</th>\n",
       "      <td>-7.5</td>\n",
       "      <td>46</td>\n",
       "      <td>10040.74515</td>\n",
       "    </tr>\n",
       "    <tr>\n",
       "      <th>6</th>\n",
       "      <td>-7.0</td>\n",
       "      <td>46</td>\n",
       "      <td>9138.05620</td>\n",
       "    </tr>\n",
       "    <tr>\n",
       "      <th>7</th>\n",
       "      <td>-6.5</td>\n",
       "      <td>46</td>\n",
       "      <td>8278.77775</td>\n",
       "    </tr>\n",
       "    <tr>\n",
       "      <th>8</th>\n",
       "      <td>-6.0</td>\n",
       "      <td>46</td>\n",
       "      <td>7462.90980</td>\n",
       "    </tr>\n",
       "    <tr>\n",
       "      <th>9</th>\n",
       "      <td>-5.5</td>\n",
       "      <td>46</td>\n",
       "      <td>6690.45235</td>\n",
       "    </tr>\n",
       "    <tr>\n",
       "      <th>10</th>\n",
       "      <td>-5.0</td>\n",
       "      <td>46</td>\n",
       "      <td>5961.40540</td>\n",
       "    </tr>\n",
       "    <tr>\n",
       "      <th>11</th>\n",
       "      <td>-4.5</td>\n",
       "      <td>46</td>\n",
       "      <td>5275.76895</td>\n",
       "    </tr>\n",
       "    <tr>\n",
       "      <th>12</th>\n",
       "      <td>-4.0</td>\n",
       "      <td>46</td>\n",
       "      <td>4633.54300</td>\n",
       "    </tr>\n",
       "    <tr>\n",
       "      <th>13</th>\n",
       "      <td>-3.5</td>\n",
       "      <td>46</td>\n",
       "      <td>4034.72755</td>\n",
       "    </tr>\n",
       "    <tr>\n",
       "      <th>14</th>\n",
       "      <td>-3.0</td>\n",
       "      <td>46</td>\n",
       "      <td>3479.32260</td>\n",
       "    </tr>\n",
       "    <tr>\n",
       "      <th>15</th>\n",
       "      <td>-2.5</td>\n",
       "      <td>46</td>\n",
       "      <td>2967.32815</td>\n",
       "    </tr>\n",
       "    <tr>\n",
       "      <th>16</th>\n",
       "      <td>-2.0</td>\n",
       "      <td>46</td>\n",
       "      <td>2498.74420</td>\n",
       "    </tr>\n",
       "    <tr>\n",
       "      <th>17</th>\n",
       "      <td>-1.5</td>\n",
       "      <td>46</td>\n",
       "      <td>2073.57075</td>\n",
       "    </tr>\n",
       "    <tr>\n",
       "      <th>18</th>\n",
       "      <td>-1.0</td>\n",
       "      <td>46</td>\n",
       "      <td>1691.80780</td>\n",
       "    </tr>\n",
       "    <tr>\n",
       "      <th>19</th>\n",
       "      <td>-0.5</td>\n",
       "      <td>46</td>\n",
       "      <td>1353.45535</td>\n",
       "    </tr>\n",
       "    <tr>\n",
       "      <th>20</th>\n",
       "      <td>0.0</td>\n",
       "      <td>46</td>\n",
       "      <td>1058.51340</td>\n",
       "    </tr>\n",
       "    <tr>\n",
       "      <th>21</th>\n",
       "      <td>0.5</td>\n",
       "      <td>46</td>\n",
       "      <td>806.98195</td>\n",
       "    </tr>\n",
       "    <tr>\n",
       "      <th>22</th>\n",
       "      <td>1.0</td>\n",
       "      <td>46</td>\n",
       "      <td>598.86100</td>\n",
       "    </tr>\n",
       "    <tr>\n",
       "      <th>23</th>\n",
       "      <td>1.5</td>\n",
       "      <td>46</td>\n",
       "      <td>434.15055</td>\n",
       "    </tr>\n",
       "    <tr>\n",
       "      <th>24</th>\n",
       "      <td>2.0</td>\n",
       "      <td>46</td>\n",
       "      <td>312.85060</td>\n",
       "    </tr>\n",
       "    <tr>\n",
       "      <th>25</th>\n",
       "      <td>2.5</td>\n",
       "      <td>46</td>\n",
       "      <td>234.96115</td>\n",
       "    </tr>\n",
       "    <tr>\n",
       "      <th>26</th>\n",
       "      <td>3.0</td>\n",
       "      <td>46</td>\n",
       "      <td>200.48220</td>\n",
       "    </tr>\n",
       "    <tr>\n",
       "      <th>27</th>\n",
       "      <td>3.5</td>\n",
       "      <td>46</td>\n",
       "      <td>209.41375</td>\n",
       "    </tr>\n",
       "    <tr>\n",
       "      <th>28</th>\n",
       "      <td>4.0</td>\n",
       "      <td>46</td>\n",
       "      <td>261.75580</td>\n",
       "    </tr>\n",
       "    <tr>\n",
       "      <th>29</th>\n",
       "      <td>4.5</td>\n",
       "      <td>46</td>\n",
       "      <td>357.50835</td>\n",
       "    </tr>\n",
       "    <tr>\n",
       "      <th>30</th>\n",
       "      <td>5.0</td>\n",
       "      <td>46</td>\n",
       "      <td>496.67140</td>\n",
       "    </tr>\n",
       "    <tr>\n",
       "      <th>31</th>\n",
       "      <td>5.5</td>\n",
       "      <td>46</td>\n",
       "      <td>679.24495</td>\n",
       "    </tr>\n",
       "    <tr>\n",
       "      <th>32</th>\n",
       "      <td>6.0</td>\n",
       "      <td>46</td>\n",
       "      <td>905.22900</td>\n",
       "    </tr>\n",
       "    <tr>\n",
       "      <th>33</th>\n",
       "      <td>6.5</td>\n",
       "      <td>46</td>\n",
       "      <td>1174.62355</td>\n",
       "    </tr>\n",
       "    <tr>\n",
       "      <th>34</th>\n",
       "      <td>7.0</td>\n",
       "      <td>46</td>\n",
       "      <td>1487.42860</td>\n",
       "    </tr>\n",
       "    <tr>\n",
       "      <th>35</th>\n",
       "      <td>7.5</td>\n",
       "      <td>46</td>\n",
       "      <td>1843.64415</td>\n",
       "    </tr>\n",
       "    <tr>\n",
       "      <th>36</th>\n",
       "      <td>8.0</td>\n",
       "      <td>46</td>\n",
       "      <td>2243.27020</td>\n",
       "    </tr>\n",
       "    <tr>\n",
       "      <th>37</th>\n",
       "      <td>8.5</td>\n",
       "      <td>46</td>\n",
       "      <td>2686.30675</td>\n",
       "    </tr>\n",
       "    <tr>\n",
       "      <th>38</th>\n",
       "      <td>9.0</td>\n",
       "      <td>46</td>\n",
       "      <td>3172.75380</td>\n",
       "    </tr>\n",
       "    <tr>\n",
       "      <th>39</th>\n",
       "      <td>9.5</td>\n",
       "      <td>46</td>\n",
       "      <td>3702.61135</td>\n",
       "    </tr>\n",
       "  </tbody>\n",
       "</table>\n",
       "</div>"
      ],
      "text/plain": [
       "    Slope  Intercept  Sum of Square Errors\n",
       "0   -10.0         46           15205.34740\n",
       "1    -9.5         46           14085.60595\n",
       "2    -9.0         46           13009.27500\n",
       "3    -8.5         46           11976.35455\n",
       "4    -8.0         46           10986.84460\n",
       "5    -7.5         46           10040.74515\n",
       "6    -7.0         46            9138.05620\n",
       "7    -6.5         46            8278.77775\n",
       "8    -6.0         46            7462.90980\n",
       "9    -5.5         46            6690.45235\n",
       "10   -5.0         46            5961.40540\n",
       "11   -4.5         46            5275.76895\n",
       "12   -4.0         46            4633.54300\n",
       "13   -3.5         46            4034.72755\n",
       "14   -3.0         46            3479.32260\n",
       "15   -2.5         46            2967.32815\n",
       "16   -2.0         46            2498.74420\n",
       "17   -1.5         46            2073.57075\n",
       "18   -1.0         46            1691.80780\n",
       "19   -0.5         46            1353.45535\n",
       "20    0.0         46            1058.51340\n",
       "21    0.5         46             806.98195\n",
       "22    1.0         46             598.86100\n",
       "23    1.5         46             434.15055\n",
       "24    2.0         46             312.85060\n",
       "25    2.5         46             234.96115\n",
       "26    3.0         46             200.48220\n",
       "27    3.5         46             209.41375\n",
       "28    4.0         46             261.75580\n",
       "29    4.5         46             357.50835\n",
       "30    5.0         46             496.67140\n",
       "31    5.5         46             679.24495\n",
       "32    6.0         46             905.22900\n",
       "33    6.5         46            1174.62355\n",
       "34    7.0         46            1487.42860\n",
       "35    7.5         46            1843.64415\n",
       "36    8.0         46            2243.27020\n",
       "37    8.5         46            2686.30675\n",
       "38    9.0         46            3172.75380\n",
       "39    9.5         46            3702.61135"
      ]
     },
     "execution_count": 31,
     "metadata": {},
     "output_type": "execute_result"
    }
   ],
   "source": [
    "b = 46\n",
    "ms = np.arange(-10,10,0.5)\n",
    "sses = []\n",
    "\n",
    "for m in ms:\n",
    "    predictions = m * df[feature] + b\n",
    "    errors = predictions - df[target]\n",
    "    square_errors = errors ** 2\n",
    "    sse = square_errors.sum()\n",
    "    sses.append(sse)\n",
    "    \n",
    "hypotheses = pd.DataFrame({'Slope': ms})\n",
    "hypotheses['Intercept'] = b\n",
    "hypotheses['Sum of Square Errors'] = sses\n",
    "\n",
    "hypotheses"
   ]
  },
  {
   "cell_type": "code",
   "execution_count": 32,
   "metadata": {},
   "outputs": [
    {
     "data": {
      "image/png": "[encoded data removed]",
      "text/plain": [
       "<Figure size 432x288 with 1 Axes>"
      ]
     },
     "metadata": {
      "needs_background": "light"
     },
     "output_type": "display_data"
    }
   ],
   "source": [
    "hypotheses.plot(x='Slope', y='Sum of Square Errors', \n",
    "                title=f'Intercept={b}');"
   ]
  },
  {
   "cell_type": "code",
   "execution_count": 33,
   "metadata": {},
   "outputs": [
    {
     "data": {
      "text/plain": [
       "((16, 1), (16,))"
      ]
     },
     "execution_count": 33,
     "metadata": {},
     "output_type": "execute_result"
    }
   ],
   "source": [
    "X = df[[feature]]\n",
    "y = df[target]\n",
    "\n",
    "X.shape, y.shape"
   ]
  },
  {
   "cell_type": "code",
   "execution_count": 34,
   "metadata": {},
   "outputs": [
    {
     "data": {
      "text/plain": [
       "LinearRegression(copy_X=True, fit_intercept=True, n_jobs=None,\n",
       "         normalize=False)"
      ]
     },
     "execution_count": 34,
     "metadata": {},
     "output_type": "execute_result"
    }
   ],
   "source": [
    "model = LinearRegression()\n",
    "model.fit(X, y)"
   ]
  },
  {
   "cell_type": "code",
   "execution_count": 35,
   "metadata": {},
   "outputs": [
    {
     "data": {
      "text/plain": [
       "(array([3.06052805]), 46.247648016800795)"
      ]
     },
     "execution_count": 35,
     "metadata": {},
     "output_type": "execute_result"
    }
   ],
   "source": [
    "model.coef_, model.intercept_"
   ]
  },
  {
   "cell_type": "code",
   "execution_count": 36,
   "metadata": {},
   "outputs": [
    {
     "data": {
      "text/plain": [
       "array([49.30817607])"
      ]
     },
     "execution_count": 36,
     "metadata": {},
     "output_type": "execute_result"
    }
   ],
   "source": [
    "model.predict([[1]])"
   ]
  },
  {
   "cell_type": "code",
   "execution_count": 37,
   "metadata": {},
   "outputs": [
    {
     "data": {
      "text/plain": [
       "array([52.36870413])"
      ]
     },
     "execution_count": 37,
     "metadata": {},
     "output_type": "execute_result"
    }
   ],
   "source": [
    "model.predict([[2]])"
   ]
  },
  {
   "cell_type": "code",
   "execution_count": 38,
   "metadata": {},
   "outputs": [
    {
     "data": {
      "text/plain": [
       "array([55.42923218])"
      ]
     },
     "execution_count": 38,
     "metadata": {},
     "output_type": "execute_result"
    }
   ],
   "source": [
    "model.predict([[3]])"
   ]
  },
  {
   "cell_type": "code",
   "execution_count": 39,
   "metadata": {},
   "outputs": [
    {
     "data": {
      "text/plain": [
       "array([53.59291535, 55.09257409, 48.84909686, 59.13247113, 55.49044274,\n",
       "       57.32675957, 49.55301832, 45.05404208, 58.06128631, 53.1950467 ,\n",
       "       47.41064868, 49.43059719, 53.47049423, 51.51175627, 46.55370082,\n",
       "       49.15514967])"
      ]
     },
     "execution_count": 39,
     "metadata": {},
     "output_type": "execute_result"
    }
   ],
   "source": [
    "model.predict(X)"
   ]
  },
  {
   "cell_type": "code",
   "execution_count": 43,
   "metadata": {},
   "outputs": [],
   "source": [
    "df['Prediction'] = model.predict(X)"
   ]
  },
  {
   "cell_type": "code",
   "execution_count": 63,
   "metadata": {},
   "outputs": [
    {
     "data": {
      "image/png": "[encoded data removed]",
      "text/plain": [
       "<Figure size 432x288 with 1 Axes>"
      ]
     },
     "metadata": {
      "needs_background": "light"
     },
     "output_type": "display_data"
    }
   ],
   "source": [
    "ax = df.plot(x=feature, y=target, kind='scatter', title='sklearn LinearRegression')\n",
    "df.plot(x=feature, y='Prediction', kind='line', ax=ax);"
   ]
  },
  {
   "cell_type": "code",
   "execution_count": 45,
   "metadata": {},
   "outputs": [],
   "source": [
    "df['Error'] = df['Prediction'] - y"
   ]
  },
  {
   "cell_type": "code",
   "execution_count": 46,
   "metadata": {},
   "outputs": [],
   "source": [
    "df['Absolute Error'] = df['Error'].abs()\n",
    "df['Square Error'] = df['Error'] ** 2"
   ]
  },
  {
   "cell_type": "code",
   "execution_count": 47,
   "metadata": {},
   "outputs": [
    {
     "data": {
      "text/plain": [
       "12.392042143389563"
      ]
     },
     "execution_count": 47,
     "metadata": {},
     "output_type": "execute_result"
    }
   ],
   "source": [
    "df['Square Error'].mean()"
   ]
  },
  {
   "cell_type": "code",
   "execution_count": 48,
   "metadata": {},
   "outputs": [
    {
     "data": {
      "text/plain": [
       "12.392042143389563"
      ]
     },
     "execution_count": 48,
     "metadata": {},
     "output_type": "execute_result"
    }
   ],
   "source": [
    "mean_squared_error(y_true=y, y_pred=model.predict(X))"
   ]
  },
  {
   "cell_type": "code",
   "execution_count": 49,
   "metadata": {},
   "outputs": [
    {
     "data": {
      "text/plain": [
       "3.520233251276052"
      ]
     },
     "execution_count": 49,
     "metadata": {},
     "output_type": "execute_result"
    }
   ],
   "source": [
    "np.sqrt(mean_squared_error(y, model.predict(X)))"
   ]
  },
  {
   "cell_type": "code",
   "execution_count": 50,
   "metadata": {},
   "outputs": [
    {
     "data": {
      "text/plain": [
       "0.5798462099485426"
      ]
     },
     "execution_count": 50,
     "metadata": {},
     "output_type": "execute_result"
    }
   ],
   "source": [
    "# When called on regression, .score outputs R squared\n",
    "model.score(X, y)"
   ]
  },
  {
   "cell_type": "code",
   "execution_count": 51,
   "metadata": {},
   "outputs": [
    {
     "data": {
      "text/plain": [
       "0.5798462099485426"
      ]
     },
     "execution_count": 51,
     "metadata": {},
     "output_type": "execute_result"
    }
   ],
   "source": [
    "r2_score(y, model.predict(X))"
   ]
  },
  {
   "cell_type": "markdown",
   "metadata": {},
   "source": [
    "### Statsmodels"
   ]
  },
  {
   "cell_type": "markdown",
   "metadata": {},
   "source": [
    "https://www.statsmodels.org/dev/examples/notebooks/generated/ols.html"
   ]
  },
  {
   "cell_type": "code",
   "execution_count": 52,
   "metadata": {},
   "outputs": [
    {
     "name": "stdout",
     "output_type": "stream",
     "text": [
      "                                OLS Regression Results                                \n",
      "======================================================================================\n",
      "Dep. Variable:     Incumbent Party Vote Share   R-squared:                       0.580\n",
      "Model:                                    OLS   Adj. R-squared:                  0.550\n",
      "Method:                         Least Squares   F-statistic:                     19.32\n",
      "Date:                        Mon, 29 Apr 2019   Prob (F-statistic):           0.000610\n",
      "Time:                                13:43:00   Log-Likelihood:                -42.839\n",
      "No. Observations:                          16   AIC:                             89.68\n",
      "Df Residuals:                              14   BIC:                             91.22\n",
      "Df Model:                                   1                                         \n",
      "Covariance Type:                    nonrobust                                         \n",
      "=============================================================================================================\n",
      "                                                coef    std err          t      P>|t|      [0.025      0.975]\n",
      "-------------------------------------------------------------------------------------------------------------\n",
      "const                                        46.2476      1.622     28.514      0.000      42.769      49.726\n",
      "Average Recent Growth in Personal Incomes     3.0605      0.696      4.396      0.001       1.567       4.554\n",
      "==============================================================================\n",
      "Omnibus:                        5.392   Durbin-Watson:                   2.379\n",
      "Prob(Omnibus):                  0.067   Jarque-Bera (JB):                2.828\n",
      "Skew:                          -0.961   Prob(JB):                        0.243\n",
      "Kurtosis:                       3.738   Cond. No.                         4.54\n",
      "==============================================================================\n",
      "\n",
      "Warnings:\n",
      "[1] Standard Errors assume that the covariance matrix of the errors is correctly specified.\n"
     ]
    },
    {
     "name": "stderr",
     "output_type": "stream",
     "text": [
      "/anaconda3/lib/python3.6/site-packages/numpy/core/fromnumeric.py:2389: FutureWarning: Method .ptp is deprecated and will be removed in a future version. Use numpy.ptp instead.\n",
      "  return ptp(axis=axis, out=out, **kwargs)\n",
      "/anaconda3/lib/python3.6/site-packages/scipy/stats/stats.py:1416: UserWarning: kurtosistest only valid for n>=20 ... continuing anyway, n=16\n",
      "  \"anyway, n=%i\" % int(n))\n"
     ]
    }
   ],
   "source": [
    "model = sm.OLS(y, sm.add_constant(X))\n",
    "results = model.fit()\n",
    "print(results.summary())"
   ]
  },
  {
   "cell_type": "markdown",
   "metadata": {},
   "source": [
    "# The Anatomy of Linear Regression\n",
    "\n",
    "- Intercept: The $b$ value in our line equation $y=mx+b$\n",
    "- Slope: The $m$ value in our line equation $y=mx+b$. These two values together define our regression line.\n",
    "\n",
    "![Slope and Intercept](http://www.ryanleeallred.com/wp-content/uploads/2018/08/linear-regression-diagram.png)\n",
    "\n",
    "- $\\hat{y}$ : A prediction\n",
    "- Line of Best Fit (Regression Line)\n",
    "- Predicted (fitted) Values: Points on our regression line\n",
    "- Observed Values: Points from our dataset\n",
    "- Error: The distance between predicted and observed values.\n",
    "\n",
    "![Residual Error](http://www.ryanleeallred.com/wp-content/uploads/2018/08/residual-or-error.gif)\n"
   ]
  },
  {
   "cell_type": "markdown",
   "metadata": {},
   "source": [
    "# More Formal Notation\n",
    "\n",
    "![Simple Linear Regression](http://www.ryanleeallred.com/wp-content/uploads/2018/08/simple-regression-formula.png)\n",
    "\n",
    "We have talked about a line of regression being represented like a regular line $y=mx+b$ but as we get to more complicated versions we're going to need to extend this equation. So lets establish the proper terminology.\n",
    "\n",
    "**X** - Independent Variable, predictor variable, explanatory variable, regressor, covariate\n",
    "\n",
    "**Y** - Response variable, predicted variable, measured vairable, explained variable, outcome variable\n",
    "\n",
    "$\\beta_0$ - \"Beta Naught\" or \"Beta Zero\", the intercept value. This is how much of y would exist if X were zero. This is sometimes represented by the letter \"a\" but I hate that. So it's \"Beta 0\" during my lecture.\n",
    "\n",
    "$\\beta_1$ - \"Beta One\" The primary coefficient of interest. This values is the slope of the line that is estimated by \"minimizing the sum of the squared errors/residuals\" - We'll get to that. \n",
    "\n",
    "$\\epsilon$ - \"Epsilon\" The \"error term\", random noise, things outside of our model that affect y."
   ]
  },
  {
   "cell_type": "markdown",
   "metadata": {},
   "source": [
    "# How Does it do it?\n",
    "\n",
    "## Minimizing the Sum of the Squared Error\n",
    "\n",
    "The most common method of estimating our $\\beta$ parameters  is what's known as \"Ordinary Least Squares\" (OLS). (There are different methods of arriving at a line of best fit). OLS estimates the parameters that minimize the squared distance between each point in our dataset and our line of best fit. \n",
    "\n",
    "\\begin{align}\n",
    "SSE = \\sum(y_i - \\hat{y})^2\n",
    "\\end{align}\n",
    "\n"
   ]
  },
  {
   "cell_type": "markdown",
   "metadata": {},
   "source": [
    "## Linear Algebra!\n",
    "\n",
    "The same result that is found by minimizing the sum of the squared errors can be also found through a linear algebra process known as the \"Least Squares Solution:\"\n",
    "\n",
    "![OLS Regression](http://www.ryanleeallred.com/wp-content/uploads/2018/08/OLS-linear-algebra.png)\n",
    "\n",
    "Before we can work with this equation in its linear algebra form we have to understand how to set up the matrices that are involved in this equation. "
   ]
  },
  {
   "cell_type": "markdown",
   "metadata": {},
   "source": [
    "### The $\\beta$ vector\n",
    "\n",
    "The $\\beta$ vector represents all the parameters that we are trying to estimate, our $y$ vector and $X$ matrix values are full of data from our dataset. The $\\beta$ vector holds the variables that we are solving for: $\\beta_0$ and $\\beta_1$\n",
    "\n",
    "Now that we have all of the necessary parts we can set them up in the following equation:\n",
    "\n",
    "\\begin{align}\n",
    "y = X \\beta + \\epsilon\n",
    "\\end{align}\n",
    "\n",
    "Since our $\\epsilon$ value represents **random** error we can assume that it will equal zero on average.\n",
    "\n",
    "\\begin{align}\n",
    "y = X \\beta\n",
    "\\end{align}\n",
    "\n",
    "The objective now is to isolate the $\\beta$ matrix. We can do this by pre-multiplying both sides by \"X transpose\" $X^{T}$.\n",
    "\n",
    "\\begin{align}\n",
    "X^{T}y =  X^{T}X \\beta\n",
    "\\end{align}\n",
    "\n",
    "Since anything times its transpose will result in a square matrix, if that matrix is then an invertible matrix, then we should be able to multiply both sides by its inverse to remove it from the right hand side. (We'll talk tomorrow about situations that could lead to $X^{T}X$ not being invertible.)\n",
    "\n",
    "\\begin{align}\n",
    "(X^{T}X)^{-1}X^{T}y =  (X^{T}X)^{-1}X^{T}X \\beta\n",
    "\\end{align}\n",
    "\n",
    "Since any matrix multiplied by its inverse results in the identity matrix, and anything multiplied by the identity matrix is itself, we are left with only $\\beta$ on the right hand side:\n",
    "\n",
    "\\begin{align}\n",
    "(X^{T}X)^{-1}X^{T}y = \\hat{\\beta}\n",
    "\\end{align}\n",
    "\n",
    "We will now call it \"beta hat\" $\\hat{\\beta}$ because it now represents our estimated values for $\\beta_0$ and $\\beta_1$\n",
    "\n",
    "### Lets calculate our $\\beta$ coefficients with numpy!"
   ]
  },
  {
   "cell_type": "code",
   "execution_count": 53,
   "metadata": {},
   "outputs": [
    {
     "name": "stdout",
     "output_type": "stream",
     "text": [
      "X\n",
      "[[ 1.    2.4 ]\n",
      " [ 1.    2.89]\n",
      " [ 1.    0.85]\n",
      " [ 1.    4.21]\n",
      " [ 1.    3.02]\n",
      " [ 1.    3.62]\n",
      " [ 1.    1.08]\n",
      " [ 1.   -0.39]\n",
      " [ 1.    3.86]\n",
      " [ 1.    2.27]\n",
      " [ 1.    0.38]\n",
      " [ 1.    1.04]\n",
      " [ 1.    2.36]\n",
      " [ 1.    1.72]\n",
      " [ 1.    0.1 ]\n",
      " [ 1.    0.95]]\n",
      "y\n",
      "[[44.6 ]\n",
      " [57.76]\n",
      " [49.91]\n",
      " [61.34]\n",
      " [49.6 ]\n",
      " [61.79]\n",
      " [48.95]\n",
      " [44.7 ]\n",
      " [59.17]\n",
      " [53.94]\n",
      " [46.55]\n",
      " [54.74]\n",
      " [50.27]\n",
      " [51.24]\n",
      " [46.32]\n",
      " [52.  ]]\n",
      "X Transpose\n",
      "[[ 1.    1.    1.    1.    1.    1.    1.    1.    1.    1.    1.    1.\n",
      "   1.    1.    1.    1.  ]\n",
      " [ 2.4   2.89  0.85  4.21  3.02  3.62  1.08 -0.39  3.86  2.27  0.38  1.04\n",
      "   2.36  1.72  0.1   0.95]]\n",
      "X Transpose X\n",
      "[[16.    30.36 ]\n",
      " [30.36  86.821]]\n",
      "X Transpose X Inverse\n",
      "[[ 0.18575056 -0.06495418]\n",
      " [-0.06495418  0.03423145]]\n",
      "X Transpose y\n",
      "[[ 832.88  ]\n",
      " [1669.7967]]\n",
      "Beta Hat\n",
      "[[46.24764802]\n",
      " [ 3.06052805]]\n"
     ]
    }
   ],
   "source": [
    "X = sm.add_constant(df[feature]).values\n",
    "print('X')\n",
    "print(X)\n",
    "\n",
    "y = df[target].values[:, np.newaxis]\n",
    "print('y')\n",
    "print(y)\n",
    "\n",
    "X_transpose = X.T\n",
    "print('X Transpose')\n",
    "print(X_transpose)\n",
    "\n",
    "X_transpose_X = X_transpose @ X\n",
    "print('X Transpose X')\n",
    "print(X_transpose_X)\n",
    "\n",
    "X_transpose_X_inverse = np.linalg.inv(X_transpose_X)\n",
    "print('X Transpose X Inverse')\n",
    "print(X_transpose_X_inverse)\n",
    "\n",
    "X_transpose_y = X_transpose @ y\n",
    "print('X Transpose y')\n",
    "print(X_transpose_y)\n",
    "\n",
    "beta_hat = X_transpose_X_inverse @ X_transpose_y\n",
    "print('Beta Hat')\n",
    "print(beta_hat)"
   ]
  },
  {
   "cell_type": "markdown",
   "metadata": {},
   "source": [
    "# Multiple Regression\n",
    "\n",
    "Simple or bivariate linear regression involves a single $x$ variable and a single $y$ variable. However, we can have many $x$ variables. A linear regression model that involves multiple x variables is known as **Multiple** Regression - NOT MULTIVARIATE!\n",
    "\n",
    "![Multiple Regression](http://www.ryanleeallred.com/wp-content/uploads/2018/08/multiple-regression-model.png)"
   ]
  },
  {
   "cell_type": "code",
   "execution_count": 54,
   "metadata": {},
   "outputs": [
    {
     "data": {
      "text/html": [
       "<div>\n",
       "<style scoped>\n",
       "    .dataframe tbody tr th:only-of-type {\n",
       "        vertical-align: middle;\n",
       "    }\n",
       "\n",
       "    .dataframe tbody tr th {\n",
       "        vertical-align: top;\n",
       "    }\n",
       "\n",
       "    .dataframe thead th {\n",
       "        text-align: right;\n",
       "    }\n",
       "</style>\n",
       "<table border=\"1\" class=\"dataframe\">\n",
       "  <thead>\n",
       "    <tr style=\"text-align: right;\">\n",
       "      <th></th>\n",
       "      <th>Year</th>\n",
       "      <th>Incumbent Party Candidate</th>\n",
       "      <th>Other Candidate</th>\n",
       "      <th>Incumbent Party Vote Share</th>\n",
       "      <th>Prediction</th>\n",
       "      <th>Error</th>\n",
       "      <th>Absolute Error</th>\n",
       "      <th>Average Recent Growth in Personal Incomes</th>\n",
       "      <th>Square Error</th>\n",
       "    </tr>\n",
       "  </thead>\n",
       "  <tbody>\n",
       "    <tr>\n",
       "      <th>0</th>\n",
       "      <td>1952</td>\n",
       "      <td>Stevenson</td>\n",
       "      <td>Eisenhower</td>\n",
       "      <td>44.60</td>\n",
       "      <td>53.592915</td>\n",
       "      <td>8.992915</td>\n",
       "      <td>8.992915</td>\n",
       "      <td>2.40</td>\n",
       "      <td>80.872526</td>\n",
       "    </tr>\n",
       "    <tr>\n",
       "      <th>4</th>\n",
       "      <td>1968</td>\n",
       "      <td>Humphrey</td>\n",
       "      <td>Nixon</td>\n",
       "      <td>49.60</td>\n",
       "      <td>55.490443</td>\n",
       "      <td>5.890443</td>\n",
       "      <td>5.890443</td>\n",
       "      <td>3.02</td>\n",
       "      <td>34.697316</td>\n",
       "    </tr>\n",
       "    <tr>\n",
       "      <th>11</th>\n",
       "      <td>1996</td>\n",
       "      <td>Clinton</td>\n",
       "      <td>Dole</td>\n",
       "      <td>54.74</td>\n",
       "      <td>49.430597</td>\n",
       "      <td>-5.309403</td>\n",
       "      <td>5.309403</td>\n",
       "      <td>1.04</td>\n",
       "      <td>28.189758</td>\n",
       "    </tr>\n",
       "    <tr>\n",
       "      <th>5</th>\n",
       "      <td>1972</td>\n",
       "      <td>Nixon</td>\n",
       "      <td>McGovern</td>\n",
       "      <td>61.79</td>\n",
       "      <td>57.326760</td>\n",
       "      <td>-4.463240</td>\n",
       "      <td>4.463240</td>\n",
       "      <td>3.62</td>\n",
       "      <td>19.920515</td>\n",
       "    </tr>\n",
       "    <tr>\n",
       "      <th>12</th>\n",
       "      <td>2000</td>\n",
       "      <td>Gore</td>\n",
       "      <td>Bush, Jr.</td>\n",
       "      <td>50.27</td>\n",
       "      <td>53.470494</td>\n",
       "      <td>3.200494</td>\n",
       "      <td>3.200494</td>\n",
       "      <td>2.36</td>\n",
       "      <td>10.243163</td>\n",
       "    </tr>\n",
       "    <tr>\n",
       "      <th>15</th>\n",
       "      <td>2012</td>\n",
       "      <td>Obama</td>\n",
       "      <td>Romney</td>\n",
       "      <td>52.00</td>\n",
       "      <td>49.155150</td>\n",
       "      <td>-2.844850</td>\n",
       "      <td>2.844850</td>\n",
       "      <td>0.95</td>\n",
       "      <td>8.093173</td>\n",
       "    </tr>\n",
       "    <tr>\n",
       "      <th>1</th>\n",
       "      <td>1956</td>\n",
       "      <td>Eisenhower</td>\n",
       "      <td>Stevenson</td>\n",
       "      <td>57.76</td>\n",
       "      <td>55.092574</td>\n",
       "      <td>-2.667426</td>\n",
       "      <td>2.667426</td>\n",
       "      <td>2.89</td>\n",
       "      <td>7.115161</td>\n",
       "    </tr>\n",
       "    <tr>\n",
       "      <th>3</th>\n",
       "      <td>1964</td>\n",
       "      <td>Johnson</td>\n",
       "      <td>Goldwater</td>\n",
       "      <td>61.34</td>\n",
       "      <td>59.132471</td>\n",
       "      <td>-2.207529</td>\n",
       "      <td>2.207529</td>\n",
       "      <td>4.21</td>\n",
       "      <td>4.873184</td>\n",
       "    </tr>\n",
       "    <tr>\n",
       "      <th>8</th>\n",
       "      <td>1984</td>\n",
       "      <td>Reagan</td>\n",
       "      <td>Mondale</td>\n",
       "      <td>59.17</td>\n",
       "      <td>58.061286</td>\n",
       "      <td>-1.108714</td>\n",
       "      <td>1.108714</td>\n",
       "      <td>3.86</td>\n",
       "      <td>1.229246</td>\n",
       "    </tr>\n",
       "    <tr>\n",
       "      <th>2</th>\n",
       "      <td>1960</td>\n",
       "      <td>Nixon</td>\n",
       "      <td>Kennedy</td>\n",
       "      <td>49.91</td>\n",
       "      <td>48.849097</td>\n",
       "      <td>-1.060903</td>\n",
       "      <td>1.060903</td>\n",
       "      <td>0.85</td>\n",
       "      <td>1.125515</td>\n",
       "    </tr>\n",
       "    <tr>\n",
       "      <th>10</th>\n",
       "      <td>1992</td>\n",
       "      <td>Bush, Sr.</td>\n",
       "      <td>Clinton</td>\n",
       "      <td>46.55</td>\n",
       "      <td>47.410649</td>\n",
       "      <td>0.860649</td>\n",
       "      <td>0.860649</td>\n",
       "      <td>0.38</td>\n",
       "      <td>0.740716</td>\n",
       "    </tr>\n",
       "    <tr>\n",
       "      <th>9</th>\n",
       "      <td>1988</td>\n",
       "      <td>Bush, Sr.</td>\n",
       "      <td>Dukakis</td>\n",
       "      <td>53.94</td>\n",
       "      <td>53.195047</td>\n",
       "      <td>-0.744953</td>\n",
       "      <td>0.744953</td>\n",
       "      <td>2.27</td>\n",
       "      <td>0.554955</td>\n",
       "    </tr>\n",
       "    <tr>\n",
       "      <th>6</th>\n",
       "      <td>1976</td>\n",
       "      <td>Ford</td>\n",
       "      <td>Carter</td>\n",
       "      <td>48.95</td>\n",
       "      <td>49.553018</td>\n",
       "      <td>0.603018</td>\n",
       "      <td>0.603018</td>\n",
       "      <td>1.08</td>\n",
       "      <td>0.363631</td>\n",
       "    </tr>\n",
       "    <tr>\n",
       "      <th>7</th>\n",
       "      <td>1980</td>\n",
       "      <td>Carter</td>\n",
       "      <td>Reagan</td>\n",
       "      <td>44.70</td>\n",
       "      <td>45.054042</td>\n",
       "      <td>0.354042</td>\n",
       "      <td>0.354042</td>\n",
       "      <td>-0.39</td>\n",
       "      <td>0.125346</td>\n",
       "    </tr>\n",
       "    <tr>\n",
       "      <th>13</th>\n",
       "      <td>2004</td>\n",
       "      <td>Bush, Jr.</td>\n",
       "      <td>Kerry</td>\n",
       "      <td>51.24</td>\n",
       "      <td>51.511756</td>\n",
       "      <td>0.271756</td>\n",
       "      <td>0.271756</td>\n",
       "      <td>1.72</td>\n",
       "      <td>0.073851</td>\n",
       "    </tr>\n",
       "    <tr>\n",
       "      <th>14</th>\n",
       "      <td>2008</td>\n",
       "      <td>McCain</td>\n",
       "      <td>Obama</td>\n",
       "      <td>46.32</td>\n",
       "      <td>46.553701</td>\n",
       "      <td>0.233701</td>\n",
       "      <td>0.233701</td>\n",
       "      <td>0.10</td>\n",
       "      <td>0.054616</td>\n",
       "    </tr>\n",
       "  </tbody>\n",
       "</table>\n",
       "</div>"
      ],
      "text/plain": [
       "    Year Incumbent Party Candidate Other Candidate  \\\n",
       "0   1952                 Stevenson      Eisenhower   \n",
       "4   1968                  Humphrey           Nixon   \n",
       "11  1996                   Clinton            Dole   \n",
       "5   1972                     Nixon        McGovern   \n",
       "12  2000                      Gore       Bush, Jr.   \n",
       "15  2012                     Obama          Romney   \n",
       "1   1956                Eisenhower       Stevenson   \n",
       "3   1964                   Johnson       Goldwater   \n",
       "8   1984                    Reagan         Mondale   \n",
       "2   1960                     Nixon         Kennedy   \n",
       "10  1992                 Bush, Sr.         Clinton   \n",
       "9   1988                 Bush, Sr.         Dukakis   \n",
       "6   1976                      Ford          Carter   \n",
       "7   1980                    Carter          Reagan   \n",
       "13  2004                 Bush, Jr.           Kerry   \n",
       "14  2008                    McCain           Obama   \n",
       "\n",
       "    Incumbent Party Vote Share  Prediction     Error  Absolute Error  \\\n",
       "0                        44.60   53.592915  8.992915        8.992915   \n",
       "4                        49.60   55.490443  5.890443        5.890443   \n",
       "11                       54.74   49.430597 -5.309403        5.309403   \n",
       "5                        61.79   57.326760 -4.463240        4.463240   \n",
       "12                       50.27   53.470494  3.200494        3.200494   \n",
       "15                       52.00   49.155150 -2.844850        2.844850   \n",
       "1                        57.76   55.092574 -2.667426        2.667426   \n",
       "3                        61.34   59.132471 -2.207529        2.207529   \n",
       "8                        59.17   58.061286 -1.108714        1.108714   \n",
       "2                        49.91   48.849097 -1.060903        1.060903   \n",
       "10                       46.55   47.410649  0.860649        0.860649   \n",
       "9                        53.94   53.195047 -0.744953        0.744953   \n",
       "6                        48.95   49.553018  0.603018        0.603018   \n",
       "7                        44.70   45.054042  0.354042        0.354042   \n",
       "13                       51.24   51.511756  0.271756        0.271756   \n",
       "14                       46.32   46.553701  0.233701        0.233701   \n",
       "\n",
       "    Average Recent Growth in Personal Incomes  Square Error  \n",
       "0                                        2.40     80.872526  \n",
       "4                                        3.02     34.697316  \n",
       "11                                       1.04     28.189758  \n",
       "5                                        3.62     19.920515  \n",
       "12                                       2.36     10.243163  \n",
       "15                                       0.95      8.093173  \n",
       "1                                        2.89      7.115161  \n",
       "3                                        4.21      4.873184  \n",
       "8                                        3.86      1.229246  \n",
       "2                                        0.85      1.125515  \n",
       "10                                       0.38      0.740716  \n",
       "9                                        2.27      0.554955  \n",
       "6                                        1.08      0.363631  \n",
       "7                                       -0.39      0.125346  \n",
       "13                                       1.72      0.073851  \n",
       "14                                       0.10      0.054616  "
      ]
     },
     "execution_count": 54,
     "metadata": {},
     "output_type": "execute_result"
    }
   ],
   "source": [
    "df.sort_values(by='Square Error', ascending=False)"
   ]
  },
  {
   "cell_type": "code",
   "execution_count": 55,
   "metadata": {},
   "outputs": [],
   "source": [
    "\"\"\"\n",
    "Fatalities denotes the cumulative number of American military\n",
    "fatalities per millions of US population the in Korea, Vietnam,\n",
    "Iraq and Afghanistan wars during the presidential terms\n",
    "preceding the 1952, 1964, 1968, 1976 and 2004, 2008 and\n",
    "2012 elections.\n",
    "\n",
    "http://www.douglas-hibbs.com/HibbsArticles/HIBBS-PRESVOTE-SLIDES-MELBOURNE-Part1-2014-02-26.pdf\n",
    "\"\"\"\n",
    "\n",
    "columns = ['Year','US Military Fatalities per Million']\n",
    "\n",
    "data = [[1952,190],\n",
    "        [1956,  0],\n",
    "        [1960,  0],\n",
    "        [1964,  1],\n",
    "        [1968,146],\n",
    "        [1972,  0],\n",
    "        [1976,  2],\n",
    "        [1980,  0],\n",
    "        [1984,  0],\n",
    "        [1988,  0],\n",
    "        [1992,  0],\n",
    "        [1996,  0],\n",
    "        [2000,  0],\n",
    "        [2004,  4],\n",
    "        [2008, 14],\n",
    "        [2012,  5]]\n",
    "        \n",
    "deaths = pd.DataFrame(data=data, columns=columns)"
   ]
  },
  {
   "cell_type": "code",
   "execution_count": 56,
   "metadata": {},
   "outputs": [],
   "source": [
    "df = df.merge(deaths)"
   ]
  },
  {
   "cell_type": "code",
   "execution_count": 57,
   "metadata": {},
   "outputs": [
    {
     "name": "stdout",
     "output_type": "stream",
     "text": [
      "                                OLS Regression Results                                \n",
      "======================================================================================\n",
      "Dep. Variable:     Incumbent Party Vote Share   R-squared:                       0.871\n",
      "Model:                                    OLS   Adj. R-squared:                  0.851\n",
      "Method:                         Least Squares   F-statistic:                     43.77\n",
      "Date:                        Mon, 29 Apr 2019   Prob (F-statistic):           1.68e-06\n",
      "Time:                                13:57:51   Log-Likelihood:                -33.412\n",
      "No. Observations:                          16   AIC:                             72.82\n",
      "Df Residuals:                              13   BIC:                             75.14\n",
      "Df Model:                                   2                                         \n",
      "Covariance Type:                    nonrobust                                         \n",
      "=============================================================================================================\n",
      "                                                coef    std err          t      P>|t|      [0.025      0.975]\n",
      "-------------------------------------------------------------------------------------------------------------\n",
      "const                                        46.6621      0.937     49.806      0.000      44.638      48.686\n",
      "Average Recent Growth in Personal Incomes     3.4820      0.408      8.527      0.000       2.600       4.364\n",
      "US Military Fatalities per Million           -0.0537      0.010     -5.408      0.000      -0.075      -0.032\n",
      "==============================================================================\n",
      "Omnibus:                        2.475   Durbin-Watson:                   2.607\n",
      "Prob(Omnibus):                  0.290   Jarque-Bera (JB):                0.666\n",
      "Skew:                           0.096   Prob(JB):                        0.717\n",
      "Kurtosis:                       3.981   Cond. No.                         110.\n",
      "==============================================================================\n",
      "\n",
      "Warnings:\n",
      "[1] Standard Errors assume that the covariance matrix of the errors is correctly specified.\n"
     ]
    },
    {
     "name": "stderr",
     "output_type": "stream",
     "text": [
      "/anaconda3/lib/python3.6/site-packages/numpy/core/fromnumeric.py:2389: FutureWarning: Method .ptp is deprecated and will be removed in a future version. Use numpy.ptp instead.\n",
      "  return ptp(axis=axis, out=out, **kwargs)\n",
      "/anaconda3/lib/python3.6/site-packages/scipy/stats/stats.py:1416: UserWarning: kurtosistest only valid for n>=20 ... continuing anyway, n=16\n",
      "  \"anyway, n=%i\" % int(n))\n"
     ]
    }
   ],
   "source": [
    "features = ['Average Recent Growth in Personal Incomes', \n",
    "            'US Military Fatalities per Million']\n",
    "\n",
    "target = 'Incumbent Party Vote Share'\n",
    "\n",
    "X = df[features]\n",
    "y = df[target]\n",
    "\n",
    "model = sm.OLS(y, sm.add_constant(X))\n",
    "results = model.fit()\n",
    "print(results.summary())"
   ]
  },
  {
   "cell_type": "code",
   "execution_count": 58,
   "metadata": {},
   "outputs": [
    {
     "name": "stdout",
     "output_type": "stream",
     "text": [
      "Intercept: 46.662064098015115\n"
     ]
    },
    {
     "data": {
      "text/plain": [
       "Average Recent Growth in Personal Incomes    3.481956\n",
       "US Military Fatalities per Million          -0.053661\n",
       "dtype: float64"
      ]
     },
     "execution_count": 58,
     "metadata": {},
     "output_type": "execute_result"
    }
   ],
   "source": [
    "model = LinearRegression()\n",
    "model.fit(X, y)\n",
    "print('Intercept:', model.intercept_)\n",
    "pd.Series(model.coef_, features)"
   ]
  },
  {
   "cell_type": "code",
   "execution_count": 59,
   "metadata": {},
   "outputs": [
    {
     "data": {
      "text/plain": [
       "1.9528760602450583"
      ]
     },
     "execution_count": 59,
     "metadata": {},
     "output_type": "execute_result"
    }
   ],
   "source": [
    "np.sqrt(mean_squared_error(y, model.predict(X)))"
   ]
  },
  {
   "cell_type": "markdown",
   "metadata": {},
   "source": [
    "# Train / Test Split"
   ]
  },
  {
   "cell_type": "code",
   "execution_count": 60,
   "metadata": {},
   "outputs": [
    {
     "data": {
      "text/plain": [
       "((14, 2), (14,), (2, 2), (2,))"
      ]
     },
     "execution_count": 60,
     "metadata": {},
     "output_type": "execute_result"
    }
   ],
   "source": [
    "train = df.query('Year < 2008')\n",
    "test  = df.query('Year >= 2008')\n",
    "X_train = train[features]\n",
    "y_train = train[target]\n",
    "X_test  = test[features]\n",
    "y_test  = test[target]\n",
    "X_train.shape, y_train.shape, X_test.shape, y_test.shape"
   ]
  },
  {
   "cell_type": "code",
   "execution_count": 61,
   "metadata": {},
   "outputs": [
    {
     "data": {
      "text/plain": [
       "array([45.86970509, 49.39965918])"
      ]
     },
     "execution_count": 61,
     "metadata": {},
     "output_type": "execute_result"
    }
   ],
   "source": [
    "model.fit(X_train, y_train)\n",
    "model.predict(X_test)"
   ]
  },
  {
   "cell_type": "code",
   "execution_count": 62,
   "metadata": {},
   "outputs": [
    {
     "data": {
      "text/html": [
       "<div>\n",
       "<style scoped>\n",
       "    .dataframe tbody tr th:only-of-type {\n",
       "        vertical-align: middle;\n",
       "    }\n",
       "\n",
       "    .dataframe tbody tr th {\n",
       "        vertical-align: top;\n",
       "    }\n",
       "\n",
       "    .dataframe thead th {\n",
       "        text-align: right;\n",
       "    }\n",
       "</style>\n",
       "<table border=\"1\" class=\"dataframe\">\n",
       "  <thead>\n",
       "    <tr style=\"text-align: right;\">\n",
       "      <th></th>\n",
       "      <th>Year</th>\n",
       "      <th>Incumbent Party Candidate</th>\n",
       "      <th>Other Candidate</th>\n",
       "      <th>Incumbent Party Vote Share</th>\n",
       "      <th>Prediction</th>\n",
       "      <th>Error</th>\n",
       "      <th>Absolute Error</th>\n",
       "      <th>Average Recent Growth in Personal Incomes</th>\n",
       "      <th>Square Error</th>\n",
       "      <th>US Military Fatalities per Million</th>\n",
       "    </tr>\n",
       "  </thead>\n",
       "  <tbody>\n",
       "    <tr>\n",
       "      <th>14</th>\n",
       "      <td>2008</td>\n",
       "      <td>McCain</td>\n",
       "      <td>Obama</td>\n",
       "      <td>46.32</td>\n",
       "      <td>46.553701</td>\n",
       "      <td>0.233701</td>\n",
       "      <td>0.233701</td>\n",
       "      <td>0.10</td>\n",
       "      <td>0.054616</td>\n",
       "      <td>14</td>\n",
       "    </tr>\n",
       "    <tr>\n",
       "      <th>15</th>\n",
       "      <td>2012</td>\n",
       "      <td>Obama</td>\n",
       "      <td>Romney</td>\n",
       "      <td>52.00</td>\n",
       "      <td>49.155150</td>\n",
       "      <td>-2.844850</td>\n",
       "      <td>2.844850</td>\n",
       "      <td>0.95</td>\n",
       "      <td>8.093173</td>\n",
       "      <td>5</td>\n",
       "    </tr>\n",
       "  </tbody>\n",
       "</table>\n",
       "</div>"
      ],
      "text/plain": [
       "    Year Incumbent Party Candidate Other Candidate  \\\n",
       "14  2008                    McCain           Obama   \n",
       "15  2012                     Obama          Romney   \n",
       "\n",
       "    Incumbent Party Vote Share  Prediction     Error  Absolute Error  \\\n",
       "14                       46.32   46.553701  0.233701        0.233701   \n",
       "15                       52.00   49.155150 -2.844850        2.844850   \n",
       "\n",
       "    Average Recent Growth in Personal Incomes  Square Error  \\\n",
       "14                                       0.10      0.054616   \n",
       "15                                       0.95      8.093173   \n",
       "\n",
       "    US Military Fatalities per Million  \n",
       "14                                  14  \n",
       "15                                   5  "
      ]
     },
     "execution_count": 62,
     "metadata": {},
     "output_type": "execute_result"
    }
   ],
   "source": [
    "test"
   ]
  },
  {
   "cell_type": "markdown",
   "metadata": {},
   "source": [
    "### More about the \"Bread & Peace\" model\n",
    "- https://fivethirtyeight.com/features/what-do-economic-models-really-tell-us-about-elections/\n",
    "- https://statmodeling.stat.columbia.edu/2007/12/15/bread_and_peace/\n",
    "- https://avehtari.github.io/RAOS-Examples/ElectionsEconomy/hibbs.html\n",
    "- https://douglas-hibbs.com/\n",
    "- http://www.douglas-hibbs.com/HibbsArticles/HIBBS-PRESVOTE-SLIDES-MELBOURNE-Part1-2014-02-26.pdf"
   ]
  },
  {
   "cell_type": "markdown",
   "metadata": {},
   "source": [
    "# Dimensionality in Linear Regression!\n",
    "\n",
    "Muliple Regression is simply an extension of the bivariate case. The reason why we see the bivariate case demonstrated so often is simply because it's easier to graph and all of the intuition from the bivariate case is the same as we keep on adding explanatory variables.\n",
    "\n",
    "As we increase the number of $x$ values in our model we are simply fitting a n-1-dimensional plane to an n-dimensional cloud of points within an n-dimensional hypercube. "
   ]
  },
  {
   "cell_type": "markdown",
   "metadata": {},
   "source": [
    "# Interpreting Coefficients\n",
    "\n",
    "One of Linear Regression's strengths is that the parameters of the model (coefficients) are readily interpretable and useful. Not only do they describe the relationship between x and y but they put a number on just how much x is associated with y. We should be careful to not speak about this relationshiop in terms of causality because these coefficients are in fact correlative measures. We would need a host of additional techniques in order to estimate a causal effect using linear regression (econometrics).\n",
    "\n",
    "\\begin{align}\n",
    "\\hat{\\beta} = \\frac{Cov(x,y)}{Var(y)}\n",
    "\\end{align}\n",
    "\n",
    "Going back to the two equations for the two models that we have estimated so far, lets replace their beta values with their actual values to see if we can make sense of how to interpret these beta coefficients."
   ]
  },
  {
   "cell_type": "markdown",
   "metadata": {},
   "source": [
    "## Bivariate Model\n",
    "\n",
    "$y_i = \\beta_0 + \\beta_1temperature + \\epsilon$\n",
    "\n",
    "$sales_i = -596.2 + 24.69temperature + \\epsilon$\n",
    "\n",
    "What might $\\beta_0$ in this model represent? It represents the level of sales that we would have if temperature were 0. Since this is negative one way of interpreting it is that it's so cold outside that you would have to pay people to eat ice cream. A more appropriate interpretation is probably that the ice cream store owner should close his store down long before the temperature reaches 0 degrees farenheit (-17.7 celsius). The owner can compare his predicted sales with his costs of doing business to know how warm the weather has to get before he should open his store.\n",
    "\n",
    "What might the $beta_1$ in this model reprsent? it represents the increase in sales for each degree of temperature increase. For every degree that the temperature goes up outside he has $25 more in sales."
   ]
  },
  {
   "cell_type": "markdown",
   "metadata": {},
   "source": [
    "## Multiple Regression Model\n",
    "\n",
    "$y_i = \\beta_0 + \\beta_1age_i + \\beta_2weight_i + \\epsilon$\n",
    "\n",
    "$BloodPressure_i = 30.99+ .86age_i + .33weight_i + \\epsilon$\n",
    "\n",
    "The interpretation of coefficients in this example are similar. The intercept value repesents the blood pressure a person would have if they were 0 years old and weighed 0 pounds. This not a super useful interpretation. If we look at our data it is unlikely that we have any measurements like these in the dataset. This means that our interpretation of our intercept likely comes from extrapolating the regression line (plane). Coefficients having straightforward interpretations is a strength of linear regression if we're careful about extrapolation and only interpreting our data within the context that it was gathered.\n",
    "\n",
    "The interpretation of our other coefficients can be a useful indicator for how much a person similar to those in our dataset's blood pressure will go up on average with each additional year of age and pound of weight."
   ]
  },
  {
   "cell_type": "markdown",
   "metadata": {},
   "source": [
    "# Basic Model Validation\n",
    "\n",
    "One of the downsides of relying on $R^2$ too much is that although it tells you when you're fitting the data well, it doesn't tell you when you're *overfitting* the data. The best way to tell if you're overfitting the data is to get some data that your model hasn't seen yet, and evaluate how your predictions do. This is essentially what \"model validation\" is."
   ]
  },
  {
   "cell_type": "markdown",
   "metadata": {},
   "source": [
    "# Why is Linear Regression so Important?\n",
    "\n",
    "## Popularity \n",
    "\n",
    "Linear Regression is an extremely popular technique that every data scientist **needs** to understand. It's not the most advanced technique and there are supervised learning techniques that will obtain a higher accuracy, but where it lacks in accuracy it makes up for it in interpretability and simplicity.\n",
    "\n",
    "## Interpretability\n",
    "\n",
    "Few other models possess coefficients that are so directly linked to their variables with a such a clear interpretation. Tomorrow we're going to learn about ways to make them even easier to interpret.\n",
    "\n",
    "## Simplicity\n",
    "\n",
    "A linear regression model can be communicated just by writing out its equation. It's kind of incredible that such high dimensional relationships can be described from just a linear combination of variables and coefficients. "
   ]
  }
 ],
 "metadata": {
  "kernelspec": {
   "display_name": "Python 3",
   "language": "python",
   "name": "python3"
  },
  "language_info": {
   "codemirror_mode": {
    "name": "ipython",
    "version": 3
   },
   "file_extension": ".py",
   "mimetype": "text/x-python",
   "name": "python",
   "nbconvert_exporter": "python",
   "pygments_lexer": "ipython3",
   "version": "3.6.8"
  }
 },
 "nbformat": 4,
 "nbformat_minor": 2
}
