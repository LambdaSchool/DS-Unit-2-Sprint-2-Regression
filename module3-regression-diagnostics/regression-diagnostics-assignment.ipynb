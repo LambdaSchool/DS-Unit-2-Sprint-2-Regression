{
  "nbformat": 4,
  "nbformat_minor": 0,
  "metadata": {
    "colab": {
      "name": "Model Diagnostics Assignment.ipynb",
      "version": "0.3.2",
      "provenance": []
    },
    "language_info": {
      "codemirror_mode": {
        "name": "ipython",
        "version": 3
      },
      "file_extension": ".py",
      "mimetype": "text/x-python",
      "name": "python",
      "nbconvert_exporter": "python",
      "pygments_lexer": "ipython3",
      "version": "3.7.1"
    },
    "kernelspec": {
      "display_name": "Python 3",
      "language": "python",
      "name": "python3"
    }
  },
  "cells": [
    {
      "metadata": {
        "colab_type": "text",
        "id": "pTkoSVmLhAZx"
      },
      "cell_type": "markdown",
      "source": [
        "# Regression Diagnostics\n",
        "\n",
        "The purpose of this assigment is introduce you to a new library for linear regression called statmodels which is much better suited for inferential modeling than sklearn. This assignment is also to familiarize yourself with some of most important procedures for improving the interpretability of regression coefficients. You will also perform important statistical tests that will help establish that whether or not important assumptions that safeguard the interpretability of OLS coefficients have been met. \n",
        "\n",
        "We will continue to use the Ames Housing Dataset so that you can focus on the techniques and not on cleaning/getting associated with a brand new dataset."
      ]
    },
    {
      "metadata": {
        "id": "RboueFtM6UmZ",
        "colab_type": "code",
        "colab": {}
      },
      "cell_type": "code",
      "source": [
        "import pandas as pd\n",
        "import numpy as np\n",
        "import matplotlib.pyplot as plt\n",
        "import seaborn as sns\n",
        "from sklearn.linear_model import LinearRegression\n",
        "from sklearn.metrics import mean_absolute_error, mean_squared_error, r2_score\n",
        "from sklearn.model_selection import train_test_split\n",
        "import statsmodels.api as sm\n",
        "from scipy import stats\n",
        "\n",
        "pd.set_option('display.max_columns', 500)\n",
        "pd.set_option('display.max_rows', 500)\n",
        "df = pd.read_csv('https://raw.githubusercontent.com/ryanleeallred/datasets/master/Ames%20Housing%20Data/train.csv')"
      ],
      "execution_count": 0,
      "outputs": []
    },
    {
      "metadata": {
        "id": "-kkvgqaz7jOr",
        "colab_type": "code",
        "colab": {}
      },
      "cell_type": "code",
      "source": [
        "df['ExterQual'] = df['ExterQual'].replace({'Ex': 4, 'Gd': 3, 'TA':2, 'Fa':1, 'Po':0})\n",
        "df['ExterCond'] = df['ExterCond'].replace({'Ex': 4, 'Gd': 3, 'TA':2, 'Fa':1, 'Po':0})\n",
        "df['BsmtQual'] = df['BsmtQual'].replace({'Ex': 5, 'Gd': 4, 'TA':3, 'Fa':2, 'Po':1, np.nan:0})\n",
        "df['BsmtCond'] = df['BsmtCond'].replace({'Ex': 5, 'Gd': 4, 'TA':3, 'Fa':2, 'Po':1, np.nan:0})\n",
        "df['BsmtFinType1'] = df['BsmtFinType1'].replace({'GLQ': 6, 'ALQ': 5, 'BLQ': 4, 'Rec':3, 'LwQ':2, 'Unf':1, np.nan:0})\n",
        "df['BsmtFinType2'] = df['BsmtFinType2'].replace({'GLQ': 6, 'ALQ': 5, 'BLQ': 4, 'Rec':3, 'LwQ':2, 'Unf':1, np.nan:0})\n",
        "df['HeatingQC'] = df['HeatingQC'].replace({'Ex': 4, 'Gd': 3, 'TA':2, 'Fa':1, 'Po':0})\n",
        "df['CentralAir'] = df['ExterQual'].replace({'No':0, 'Yes':1})\n",
        "df['KitchenQual'] = df['KitchenQual'].replace({'Ex': 4, 'Gd': 3, 'TA':2, 'Fa':1, 'Po':0})\n",
        "df['FireplaceQu'] = df['FireplaceQu'].replace({'Ex': 5, 'Gd': 4, 'TA':3, 'Fa':2, 'Po':1, np.nan:0})\n",
        "df['GarageQual'] = df['GarageQual'].replace({'Ex': 5, 'Gd': 4, 'TA':3, 'Fa':2, 'Po':1, np.nan:0})\n",
        "df['GarageCond'] = df['GarageCond'].replace({'Ex': 5, 'Gd': 4, 'TA':3, 'Fa':2, 'Po':1, np.nan:0})\n",
        "df['PoolQC'] = df['PoolQC'].replace({'Ex': 5, 'Gd': 4, 'TA':3, 'Fa':2, np.nan:0})"
      ],
      "execution_count": 0,
      "outputs": []
    },
    {
      "metadata": {
        "id": "tbR7ify57ool",
        "colab_type": "code",
        "colab": {}
      },
      "cell_type": "code",
      "source": [
        "df['GarageYrBlt'] = df['GarageYrBlt'].replace(np.nan,df['YearBuilt'])"
      ],
      "execution_count": 0,
      "outputs": []
    },
    {
      "metadata": {
        "id": "OQO85Tia8FGO",
        "colab_type": "code",
        "colab": {}
      },
      "cell_type": "code",
      "source": [
        "df['ln_price'] = np.log(df['SalePrice'])"
      ],
      "execution_count": 0,
      "outputs": []
    },
    {
      "metadata": {
        "id": "wanYnYGk9rlQ",
        "colab_type": "code",
        "colab": {}
      },
      "cell_type": "code",
      "source": [
        "df_test = df"
      ],
      "execution_count": 0,
      "outputs": []
    },
    {
      "metadata": {
        "id": "ZNU4ncmB9nWp",
        "colab_type": "code",
        "colab": {}
      },
      "cell_type": "code",
      "source": [
        "## features engineered\n",
        "df_test['GarageCars_Squared'] = df_test['GarageCars']**2\n",
        "df_test['BsmtFinSF1_Squared'] = df_test['BsmtFinSF1']**2\n",
        "df_test['BsmtQual_Squared'] = df_test['BsmtQual']**2\n",
        "df_test['GarageYrBlt_Squared'] = df_test['GarageYrBlt']**2\n",
        "df_test['age_at_time_sold'] = df_test['YrSold'] - df_test['YearBuilt']\n",
        "df_test['total_area'] = (\n",
        "    df_test['GarageArea'] + df_test['GrLivArea'] +df_test['TotalBsmtSF']\n",
        "                        )\n",
        "df_test['size_yard'] = df_test['LotArea'] - df_test['GrLivArea']\n",
        "df_test['yard_int_liv'] = df_test['size_yard'] * df_test['GrLivArea']\n",
        "df_test['qual_garage_int_bsmt'] = df_test['GarageQual'] * df_test['BsmtQual']\n",
        "df_test['qual_exter_int_kitchen'] = df_test['ExterQual'] * df_test['KitchenQual']\n",
        "df_test['total_rooms_bathrooms'] = df_test['TotRmsAbvGrd'] + df_test['FullBath']\n",
        "df_test['Remodeled'] = (df_test['YearRemodAdd'] != df_test['YearBuilt']) * 1\n",
        "df_test['RecentRemodel'] = (df_test['YearRemodAdd'] == df_test['YrSold']) * 1"
      ],
      "execution_count": 0,
      "outputs": []
    },
    {
      "metadata": {
        "colab_type": "text",
        "id": "yb24I_Y0iC4M"
      },
      "cell_type": "markdown",
      "source": [
        "## 1.1 Choose an X and Y variable from your dataset and use them to create a Seaborn Regplot"
      ]
    },
    {
      "metadata": {
        "colab_type": "code",
        "id": "N0NCgQkHie-r",
        "colab": {
          "base_uri": "https://localhost:8080/",
          "height": 301
        },
        "outputId": "f88818a4-c8ae-4b4f-f38d-ac223135e6a1"
      },
      "cell_type": "code",
      "source": [
        "sns.regplot(df['ln_price'], df['OverallQual'])\n",
        "\n"
      ],
      "execution_count": 69,
      "outputs": [
        {
          "output_type": "execute_result",
          "data": {
            "text/plain": [
              "<matplotlib.axes._subplots.AxesSubplot at 0x7f5d1d1538d0>"
            ]
          },
          "metadata": {
            "tags": []
          },
          "execution_count": 69
        },
        {
          "output_type": "display_data",
          "data": {
            "image/png": "[encoded data removed]",
            "text/plain": [
              "<Figure size 432x288 with 1 Axes>"
            ]
          },
          "metadata": {
            "tags": []
          }
        }
      ]
    },
    {
      "metadata": {
        "colab_type": "text",
        "id": "cgbsV7K5igH1"
      },
      "cell_type": "markdown",
      "source": [
        "## 1.2 Now using the X variables that you feel like will be the best predictors of y use statsmodel to run the multiple regression between these variables and Y. You don't need to use every X variable in your dataset, in fact it's probably better if you don't. Just pick ones that you have already cleaned that seem the most relevant to house prices."
      ]
    },
    {
      "metadata": {
        "colab_type": "code",
        "id": "ar3WCTGTg5RZ",
        "colab": {}
      },
      "cell_type": "code",
      "source": [
        "target = 'ln_price'\n",
        "features = ['TotRmsAbvGrd', 'MSSubClass', 'LotArea', 'OverallQual', 'BsmtQual',\n",
        "           'GarageCars', 'PoolArea', 'age_at_time_sold', 'total_area', 'Remodeled',\n",
        "           'RecentRemodel', 'GrLivArea']\n",
        "\n",
        "X = df_test[features]\n",
        "y = df_test[target]"
      ],
      "execution_count": 0,
      "outputs": []
    },
    {
      "metadata": {
        "id": "eie-szRH-QQZ",
        "colab_type": "code",
        "colab": {
          "base_uri": "https://localhost:8080/",
          "height": 737
        },
        "outputId": "5ed91ad0-50a7-4887-ccc0-50f88576bb4d"
      },
      "cell_type": "code",
      "source": [
        "model = sm.OLS(y, sm.add_constant(X))\n",
        "results = model.fit()\n",
        "print(results.summary())"
      ],
      "execution_count": 85,
      "outputs": [
        {
          "output_type": "stream",
          "text": [
            "                            OLS Regression Results                            \n",
            "==============================================================================\n",
            "Dep. Variable:               ln_price   R-squared:                       0.829\n",
            "Model:                            OLS   Adj. R-squared:                  0.827\n",
            "Method:                 Least Squares   F-statistic:                     583.9\n",
            "Date:                Wed, 01 May 2019   Prob (F-statistic):               0.00\n",
            "Time:                        20:17:12   Log-Likelihood:                 557.22\n",
            "No. Observations:                1460   AIC:                            -1088.\n",
            "Df Residuals:                    1447   BIC:                            -1020.\n",
            "Df Model:                          12                                         \n",
            "Covariance Type:            nonrobust                                         \n",
            "====================================================================================\n",
            "                       coef    std err          t      P>|t|      [0.025      0.975]\n",
            "------------------------------------------------------------------------------------\n",
            "const               10.7974      0.037    294.062      0.000      10.725      10.869\n",
            "TotRmsAbvGrd         0.0041      0.005      0.825      0.409      -0.006       0.014\n",
            "MSSubClass          -0.0008      0.000     -6.920      0.000      -0.001      -0.001\n",
            "LotArea           3.147e-06   4.66e-07      6.746      0.000    2.23e-06    4.06e-06\n",
            "OverallQual          0.0989      0.005     18.670      0.000       0.089       0.109\n",
            "BsmtQual             0.0378      0.007      5.092      0.000       0.023       0.052\n",
            "GarageCars           0.0660      0.009      7.609      0.000       0.049       0.083\n",
            "PoolArea            -0.0003      0.000     -2.349      0.019      -0.000   -4.31e-05\n",
            "age_at_time_sold    -0.0025      0.000    -10.704      0.000      -0.003      -0.002\n",
            "total_area        5.409e-05    1.3e-05      4.159      0.000    2.86e-05    7.96e-05\n",
            "Remodeled            0.0269      0.010      2.664      0.008       0.007       0.047\n",
            "RecentRemodel        0.0111      0.017      0.648      0.517      -0.022       0.045\n",
            "GrLivArea            0.0002    2.5e-05      7.172      0.000       0.000       0.000\n",
            "==============================================================================\n",
            "Omnibus:                      890.828   Durbin-Watson:                   1.972\n",
            "Prob(Omnibus):                  0.000   Jarque-Bera (JB):            26166.746\n",
            "Skew:                          -2.326   Prob(JB):                         0.00\n",
            "Kurtosis:                      23.211   Cond. No.                     1.26e+05\n",
            "==============================================================================\n",
            "\n",
            "Warnings:\n",
            "[1] Standard Errors assume that the covariance matrix of the errors is correctly specified.\n",
            "[2] The condition number is large, 1.26e+05. This might indicate that there are\n",
            "strong multicollinearity or other numerical problems.\n"
          ],
          "name": "stdout"
        },
        {
          "output_type": "stream",
          "text": [
            "/usr/local/lib/python3.6/dist-packages/numpy/core/fromnumeric.py:2389: FutureWarning: Method .ptp is deprecated and will be removed in a future version. Use numpy.ptp instead.\n",
            "  return ptp(axis=axis, out=out, **kwargs)\n"
          ],
          "name": "stderr"
        }
      ]
    },
    {
      "metadata": {
        "colab_type": "text",
        "id": "6YR3PgK8jA8t"
      },
      "cell_type": "markdown",
      "source": [
        "## 1.3 Identify the standard errors and P-Values of these coefficients in the output table. What is the interpretation of the P-values here?"
      ]
    },
    {
      "metadata": {
        "colab_type": "code",
        "id": "0XvwOWlUjPyf",
        "colab": {}
      },
      "cell_type": "code",
      "source": [
        "## The p-values of the coefficients determine if the coefficients are statistically significant"
      ],
      "execution_count": 0,
      "outputs": []
    },
    {
      "metadata": {
        "colab_type": "text",
        "id": "6DREQUkmjQKM"
      },
      "cell_type": "markdown",
      "source": [
        "## 1.4 Remove outliers from your dataset and run the regression again. Do you see a change in some coefficients? Which seem to move the most?"
      ]
    },
    {
      "metadata": {
        "colab_type": "code",
        "id": "K6yJ9c12jXvC",
        "colab": {}
      },
      "cell_type": "code",
      "source": [
        "df_numbers = df_test[['ln_price', 'TotRmsAbvGrd', 'MSSubClass', 'LotArea', 'OverallQual', 'BsmtQual',\n",
        "           'GarageCars', 'PoolArea', 'age_at_time_sold', 'total_area', 'Remodeled',\n",
        "           'RecentRemodel', 'GrLivArea']]\n",
        "\n",
        "df_numbers = df_numbers[(np.abs(stats.zscore(df_numbers)) < 3).all(axis=1)]"
      ],
      "execution_count": 0,
      "outputs": []
    },
    {
      "metadata": {
        "id": "l7QXPvMdCB_-",
        "colab_type": "code",
        "colab": {
          "base_uri": "https://localhost:8080/",
          "height": 34
        },
        "outputId": "be951388-5ce2-4830-de30-d088175ef6be"
      },
      "cell_type": "code",
      "source": [
        "df_numbers.shape, df_test[['ln_price', 'TotRmsAbvGrd', 'MSSubClass', 'LotArea', 'OverallQual', 'BsmtQual',\n",
        "           'GarageCars', 'PoolArea', 'age_at_time_sold', 'total_area', 'Remodeled',\n",
        "           'RecentRemodel','GrLivArea']].shape"
      ],
      "execution_count": 87,
      "outputs": [
        {
          "output_type": "execute_result",
          "data": {
            "text/plain": [
              "((1229, 13), (1460, 13))"
            ]
          },
          "metadata": {
            "tags": []
          },
          "execution_count": 87
        }
      ]
    },
    {
      "metadata": {
        "id": "L3536m_AA9f6",
        "colab_type": "code",
        "colab": {
          "base_uri": "https://localhost:8080/",
          "height": 737
        },
        "outputId": "b0266a88-41bb-41ea-d3cd-f2771cad5843"
      },
      "cell_type": "code",
      "source": [
        "target = 'ln_price'\n",
        "features = ['TotRmsAbvGrd', 'MSSubClass', 'LotArea', 'OverallQual', 'BsmtQual',\n",
        "           'GarageCars', 'PoolArea', 'age_at_time_sold', 'total_area', 'Remodeled',\n",
        "           'RecentRemodel', 'GrLivArea']\n",
        "\n",
        "X = df_numbers[features]\n",
        "y = df_numbers[target]\n",
        "\n",
        "model = sm.OLS(y, sm.add_constant(X))\n",
        "print(results.summary())\n"
      ],
      "execution_count": 88,
      "outputs": [
        {
          "output_type": "stream",
          "text": [
            "                            OLS Regression Results                            \n",
            "==============================================================================\n",
            "Dep. Variable:               ln_price   R-squared:                       0.829\n",
            "Model:                            OLS   Adj. R-squared:                  0.827\n",
            "Method:                 Least Squares   F-statistic:                     583.9\n",
            "Date:                Wed, 01 May 2019   Prob (F-statistic):               0.00\n",
            "Time:                        20:17:59   Log-Likelihood:                 557.22\n",
            "No. Observations:                1460   AIC:                            -1088.\n",
            "Df Residuals:                    1447   BIC:                            -1020.\n",
            "Df Model:                          12                                         \n",
            "Covariance Type:            nonrobust                                         \n",
            "====================================================================================\n",
            "                       coef    std err          t      P>|t|      [0.025      0.975]\n",
            "------------------------------------------------------------------------------------\n",
            "const               10.7974      0.037    294.062      0.000      10.725      10.869\n",
            "TotRmsAbvGrd         0.0041      0.005      0.825      0.409      -0.006       0.014\n",
            "MSSubClass          -0.0008      0.000     -6.920      0.000      -0.001      -0.001\n",
            "LotArea           3.147e-06   4.66e-07      6.746      0.000    2.23e-06    4.06e-06\n",
            "OverallQual          0.0989      0.005     18.670      0.000       0.089       0.109\n",
            "BsmtQual             0.0378      0.007      5.092      0.000       0.023       0.052\n",
            "GarageCars           0.0660      0.009      7.609      0.000       0.049       0.083\n",
            "PoolArea            -0.0003      0.000     -2.349      0.019      -0.000   -4.31e-05\n",
            "age_at_time_sold    -0.0025      0.000    -10.704      0.000      -0.003      -0.002\n",
            "total_area        5.409e-05    1.3e-05      4.159      0.000    2.86e-05    7.96e-05\n",
            "Remodeled            0.0269      0.010      2.664      0.008       0.007       0.047\n",
            "RecentRemodel        0.0111      0.017      0.648      0.517      -0.022       0.045\n",
            "GrLivArea            0.0002    2.5e-05      7.172      0.000       0.000       0.000\n",
            "==============================================================================\n",
            "Omnibus:                      890.828   Durbin-Watson:                   1.972\n",
            "Prob(Omnibus):                  0.000   Jarque-Bera (JB):            26166.746\n",
            "Skew:                          -2.326   Prob(JB):                         0.00\n",
            "Kurtosis:                      23.211   Cond. No.                     1.26e+05\n",
            "==============================================================================\n",
            "\n",
            "Warnings:\n",
            "[1] Standard Errors assume that the covariance matrix of the errors is correctly specified.\n",
            "[2] The condition number is large, 1.26e+05. This might indicate that there are\n",
            "strong multicollinearity or other numerical problems.\n"
          ],
          "name": "stdout"
        },
        {
          "output_type": "stream",
          "text": [
            "/usr/local/lib/python3.6/dist-packages/numpy/core/fromnumeric.py:2389: FutureWarning: Method .ptp is deprecated and will be removed in a future version. Use numpy.ptp instead.\n",
            "  return ptp(axis=axis, out=out, **kwargs)\n"
          ],
          "name": "stderr"
        }
      ]
    },
    {
      "metadata": {
        "colab_type": "text",
        "id": "YR2zFM3ajX2O"
      },
      "cell_type": "markdown",
      "source": [
        "## 1.5 Create a new log(y) variable and use it to run a log-linear regression of your variables using statmodels "
      ]
    },
    {
      "metadata": {
        "colab_type": "code",
        "id": "G3ISRRvwjwkr",
        "colab": {}
      },
      "cell_type": "code",
      "source": [
        "## already did it."
      ],
      "execution_count": 0,
      "outputs": []
    },
    {
      "metadata": {
        "colab_type": "text",
        "id": "PVRSM3p1jwyu"
      },
      "cell_type": "markdown",
      "source": [
        "## 2.1 Run a test for high levels of collinearity in your dataset. Calculate the Variance Inflation Factor for each X variable. Do you see VIF values greater than ten? If so try omitting those X variables and run your regression again. Do the standard errors change? Do the coefficients change? Do the coefficients seem to have an interpretation that matches your intuition?"
      ]
    },
    {
      "metadata": {
        "colab_type": "code",
        "id": "I_Q9_rx6kQzM",
        "colab": {}
      },
      "cell_type": "code",
      "source": [
        "##### Your Code Here #####"
      ],
      "execution_count": 0,
      "outputs": []
    },
    {
      "metadata": {
        "colab_type": "text",
        "id": "I7EJafYokQ9Z"
      },
      "cell_type": "markdown",
      "source": [
        "## 2.2 Variables that have high levels of multicollinearity should also be highly correlated with each other. Calculate your X matrix's correlation matrix to check if the variables highlighted by the VIF test truly are highly correlated."
      ]
    },
    {
      "metadata": {
        "colab_type": "code",
        "id": "sxOW6Y5EkoCG",
        "colab": {}
      },
      "cell_type": "code",
      "source": [
        "##### Your Code Here #####"
      ],
      "execution_count": 0,
      "outputs": []
    },
    {
      "metadata": {
        "colab_type": "text",
        "id": "pekJWvLzkoRu"
      },
      "cell_type": "markdown",
      "source": [
        "## 2.3 If you have variables with high Variance Inflation Factors, try excluding them from your regression. Do your standard errors improve? (get smaller). If high levels of multicollinearity are removed, the precision of the dataset should increase."
      ]
    },
    {
      "metadata": {
        "colab_type": "code",
        "id": "3RsG6Fo2p1v7",
        "colab": {}
      },
      "cell_type": "code",
      "source": [
        "##### Your Code Here #####"
      ],
      "execution_count": 0,
      "outputs": []
    },
    {
      "metadata": {
        "colab_type": "text",
        "id": "AH_XQh5mp1E2"
      },
      "cell_type": "markdown",
      "source": [
        "## 2.4 Recalculate your regression using Robust Standard Errors? What happens to your standard errors?"
      ]
    },
    {
      "metadata": {
        "colab_type": "code",
        "id": "JdQ3N-vRktaY",
        "colab": {}
      },
      "cell_type": "code",
      "source": [
        "##### Your Code Here #####"
      ],
      "execution_count": 0,
      "outputs": []
    },
    {
      "metadata": {
        "colab_type": "text",
        "id": "Bsq_CRqOpBSy"
      },
      "cell_type": "markdown",
      "source": [
        "## 2.5 Use scatterplots or Seaborn's pairplot functionality to perform an eyeball test for potential variables that would be candidates for generating polynomial regressors. "
      ]
    },
    {
      "metadata": {
        "colab_type": "code",
        "id": "jGkD_XIBpcSj",
        "colab": {}
      },
      "cell_type": "code",
      "source": [
        "##### Your Code Here #####"
      ],
      "execution_count": 0,
      "outputs": []
    },
    {
      "metadata": {
        "colab_type": "text",
        "id": "Tg3nQP3YpcxJ"
      },
      "cell_type": "markdown",
      "source": [
        "## 2.6 Use seaborn's residplot to plot the distribution of each x variable's residuals. Does these plots indicate any other features that would be potential candidates for polynomial features."
      ]
    },
    {
      "metadata": {
        "colab_type": "code",
        "id": "d7EDAAI0psaE",
        "colab": {}
      },
      "cell_type": "code",
      "source": [
        "##### Your Code Here #####"
      ],
      "execution_count": 0,
      "outputs": []
    },
    {
      "metadata": {
        "colab_type": "text",
        "id": "W0Y0wPNAps68"
      },
      "cell_type": "markdown",
      "source": [
        "## 2.6 Feature Engineer the appropriate polynomial features from your analysis above and include them in one final log-polynomial, robust standard error, regression. Do the coefficients of this most advanced regression match your intuition better than the coefficients of the very first regression that we ran with the Statmodels library?"
      ]
    },
    {
      "metadata": {
        "colab_type": "code",
        "id": "eaPcNaNaqVAj",
        "colab": {}
      },
      "cell_type": "code",
      "source": [
        "##### Your Code Here #####"
      ],
      "execution_count": 0,
      "outputs": []
    },
    {
      "metadata": {
        "colab_type": "text",
        "id": "MaNLIAtW9XDp"
      },
      "cell_type": "markdown",
      "source": [
        "# Stretch Goals\n",
        "\n",
        "- Research the assumptions that are required for OLS to be BLUE the \"Best Linear Unbiased Estimator\". You might try searching and trying to understand the conditions of what's called the Gauss-Markov Theorem.\n",
        "- Research other diagnostic tests. Can you show that residuals are normally distributed graphically?\n",
        "- Write a blog post about inferential modeling using linear regression."
      ]
    }
  ]
}